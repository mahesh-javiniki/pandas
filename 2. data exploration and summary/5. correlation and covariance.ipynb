{
 "cells": [
  {
   "cell_type": "markdown",
   "id": "4e540a87",
   "metadata": {},
   "source": [
    "# Data Exploration and Summary"
   ]
  },
  {
   "cell_type": "markdown",
   "id": "229f4d78",
   "metadata": {},
   "source": [
    "## 5. Correlation & Covariance"
   ]
  },
  {
   "cell_type": "code",
   "execution_count": 1,
   "id": "8276bf63",
   "metadata": {},
   "outputs": [],
   "source": [
    "import pandas as pd"
   ]
  },
  {
   "cell_type": "markdown",
   "id": "9ed0a8da",
   "metadata": {},
   "source": [
    "\n",
    "These techniques help you **understand relationships between numerical variables**. They are essential for:\n",
    "\n",
    "* **Feature selection**\n",
    "* **Multicollinearity detection**\n",
    "* **Understanding variable influence**\n",
    "\n",
    "---\n",
    "\n",
    "### 📌 Key Concepts\n",
    "\n",
    "| Concept         | Meaning                                                                                                       |\n",
    "| --------------- | ------------------------------------------------------------------------------------------------------------- |\n",
    "| **Correlation** | Measures the **strength and direction** of a linear relationship between two variables. Ranges from -1 to +1. |\n",
    "| **Covariance**  | Measures the **direction** of relationship (but not strength) between two variables. Can be any real number.  |\n",
    "\n",
    "---"
   ]
  },
  {
   "cell_type": "code",
   "execution_count": 2,
   "id": "da67539c",
   "metadata": {},
   "outputs": [
    {
     "data": {
      "text/html": [
       "<div>\n",
       "<style scoped>\n",
       "    .dataframe tbody tr th:only-of-type {\n",
       "        vertical-align: middle;\n",
       "    }\n",
       "\n",
       "    .dataframe tbody tr th {\n",
       "        vertical-align: top;\n",
       "    }\n",
       "\n",
       "    .dataframe thead th {\n",
       "        text-align: right;\n",
       "    }\n",
       "</style>\n",
       "<table border=\"1\" class=\"dataframe\">\n",
       "  <thead>\n",
       "    <tr style=\"text-align: right;\">\n",
       "      <th></th>\n",
       "      <th>Math</th>\n",
       "      <th>Science</th>\n",
       "      <th>English</th>\n",
       "    </tr>\n",
       "  </thead>\n",
       "  <tbody>\n",
       "    <tr>\n",
       "      <th>0</th>\n",
       "      <td>88</td>\n",
       "      <td>85</td>\n",
       "      <td>75</td>\n",
       "    </tr>\n",
       "    <tr>\n",
       "      <th>1</th>\n",
       "      <td>92</td>\n",
       "      <td>90</td>\n",
       "      <td>85</td>\n",
       "    </tr>\n",
       "    <tr>\n",
       "      <th>2</th>\n",
       "      <td>80</td>\n",
       "      <td>78</td>\n",
       "      <td>72</td>\n",
       "    </tr>\n",
       "    <tr>\n",
       "      <th>3</th>\n",
       "      <td>89</td>\n",
       "      <td>88</td>\n",
       "      <td>90</td>\n",
       "    </tr>\n",
       "    <tr>\n",
       "      <th>4</th>\n",
       "      <td>100</td>\n",
       "      <td>95</td>\n",
       "      <td>100</td>\n",
       "    </tr>\n",
       "  </tbody>\n",
       "</table>\n",
       "</div>"
      ],
      "text/plain": [
       "   Math  Science  English\n",
       "0    88       85       75\n",
       "1    92       90       85\n",
       "2    80       78       72\n",
       "3    89       88       90\n",
       "4   100       95      100"
      ]
     },
     "execution_count": 2,
     "metadata": {},
     "output_type": "execute_result"
    }
   ],
   "source": [
    "data = {\n",
    "    'Math': [88, 92, 80, 89, 100],\n",
    "    'Science': [85, 90, 78, 88, 95],\n",
    "    'English': [75, 85, 72, 90, 100]\n",
    "}\n",
    "\n",
    "df = pd.DataFrame(data)\n",
    "df"
   ]
  },
  {
   "cell_type": "markdown",
   "id": "03495bbf",
   "metadata": {},
   "source": [
    "### 1. `df.corr()` – Correlation Matrix\n",
    "Returns the **Pearson correlation coefficient** by default for **all numeric columns**."
   ]
  },
  {
   "cell_type": "code",
   "execution_count": 4,
   "id": "ed5a47f7",
   "metadata": {},
   "outputs": [
    {
     "data": {
      "text/html": [
       "<div>\n",
       "<style scoped>\n",
       "    .dataframe tbody tr th:only-of-type {\n",
       "        vertical-align: middle;\n",
       "    }\n",
       "\n",
       "    .dataframe tbody tr th {\n",
       "        vertical-align: top;\n",
       "    }\n",
       "\n",
       "    .dataframe thead th {\n",
       "        text-align: right;\n",
       "    }\n",
       "</style>\n",
       "<table border=\"1\" class=\"dataframe\">\n",
       "  <thead>\n",
       "    <tr style=\"text-align: right;\">\n",
       "      <th></th>\n",
       "      <th>Math</th>\n",
       "      <th>Science</th>\n",
       "      <th>English</th>\n",
       "    </tr>\n",
       "  </thead>\n",
       "  <tbody>\n",
       "    <tr>\n",
       "      <th>Math</th>\n",
       "      <td>1.000000</td>\n",
       "      <td>0.984119</td>\n",
       "      <td>0.895867</td>\n",
       "    </tr>\n",
       "    <tr>\n",
       "      <th>Science</th>\n",
       "      <td>0.984119</td>\n",
       "      <td>1.000000</td>\n",
       "      <td>0.916305</td>\n",
       "    </tr>\n",
       "    <tr>\n",
       "      <th>English</th>\n",
       "      <td>0.895867</td>\n",
       "      <td>0.916305</td>\n",
       "      <td>1.000000</td>\n",
       "    </tr>\n",
       "  </tbody>\n",
       "</table>\n",
       "</div>"
      ],
      "text/plain": [
       "             Math   Science   English\n",
       "Math     1.000000  0.984119  0.895867\n",
       "Science  0.984119  1.000000  0.916305\n",
       "English  0.895867  0.916305  1.000000"
      ]
     },
     "execution_count": 4,
     "metadata": {},
     "output_type": "execute_result"
    }
   ],
   "source": [
    "df.corr()"
   ]
  },
  {
   "cell_type": "markdown",
   "id": "0855d204",
   "metadata": {},
   "source": [
    "#### ✅ Options in `.corr(method=...)`:\n",
    "\n",
    "| Method       | Description                                |\n",
    "| ------------ | ------------------------------------------ |\n",
    "| `'pearson'`  | Linear correlation (default)               |\n",
    "| `'kendall'`  | Rank correlation (non-parametric)          |\n",
    "| `'spearman'` | Rank correlation (more robust to outliers) |"
   ]
  },
  {
   "cell_type": "code",
   "execution_count": 5,
   "id": "b89c6bf9",
   "metadata": {},
   "outputs": [
    {
     "data": {
      "text/html": [
       "<div>\n",
       "<style scoped>\n",
       "    .dataframe tbody tr th:only-of-type {\n",
       "        vertical-align: middle;\n",
       "    }\n",
       "\n",
       "    .dataframe tbody tr th {\n",
       "        vertical-align: top;\n",
       "    }\n",
       "\n",
       "    .dataframe thead th {\n",
       "        text-align: right;\n",
       "    }\n",
       "</style>\n",
       "<table border=\"1\" class=\"dataframe\">\n",
       "  <thead>\n",
       "    <tr style=\"text-align: right;\">\n",
       "      <th></th>\n",
       "      <th>Math</th>\n",
       "      <th>Science</th>\n",
       "      <th>English</th>\n",
       "    </tr>\n",
       "  </thead>\n",
       "  <tbody>\n",
       "    <tr>\n",
       "      <th>Math</th>\n",
       "      <td>1.0</td>\n",
       "      <td>1.0</td>\n",
       "      <td>0.9</td>\n",
       "    </tr>\n",
       "    <tr>\n",
       "      <th>Science</th>\n",
       "      <td>1.0</td>\n",
       "      <td>1.0</td>\n",
       "      <td>0.9</td>\n",
       "    </tr>\n",
       "    <tr>\n",
       "      <th>English</th>\n",
       "      <td>0.9</td>\n",
       "      <td>0.9</td>\n",
       "      <td>1.0</td>\n",
       "    </tr>\n",
       "  </tbody>\n",
       "</table>\n",
       "</div>"
      ],
      "text/plain": [
       "         Math  Science  English\n",
       "Math      1.0      1.0      0.9\n",
       "Science   1.0      1.0      0.9\n",
       "English   0.9      0.9      1.0"
      ]
     },
     "execution_count": 5,
     "metadata": {},
     "output_type": "execute_result"
    }
   ],
   "source": [
    "df.corr(method='spearman')"
   ]
  },
  {
   "cell_type": "markdown",
   "id": "4a95e96d",
   "metadata": {},
   "source": [
    "#### ✅ Visualizing Correlation Matrix:"
   ]
  },
  {
   "cell_type": "code",
   "execution_count": null,
   "id": "ef8eae2b",
   "metadata": {},
   "outputs": [
    {
     "data": {
      "image/png": "[encoded data removed]",
      "text/plain": [
       "<Figure size 432x288 with 2 Axes>"
      ]
     },
     "metadata": {
      "needs_background": "light"
     },
     "output_type": "display_data"
    }
   ],
   "source": [
    "import seaborn as sns\n",
    "import matplotlib.pyplot as plt\n",
    "\n",
    "sns.heatmap(df.corr(), annot=True, cmap='coolwarm')\n",
    "plt.show()"
   ]
  },
  {
   "cell_type": "markdown",
   "id": "b72dd254",
   "metadata": {},
   "source": [
    "### 2. `df.cov()` – Covariance Matrix\n",
    "Shows how two variables **vary together** (scale-dependent). Larger values indicate stronger relationship, but **not standardized** like correlation."
   ]
  },
  {
   "cell_type": "code",
   "execution_count": 8,
   "id": "8de88c95",
   "metadata": {},
   "outputs": [
    {
     "data": {
      "text/html": [
       "<div>\n",
       "<style scoped>\n",
       "    .dataframe tbody tr th:only-of-type {\n",
       "        vertical-align: middle;\n",
       "    }\n",
       "\n",
       "    .dataframe tbody tr th {\n",
       "        vertical-align: top;\n",
       "    }\n",
       "\n",
       "    .dataframe thead th {\n",
       "        text-align: right;\n",
       "    }\n",
       "</style>\n",
       "<table border=\"1\" class=\"dataframe\">\n",
       "  <thead>\n",
       "    <tr style=\"text-align: right;\">\n",
       "      <th></th>\n",
       "      <th>Math</th>\n",
       "      <th>Science</th>\n",
       "      <th>English</th>\n",
       "    </tr>\n",
       "  </thead>\n",
       "  <tbody>\n",
       "    <tr>\n",
       "      <th>Math</th>\n",
       "      <td>52.2</td>\n",
       "      <td>44.80</td>\n",
       "      <td>73.60</td>\n",
       "    </tr>\n",
       "    <tr>\n",
       "      <th>Science</th>\n",
       "      <td>44.8</td>\n",
       "      <td>39.70</td>\n",
       "      <td>65.65</td>\n",
       "    </tr>\n",
       "    <tr>\n",
       "      <th>English</th>\n",
       "      <td>73.6</td>\n",
       "      <td>65.65</td>\n",
       "      <td>129.30</td>\n",
       "    </tr>\n",
       "  </tbody>\n",
       "</table>\n",
       "</div>"
      ],
      "text/plain": [
       "         Math  Science  English\n",
       "Math     52.2    44.80    73.60\n",
       "Science  44.8    39.70    65.65\n",
       "English  73.6    65.65   129.30"
      ]
     },
     "execution_count": 8,
     "metadata": {},
     "output_type": "execute_result"
    }
   ],
   "source": [
    "df.cov()"
   ]
  },
  {
   "cell_type": "markdown",
   "id": "dd3ced15",
   "metadata": {},
   "source": [
    "This matrix is symmetric — like correlation — but harder to interpret since it’s **in original units**."
   ]
  },
  {
   "cell_type": "markdown",
   "id": "fac9a4f8",
   "metadata": {},
   "source": [
    "### 🔸 Comparing Correlation vs. Covariance\n",
    "\n",
    "| Feature          | Correlation                            | Covariance                       |\n",
    "| ---------------- | -------------------------------------- | -------------------------------- |\n",
    "| Scale            | Standardized (between -1 and 1)        | Depends on data scale            |\n",
    "| Use Case         | Understanding **strength + direction** | Understanding **direction only** |\n",
    "| Interpretability | Easy                                   | Harder (needs context)           |\n",
    "\n",
    "---\n",
    "\n",
    "### 🔍 Real-Life Use Cases\n",
    "\n",
    "| Task                                     | Use                                             |\n",
    "| ---------------------------------------- | ----------------------------------------------- |\n",
    "| Identify redundant features              | Use `.corr()` and remove highly correlated cols |\n",
    "| Understand relationships in finance/data | Use `.cov()` for volatility estimation          |\n",
    "| Choose predictor variables for modeling  | Use `.corr()` for feature selection             |\n"
   ]
  },
  {
   "cell_type": "markdown",
   "id": "447da837",
   "metadata": {},
   "source": [
    "### ✅ Additional Tip: Correlation with One Column\n",
    "\n",
    "Want correlation of a single column with others?"
   ]
  },
  {
   "cell_type": "code",
   "execution_count": 10,
   "id": "13f474b8",
   "metadata": {},
   "outputs": [
    {
     "data": {
      "text/plain": [
       "Math       1.000000\n",
       "Science    0.984119\n",
       "English    0.895867\n",
       "dtype: float64"
      ]
     },
     "execution_count": 10,
     "metadata": {},
     "output_type": "execute_result"
    }
   ],
   "source": [
    "df.corrwith(df['Math'])"
   ]
  },
  {
   "cell_type": "markdown",
   "id": "4be8edfe",
   "metadata": {},
   "source": [
    "<center><b>Thanks</b></center>"
   ]
  }
 ],
 "metadata": {
  "kernelspec": {
   "display_name": "Python 3",
   "language": "python",
   "name": "python3"
  },
  "language_info": {
   "codemirror_mode": {
    "name": "ipython",
    "version": 3
   },
   "file_extension": ".py",
   "mimetype": "text/x-python",
   "name": "python",
   "nbconvert_exporter": "python",
   "pygments_lexer": "ipython3",
   "version": "3.10.2"
  }
 },
 "nbformat": 4,
 "nbformat_minor": 5
}
