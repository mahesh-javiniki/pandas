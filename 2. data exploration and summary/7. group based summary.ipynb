{
 "cells": [
  {
   "cell_type": "markdown",
   "id": "9b785848",
   "metadata": {},
   "source": [
    "# Data Exploration and Summary"
   ]
  },
  {
   "cell_type": "markdown",
   "id": "5783d9c4",
   "metadata": {},
   "source": [
    "## 7. Group Based Summary"
   ]
  },
  {
   "cell_type": "code",
   "execution_count": 1,
   "id": "56eec05f",
   "metadata": {},
   "outputs": [],
   "source": [
    "import pandas as pd \n",
    "import numpy as np "
   ]
  },
  {
   "cell_type": "markdown",
   "id": "1455b8a0",
   "metadata": {},
   "source": [
    "Group-based summary techniques help you **analyze subsets of your data** — like computing aggregate stats per category, pivoting the table to see multi-dimensional trends, and applying custom aggregations.\n",
    "\n",
    "These methods are **essential in real-world analysis** such as:\n",
    "\n",
    "* Aggregating sales by region\n",
    "* Calculating average scores by class\n",
    "* Analyzing customer behavior by gender\n",
    "\n",
    "---\n",
    "\n",
    "We’ll cover:\n",
    "\n",
    "1. `df.groupby()`\n",
    "2. `df.agg()`\n",
    "3. `df.transform()`\n",
    "4. `df.pivot_table()`"
   ]
  },
  {
   "cell_type": "code",
   "execution_count": 2,
   "id": "a27f00aa",
   "metadata": {},
   "outputs": [
    {
     "data": {
      "text/html": [
       "<div>\n",
       "<style scoped>\n",
       "    .dataframe tbody tr th:only-of-type {\n",
       "        vertical-align: middle;\n",
       "    }\n",
       "\n",
       "    .dataframe tbody tr th {\n",
       "        vertical-align: top;\n",
       "    }\n",
       "\n",
       "    .dataframe thead th {\n",
       "        text-align: right;\n",
       "    }\n",
       "</style>\n",
       "<table border=\"1\" class=\"dataframe\">\n",
       "  <thead>\n",
       "    <tr style=\"text-align: right;\">\n",
       "      <th></th>\n",
       "      <th>Department</th>\n",
       "      <th>Employee</th>\n",
       "      <th>Salary</th>\n",
       "      <th>Experience</th>\n",
       "    </tr>\n",
       "  </thead>\n",
       "  <tbody>\n",
       "    <tr>\n",
       "      <th>0</th>\n",
       "      <td>Sales</td>\n",
       "      <td>Alice</td>\n",
       "      <td>50000</td>\n",
       "      <td>3</td>\n",
       "    </tr>\n",
       "    <tr>\n",
       "      <th>1</th>\n",
       "      <td>Sales</td>\n",
       "      <td>Bob</td>\n",
       "      <td>60000</td>\n",
       "      <td>4</td>\n",
       "    </tr>\n",
       "    <tr>\n",
       "      <th>2</th>\n",
       "      <td>HR</td>\n",
       "      <td>Charlie</td>\n",
       "      <td>45000</td>\n",
       "      <td>2</td>\n",
       "    </tr>\n",
       "    <tr>\n",
       "      <th>3</th>\n",
       "      <td>HR</td>\n",
       "      <td>David</td>\n",
       "      <td>47000</td>\n",
       "      <td>3</td>\n",
       "    </tr>\n",
       "    <tr>\n",
       "      <th>4</th>\n",
       "      <td>IT</td>\n",
       "      <td>Eve</td>\n",
       "      <td>70000</td>\n",
       "      <td>5</td>\n",
       "    </tr>\n",
       "    <tr>\n",
       "      <th>5</th>\n",
       "      <td>IT</td>\n",
       "      <td>Frank</td>\n",
       "      <td>72000</td>\n",
       "      <td>6</td>\n",
       "    </tr>\n",
       "  </tbody>\n",
       "</table>\n",
       "</div>"
      ],
      "text/plain": [
       "  Department Employee  Salary  Experience\n",
       "0      Sales    Alice   50000           3\n",
       "1      Sales      Bob   60000           4\n",
       "2         HR  Charlie   45000           2\n",
       "3         HR    David   47000           3\n",
       "4         IT      Eve   70000           5\n",
       "5         IT    Frank   72000           6"
      ]
     },
     "execution_count": 2,
     "metadata": {},
     "output_type": "execute_result"
    }
   ],
   "source": [
    "data = {\n",
    "    'Department': ['Sales', 'Sales', 'HR', 'HR', 'IT', 'IT'],\n",
    "    'Employee': ['Alice', 'Bob', 'Charlie', 'David', 'Eve', 'Frank'],\n",
    "    'Salary': [50000, 60000, 45000, 47000, 70000, 72000],\n",
    "    'Experience': [3, 4, 2, 3, 5, 6]\n",
    "}\n",
    "\n",
    "df = pd.DataFrame(data)\n",
    "df"
   ]
  },
  {
   "cell_type": "markdown",
   "id": "de0c38e8",
   "metadata": {},
   "source": [
    "### 🔹 1. `df.groupby()` – Grouping and Aggregation"
   ]
  },
  {
   "cell_type": "markdown",
   "id": "71c7d9a4",
   "metadata": {},
   "source": [
    "A groupby operation involves some combination of splitting the object, applying a function, and combining the results. This can be used to group large amounts of data and compute operations on these groups."
   ]
  },
  {
   "cell_type": "markdown",
   "id": "41d3c57c",
   "metadata": {},
   "source": [
    "#### Group by one column:"
   ]
  },
  {
   "cell_type": "code",
   "execution_count": 5,
   "id": "202252f2",
   "metadata": {},
   "outputs": [
    {
     "data": {
      "text/plain": [
       "Department\n",
       "HR       46000.0\n",
       "IT       71000.0\n",
       "Sales    55000.0\n",
       "Name: Salary, dtype: float64"
      ]
     },
     "execution_count": 5,
     "metadata": {},
     "output_type": "execute_result"
    }
   ],
   "source": [
    "df.groupby('Department')['Salary'].mean()"
   ]
  },
  {
   "cell_type": "code",
   "execution_count": 9,
   "id": "5cf0457c",
   "metadata": {},
   "outputs": [
    {
     "data": {
      "text/plain": [
       "Department  Experience\n",
       "HR          2             45000\n",
       "            3             47000\n",
       "IT          5             70000\n",
       "            6             72000\n",
       "Sales       3             50000\n",
       "            4             60000\n",
       "Name: Salary, dtype: int64"
      ]
     },
     "execution_count": 9,
     "metadata": {},
     "output_type": "execute_result"
    }
   ],
   "source": [
    "df.groupby(['Department', 'Experience'])['Salary'].max()"
   ]
  },
  {
   "cell_type": "markdown",
   "id": "f142934e",
   "metadata": {},
   "source": [
    "Returns **multi-index** with average salaries per group."
   ]
  },
  {
   "cell_type": "markdown",
   "id": "676d8a69",
   "metadata": {},
   "source": [
    "### 2. `.agg()` – Aggregate with Custom Functions\n",
    "\n",
    "Apply one or more functions to grouped data."
   ]
  },
  {
   "cell_type": "markdown",
   "id": "cd2606f2",
   "metadata": {},
   "source": [
    "#### Single column, multiple functions:"
   ]
  },
  {
   "cell_type": "code",
   "execution_count": 12,
   "id": "f2766a28",
   "metadata": {},
   "outputs": [
    {
     "data": {
      "text/html": [
       "<div>\n",
       "<style scoped>\n",
       "    .dataframe tbody tr th:only-of-type {\n",
       "        vertical-align: middle;\n",
       "    }\n",
       "\n",
       "    .dataframe tbody tr th {\n",
       "        vertical-align: top;\n",
       "    }\n",
       "\n",
       "    .dataframe thead th {\n",
       "        text-align: right;\n",
       "    }\n",
       "</style>\n",
       "<table border=\"1\" class=\"dataframe\">\n",
       "  <thead>\n",
       "    <tr style=\"text-align: right;\">\n",
       "      <th></th>\n",
       "      <th>min</th>\n",
       "      <th>max</th>\n",
       "      <th>mean</th>\n",
       "    </tr>\n",
       "    <tr>\n",
       "      <th>Department</th>\n",
       "      <th></th>\n",
       "      <th></th>\n",
       "      <th></th>\n",
       "    </tr>\n",
       "  </thead>\n",
       "  <tbody>\n",
       "    <tr>\n",
       "      <th>HR</th>\n",
       "      <td>45000</td>\n",
       "      <td>47000</td>\n",
       "      <td>46000.0</td>\n",
       "    </tr>\n",
       "    <tr>\n",
       "      <th>IT</th>\n",
       "      <td>70000</td>\n",
       "      <td>72000</td>\n",
       "      <td>71000.0</td>\n",
       "    </tr>\n",
       "    <tr>\n",
       "      <th>Sales</th>\n",
       "      <td>50000</td>\n",
       "      <td>60000</td>\n",
       "      <td>55000.0</td>\n",
       "    </tr>\n",
       "  </tbody>\n",
       "</table>\n",
       "</div>"
      ],
      "text/plain": [
       "              min    max     mean\n",
       "Department                       \n",
       "HR          45000  47000  46000.0\n",
       "IT          70000  72000  71000.0\n",
       "Sales       50000  60000  55000.0"
      ]
     },
     "execution_count": 12,
     "metadata": {},
     "output_type": "execute_result"
    }
   ],
   "source": [
    "df.groupby('Department')['Salary'].agg(['min', 'max', 'mean'])"
   ]
  },
  {
   "cell_type": "markdown",
   "id": "88913c6a",
   "metadata": {},
   "source": [
    "#### Different functions for different columns:"
   ]
  },
  {
   "cell_type": "code",
   "execution_count": 18,
   "id": "b3a39c23",
   "metadata": {},
   "outputs": [
    {
     "data": {
      "text/html": [
       "<div>\n",
       "<style scoped>\n",
       "    .dataframe tbody tr th:only-of-type {\n",
       "        vertical-align: middle;\n",
       "    }\n",
       "\n",
       "    .dataframe tbody tr th {\n",
       "        vertical-align: top;\n",
       "    }\n",
       "\n",
       "    .dataframe thead tr th {\n",
       "        text-align: left;\n",
       "    }\n",
       "\n",
       "    .dataframe thead tr:last-of-type th {\n",
       "        text-align: right;\n",
       "    }\n",
       "</style>\n",
       "<table border=\"1\" class=\"dataframe\">\n",
       "  <thead>\n",
       "    <tr>\n",
       "      <th></th>\n",
       "      <th colspan=\"3\" halign=\"left\">Salary</th>\n",
       "      <th>Experience</th>\n",
       "    </tr>\n",
       "    <tr>\n",
       "      <th></th>\n",
       "      <th>min</th>\n",
       "      <th>mean</th>\n",
       "      <th>max</th>\n",
       "      <th>sum</th>\n",
       "    </tr>\n",
       "    <tr>\n",
       "      <th>Department</th>\n",
       "      <th></th>\n",
       "      <th></th>\n",
       "      <th></th>\n",
       "      <th></th>\n",
       "    </tr>\n",
       "  </thead>\n",
       "  <tbody>\n",
       "    <tr>\n",
       "      <th>HR</th>\n",
       "      <td>45000</td>\n",
       "      <td>46000.0</td>\n",
       "      <td>47000</td>\n",
       "      <td>5</td>\n",
       "    </tr>\n",
       "    <tr>\n",
       "      <th>IT</th>\n",
       "      <td>70000</td>\n",
       "      <td>71000.0</td>\n",
       "      <td>72000</td>\n",
       "      <td>11</td>\n",
       "    </tr>\n",
       "    <tr>\n",
       "      <th>Sales</th>\n",
       "      <td>50000</td>\n",
       "      <td>55000.0</td>\n",
       "      <td>60000</td>\n",
       "      <td>7</td>\n",
       "    </tr>\n",
       "  </tbody>\n",
       "</table>\n",
       "</div>"
      ],
      "text/plain": [
       "           Salary                 Experience\n",
       "              min     mean    max        sum\n",
       "Department                                  \n",
       "HR          45000  46000.0  47000          5\n",
       "IT          70000  71000.0  72000         11\n",
       "Sales       50000  55000.0  60000          7"
      ]
     },
     "execution_count": 18,
     "metadata": {},
     "output_type": "execute_result"
    }
   ],
   "source": [
    "df.groupby('Department').agg({\n",
    "    'Salary': ['min', 'mean', 'max'],\n",
    "    'Experience': 'sum'\n",
    "    }\n",
    ")"
   ]
  },
  {
   "cell_type": "markdown",
   "id": "246b323f",
   "metadata": {},
   "source": [
    "You can even use **named lambdas**:"
   ]
  },
  {
   "cell_type": "code",
   "execution_count": 13,
   "id": "1609d829",
   "metadata": {},
   "outputs": [
    {
     "data": {
      "text/html": [
       "<div>\n",
       "<style scoped>\n",
       "    .dataframe tbody tr th:only-of-type {\n",
       "        vertical-align: middle;\n",
       "    }\n",
       "\n",
       "    .dataframe tbody tr th {\n",
       "        vertical-align: top;\n",
       "    }\n",
       "\n",
       "    .dataframe thead th {\n",
       "        text-align: right;\n",
       "    }\n",
       "</style>\n",
       "<table border=\"1\" class=\"dataframe\">\n",
       "  <thead>\n",
       "    <tr style=\"text-align: right;\">\n",
       "      <th></th>\n",
       "      <th>avg_salary</th>\n",
       "      <th>total_exp</th>\n",
       "    </tr>\n",
       "    <tr>\n",
       "      <th>Department</th>\n",
       "      <th></th>\n",
       "      <th></th>\n",
       "    </tr>\n",
       "  </thead>\n",
       "  <tbody>\n",
       "    <tr>\n",
       "      <th>HR</th>\n",
       "      <td>46000.0</td>\n",
       "      <td>5</td>\n",
       "    </tr>\n",
       "    <tr>\n",
       "      <th>IT</th>\n",
       "      <td>71000.0</td>\n",
       "      <td>11</td>\n",
       "    </tr>\n",
       "    <tr>\n",
       "      <th>Sales</th>\n",
       "      <td>55000.0</td>\n",
       "      <td>7</td>\n",
       "    </tr>\n",
       "  </tbody>\n",
       "</table>\n",
       "</div>"
      ],
      "text/plain": [
       "            avg_salary  total_exp\n",
       "Department                       \n",
       "HR             46000.0          5\n",
       "IT             71000.0         11\n",
       "Sales          55000.0          7"
      ]
     },
     "execution_count": 13,
     "metadata": {},
     "output_type": "execute_result"
    }
   ],
   "source": [
    "df.groupby('Department').agg(\n",
    "    avg_salary=('Salary', 'mean'),\n",
    "    total_exp=('Experience', 'sum')\n",
    ")"
   ]
  },
  {
   "cell_type": "markdown",
   "id": "cbb5de62",
   "metadata": {},
   "source": [
    "### 3. `.transform()` – Transform but Keep Original Shape"
   ]
  },
  {
   "cell_type": "markdown",
   "id": "4559f0bc",
   "metadata": {},
   "source": [
    "Use when you want **to broadcast group-level values** back to original rows.\n",
    "\n",
    "Example: Assign each employee the **average salary of their department**."
   ]
  },
  {
   "cell_type": "code",
   "execution_count": 21,
   "id": "2eebd698",
   "metadata": {},
   "outputs": [
    {
     "data": {
      "text/html": [
       "<div>\n",
       "<style scoped>\n",
       "    .dataframe tbody tr th:only-of-type {\n",
       "        vertical-align: middle;\n",
       "    }\n",
       "\n",
       "    .dataframe tbody tr th {\n",
       "        vertical-align: top;\n",
       "    }\n",
       "\n",
       "    .dataframe thead th {\n",
       "        text-align: right;\n",
       "    }\n",
       "</style>\n",
       "<table border=\"1\" class=\"dataframe\">\n",
       "  <thead>\n",
       "    <tr style=\"text-align: right;\">\n",
       "      <th></th>\n",
       "      <th>Department</th>\n",
       "      <th>Employee</th>\n",
       "      <th>Salary</th>\n",
       "      <th>Experience</th>\n",
       "      <th>Average_salary_by_dept</th>\n",
       "    </tr>\n",
       "  </thead>\n",
       "  <tbody>\n",
       "    <tr>\n",
       "      <th>0</th>\n",
       "      <td>Sales</td>\n",
       "      <td>Alice</td>\n",
       "      <td>50000</td>\n",
       "      <td>3</td>\n",
       "      <td>55000.0</td>\n",
       "    </tr>\n",
       "    <tr>\n",
       "      <th>1</th>\n",
       "      <td>Sales</td>\n",
       "      <td>Bob</td>\n",
       "      <td>60000</td>\n",
       "      <td>4</td>\n",
       "      <td>55000.0</td>\n",
       "    </tr>\n",
       "    <tr>\n",
       "      <th>2</th>\n",
       "      <td>HR</td>\n",
       "      <td>Charlie</td>\n",
       "      <td>45000</td>\n",
       "      <td>2</td>\n",
       "      <td>46000.0</td>\n",
       "    </tr>\n",
       "    <tr>\n",
       "      <th>3</th>\n",
       "      <td>HR</td>\n",
       "      <td>David</td>\n",
       "      <td>47000</td>\n",
       "      <td>3</td>\n",
       "      <td>46000.0</td>\n",
       "    </tr>\n",
       "    <tr>\n",
       "      <th>4</th>\n",
       "      <td>IT</td>\n",
       "      <td>Eve</td>\n",
       "      <td>70000</td>\n",
       "      <td>5</td>\n",
       "      <td>71000.0</td>\n",
       "    </tr>\n",
       "    <tr>\n",
       "      <th>5</th>\n",
       "      <td>IT</td>\n",
       "      <td>Frank</td>\n",
       "      <td>72000</td>\n",
       "      <td>6</td>\n",
       "      <td>71000.0</td>\n",
       "    </tr>\n",
       "  </tbody>\n",
       "</table>\n",
       "</div>"
      ],
      "text/plain": [
       "  Department Employee  Salary  Experience  Average_salary_by_dept\n",
       "0      Sales    Alice   50000           3                 55000.0\n",
       "1      Sales      Bob   60000           4                 55000.0\n",
       "2         HR  Charlie   45000           2                 46000.0\n",
       "3         HR    David   47000           3                 46000.0\n",
       "4         IT      Eve   70000           5                 71000.0\n",
       "5         IT    Frank   72000           6                 71000.0"
      ]
     },
     "execution_count": 21,
     "metadata": {},
     "output_type": "execute_result"
    }
   ],
   "source": [
    "df['Average_salary_by_dept'] = df.groupby('Department')['Salary'].transform('mean')\n",
    "df"
   ]
  },
  {
   "cell_type": "markdown",
   "id": "b05befed",
   "metadata": {},
   "source": [
    "This **does not reduce** the number of rows."
   ]
  },
  {
   "cell_type": "markdown",
   "id": "52107be4",
   "metadata": {},
   "source": [
    "### 4. `pivot_table()` – Multi-Dimensional Aggregation\n",
    "\n",
    "More flexible than `groupby()` for **summary tables**."
   ]
  },
  {
   "cell_type": "code",
   "execution_count": 25,
   "id": "e5f55cb0",
   "metadata": {},
   "outputs": [
    {
     "data": {
      "text/html": [
       "<div>\n",
       "<style scoped>\n",
       "    .dataframe tbody tr th:only-of-type {\n",
       "        vertical-align: middle;\n",
       "    }\n",
       "\n",
       "    .dataframe tbody tr th {\n",
       "        vertical-align: top;\n",
       "    }\n",
       "\n",
       "    .dataframe thead th {\n",
       "        text-align: right;\n",
       "    }\n",
       "</style>\n",
       "<table border=\"1\" class=\"dataframe\">\n",
       "  <thead>\n",
       "    <tr style=\"text-align: right;\">\n",
       "      <th></th>\n",
       "      <th>Salary</th>\n",
       "    </tr>\n",
       "    <tr>\n",
       "      <th>Department</th>\n",
       "      <th></th>\n",
       "    </tr>\n",
       "  </thead>\n",
       "  <tbody>\n",
       "    <tr>\n",
       "      <th>HR</th>\n",
       "      <td>46000.0</td>\n",
       "    </tr>\n",
       "    <tr>\n",
       "      <th>IT</th>\n",
       "      <td>71000.0</td>\n",
       "    </tr>\n",
       "    <tr>\n",
       "      <th>Sales</th>\n",
       "      <td>55000.0</td>\n",
       "    </tr>\n",
       "  </tbody>\n",
       "</table>\n",
       "</div>"
      ],
      "text/plain": [
       "             Salary\n",
       "Department         \n",
       "HR          46000.0\n",
       "IT          71000.0\n",
       "Sales       55000.0"
      ]
     },
     "execution_count": 25,
     "metadata": {},
     "output_type": "execute_result"
    }
   ],
   "source": [
    "df.pivot_table(\n",
    "    index='Department',\n",
    "    values='Salary',\n",
    "    aggfunc='mean'\n",
    ")"
   ]
  },
  {
   "cell_type": "markdown",
   "id": "3092da44",
   "metadata": {},
   "source": [
    "#### With multiple values and functions:"
   ]
  },
  {
   "cell_type": "code",
   "execution_count": 26,
   "id": "c628dff3",
   "metadata": {},
   "outputs": [
    {
     "data": {
      "text/html": [
       "<div>\n",
       "<style scoped>\n",
       "    .dataframe tbody tr th:only-of-type {\n",
       "        vertical-align: middle;\n",
       "    }\n",
       "\n",
       "    .dataframe tbody tr th {\n",
       "        vertical-align: top;\n",
       "    }\n",
       "\n",
       "    .dataframe thead th {\n",
       "        text-align: right;\n",
       "    }\n",
       "</style>\n",
       "<table border=\"1\" class=\"dataframe\">\n",
       "  <thead>\n",
       "    <tr style=\"text-align: right;\">\n",
       "      <th></th>\n",
       "      <th>Experience</th>\n",
       "      <th>Salary</th>\n",
       "    </tr>\n",
       "    <tr>\n",
       "      <th>Department</th>\n",
       "      <th></th>\n",
       "      <th></th>\n",
       "    </tr>\n",
       "  </thead>\n",
       "  <tbody>\n",
       "    <tr>\n",
       "      <th>HR</th>\n",
       "      <td>5</td>\n",
       "      <td>46000.0</td>\n",
       "    </tr>\n",
       "    <tr>\n",
       "      <th>IT</th>\n",
       "      <td>11</td>\n",
       "      <td>71000.0</td>\n",
       "    </tr>\n",
       "    <tr>\n",
       "      <th>Sales</th>\n",
       "      <td>7</td>\n",
       "      <td>55000.0</td>\n",
       "    </tr>\n",
       "  </tbody>\n",
       "</table>\n",
       "</div>"
      ],
      "text/plain": [
       "            Experience   Salary\n",
       "Department                     \n",
       "HR                   5  46000.0\n",
       "IT                  11  71000.0\n",
       "Sales                7  55000.0"
      ]
     },
     "execution_count": 26,
     "metadata": {},
     "output_type": "execute_result"
    }
   ],
   "source": [
    "df.pivot_table(\n",
    "    index='Department',\n",
    "    values=['Salary', 'Experience'],\n",
    "    aggfunc={'Salary': 'mean', 'Experience': 'sum'}\n",
    ")"
   ]
  },
  {
   "cell_type": "markdown",
   "id": "b5fafd47",
   "metadata": {},
   "source": [
    "#### Add columns to the pivot:"
   ]
  },
  {
   "cell_type": "code",
   "execution_count": 28,
   "id": "b6543f59",
   "metadata": {},
   "outputs": [
    {
     "data": {
      "text/html": [
       "<div>\n",
       "<style scoped>\n",
       "    .dataframe tbody tr th:only-of-type {\n",
       "        vertical-align: middle;\n",
       "    }\n",
       "\n",
       "    .dataframe tbody tr th {\n",
       "        vertical-align: top;\n",
       "    }\n",
       "\n",
       "    .dataframe thead th {\n",
       "        text-align: right;\n",
       "    }\n",
       "</style>\n",
       "<table border=\"1\" class=\"dataframe\">\n",
       "  <thead>\n",
       "    <tr style=\"text-align: right;\">\n",
       "      <th></th>\n",
       "      <th>Department</th>\n",
       "      <th>Employee</th>\n",
       "      <th>Salary</th>\n",
       "      <th>Experience</th>\n",
       "      <th>Average_salary_by_dept</th>\n",
       "      <th>Gender</th>\n",
       "    </tr>\n",
       "  </thead>\n",
       "  <tbody>\n",
       "    <tr>\n",
       "      <th>0</th>\n",
       "      <td>Sales</td>\n",
       "      <td>Alice</td>\n",
       "      <td>50000</td>\n",
       "      <td>3</td>\n",
       "      <td>55000.0</td>\n",
       "      <td>F</td>\n",
       "    </tr>\n",
       "    <tr>\n",
       "      <th>1</th>\n",
       "      <td>Sales</td>\n",
       "      <td>Bob</td>\n",
       "      <td>60000</td>\n",
       "      <td>4</td>\n",
       "      <td>55000.0</td>\n",
       "      <td>M</td>\n",
       "    </tr>\n",
       "    <tr>\n",
       "      <th>2</th>\n",
       "      <td>HR</td>\n",
       "      <td>Charlie</td>\n",
       "      <td>45000</td>\n",
       "      <td>2</td>\n",
       "      <td>46000.0</td>\n",
       "      <td>M</td>\n",
       "    </tr>\n",
       "    <tr>\n",
       "      <th>3</th>\n",
       "      <td>HR</td>\n",
       "      <td>David</td>\n",
       "      <td>47000</td>\n",
       "      <td>3</td>\n",
       "      <td>46000.0</td>\n",
       "      <td>M</td>\n",
       "    </tr>\n",
       "    <tr>\n",
       "      <th>4</th>\n",
       "      <td>IT</td>\n",
       "      <td>Eve</td>\n",
       "      <td>70000</td>\n",
       "      <td>5</td>\n",
       "      <td>71000.0</td>\n",
       "      <td>F</td>\n",
       "    </tr>\n",
       "    <tr>\n",
       "      <th>5</th>\n",
       "      <td>IT</td>\n",
       "      <td>Frank</td>\n",
       "      <td>72000</td>\n",
       "      <td>6</td>\n",
       "      <td>71000.0</td>\n",
       "      <td>M</td>\n",
       "    </tr>\n",
       "  </tbody>\n",
       "</table>\n",
       "</div>"
      ],
      "text/plain": [
       "  Department Employee  Salary  Experience  Average_salary_by_dept Gender\n",
       "0      Sales    Alice   50000           3                 55000.0      F\n",
       "1      Sales      Bob   60000           4                 55000.0      M\n",
       "2         HR  Charlie   45000           2                 46000.0      M\n",
       "3         HR    David   47000           3                 46000.0      M\n",
       "4         IT      Eve   70000           5                 71000.0      F\n",
       "5         IT    Frank   72000           6                 71000.0      M"
      ]
     },
     "execution_count": 28,
     "metadata": {},
     "output_type": "execute_result"
    }
   ],
   "source": [
    "df['Gender'] = ['F', 'M', 'M', 'M', 'F', 'M']\n",
    "\n",
    "df"
   ]
  },
  {
   "cell_type": "code",
   "execution_count": 33,
   "id": "b7359812",
   "metadata": {},
   "outputs": [
    {
     "data": {
      "text/html": [
       "<div>\n",
       "<style scoped>\n",
       "    .dataframe tbody tr th:only-of-type {\n",
       "        vertical-align: middle;\n",
       "    }\n",
       "\n",
       "    .dataframe tbody tr th {\n",
       "        vertical-align: top;\n",
       "    }\n",
       "\n",
       "    .dataframe thead th {\n",
       "        text-align: right;\n",
       "    }\n",
       "</style>\n",
       "<table border=\"1\" class=\"dataframe\">\n",
       "  <thead>\n",
       "    <tr style=\"text-align: right;\">\n",
       "      <th>Gender</th>\n",
       "      <th>F</th>\n",
       "      <th>M</th>\n",
       "    </tr>\n",
       "    <tr>\n",
       "      <th>Department</th>\n",
       "      <th></th>\n",
       "      <th></th>\n",
       "    </tr>\n",
       "  </thead>\n",
       "  <tbody>\n",
       "    <tr>\n",
       "      <th>HR</th>\n",
       "      <td>0.0</td>\n",
       "      <td>46000.0</td>\n",
       "    </tr>\n",
       "    <tr>\n",
       "      <th>IT</th>\n",
       "      <td>70000.0</td>\n",
       "      <td>72000.0</td>\n",
       "    </tr>\n",
       "    <tr>\n",
       "      <th>Sales</th>\n",
       "      <td>50000.0</td>\n",
       "      <td>60000.0</td>\n",
       "    </tr>\n",
       "  </tbody>\n",
       "</table>\n",
       "</div>"
      ],
      "text/plain": [
       "Gender            F        M\n",
       "Department                  \n",
       "HR              0.0  46000.0\n",
       "IT          70000.0  72000.0\n",
       "Sales       50000.0  60000.0"
      ]
     },
     "execution_count": 33,
     "metadata": {},
     "output_type": "execute_result"
    }
   ],
   "source": [
    "df.pivot_table(\n",
    "    index='Department',\n",
    "    columns='Gender',\n",
    "    values='Salary',\n",
    "    aggfunc='mean',\n",
    "    fill_value=0\n",
    ")"
   ]
  },
  {
   "cell_type": "markdown",
   "id": "907ebf33",
   "metadata": {},
   "source": [
    "### ✅ Comparison Table\n",
    "\n",
    "| Method          | Shape After Grouping | Supports Multiple Aggregations | Keeps Original Shape |\n",
    "| --------------- | -------------------- | ------------------------------ | -------------------- |\n",
    "| `groupby()`     | Collapsed            | Yes                            | No                   |\n",
    "| `agg()`         | Collapsed            | Yes                            | No                   |\n",
    "| `transform()`   | Same shape           | Yes (per column)               | ✅                    |\n",
    "| `pivot_table()` | Flexible layout      | Yes                            | No                   |\n",
    "\n",
    "---\n",
    "\n",
    "### 🔍 Real-Life Use Cases\n",
    "\n",
    "| Task                                        | Method                                   |\n",
    "| ------------------------------------------- | ---------------------------------------- |\n",
    "| Avg salary by department                    | `groupby('Department')['Salary'].mean()` |\n",
    "| Add avg dept salary column to each employee | `groupby().transform()`                  |\n",
    "| Create summary table of sales by region     | `pivot_table()`                          |\n",
    "| Apply custom aggregations                   | `.agg()`                                 |\n"
   ]
  },
  {
   "cell_type": "markdown",
   "id": "c791ad22",
   "metadata": {},
   "source": [
    "### 🔸 Bonus: Group Filtering\n",
    "\n",
    "You can filter groups too!"
   ]
  },
  {
   "cell_type": "code",
   "execution_count": 35,
   "id": "b14f2ddf",
   "metadata": {},
   "outputs": [
    {
     "data": {
      "text/html": [
       "<div>\n",
       "<style scoped>\n",
       "    .dataframe tbody tr th:only-of-type {\n",
       "        vertical-align: middle;\n",
       "    }\n",
       "\n",
       "    .dataframe tbody tr th {\n",
       "        vertical-align: top;\n",
       "    }\n",
       "\n",
       "    .dataframe thead th {\n",
       "        text-align: right;\n",
       "    }\n",
       "</style>\n",
       "<table border=\"1\" class=\"dataframe\">\n",
       "  <thead>\n",
       "    <tr style=\"text-align: right;\">\n",
       "      <th></th>\n",
       "      <th>Department</th>\n",
       "      <th>Employee</th>\n",
       "      <th>Salary</th>\n",
       "      <th>Experience</th>\n",
       "      <th>Average_salary_by_dept</th>\n",
       "      <th>Gender</th>\n",
       "    </tr>\n",
       "  </thead>\n",
       "  <tbody>\n",
       "    <tr>\n",
       "      <th>0</th>\n",
       "      <td>Sales</td>\n",
       "      <td>Alice</td>\n",
       "      <td>50000</td>\n",
       "      <td>3</td>\n",
       "      <td>55000.0</td>\n",
       "      <td>F</td>\n",
       "    </tr>\n",
       "    <tr>\n",
       "      <th>1</th>\n",
       "      <td>Sales</td>\n",
       "      <td>Bob</td>\n",
       "      <td>60000</td>\n",
       "      <td>4</td>\n",
       "      <td>55000.0</td>\n",
       "      <td>M</td>\n",
       "    </tr>\n",
       "    <tr>\n",
       "      <th>4</th>\n",
       "      <td>IT</td>\n",
       "      <td>Eve</td>\n",
       "      <td>70000</td>\n",
       "      <td>5</td>\n",
       "      <td>71000.0</td>\n",
       "      <td>F</td>\n",
       "    </tr>\n",
       "    <tr>\n",
       "      <th>5</th>\n",
       "      <td>IT</td>\n",
       "      <td>Frank</td>\n",
       "      <td>72000</td>\n",
       "      <td>6</td>\n",
       "      <td>71000.0</td>\n",
       "      <td>M</td>\n",
       "    </tr>\n",
       "  </tbody>\n",
       "</table>\n",
       "</div>"
      ],
      "text/plain": [
       "  Department Employee  Salary  Experience  Average_salary_by_dept Gender\n",
       "0      Sales    Alice   50000           3                 55000.0      F\n",
       "1      Sales      Bob   60000           4                 55000.0      M\n",
       "4         IT      Eve   70000           5                 71000.0      F\n",
       "5         IT    Frank   72000           6                 71000.0      M"
      ]
     },
     "execution_count": 35,
     "metadata": {},
     "output_type": "execute_result"
    }
   ],
   "source": [
    "df.groupby('Department').filter(lambda x: x['Salary'].mean() > 50000)"
   ]
  },
  {
   "cell_type": "markdown",
   "id": "a8938ad4",
   "metadata": {},
   "source": [
    "Keeps only rows from departments with avg salary > 50000."
   ]
  },
  {
   "cell_type": "markdown",
   "id": "c3d63e87",
   "metadata": {},
   "source": [
    "### 🔸 Bonus: Group Ranking\n",
    "\n",
    "Assign rank within groups:"
   ]
  },
  {
   "cell_type": "code",
   "execution_count": 36,
   "id": "003b3a2f",
   "metadata": {},
   "outputs": [
    {
     "data": {
      "text/html": [
       "<div>\n",
       "<style scoped>\n",
       "    .dataframe tbody tr th:only-of-type {\n",
       "        vertical-align: middle;\n",
       "    }\n",
       "\n",
       "    .dataframe tbody tr th {\n",
       "        vertical-align: top;\n",
       "    }\n",
       "\n",
       "    .dataframe thead th {\n",
       "        text-align: right;\n",
       "    }\n",
       "</style>\n",
       "<table border=\"1\" class=\"dataframe\">\n",
       "  <thead>\n",
       "    <tr style=\"text-align: right;\">\n",
       "      <th></th>\n",
       "      <th>Department</th>\n",
       "      <th>Employee</th>\n",
       "      <th>Salary</th>\n",
       "      <th>Experience</th>\n",
       "      <th>Average_salary_by_dept</th>\n",
       "      <th>Gender</th>\n",
       "      <th>Salary_Rank</th>\n",
       "    </tr>\n",
       "  </thead>\n",
       "  <tbody>\n",
       "    <tr>\n",
       "      <th>0</th>\n",
       "      <td>Sales</td>\n",
       "      <td>Alice</td>\n",
       "      <td>50000</td>\n",
       "      <td>3</td>\n",
       "      <td>55000.0</td>\n",
       "      <td>F</td>\n",
       "      <td>2.0</td>\n",
       "    </tr>\n",
       "    <tr>\n",
       "      <th>1</th>\n",
       "      <td>Sales</td>\n",
       "      <td>Bob</td>\n",
       "      <td>60000</td>\n",
       "      <td>4</td>\n",
       "      <td>55000.0</td>\n",
       "      <td>M</td>\n",
       "      <td>1.0</td>\n",
       "    </tr>\n",
       "    <tr>\n",
       "      <th>2</th>\n",
       "      <td>HR</td>\n",
       "      <td>Charlie</td>\n",
       "      <td>45000</td>\n",
       "      <td>2</td>\n",
       "      <td>46000.0</td>\n",
       "      <td>M</td>\n",
       "      <td>2.0</td>\n",
       "    </tr>\n",
       "    <tr>\n",
       "      <th>3</th>\n",
       "      <td>HR</td>\n",
       "      <td>David</td>\n",
       "      <td>47000</td>\n",
       "      <td>3</td>\n",
       "      <td>46000.0</td>\n",
       "      <td>M</td>\n",
       "      <td>1.0</td>\n",
       "    </tr>\n",
       "    <tr>\n",
       "      <th>4</th>\n",
       "      <td>IT</td>\n",
       "      <td>Eve</td>\n",
       "      <td>70000</td>\n",
       "      <td>5</td>\n",
       "      <td>71000.0</td>\n",
       "      <td>F</td>\n",
       "      <td>2.0</td>\n",
       "    </tr>\n",
       "    <tr>\n",
       "      <th>5</th>\n",
       "      <td>IT</td>\n",
       "      <td>Frank</td>\n",
       "      <td>72000</td>\n",
       "      <td>6</td>\n",
       "      <td>71000.0</td>\n",
       "      <td>M</td>\n",
       "      <td>1.0</td>\n",
       "    </tr>\n",
       "  </tbody>\n",
       "</table>\n",
       "</div>"
      ],
      "text/plain": [
       "  Department Employee  Salary  Experience  Average_salary_by_dept Gender  \\\n",
       "0      Sales    Alice   50000           3                 55000.0      F   \n",
       "1      Sales      Bob   60000           4                 55000.0      M   \n",
       "2         HR  Charlie   45000           2                 46000.0      M   \n",
       "3         HR    David   47000           3                 46000.0      M   \n",
       "4         IT      Eve   70000           5                 71000.0      F   \n",
       "5         IT    Frank   72000           6                 71000.0      M   \n",
       "\n",
       "   Salary_Rank  \n",
       "0          2.0  \n",
       "1          1.0  \n",
       "2          2.0  \n",
       "3          1.0  \n",
       "4          2.0  \n",
       "5          1.0  "
      ]
     },
     "execution_count": 36,
     "metadata": {},
     "output_type": "execute_result"
    }
   ],
   "source": [
    "df['Salary_Rank'] = df.groupby('Department')['Salary'].rank(ascending=False)\n",
    "df"
   ]
  },
  {
   "cell_type": "markdown",
   "id": "383d87cf",
   "metadata": {},
   "source": [
    "\n",
    "That completes the **Data Exploration & Summary** module in pandas.\n",
    "\n",
    "---\n",
    "\n",
    "## ✅ Summary of All Sections\n",
    "\n",
    "| Section                  | Key Methods                                             |\n",
    "| ------------------------ | ------------------------------------------------------- |\n",
    "| Data Overview            | `head`, `shape`, `info`, `describe`, `sample`, `dtypes` |\n",
    "| Summary Statistics       | `mean`, `median`, `mode`, `std`, `quantile`, `cumsum`   |\n",
    "| Frequency Analysis       | `value_counts`, `unique`, `nunique`                     |\n",
    "| Data Type Summary        | `dtypes`, `select_dtypes`, `astype`, `to_numeric`, etc. |\n",
    "| Correlation & Covariance | `corr`, `cov`, `corrwith`, correlation heatmaps         |\n",
    "| Missing Data Summary     | `isnull`, `fillna`, `dropna`, `interpolate`, `info`     |\n",
    "| Group-Based Summary      | `groupby`, `agg`, `transform`, `pivot_table`            |"
   ]
  },
  {
   "cell_type": "markdown",
   "id": "9f106321",
   "metadata": {},
   "source": [
    "<center><b>Thanks</b></center>"
   ]
  }
 ],
 "metadata": {
  "kernelspec": {
   "display_name": "Python 3",
   "language": "python",
   "name": "python3"
  },
  "language_info": {
   "codemirror_mode": {
    "name": "ipython",
    "version": 3
   },
   "file_extension": ".py",
   "mimetype": "text/x-python",
   "name": "python",
   "nbconvert_exporter": "python",
   "pygments_lexer": "ipython3",
   "version": "3.10.2"
  }
 },
 "nbformat": 4,
 "nbformat_minor": 5
}
