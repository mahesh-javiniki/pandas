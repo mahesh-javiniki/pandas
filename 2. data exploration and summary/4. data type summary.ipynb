{
 "cells": [
  {
   "cell_type": "markdown",
   "id": "46a2b87c",
   "metadata": {},
   "source": [
    "# Data Exploration and Summary"
   ]
  },
  {
   "cell_type": "markdown",
   "id": "995ebe4a",
   "metadata": {},
   "source": [
    "## 4. Data Type Summary"
   ]
  },
  {
   "cell_type": "code",
   "execution_count": 12,
   "id": "11a8c00d",
   "metadata": {},
   "outputs": [],
   "source": [
    "import pandas as pd\n",
    "import numpy as np"
   ]
  },
  {
   "cell_type": "markdown",
   "id": "f7a9a32f",
   "metadata": {},
   "source": [
    "Understanding and managing **data types** is crucial because:\n",
    "\n",
    "* It affects **memory usage**, **performance**, and **accuracy** of computations.\n",
    "* Some methods work only with **specific dtypes** (e.g., `.mean()` for numeric).\n",
    "* It helps with **type conversions** when preparing data for modeling or visualization.\n",
    "\n",
    "We'll cover:\n",
    "\n",
    "1. `df.dtypes`\n",
    "2. `df.select_dtypes(include=..., exclude=...)`\n",
    "3. `df.astype()` – Type conversion\n",
    "4. Type inference methods\n"
   ]
  },
  {
   "cell_type": "markdown",
   "id": "0a603af9",
   "metadata": {},
   "source": [
    "### 1. `dtypes`"
   ]
  },
  {
   "cell_type": "markdown",
   "id": "94da17cc",
   "metadata": {},
   "source": [
    "Shows the data type of each column in a DataFrame."
   ]
  },
  {
   "cell_type": "code",
   "execution_count": 2,
   "id": "2191db67",
   "metadata": {},
   "outputs": [
    {
     "name": "stdout",
     "output_type": "stream",
     "text": [
      "Name                   object\n",
      "Age                     int64\n",
      "Income                float64\n",
      "Is_Employed              bool\n",
      "Join_Date      datetime64[ns]\n",
      "dtype: object\n"
     ]
    }
   ],
   "source": [
    "df = pd.DataFrame({\n",
    "    'Name': ['Alice', 'Bob', 'Charlie'],\n",
    "    'Age': [25, 30, 35],\n",
    "    'Income': [50000.0, 60000.5, 70000.8],\n",
    "    'Is_Employed': [True, False, True],\n",
    "    'Join_Date': pd.to_datetime(['2021-01-01', '2021-02-15', '2021-03-30'])\n",
    "})\n",
    "\n",
    "print(df.dtypes)"
   ]
  },
  {
   "cell_type": "markdown",
   "id": "ce0182f0",
   "metadata": {},
   "source": [
    "### 2. `df.select_dtypes(include=..., exclude=...)`\n",
    "Used to **filter columns** based on their data types."
   ]
  },
  {
   "cell_type": "code",
   "execution_count": 3,
   "id": "80c0add1",
   "metadata": {},
   "outputs": [
    {
     "data": {
      "text/html": [
       "<div>\n",
       "<style scoped>\n",
       "    .dataframe tbody tr th:only-of-type {\n",
       "        vertical-align: middle;\n",
       "    }\n",
       "\n",
       "    .dataframe tbody tr th {\n",
       "        vertical-align: top;\n",
       "    }\n",
       "\n",
       "    .dataframe thead th {\n",
       "        text-align: right;\n",
       "    }\n",
       "</style>\n",
       "<table border=\"1\" class=\"dataframe\">\n",
       "  <thead>\n",
       "    <tr style=\"text-align: right;\">\n",
       "      <th></th>\n",
       "      <th>Name</th>\n",
       "      <th>Age</th>\n",
       "      <th>Income</th>\n",
       "      <th>Is_Employed</th>\n",
       "      <th>Join_Date</th>\n",
       "    </tr>\n",
       "  </thead>\n",
       "  <tbody>\n",
       "    <tr>\n",
       "      <th>0</th>\n",
       "      <td>Alice</td>\n",
       "      <td>25</td>\n",
       "      <td>50000.0</td>\n",
       "      <td>True</td>\n",
       "      <td>2021-01-01</td>\n",
       "    </tr>\n",
       "    <tr>\n",
       "      <th>1</th>\n",
       "      <td>Bob</td>\n",
       "      <td>30</td>\n",
       "      <td>60000.5</td>\n",
       "      <td>False</td>\n",
       "      <td>2021-02-15</td>\n",
       "    </tr>\n",
       "    <tr>\n",
       "      <th>2</th>\n",
       "      <td>Charlie</td>\n",
       "      <td>35</td>\n",
       "      <td>70000.8</td>\n",
       "      <td>True</td>\n",
       "      <td>2021-03-30</td>\n",
       "    </tr>\n",
       "  </tbody>\n",
       "</table>\n",
       "</div>"
      ],
      "text/plain": [
       "      Name  Age   Income  Is_Employed  Join_Date\n",
       "0    Alice   25  50000.0         True 2021-01-01\n",
       "1      Bob   30  60000.5        False 2021-02-15\n",
       "2  Charlie   35  70000.8         True 2021-03-30"
      ]
     },
     "execution_count": 3,
     "metadata": {},
     "output_type": "execute_result"
    }
   ],
   "source": [
    "df"
   ]
  },
  {
   "cell_type": "code",
   "execution_count": 4,
   "id": "22dfdd54",
   "metadata": {},
   "outputs": [
    {
     "name": "stdout",
     "output_type": "stream",
     "text": [
      "<class 'pandas.core.frame.DataFrame'>\n",
      "RangeIndex: 3 entries, 0 to 2\n",
      "Data columns (total 5 columns):\n",
      " #   Column       Non-Null Count  Dtype         \n",
      "---  ------       --------------  -----         \n",
      " 0   Name         3 non-null      object        \n",
      " 1   Age          3 non-null      int64         \n",
      " 2   Income       3 non-null      float64       \n",
      " 3   Is_Employed  3 non-null      bool          \n",
      " 4   Join_Date    3 non-null      datetime64[ns]\n",
      "dtypes: bool(1), datetime64[ns](1), float64(1), int64(1), object(1)\n",
      "memory usage: 227.0+ bytes\n"
     ]
    }
   ],
   "source": [
    "df.info()"
   ]
  },
  {
   "cell_type": "code",
   "execution_count": 5,
   "id": "5a58e0f7",
   "metadata": {},
   "outputs": [
    {
     "data": {
      "text/html": [
       "<div>\n",
       "<style scoped>\n",
       "    .dataframe tbody tr th:only-of-type {\n",
       "        vertical-align: middle;\n",
       "    }\n",
       "\n",
       "    .dataframe tbody tr th {\n",
       "        vertical-align: top;\n",
       "    }\n",
       "\n",
       "    .dataframe thead th {\n",
       "        text-align: right;\n",
       "    }\n",
       "</style>\n",
       "<table border=\"1\" class=\"dataframe\">\n",
       "  <thead>\n",
       "    <tr style=\"text-align: right;\">\n",
       "      <th></th>\n",
       "      <th>Age</th>\n",
       "      <th>Income</th>\n",
       "    </tr>\n",
       "  </thead>\n",
       "  <tbody>\n",
       "    <tr>\n",
       "      <th>0</th>\n",
       "      <td>25</td>\n",
       "      <td>50000.0</td>\n",
       "    </tr>\n",
       "    <tr>\n",
       "      <th>1</th>\n",
       "      <td>30</td>\n",
       "      <td>60000.5</td>\n",
       "    </tr>\n",
       "    <tr>\n",
       "      <th>2</th>\n",
       "      <td>35</td>\n",
       "      <td>70000.8</td>\n",
       "    </tr>\n",
       "  </tbody>\n",
       "</table>\n",
       "</div>"
      ],
      "text/plain": [
       "   Age   Income\n",
       "0   25  50000.0\n",
       "1   30  60000.5\n",
       "2   35  70000.8"
      ]
     },
     "execution_count": 5,
     "metadata": {},
     "output_type": "execute_result"
    }
   ],
   "source": [
    "# Select only numeric columns\n",
    "df.select_dtypes(include='number')"
   ]
  },
  {
   "cell_type": "code",
   "execution_count": 6,
   "id": "15d3957f",
   "metadata": {},
   "outputs": [
    {
     "data": {
      "text/html": [
       "<div>\n",
       "<style scoped>\n",
       "    .dataframe tbody tr th:only-of-type {\n",
       "        vertical-align: middle;\n",
       "    }\n",
       "\n",
       "    .dataframe tbody tr th {\n",
       "        vertical-align: top;\n",
       "    }\n",
       "\n",
       "    .dataframe thead th {\n",
       "        text-align: right;\n",
       "    }\n",
       "</style>\n",
       "<table border=\"1\" class=\"dataframe\">\n",
       "  <thead>\n",
       "    <tr style=\"text-align: right;\">\n",
       "      <th></th>\n",
       "      <th>Name</th>\n",
       "    </tr>\n",
       "  </thead>\n",
       "  <tbody>\n",
       "    <tr>\n",
       "      <th>0</th>\n",
       "      <td>Alice</td>\n",
       "    </tr>\n",
       "    <tr>\n",
       "      <th>1</th>\n",
       "      <td>Bob</td>\n",
       "    </tr>\n",
       "    <tr>\n",
       "      <th>2</th>\n",
       "      <td>Charlie</td>\n",
       "    </tr>\n",
       "  </tbody>\n",
       "</table>\n",
       "</div>"
      ],
      "text/plain": [
       "      Name\n",
       "0    Alice\n",
       "1      Bob\n",
       "2  Charlie"
      ]
     },
     "execution_count": 6,
     "metadata": {},
     "output_type": "execute_result"
    }
   ],
   "source": [
    "# Select only object (string-like) columns\n",
    "df.select_dtypes(include='object')"
   ]
  },
  {
   "cell_type": "code",
   "execution_count": 7,
   "id": "b99209e0",
   "metadata": {},
   "outputs": [
    {
     "data": {
      "text/html": [
       "<div>\n",
       "<style scoped>\n",
       "    .dataframe tbody tr th:only-of-type {\n",
       "        vertical-align: middle;\n",
       "    }\n",
       "\n",
       "    .dataframe tbody tr th {\n",
       "        vertical-align: top;\n",
       "    }\n",
       "\n",
       "    .dataframe thead th {\n",
       "        text-align: right;\n",
       "    }\n",
       "</style>\n",
       "<table border=\"1\" class=\"dataframe\">\n",
       "  <thead>\n",
       "    <tr style=\"text-align: right;\">\n",
       "      <th></th>\n",
       "      <th>Is_Employed</th>\n",
       "    </tr>\n",
       "  </thead>\n",
       "  <tbody>\n",
       "    <tr>\n",
       "      <th>0</th>\n",
       "      <td>True</td>\n",
       "    </tr>\n",
       "    <tr>\n",
       "      <th>1</th>\n",
       "      <td>False</td>\n",
       "    </tr>\n",
       "    <tr>\n",
       "      <th>2</th>\n",
       "      <td>True</td>\n",
       "    </tr>\n",
       "  </tbody>\n",
       "</table>\n",
       "</div>"
      ],
      "text/plain": [
       "   Is_Employed\n",
       "0         True\n",
       "1        False\n",
       "2         True"
      ]
     },
     "execution_count": 7,
     "metadata": {},
     "output_type": "execute_result"
    }
   ],
   "source": [
    "# Select only bool columns\n",
    "df.select_dtypes(include='bool')"
   ]
  },
  {
   "cell_type": "code",
   "execution_count": 8,
   "id": "64938649",
   "metadata": {},
   "outputs": [
    {
     "data": {
      "text/html": [
       "<div>\n",
       "<style scoped>\n",
       "    .dataframe tbody tr th:only-of-type {\n",
       "        vertical-align: middle;\n",
       "    }\n",
       "\n",
       "    .dataframe tbody tr th {\n",
       "        vertical-align: top;\n",
       "    }\n",
       "\n",
       "    .dataframe thead th {\n",
       "        text-align: right;\n",
       "    }\n",
       "</style>\n",
       "<table border=\"1\" class=\"dataframe\">\n",
       "  <thead>\n",
       "    <tr style=\"text-align: right;\">\n",
       "      <th></th>\n",
       "      <th>Name</th>\n",
       "      <th>Age</th>\n",
       "      <th>Income</th>\n",
       "      <th>Is_Employed</th>\n",
       "    </tr>\n",
       "  </thead>\n",
       "  <tbody>\n",
       "    <tr>\n",
       "      <th>0</th>\n",
       "      <td>Alice</td>\n",
       "      <td>25</td>\n",
       "      <td>50000.0</td>\n",
       "      <td>True</td>\n",
       "    </tr>\n",
       "    <tr>\n",
       "      <th>1</th>\n",
       "      <td>Bob</td>\n",
       "      <td>30</td>\n",
       "      <td>60000.5</td>\n",
       "      <td>False</td>\n",
       "    </tr>\n",
       "    <tr>\n",
       "      <th>2</th>\n",
       "      <td>Charlie</td>\n",
       "      <td>35</td>\n",
       "      <td>70000.8</td>\n",
       "      <td>True</td>\n",
       "    </tr>\n",
       "  </tbody>\n",
       "</table>\n",
       "</div>"
      ],
      "text/plain": [
       "      Name  Age   Income  Is_Employed\n",
       "0    Alice   25  50000.0         True\n",
       "1      Bob   30  60000.5        False\n",
       "2  Charlie   35  70000.8         True"
      ]
     },
     "execution_count": 8,
     "metadata": {},
     "output_type": "execute_result"
    }
   ],
   "source": [
    "# Select all except datetime\n",
    "df.select_dtypes(exclude='datetime')"
   ]
  },
  {
   "cell_type": "code",
   "execution_count": 9,
   "id": "7ebd02bd",
   "metadata": {},
   "outputs": [
    {
     "data": {
      "text/html": [
       "<div>\n",
       "<style scoped>\n",
       "    .dataframe tbody tr th:only-of-type {\n",
       "        vertical-align: middle;\n",
       "    }\n",
       "\n",
       "    .dataframe tbody tr th {\n",
       "        vertical-align: top;\n",
       "    }\n",
       "\n",
       "    .dataframe thead th {\n",
       "        text-align: right;\n",
       "    }\n",
       "</style>\n",
       "<table border=\"1\" class=\"dataframe\">\n",
       "  <thead>\n",
       "    <tr style=\"text-align: right;\">\n",
       "      <th></th>\n",
       "      <th>Age</th>\n",
       "      <th>Income</th>\n",
       "      <th>Is_Employed</th>\n",
       "    </tr>\n",
       "  </thead>\n",
       "  <tbody>\n",
       "    <tr>\n",
       "      <th>0</th>\n",
       "      <td>25</td>\n",
       "      <td>50000.0</td>\n",
       "      <td>True</td>\n",
       "    </tr>\n",
       "    <tr>\n",
       "      <th>1</th>\n",
       "      <td>30</td>\n",
       "      <td>60000.5</td>\n",
       "      <td>False</td>\n",
       "    </tr>\n",
       "    <tr>\n",
       "      <th>2</th>\n",
       "      <td>35</td>\n",
       "      <td>70000.8</td>\n",
       "      <td>True</td>\n",
       "    </tr>\n",
       "  </tbody>\n",
       "</table>\n",
       "</div>"
      ],
      "text/plain": [
       "   Age   Income  Is_Employed\n",
       "0   25  50000.0         True\n",
       "1   30  60000.5        False\n",
       "2   35  70000.8         True"
      ]
     },
     "execution_count": 9,
     "metadata": {},
     "output_type": "execute_result"
    }
   ],
   "source": [
    "# You can pass a list of types:\n",
    "df.select_dtypes(include=['number', 'bool'])"
   ]
  },
  {
   "cell_type": "markdown",
   "id": "12f2059e",
   "metadata": {},
   "source": [
    "Common dtype strings:\n",
    "\n",
    "| Category         | String       |\n",
    "| ---------------- | ------------ |\n",
    "| Numeric types    | `'number'`   |\n",
    "| Integer only     | `'int'`      |\n",
    "| Floating-point   | `'float'`    |\n",
    "| Boolean          | `'bool'`     |\n",
    "| Object (strings) | `'object'`   |\n",
    "| Datetime         | `'datetime'` |"
   ]
  },
  {
   "cell_type": "markdown",
   "id": "c2f2c5b9",
   "metadata": {},
   "source": [
    "### 3. `df.astype()` – Changing Data Types\n",
    "Used to explicitly convert a column to a specified data type."
   ]
  },
  {
   "cell_type": "code",
   "execution_count": 14,
   "id": "f10b4fe6",
   "metadata": {},
   "outputs": [
    {
     "data": {
      "text/plain": [
       "dtype('float64')"
      ]
     },
     "execution_count": 14,
     "metadata": {},
     "output_type": "execute_result"
    }
   ],
   "source": [
    "# Convert Age to float\n",
    "df['Age'] = df['Age'].astype(float)\n",
    "df.Age.dtype"
   ]
  },
  {
   "cell_type": "code",
   "execution_count": 15,
   "id": "d2e2650b",
   "metadata": {},
   "outputs": [
    {
     "data": {
      "text/plain": [
       "dtype('float16')"
      ]
     },
     "execution_count": 15,
     "metadata": {},
     "output_type": "execute_result"
    }
   ],
   "source": [
    "# Convert Age to float\n",
    "df['Age'] = df['Age'].astype(np.float16)\n",
    "df.Age.dtype"
   ]
  },
  {
   "cell_type": "code",
   "execution_count": 16,
   "id": "aec1067b",
   "metadata": {},
   "outputs": [
    {
     "data": {
      "text/plain": [
       "0    50000\n",
       "1    60000\n",
       "2    70000\n",
       "Name: Income, dtype: int32"
      ]
     },
     "execution_count": 16,
     "metadata": {},
     "output_type": "execute_result"
    }
   ],
   "source": [
    "# Convert Income to int (will round down)\n",
    "df['Income'] = df['Income'].astype(int)\n",
    "df['Income']"
   ]
  },
  {
   "cell_type": "code",
   "execution_count": 17,
   "id": "233953f4",
   "metadata": {},
   "outputs": [
    {
     "data": {
      "text/plain": [
       "0    1\n",
       "1    0\n",
       "2    1\n",
       "Name: Is_Employed, dtype: int32"
      ]
     },
     "execution_count": 17,
     "metadata": {},
     "output_type": "execute_result"
    }
   ],
   "source": [
    "# Convert bool to int\n",
    "df.Is_Employed = df.Is_Employed.astype(int)\n",
    "df.Is_Employed"
   ]
  },
  {
   "cell_type": "code",
   "execution_count": 18,
   "id": "476304fe",
   "metadata": {},
   "outputs": [
    {
     "data": {
      "text/plain": [
       "0    2021-01-01\n",
       "1    2021-02-15\n",
       "2    2021-03-30\n",
       "Name: Join_Date, dtype: object"
      ]
     },
     "execution_count": 18,
     "metadata": {},
     "output_type": "execute_result"
    }
   ],
   "source": [
    "# Convert date to string\n",
    "df['Join_Date'] = df['Join_Date'].astype(str)\n",
    "df['Join_Date']"
   ]
  },
  {
   "cell_type": "code",
   "execution_count": 19,
   "id": "f5992c70",
   "metadata": {},
   "outputs": [
    {
     "data": {
      "text/html": [
       "<div>\n",
       "<style scoped>\n",
       "    .dataframe tbody tr th:only-of-type {\n",
       "        vertical-align: middle;\n",
       "    }\n",
       "\n",
       "    .dataframe tbody tr th {\n",
       "        vertical-align: top;\n",
       "    }\n",
       "\n",
       "    .dataframe thead th {\n",
       "        text-align: right;\n",
       "    }\n",
       "</style>\n",
       "<table border=\"1\" class=\"dataframe\">\n",
       "  <thead>\n",
       "    <tr style=\"text-align: right;\">\n",
       "      <th></th>\n",
       "      <th>Name</th>\n",
       "      <th>Age</th>\n",
       "      <th>Income</th>\n",
       "      <th>Is_Employed</th>\n",
       "      <th>Join_Date</th>\n",
       "    </tr>\n",
       "  </thead>\n",
       "  <tbody>\n",
       "    <tr>\n",
       "      <th>0</th>\n",
       "      <td>Alice</td>\n",
       "      <td>25</td>\n",
       "      <td>50000.0</td>\n",
       "      <td>1</td>\n",
       "      <td>2021-01-01</td>\n",
       "    </tr>\n",
       "    <tr>\n",
       "      <th>1</th>\n",
       "      <td>Bob</td>\n",
       "      <td>30</td>\n",
       "      <td>60000.0</td>\n",
       "      <td>0</td>\n",
       "      <td>2021-02-15</td>\n",
       "    </tr>\n",
       "    <tr>\n",
       "      <th>2</th>\n",
       "      <td>Charlie</td>\n",
       "      <td>35</td>\n",
       "      <td>70000.0</td>\n",
       "      <td>1</td>\n",
       "      <td>2021-03-30</td>\n",
       "    </tr>\n",
       "  </tbody>\n",
       "</table>\n",
       "</div>"
      ],
      "text/plain": [
       "      Name  Age   Income  Is_Employed   Join_Date\n",
       "0    Alice   25  50000.0            1  2021-01-01\n",
       "1      Bob   30  60000.0            0  2021-02-15\n",
       "2  Charlie   35  70000.0            1  2021-03-30"
      ]
     },
     "execution_count": 19,
     "metadata": {},
     "output_type": "execute_result"
    }
   ],
   "source": [
    "# Convert multiple columns using a dictionary\n",
    "df = df.astype({'Age': 'int32', 'Income': 'float32'})\n",
    "df"
   ]
  },
  {
   "cell_type": "code",
   "execution_count": 20,
   "id": "63ffc82b",
   "metadata": {},
   "outputs": [
    {
     "data": {
      "text/plain": [
       "0      Alice\n",
       "1        Bob\n",
       "2    Charlie\n",
       "Name: Name, dtype: category\n",
       "Categories (3, object): ['Alice', 'Bob', 'Charlie']"
      ]
     },
     "execution_count": 20,
     "metadata": {},
     "output_type": "execute_result"
    }
   ],
   "source": [
    "# You can even convert to `category` type to reduce memory usage:\n",
    "df['Name'] = df['Name'].astype('category')\n",
    "df.Name"
   ]
  },
  {
   "cell_type": "markdown",
   "id": "940554d4",
   "metadata": {},
   "source": [
    "**What is category type ?**"
   ]
  },
  {
   "cell_type": "markdown",
   "id": "3aa5371f",
   "metadata": {},
   "source": [
    "## 4. Inference & Conversion Utilities\n",
    "\n",
    "These functions help **infer or convert** data types intelligently:"
   ]
  },
  {
   "cell_type": "markdown",
   "id": "986a0fe4",
   "metadata": {},
   "source": [
    "#### a. `pd.to_numeric()`\n",
    "\n",
    "Used to safely convert strings/numbers to numeric (int/float) types."
   ]
  },
  {
   "cell_type": "code",
   "execution_count": 24,
   "id": "5a78f214",
   "metadata": {},
   "outputs": [
    {
     "data": {
      "text/plain": [
       "0    100.0\n",
       "1    200.5\n",
       "2    300.0\n",
       "3      NaN\n",
       "dtype: float64"
      ]
     },
     "execution_count": 24,
     "metadata": {},
     "output_type": "execute_result"
    }
   ],
   "source": [
    "pd.to_numeric(pd.Series(['100', '200.5', '300', None]), errors='coerce')"
   ]
  },
  {
   "cell_type": "markdown",
   "id": "f7b4963f",
   "metadata": {},
   "source": [
    "`errors='coerce'` replaces invalid parsing with NaN."
   ]
  },
  {
   "cell_type": "markdown",
   "id": "3030859c",
   "metadata": {},
   "source": [
    "#### b. `pd.to_datetime()`\n",
    "\n",
    "Parses strings to `datetime64`."
   ]
  },
  {
   "cell_type": "code",
   "execution_count": 26,
   "id": "2a9a2b94",
   "metadata": {},
   "outputs": [
    {
     "data": {
      "text/plain": [
       "DatetimeIndex(['2023-01-01', '2023-02-10'], dtype='datetime64[ns]', freq=None)"
      ]
     },
     "execution_count": 26,
     "metadata": {},
     "output_type": "execute_result"
    }
   ],
   "source": [
    "pd.to_datetime(['2023-01-01', '2023-02-10'])"
   ]
  },
  {
   "cell_type": "markdown",
   "id": "83d792cc",
   "metadata": {},
   "source": [
    "#### c. `pd.to_timedelta()`\n",
    "Converts string/integer time formats to `timedelta` objects."
   ]
  },
  {
   "cell_type": "code",
   "execution_count": 27,
   "id": "fd2c4908",
   "metadata": {},
   "outputs": [
    {
     "data": {
      "text/plain": [
       "TimedeltaIndex(['1 days', '5 days'], dtype='timedelta64[ns]', freq=None)"
      ]
     },
     "execution_count": 27,
     "metadata": {},
     "output_type": "execute_result"
    }
   ],
   "source": [
    "pd.to_timedelta(['1 days', '5 days'])"
   ]
  },
  {
   "cell_type": "markdown",
   "id": "0fac593a",
   "metadata": {},
   "source": [
    "### **There is some issue with these to_{conversions}**\n",
    "\n",
    "These conversions only happening if the data is already having the converting properties, otherwise there is no effect"
   ]
  },
  {
   "cell_type": "markdown",
   "id": "6a14a251",
   "metadata": {},
   "source": [
    "### ✅ Summary Table\n",
    "\n",
    "| Task                 | Method                          |\n",
    "| -------------------- | ------------------------------- |\n",
    "| View data types      | `df.dtypes`                     |\n",
    "| Select by type       | `df.select_dtypes(include=...)` |\n",
    "| Convert column types | `df.astype()`                   |\n",
    "| Parse numeric safely | `pd.to_numeric()`               |\n",
    "| Parse dates          | `pd.to_datetime()`              |\n",
    "| Convert to timedelta | `pd.to_timedelta()`             |\n",
    "\n",
    "---\n",
    "\n",
    "### 🔍 Real-Life Scenarios\n",
    "\n",
    "| Scenario                                | Solution                              |\n",
    "| --------------------------------------- | ------------------------------------- |\n",
    "| Convert string dates to datetime        | `pd.to_datetime(df['Date'])`          |\n",
    "| Convert “Yes”/“No” to 1/0               | `df['Flag'].map({'Yes': 1, 'No': 0})` |\n",
    "| Optimize memory for large string column | `astype('category')`                  |\n",
    "| Convert price columns with \\$/commas    | `str.replace()` + `to_numeric()`      |"
   ]
  },
  {
   "cell_type": "markdown",
   "id": "9243e729",
   "metadata": {},
   "source": [
    "<center><b>Thanks</b></center>"
   ]
  }
 ],
 "metadata": {
  "kernelspec": {
   "display_name": "Python 3",
   "language": "python",
   "name": "python3"
  },
  "language_info": {
   "codemirror_mode": {
    "name": "ipython",
    "version": 3
   },
   "file_extension": ".py",
   "mimetype": "text/x-python",
   "name": "python",
   "nbconvert_exporter": "python",
   "pygments_lexer": "ipython3",
   "version": "3.10.2"
  }
 },
 "nbformat": 4,
 "nbformat_minor": 5
}
