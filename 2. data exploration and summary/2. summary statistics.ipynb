{
 "cells": [
  {
   "cell_type": "markdown",
   "id": "432cd071",
   "metadata": {},
   "source": [
    "# Data Exploration and Summary"
   ]
  },
  {
   "cell_type": "markdown",
   "id": "152e9698",
   "metadata": {},
   "source": [
    "- **When you try to apply any method on complete data frame,**\n",
    "- **it is suggested to check all the columns data is of numeric,**\n",
    "- **otherwise most of the methods raises error**"
   ]
  },
  {
   "cell_type": "markdown",
   "id": "483f4ae4",
   "metadata": {},
   "source": [
    "## 2. Summary Statistics\n",
    "These methods help you understand the distribution and variability of data across different columns."
   ]
  },
  {
   "cell_type": "code",
   "execution_count": 2,
   "id": "607516ce",
   "metadata": {},
   "outputs": [],
   "source": [
    "import pandas as pd"
   ]
  },
  {
   "cell_type": "code",
   "execution_count": 37,
   "id": "baece983",
   "metadata": {},
   "outputs": [
    {
     "data": {
      "text/html": [
       "<div>\n",
       "<style scoped>\n",
       "    .dataframe tbody tr th:only-of-type {\n",
       "        vertical-align: middle;\n",
       "    }\n",
       "\n",
       "    .dataframe tbody tr th {\n",
       "        vertical-align: top;\n",
       "    }\n",
       "\n",
       "    .dataframe thead th {\n",
       "        text-align: right;\n",
       "    }\n",
       "</style>\n",
       "<table border=\"1\" class=\"dataframe\">\n",
       "  <thead>\n",
       "    <tr style=\"text-align: right;\">\n",
       "      <th></th>\n",
       "      <th>Product</th>\n",
       "      <th>Sales</th>\n",
       "      <th>Profit</th>\n",
       "    </tr>\n",
       "  </thead>\n",
       "  <tbody>\n",
       "    <tr>\n",
       "      <th>0</th>\n",
       "      <td>A</td>\n",
       "      <td>100</td>\n",
       "      <td>20</td>\n",
       "    </tr>\n",
       "    <tr>\n",
       "      <th>1</th>\n",
       "      <td>B</td>\n",
       "      <td>150</td>\n",
       "      <td>30</td>\n",
       "    </tr>\n",
       "    <tr>\n",
       "      <th>2</th>\n",
       "      <td>C</td>\n",
       "      <td>80</td>\n",
       "      <td>10</td>\n",
       "    </tr>\n",
       "    <tr>\n",
       "      <th>3</th>\n",
       "      <td>D</td>\n",
       "      <td>200</td>\n",
       "      <td>50</td>\n",
       "    </tr>\n",
       "    <tr>\n",
       "      <th>4</th>\n",
       "      <td>E</td>\n",
       "      <td>170</td>\n",
       "      <td>40</td>\n",
       "    </tr>\n",
       "  </tbody>\n",
       "</table>\n",
       "</div>"
      ],
      "text/plain": [
       "  Product  Sales  Profit\n",
       "0       A    100      20\n",
       "1       B    150      30\n",
       "2       C     80      10\n",
       "3       D    200      50\n",
       "4       E    170      40"
      ]
     },
     "execution_count": 37,
     "metadata": {},
     "output_type": "execute_result"
    }
   ],
   "source": [
    "data = {\n",
    "    'Product': ['A', 'B', 'C', 'D', 'E'],\n",
    "    'Sales': [100, 150, 80, 200, 170],\n",
    "    'Profit': [20, 30, 10, 50, 40]\n",
    "}\n",
    "df = pd.DataFrame(data)\n",
    "df"
   ]
  },
  {
   "cell_type": "markdown",
   "id": "b4204cf9",
   "metadata": {},
   "source": [
    "### 7. `df.mean()`, `df.median()`, `df.mode()`"
   ]
  },
  {
   "cell_type": "markdown",
   "id": "9493cd21",
   "metadata": {},
   "source": [
    "**Mean** – average value per column\n",
    "\n",
    "**Median** – middle value when sorted\n",
    "\n",
    "**Mode** – most frequent value"
   ]
  },
  {
   "cell_type": "code",
   "execution_count": 7,
   "id": "48969667",
   "metadata": {},
   "outputs": [
    {
     "name": "stdout",
     "output_type": "stream",
     "text": [
      "Sales     140.0\n",
      "Profit     30.0\n",
      "dtype: float64\n",
      "\n",
      "Sales     150.0\n",
      "Profit     30.0\n",
      "dtype: float64\n",
      "\n",
      "   Sales  Profit\n",
      "0     80      10\n",
      "1    100      20\n",
      "2    150      30\n",
      "3    170      40\n",
      "4    200      50\n",
      "\n"
     ]
    }
   ],
   "source": [
    "print(df[['Sales', 'Profit']].mean(), end = '\\n\\n')    # Sales and Profit mean\n",
    "print(df[['Sales', 'Profit']].median(), end = '\\n\\n')  # Sales and Profit median\n",
    "print(df[['Sales', 'Profit']].mode(), end = '\\n\\n')    # May return multiple rows if multiple modes"
   ]
  },
  {
   "cell_type": "code",
   "execution_count": 8,
   "id": "8ba314e9",
   "metadata": {},
   "outputs": [
    {
     "data": {
      "text/plain": [
       "0    A\n",
       "1    B\n",
       "2    C\n",
       "3    D\n",
       "4    E\n",
       "Name: Product, dtype: object"
      ]
     },
     "execution_count": 8,
     "metadata": {},
     "output_type": "execute_result"
    }
   ],
   "source": [
    "df['Product'].mode()"
   ]
  },
  {
   "cell_type": "code",
   "execution_count": 11,
   "id": "0996fea5",
   "metadata": {},
   "outputs": [
    {
     "data": {
      "text/plain": [
       "0    10\n",
       "dtype: int64"
      ]
     },
     "execution_count": 11,
     "metadata": {},
     "output_type": "execute_result"
    }
   ],
   "source": [
    "s = pd.Series([10, 20, 10, 30])\n",
    "s.mode()"
   ]
  },
  {
   "cell_type": "code",
   "execution_count": 12,
   "id": "78262e2a",
   "metadata": {},
   "outputs": [
    {
     "data": {
      "text/plain": [
       "0    10\n",
       "1    20\n",
       "dtype: int64"
      ]
     },
     "execution_count": 12,
     "metadata": {},
     "output_type": "execute_result"
    }
   ],
   "source": [
    "s = pd.Series([10, 20, 10, 30, 20])\n",
    "s.mode()"
   ]
  },
  {
   "cell_type": "markdown",
   "id": "072cc477",
   "metadata": {},
   "source": [
    "### 8. `df.min()`, `df.max()`\n",
    "Returns minimum and maximum values for each column."
   ]
  },
  {
   "cell_type": "code",
   "execution_count": 38,
   "id": "8ac9dad2",
   "metadata": {},
   "outputs": [
    {
     "name": "stdout",
     "output_type": "stream",
     "text": [
      "Product     A\n",
      "Sales      80\n",
      "Profit     10\n",
      "dtype: object\n",
      "\n",
      "Product      E\n",
      "Sales      200\n",
      "Profit      50\n",
      "dtype: object\n"
     ]
    }
   ],
   "source": [
    "print(df.min(), end='\\n\\n')   # Minimum across numeric columns\n",
    "print(df.max())   # Maximum across numeric columns"
   ]
  },
  {
   "cell_type": "code",
   "execution_count": 15,
   "id": "e6adcd35",
   "metadata": {},
   "outputs": [
    {
     "data": {
      "text/plain": [
       "80"
      ]
     },
     "execution_count": 15,
     "metadata": {},
     "output_type": "execute_result"
    }
   ],
   "source": [
    "df['Sales'].min()"
   ]
  },
  {
   "cell_type": "code",
   "execution_count": 16,
   "id": "8f57e4ad",
   "metadata": {},
   "outputs": [
    {
     "data": {
      "text/plain": [
       "50"
      ]
     },
     "execution_count": 16,
     "metadata": {},
     "output_type": "execute_result"
    }
   ],
   "source": [
    "df['Profit'].max()"
   ]
  },
  {
   "cell_type": "markdown",
   "id": "8c172bc2",
   "metadata": {},
   "source": [
    "### 9. `df.std()`, `df.var()`, `df.sem()`"
   ]
  },
  {
   "cell_type": "markdown",
   "id": "20ecad84",
   "metadata": {},
   "source": [
    "* **Standard Deviation (`std`)** – measure of spread\n",
    "* **Variance (`var`)** – square of std\n",
    "* **Standard Error of Mean (`sem`)** – std / sqrt(n)"
   ]
  },
  {
   "cell_type": "code",
   "execution_count": 22,
   "id": "75a18ca5",
   "metadata": {},
   "outputs": [
    {
     "name": "stdout",
     "output_type": "stream",
     "text": [
      "Sales     49.497475\n",
      "Profit    15.811388\n",
      "dtype: float64\n",
      "\n",
      "Sales     2450.0\n",
      "Profit     250.0\n",
      "dtype: float64\n",
      "\n",
      "Sales     22.135944\n",
      "Profit     7.071068\n",
      "dtype: float64\n"
     ]
    }
   ],
   "source": [
    "print(df[['Sales', 'Profit']].std(), end = '\\n\\n')\n",
    "print(df[['Sales', 'Profit']].var(), end = '\\n\\n')\n",
    "print(df[['Sales', 'Profit']].sem())"
   ]
  },
  {
   "cell_type": "markdown",
   "id": "fe3d830c",
   "metadata": {},
   "source": [
    "### 10. `df.quantile()`\n",
    "Returns values at a given quantile."
   ]
  },
  {
   "cell_type": "code",
   "execution_count": 25,
   "id": "659440c4",
   "metadata": {},
   "outputs": [
    {
     "data": {
      "text/html": [
       "<div>\n",
       "<style scoped>\n",
       "    .dataframe tbody tr th:only-of-type {\n",
       "        vertical-align: middle;\n",
       "    }\n",
       "\n",
       "    .dataframe tbody tr th {\n",
       "        vertical-align: top;\n",
       "    }\n",
       "\n",
       "    .dataframe thead th {\n",
       "        text-align: right;\n",
       "    }\n",
       "</style>\n",
       "<table border=\"1\" class=\"dataframe\">\n",
       "  <thead>\n",
       "    <tr style=\"text-align: right;\">\n",
       "      <th></th>\n",
       "      <th>Sales</th>\n",
       "      <th>Profit</th>\n",
       "    </tr>\n",
       "  </thead>\n",
       "  <tbody>\n",
       "    <tr>\n",
       "      <th>0</th>\n",
       "      <td>100</td>\n",
       "      <td>20</td>\n",
       "    </tr>\n",
       "    <tr>\n",
       "      <th>1</th>\n",
       "      <td>150</td>\n",
       "      <td>30</td>\n",
       "    </tr>\n",
       "    <tr>\n",
       "      <th>2</th>\n",
       "      <td>80</td>\n",
       "      <td>10</td>\n",
       "    </tr>\n",
       "    <tr>\n",
       "      <th>3</th>\n",
       "      <td>200</td>\n",
       "      <td>50</td>\n",
       "    </tr>\n",
       "    <tr>\n",
       "      <th>4</th>\n",
       "      <td>170</td>\n",
       "      <td>40</td>\n",
       "    </tr>\n",
       "  </tbody>\n",
       "</table>\n",
       "</div>"
      ],
      "text/plain": [
       "   Sales  Profit\n",
       "0    100      20\n",
       "1    150      30\n",
       "2     80      10\n",
       "3    200      50\n",
       "4    170      40"
      ]
     },
     "execution_count": 25,
     "metadata": {},
     "output_type": "execute_result"
    }
   ],
   "source": [
    "df = df[['Sales', 'Profit']]\n",
    "df"
   ]
  },
  {
   "cell_type": "code",
   "execution_count": 29,
   "id": "e7204fcd",
   "metadata": {},
   "outputs": [
    {
     "name": "stdout",
     "output_type": "stream",
     "text": [
      "Sales     100.0\n",
      "Profit     20.0\n",
      "Name: 0.25, dtype: float64\n",
      "\n",
      "Sales     150.0\n",
      "Profit     30.0\n",
      "Name: 0.5, dtype: float64\n",
      "\n",
      "      Sales  Profit\n",
      "0.25  100.0    20.0\n",
      "0.50  150.0    30.0\n",
      "0.75  170.0    40.0\n"
     ]
    }
   ],
   "source": [
    "print(df.quantile(0.25), end = '\\n\\n')  # 25th percentile\n",
    "print(df.quantile(0.5), end = '\\n\\n')   # 50th percentile (median)\n",
    "print(df.quantile([0.25, 0.5, 0.75]))"
   ]
  },
  {
   "cell_type": "markdown",
   "id": "8ed507a9",
   "metadata": {},
   "source": [
    "### 11. `df.cumsum()`, `df.cumprod()`"
   ]
  },
  {
   "cell_type": "markdown",
   "id": "4516e27b",
   "metadata": {},
   "source": [
    "* `cumsum()`: Cumulative sum across rows\n",
    "* `cumprod()`: Cumulative product across rows"
   ]
  },
  {
   "cell_type": "code",
   "execution_count": 30,
   "id": "95521266",
   "metadata": {},
   "outputs": [
    {
     "name": "stdout",
     "output_type": "stream",
     "text": [
      "   Sales  Profit\n",
      "0    100      20\n",
      "1    250      50\n",
      "2    330      60\n",
      "3    530     110\n",
      "4    700     150\n",
      "         Sales    Profit\n",
      "0          100        20\n",
      "1        15000       600\n",
      "2      1200000      6000\n",
      "3    240000000    300000\n",
      "4  40800000000  12000000\n"
     ]
    }
   ],
   "source": [
    "print(df[['Sales', 'Profit']].cumsum())\n",
    "print(df[['Sales', 'Profit']].cumprod())"
   ]
  },
  {
   "cell_type": "code",
   "execution_count": 31,
   "id": "2bb4286b",
   "metadata": {},
   "outputs": [
    {
     "name": "stdout",
     "output_type": "stream",
     "text": [
      "   Sales  Profit\n",
      "0    100      20\n",
      "1    250      50\n",
      "2    330      60\n",
      "3    530     110\n",
      "4    700     150\n",
      "         Sales    Profit\n",
      "0          100        20\n",
      "1        15000       600\n",
      "2      1200000      6000\n",
      "3    240000000    300000\n",
      "4  40800000000  12000000\n"
     ]
    }
   ],
   "source": [
    "print(df.cumsum())\n",
    "print(df.cumprod())"
   ]
  },
  {
   "cell_type": "markdown",
   "id": "adc10151",
   "metadata": {},
   "source": [
    "### Additional Notes:"
   ]
  },
  {
   "cell_type": "markdown",
   "id": "e0b48f51",
   "metadata": {},
   "source": [
    "* You can apply summary statistics row-wise using `axis=1`"
   ]
  },
  {
   "cell_type": "code",
   "execution_count": 34,
   "id": "5eeca084",
   "metadata": {},
   "outputs": [
    {
     "data": {
      "text/html": [
       "<div>\n",
       "<style scoped>\n",
       "    .dataframe tbody tr th:only-of-type {\n",
       "        vertical-align: middle;\n",
       "    }\n",
       "\n",
       "    .dataframe tbody tr th {\n",
       "        vertical-align: top;\n",
       "    }\n",
       "\n",
       "    .dataframe thead th {\n",
       "        text-align: right;\n",
       "    }\n",
       "</style>\n",
       "<table border=\"1\" class=\"dataframe\">\n",
       "  <thead>\n",
       "    <tr style=\"text-align: right;\">\n",
       "      <th></th>\n",
       "      <th>Sales</th>\n",
       "      <th>Profit</th>\n",
       "    </tr>\n",
       "  </thead>\n",
       "  <tbody>\n",
       "    <tr>\n",
       "      <th>0</th>\n",
       "      <td>100</td>\n",
       "      <td>20</td>\n",
       "    </tr>\n",
       "    <tr>\n",
       "      <th>1</th>\n",
       "      <td>150</td>\n",
       "      <td>30</td>\n",
       "    </tr>\n",
       "    <tr>\n",
       "      <th>2</th>\n",
       "      <td>80</td>\n",
       "      <td>10</td>\n",
       "    </tr>\n",
       "    <tr>\n",
       "      <th>3</th>\n",
       "      <td>200</td>\n",
       "      <td>50</td>\n",
       "    </tr>\n",
       "    <tr>\n",
       "      <th>4</th>\n",
       "      <td>170</td>\n",
       "      <td>40</td>\n",
       "    </tr>\n",
       "  </tbody>\n",
       "</table>\n",
       "</div>"
      ],
      "text/plain": [
       "   Sales  Profit\n",
       "0    100      20\n",
       "1    150      30\n",
       "2     80      10\n",
       "3    200      50\n",
       "4    170      40"
      ]
     },
     "execution_count": 34,
     "metadata": {},
     "output_type": "execute_result"
    }
   ],
   "source": [
    "df"
   ]
  },
  {
   "cell_type": "code",
   "execution_count": 32,
   "id": "3469ee54",
   "metadata": {},
   "outputs": [
    {
     "data": {
      "text/plain": [
       "0     60.0\n",
       "1     90.0\n",
       "2     45.0\n",
       "3    125.0\n",
       "4    105.0\n",
       "dtype: float64"
      ]
     },
     "execution_count": 32,
     "metadata": {},
     "output_type": "execute_result"
    }
   ],
   "source": [
    "df.mean(axis=1)  # Mean per row"
   ]
  },
  {
   "cell_type": "markdown",
   "id": "9f5358d0",
   "metadata": {},
   "source": [
    "* These methods **automatically ignore NaNs** unless specified."
   ]
  },
  {
   "cell_type": "markdown",
   "id": "c7b3665c",
   "metadata": {},
   "source": [
    "<center><b>Thanks</b></center>"
   ]
  }
 ],
 "metadata": {
  "kernelspec": {
   "display_name": "Python 3",
   "language": "python",
   "name": "python3"
  },
  "language_info": {
   "codemirror_mode": {
    "name": "ipython",
    "version": 3
   },
   "file_extension": ".py",
   "mimetype": "text/x-python",
   "name": "python",
   "nbconvert_exporter": "python",
   "pygments_lexer": "ipython3",
   "version": "3.10.2"
  }
 },
 "nbformat": 4,
 "nbformat_minor": 5
}
