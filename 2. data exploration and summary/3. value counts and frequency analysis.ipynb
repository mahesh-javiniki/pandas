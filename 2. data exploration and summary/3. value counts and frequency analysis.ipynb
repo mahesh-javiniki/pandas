{
 "cells": [
  {
   "cell_type": "markdown",
   "id": "978aa732",
   "metadata": {},
   "source": [
    "# Data Exploration and Summary"
   ]
  },
  {
   "cell_type": "code",
   "execution_count": 28,
   "id": "f7a85728",
   "metadata": {},
   "outputs": [],
   "source": [
    "import pandas as pd\n",
    "import numpy as np"
   ]
  },
  {
   "cell_type": "markdown",
   "id": "51959266",
   "metadata": {},
   "source": [
    "## 3. Value Counts & Frequency Analysis"
   ]
  },
  {
   "cell_type": "markdown",
   "id": "fc96c358",
   "metadata": {},
   "source": [
    "This section focuses on understanding how frequently different values occur in your dataset — crucial for \n",
    "- **categorical columns**, \n",
    "- **deduplication**, \n",
    "- **imbalance detection**, and \n",
    "- **distribution analysis**."
   ]
  },
  {
   "cell_type": "code",
   "execution_count": 3,
   "id": "9553371b",
   "metadata": {},
   "outputs": [
    {
     "data": {
      "text/html": [
       "<div>\n",
       "<style scoped>\n",
       "    .dataframe tbody tr th:only-of-type {\n",
       "        vertical-align: middle;\n",
       "    }\n",
       "\n",
       "    .dataframe tbody tr th {\n",
       "        vertical-align: top;\n",
       "    }\n",
       "\n",
       "    .dataframe thead th {\n",
       "        text-align: right;\n",
       "    }\n",
       "</style>\n",
       "<table border=\"1\" class=\"dataframe\">\n",
       "  <thead>\n",
       "    <tr style=\"text-align: right;\">\n",
       "      <th></th>\n",
       "      <th>City</th>\n",
       "      <th>Sales</th>\n",
       "    </tr>\n",
       "  </thead>\n",
       "  <tbody>\n",
       "    <tr>\n",
       "      <th>0</th>\n",
       "      <td>Delhi</td>\n",
       "      <td>200</td>\n",
       "    </tr>\n",
       "    <tr>\n",
       "      <th>1</th>\n",
       "      <td>Mumbai</td>\n",
       "      <td>300</td>\n",
       "    </tr>\n",
       "    <tr>\n",
       "      <th>2</th>\n",
       "      <td>Delhi</td>\n",
       "      <td>150</td>\n",
       "    </tr>\n",
       "    <tr>\n",
       "      <th>3</th>\n",
       "      <td>Chennai</td>\n",
       "      <td>400</td>\n",
       "    </tr>\n",
       "    <tr>\n",
       "      <th>4</th>\n",
       "      <td>Mumbai</td>\n",
       "      <td>300</td>\n",
       "    </tr>\n",
       "    <tr>\n",
       "      <th>5</th>\n",
       "      <td>Delhi</td>\n",
       "      <td>250</td>\n",
       "    </tr>\n",
       "    <tr>\n",
       "      <th>6</th>\n",
       "      <td>Chennai</td>\n",
       "      <td>450</td>\n",
       "    </tr>\n",
       "    <tr>\n",
       "      <th>7</th>\n",
       "      <td>Kolkata</td>\n",
       "      <td>500</td>\n",
       "    </tr>\n",
       "    <tr>\n",
       "      <th>8</th>\n",
       "      <td>Mumbai</td>\n",
       "      <td>300</td>\n",
       "    </tr>\n",
       "  </tbody>\n",
       "</table>\n",
       "</div>"
      ],
      "text/plain": [
       "      City  Sales\n",
       "0    Delhi    200\n",
       "1   Mumbai    300\n",
       "2    Delhi    150\n",
       "3  Chennai    400\n",
       "4   Mumbai    300\n",
       "5    Delhi    250\n",
       "6  Chennai    450\n",
       "7  Kolkata    500\n",
       "8   Mumbai    300"
      ]
     },
     "execution_count": 3,
     "metadata": {},
     "output_type": "execute_result"
    }
   ],
   "source": [
    "data = {\n",
    "    'City': ['Delhi', 'Mumbai', 'Delhi', 'Chennai', 'Mumbai', 'Delhi', 'Chennai', 'Kolkata', 'Mumbai'],\n",
    "    'Sales': [200, 300, 150, 400, 300, 250, 450, 500, 300]\n",
    "}\n",
    "\n",
    "df = pd.DataFrame(data)\n",
    "df"
   ]
  },
  {
   "cell_type": "markdown",
   "id": "48ce07c9",
   "metadata": {},
   "source": [
    "### 12. `df['col'].value_counts()`\n",
    "Counts the frequency of unique values **in descending order**."
   ]
  },
  {
   "cell_type": "code",
   "execution_count": 5,
   "id": "a5bde133",
   "metadata": {},
   "outputs": [
    {
     "data": {
      "text/plain": [
       "City\n",
       "Delhi      3\n",
       "Mumbai     3\n",
       "Chennai    2\n",
       "Kolkata    1\n",
       "Name: count, dtype: int64"
      ]
     },
     "execution_count": 5,
     "metadata": {},
     "output_type": "execute_result"
    }
   ],
   "source": [
    "df['City'].value_counts()"
   ]
  },
  {
   "cell_type": "markdown",
   "id": "6d51a97a",
   "metadata": {},
   "source": [
    "* **Sort ascending**:"
   ]
  },
  {
   "cell_type": "code",
   "execution_count": 6,
   "id": "67ebbbcc",
   "metadata": {},
   "outputs": [
    {
     "data": {
      "text/plain": [
       "City\n",
       "Kolkata    1\n",
       "Chennai    2\n",
       "Delhi      3\n",
       "Mumbai     3\n",
       "Name: count, dtype: int64"
      ]
     },
     "execution_count": 6,
     "metadata": {},
     "output_type": "execute_result"
    }
   ],
   "source": [
    "df['City'].value_counts(ascending=True)"
   ]
  },
  {
   "cell_type": "markdown",
   "id": "f47485e8",
   "metadata": {},
   "source": [
    "* **Include missing values** (if any):"
   ]
  },
  {
   "cell_type": "code",
   "execution_count": 8,
   "id": "29031160",
   "metadata": {},
   "outputs": [
    {
     "data": {
      "text/plain": [
       "City\n",
       "Delhi      3\n",
       "Mumbai     3\n",
       "Chennai    2\n",
       "Kolkata    1\n",
       "Name: count, dtype: int64"
      ]
     },
     "execution_count": 8,
     "metadata": {},
     "output_type": "execute_result"
    }
   ],
   "source": [
    "df['City'].value_counts(dropna=False)"
   ]
  },
  {
   "cell_type": "code",
   "execution_count": 29,
   "id": "e94a8490",
   "metadata": {},
   "outputs": [
    {
     "data": {
      "text/html": [
       "<div>\n",
       "<style scoped>\n",
       "    .dataframe tbody tr th:only-of-type {\n",
       "        vertical-align: middle;\n",
       "    }\n",
       "\n",
       "    .dataframe tbody tr th {\n",
       "        vertical-align: top;\n",
       "    }\n",
       "\n",
       "    .dataframe thead th {\n",
       "        text-align: right;\n",
       "    }\n",
       "</style>\n",
       "<table border=\"1\" class=\"dataframe\">\n",
       "  <thead>\n",
       "    <tr style=\"text-align: right;\">\n",
       "      <th></th>\n",
       "      <th>City</th>\n",
       "      <th>Sales</th>\n",
       "    </tr>\n",
       "  </thead>\n",
       "  <tbody>\n",
       "    <tr>\n",
       "      <th>0</th>\n",
       "      <td>Delhi</td>\n",
       "      <td>200.0</td>\n",
       "    </tr>\n",
       "    <tr>\n",
       "      <th>1</th>\n",
       "      <td>Mumbai</td>\n",
       "      <td>300.0</td>\n",
       "    </tr>\n",
       "    <tr>\n",
       "      <th>2</th>\n",
       "      <td>Delhi</td>\n",
       "      <td>150.0</td>\n",
       "    </tr>\n",
       "    <tr>\n",
       "      <th>3</th>\n",
       "      <td>Chennai</td>\n",
       "      <td>400.0</td>\n",
       "    </tr>\n",
       "    <tr>\n",
       "      <th>4</th>\n",
       "      <td>Mumbai</td>\n",
       "      <td>300.0</td>\n",
       "    </tr>\n",
       "    <tr>\n",
       "      <th>5</th>\n",
       "      <td>Delhi</td>\n",
       "      <td>250.0</td>\n",
       "    </tr>\n",
       "    <tr>\n",
       "      <th>6</th>\n",
       "      <td>Chennai</td>\n",
       "      <td>450.0</td>\n",
       "    </tr>\n",
       "    <tr>\n",
       "      <th>7</th>\n",
       "      <td>Kolkata</td>\n",
       "      <td>500.0</td>\n",
       "    </tr>\n",
       "    <tr>\n",
       "      <th>8</th>\n",
       "      <td>Mumbai</td>\n",
       "      <td>300.0</td>\n",
       "    </tr>\n",
       "    <tr>\n",
       "      <th>0</th>\n",
       "      <td>NaN</td>\n",
       "      <td>NaN</td>\n",
       "    </tr>\n",
       "  </tbody>\n",
       "</table>\n",
       "</div>"
      ],
      "text/plain": [
       "      City  Sales\n",
       "0    Delhi  200.0\n",
       "1   Mumbai  300.0\n",
       "2    Delhi  150.0\n",
       "3  Chennai  400.0\n",
       "4   Mumbai  300.0\n",
       "5    Delhi  250.0\n",
       "6  Chennai  450.0\n",
       "7  Kolkata  500.0\n",
       "8   Mumbai  300.0\n",
       "0      NaN    NaN"
      ]
     },
     "execution_count": 29,
     "metadata": {},
     "output_type": "execute_result"
    }
   ],
   "source": [
    "df1 = pd.concat([df, pd.DataFrame([[np.nan, np.nan]], columns=['City', 'Sales'])], axis=0)\n",
    "df1"
   ]
  },
  {
   "cell_type": "code",
   "execution_count": 33,
   "id": "92a09966",
   "metadata": {},
   "outputs": [
    {
     "data": {
      "text/plain": [
       "City\n",
       "Delhi      3\n",
       "Mumbai     3\n",
       "Chennai    2\n",
       "Kolkata    1\n",
       "Name: count, dtype: int64"
      ]
     },
     "execution_count": 33,
     "metadata": {},
     "output_type": "execute_result"
    }
   ],
   "source": [
    "df1['City'].value_counts()"
   ]
  },
  {
   "cell_type": "code",
   "execution_count": 34,
   "id": "0a75c772",
   "metadata": {},
   "outputs": [
    {
     "data": {
      "text/plain": [
       "City\n",
       "Delhi      3\n",
       "Mumbai     3\n",
       "Chennai    2\n",
       "Kolkata    1\n",
       "NaN        1\n",
       "Name: count, dtype: int64"
      ]
     },
     "execution_count": 34,
     "metadata": {},
     "output_type": "execute_result"
    }
   ],
   "source": [
    "df1['City'].value_counts(dropna=False)"
   ]
  },
  {
   "cell_type": "markdown",
   "id": "3b937999",
   "metadata": {},
   "source": [
    "### 13. `df['col'].value_counts(normalize=True)`\n",
    "Returns **relative frequency** instead of count (i.e., proportion as float)."
   ]
  },
  {
   "cell_type": "code",
   "execution_count": 35,
   "id": "a505c265",
   "metadata": {},
   "outputs": [
    {
     "data": {
      "text/plain": [
       "City\n",
       "Delhi      0.333333\n",
       "Mumbai     0.333333\n",
       "Chennai    0.222222\n",
       "Kolkata    0.111111\n",
       "Name: proportion, dtype: float64"
      ]
     },
     "execution_count": 35,
     "metadata": {},
     "output_type": "execute_result"
    }
   ],
   "source": [
    "df1.City.value_counts(normalize=True)"
   ]
  },
  {
   "cell_type": "code",
   "execution_count": 37,
   "id": "7ab5c4d2",
   "metadata": {},
   "outputs": [
    {
     "data": {
      "text/plain": [
       "City\n",
       "Delhi      33.333333\n",
       "Mumbai     33.333333\n",
       "Chennai    22.222222\n",
       "Kolkata    11.111111\n",
       "Name: proportion, dtype: float64"
      ]
     },
     "execution_count": 37,
     "metadata": {},
     "output_type": "execute_result"
    }
   ],
   "source": [
    "# You can multiply by 100 for percentage:\n",
    "\n",
    "df1['City'].value_counts(normalize=True) * 100"
   ]
  },
  {
   "cell_type": "code",
   "execution_count": 38,
   "id": "891a388c",
   "metadata": {},
   "outputs": [
    {
     "data": {
      "text/plain": [
       "City\n",
       "Delhi      30.0\n",
       "Mumbai     30.0\n",
       "Chennai    20.0\n",
       "Kolkata    10.0\n",
       "NaN        10.0\n",
       "Name: proportion, dtype: float64"
      ]
     },
     "execution_count": 38,
     "metadata": {},
     "output_type": "execute_result"
    }
   ],
   "source": [
    "df1['City'].value_counts(normalize=True, dropna=False) * 100"
   ]
  },
  {
   "cell_type": "markdown",
   "id": "92d6b588",
   "metadata": {},
   "source": [
    "### 14. `df['col'].unique()` and `df['col'].nunique()`"
   ]
  },
  {
   "cell_type": "markdown",
   "id": "0e64d596",
   "metadata": {},
   "source": [
    "* `.unique()` → Returns **array** of distinct values\n",
    "* `.nunique()` → Returns **number** of unique values"
   ]
  },
  {
   "cell_type": "code",
   "execution_count": 39,
   "id": "3581aafc",
   "metadata": {},
   "outputs": [
    {
     "data": {
      "text/plain": [
       "array(['Delhi', 'Mumbai', 'Chennai', 'Kolkata', nan], dtype=object)"
      ]
     },
     "execution_count": 39,
     "metadata": {},
     "output_type": "execute_result"
    }
   ],
   "source": [
    "df1['City'].unique()"
   ]
  },
  {
   "cell_type": "code",
   "execution_count": 42,
   "id": "a90e4b5b",
   "metadata": {},
   "outputs": [
    {
     "data": {
      "text/plain": [
       "4"
      ]
     },
     "execution_count": 42,
     "metadata": {},
     "output_type": "execute_result"
    }
   ],
   "source": [
    "df1['City'].nunique()"
   ]
  },
  {
   "cell_type": "markdown",
   "id": "4e14b5b8",
   "metadata": {},
   "source": [
    "You can also count unique values **including NaNs**:"
   ]
  },
  {
   "cell_type": "code",
   "execution_count": 41,
   "id": "9a9bf15a",
   "metadata": {},
   "outputs": [
    {
     "data": {
      "text/plain": [
       "5"
      ]
     },
     "execution_count": 41,
     "metadata": {},
     "output_type": "execute_result"
    }
   ],
   "source": [
    "df1['City'].nunique(dropna=False)"
   ]
  },
  {
   "cell_type": "markdown",
   "id": "fa24a364",
   "metadata": {},
   "source": [
    "### ✅ Summary Table\n",
    "\n",
    "| Method                         | Purpose                | Output Type         |\n",
    "| ------------------------------ | ---------------------- | ------------------- |\n",
    "| `value_counts()`               | Frequency count        | Series (descending) |\n",
    "| `value_counts(normalize=True)` | Frequency proportion   | Series (float)      |\n",
    "| `unique()`                     | Unique values          | NumPy array         |\n",
    "| `nunique()`                    | Count of unique values | Integer             |\n",
    "\n",
    "---\n",
    "\n",
    "### 🔍 Real-Life Use Cases\n",
    "\n",
    "| Use Case                            | Relevant Method                     |\n",
    "| ----------------------------------- | ----------------------------------- |\n",
    "| Checking class imbalance            | `value_counts()` / `normalize=True` |\n",
    "| Finding unique categories in column | `unique()` / `nunique()`            |\n",
    "| Data cleaning (detect typos)        | `value_counts()`                    |\n",
    "| Encoding categorical values later   | `unique()` (for mapping to numbers) |"
   ]
  },
  {
   "cell_type": "markdown",
   "id": "d1acab52",
   "metadata": {},
   "source": [
    "<center><b>Thanks</b></center>"
   ]
  }
 ],
 "metadata": {
  "kernelspec": {
   "display_name": "Python 3",
   "language": "python",
   "name": "python3"
  },
  "language_info": {
   "codemirror_mode": {
    "name": "ipython",
    "version": 3
   },
   "file_extension": ".py",
   "mimetype": "text/x-python",
   "name": "python",
   "nbconvert_exporter": "python",
   "pygments_lexer": "ipython3",
   "version": "3.10.2"
  }
 },
 "nbformat": 4,
 "nbformat_minor": 5
}
