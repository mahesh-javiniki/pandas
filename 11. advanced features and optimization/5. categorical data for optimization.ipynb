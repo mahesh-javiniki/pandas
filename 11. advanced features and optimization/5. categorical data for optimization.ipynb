{
 "cells": [
  {
   "cell_type": "markdown",
   "id": "31a7045a",
   "metadata": {},
   "source": [
    "# **11. Advanced Features & Optimization**"
   ]
  },
  {
   "cell_type": "markdown",
   "id": "024bd2a9",
   "metadata": {},
   "source": [
    "## 🧮 5. **Categorical Data for Optimization**"
   ]
  },
  {
   "cell_type": "code",
   "execution_count": 1,
   "id": "278598d6",
   "metadata": {},
   "outputs": [],
   "source": [
    "import pandas as pd"
   ]
  },
  {
   "cell_type": "markdown",
   "id": "7bcb67be",
   "metadata": {},
   "source": [
    "## 📌 1. **Purpose & When to Use It**\n",
    "\n",
    "### 🎯 **Purpose**:\n",
    "\n",
    "The `Categorical` data type in pandas is designed to **optimize memory** and **speed up performance** when a column contains **repeated string values or limited unique values** (low cardinality). Instead of storing raw strings repeatedly, pandas stores an integer-based mapping behind the scenes.\n",
    "\n",
    "### 📅 **When to Use It**:\n",
    "\n",
    "* When columns contain **repeating string values** like country names, categories, regions, etc.\n",
    "* When performing **grouping, sorting, filtering**, or **merging** operations on such fields\n",
    "* When working with **string/object** columns that can be encoded"
   ]
  },
  {
   "cell_type": "markdown",
   "id": "136b9907",
   "metadata": {},
   "source": [
    "## 🧠 2. **Different Methods and Techniques**\n",
    "\n",
    "| Technique                         | Description                                      |\n",
    "| --------------------------------- | ------------------------------------------------ |\n",
    "| `.astype('category')`             | Convert object/string column to categorical type |\n",
    "| `pd.Categorical()`                | Manually create a categorical object             |\n",
    "| `df.select_dtypes()`              | Filter columns by type to target categoricals    |\n",
    "| `df['col'].cat.categories`        | Access the list of categories                    |\n",
    "| `df['col'].cat.codes`             | View underlying integer representation           |\n",
    "| `.cat.set_categories()`           | Manually define or reorder categories            |\n",
    "| `.cat.remove_unused_categories()` | Clean up unused levels                           |\n"
   ]
  },
  {
   "cell_type": "markdown",
   "id": "e17dbddf",
   "metadata": {},
   "source": [
    "## 🧪 3. **Examples with Code**"
   ]
  },
  {
   "cell_type": "markdown",
   "id": "67653752",
   "metadata": {},
   "source": [
    "### 🔹 a) Basic conversion to category"
   ]
  },
  {
   "cell_type": "code",
   "execution_count": 3,
   "id": "e1740831",
   "metadata": {},
   "outputs": [
    {
     "data": {
      "text/html": [
       "<div>\n",
       "<style scoped>\n",
       "    .dataframe tbody tr th:only-of-type {\n",
       "        vertical-align: middle;\n",
       "    }\n",
       "\n",
       "    .dataframe tbody tr th {\n",
       "        vertical-align: top;\n",
       "    }\n",
       "\n",
       "    .dataframe thead th {\n",
       "        text-align: right;\n",
       "    }\n",
       "</style>\n",
       "<table border=\"1\" class=\"dataframe\">\n",
       "  <thead>\n",
       "    <tr style=\"text-align: right;\">\n",
       "      <th></th>\n",
       "      <th>City</th>\n",
       "    </tr>\n",
       "  </thead>\n",
       "  <tbody>\n",
       "    <tr>\n",
       "      <th>0</th>\n",
       "      <td>Delhi</td>\n",
       "    </tr>\n",
       "    <tr>\n",
       "      <th>1</th>\n",
       "      <td>Mumbai</td>\n",
       "    </tr>\n",
       "    <tr>\n",
       "      <th>2</th>\n",
       "      <td>Delhi</td>\n",
       "    </tr>\n",
       "    <tr>\n",
       "      <th>3</th>\n",
       "      <td>Chennai</td>\n",
       "    </tr>\n",
       "    <tr>\n",
       "      <th>4</th>\n",
       "      <td>Mumbai</td>\n",
       "    </tr>\n",
       "  </tbody>\n",
       "</table>\n",
       "</div>"
      ],
      "text/plain": [
       "      City\n",
       "0    Delhi\n",
       "1   Mumbai\n",
       "2    Delhi\n",
       "3  Chennai\n",
       "4   Mumbai"
      ]
     },
     "metadata": {},
     "output_type": "display_data"
    },
    {
     "name": "stdout",
     "output_type": "stream",
     "text": [
      "City    object\n",
      "dtype: object\n"
     ]
    }
   ],
   "source": [
    "df = pd.DataFrame({\n",
    "    'City': ['Delhi', 'Mumbai', 'Delhi', 'Chennai', 'Mumbai']\n",
    "})\n",
    "\n",
    "display(df)\n",
    "print(df.dtypes)"
   ]
  },
  {
   "cell_type": "code",
   "execution_count": 5,
   "id": "e3e010f8",
   "metadata": {},
   "outputs": [
    {
     "data": {
      "text/html": [
       "<div>\n",
       "<style scoped>\n",
       "    .dataframe tbody tr th:only-of-type {\n",
       "        vertical-align: middle;\n",
       "    }\n",
       "\n",
       "    .dataframe tbody tr th {\n",
       "        vertical-align: top;\n",
       "    }\n",
       "\n",
       "    .dataframe thead th {\n",
       "        text-align: right;\n",
       "    }\n",
       "</style>\n",
       "<table border=\"1\" class=\"dataframe\">\n",
       "  <thead>\n",
       "    <tr style=\"text-align: right;\">\n",
       "      <th></th>\n",
       "      <th>City</th>\n",
       "    </tr>\n",
       "  </thead>\n",
       "  <tbody>\n",
       "    <tr>\n",
       "      <th>0</th>\n",
       "      <td>Delhi</td>\n",
       "    </tr>\n",
       "    <tr>\n",
       "      <th>1</th>\n",
       "      <td>Mumbai</td>\n",
       "    </tr>\n",
       "    <tr>\n",
       "      <th>2</th>\n",
       "      <td>Delhi</td>\n",
       "    </tr>\n",
       "    <tr>\n",
       "      <th>3</th>\n",
       "      <td>Chennai</td>\n",
       "    </tr>\n",
       "    <tr>\n",
       "      <th>4</th>\n",
       "      <td>Mumbai</td>\n",
       "    </tr>\n",
       "  </tbody>\n",
       "</table>\n",
       "</div>"
      ],
      "text/plain": [
       "      City\n",
       "0    Delhi\n",
       "1   Mumbai\n",
       "2    Delhi\n",
       "3  Chennai\n",
       "4   Mumbai"
      ]
     },
     "metadata": {},
     "output_type": "display_data"
    },
    {
     "name": "stdout",
     "output_type": "stream",
     "text": [
      "City    category\n",
      "dtype: object\n"
     ]
    }
   ],
   "source": [
    "df['City'] = df['City'].astype('category')\n",
    "display(df)\n",
    "print(df.dtypes)"
   ]
  },
  {
   "cell_type": "markdown",
   "id": "d5941402",
   "metadata": {},
   "source": [
    "### 🔹 b) Access categories and codes"
   ]
  },
  {
   "cell_type": "code",
   "execution_count": 7,
   "id": "7747d98e",
   "metadata": {},
   "outputs": [
    {
     "data": {
      "text/plain": [
       "Index(['Chennai', 'Delhi', 'Mumbai'], dtype='object')"
      ]
     },
     "execution_count": 7,
     "metadata": {},
     "output_type": "execute_result"
    }
   ],
   "source": [
    "df['City'].cat.categories"
   ]
  },
  {
   "cell_type": "code",
   "execution_count": 9,
   "id": "fd8ad967",
   "metadata": {},
   "outputs": [
    {
     "data": {
      "text/html": [
       "<div>\n",
       "<style scoped>\n",
       "    .dataframe tbody tr th:only-of-type {\n",
       "        vertical-align: middle;\n",
       "    }\n",
       "\n",
       "    .dataframe tbody tr th {\n",
       "        vertical-align: top;\n",
       "    }\n",
       "\n",
       "    .dataframe thead th {\n",
       "        text-align: right;\n",
       "    }\n",
       "</style>\n",
       "<table border=\"1\" class=\"dataframe\">\n",
       "  <thead>\n",
       "    <tr style=\"text-align: right;\">\n",
       "      <th></th>\n",
       "      <th>City</th>\n",
       "    </tr>\n",
       "  </thead>\n",
       "  <tbody>\n",
       "    <tr>\n",
       "      <th>0</th>\n",
       "      <td>Delhi</td>\n",
       "    </tr>\n",
       "    <tr>\n",
       "      <th>1</th>\n",
       "      <td>Mumbai</td>\n",
       "    </tr>\n",
       "    <tr>\n",
       "      <th>2</th>\n",
       "      <td>Delhi</td>\n",
       "    </tr>\n",
       "    <tr>\n",
       "      <th>3</th>\n",
       "      <td>Chennai</td>\n",
       "    </tr>\n",
       "    <tr>\n",
       "      <th>4</th>\n",
       "      <td>Mumbai</td>\n",
       "    </tr>\n",
       "  </tbody>\n",
       "</table>\n",
       "</div>"
      ],
      "text/plain": [
       "      City\n",
       "0    Delhi\n",
       "1   Mumbai\n",
       "2    Delhi\n",
       "3  Chennai\n",
       "4   Mumbai"
      ]
     },
     "metadata": {},
     "output_type": "display_data"
    },
    {
     "data": {
      "text/plain": [
       "0    1\n",
       "1    2\n",
       "2    1\n",
       "3    0\n",
       "4    2\n",
       "dtype: int8"
      ]
     },
     "metadata": {},
     "output_type": "display_data"
    }
   ],
   "source": [
    "display(df)\n",
    "display(df['City'].cat.codes)"
   ]
  },
  {
   "cell_type": "markdown",
   "id": "8881c655",
   "metadata": {},
   "source": [
    "### 🔹 c) Manually define categorical values"
   ]
  },
  {
   "cell_type": "code",
   "execution_count": 13,
   "id": "32c3c1e1",
   "metadata": {},
   "outputs": [
    {
     "data": {
      "text/html": [
       "<div>\n",
       "<style scoped>\n",
       "    .dataframe tbody tr th:only-of-type {\n",
       "        vertical-align: middle;\n",
       "    }\n",
       "\n",
       "    .dataframe tbody tr th {\n",
       "        vertical-align: top;\n",
       "    }\n",
       "\n",
       "    .dataframe thead th {\n",
       "        text-align: right;\n",
       "    }\n",
       "</style>\n",
       "<table border=\"1\" class=\"dataframe\">\n",
       "  <thead>\n",
       "    <tr style=\"text-align: right;\">\n",
       "      <th></th>\n",
       "      <th>City</th>\n",
       "      <th>City1</th>\n",
       "    </tr>\n",
       "  </thead>\n",
       "  <tbody>\n",
       "    <tr>\n",
       "      <th>0</th>\n",
       "      <td>Delhi</td>\n",
       "      <td>Delhi</td>\n",
       "    </tr>\n",
       "    <tr>\n",
       "      <th>1</th>\n",
       "      <td>Mumbai</td>\n",
       "      <td>Mumbai</td>\n",
       "    </tr>\n",
       "    <tr>\n",
       "      <th>2</th>\n",
       "      <td>Delhi</td>\n",
       "      <td>Delhi</td>\n",
       "    </tr>\n",
       "    <tr>\n",
       "      <th>3</th>\n",
       "      <td>Chennai</td>\n",
       "      <td>Chennai</td>\n",
       "    </tr>\n",
       "    <tr>\n",
       "      <th>4</th>\n",
       "      <td>Mumbai</td>\n",
       "      <td>Mumbai</td>\n",
       "    </tr>\n",
       "  </tbody>\n",
       "</table>\n",
       "</div>"
      ],
      "text/plain": [
       "      City    City1\n",
       "0    Delhi    Delhi\n",
       "1   Mumbai   Mumbai\n",
       "2    Delhi    Delhi\n",
       "3  Chennai  Chennai\n",
       "4   Mumbai   Mumbai"
      ]
     },
     "execution_count": 13,
     "metadata": {},
     "output_type": "execute_result"
    }
   ],
   "source": [
    "df['City1'] = pd.Categorical(\n",
    "    df['City'], categories=['Chennai', 'Delhi', 'Mumbai'], ordered=True\n",
    ")\n",
    "\n",
    "df"
   ]
  },
  {
   "cell_type": "markdown",
   "id": "95a27b94",
   "metadata": {},
   "source": [
    "### 🔹 d) Remove unused categories"
   ]
  },
  {
   "cell_type": "code",
   "execution_count": 14,
   "id": "5679d5ac",
   "metadata": {},
   "outputs": [
    {
     "data": {
      "text/html": [
       "<div>\n",
       "<style scoped>\n",
       "    .dataframe tbody tr th:only-of-type {\n",
       "        vertical-align: middle;\n",
       "    }\n",
       "\n",
       "    .dataframe tbody tr th {\n",
       "        vertical-align: top;\n",
       "    }\n",
       "\n",
       "    .dataframe thead th {\n",
       "        text-align: right;\n",
       "    }\n",
       "</style>\n",
       "<table border=\"1\" class=\"dataframe\">\n",
       "  <thead>\n",
       "    <tr style=\"text-align: right;\">\n",
       "      <th></th>\n",
       "      <th>City</th>\n",
       "      <th>City1</th>\n",
       "    </tr>\n",
       "  </thead>\n",
       "  <tbody>\n",
       "    <tr>\n",
       "      <th>1</th>\n",
       "      <td>Mumbai</td>\n",
       "      <td>Mumbai</td>\n",
       "    </tr>\n",
       "    <tr>\n",
       "      <th>3</th>\n",
       "      <td>Chennai</td>\n",
       "      <td>Chennai</td>\n",
       "    </tr>\n",
       "    <tr>\n",
       "      <th>4</th>\n",
       "      <td>Mumbai</td>\n",
       "      <td>Mumbai</td>\n",
       "    </tr>\n",
       "  </tbody>\n",
       "</table>\n",
       "</div>"
      ],
      "text/plain": [
       "      City    City1\n",
       "1   Mumbai   Mumbai\n",
       "3  Chennai  Chennai\n",
       "4   Mumbai   Mumbai"
      ]
     },
     "execution_count": 14,
     "metadata": {},
     "output_type": "execute_result"
    }
   ],
   "source": [
    "df = df[df['City'] != 'Delhi']\n",
    "\n",
    "df"
   ]
  },
  {
   "cell_type": "code",
   "execution_count": 17,
   "id": "2b7a31fa",
   "metadata": {},
   "outputs": [
    {
     "data": {
      "text/plain": [
       "1     Mumbai\n",
       "3    Chennai\n",
       "4     Mumbai\n",
       "Name: City, dtype: category\n",
       "Categories (2, object): ['Chennai', 'Mumbai']"
      ]
     },
     "execution_count": 17,
     "metadata": {},
     "output_type": "execute_result"
    }
   ],
   "source": [
    "df['City'].cat.remove_unused_categories()"
   ]
  },
  {
   "cell_type": "code",
   "execution_count": 16,
   "id": "fd42624e",
   "metadata": {},
   "outputs": [
    {
     "name": "stderr",
     "output_type": "stream",
     "text": [
      "C:\\Users\\mahes\\AppData\\Local\\Temp\\ipykernel_20192\\3101824040.py:1: SettingWithCopyWarning: \n",
      "A value is trying to be set on a copy of a slice from a DataFrame.\n",
      "Try using .loc[row_indexer,col_indexer] = value instead\n",
      "\n",
      "See the caveats in the documentation: https://pandas.pydata.org/pandas-docs/stable/user_guide/indexing.html#returning-a-view-versus-a-copy\n",
      "  df['City'] = df['City'].cat.remove_unused_categories()\n"
     ]
    },
    {
     "data": {
      "text/html": [
       "<div>\n",
       "<style scoped>\n",
       "    .dataframe tbody tr th:only-of-type {\n",
       "        vertical-align: middle;\n",
       "    }\n",
       "\n",
       "    .dataframe tbody tr th {\n",
       "        vertical-align: top;\n",
       "    }\n",
       "\n",
       "    .dataframe thead th {\n",
       "        text-align: right;\n",
       "    }\n",
       "</style>\n",
       "<table border=\"1\" class=\"dataframe\">\n",
       "  <thead>\n",
       "    <tr style=\"text-align: right;\">\n",
       "      <th></th>\n",
       "      <th>City</th>\n",
       "      <th>City1</th>\n",
       "    </tr>\n",
       "  </thead>\n",
       "  <tbody>\n",
       "    <tr>\n",
       "      <th>1</th>\n",
       "      <td>Mumbai</td>\n",
       "      <td>Mumbai</td>\n",
       "    </tr>\n",
       "    <tr>\n",
       "      <th>3</th>\n",
       "      <td>Chennai</td>\n",
       "      <td>Chennai</td>\n",
       "    </tr>\n",
       "    <tr>\n",
       "      <th>4</th>\n",
       "      <td>Mumbai</td>\n",
       "      <td>Mumbai</td>\n",
       "    </tr>\n",
       "  </tbody>\n",
       "</table>\n",
       "</div>"
      ],
      "text/plain": [
       "      City    City1\n",
       "1   Mumbai   Mumbai\n",
       "3  Chennai  Chennai\n",
       "4   Mumbai   Mumbai"
      ]
     },
     "execution_count": 16,
     "metadata": {},
     "output_type": "execute_result"
    }
   ],
   "source": [
    "df['City'] = df['City'].cat.remove_unused_categories()\n",
    "\n",
    "df"
   ]
  },
  {
   "cell_type": "markdown",
   "id": "9798b59f",
   "metadata": {},
   "source": [
    "## ⚡ 4. **Performance Considerations**\n",
    "\n",
    "| Optimization              | Memory Saved            | Speed Impact                 |\n",
    "| ------------------------- | ----------------------- | ---------------------------- |\n",
    "| Categorical vs object     | Up to 80–90% reduction  | Faster groupby and sorting   |\n",
    "| Encoding with `cat.codes` | Useful for ML pipelines | Reduced computation overhead |\n",
    "| Ordered categoricals      | Optimized comparisons   | Speeds up conditional logic  |\n",
    "\n",
    "### ✅ Benchmark Example:\n",
    "\n",
    "```python\n",
    "df = pd.DataFrame({'Fruit': ['Apple']*1000000 + ['Banana']*1000000})\n",
    "df['Fruit'] = df['Fruit'].astype('category')\n",
    "# This will consume ~10x less memory than object dtype\n",
    "```"
   ]
  },
  {
   "cell_type": "markdown",
   "id": "c0adaf3a",
   "metadata": {},
   "source": [
    "## ⚠️ 5. **Common Pitfalls & Mistakes**\n",
    "\n",
    "| Mistake                                              | Problem                                 |\n",
    "| ---------------------------------------------------- | --------------------------------------- |\n",
    "| ❌ Converting **high-cardinality** strings            | Little to no memory gain, may slow down |\n",
    "| ❌ Using `category` on columns that frequently change | Overhead in updating categories         |\n",
    "| ❌ Not removing unused categories                     | Leads to bloated category lists         |\n",
    "| ❌ Assuming it helps numeric columns                  | Only applies to string/object columns   |\n",
    "| ❌ Forgetting to set `ordered=True` when needed       | Breaks sorting logic                    |\n"
   ]
  },
  {
   "cell_type": "markdown",
   "id": "ba112b6b",
   "metadata": {},
   "source": [
    "## ✅ 6. **Best Practices**\n",
    "\n",
    "* ✅ Use `category` for **low-cardinality text** columns (e.g., gender, product type)\n",
    "* ✅ Convert early in your pipeline (right after loading)\n",
    "* ✅ For ML preprocessing, convert to `cat.codes` for numerical features\n",
    "* ✅ Use `remove_unused_categories()` when subsetting the data\n",
    "* ✅ Set `ordered=True` when doing ordered comparisons (e.g., small < medium < large)\n",
    "* ✅ Avoid on columns with unique or near-unique values\n"
   ]
  },
  {
   "cell_type": "markdown",
   "id": "690309cb",
   "metadata": {},
   "source": [
    "## 💼 7. **Use Cases in Real Projects**\n",
    "\n",
    "| Domain                    | Use Case                                                   |\n",
    "| ------------------------- | ---------------------------------------------------------- |\n",
    "| 🛍️ E-commerce            | Product category, brand, user gender for profiling         |\n",
    "| 🚚 Logistics              | Route zone, warehouse names (low cardinality strings)      |\n",
    "| 🏥 Healthcare             | Diagnosis codes, departments, patient group types          |\n",
    "| 📈 Finance                | Account type, transaction category for aggregation         |\n",
    "| 🧪 ML Pipelines           | Convert target and input features to codes for model input |\n",
    "| 📊 Surveys & Demographics | Age group, education level, region, etc.                   |\n"
   ]
  },
  {
   "cell_type": "markdown",
   "id": "defa2572",
   "metadata": {},
   "source": [
    "## ✅ Summary\n",
    "\n",
    "The use of **categorical data** is one of the **most impactful memory optimization strategies** in pandas. It reduces memory usage drastically for repeated string values and can significantly **improve performance for grouping, filtering, and sorting**. Use it carefully, especially in datasets with **low-cardinality textual data**.\n"
   ]
  },
  {
   "cell_type": "markdown",
   "id": "04f6d644",
   "metadata": {},
   "source": [
    "<center><b>Thanks</b></center>"
   ]
  }
 ],
 "metadata": {
  "kernelspec": {
   "display_name": "venv",
   "language": "python",
   "name": "python3"
  },
  "language_info": {
   "codemirror_mode": {
    "name": "ipython",
    "version": 3
   },
   "file_extension": ".py",
   "mimetype": "text/x-python",
   "name": "python",
   "nbconvert_exporter": "python",
   "pygments_lexer": "ipython3",
   "version": "3.10.2"
  }
 },
 "nbformat": 4,
 "nbformat_minor": 5
}
