{
 "cells": [
  {
   "cell_type": "markdown",
   "id": "b50bf0bf",
   "metadata": {},
   "source": [
    "# **11. Advanced Features & Optimization**"
   ]
  },
  {
   "cell_type": "markdown",
   "id": "19878a37",
   "metadata": {},
   "source": [
    "## 🧩 6. **Discretization & Binning**"
   ]
  },
  {
   "cell_type": "code",
   "execution_count": 1,
   "id": "dba6700f",
   "metadata": {},
   "outputs": [],
   "source": [
    "import pandas as pd"
   ]
  },
  {
   "cell_type": "markdown",
   "id": "0aca63d1",
   "metadata": {},
   "source": [
    "## 📌 1. **Purpose & When to Use It**\n",
    "\n",
    "### 🎯 **Purpose**:\n",
    "\n",
    "Discretization (also called **binning**) is the process of converting **continuous numerical variables** into **discrete categories** or bins. This simplifies complex numerical data and is especially helpful in:\n",
    "\n",
    "* Enhancing interpretability\n",
    "* Reducing noise and overfitting\n",
    "* Preparing data for models that work better with categories (e.g., decision trees)\n",
    "* Creating groups for statistical summaries or visualization\n",
    "\n",
    "### 📅 **When to Use It**:\n",
    "\n",
    "* When you want to analyze **distribution patterns**\n",
    "* During **feature engineering** for machine learning models\n",
    "* To create **segments**, such as age groups, income brackets, or rating levels"
   ]
  },
  {
   "cell_type": "markdown",
   "id": "a75652e4",
   "metadata": {},
   "source": [
    "## 🧠 2. **Different Methods and Techniques**\n",
    "\n",
    "| Method                                      | Description                                                  |\n",
    "| ------------------------------------------- | ------------------------------------------------------------ |\n",
    "| `pd.cut()`                                  | Bins continuous data into equal-width or custom bins         |\n",
    "| `pd.qcut()`                                 | Bins data into quantiles (equal-sized buckets based on rank) |\n",
    "| Custom logic using `.apply()` or conditions | Manually define bins with custom labels and logic            |\n",
    "| Discretizers in `sklearn`                   | For more advanced or supervised binning strategies           |\n"
   ]
  },
  {
   "cell_type": "markdown",
   "id": "6bc013e1",
   "metadata": {},
   "source": [
    "## 🧪 3. **Examples with Code**"
   ]
  },
  {
   "cell_type": "markdown",
   "id": "8a26b9df",
   "metadata": {},
   "source": [
    "### 🔹 a) Binning with `pd.cut()` (Equal-width bins)"
   ]
  },
  {
   "cell_type": "code",
   "execution_count": 2,
   "id": "c3dd7a1f",
   "metadata": {},
   "outputs": [
    {
     "data": {
      "text/html": [
       "<div>\n",
       "<style scoped>\n",
       "    .dataframe tbody tr th:only-of-type {\n",
       "        vertical-align: middle;\n",
       "    }\n",
       "\n",
       "    .dataframe tbody tr th {\n",
       "        vertical-align: top;\n",
       "    }\n",
       "\n",
       "    .dataframe thead th {\n",
       "        text-align: right;\n",
       "    }\n",
       "</style>\n",
       "<table border=\"1\" class=\"dataframe\">\n",
       "  <thead>\n",
       "    <tr style=\"text-align: right;\">\n",
       "      <th></th>\n",
       "      <th>Age</th>\n",
       "    </tr>\n",
       "  </thead>\n",
       "  <tbody>\n",
       "    <tr>\n",
       "      <th>0</th>\n",
       "      <td>15</td>\n",
       "    </tr>\n",
       "    <tr>\n",
       "      <th>1</th>\n",
       "      <td>22</td>\n",
       "    </tr>\n",
       "    <tr>\n",
       "      <th>2</th>\n",
       "      <td>36</td>\n",
       "    </tr>\n",
       "    <tr>\n",
       "      <th>3</th>\n",
       "      <td>45</td>\n",
       "    </tr>\n",
       "    <tr>\n",
       "      <th>4</th>\n",
       "      <td>52</td>\n",
       "    </tr>\n",
       "    <tr>\n",
       "      <th>5</th>\n",
       "      <td>67</td>\n",
       "    </tr>\n",
       "    <tr>\n",
       "      <th>6</th>\n",
       "      <td>80</td>\n",
       "    </tr>\n",
       "  </tbody>\n",
       "</table>\n",
       "</div>"
      ],
      "text/plain": [
       "   Age\n",
       "0   15\n",
       "1   22\n",
       "2   36\n",
       "3   45\n",
       "4   52\n",
       "5   67\n",
       "6   80"
      ]
     },
     "execution_count": 2,
     "metadata": {},
     "output_type": "execute_result"
    }
   ],
   "source": [
    "df = pd.DataFrame({'Age': [15, 22, 36, 45, 52, 67, 80]})\n",
    "df"
   ]
  },
  {
   "cell_type": "code",
   "execution_count": 3,
   "id": "44fba720",
   "metadata": {},
   "outputs": [
    {
     "data": {
      "text/html": [
       "<div>\n",
       "<style scoped>\n",
       "    .dataframe tbody tr th:only-of-type {\n",
       "        vertical-align: middle;\n",
       "    }\n",
       "\n",
       "    .dataframe tbody tr th {\n",
       "        vertical-align: top;\n",
       "    }\n",
       "\n",
       "    .dataframe thead th {\n",
       "        text-align: right;\n",
       "    }\n",
       "</style>\n",
       "<table border=\"1\" class=\"dataframe\">\n",
       "  <thead>\n",
       "    <tr style=\"text-align: right;\">\n",
       "      <th></th>\n",
       "      <th>Age</th>\n",
       "      <th>age_group</th>\n",
       "    </tr>\n",
       "  </thead>\n",
       "  <tbody>\n",
       "    <tr>\n",
       "      <th>0</th>\n",
       "      <td>15</td>\n",
       "      <td>(14.935, 36.667]</td>\n",
       "    </tr>\n",
       "    <tr>\n",
       "      <th>1</th>\n",
       "      <td>22</td>\n",
       "      <td>(14.935, 36.667]</td>\n",
       "    </tr>\n",
       "    <tr>\n",
       "      <th>2</th>\n",
       "      <td>36</td>\n",
       "      <td>(14.935, 36.667]</td>\n",
       "    </tr>\n",
       "    <tr>\n",
       "      <th>3</th>\n",
       "      <td>45</td>\n",
       "      <td>(36.667, 58.333]</td>\n",
       "    </tr>\n",
       "    <tr>\n",
       "      <th>4</th>\n",
       "      <td>52</td>\n",
       "      <td>(36.667, 58.333]</td>\n",
       "    </tr>\n",
       "    <tr>\n",
       "      <th>5</th>\n",
       "      <td>67</td>\n",
       "      <td>(58.333, 80.0]</td>\n",
       "    </tr>\n",
       "    <tr>\n",
       "      <th>6</th>\n",
       "      <td>80</td>\n",
       "      <td>(58.333, 80.0]</td>\n",
       "    </tr>\n",
       "  </tbody>\n",
       "</table>\n",
       "</div>"
      ],
      "text/plain": [
       "   Age         age_group\n",
       "0   15  (14.935, 36.667]\n",
       "1   22  (14.935, 36.667]\n",
       "2   36  (14.935, 36.667]\n",
       "3   45  (36.667, 58.333]\n",
       "4   52  (36.667, 58.333]\n",
       "5   67    (58.333, 80.0]\n",
       "6   80    (58.333, 80.0]"
      ]
     },
     "execution_count": 3,
     "metadata": {},
     "output_type": "execute_result"
    }
   ],
   "source": [
    "df['age_group'] = pd.cut(df['Age'], bins = 3)\n",
    "df"
   ]
  },
  {
   "cell_type": "markdown",
   "id": "02dae09b",
   "metadata": {},
   "source": [
    "> 🔍 This will divide the age range into 3 equal intervals."
   ]
  },
  {
   "cell_type": "markdown",
   "id": "9c194d1c",
   "metadata": {},
   "source": [
    "### 🔹 b) Custom labels with `pd.cut()`"
   ]
  },
  {
   "cell_type": "code",
   "execution_count": 4,
   "id": "92743474",
   "metadata": {},
   "outputs": [
    {
     "data": {
      "text/html": [
       "<div>\n",
       "<style scoped>\n",
       "    .dataframe tbody tr th:only-of-type {\n",
       "        vertical-align: middle;\n",
       "    }\n",
       "\n",
       "    .dataframe tbody tr th {\n",
       "        vertical-align: top;\n",
       "    }\n",
       "\n",
       "    .dataframe thead th {\n",
       "        text-align: right;\n",
       "    }\n",
       "</style>\n",
       "<table border=\"1\" class=\"dataframe\">\n",
       "  <thead>\n",
       "    <tr style=\"text-align: right;\">\n",
       "      <th></th>\n",
       "      <th>Age</th>\n",
       "      <th>age_group</th>\n",
       "      <th>age_group_name</th>\n",
       "    </tr>\n",
       "  </thead>\n",
       "  <tbody>\n",
       "    <tr>\n",
       "      <th>0</th>\n",
       "      <td>15</td>\n",
       "      <td>(14.935, 36.667]</td>\n",
       "      <td>Youth</td>\n",
       "    </tr>\n",
       "    <tr>\n",
       "      <th>1</th>\n",
       "      <td>22</td>\n",
       "      <td>(14.935, 36.667]</td>\n",
       "      <td>Youth</td>\n",
       "    </tr>\n",
       "    <tr>\n",
       "      <th>2</th>\n",
       "      <td>36</td>\n",
       "      <td>(14.935, 36.667]</td>\n",
       "      <td>Middle-aged</td>\n",
       "    </tr>\n",
       "    <tr>\n",
       "      <th>3</th>\n",
       "      <td>45</td>\n",
       "      <td>(36.667, 58.333]</td>\n",
       "      <td>Middle-aged</td>\n",
       "    </tr>\n",
       "    <tr>\n",
       "      <th>4</th>\n",
       "      <td>52</td>\n",
       "      <td>(36.667, 58.333]</td>\n",
       "      <td>Middle-aged</td>\n",
       "    </tr>\n",
       "    <tr>\n",
       "      <th>5</th>\n",
       "      <td>67</td>\n",
       "      <td>(58.333, 80.0]</td>\n",
       "      <td>Senior</td>\n",
       "    </tr>\n",
       "    <tr>\n",
       "      <th>6</th>\n",
       "      <td>80</td>\n",
       "      <td>(58.333, 80.0]</td>\n",
       "      <td>Senior</td>\n",
       "    </tr>\n",
       "  </tbody>\n",
       "</table>\n",
       "</div>"
      ],
      "text/plain": [
       "   Age         age_group age_group_name\n",
       "0   15  (14.935, 36.667]          Youth\n",
       "1   22  (14.935, 36.667]          Youth\n",
       "2   36  (14.935, 36.667]    Middle-aged\n",
       "3   45  (36.667, 58.333]    Middle-aged\n",
       "4   52  (36.667, 58.333]    Middle-aged\n",
       "5   67    (58.333, 80.0]         Senior\n",
       "6   80    (58.333, 80.0]         Senior"
      ]
     },
     "execution_count": 4,
     "metadata": {},
     "output_type": "execute_result"
    }
   ],
   "source": [
    "labels = ['Youth', 'Middle-aged', 'Senior']\n",
    "df['age_group_name'] = pd.cut(df['Age'], bins=[0, 30, 60, 100], labels=labels)\n",
    "\n",
    "df"
   ]
  },
  {
   "cell_type": "markdown",
   "id": "02a86852",
   "metadata": {},
   "source": [
    "### 🔹 c) Binning with `pd.qcut()` (Equal-sized bins by frequency)"
   ]
  },
  {
   "cell_type": "code",
   "execution_count": 5,
   "id": "be2d5013",
   "metadata": {},
   "outputs": [
    {
     "data": {
      "text/html": [
       "<div>\n",
       "<style scoped>\n",
       "    .dataframe tbody tr th:only-of-type {\n",
       "        vertical-align: middle;\n",
       "    }\n",
       "\n",
       "    .dataframe tbody tr th {\n",
       "        vertical-align: top;\n",
       "    }\n",
       "\n",
       "    .dataframe thead th {\n",
       "        text-align: right;\n",
       "    }\n",
       "</style>\n",
       "<table border=\"1\" class=\"dataframe\">\n",
       "  <thead>\n",
       "    <tr style=\"text-align: right;\">\n",
       "      <th></th>\n",
       "      <th>Salary</th>\n",
       "    </tr>\n",
       "  </thead>\n",
       "  <tbody>\n",
       "    <tr>\n",
       "      <th>0</th>\n",
       "      <td>30000</td>\n",
       "    </tr>\n",
       "    <tr>\n",
       "      <th>1</th>\n",
       "      <td>45000</td>\n",
       "    </tr>\n",
       "    <tr>\n",
       "      <th>2</th>\n",
       "      <td>50000</td>\n",
       "    </tr>\n",
       "    <tr>\n",
       "      <th>3</th>\n",
       "      <td>60000</td>\n",
       "    </tr>\n",
       "    <tr>\n",
       "      <th>4</th>\n",
       "      <td>75000</td>\n",
       "    </tr>\n",
       "    <tr>\n",
       "      <th>5</th>\n",
       "      <td>90000</td>\n",
       "    </tr>\n",
       "    <tr>\n",
       "      <th>6</th>\n",
       "      <td>110000</td>\n",
       "    </tr>\n",
       "  </tbody>\n",
       "</table>\n",
       "</div>"
      ],
      "text/plain": [
       "   Salary\n",
       "0   30000\n",
       "1   45000\n",
       "2   50000\n",
       "3   60000\n",
       "4   75000\n",
       "5   90000\n",
       "6  110000"
      ]
     },
     "execution_count": 5,
     "metadata": {},
     "output_type": "execute_result"
    }
   ],
   "source": [
    "df = pd.DataFrame({'Salary': [30_000, 45_000, 50_000, 60_000, 75_000, 90_000, 110_000]})\n",
    "df"
   ]
  },
  {
   "cell_type": "code",
   "execution_count": 6,
   "id": "134e80c3",
   "metadata": {},
   "outputs": [
    {
     "data": {
      "text/html": [
       "<div>\n",
       "<style scoped>\n",
       "    .dataframe tbody tr th:only-of-type {\n",
       "        vertical-align: middle;\n",
       "    }\n",
       "\n",
       "    .dataframe tbody tr th {\n",
       "        vertical-align: top;\n",
       "    }\n",
       "\n",
       "    .dataframe thead th {\n",
       "        text-align: right;\n",
       "    }\n",
       "</style>\n",
       "<table border=\"1\" class=\"dataframe\">\n",
       "  <thead>\n",
       "    <tr style=\"text-align: right;\">\n",
       "      <th></th>\n",
       "      <th>Salary</th>\n",
       "      <th>salary_bin</th>\n",
       "    </tr>\n",
       "  </thead>\n",
       "  <tbody>\n",
       "    <tr>\n",
       "      <th>0</th>\n",
       "      <td>30000</td>\n",
       "      <td>(29999.999, 50000.0]</td>\n",
       "    </tr>\n",
       "    <tr>\n",
       "      <th>1</th>\n",
       "      <td>45000</td>\n",
       "      <td>(29999.999, 50000.0]</td>\n",
       "    </tr>\n",
       "    <tr>\n",
       "      <th>2</th>\n",
       "      <td>50000</td>\n",
       "      <td>(29999.999, 50000.0]</td>\n",
       "    </tr>\n",
       "    <tr>\n",
       "      <th>3</th>\n",
       "      <td>60000</td>\n",
       "      <td>(50000.0, 75000.0]</td>\n",
       "    </tr>\n",
       "    <tr>\n",
       "      <th>4</th>\n",
       "      <td>75000</td>\n",
       "      <td>(75000.0, 110000.0]</td>\n",
       "    </tr>\n",
       "    <tr>\n",
       "      <th>5</th>\n",
       "      <td>90000</td>\n",
       "      <td>(75000.0, 110000.0]</td>\n",
       "    </tr>\n",
       "    <tr>\n",
       "      <th>6</th>\n",
       "      <td>110000</td>\n",
       "      <td>(75000.0, 110000.0]</td>\n",
       "    </tr>\n",
       "  </tbody>\n",
       "</table>\n",
       "</div>"
      ],
      "text/plain": [
       "   Salary            salary_bin\n",
       "0   30000  (29999.999, 50000.0]\n",
       "1   45000  (29999.999, 50000.0]\n",
       "2   50000  (29999.999, 50000.0]\n",
       "3   60000    (50000.0, 75000.0]\n",
       "4   75000   (75000.0, 110000.0]\n",
       "5   90000   (75000.0, 110000.0]\n",
       "6  110000   (75000.0, 110000.0]"
      ]
     },
     "execution_count": 6,
     "metadata": {},
     "output_type": "execute_result"
    }
   ],
   "source": [
    "df['salary_bin'] = pd.qcut(df['Salary'], q=3)\n",
    "df"
   ]
  },
  {
   "cell_type": "markdown",
   "id": "91cd798f",
   "metadata": {},
   "source": [
    "### 🔹 d) Manual binning with `.apply()` for full control"
   ]
  },
  {
   "cell_type": "code",
   "execution_count": 9,
   "id": "9f5928d9",
   "metadata": {},
   "outputs": [
    {
     "data": {
      "text/html": [
       "<div>\n",
       "<style scoped>\n",
       "    .dataframe tbody tr th:only-of-type {\n",
       "        vertical-align: middle;\n",
       "    }\n",
       "\n",
       "    .dataframe tbody tr th {\n",
       "        vertical-align: top;\n",
       "    }\n",
       "\n",
       "    .dataframe thead th {\n",
       "        text-align: right;\n",
       "    }\n",
       "</style>\n",
       "<table border=\"1\" class=\"dataframe\">\n",
       "  <thead>\n",
       "    <tr style=\"text-align: right;\">\n",
       "      <th></th>\n",
       "      <th>Rating</th>\n",
       "      <th>RatingGroup</th>\n",
       "    </tr>\n",
       "  </thead>\n",
       "  <tbody>\n",
       "    <tr>\n",
       "      <th>0</th>\n",
       "      <td>1.5</td>\n",
       "      <td>Low</td>\n",
       "    </tr>\n",
       "    <tr>\n",
       "      <th>1</th>\n",
       "      <td>2.5</td>\n",
       "      <td>Medium</td>\n",
       "    </tr>\n",
       "    <tr>\n",
       "      <th>2</th>\n",
       "      <td>3.7</td>\n",
       "      <td>Medium</td>\n",
       "    </tr>\n",
       "    <tr>\n",
       "      <th>3</th>\n",
       "      <td>4.2</td>\n",
       "      <td>High</td>\n",
       "    </tr>\n",
       "    <tr>\n",
       "      <th>4</th>\n",
       "      <td>4.8</td>\n",
       "      <td>High</td>\n",
       "    </tr>\n",
       "  </tbody>\n",
       "</table>\n",
       "</div>"
      ],
      "text/plain": [
       "   Rating RatingGroup\n",
       "0     1.5         Low\n",
       "1     2.5      Medium\n",
       "2     3.7      Medium\n",
       "3     4.2        High\n",
       "4     4.8        High"
      ]
     },
     "execution_count": 9,
     "metadata": {},
     "output_type": "execute_result"
    }
   ],
   "source": [
    "def rating_group(rating):\n",
    "    if rating < 2:\n",
    "        return 'Low'\n",
    "    elif rating < 4:\n",
    "        return 'Medium'\n",
    "    else:\n",
    "        return 'High'\n",
    "\n",
    "df = pd.DataFrame({'Rating': [1.5, 2.5, 3.7, 4.2, 4.8]})\n",
    "df['RatingGroup'] = df['Rating'].apply(rating_group)\n",
    "\n",
    "df"
   ]
  },
  {
   "cell_type": "markdown",
   "id": "53b37b3b",
   "metadata": {},
   "source": [
    "## ⚡ 4. **Performance Considerations**\n",
    "\n",
    "| Factor           | Consideration                                               |\n",
    "| ---------------- | ----------------------------------------------------------- |\n",
    "| 🔁 Speed         | `pd.cut()` and `pd.qcut()` are vectorized → **very fast**   |\n",
    "| 📊 Memory        | Adds a new column but doesn’t significantly increase memory |\n",
    "| 🧠 Model impact  | May reduce model complexity and improve generalization      |\n",
    "| 📈 Visualization | Helps create grouped histograms or box plots                |\n"
   ]
  },
  {
   "cell_type": "markdown",
   "id": "c1a5ff57",
   "metadata": {},
   "source": [
    "## ⚠️ 5. **Common Pitfalls & Mistakes**\n",
    "\n",
    "| Mistake                            | Why It’s a Problem                                                       |\n",
    "| ---------------------------------- | ------------------------------------------------------------------------ |\n",
    "| ❌ Uneven distribution with `cut()` | If data is skewed, bins may have very few or too many items              |\n",
    "| ❌ Wrong bin edges                  | Results in unexpected groupings or missing values (`NaN`)                |\n",
    "| ❌ Over-binning                     | Too many bins → sparsity → less meaningful categories                    |\n",
    "| ❌ Not labeling bins                | Makes output hard to interpret and visualize                             |\n",
    "| ❌ Misinterpreting `qcut()`         | It gives **equal-sized groups by number of records**, not by value range |\n"
   ]
  },
  {
   "cell_type": "markdown",
   "id": "1e7ee977",
   "metadata": {},
   "source": [
    "## ✅ 6. **Best Practices**\n",
    "\n",
    "* ✅ Use `pd.qcut()` for **balanced distribution** across bins\n",
    "* ✅ Use **labels** for human-readable and meaningful groups\n",
    "* ✅ Define **domain-specific bins** (e.g., age: 0–18, 19–35, 36–60, 60+)\n",
    "* ✅ Always **check bin counts** using `.value_counts()` to ensure expected distribution\n",
    "* ✅ For ML models, prefer **numeric encoding** for bins or use `cat.codes`\n",
    "* ✅ Avoid overfitting by not creating too many bins\n"
   ]
  },
  {
   "cell_type": "markdown",
   "id": "cd55ff5d",
   "metadata": {},
   "source": [
    "## 💼 7. **Use Cases in Real Projects**\n",
    "\n",
    "| Domain                  | Use Case                                                       |\n",
    "| ----------------------- | -------------------------------------------------------------- |\n",
    "| 🏥 Healthcare           | Binning **age into groups**: pediatric, adult, elderly         |\n",
    "| 🛍️ Retail              | Segmenting **customers by purchase frequency** or **spending** |\n",
    "| 🎓 Education            | Grouping students by **score ranges**: fail, pass, distinction |\n",
    "| 🧪 Machine Learning     | Converting **continuous variables into categorical features**  |\n",
    "| 💰 Finance              | Income bracket analysis, credit score bands                    |\n",
    "| 📈 Reporting/Dashboards | Grouping KPIs like conversion rates or ratings into levels     |\n"
   ]
  },
  {
   "cell_type": "markdown",
   "id": "c8b568f4",
   "metadata": {},
   "source": [
    "## ✅ Summary\n",
    "\n",
    "Discretization & Binning is a powerful technique for **simplifying continuous features**, improving **interpretability**, and aiding **categorical analysis**. Use `pd.cut()` for equal-width binning and `pd.qcut()` for equal-frequency binning, always checking for **distribution**, **labels**, and **domain relevance**.\n"
   ]
  },
  {
   "cell_type": "markdown",
   "id": "fd9166fe",
   "metadata": {},
   "source": [
    "<center><b>Thanks</b></center>"
   ]
  }
 ],
 "metadata": {
  "kernelspec": {
   "display_name": "venv",
   "language": "python",
   "name": "python3"
  },
  "language_info": {
   "codemirror_mode": {
    "name": "ipython",
    "version": 3
   },
   "file_extension": ".py",
   "mimetype": "text/x-python",
   "name": "python",
   "nbconvert_exporter": "python",
   "pygments_lexer": "ipython3",
   "version": "3.10.2"
  }
 },
 "nbformat": 4,
 "nbformat_minor": 5
}
