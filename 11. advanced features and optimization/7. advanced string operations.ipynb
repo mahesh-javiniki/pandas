{
 "cells": [
  {
   "cell_type": "markdown",
   "id": "bd90c450",
   "metadata": {},
   "source": [
    "# **11. Advanced Features & Optimization**"
   ]
  },
  {
   "cell_type": "markdown",
   "id": "40978874",
   "metadata": {},
   "source": [
    "## 🔤 7. **Advanced String Operations**"
   ]
  },
  {
   "cell_type": "code",
   "execution_count": 1,
   "id": "dfce8e7a",
   "metadata": {},
   "outputs": [],
   "source": [
    "import pandas as pd"
   ]
  },
  {
   "cell_type": "markdown",
   "id": "5cf02fd7",
   "metadata": {},
   "source": [
    "### 1. **Purpose & When to Use It**\n",
    "\n",
    "**Purpose:**\n",
    "Advanced string operations in pandas are used to manipulate, clean, extract, transform, and analyze textual (string) data within `Series` or DataFrame columns using vectorized string methods under `.str`.\n",
    "\n",
    "**When to Use It:**\n",
    "\n",
    "* Working with categorical data in textual format\n",
    "* Cleaning or standardizing text (e.g., lowercasing, trimming)\n",
    "* Extracting patterns using regex\n",
    "* Performing tokenization or substring operations\n",
    "* Encoding or formatting text for feature engineering\n"
   ]
  },
  {
   "cell_type": "markdown",
   "id": "cb78a53f",
   "metadata": {},
   "source": [
    "### 2. **Different Methods and Techniques**\n",
    "\n",
    "#### ✅ **String Methods via `.str` accessor** (Vectorized)\n",
    "\n",
    "* `str.lower()`, `str.upper()`, `str.title()` – case handling\n",
    "* `str.strip()`, `str.lstrip()`, `str.rstrip()` – remove whitespaces\n",
    "* `str.contains()`, `str.startswith()`, `str.endswith()` – condition checks\n",
    "* `str.replace()` – substring replacement\n",
    "* `str.extract()` – regex-based extraction\n",
    "* `str.split()`, `str.get()` – splitting strings\n",
    "* `str.len()` – length of each string\n",
    "* `str.pad()`, `str.zfill()`, `str.center()` – formatting strings\n",
    "\n",
    "#### ✅ **Regex-Based Techniques**\n",
    "\n",
    "* Use `str.extract(r'regex')` or `str.contains(r'regex')`\n",
    "* Useful for parsing structured text patterns (e.g., extracting phone numbers, emails)\n",
    "\n",
    "#### ✅ **Case Manipulation**\n",
    "\n",
    "* Standardize text by changing case (`str.lower()` or `str.title()`)\n",
    "\n",
    "#### ✅ **Replacing & Cleaning**\n",
    "\n",
    "* `str.replace(old, new)`, supports regex too\n",
    "* Clean symbols, typos, or unnecessary characters\n",
    "\n",
    "#### ✅ **Splitting & Expanding**\n",
    "\n",
    "* `str.split(delimiter, expand=True)` — to convert a string into multiple columns"
   ]
  },
  {
   "cell_type": "markdown",
   "id": "75de98eb",
   "metadata": {},
   "source": [
    "### 3. **Examples with Code**\n",
    "\n",
    "#### 🔹 Case Standardization\n",
    "\n",
    "```python\n",
    "df['name'] = df['name'].str.lower()\n",
    "```\n",
    "\n",
    "#### 🔹 Extracting Emails from Text\n",
    "\n",
    "```python\n",
    "df['email'] = df['contact_info'].str.extract(r'([\\w\\.-]+@[\\w\\.-]+)')\n",
    "```\n",
    "\n",
    "#### 🔹 Checking Substring Presence\n",
    "\n",
    "```python\n",
    "df[df['remarks'].str.contains('urgent', case=False)]\n",
    "```\n",
    "\n",
    "#### 🔹 Splitting Column into Multiple\n",
    "\n",
    "```python\n",
    "df[['first_name', 'last_name']] = df['full_name'].str.split(' ', expand=True)\n",
    "```\n",
    "\n",
    "#### 🔹 Replacing Typos\n",
    "\n",
    "```python\n",
    "df['product'] = df['product'].str.replace(r'celllphone', 'cellphone', regex=True)\n",
    "```\n"
   ]
  },
  {
   "cell_type": "markdown",
   "id": "54e0ef53",
   "metadata": {},
   "source": [
    "### 4. **Performance Considerations**\n",
    "\n",
    "* **Vectorized methods via `.str`** are much faster than using `apply()` with `lambda` for text processing.\n",
    "* Using regex (`str.extract`, `str.contains`) is powerful but may be **slower on large datasets** — optimize or pre-compile regex patterns if reused.\n",
    "* String operations can be **memory-intensive**, especially when chaining multiple steps.\n",
    "\n",
    "---\n",
    "\n",
    "### 5. **Common Pitfalls & Mistakes**\n",
    "\n",
    "* Using `.apply(lambda x: x.lower())` instead of vectorized `str.lower()` — leads to performance hits.\n",
    "* Misusing regex (wrong patterns, greedy vs lazy matching).\n",
    "* Forgetting to handle `NaN` values — many string methods return `NaN` or errors if not handled with `na=False`.\n",
    "\n",
    "  ```python\n",
    "  df['col'].str.contains('pattern', na=False)\n",
    "  ```\n",
    "* Not using `expand=True` when needed during `split()` — may lead to incorrect parsing.\n",
    "\n",
    "---\n",
    "\n",
    "### 6. **Best Practices**\n",
    "\n",
    "* Prefer **vectorized `.str` methods** over Python `apply()` for string handling.\n",
    "* Use **compiled regex patterns** if reusing them multiple times for better performance.\n",
    "* Chain operations when it improves clarity — e.g., `.str.lower().str.strip()`.\n",
    "* Always handle **missing values** (`NaN`) properly.\n",
    "* Document or comment on **complex regex** patterns used.\n",
    "\n",
    "---\n",
    "\n",
    "### 7. **Use Cases in Real Projects**\n",
    "\n",
    "| Use Case                       | Example                                                          |\n",
    "| ------------------------------ | ---------------------------------------------------------------- |\n",
    "| **Customer feedback analysis** | Extract keywords, filter negative reviews using `str.contains()` |\n",
    "| **User profile parsing**       | Extract usernames or email domains using `str.extract()`         |\n",
    "| **Product catalog cleaning**   | Normalize product names, remove symbols via `str.replace()`      |\n",
    "| **Web scraping**               | Clean and extract structured info from HTML/text dumps           |\n",
    "| **Log data analysis**          | Extract timestamps, IP addresses using regex                     |\n",
    "| **Form entry validation**      | Check for invalid patterns (e.g., missing `@` in emails)         |\n"
   ]
  },
  {
   "cell_type": "markdown",
   "id": "5afeb4c7",
   "metadata": {},
   "source": [
    "<center><b>Thanks</b></center>"
   ]
  }
 ],
 "metadata": {
  "kernelspec": {
   "display_name": "venv",
   "language": "python",
   "name": "python3"
  },
  "language_info": {
   "codemirror_mode": {
    "name": "ipython",
    "version": 3
   },
   "file_extension": ".py",
   "mimetype": "text/x-python",
   "name": "python",
   "nbconvert_exporter": "python",
   "pygments_lexer": "ipython3",
   "version": "3.10.2"
  }
 },
 "nbformat": 4,
 "nbformat_minor": 5
}
