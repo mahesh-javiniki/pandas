{
 "cells": [
  {
   "cell_type": "markdown",
   "id": "db13a7ab",
   "metadata": {},
   "source": [
    "# **11. Advanced Features & Optimization**"
   ]
  },
  {
   "cell_type": "markdown",
   "id": "6ad1cbfa",
   "metadata": {},
   "source": [
    "## 🔁 1. **Advanced Function Application**"
   ]
  },
  {
   "cell_type": "code",
   "execution_count": 1,
   "id": "8909cdf6",
   "metadata": {},
   "outputs": [],
   "source": [
    "import pandas as pd"
   ]
  },
  {
   "cell_type": "markdown",
   "id": "fe1a25d6",
   "metadata": {},
   "source": [
    "## 📌 1. **Purpose & When to Use It**\n",
    "\n",
    "**Purpose**:\n",
    "Advanced function application in pandas allows you to **apply custom logic** or **transformations** to DataFrame rows, columns, or individual elements. It's especially useful when built-in pandas or NumPy operations aren't flexible enough for your task.\n",
    "\n",
    "**When to Use**:\n",
    "\n",
    "* When you need to perform **row-wise or column-wise** computations.\n",
    "* When doing **custom transformations** not achievable with vectorized operations.\n",
    "* When applying **complex business rules**, conditions, or calculations.\n",
    "* During **feature engineering**, text transformation, or conditional value mapping.\n"
   ]
  },
  {
   "cell_type": "markdown",
   "id": "e26371aa",
   "metadata": {},
   "source": [
    "## 🧠 2. **Different Methods and Techniques**\n",
    "\n",
    "| Method       | Scope              | Description                                                             |\n",
    "| ------------ | ------------------ | ----------------------------------------------------------------------- |\n",
    "| `apply()`    | Series / DataFrame | Applies a function along axis (`axis=0` for columns, `axis=1` for rows) |\n",
    "| `map()`      | Series only        | Element-wise transformation on a Series                                 |\n",
    "| `applymap()` | DataFrame only     | Element-wise transformation across the whole DataFrame                  |\n",
    "| `lambda`     | Any                | Anonymous function used with `apply`, `map`, or `applymap`              |\n",
    "| `.pipe()`    | DataFrame / Series | Allows clean chaining of custom functions                               |\n"
   ]
  },
  {
   "cell_type": "markdown",
   "id": "f2ce1182",
   "metadata": {},
   "source": [
    "## 🧪 3. **Examples with Code**\n",
    "\n",
    "### 🔹 a) `apply()` with Series"
   ]
  },
  {
   "cell_type": "code",
   "execution_count": 2,
   "id": "493a4672",
   "metadata": {},
   "outputs": [
    {
     "data": {
      "text/plain": [
       "0    1\n",
       "1    4\n",
       "2    9\n",
       "dtype: int64"
      ]
     },
     "execution_count": 2,
     "metadata": {},
     "output_type": "execute_result"
    }
   ],
   "source": [
    "s = pd.Series([1, 2, 3])\n",
    "s_squared = s.apply(lambda x: x ** 2)\n",
    "s_squared"
   ]
  },
  {
   "cell_type": "markdown",
   "id": "fbdad989",
   "metadata": {},
   "source": [
    "### 🔹 b) `apply()` on DataFrame (Row-wise)"
   ]
  },
  {
   "cell_type": "code",
   "execution_count": 3,
   "id": "bc3a82d2",
   "metadata": {},
   "outputs": [
    {
     "data": {
      "text/html": [
       "<div>\n",
       "<style scoped>\n",
       "    .dataframe tbody tr th:only-of-type {\n",
       "        vertical-align: middle;\n",
       "    }\n",
       "\n",
       "    .dataframe tbody tr th {\n",
       "        vertical-align: top;\n",
       "    }\n",
       "\n",
       "    .dataframe thead th {\n",
       "        text-align: right;\n",
       "    }\n",
       "</style>\n",
       "<table border=\"1\" class=\"dataframe\">\n",
       "  <thead>\n",
       "    <tr style=\"text-align: right;\">\n",
       "      <th></th>\n",
       "      <th>A</th>\n",
       "      <th>B</th>\n",
       "    </tr>\n",
       "  </thead>\n",
       "  <tbody>\n",
       "    <tr>\n",
       "      <th>0</th>\n",
       "      <td>1</td>\n",
       "      <td>3</td>\n",
       "    </tr>\n",
       "    <tr>\n",
       "      <th>1</th>\n",
       "      <td>2</td>\n",
       "      <td>4</td>\n",
       "    </tr>\n",
       "  </tbody>\n",
       "</table>\n",
       "</div>"
      ],
      "text/plain": [
       "   A  B\n",
       "0  1  3\n",
       "1  2  4"
      ]
     },
     "execution_count": 3,
     "metadata": {},
     "output_type": "execute_result"
    }
   ],
   "source": [
    "df = pd.DataFrame({'A': [1, 2], 'B': [3, 4]})\n",
    "\n",
    "df"
   ]
  },
  {
   "cell_type": "code",
   "execution_count": 4,
   "id": "6175c8f0",
   "metadata": {},
   "outputs": [
    {
     "data": {
      "text/html": [
       "<div>\n",
       "<style scoped>\n",
       "    .dataframe tbody tr th:only-of-type {\n",
       "        vertical-align: middle;\n",
       "    }\n",
       "\n",
       "    .dataframe tbody tr th {\n",
       "        vertical-align: top;\n",
       "    }\n",
       "\n",
       "    .dataframe thead th {\n",
       "        text-align: right;\n",
       "    }\n",
       "</style>\n",
       "<table border=\"1\" class=\"dataframe\">\n",
       "  <thead>\n",
       "    <tr style=\"text-align: right;\">\n",
       "      <th></th>\n",
       "      <th>A</th>\n",
       "      <th>B</th>\n",
       "      <th>Sum</th>\n",
       "    </tr>\n",
       "  </thead>\n",
       "  <tbody>\n",
       "    <tr>\n",
       "      <th>0</th>\n",
       "      <td>1</td>\n",
       "      <td>3</td>\n",
       "      <td>4</td>\n",
       "    </tr>\n",
       "    <tr>\n",
       "      <th>1</th>\n",
       "      <td>2</td>\n",
       "      <td>4</td>\n",
       "      <td>6</td>\n",
       "    </tr>\n",
       "  </tbody>\n",
       "</table>\n",
       "</div>"
      ],
      "text/plain": [
       "   A  B  Sum\n",
       "0  1  3    4\n",
       "1  2  4    6"
      ]
     },
     "execution_count": 4,
     "metadata": {},
     "output_type": "execute_result"
    }
   ],
   "source": [
    "df['Sum'] = df.apply(lambda row: row['A'] + row['B'], axis=1)\n",
    "\n",
    "df"
   ]
  },
  {
   "cell_type": "markdown",
   "id": "8fd02983",
   "metadata": {},
   "source": [
    "### 🔹 c) `map()` on a Series"
   ]
  },
  {
   "cell_type": "code",
   "execution_count": 5,
   "id": "5e55810a",
   "metadata": {},
   "outputs": [
    {
     "data": {
      "text/plain": [
       "0    1\n",
       "1    2\n",
       "2    3\n",
       "dtype: int64"
      ]
     },
     "execution_count": 5,
     "metadata": {},
     "output_type": "execute_result"
    }
   ],
   "source": [
    "grades = pd.Series(['A', 'B', 'C'])\n",
    "\n",
    "grade_points = grades.map({'A': 1, 'B': 2, 'C': 3})\n",
    "\n",
    "grade_points"
   ]
  },
  {
   "cell_type": "markdown",
   "id": "0a0aa4ab",
   "metadata": {},
   "source": [
    "### 🔹 d) `applymap()` on DataFrame (element-wise)"
   ]
  },
  {
   "cell_type": "code",
   "execution_count": 6,
   "id": "3f6ce372",
   "metadata": {},
   "outputs": [
    {
     "data": {
      "text/html": [
       "<div>\n",
       "<style scoped>\n",
       "    .dataframe tbody tr th:only-of-type {\n",
       "        vertical-align: middle;\n",
       "    }\n",
       "\n",
       "    .dataframe tbody tr th {\n",
       "        vertical-align: top;\n",
       "    }\n",
       "\n",
       "    .dataframe thead th {\n",
       "        text-align: right;\n",
       "    }\n",
       "</style>\n",
       "<table border=\"1\" class=\"dataframe\">\n",
       "  <thead>\n",
       "    <tr style=\"text-align: right;\">\n",
       "      <th></th>\n",
       "      <th>X</th>\n",
       "      <th>Y</th>\n",
       "    </tr>\n",
       "  </thead>\n",
       "  <tbody>\n",
       "    <tr>\n",
       "      <th>0</th>\n",
       "      <td>1</td>\n",
       "      <td>10</td>\n",
       "    </tr>\n",
       "    <tr>\n",
       "      <th>1</th>\n",
       "      <td>2</td>\n",
       "      <td>20</td>\n",
       "    </tr>\n",
       "  </tbody>\n",
       "</table>\n",
       "</div>"
      ],
      "text/plain": [
       "   X   Y\n",
       "0  1  10\n",
       "1  2  20"
      ]
     },
     "execution_count": 6,
     "metadata": {},
     "output_type": "execute_result"
    }
   ],
   "source": [
    "df = pd.DataFrame({'X': [1, 2], 'Y': [10, 20]})\n",
    "\n",
    "df"
   ]
  },
  {
   "cell_type": "code",
   "execution_count": 7,
   "id": "d9c30e04",
   "metadata": {},
   "outputs": [
    {
     "name": "stderr",
     "output_type": "stream",
     "text": [
      "C:\\Users\\mahes\\AppData\\Local\\Temp\\ipykernel_45760\\2413280718.py:1: FutureWarning: DataFrame.applymap has been deprecated. Use DataFrame.map instead.\n",
      "  squared_df = df.applymap(lambda x: x ** 2)\n"
     ]
    },
    {
     "data": {
      "text/html": [
       "<div>\n",
       "<style scoped>\n",
       "    .dataframe tbody tr th:only-of-type {\n",
       "        vertical-align: middle;\n",
       "    }\n",
       "\n",
       "    .dataframe tbody tr th {\n",
       "        vertical-align: top;\n",
       "    }\n",
       "\n",
       "    .dataframe thead th {\n",
       "        text-align: right;\n",
       "    }\n",
       "</style>\n",
       "<table border=\"1\" class=\"dataframe\">\n",
       "  <thead>\n",
       "    <tr style=\"text-align: right;\">\n",
       "      <th></th>\n",
       "      <th>X</th>\n",
       "      <th>Y</th>\n",
       "    </tr>\n",
       "  </thead>\n",
       "  <tbody>\n",
       "    <tr>\n",
       "      <th>0</th>\n",
       "      <td>1</td>\n",
       "      <td>100</td>\n",
       "    </tr>\n",
       "    <tr>\n",
       "      <th>1</th>\n",
       "      <td>4</td>\n",
       "      <td>400</td>\n",
       "    </tr>\n",
       "  </tbody>\n",
       "</table>\n",
       "</div>"
      ],
      "text/plain": [
       "   X    Y\n",
       "0  1  100\n",
       "1  4  400"
      ]
     },
     "execution_count": 7,
     "metadata": {},
     "output_type": "execute_result"
    }
   ],
   "source": [
    "squared_df = df.applymap(lambda x: x ** 2)\n",
    "squared_df"
   ]
  },
  {
   "cell_type": "markdown",
   "id": "294d254b",
   "metadata": {},
   "source": [
    "### 🔹 e) `.pipe()` for clean chaining"
   ]
  },
  {
   "cell_type": "code",
   "execution_count": 8,
   "id": "3a473459",
   "metadata": {},
   "outputs": [
    {
     "data": {
      "text/html": [
       "<div>\n",
       "<style scoped>\n",
       "    .dataframe tbody tr th:only-of-type {\n",
       "        vertical-align: middle;\n",
       "    }\n",
       "\n",
       "    .dataframe tbody tr th {\n",
       "        vertical-align: top;\n",
       "    }\n",
       "\n",
       "    .dataframe thead th {\n",
       "        text-align: right;\n",
       "    }\n",
       "</style>\n",
       "<table border=\"1\" class=\"dataframe\">\n",
       "  <thead>\n",
       "    <tr style=\"text-align: right;\">\n",
       "      <th></th>\n",
       "      <th>val</th>\n",
       "    </tr>\n",
       "  </thead>\n",
       "  <tbody>\n",
       "    <tr>\n",
       "      <th>0</th>\n",
       "      <td>11</td>\n",
       "    </tr>\n",
       "    <tr>\n",
       "      <th>1</th>\n",
       "      <td>12</td>\n",
       "    </tr>\n",
       "    <tr>\n",
       "      <th>2</th>\n",
       "      <td>13</td>\n",
       "    </tr>\n",
       "  </tbody>\n",
       "</table>\n",
       "</div>"
      ],
      "text/plain": [
       "   val\n",
       "0   11\n",
       "1   12\n",
       "2   13"
      ]
     },
     "execution_count": 8,
     "metadata": {},
     "output_type": "execute_result"
    }
   ],
   "source": [
    "def add_constant(df, const):\n",
    "    return df + const\n",
    "\n",
    "df = pd.DataFrame({'val': [1, 2, 3]})\n",
    "df = df.pipe(add_constant, const=10)\n",
    "\n",
    "df"
   ]
  },
  {
   "cell_type": "markdown",
   "id": "2c11f274",
   "metadata": {},
   "source": [
    "## ⚡ 4. **Performance Considerations**"
   ]
  },
  {
   "cell_type": "markdown",
   "id": "0182f9cd",
   "metadata": {},
   "source": [
    "| Method       | Performance                                    |\n",
    "| ------------ | ---------------------------------------------- |\n",
    "| `map()`      | Fast (optimized for Series)                    |\n",
    "| `apply()`    | Slower on DataFrame (row/column-wise)          |\n",
    "| `applymap()` | Slower than vectorized operations              |\n",
    "| `lambda`     | Can degrade performance inside `apply()`       |\n",
    "| `.pipe()`    | No performance boost, but improves readability |\n",
    "\n",
    "🟨 **Warning**: These are **not** vectorized operations. If possible, prefer **NumPy or pandas built-ins** (e.g., `df['col'] ** 2`) for better performance.\n"
   ]
  },
  {
   "cell_type": "markdown",
   "id": "7ab0aa92",
   "metadata": {},
   "source": [
    "## ⚠️ 5. **Common Pitfalls & Mistakes**\n",
    "\n",
    "1. **Using `apply()` when a vectorized method is available**:\n",
    "\n",
    "   ```python\n",
    "   # BAD\n",
    "   df['col'].apply(lambda x: x * 2)\n",
    "\n",
    "   # GOOD\n",
    "   df['col'] * 2\n",
    "   ```\n",
    "\n",
    "2. **Forgetting `axis=1` when applying row-wise**:\n",
    "\n",
    "   ```python\n",
    "   df.apply(lambda row: row['A'] + row['B'])  # Wrong!\n",
    "   df.apply(lambda row: row['A'] + row['B'], axis=1)  # Correct\n",
    "   ```\n",
    "\n",
    "3. **Using `applymap()` on Series** – it only works on DataFrames.\n",
    "\n",
    "4. **Complex logic inside lambda** – makes debugging hard.\n",
    "\n",
    "5. **Memory and speed** – using these on large datasets can be slow.\n"
   ]
  },
  {
   "cell_type": "markdown",
   "id": "a4cf5cc2",
   "metadata": {},
   "source": [
    "## ✅ 6. **Best Practices**\n",
    "\n",
    "* ✅ **Prefer vectorized operations** whenever possible.\n",
    "* ✅ Use `map()` for simple Series value replacements.\n",
    "* ✅ Use `apply()` when logic depends on **multiple columns or rows**.\n",
    "* ✅ Use `applymap()` for **element-wise** transformations across the whole DataFrame.\n",
    "* ✅ Keep **lambda functions simple**.\n",
    "* ✅ Use `.pipe()` to write clean, modular, and testable transformation pipelines.\n"
   ]
  },
  {
   "cell_type": "markdown",
   "id": "1c36b4d5",
   "metadata": {},
   "source": [
    "## 💼 7. **Use Cases in Real Projects**\n",
    "\n",
    "| Domain                    | Use Case                                                                  |\n",
    "| ------------------------- | ------------------------------------------------------------------------- |\n",
    "| 🎓 Education              | Mapping grades to grade points using `map()`                              |\n",
    "| 🏥 Healthcare             | Calculating BMI using `apply()` across weight and height columns          |\n",
    "| 📈 Finance                | Creating a custom risk score using multiple columns                       |\n",
    "| 🛒 E-commerce             | Creating a feature to classify products by combining name and price range |\n",
    "| 🧪 ML Feature Engineering | Apply custom logic to generate new features                               |\n",
    "| 📊 Data Cleaning          | Normalizing strings using `applymap()` on an entire DataFrame             |\n"
   ]
  },
  {
   "cell_type": "markdown",
   "id": "00fd250a",
   "metadata": {},
   "source": [
    "<center><b>Thanks</b></center>"
   ]
  }
 ],
 "metadata": {
  "kernelspec": {
   "display_name": "venv",
   "language": "python",
   "name": "python3"
  },
  "language_info": {
   "codemirror_mode": {
    "name": "ipython",
    "version": 3
   },
   "file_extension": ".py",
   "mimetype": "text/x-python",
   "name": "python",
   "nbconvert_exporter": "python",
   "pygments_lexer": "ipython3",
   "version": "3.10.2"
  }
 },
 "nbformat": 4,
 "nbformat_minor": 5
}
