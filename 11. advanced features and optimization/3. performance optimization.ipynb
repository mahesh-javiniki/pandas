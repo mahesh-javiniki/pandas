{
 "cells": [
  {
   "cell_type": "markdown",
   "id": "0ad94a36",
   "metadata": {},
   "source": [
    "# **11. Advanced Features & Optimization**"
   ]
  },
  {
   "cell_type": "markdown",
   "id": "27c2a78d",
   "metadata": {},
   "source": [
    "## ⚡ 3. **Performance Optimization**"
   ]
  },
  {
   "cell_type": "code",
   "execution_count": 1,
   "id": "b64242b2",
   "metadata": {},
   "outputs": [],
   "source": [
    "import pandas as pd"
   ]
  },
  {
   "cell_type": "markdown",
   "id": "0b143bbc",
   "metadata": {},
   "source": [
    "## 📌 1. **Purpose & When to Use It**\n",
    "\n",
    "### 🔍 **Purpose**:\n",
    "\n",
    "Performance optimization in pandas refers to techniques aimed at:\n",
    "\n",
    "* **Speeding up** data processing\n",
    "* **Reducing memory usage**\n",
    "* **Avoiding inefficient patterns** like loops or excessive function calls\n",
    "\n",
    "### 📅 **When to Use It**:\n",
    "\n",
    "* When you're working with **large datasets** (millions of rows)\n",
    "* When code is running **slow or crashing** due to memory overload\n",
    "* In **production pipelines** that must be fast and efficient\n",
    "* During **exploratory data analysis (EDA)** where interactive performance matters"
   ]
  },
  {
   "cell_type": "markdown",
   "id": "41981057",
   "metadata": {},
   "source": [
    "## 🧠 2. **Different Methods and Techniques**\n",
    "\n",
    "| Technique                            | Description                                                          |\n",
    "| ------------------------------------ | -------------------------------------------------------------------- |\n",
    "| ✅ **Vectorization**                  | Use pandas/NumPy operations instead of Python loops                  |\n",
    "| ✅ **Use of `np.where`, `np.select`** | Efficient conditional logic                                          |\n",
    "| ✅ **Use `.query()` & `.eval()`**     | Faster and readable row filtering & expressions                      |\n",
    "| ✅ **Use `.memory_usage()`**          | Inspect and optimize memory footprint                                |\n",
    "| ✅ **Categorical data types**         | Optimize memory for string/object columns                            |\n",
    "| ✅ **Avoid unnecessary copies**       | Work in-place or chain methods                                       |\n",
    "| ✅ **Downcasting**                    | Convert large numeric types to smaller equivalents                   |\n",
    "| ✅ **Chunking**                       | Process large files in small batches using `chunksize` in `read_csv` |\n"
   ]
  },
  {
   "cell_type": "markdown",
   "id": "e61269cb",
   "metadata": {},
   "source": [
    "## 🧪 3. **Examples with Code**\n",
    "\n",
    "### 🔹 a) ✅ **Vectorized Operation vs. Loop**\n",
    "\n",
    "```python\n",
    "# Inefficient: Loop\n",
    "df['squared'] = [x**2 for x in df['value']]\n",
    "\n",
    "# Efficient: Vectorized\n",
    "df['squared'] = df['value'] ** 2\n",
    "```\n",
    "\n",
    "---\n",
    "\n",
    "### 🔹 b) ✅ **Using `np.where()` for fast conditional logic**\n",
    "\n",
    "```python\n",
    "import numpy as np\n",
    "df['flag'] = np.where(df['amount'] > 1000, 'High', 'Low')\n",
    "```\n",
    "\n",
    "---\n",
    "\n",
    "### 🔹 c) ✅ **Using `.query()` for readable & fast filtering**\n",
    "\n",
    "```python\n",
    "df_filtered = df.query(\"Region == 'East' and Sales > 5000\")\n",
    "```\n",
    "\n",
    "---\n",
    "\n",
    "### 🔹 d) ✅ **Converting column to `category` to save memory**\n",
    "\n",
    "```python\n",
    "df['ProductType'] = df['ProductType'].astype('category')\n",
    "```\n",
    "\n",
    "---\n",
    "\n",
    "### 🔹 e) ✅ **Inspecting memory usage**\n",
    "\n",
    "```python\n",
    "df.memory_usage(deep=True)\n",
    "```\n",
    "\n",
    "---\n",
    "\n",
    "### 🔹 f) ✅ **Downcasting numeric columns**\n",
    "\n",
    "```python\n",
    "df['int_column'] = pd.to_numeric(df['int_column'], downcast='integer')\n",
    "df['float_column'] = pd.to_numeric(df['float_column'], downcast='float')\n",
    "```\n",
    "\n",
    "---\n",
    "\n",
    "### 🔹 g) ✅ **Reading large files in chunks**\n",
    "\n",
    "```python\n",
    "chunk_iter = pd.read_csv('big_data.csv', chunksize=100000)\n",
    "\n",
    "for chunk in chunk_iter:\n",
    "    process(chunk)  # Your logic here\n",
    "```\n"
   ]
  },
  {
   "cell_type": "markdown",
   "id": "1b6c6d5c",
   "metadata": {},
   "source": [
    "## ⚡ 4. **Performance Considerations**\n",
    "\n",
    "| Strategy                 | Benefit                                                |\n",
    "| ------------------------ | ------------------------------------------------------ |\n",
    "| Vectorization            | Drastically faster than loops                          |\n",
    "| Categorical types        | Save 50–90% memory on repetitive string/object columns |\n",
    "| `np.where` / `np.select` | Much faster than row-wise `apply()`                    |\n",
    "| `.query()` / `.eval()`   | Slight speed-up + better readability                   |\n",
    "| Chunking                 | Prevents memory crashes when loading large files       |\n",
    "| Downcasting              | Reduces DataFrame memory footprint                     |\n"
   ]
  },
  {
   "cell_type": "markdown",
   "id": "e2b047ab",
   "metadata": {},
   "source": [
    "## ⚠️ 5. **Common Pitfalls & Mistakes**\n",
    "\n",
    "1. ❌ **Using loops (`for`) over DataFrame rows** – very slow\n",
    "2. ❌ **Applying complex logic inside `apply()` instead of vectorizing**\n",
    "3. ❌ **Forgetting to downcast float/int columns after import**\n",
    "4. ❌ **Keeping strings as `object` instead of `category`**\n",
    "5. ❌ **Overusing `copy()` or storing too many intermediate DataFrames**\n"
   ]
  },
  {
   "cell_type": "markdown",
   "id": "19a1d1a6",
   "metadata": {},
   "source": [
    "## ✅ 6. **Best Practices**\n",
    "\n",
    "* ✅ Always prefer **vectorized operations** (avoid row-wise loops)\n",
    "* ✅ Use **NumPy functions** where possible (`np.where`, `np.select`, `np.log()`)\n",
    "* ✅ Convert string/object columns to **`category`** when repetitive\n",
    "* ✅ Monitor memory with `.memory_usage(deep=True)`\n",
    "* ✅ Use **downcasting** for numeric types when full precision isn’t needed\n",
    "* ✅ Use `.query()` and `.eval()` for better filtering performance\n",
    "* ✅ Break down large files into **chunks** for processing\n",
    "* ✅ Use `.loc[]` or `.iloc[]` rather than `apply()` for conditional assignments\n"
   ]
  },
  {
   "cell_type": "markdown",
   "id": "0e438681",
   "metadata": {},
   "source": [
    "## 💼 7. **Use Cases in Real Projects**\n",
    "\n",
    "| Domain               | Use Case                                                                      |\n",
    "| -------------------- | ----------------------------------------------------------------------------- |\n",
    "| 💳 Finance           | Downcasting high-precision decimals to float32 in portfolio data              |\n",
    "| 📦 Logistics         | Converting location codes to `category` to reduce memory usage                |\n",
    "| 🏥 Healthcare        | Filtering and transforming large patient datasets using `.query()`            |\n",
    "| 🛍️ E-commerce       | Replacing expensive `apply()` calls with `np.where()` for faster segmentation |\n",
    "| 📊 Big Data Analysis | Reading 10M+ rows CSV files using `chunksize` to avoid memory overflow        |\n",
    "| 🤖 ML Pipelines      | Optimizing memory during data preparation and feature transformation          |\n"
   ]
  },
  {
   "cell_type": "markdown",
   "id": "2482e09c",
   "metadata": {},
   "source": [
    "## ✅ Summary\n",
    "\n",
    "Performance optimization in pandas is essential when handling large datasets or building efficient pipelines. Through **vectorization**, **memory profiling**, and **method selection**, you can make your workflows significantly faster and more memory-efficient.\n"
   ]
  },
  {
   "cell_type": "markdown",
   "id": "551ffa7c",
   "metadata": {},
   "source": [
    "<center><b>Thanks</b></center>"
   ]
  }
 ],
 "metadata": {
  "kernelspec": {
   "display_name": "venv",
   "language": "python",
   "name": "python3"
  },
  "language_info": {
   "codemirror_mode": {
    "name": "ipython",
    "version": 3
   },
   "file_extension": ".py",
   "mimetype": "text/x-python",
   "name": "python",
   "nbconvert_exporter": "python",
   "pygments_lexer": "ipython3",
   "version": "3.10.2"
  }
 },
 "nbformat": 4,
 "nbformat_minor": 5
}
