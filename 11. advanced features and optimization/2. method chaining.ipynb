{
 "cells": [
  {
   "cell_type": "markdown",
   "id": "17d3700e",
   "metadata": {},
   "source": [
    "# **11. Advanced Features & Optimization**"
   ]
  },
  {
   "cell_type": "markdown",
   "id": "f81d465b",
   "metadata": {},
   "source": [
    "## 🧠 2. **Method Chaining & Code Efficiency**"
   ]
  },
  {
   "cell_type": "code",
   "execution_count": null,
   "id": "63af7892",
   "metadata": {},
   "outputs": [],
   "source": [
    "import pandas as pd"
   ]
  },
  {
   "cell_type": "markdown",
   "id": "ea37f658",
   "metadata": {},
   "source": [
    "## 📌 1. **Purpose & When to Use It**\n",
    "\n",
    "**Purpose**:\n",
    "Method chaining is a programming technique where multiple operations are performed sequentially by chaining method calls, improving **code readability, conciseness**, and **efficiency**.\n",
    "\n",
    "**When to Use**:\n",
    "\n",
    "* When performing **several transformations** on a DataFrame.\n",
    "* When you want to **avoid intermediate variables**.\n",
    "* When writing **production-ready**, **clean**, or **reproducible** data pipelines.\n",
    "* When using pandas in **ETL (Extract, Transform, Load)** workflows or **ML pipelines**."
   ]
  },
  {
   "cell_type": "markdown",
   "id": "bc8447f7",
   "metadata": {},
   "source": [
    "## 🧠 2. **Different Methods and Techniques**\n",
    "\n",
    "| Technique                                  | Description                                    |\n",
    "| ------------------------------------------ | ---------------------------------------------- |\n",
    "| `.assign()`                                | Add or modify columns in a chainable way.      |\n",
    "| `.query()`                                 | Filter rows using string expressions.          |\n",
    "| `.pipe()`                                  | Apply custom functions cleanly within a chain. |\n",
    "| `.rename()`, `.filter()`, `.sort_values()` | Common pandas methods used in chains.          |\n",
    "| `.loc[]` and `.iloc[]`                     | Can be used carefully within chains.           |\n"
   ]
  },
  {
   "cell_type": "markdown",
   "id": "05497b35",
   "metadata": {},
   "source": [
    "## 🧪 3. **Examples with Code**\n",
    "\n",
    "### 🔹 a) Without Method Chaining (Verbose & Imperative)\n",
    "\n",
    "```python\n",
    "df = pd.read_csv(\"sales.csv\")\n",
    "df = df[df[\"Region\"] == \"East\"]\n",
    "df[\"Revenue\"] = df[\"Units\"] * df[\"Price\"]\n",
    "df = df[df[\"Revenue\"] > 1000]\n",
    "df = df.sort_values(\"Revenue\", ascending=False)\n",
    "print(df.head())\n",
    "```\n",
    "\n",
    "### 🔹 b) With Method Chaining (Elegant & Declarative)\n",
    "\n",
    "```python\n",
    "df = (\n",
    "    pd.read_csv(\"sales.csv\")\n",
    "    .query(\"Region == 'East'\")\n",
    "    .assign(Revenue=lambda d: d[\"Units\"] * d[\"Price\"])\n",
    "    .query(\"Revenue > 1000\")\n",
    "    .sort_values(\"Revenue\", ascending=False)\n",
    "    .head()\n",
    ")\n",
    "print(df)\n",
    "```\n",
    "\n",
    "### 🔹 c) Using `.pipe()` with Custom Function\n",
    "\n",
    "```python\n",
    "def add_margin(df, margin_rate):\n",
    "    df[\"Margin\"] = df[\"Revenue\"] * margin_rate\n",
    "    return df\n",
    "\n",
    "df = (\n",
    "    pd.read_csv(\"sales.csv\")\n",
    "    .query(\"Region == 'East'\")\n",
    "    .assign(Revenue=lambda d: d[\"Units\"] * d[\"Price\"])\n",
    "    .pipe(add_margin, margin_rate=0.2)\n",
    "    .sort_values(\"Margin\", ascending=False)\n",
    ")\n",
    "```\n"
   ]
  },
  {
   "cell_type": "markdown",
   "id": "41fd11e0",
   "metadata": {},
   "source": [
    "## ⚡ 4. **Performance Considerations**\n",
    "\n",
    "* ✅ **Memory Efficient**: Reduces intermediate DataFrame copies in memory when carefully used.\n",
    "* ❌ **Performance Neutral**: It doesn't inherently improve speed, but **reduces overhead** from variable reuse.\n",
    "* ⚠️ Avoid overly long chains with complex lambdas — can be harder to debug."
   ]
  },
  {
   "cell_type": "markdown",
   "id": "4ffe262b",
   "metadata": {},
   "source": [
    "## ⚠️ 5. **Common Pitfalls & Mistakes**\n",
    "\n",
    "1. **Hard-to-debug errors** if chain is too long or lambdas are too complex.\n",
    "\n",
    "2. **Losing intermediate results** (no way to inspect partial output easily).\n",
    "\n",
    "3. **Mixing incompatible operations** (e.g., modifying index mid-chain and referencing old column names).\n",
    "\n",
    "4. **Overusing `.assign()`** when the column depends on another one just created in the same chain — this may lead to unexpected `NaN`.\n",
    "\n",
    "   ```python\n",
    "   # This can cause issues\n",
    "   .assign(a=lambda df: df['x'] + 1, b=lambda df: df['a'] * 2)  # 'a' not defined yet\n",
    "   ```\n",
    "\n",
    "5. **Not using parentheses** for multi-line chains, leading to syntax errors.\n"
   ]
  },
  {
   "cell_type": "markdown",
   "id": "07492817",
   "metadata": {},
   "source": [
    "## ✅ 6. **Best Practices**\n",
    "\n",
    "* ✅ Keep **chains readable** — one method per line with indentation.\n",
    "* ✅ Use **`.assign()`** for adding/modifying columns inline.\n",
    "* ✅ Use **`.pipe()`** for custom functions that need to be chained.\n",
    "* ✅ Use **meaningful lambda names** or external functions to keep chains clean.\n",
    "* ✅ Inspect intermediate results during debugging by **breaking** the chain temporarily.\n",
    "* ✅ Combine with **`.query()`** and **`.filter()`** for declarative filtering.\n"
   ]
  },
  {
   "cell_type": "markdown",
   "id": "aef2677d",
   "metadata": {},
   "source": [
    "## 💼 7. **Use Cases in Real Projects**\n",
    "\n",
    "| Domain              | Use Case                                                                               |\n",
    "| ------------------- | -------------------------------------------------------------------------------------- |\n",
    "| 🏥 Healthcare       | Processing patient records: filter by condition, compute BMI, flag risk, sort by score |\n",
    "| 🛍️ E-commerce      | Filter customer orders, calculate discount, sort by revenue                            |\n",
    "| 📊 Data Cleaning    | Read, filter, rename columns, standardize text, remove duplicates                      |\n",
    "| 🧪 Machine Learning | Create reproducible pipelines to clean and transform features                          |\n",
    "| 🔄 ETL Pipelines    | Combine transformations into clean and testable sequences                              |\n"
   ]
  },
  {
   "cell_type": "markdown",
   "id": "85db6675",
   "metadata": {},
   "source": [
    "## ✅ Summary\n",
    "\n",
    "Method chaining helps you **write elegant, declarative, and clean code** in pandas. While it doesn't directly speed up processing, it greatly improves **readability and workflow maintainability**, especially in complex data transformation tasks.\n"
   ]
  },
  {
   "cell_type": "markdown",
   "id": "d9de4ae1",
   "metadata": {},
   "source": [
    "<center><b>Thanks</b></center>"
   ]
  }
 ],
 "metadata": {
  "language_info": {
   "name": "python"
  }
 },
 "nbformat": 4,
 "nbformat_minor": 5
}
