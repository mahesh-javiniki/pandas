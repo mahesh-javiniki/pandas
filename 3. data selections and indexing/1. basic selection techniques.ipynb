{
 "cells": [
  {
   "cell_type": "markdown",
   "id": "1f40e31f",
   "metadata": {},
   "source": [
    "# **Data Selection & Indexing**"
   ]
  },
  {
   "cell_type": "code",
   "execution_count": 1,
   "id": "63c71df7",
   "metadata": {},
   "outputs": [],
   "source": [
    "import pandas as pd"
   ]
  },
  {
   "cell_type": "markdown",
   "id": "d4057c14",
   "metadata": {},
   "source": [
    "## **1. Basic Selection Techniques**"
   ]
  },
  {
   "cell_type": "markdown",
   "id": "5b828b5c",
   "metadata": {},
   "source": [
    "This section includes the most foundational and commonly used ways to access data in a DataFrame or Series. Mastering these will make advanced techniques much easier."
   ]
  },
  {
   "cell_type": "markdown",
   "id": "f4eeae1c",
   "metadata": {},
   "source": [
    "### 🔸 1. **Selecting Columns using `[]` (Bracket Notation)**\n",
    "\n",
    "This is the simplest and most intuitive way."
   ]
  },
  {
   "cell_type": "markdown",
   "id": "b1d6ff82",
   "metadata": {},
   "source": [
    "#### ✅ **Syntax**\n",
    "\n",
    "```python\n",
    "df['column_name']        # Returns a Series\n",
    "df[['col1', 'col2']]     # Returns a DataFrame"
   ]
  },
  {
   "cell_type": "code",
   "execution_count": 3,
   "id": "73246ad7",
   "metadata": {},
   "outputs": [
    {
     "data": {
      "text/html": [
       "<div>\n",
       "<style scoped>\n",
       "    .dataframe tbody tr th:only-of-type {\n",
       "        vertical-align: middle;\n",
       "    }\n",
       "\n",
       "    .dataframe tbody tr th {\n",
       "        vertical-align: top;\n",
       "    }\n",
       "\n",
       "    .dataframe thead th {\n",
       "        text-align: right;\n",
       "    }\n",
       "</style>\n",
       "<table border=\"1\" class=\"dataframe\">\n",
       "  <thead>\n",
       "    <tr style=\"text-align: right;\">\n",
       "      <th></th>\n",
       "      <th>Name</th>\n",
       "      <th>Age</th>\n",
       "      <th>City</th>\n",
       "    </tr>\n",
       "  </thead>\n",
       "  <tbody>\n",
       "    <tr>\n",
       "      <th>0</th>\n",
       "      <td>Alice</td>\n",
       "      <td>25</td>\n",
       "      <td>New York</td>\n",
       "    </tr>\n",
       "    <tr>\n",
       "      <th>1</th>\n",
       "      <td>Bob</td>\n",
       "      <td>30</td>\n",
       "      <td>London</td>\n",
       "    </tr>\n",
       "    <tr>\n",
       "      <th>2</th>\n",
       "      <td>Charlie</td>\n",
       "      <td>35</td>\n",
       "      <td>Paris</td>\n",
       "    </tr>\n",
       "  </tbody>\n",
       "</table>\n",
       "</div>"
      ],
      "text/plain": [
       "      Name  Age      City\n",
       "0    Alice   25  New York\n",
       "1      Bob   30    London\n",
       "2  Charlie   35     Paris"
      ]
     },
     "execution_count": 3,
     "metadata": {},
     "output_type": "execute_result"
    }
   ],
   "source": [
    "data = {\n",
    "    'Name': ['Alice', 'Bob', 'Charlie'],\n",
    "    'Age': [25, 30, 35],\n",
    "    'City': ['New York', 'London', 'Paris']\n",
    "}\n",
    "\n",
    "df = pd.DataFrame(data)\n",
    "df"
   ]
  },
  {
   "cell_type": "code",
   "execution_count": 4,
   "id": "d3640068",
   "metadata": {},
   "outputs": [
    {
     "data": {
      "text/plain": [
       "0      Alice\n",
       "1        Bob\n",
       "2    Charlie\n",
       "Name: Name, dtype: object"
      ]
     },
     "execution_count": 4,
     "metadata": {},
     "output_type": "execute_result"
    }
   ],
   "source": [
    "df['Name']"
   ]
  },
  {
   "cell_type": "code",
   "execution_count": 5,
   "id": "24f617a7",
   "metadata": {},
   "outputs": [
    {
     "data": {
      "text/html": [
       "<div>\n",
       "<style scoped>\n",
       "    .dataframe tbody tr th:only-of-type {\n",
       "        vertical-align: middle;\n",
       "    }\n",
       "\n",
       "    .dataframe tbody tr th {\n",
       "        vertical-align: top;\n",
       "    }\n",
       "\n",
       "    .dataframe thead th {\n",
       "        text-align: right;\n",
       "    }\n",
       "</style>\n",
       "<table border=\"1\" class=\"dataframe\">\n",
       "  <thead>\n",
       "    <tr style=\"text-align: right;\">\n",
       "      <th></th>\n",
       "      <th>Name</th>\n",
       "      <th>City</th>\n",
       "    </tr>\n",
       "  </thead>\n",
       "  <tbody>\n",
       "    <tr>\n",
       "      <th>0</th>\n",
       "      <td>Alice</td>\n",
       "      <td>New York</td>\n",
       "    </tr>\n",
       "    <tr>\n",
       "      <th>1</th>\n",
       "      <td>Bob</td>\n",
       "      <td>London</td>\n",
       "    </tr>\n",
       "    <tr>\n",
       "      <th>2</th>\n",
       "      <td>Charlie</td>\n",
       "      <td>Paris</td>\n",
       "    </tr>\n",
       "  </tbody>\n",
       "</table>\n",
       "</div>"
      ],
      "text/plain": [
       "      Name      City\n",
       "0    Alice  New York\n",
       "1      Bob    London\n",
       "2  Charlie     Paris"
      ]
     },
     "execution_count": 5,
     "metadata": {},
     "output_type": "execute_result"
    }
   ],
   "source": [
    "df[['Name', 'City']]"
   ]
  },
  {
   "cell_type": "markdown",
   "id": "eb1cecaf",
   "metadata": {},
   "source": [
    "#### ✅ **Real-time Example**\n",
    "\n",
    "Imagine you're working with customer data from an e-commerce platform:\n",
    "\n",
    "```python\n",
    "# Selecting only important customer info\n",
    "df[['CustomerID', 'Name', 'Email']]\n",
    "```"
   ]
  },
  {
   "cell_type": "markdown",
   "id": "d33029e1",
   "metadata": {},
   "source": [
    "#### ⚠️ **Common Errors**\n",
    "\n",
    "```python\n",
    "df['Name', 'Age']  ❌  # This throws an error\n",
    "```\n",
    "\n",
    "Use double brackets `[['Name', 'Age']]` for multiple columns.\n"
   ]
  },
  {
   "cell_type": "markdown",
   "id": "cc29e6f1",
   "metadata": {},
   "source": [
    "### 🔸 2. **Selecting Rows using `.loc[]` and `.iloc[]`**"
   ]
  },
  {
   "cell_type": "markdown",
   "id": "23673c54",
   "metadata": {},
   "source": [
    "We'll deep dive into these in the next section, but here’s a quick intro:\n",
    "\n",
    "* `.loc[]` is **label-based** (row names/index) - **location**\n",
    "* `.iloc[]` is **integer position-based** - **index location**"
   ]
  },
  {
   "cell_type": "code",
   "execution_count": 6,
   "id": "809374ab",
   "metadata": {},
   "outputs": [
    {
     "data": {
      "text/plain": [
       "Name       Alice\n",
       "Age           25\n",
       "City    New York\n",
       "Name: 0, dtype: object"
      ]
     },
     "execution_count": 6,
     "metadata": {},
     "output_type": "execute_result"
    }
   ],
   "source": [
    "df.loc[0] # First row by index label"
   ]
  },
  {
   "cell_type": "code",
   "execution_count": 7,
   "id": "2fcca11f",
   "metadata": {},
   "outputs": [
    {
     "data": {
      "text/plain": [
       "Name       Alice\n",
       "Age           25\n",
       "City    New York\n",
       "Name: 0, dtype: object"
      ]
     },
     "execution_count": 7,
     "metadata": {},
     "output_type": "execute_result"
    }
   ],
   "source": [
    "df.iloc[0] # First row by position"
   ]
  },
  {
   "cell_type": "markdown",
   "id": "64fd8b1f",
   "metadata": {},
   "source": [
    "### 🔸 3. **Slicing Rows and Columns**"
   ]
  },
  {
   "cell_type": "markdown",
   "id": "3de9bad7",
   "metadata": {},
   "source": [
    "#### ✅ **Syntax**\n",
    "\n",
    "```python\n",
    "df[start:stop]              # Slice rows using standard slicing (position-based)\n",
    "df.iloc[start:stop, :]      # Slice rows explicitly\n",
    "df.loc[:, 'col1':'col3']    # Slice columns by label\n",
    "```"
   ]
  },
  {
   "cell_type": "code",
   "execution_count": 8,
   "id": "96e61cc2",
   "metadata": {},
   "outputs": [
    {
     "data": {
      "text/html": [
       "<div>\n",
       "<style scoped>\n",
       "    .dataframe tbody tr th:only-of-type {\n",
       "        vertical-align: middle;\n",
       "    }\n",
       "\n",
       "    .dataframe tbody tr th {\n",
       "        vertical-align: top;\n",
       "    }\n",
       "\n",
       "    .dataframe thead th {\n",
       "        text-align: right;\n",
       "    }\n",
       "</style>\n",
       "<table border=\"1\" class=\"dataframe\">\n",
       "  <thead>\n",
       "    <tr style=\"text-align: right;\">\n",
       "      <th></th>\n",
       "      <th>Name</th>\n",
       "      <th>Age</th>\n",
       "      <th>City</th>\n",
       "    </tr>\n",
       "  </thead>\n",
       "  <tbody>\n",
       "    <tr>\n",
       "      <th>0</th>\n",
       "      <td>Alice</td>\n",
       "      <td>25</td>\n",
       "      <td>New York</td>\n",
       "    </tr>\n",
       "    <tr>\n",
       "      <th>1</th>\n",
       "      <td>Bob</td>\n",
       "      <td>30</td>\n",
       "      <td>London</td>\n",
       "    </tr>\n",
       "    <tr>\n",
       "      <th>2</th>\n",
       "      <td>Charlie</td>\n",
       "      <td>35</td>\n",
       "      <td>Paris</td>\n",
       "    </tr>\n",
       "  </tbody>\n",
       "</table>\n",
       "</div>"
      ],
      "text/plain": [
       "      Name  Age      City\n",
       "0    Alice   25  New York\n",
       "1      Bob   30    London\n",
       "2  Charlie   35     Paris"
      ]
     },
     "execution_count": 8,
     "metadata": {},
     "output_type": "execute_result"
    }
   ],
   "source": [
    "df"
   ]
  },
  {
   "cell_type": "code",
   "execution_count": 9,
   "id": "bf679933",
   "metadata": {},
   "outputs": [
    {
     "data": {
      "text/html": [
       "<div>\n",
       "<style scoped>\n",
       "    .dataframe tbody tr th:only-of-type {\n",
       "        vertical-align: middle;\n",
       "    }\n",
       "\n",
       "    .dataframe tbody tr th {\n",
       "        vertical-align: top;\n",
       "    }\n",
       "\n",
       "    .dataframe thead th {\n",
       "        text-align: right;\n",
       "    }\n",
       "</style>\n",
       "<table border=\"1\" class=\"dataframe\">\n",
       "  <thead>\n",
       "    <tr style=\"text-align: right;\">\n",
       "      <th></th>\n",
       "      <th>Name</th>\n",
       "      <th>Age</th>\n",
       "      <th>City</th>\n",
       "    </tr>\n",
       "  </thead>\n",
       "  <tbody>\n",
       "    <tr>\n",
       "      <th>0</th>\n",
       "      <td>Alice</td>\n",
       "      <td>25</td>\n",
       "      <td>New York</td>\n",
       "    </tr>\n",
       "    <tr>\n",
       "      <th>1</th>\n",
       "      <td>Bob</td>\n",
       "      <td>30</td>\n",
       "      <td>London</td>\n",
       "    </tr>\n",
       "  </tbody>\n",
       "</table>\n",
       "</div>"
      ],
      "text/plain": [
       "    Name  Age      City\n",
       "0  Alice   25  New York\n",
       "1    Bob   30    London"
      ]
     },
     "execution_count": 9,
     "metadata": {},
     "output_type": "execute_result"
    }
   ],
   "source": [
    "df[0:2] # First 2 rows"
   ]
  },
  {
   "cell_type": "code",
   "execution_count": 10,
   "id": "6f3f104e",
   "metadata": {},
   "outputs": [
    {
     "data": {
      "text/html": [
       "<div>\n",
       "<style scoped>\n",
       "    .dataframe tbody tr th:only-of-type {\n",
       "        vertical-align: middle;\n",
       "    }\n",
       "\n",
       "    .dataframe tbody tr th {\n",
       "        vertical-align: top;\n",
       "    }\n",
       "\n",
       "    .dataframe thead th {\n",
       "        text-align: right;\n",
       "    }\n",
       "</style>\n",
       "<table border=\"1\" class=\"dataframe\">\n",
       "  <thead>\n",
       "    <tr style=\"text-align: right;\">\n",
       "      <th></th>\n",
       "      <th>Name</th>\n",
       "      <th>Age</th>\n",
       "    </tr>\n",
       "  </thead>\n",
       "  <tbody>\n",
       "    <tr>\n",
       "      <th>1</th>\n",
       "      <td>Bob</td>\n",
       "      <td>30</td>\n",
       "    </tr>\n",
       "    <tr>\n",
       "      <th>2</th>\n",
       "      <td>Charlie</td>\n",
       "      <td>35</td>\n",
       "    </tr>\n",
       "  </tbody>\n",
       "</table>\n",
       "</div>"
      ],
      "text/plain": [
       "      Name  Age\n",
       "1      Bob   30\n",
       "2  Charlie   35"
      ]
     },
     "execution_count": 10,
     "metadata": {},
     "output_type": "execute_result"
    }
   ],
   "source": [
    "df.iloc[1:3, 0:2] # Row 1 to 2, columns 0 to 1"
   ]
  },
  {
   "cell_type": "code",
   "execution_count": 12,
   "id": "43e8bc25",
   "metadata": {},
   "outputs": [
    {
     "data": {
      "text/html": [
       "<div>\n",
       "<style scoped>\n",
       "    .dataframe tbody tr th:only-of-type {\n",
       "        vertical-align: middle;\n",
       "    }\n",
       "\n",
       "    .dataframe tbody tr th {\n",
       "        vertical-align: top;\n",
       "    }\n",
       "\n",
       "    .dataframe thead th {\n",
       "        text-align: right;\n",
       "    }\n",
       "</style>\n",
       "<table border=\"1\" class=\"dataframe\">\n",
       "  <thead>\n",
       "    <tr style=\"text-align: right;\">\n",
       "      <th></th>\n",
       "      <th>Name</th>\n",
       "      <th>Age</th>\n",
       "      <th>City</th>\n",
       "    </tr>\n",
       "  </thead>\n",
       "  <tbody>\n",
       "    <tr>\n",
       "      <th>0</th>\n",
       "      <td>Alice</td>\n",
       "      <td>25</td>\n",
       "      <td>New York</td>\n",
       "    </tr>\n",
       "    <tr>\n",
       "      <th>1</th>\n",
       "      <td>Bob</td>\n",
       "      <td>30</td>\n",
       "      <td>London</td>\n",
       "    </tr>\n",
       "    <tr>\n",
       "      <th>2</th>\n",
       "      <td>Charlie</td>\n",
       "      <td>35</td>\n",
       "      <td>Paris</td>\n",
       "    </tr>\n",
       "  </tbody>\n",
       "</table>\n",
       "</div>"
      ],
      "text/plain": [
       "      Name  Age      City\n",
       "0    Alice   25  New York\n",
       "1      Bob   30    London\n",
       "2  Charlie   35     Paris"
      ]
     },
     "execution_count": 12,
     "metadata": {},
     "output_type": "execute_result"
    }
   ],
   "source": [
    "df.loc[:, 'Name':'City'] # All rows, Name to Age columns"
   ]
  },
  {
   "cell_type": "markdown",
   "id": "6202f607",
   "metadata": {},
   "source": [
    "#### ✅ **Real-time Example**\n",
    "\n",
    "Selecting a range of transactions:\n",
    "\n",
    "```python\n",
    "# First 100 customer records\n",
    "df[0:100]\n",
    "```"
   ]
  },
  {
   "cell_type": "markdown",
   "id": "c04afd58",
   "metadata": {},
   "source": [
    "### 🔸 4. **Boolean Indexing**"
   ]
  },
  {
   "cell_type": "markdown",
   "id": "c1b105c9",
   "metadata": {},
   "source": [
    "Boolean indexing helps filter rows based on a condition."
   ]
  },
  {
   "cell_type": "markdown",
   "id": "bec36204",
   "metadata": {},
   "source": [
    "#### ✅ **Syntax**\n",
    "\n",
    "```python\n",
    "df[df['Age'] > 30]\n",
    "```"
   ]
  },
  {
   "cell_type": "code",
   "execution_count": 15,
   "id": "72e45bc3",
   "metadata": {},
   "outputs": [
    {
     "data": {
      "text/html": [
       "<div>\n",
       "<style scoped>\n",
       "    .dataframe tbody tr th:only-of-type {\n",
       "        vertical-align: middle;\n",
       "    }\n",
       "\n",
       "    .dataframe tbody tr th {\n",
       "        vertical-align: top;\n",
       "    }\n",
       "\n",
       "    .dataframe thead th {\n",
       "        text-align: right;\n",
       "    }\n",
       "</style>\n",
       "<table border=\"1\" class=\"dataframe\">\n",
       "  <thead>\n",
       "    <tr style=\"text-align: right;\">\n",
       "      <th></th>\n",
       "      <th>Name</th>\n",
       "      <th>Age</th>\n",
       "      <th>City</th>\n",
       "    </tr>\n",
       "  </thead>\n",
       "  <tbody>\n",
       "    <tr>\n",
       "      <th>1</th>\n",
       "      <td>Bob</td>\n",
       "      <td>30</td>\n",
       "      <td>London</td>\n",
       "    </tr>\n",
       "  </tbody>\n",
       "</table>\n",
       "</div>"
      ],
      "text/plain": [
       "  Name  Age    City\n",
       "1  Bob   30  London"
      ]
     },
     "execution_count": 15,
     "metadata": {},
     "output_type": "execute_result"
    }
   ],
   "source": [
    "df[df['City'] == 'London']"
   ]
  },
  {
   "cell_type": "markdown",
   "id": "4df96ce2",
   "metadata": {},
   "source": [
    "#### ✅ **Real-time Example**\n",
    "\n",
    "Filter customers from a specific country:\n",
    "\n",
    "```python\n",
    "# Customers from India\n",
    "df[df['Country'] == 'India']\n",
    "```"
   ]
  },
  {
   "cell_type": "markdown",
   "id": "c4da2c3a",
   "metadata": {},
   "source": [
    "You can also combine conditions:"
   ]
  },
  {
   "cell_type": "code",
   "execution_count": 17,
   "id": "419c8d19",
   "metadata": {},
   "outputs": [
    {
     "data": {
      "text/html": [
       "<div>\n",
       "<style scoped>\n",
       "    .dataframe tbody tr th:only-of-type {\n",
       "        vertical-align: middle;\n",
       "    }\n",
       "\n",
       "    .dataframe tbody tr th {\n",
       "        vertical-align: top;\n",
       "    }\n",
       "\n",
       "    .dataframe thead th {\n",
       "        text-align: right;\n",
       "    }\n",
       "</style>\n",
       "<table border=\"1\" class=\"dataframe\">\n",
       "  <thead>\n",
       "    <tr style=\"text-align: right;\">\n",
       "      <th></th>\n",
       "      <th>Name</th>\n",
       "      <th>Age</th>\n",
       "      <th>City</th>\n",
       "    </tr>\n",
       "  </thead>\n",
       "  <tbody>\n",
       "    <tr>\n",
       "      <th>1</th>\n",
       "      <td>Bob</td>\n",
       "      <td>30</td>\n",
       "      <td>London</td>\n",
       "    </tr>\n",
       "  </tbody>\n",
       "</table>\n",
       "</div>"
      ],
      "text/plain": [
       "  Name  Age    City\n",
       "1  Bob   30  London"
      ]
     },
     "execution_count": 17,
     "metadata": {},
     "output_type": "execute_result"
    }
   ],
   "source": [
    "df[(df['Age'] > 25) & (df['City'] == 'London')]"
   ]
  },
  {
   "cell_type": "markdown",
   "id": "f0644b6b",
   "metadata": {},
   "source": [
    "### 🔸 5. **`.at[]` and `.iat[]` for Fast Access**"
   ]
  },
  {
   "cell_type": "markdown",
   "id": "b66c1a4b",
   "metadata": {},
   "source": [
    "These are **fast scalar accessors**:\n",
    "\n",
    "* `.at[]` – label-based\n",
    "* `.iat[]` – integer position-based\n",
    "\n",
    "#### ✅ **Syntax**\n",
    "\n",
    "```python\n",
    "df.at[row_label, 'column_name']\n",
    "df.iat[row_index, column_index]\n",
    "```\n"
   ]
  },
  {
   "cell_type": "code",
   "execution_count": 20,
   "id": "83b4d98d",
   "metadata": {},
   "outputs": [
    {
     "data": {
      "text/plain": [
       "'Alice'"
      ]
     },
     "execution_count": 20,
     "metadata": {},
     "output_type": "execute_result"
    }
   ],
   "source": [
    "df.at[0, 'Name']"
   ]
  },
  {
   "cell_type": "code",
   "execution_count": 21,
   "id": "de0196bb",
   "metadata": {},
   "outputs": [
    {
     "data": {
      "text/plain": [
       "25"
      ]
     },
     "execution_count": 21,
     "metadata": {},
     "output_type": "execute_result"
    }
   ],
   "source": [
    "df.iat[0, 1]"
   ]
  },
  {
   "cell_type": "markdown",
   "id": "07feecdd",
   "metadata": {},
   "source": [
    "#### ✅ **Real-time Example**\n",
    "\n",
    "Quickly update a cell:\n",
    "\n",
    "```python\n",
    "df.at[2, 'City'] = 'Berlin'"
   ]
  },
  {
   "cell_type": "markdown",
   "id": "5b628ed6",
   "metadata": {},
   "source": [
    "## ✅ Summary Table: Basic Selection Techniques\n",
    "\n",
    "| Technique              | Method                 | Type      | Notes              |\n",
    "| ---------------------- | ---------------------- | --------- | ------------------ |\n",
    "| Column selection       | `df['col']`            | Series    | One column         |\n",
    "| Multi-column selection | `df[['col1', 'col2']]` | DataFrame | Multiple columns   |\n",
    "| Row selection (label)  | `df.loc[row_label]`    | Series    | Next section       |\n",
    "| Row selection (pos)    | `df.iloc[row_index]`   | Series    | Next section       |\n",
    "| Row slicing            | `df[start:stop]`       | DataFrame | Position-based     |\n",
    "| Boolean indexing       | `df[cond]`             | DataFrame | Powerful filtering |\n",
    "| Scalar access (label)  | `df.at[row, col]`      | Scalar    | Fast               |\n",
    "| Scalar access (pos)    | `df.iat[row, col]`     | Scalar    | Fast               |\n"
   ]
  },
  {
   "cell_type": "markdown",
   "id": "0428fff7",
   "metadata": {},
   "source": [
    "<center><b>Thanks</b></center>"
   ]
  }
 ],
 "metadata": {
  "kernelspec": {
   "display_name": "Python 3",
   "language": "python",
   "name": "python3"
  },
  "language_info": {
   "codemirror_mode": {
    "name": "ipython",
    "version": 3
   },
   "file_extension": ".py",
   "mimetype": "text/x-python",
   "name": "python",
   "nbconvert_exporter": "python",
   "pygments_lexer": "ipython3",
   "version": "3.10.2"
  }
 },
 "nbformat": 4,
 "nbformat_minor": 5
}
