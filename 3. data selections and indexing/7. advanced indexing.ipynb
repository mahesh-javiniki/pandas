{
 "cells": [
  {
   "cell_type": "markdown",
   "id": "b45115e8",
   "metadata": {},
   "source": [
    "# **Data Selection & Indexing**"
   ]
  },
  {
   "cell_type": "code",
   "execution_count": 1,
   "id": "088e57ad",
   "metadata": {},
   "outputs": [],
   "source": [
    "import pandas as pd"
   ]
  },
  {
   "cell_type": "markdown",
   "id": "7f5e1931",
   "metadata": {},
   "source": [
    "## **7. Advanced Indexing Concepts**"
   ]
  },
  {
   "cell_type": "markdown",
   "id": "d60ac4f5",
   "metadata": {},
   "source": [
    "Advanced indexing gives you **greater flexibility and precision** when working with complex datasets. This is crucial for handling **hierarchical data, time series, and high-dimensional data** often used in data science workflows.\n",
    "\n",
    "\n",
    "## 📋 Topics Covered Under Advanced Indexing\n",
    "\n",
    "| Subsection | Concept                                 |\n",
    "| ---------- | --------------------------------------- |\n",
    "| 1        | MultiIndex (Hierarchical Indexing)      |\n",
    "| 2        | Cross-section (`.xs()`)                 |\n",
    "| 3        | Slicing with `pd.IndexSlice`            |\n",
    "| 4        | Fancy Indexing                          |\n",
    "| 5        | Chained Indexing Warning                |\n",
    "| 6        | Time-based Indexing (DatetimeIndex)     |\n",
    "| 7        | Using `.at[]`, `.iat[]` for fast access |\n",
    "\n",
    "\n",
    "\n",
    "## 1. MultiIndex (Hierarchical Indexing)\n",
    "\n",
    "### ✅ What is it?\n",
    "\n",
    "MultiIndex allows multiple levels of indexing on rows (or columns), enabling you to represent **higher-dimensional data** in 2D DataFrames.\n"
   ]
  },
  {
   "cell_type": "markdown",
   "id": "192bd981",
   "metadata": {},
   "source": [
    "### ✅ Creating MultiIndex"
   ]
  },
  {
   "cell_type": "code",
   "execution_count": 2,
   "id": "f2b7490e",
   "metadata": {},
   "outputs": [
    {
     "data": {
      "text/html": [
       "<div>\n",
       "<style scoped>\n",
       "    .dataframe tbody tr th:only-of-type {\n",
       "        vertical-align: middle;\n",
       "    }\n",
       "\n",
       "    .dataframe tbody tr th {\n",
       "        vertical-align: top;\n",
       "    }\n",
       "\n",
       "    .dataframe thead th {\n",
       "        text-align: right;\n",
       "    }\n",
       "</style>\n",
       "<table border=\"1\" class=\"dataframe\">\n",
       "  <thead>\n",
       "    <tr style=\"text-align: right;\">\n",
       "      <th></th>\n",
       "      <th></th>\n",
       "      <th>Population</th>\n",
       "    </tr>\n",
       "    <tr>\n",
       "      <th>Country</th>\n",
       "      <th>City</th>\n",
       "      <th></th>\n",
       "    </tr>\n",
       "  </thead>\n",
       "  <tbody>\n",
       "    <tr>\n",
       "      <th rowspan=\"2\" valign=\"top\">USA</th>\n",
       "      <th>New York</th>\n",
       "      <td>8.6</td>\n",
       "    </tr>\n",
       "    <tr>\n",
       "      <th>Los Angeles</th>\n",
       "      <td>4.0</td>\n",
       "    </tr>\n",
       "    <tr>\n",
       "      <th rowspan=\"2\" valign=\"top\">India</th>\n",
       "      <th>Delhi</th>\n",
       "      <td>19.8</td>\n",
       "    </tr>\n",
       "    <tr>\n",
       "      <th>Mumbai</th>\n",
       "      <td>20.7</td>\n",
       "    </tr>\n",
       "  </tbody>\n",
       "</table>\n",
       "</div>"
      ],
      "text/plain": [
       "                     Population\n",
       "Country City                   \n",
       "USA     New York            8.6\n",
       "        Los Angeles         4.0\n",
       "India   Delhi              19.8\n",
       "        Mumbai             20.7"
      ]
     },
     "execution_count": 2,
     "metadata": {},
     "output_type": "execute_result"
    }
   ],
   "source": [
    "# From tuples\n",
    "index = pd.MultiIndex.from_tuples([\n",
    "    ('USA', 'New York'),\n",
    "    ('USA', 'Los Angeles'),\n",
    "    ('India', 'Delhi'),\n",
    "    ('India', 'Mumbai')\n",
    "], names=('Country', 'City'))\n",
    "df = pd.DataFrame({\n",
    "    'Population': [8.6, 4.0, 19.8, 20.7]},\n",
    "    index=index\n",
    ")\n",
    "\n",
    "df"
   ]
  },
  {
   "cell_type": "markdown",
   "id": "90ac2813",
   "metadata": {},
   "source": [
    "### ✅ Real-Time Use Case\n",
    "\n",
    "* **E-commerce**: Index by region and product\n",
    "* **Finance**: Index by sector and company\n",
    "* **Healthcare**: Index by hospital and department\n"
   ]
  },
  {
   "cell_type": "markdown",
   "id": "de5d1e2a",
   "metadata": {},
   "source": [
    "## 2. Accessing MultiIndex Data"
   ]
  },
  {
   "cell_type": "markdown",
   "id": "a34a886f",
   "metadata": {},
   "source": [
    "### ✅ By level"
   ]
  },
  {
   "cell_type": "code",
   "execution_count": 3,
   "id": "5f5fe6b4",
   "metadata": {},
   "outputs": [
    {
     "data": {
      "text/html": [
       "<div>\n",
       "<style scoped>\n",
       "    .dataframe tbody tr th:only-of-type {\n",
       "        vertical-align: middle;\n",
       "    }\n",
       "\n",
       "    .dataframe tbody tr th {\n",
       "        vertical-align: top;\n",
       "    }\n",
       "\n",
       "    .dataframe thead th {\n",
       "        text-align: right;\n",
       "    }\n",
       "</style>\n",
       "<table border=\"1\" class=\"dataframe\">\n",
       "  <thead>\n",
       "    <tr style=\"text-align: right;\">\n",
       "      <th></th>\n",
       "      <th>Population</th>\n",
       "    </tr>\n",
       "    <tr>\n",
       "      <th>City</th>\n",
       "      <th></th>\n",
       "    </tr>\n",
       "  </thead>\n",
       "  <tbody>\n",
       "    <tr>\n",
       "      <th>Delhi</th>\n",
       "      <td>19.8</td>\n",
       "    </tr>\n",
       "    <tr>\n",
       "      <th>Mumbai</th>\n",
       "      <td>20.7</td>\n",
       "    </tr>\n",
       "  </tbody>\n",
       "</table>\n",
       "</div>"
      ],
      "text/plain": [
       "        Population\n",
       "City              \n",
       "Delhi         19.8\n",
       "Mumbai        20.7"
      ]
     },
     "execution_count": 3,
     "metadata": {},
     "output_type": "execute_result"
    }
   ],
   "source": [
    "df.loc['India']"
   ]
  },
  {
   "cell_type": "markdown",
   "id": "75e7200b",
   "metadata": {},
   "source": [
    "### ✅ By multiple keys"
   ]
  },
  {
   "cell_type": "code",
   "execution_count": 4,
   "id": "3626d341",
   "metadata": {},
   "outputs": [
    {
     "data": {
      "text/plain": [
       "Population    19.8\n",
       "Name: (India, Delhi), dtype: float64"
      ]
     },
     "execution_count": 4,
     "metadata": {},
     "output_type": "execute_result"
    }
   ],
   "source": [
    "df.loc[('India', 'Delhi')]"
   ]
  },
  {
   "cell_type": "markdown",
   "id": "5b714f4e",
   "metadata": {},
   "source": [
    "## 3. Cross-section with `.xs()`"
   ]
  },
  {
   "cell_type": "markdown",
   "id": "40807942",
   "metadata": {},
   "source": [
    "### ✅ Syntax:\n",
    "\n",
    "```python\n",
    "df.xs(key, level, axis)\n",
    "```"
   ]
  },
  {
   "cell_type": "code",
   "execution_count": 5,
   "id": "1a79ec13",
   "metadata": {},
   "outputs": [
    {
     "data": {
      "text/html": [
       "<div>\n",
       "<style scoped>\n",
       "    .dataframe tbody tr th:only-of-type {\n",
       "        vertical-align: middle;\n",
       "    }\n",
       "\n",
       "    .dataframe tbody tr th {\n",
       "        vertical-align: top;\n",
       "    }\n",
       "\n",
       "    .dataframe thead th {\n",
       "        text-align: right;\n",
       "    }\n",
       "</style>\n",
       "<table border=\"1\" class=\"dataframe\">\n",
       "  <thead>\n",
       "    <tr style=\"text-align: right;\">\n",
       "      <th></th>\n",
       "      <th>Population</th>\n",
       "    </tr>\n",
       "    <tr>\n",
       "      <th>Country</th>\n",
       "      <th></th>\n",
       "    </tr>\n",
       "  </thead>\n",
       "  <tbody>\n",
       "    <tr>\n",
       "      <th>India</th>\n",
       "      <td>19.8</td>\n",
       "    </tr>\n",
       "  </tbody>\n",
       "</table>\n",
       "</div>"
      ],
      "text/plain": [
       "         Population\n",
       "Country            \n",
       "India          19.8"
      ]
     },
     "execution_count": 5,
     "metadata": {},
     "output_type": "execute_result"
    }
   ],
   "source": [
    "# Get all rows for 'Delhi' across all countries\n",
    "df.xs('Delhi', level='City')"
   ]
  },
  {
   "cell_type": "markdown",
   "id": "15af652b",
   "metadata": {},
   "source": [
    "## 4. Slicing with `pd.IndexSlice`\n",
    "\n",
    "When slicing multiple index levels, use `pd.IndexSlice`."
   ]
  },
  {
   "cell_type": "code",
   "execution_count": 6,
   "id": "f286b8af",
   "metadata": {},
   "outputs": [
    {
     "data": {
      "text/html": [
       "<div>\n",
       "<style scoped>\n",
       "    .dataframe tbody tr th:only-of-type {\n",
       "        vertical-align: middle;\n",
       "    }\n",
       "\n",
       "    .dataframe tbody tr th {\n",
       "        vertical-align: top;\n",
       "    }\n",
       "\n",
       "    .dataframe thead th {\n",
       "        text-align: right;\n",
       "    }\n",
       "</style>\n",
       "<table border=\"1\" class=\"dataframe\">\n",
       "  <thead>\n",
       "    <tr style=\"text-align: right;\">\n",
       "      <th></th>\n",
       "      <th>Population</th>\n",
       "    </tr>\n",
       "    <tr>\n",
       "      <th>City</th>\n",
       "      <th></th>\n",
       "    </tr>\n",
       "  </thead>\n",
       "  <tbody>\n",
       "    <tr>\n",
       "      <th>Delhi</th>\n",
       "      <td>19.8</td>\n",
       "    </tr>\n",
       "    <tr>\n",
       "      <th>Mumbai</th>\n",
       "      <td>20.7</td>\n",
       "    </tr>\n",
       "  </tbody>\n",
       "</table>\n",
       "</div>"
      ],
      "text/plain": [
       "        Population\n",
       "City              \n",
       "Delhi         19.8\n",
       "Mumbai        20.7"
      ]
     },
     "execution_count": 6,
     "metadata": {},
     "output_type": "execute_result"
    }
   ],
   "source": [
    "idx = pd.IndexSlice\n",
    "# Get rows from India and all its cities\n",
    "df.loc[idx['India', :]]"
   ]
  },
  {
   "cell_type": "code",
   "execution_count": 7,
   "id": "47dab4ee",
   "metadata": {},
   "outputs": [
    {
     "data": {
      "text/html": [
       "<div>\n",
       "<style scoped>\n",
       "    .dataframe tbody tr th:only-of-type {\n",
       "        vertical-align: middle;\n",
       "    }\n",
       "\n",
       "    .dataframe tbody tr th {\n",
       "        vertical-align: top;\n",
       "    }\n",
       "\n",
       "    .dataframe thead th {\n",
       "        text-align: right;\n",
       "    }\n",
       "</style>\n",
       "<table border=\"1\" class=\"dataframe\">\n",
       "  <thead>\n",
       "    <tr style=\"text-align: right;\">\n",
       "      <th></th>\n",
       "      <th></th>\n",
       "      <th>Population</th>\n",
       "    </tr>\n",
       "    <tr>\n",
       "      <th>Country</th>\n",
       "      <th>City</th>\n",
       "      <th></th>\n",
       "    </tr>\n",
       "  </thead>\n",
       "  <tbody>\n",
       "    <tr>\n",
       "      <th rowspan=\"2\" valign=\"top\">India</th>\n",
       "      <th>Delhi</th>\n",
       "      <td>19.8</td>\n",
       "    </tr>\n",
       "    <tr>\n",
       "      <th>Mumbai</th>\n",
       "      <td>20.7</td>\n",
       "    </tr>\n",
       "  </tbody>\n",
       "</table>\n",
       "</div>"
      ],
      "text/plain": [
       "                Population\n",
       "Country City              \n",
       "India   Delhi         19.8\n",
       "        Mumbai        20.7"
      ]
     },
     "execution_count": 7,
     "metadata": {},
     "output_type": "execute_result"
    }
   ],
   "source": [
    "df.loc[idx[:, ['Delhi', 'Mumbai']], :]"
   ]
  },
  {
   "cell_type": "code",
   "execution_count": null,
   "id": "5349869e",
   "metadata": {},
   "outputs": [
    {
     "name": "stdout",
     "output_type": "stream",
     "text": [
      "'MultiIndex slicing requires the index to be lexsorted: slicing on levels [1], lexsort depth 0'\n"
     ]
    }
   ],
   "source": [
    "try:\n",
    "    df.loc[idx[:, 'Delhi':'Mumbai'], :]\n",
    "except Exception as e:\n",
    "    print(e)"
   ]
  },
  {
   "cell_type": "markdown",
   "id": "39bf7a9e",
   "metadata": {},
   "source": [
    "## 5. Fancy Indexing\n",
    "\n",
    "Fancy indexing means passing **a list/array of labels or conditions** to select specific rows/columns."
   ]
  },
  {
   "cell_type": "code",
   "execution_count": 10,
   "id": "4ada8db8",
   "metadata": {},
   "outputs": [
    {
     "data": {
      "text/html": [
       "<div>\n",
       "<style scoped>\n",
       "    .dataframe tbody tr th:only-of-type {\n",
       "        vertical-align: middle;\n",
       "    }\n",
       "\n",
       "    .dataframe tbody tr th {\n",
       "        vertical-align: top;\n",
       "    }\n",
       "\n",
       "    .dataframe thead th {\n",
       "        text-align: right;\n",
       "    }\n",
       "</style>\n",
       "<table border=\"1\" class=\"dataframe\">\n",
       "  <thead>\n",
       "    <tr style=\"text-align: right;\">\n",
       "      <th></th>\n",
       "      <th></th>\n",
       "      <th>Population</th>\n",
       "    </tr>\n",
       "    <tr>\n",
       "      <th>Country</th>\n",
       "      <th>City</th>\n",
       "      <th></th>\n",
       "    </tr>\n",
       "  </thead>\n",
       "  <tbody>\n",
       "    <tr>\n",
       "      <th>USA</th>\n",
       "      <th>New York</th>\n",
       "      <td>8.6</td>\n",
       "    </tr>\n",
       "    <tr>\n",
       "      <th>India</th>\n",
       "      <th>Mumbai</th>\n",
       "      <td>20.7</td>\n",
       "    </tr>\n",
       "  </tbody>\n",
       "</table>\n",
       "</div>"
      ],
      "text/plain": [
       "                  Population\n",
       "Country City                \n",
       "USA     New York         8.6\n",
       "India   Mumbai          20.7"
      ]
     },
     "execution_count": 10,
     "metadata": {},
     "output_type": "execute_result"
    }
   ],
   "source": [
    "df.loc[[('USA', 'New York'), ('India', 'Mumbai')]]"
   ]
  },
  {
   "cell_type": "markdown",
   "id": "6b3c0ce7",
   "metadata": {},
   "source": [
    "## 6. Chained Indexing Warning ⚠️\n",
    "\n",
    "Using chained indexing can lead to unpredictable behavior:\n",
    "```python\n",
    "df['column'][0] = 5  # ⚠ Bad Practice\n",
    "```\n",
    "\n",
    "This creates a **view**, not a copy. Use `.loc[]` instead:\n",
    "```python\n",
    "df.loc[0, 'column'] = 5  # ✅ Recommended\n",
    "```"
   ]
  },
  {
   "cell_type": "markdown",
   "id": "73bb3657",
   "metadata": {},
   "source": [
    "## 7. Datetime Indexing (Time Series)\n",
    "\n",
    "Pandas supports **time-aware indexing** using `DatetimeIndex`."
   ]
  },
  {
   "cell_type": "code",
   "execution_count": 13,
   "id": "9a8418b1",
   "metadata": {},
   "outputs": [
    {
     "data": {
      "text/plain": [
       "2023-01-01    10\n",
       "2023-01-02    20\n",
       "2023-01-03    30\n",
       "2023-01-04    40\n",
       "2023-01-05    50\n",
       "Freq: D, dtype: int64"
      ]
     },
     "execution_count": 13,
     "metadata": {},
     "output_type": "execute_result"
    }
   ],
   "source": [
    "date_range = pd.date_range(start='2023-01-01', periods=5, freq='D')\n",
    "ts = pd.Series([10, 20, 30, 40, 50], index=date_range)\n",
    "\n",
    "ts"
   ]
  },
  {
   "cell_type": "code",
   "execution_count": 14,
   "id": "ab9fe68f",
   "metadata": {},
   "outputs": [
    {
     "name": "stdout",
     "output_type": "stream",
     "text": [
      "30\n"
     ]
    }
   ],
   "source": [
    "# Access by date\n",
    "print(ts['2023-01-03'])  # 30"
   ]
  },
  {
   "cell_type": "markdown",
   "id": "5b91b1d2",
   "metadata": {},
   "source": [
    "### ✅ Time slicing:"
   ]
  },
  {
   "cell_type": "code",
   "execution_count": 15,
   "id": "91a82807",
   "metadata": {},
   "outputs": [
    {
     "data": {
      "text/plain": [
       "2023-01-02    20\n",
       "2023-01-03    30\n",
       "2023-01-04    40\n",
       "Freq: D, dtype: int64"
      ]
     },
     "execution_count": 15,
     "metadata": {},
     "output_type": "execute_result"
    }
   ],
   "source": [
    "ts['2023-01-02':'2023-01-04']"
   ]
  },
  {
   "cell_type": "markdown",
   "id": "47203db8",
   "metadata": {},
   "source": [
    "## 8. Fast Scalar Access with `.at[]` and `.iat[]`\n",
    "\n",
    "| Method   | Use Case                  | Example         |\n",
    "| -------- | ------------------------- | --------------- |\n",
    "| `.at[]`  | Label-based fast access   | `df.at[0, 'A']` |\n",
    "| `.iat[]` | Integer-based fast access | `df.iat[0, 1]`  |\n",
    "\n",
    "Faster than `.loc[]` and `.iloc[]` for scalar values.\n",
    "\n",
    "\n",
    "## ✅ Real-Time Use Cases\n",
    "\n",
    "| Scenario                            | Technique                      |\n",
    "| ----------------------------------- | ------------------------------ |\n",
    "| Monthly sales by region and product | `MultiIndex` with `.xs()`      |\n",
    "| Filter temperature by day/hour      | `DatetimeIndex` slicing        |\n",
    "| Access precise value for ML feature | `.at[]` / `.iat[]`             |\n",
    "| Large data pipeline indexing        | `IndexSlice`, `Fancy indexing` |\n",
    "| Avoid ambiguous bugs                | Avoid chained indexing         |\n",
    "\n",
    "\n",
    "## ✅ Summary Table\n",
    "\n",
    "| Concept            | Function/Method                      | Example                         |\n",
    "| ------------------ | ------------------------------------ | ------------------------------- |\n",
    "| MultiIndex         | `pd.MultiIndex.from_tuples()`        | Create hierarchical index       |\n",
    "| Cross-section      | `.xs()`                              | `df.xs('USA', level='Country')` |\n",
    "| Index slicing      | `pd.IndexSlice`                      | `df.loc[idx['India', :]]`       |\n",
    "| Time slicing       | DatetimeIndex                        | `ts['2023-01-01':'2023-01-04']` |\n",
    "| Fast scalar access | `.at[]`, `.iat[]`                    | `df.at[0, 'col']`               |\n",
    "| Fancy Indexing     | List/Array of labels                 | `df.loc[[('India', 'Delhi')]]`  |\n",
    "| Safe access        | Use `.loc[]`, avoid chained indexing | `df.loc[0, 'col']`              |\n"
   ]
  },
  {
   "cell_type": "markdown",
   "id": "76c83078",
   "metadata": {},
   "source": [
    "<center><b>Thanks</b></center>"
   ]
  }
 ],
 "metadata": {
  "kernelspec": {
   "display_name": "Python 3",
   "language": "python",
   "name": "python3"
  },
  "language_info": {
   "codemirror_mode": {
    "name": "ipython",
    "version": 3
   },
   "file_extension": ".py",
   "mimetype": "text/x-python",
   "name": "python",
   "nbconvert_exporter": "python",
   "pygments_lexer": "ipython3",
   "version": "3.10.2"
  }
 },
 "nbformat": 4,
 "nbformat_minor": 5
}
