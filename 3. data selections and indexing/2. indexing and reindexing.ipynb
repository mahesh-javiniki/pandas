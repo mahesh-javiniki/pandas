{
 "cells": [
  {
   "cell_type": "markdown",
   "id": "0f9a1ba5",
   "metadata": {},
   "source": [
    "# **Data Selection & Indexing**"
   ]
  },
  {
   "cell_type": "code",
   "execution_count": 1,
   "id": "80dbf3bb",
   "metadata": {},
   "outputs": [],
   "source": [
    "import pandas as pd"
   ]
  },
  {
   "cell_type": "markdown",
   "id": "08ae36a8",
   "metadata": {},
   "source": [
    "## 2. **Indexing and Reindexing**"
   ]
  },
  {
   "cell_type": "markdown",
   "id": "9b69a03a",
   "metadata": {},
   "source": [
    "Indexing & reindexing are critical in pandas because **indexes provide structure, alignment, and efficient data access**. They're more than just row numbers — they can represent time series, hierarchical data, or unique identifiers."
   ]
  },
  {
   "cell_type": "markdown",
   "id": "b9fed057",
   "metadata": {},
   "source": [
    "### 🔹 6. `set_index()` – Set a column as the index"
   ]
  },
  {
   "cell_type": "markdown",
   "id": "e4a48653",
   "metadata": {},
   "source": [
    "#### ✅ **Purpose**: Move one or more columns into the index.\n",
    "\n",
    "#### ✅ **Syntax**\n",
    "\n",
    "```python\n",
    "df.set_index('column_name', inplace=False)\n",
    "```"
   ]
  },
  {
   "cell_type": "code",
   "execution_count": 5,
   "id": "6a8ce22e",
   "metadata": {},
   "outputs": [
    {
     "data": {
      "text/html": [
       "<div>\n",
       "<style scoped>\n",
       "    .dataframe tbody tr th:only-of-type {\n",
       "        vertical-align: middle;\n",
       "    }\n",
       "\n",
       "    .dataframe tbody tr th {\n",
       "        vertical-align: top;\n",
       "    }\n",
       "\n",
       "    .dataframe thead th {\n",
       "        text-align: right;\n",
       "    }\n",
       "</style>\n",
       "<table border=\"1\" class=\"dataframe\">\n",
       "  <thead>\n",
       "    <tr style=\"text-align: right;\">\n",
       "      <th></th>\n",
       "      <th>ID</th>\n",
       "      <th>Name</th>\n",
       "      <th>Age</th>\n",
       "    </tr>\n",
       "  </thead>\n",
       "  <tbody>\n",
       "    <tr>\n",
       "      <th>0</th>\n",
       "      <td>101</td>\n",
       "      <td>Alice</td>\n",
       "      <td>25</td>\n",
       "    </tr>\n",
       "    <tr>\n",
       "      <th>1</th>\n",
       "      <td>102</td>\n",
       "      <td>Bob</td>\n",
       "      <td>30</td>\n",
       "    </tr>\n",
       "    <tr>\n",
       "      <th>2</th>\n",
       "      <td>103</td>\n",
       "      <td>Charlie</td>\n",
       "      <td>35</td>\n",
       "    </tr>\n",
       "  </tbody>\n",
       "</table>\n",
       "</div>"
      ],
      "text/plain": [
       "    ID     Name  Age\n",
       "0  101    Alice   25\n",
       "1  102      Bob   30\n",
       "2  103  Charlie   35"
      ]
     },
     "execution_count": 5,
     "metadata": {},
     "output_type": "execute_result"
    }
   ],
   "source": [
    "data = {\n",
    "    'ID': [101, 102, 103],\n",
    "    'Name': ['Alice', 'Bob', 'Charlie'],\n",
    "    'Age': [25, 30, 35]\n",
    "}\n",
    "df = pd.DataFrame(data)\n",
    "\n",
    "df"
   ]
  },
  {
   "cell_type": "code",
   "execution_count": 7,
   "id": "6dfaf2af",
   "metadata": {},
   "outputs": [
    {
     "data": {
      "text/html": [
       "<div>\n",
       "<style scoped>\n",
       "    .dataframe tbody tr th:only-of-type {\n",
       "        vertical-align: middle;\n",
       "    }\n",
       "\n",
       "    .dataframe tbody tr th {\n",
       "        vertical-align: top;\n",
       "    }\n",
       "\n",
       "    .dataframe thead th {\n",
       "        text-align: right;\n",
       "    }\n",
       "</style>\n",
       "<table border=\"1\" class=\"dataframe\">\n",
       "  <thead>\n",
       "    <tr style=\"text-align: right;\">\n",
       "      <th></th>\n",
       "      <th>Name</th>\n",
       "      <th>Age</th>\n",
       "    </tr>\n",
       "    <tr>\n",
       "      <th>ID</th>\n",
       "      <th></th>\n",
       "      <th></th>\n",
       "    </tr>\n",
       "  </thead>\n",
       "  <tbody>\n",
       "    <tr>\n",
       "      <th>101</th>\n",
       "      <td>Alice</td>\n",
       "      <td>25</td>\n",
       "    </tr>\n",
       "    <tr>\n",
       "      <th>102</th>\n",
       "      <td>Bob</td>\n",
       "      <td>30</td>\n",
       "    </tr>\n",
       "    <tr>\n",
       "      <th>103</th>\n",
       "      <td>Charlie</td>\n",
       "      <td>35</td>\n",
       "    </tr>\n",
       "  </tbody>\n",
       "</table>\n",
       "</div>"
      ],
      "text/plain": [
       "        Name  Age\n",
       "ID               \n",
       "101    Alice   25\n",
       "102      Bob   30\n",
       "103  Charlie   35"
      ]
     },
     "execution_count": 7,
     "metadata": {},
     "output_type": "execute_result"
    }
   ],
   "source": [
    "df1 = df.set_index('ID')\n",
    "df1"
   ]
  },
  {
   "cell_type": "markdown",
   "id": "ec5b1f66",
   "metadata": {},
   "source": [
    "#### ✅ **Real-time Example**\n",
    "\n",
    "In transaction data, `TransactionID` can be set as the index for faster lookup:\n",
    "\n",
    "```python\n",
    "df.set_index('TransactionID', inplace=True)\n",
    "```"
   ]
  },
  {
   "cell_type": "markdown",
   "id": "415c41cc",
   "metadata": {},
   "source": [
    "### 🔹 7. `reset_index()` – Convert index back into a column"
   ]
  },
  {
   "cell_type": "markdown",
   "id": "91c3b80c",
   "metadata": {},
   "source": [
    "#### ✅ **Purpose**: Remove index and return it as a regular column.\n",
    "\n",
    "#### ✅ **Syntax**\n",
    "\n",
    "```python\n",
    "df.reset_index(drop=False, inplace=False)\n",
    "```\n",
    "\n",
    "* `drop=True`: Discards the index completely.\n",
    "* `drop=False`: Moves index to a column."
   ]
  },
  {
   "cell_type": "code",
   "execution_count": 8,
   "id": "e4134b7a",
   "metadata": {},
   "outputs": [
    {
     "data": {
      "text/html": [
       "<div>\n",
       "<style scoped>\n",
       "    .dataframe tbody tr th:only-of-type {\n",
       "        vertical-align: middle;\n",
       "    }\n",
       "\n",
       "    .dataframe tbody tr th {\n",
       "        vertical-align: top;\n",
       "    }\n",
       "\n",
       "    .dataframe thead th {\n",
       "        text-align: right;\n",
       "    }\n",
       "</style>\n",
       "<table border=\"1\" class=\"dataframe\">\n",
       "  <thead>\n",
       "    <tr style=\"text-align: right;\">\n",
       "      <th></th>\n",
       "      <th>ID</th>\n",
       "      <th>Name</th>\n",
       "      <th>Age</th>\n",
       "    </tr>\n",
       "  </thead>\n",
       "  <tbody>\n",
       "    <tr>\n",
       "      <th>0</th>\n",
       "      <td>101</td>\n",
       "      <td>Alice</td>\n",
       "      <td>25</td>\n",
       "    </tr>\n",
       "    <tr>\n",
       "      <th>1</th>\n",
       "      <td>102</td>\n",
       "      <td>Bob</td>\n",
       "      <td>30</td>\n",
       "    </tr>\n",
       "    <tr>\n",
       "      <th>2</th>\n",
       "      <td>103</td>\n",
       "      <td>Charlie</td>\n",
       "      <td>35</td>\n",
       "    </tr>\n",
       "  </tbody>\n",
       "</table>\n",
       "</div>"
      ],
      "text/plain": [
       "    ID     Name  Age\n",
       "0  101    Alice   25\n",
       "1  102      Bob   30\n",
       "2  103  Charlie   35"
      ]
     },
     "execution_count": 8,
     "metadata": {},
     "output_type": "execute_result"
    }
   ],
   "source": [
    "df11 = df1.reset_index()\n",
    "df11"
   ]
  },
  {
   "cell_type": "code",
   "execution_count": 10,
   "id": "6466e06d",
   "metadata": {},
   "outputs": [
    {
     "data": {
      "text/html": [
       "<div>\n",
       "<style scoped>\n",
       "    .dataframe tbody tr th:only-of-type {\n",
       "        vertical-align: middle;\n",
       "    }\n",
       "\n",
       "    .dataframe tbody tr th {\n",
       "        vertical-align: top;\n",
       "    }\n",
       "\n",
       "    .dataframe thead th {\n",
       "        text-align: right;\n",
       "    }\n",
       "</style>\n",
       "<table border=\"1\" class=\"dataframe\">\n",
       "  <thead>\n",
       "    <tr style=\"text-align: right;\">\n",
       "      <th></th>\n",
       "      <th>Name</th>\n",
       "      <th>Age</th>\n",
       "    </tr>\n",
       "  </thead>\n",
       "  <tbody>\n",
       "    <tr>\n",
       "      <th>0</th>\n",
       "      <td>Alice</td>\n",
       "      <td>25</td>\n",
       "    </tr>\n",
       "    <tr>\n",
       "      <th>1</th>\n",
       "      <td>Bob</td>\n",
       "      <td>30</td>\n",
       "    </tr>\n",
       "    <tr>\n",
       "      <th>2</th>\n",
       "      <td>Charlie</td>\n",
       "      <td>35</td>\n",
       "    </tr>\n",
       "  </tbody>\n",
       "</table>\n",
       "</div>"
      ],
      "text/plain": [
       "      Name  Age\n",
       "0    Alice   25\n",
       "1      Bob   30\n",
       "2  Charlie   35"
      ]
     },
     "execution_count": 10,
     "metadata": {},
     "output_type": "execute_result"
    }
   ],
   "source": [
    "df111 = df1.reset_index(drop=True)\n",
    "df111"
   ]
  },
  {
   "cell_type": "markdown",
   "id": "4af294d2",
   "metadata": {},
   "source": [
    "#### ✅ **Real-time Example**\n",
    "\n",
    "When preparing indexed data for CSV export or joining:\n",
    "\n",
    "```python\n",
    "# Move index back to column before exporting\n",
    "df.reset_index().to_csv('output.csv', index=False)\n",
    "```"
   ]
  },
  {
   "cell_type": "markdown",
   "id": "c794c2cd",
   "metadata": {},
   "source": [
    "### 🔹 8. `reindex()` – Change row order or add new indices"
   ]
  },
  {
   "cell_type": "markdown",
   "id": "e25b3206",
   "metadata": {},
   "source": [
    "#### ✅ **Purpose**: Reorder or expand the index.\n",
    "\n",
    "\n",
    "#### ✅ **Syntax**\n",
    "\n",
    "```python\n",
    "df.reindex(new_index)\n",
    "```"
   ]
  },
  {
   "cell_type": "code",
   "execution_count": 12,
   "id": "f59de1fa",
   "metadata": {},
   "outputs": [
    {
     "data": {
      "text/html": [
       "<div>\n",
       "<style scoped>\n",
       "    .dataframe tbody tr th:only-of-type {\n",
       "        vertical-align: middle;\n",
       "    }\n",
       "\n",
       "    .dataframe tbody tr th {\n",
       "        vertical-align: top;\n",
       "    }\n",
       "\n",
       "    .dataframe thead th {\n",
       "        text-align: right;\n",
       "    }\n",
       "</style>\n",
       "<table border=\"1\" class=\"dataframe\">\n",
       "  <thead>\n",
       "    <tr style=\"text-align: right;\">\n",
       "      <th></th>\n",
       "      <th>A</th>\n",
       "    </tr>\n",
       "  </thead>\n",
       "  <tbody>\n",
       "    <tr>\n",
       "      <th>x</th>\n",
       "      <td>10</td>\n",
       "    </tr>\n",
       "    <tr>\n",
       "      <th>y</th>\n",
       "      <td>20</td>\n",
       "    </tr>\n",
       "    <tr>\n",
       "      <th>z</th>\n",
       "      <td>30</td>\n",
       "    </tr>\n",
       "  </tbody>\n",
       "</table>\n",
       "</div>"
      ],
      "text/plain": [
       "    A\n",
       "x  10\n",
       "y  20\n",
       "z  30"
      ]
     },
     "execution_count": 12,
     "metadata": {},
     "output_type": "execute_result"
    }
   ],
   "source": [
    "df = pd.DataFrame({\n",
    "    'A': [10, 20, 30]\n",
    "}, index=['x', 'y', 'z'])\n",
    "\n",
    "df"
   ]
  },
  {
   "cell_type": "code",
   "execution_count": 13,
   "id": "0035b711",
   "metadata": {},
   "outputs": [
    {
     "data": {
      "text/html": [
       "<div>\n",
       "<style scoped>\n",
       "    .dataframe tbody tr th:only-of-type {\n",
       "        vertical-align: middle;\n",
       "    }\n",
       "\n",
       "    .dataframe tbody tr th {\n",
       "        vertical-align: top;\n",
       "    }\n",
       "\n",
       "    .dataframe thead th {\n",
       "        text-align: right;\n",
       "    }\n",
       "</style>\n",
       "<table border=\"1\" class=\"dataframe\">\n",
       "  <thead>\n",
       "    <tr style=\"text-align: right;\">\n",
       "      <th></th>\n",
       "      <th>A</th>\n",
       "    </tr>\n",
       "  </thead>\n",
       "  <tbody>\n",
       "    <tr>\n",
       "      <th>x</th>\n",
       "      <td>10.0</td>\n",
       "    </tr>\n",
       "    <tr>\n",
       "      <th>y</th>\n",
       "      <td>20.0</td>\n",
       "    </tr>\n",
       "    <tr>\n",
       "      <th>z</th>\n",
       "      <td>30.0</td>\n",
       "    </tr>\n",
       "    <tr>\n",
       "      <th>a</th>\n",
       "      <td>NaN</td>\n",
       "    </tr>\n",
       "    <tr>\n",
       "      <th>b</th>\n",
       "      <td>NaN</td>\n",
       "    </tr>\n",
       "  </tbody>\n",
       "</table>\n",
       "</div>"
      ],
      "text/plain": [
       "      A\n",
       "x  10.0\n",
       "y  20.0\n",
       "z  30.0\n",
       "a   NaN\n",
       "b   NaN"
      ]
     },
     "execution_count": 13,
     "metadata": {},
     "output_type": "execute_result"
    }
   ],
   "source": [
    "new_index = ['x', 'y', 'z', 'a', 'b']\n",
    "df_re = df.reindex(new_index)\n",
    "\n",
    "df_re"
   ]
  },
  {
   "cell_type": "markdown",
   "id": "1db97b9f",
   "metadata": {},
   "source": [
    "#### ✅ **Real-time Example**\n",
    "\n",
    "Fill in missing dates in a time series:\n",
    "\n",
    "```python\n",
    "# Fill missing dates in time series\n",
    "all_days = pd.date_range(start='2023-01-01', end='2023-01-10')\n",
    "df_reindexed = df.reindex(all_days)\n",
    "```"
   ]
  },
  {
   "cell_type": "markdown",
   "id": "ea760150",
   "metadata": {},
   "source": [
    "### 🔹 9. `reindex_like()` – Reindex to match another DataFrame"
   ]
  },
  {
   "cell_type": "markdown",
   "id": "5c7a9fa8",
   "metadata": {},
   "source": [
    "#### ✅ **Purpose**: Make one DataFrame's structure match another."
   ]
  },
  {
   "cell_type": "code",
   "execution_count": 16,
   "id": "69d41ea7",
   "metadata": {},
   "outputs": [
    {
     "name": "stdout",
     "output_type": "stream",
     "text": [
      "   A\n",
      "0  1\n",
      "1  2\n",
      "2  3\n",
      "   B\n",
      "0  a\n",
      "1  b\n"
     ]
    }
   ],
   "source": [
    "df1 = pd.DataFrame({'A': [1, 2, 3]}, index=[0, 1, 2])\n",
    "df2 = pd.DataFrame({'B': ['a', 'b']}, index=[0, 1])\n",
    "\n",
    "print(df1)\n",
    "print(df2)"
   ]
  },
  {
   "cell_type": "code",
   "execution_count": 17,
   "id": "56d91a24",
   "metadata": {},
   "outputs": [
    {
     "data": {
      "text/html": [
       "<div>\n",
       "<style scoped>\n",
       "    .dataframe tbody tr th:only-of-type {\n",
       "        vertical-align: middle;\n",
       "    }\n",
       "\n",
       "    .dataframe tbody tr th {\n",
       "        vertical-align: top;\n",
       "    }\n",
       "\n",
       "    .dataframe thead th {\n",
       "        text-align: right;\n",
       "    }\n",
       "</style>\n",
       "<table border=\"1\" class=\"dataframe\">\n",
       "  <thead>\n",
       "    <tr style=\"text-align: right;\">\n",
       "      <th></th>\n",
       "      <th>B</th>\n",
       "    </tr>\n",
       "  </thead>\n",
       "  <tbody>\n",
       "    <tr>\n",
       "      <th>0</th>\n",
       "      <td>NaN</td>\n",
       "    </tr>\n",
       "    <tr>\n",
       "      <th>1</th>\n",
       "      <td>NaN</td>\n",
       "    </tr>\n",
       "  </tbody>\n",
       "</table>\n",
       "</div>"
      ],
      "text/plain": [
       "    B\n",
       "0 NaN\n",
       "1 NaN"
      ]
     },
     "execution_count": 17,
     "metadata": {},
     "output_type": "execute_result"
    }
   ],
   "source": [
    "df1.reindex_like(df2)"
   ]
  },
  {
   "cell_type": "code",
   "execution_count": 18,
   "id": "109a4121",
   "metadata": {},
   "outputs": [
    {
     "data": {
      "text/html": [
       "<div>\n",
       "<style scoped>\n",
       "    .dataframe tbody tr th:only-of-type {\n",
       "        vertical-align: middle;\n",
       "    }\n",
       "\n",
       "    .dataframe tbody tr th {\n",
       "        vertical-align: top;\n",
       "    }\n",
       "\n",
       "    .dataframe thead th {\n",
       "        text-align: right;\n",
       "    }\n",
       "</style>\n",
       "<table border=\"1\" class=\"dataframe\">\n",
       "  <thead>\n",
       "    <tr style=\"text-align: right;\">\n",
       "      <th></th>\n",
       "      <th>A</th>\n",
       "    </tr>\n",
       "  </thead>\n",
       "  <tbody>\n",
       "    <tr>\n",
       "      <th>0</th>\n",
       "      <td>NaN</td>\n",
       "    </tr>\n",
       "    <tr>\n",
       "      <th>1</th>\n",
       "      <td>NaN</td>\n",
       "    </tr>\n",
       "    <tr>\n",
       "      <th>2</th>\n",
       "      <td>NaN</td>\n",
       "    </tr>\n",
       "  </tbody>\n",
       "</table>\n",
       "</div>"
      ],
      "text/plain": [
       "     A\n",
       "0  NaN\n",
       "1  NaN\n",
       "2  NaN"
      ]
     },
     "execution_count": 18,
     "metadata": {},
     "output_type": "execute_result"
    }
   ],
   "source": [
    "df2.reindex_like(df1)"
   ]
  },
  {
   "cell_type": "markdown",
   "id": "7803a8db",
   "metadata": {},
   "source": [
    "#### ✅ **Real-time Example**\n",
    "\n",
    "Reindex a forecasted dataset to align with actuals:\n",
    "\n",
    "```python\n",
    "forecast_df = forecast_df.reindex_like(actuals_df)\n",
    "```"
   ]
  },
  {
   "cell_type": "markdown",
   "id": "d647d373",
   "metadata": {},
   "source": [
    "### 🔹 10. Directly setting index using `df.index = ...`"
   ]
  },
  {
   "cell_type": "code",
   "execution_count": 20,
   "id": "93a0a24e",
   "metadata": {},
   "outputs": [
    {
     "data": {
      "text/html": [
       "<div>\n",
       "<style scoped>\n",
       "    .dataframe tbody tr th:only-of-type {\n",
       "        vertical-align: middle;\n",
       "    }\n",
       "\n",
       "    .dataframe tbody tr th {\n",
       "        vertical-align: top;\n",
       "    }\n",
       "\n",
       "    .dataframe thead th {\n",
       "        text-align: right;\n",
       "    }\n",
       "</style>\n",
       "<table border=\"1\" class=\"dataframe\">\n",
       "  <thead>\n",
       "    <tr style=\"text-align: right;\">\n",
       "      <th></th>\n",
       "      <th>A</th>\n",
       "    </tr>\n",
       "  </thead>\n",
       "  <tbody>\n",
       "    <tr>\n",
       "      <th>x</th>\n",
       "      <td>10</td>\n",
       "    </tr>\n",
       "    <tr>\n",
       "      <th>y</th>\n",
       "      <td>20</td>\n",
       "    </tr>\n",
       "    <tr>\n",
       "      <th>z</th>\n",
       "      <td>30</td>\n",
       "    </tr>\n",
       "  </tbody>\n",
       "</table>\n",
       "</div>"
      ],
      "text/plain": [
       "    A\n",
       "x  10\n",
       "y  20\n",
       "z  30"
      ]
     },
     "execution_count": 20,
     "metadata": {},
     "output_type": "execute_result"
    }
   ],
   "source": [
    "df"
   ]
  },
  {
   "cell_type": "code",
   "execution_count": 22,
   "id": "3792fde8",
   "metadata": {},
   "outputs": [
    {
     "data": {
      "text/html": [
       "<div>\n",
       "<style scoped>\n",
       "    .dataframe tbody tr th:only-of-type {\n",
       "        vertical-align: middle;\n",
       "    }\n",
       "\n",
       "    .dataframe tbody tr th {\n",
       "        vertical-align: top;\n",
       "    }\n",
       "\n",
       "    .dataframe thead th {\n",
       "        text-align: right;\n",
       "    }\n",
       "</style>\n",
       "<table border=\"1\" class=\"dataframe\">\n",
       "  <thead>\n",
       "    <tr style=\"text-align: right;\">\n",
       "      <th></th>\n",
       "      <th>A</th>\n",
       "    </tr>\n",
       "  </thead>\n",
       "  <tbody>\n",
       "    <tr>\n",
       "      <th>a</th>\n",
       "      <td>10</td>\n",
       "    </tr>\n",
       "    <tr>\n",
       "      <th>b</th>\n",
       "      <td>20</td>\n",
       "    </tr>\n",
       "    <tr>\n",
       "      <th>c</th>\n",
       "      <td>30</td>\n",
       "    </tr>\n",
       "  </tbody>\n",
       "</table>\n",
       "</div>"
      ],
      "text/plain": [
       "    A\n",
       "a  10\n",
       "b  20\n",
       "c  30"
      ]
     },
     "execution_count": 22,
     "metadata": {},
     "output_type": "execute_result"
    }
   ],
   "source": [
    "df.index = ['a', 'b', 'c']\n",
    "df"
   ]
  },
  {
   "cell_type": "markdown",
   "id": "63c986da",
   "metadata": {},
   "source": [
    "#### ✅ **Real-time Use Case**\n",
    "\n",
    "Replace auto-generated numeric indices with real-world identifiers:\n",
    "\n",
    "```python\n",
    "# Suppose customer_id_list = [101, 102, 103]\n",
    "df.index = customer_id_list\n",
    "```"
   ]
  },
  {
   "cell_type": "markdown",
   "id": "4e6324b2",
   "metadata": {},
   "source": [
    "### 🔹 11. Hierarchical Indexing (MultiIndex)"
   ]
  },
  {
   "cell_type": "markdown",
   "id": "6e1c92eb",
   "metadata": {},
   "source": [
    "#### ✅ **Purpose**: Index on multiple columns — useful for grouped or nested data.\n",
    "\n",
    "#### ✅ **Syntax**\n",
    "\n",
    "```python\n",
    "df.set_index(['col1', 'col2'])\n",
    "```\n"
   ]
  },
  {
   "cell_type": "code",
   "execution_count": 24,
   "id": "a18333f6",
   "metadata": {},
   "outputs": [
    {
     "data": {
      "text/html": [
       "<div>\n",
       "<style scoped>\n",
       "    .dataframe tbody tr th:only-of-type {\n",
       "        vertical-align: middle;\n",
       "    }\n",
       "\n",
       "    .dataframe tbody tr th {\n",
       "        vertical-align: top;\n",
       "    }\n",
       "\n",
       "    .dataframe thead th {\n",
       "        text-align: right;\n",
       "    }\n",
       "</style>\n",
       "<table border=\"1\" class=\"dataframe\">\n",
       "  <thead>\n",
       "    <tr style=\"text-align: right;\">\n",
       "      <th></th>\n",
       "      <th>Year</th>\n",
       "      <th>Quarter</th>\n",
       "      <th>Sales</th>\n",
       "    </tr>\n",
       "  </thead>\n",
       "  <tbody>\n",
       "    <tr>\n",
       "      <th>0</th>\n",
       "      <td>2020</td>\n",
       "      <td>Q1</td>\n",
       "      <td>200</td>\n",
       "    </tr>\n",
       "    <tr>\n",
       "      <th>1</th>\n",
       "      <td>2020</td>\n",
       "      <td>Q2</td>\n",
       "      <td>210</td>\n",
       "    </tr>\n",
       "    <tr>\n",
       "      <th>2</th>\n",
       "      <td>2021</td>\n",
       "      <td>Q1</td>\n",
       "      <td>250</td>\n",
       "    </tr>\n",
       "    <tr>\n",
       "      <th>3</th>\n",
       "      <td>2021</td>\n",
       "      <td>Q2</td>\n",
       "      <td>260</td>\n",
       "    </tr>\n",
       "  </tbody>\n",
       "</table>\n",
       "</div>"
      ],
      "text/plain": [
       "   Year Quarter  Sales\n",
       "0  2020      Q1    200\n",
       "1  2020      Q2    210\n",
       "2  2021      Q1    250\n",
       "3  2021      Q2    260"
      ]
     },
     "execution_count": 24,
     "metadata": {},
     "output_type": "execute_result"
    }
   ],
   "source": [
    "df = pd.DataFrame({\n",
    "    'Year': [2020, 2020, 2021, 2021],\n",
    "    'Quarter': ['Q1', 'Q2', 'Q1', 'Q2'],\n",
    "    'Sales': [200, 210, 250, 260]\n",
    "})\n",
    "df"
   ]
  },
  {
   "cell_type": "code",
   "execution_count": 27,
   "id": "0312de7f",
   "metadata": {},
   "outputs": [
    {
     "data": {
      "text/html": [
       "<div>\n",
       "<style scoped>\n",
       "    .dataframe tbody tr th:only-of-type {\n",
       "        vertical-align: middle;\n",
       "    }\n",
       "\n",
       "    .dataframe tbody tr th {\n",
       "        vertical-align: top;\n",
       "    }\n",
       "\n",
       "    .dataframe thead th {\n",
       "        text-align: right;\n",
       "    }\n",
       "</style>\n",
       "<table border=\"1\" class=\"dataframe\">\n",
       "  <thead>\n",
       "    <tr style=\"text-align: right;\">\n",
       "      <th></th>\n",
       "      <th></th>\n",
       "      <th>Sales</th>\n",
       "    </tr>\n",
       "    <tr>\n",
       "      <th>Year</th>\n",
       "      <th>Quarter</th>\n",
       "      <th></th>\n",
       "    </tr>\n",
       "  </thead>\n",
       "  <tbody>\n",
       "    <tr>\n",
       "      <th rowspan=\"2\" valign=\"top\">2020</th>\n",
       "      <th>Q1</th>\n",
       "      <td>200</td>\n",
       "    </tr>\n",
       "    <tr>\n",
       "      <th>Q2</th>\n",
       "      <td>210</td>\n",
       "    </tr>\n",
       "    <tr>\n",
       "      <th rowspan=\"2\" valign=\"top\">2021</th>\n",
       "      <th>Q1</th>\n",
       "      <td>250</td>\n",
       "    </tr>\n",
       "    <tr>\n",
       "      <th>Q2</th>\n",
       "      <td>260</td>\n",
       "    </tr>\n",
       "  </tbody>\n",
       "</table>\n",
       "</div>"
      ],
      "text/plain": [
       "              Sales\n",
       "Year Quarter       \n",
       "2020 Q1         200\n",
       "     Q2         210\n",
       "2021 Q1         250\n",
       "     Q2         260"
      ]
     },
     "execution_count": 27,
     "metadata": {},
     "output_type": "execute_result"
    }
   ],
   "source": [
    "df.set_index(['Year', 'Quarter'])"
   ]
  },
  {
   "cell_type": "markdown",
   "id": "e59aae47",
   "metadata": {},
   "source": [
    "#### ✅ **Real-time Example**\n",
    "\n",
    "Used in:\n",
    "\n",
    "* Sales by Region and Quarter\n",
    "* Time Series by Category and Subcategory\n",
    "* Nested API response flattening\n"
   ]
  },
  {
   "cell_type": "markdown",
   "id": "ff3fa743",
   "metadata": {},
   "source": [
    "### 🔸 Summary Table: Indexing & Reindexing\n",
    "\n",
    "| Method           | Use Case                            | Inplace | Returns   |\n",
    "| ---------------- | ----------------------------------- | ------- | --------- |\n",
    "| `set_index()`    | Set one/more columns as index       | ✅       | DataFrame |\n",
    "| `reset_index()`  | Convert index back to column(s)     | ✅       | DataFrame |\n",
    "| `reindex()`      | Change index (add/remove/reorder)   | ✅       | DataFrame |\n",
    "| `reindex_like()` | Match another DataFrame's structure | ✅       | DataFrame |\n",
    "| `df.index = ...` | Manual index assignment             | ✅       | DataFrame |\n",
    "| MultiIndex       | Nested/grouped datasets             | ✅       | DataFrame |\n",
    "\n",
    "---\n",
    "\n",
    "## ✅ Best Practices\n",
    "\n",
    "| Situation                            | Recommendation                      |\n",
    "| ------------------------------------ | ----------------------------------- |\n",
    "| Working with unique keys (e.g., IDs) | Use `set_index()`                   |\n",
    "| Exporting or merging                 | Use `reset_index()`                 |\n",
    "| Aligning data                        | Use `reindex()` or `reindex_like()` |\n",
    "| Grouped data                         | Use MultiIndex                      |\n",
    "| Avoiding errors                      | Always double-check index alignment |"
   ]
  },
  {
   "cell_type": "markdown",
   "id": "b4262f6c",
   "metadata": {},
   "source": [
    "<center><b>Thanks</b></center>"
   ]
  }
 ],
 "metadata": {
  "kernelspec": {
   "display_name": "Python 3",
   "language": "python",
   "name": "python3"
  },
  "language_info": {
   "codemirror_mode": {
    "name": "ipython",
    "version": 3
   },
   "file_extension": ".py",
   "mimetype": "text/x-python",
   "name": "python",
   "nbconvert_exporter": "python",
   "pygments_lexer": "ipython3",
   "version": "3.10.2"
  }
 },
 "nbformat": 4,
 "nbformat_minor": 5
}
