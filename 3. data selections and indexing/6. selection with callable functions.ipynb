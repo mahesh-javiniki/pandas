{
 "cells": [
  {
   "cell_type": "markdown",
   "id": "8cf21d4d",
   "metadata": {},
   "source": [
    "# **Data Selection & Indexing**"
   ]
  },
  {
   "cell_type": "code",
   "execution_count": 1,
   "id": "386193c4",
   "metadata": {},
   "outputs": [],
   "source": [
    "import pandas as pd"
   ]
  },
  {
   "cell_type": "markdown",
   "id": "0c303a4a",
   "metadata": {},
   "source": [
    "## 6. **Selection with Callable Functions**"
   ]
  },
  {
   "cell_type": "markdown",
   "id": "1b48dc99",
   "metadata": {},
   "source": [
    "### ✅ What is it?\n",
    "\n",
    "Pandas allows you to **pass functions as selectors** inside `.loc[]`, `.iloc[]`, and other selection methods. This enables **dynamic and reusable filtering**, especially when your logic needs to be calculated or composed at runtime.\n",
    "\n",
    "\n",
    "\n",
    "### 🔹 Why Use Callable Functions?\n",
    "\n",
    "* Useful for **modular and reusable code**\n",
    "* Makes filtering **more flexible**\n",
    "* Helpful in **pipeline workflows**\n",
    "* Can use **functions with external variables** for dynamic selection\n",
    "\n",
    "\n",
    "\n",
    "### ✅ Supported With\n",
    "\n",
    "* `df.loc[function]`\n",
    "* `df.iloc[function]`\n",
    "* `df.loc[lambda df: condition]` (most common)\n",
    "* Also works with Series (like `s.loc[lambda s: s > 5]`)\n"
   ]
  },
  {
   "cell_type": "markdown",
   "id": "4e892620",
   "metadata": {},
   "source": [
    "## 🔸 1. Using `lambda` with `.loc[]`"
   ]
  },
  {
   "cell_type": "code",
   "execution_count": 5,
   "id": "578059fb",
   "metadata": {},
   "outputs": [
    {
     "data": {
      "text/html": [
       "<div>\n",
       "<style scoped>\n",
       "    .dataframe tbody tr th:only-of-type {\n",
       "        vertical-align: middle;\n",
       "    }\n",
       "\n",
       "    .dataframe tbody tr th {\n",
       "        vertical-align: top;\n",
       "    }\n",
       "\n",
       "    .dataframe thead th {\n",
       "        text-align: right;\n",
       "    }\n",
       "</style>\n",
       "<table border=\"1\" class=\"dataframe\">\n",
       "  <thead>\n",
       "    <tr style=\"text-align: right;\">\n",
       "      <th></th>\n",
       "      <th>Name</th>\n",
       "      <th>Age</th>\n",
       "      <th>City</th>\n",
       "    </tr>\n",
       "  </thead>\n",
       "  <tbody>\n",
       "    <tr>\n",
       "      <th>0</th>\n",
       "      <td>Alice</td>\n",
       "      <td>25</td>\n",
       "      <td>NY</td>\n",
       "    </tr>\n",
       "    <tr>\n",
       "      <th>1</th>\n",
       "      <td>Bob</td>\n",
       "      <td>30</td>\n",
       "      <td>London</td>\n",
       "    </tr>\n",
       "    <tr>\n",
       "      <th>2</th>\n",
       "      <td>Charlie</td>\n",
       "      <td>35</td>\n",
       "      <td>Paris</td>\n",
       "    </tr>\n",
       "    <tr>\n",
       "      <th>3</th>\n",
       "      <td>David</td>\n",
       "      <td>40</td>\n",
       "      <td>Berlin</td>\n",
       "    </tr>\n",
       "  </tbody>\n",
       "</table>\n",
       "</div>"
      ],
      "text/plain": [
       "      Name  Age    City\n",
       "0    Alice   25      NY\n",
       "1      Bob   30  London\n",
       "2  Charlie   35   Paris\n",
       "3    David   40  Berlin"
      ]
     },
     "execution_count": 5,
     "metadata": {},
     "output_type": "execute_result"
    }
   ],
   "source": [
    "\n",
    "df = pd.DataFrame({\n",
    "    'Name': ['Alice', 'Bob', 'Charlie', 'David'],\n",
    "    'Age': [25, 30, 35, 40],\n",
    "    'City': ['NY', 'London', 'Paris', 'Berlin']\n",
    "})\n",
    "\n",
    "df"
   ]
  },
  {
   "cell_type": "code",
   "execution_count": 8,
   "id": "acb4c0a6",
   "metadata": {},
   "outputs": [
    {
     "data": {
      "text/html": [
       "<div>\n",
       "<style scoped>\n",
       "    .dataframe tbody tr th:only-of-type {\n",
       "        vertical-align: middle;\n",
       "    }\n",
       "\n",
       "    .dataframe tbody tr th {\n",
       "        vertical-align: top;\n",
       "    }\n",
       "\n",
       "    .dataframe thead th {\n",
       "        text-align: right;\n",
       "    }\n",
       "</style>\n",
       "<table border=\"1\" class=\"dataframe\">\n",
       "  <thead>\n",
       "    <tr style=\"text-align: right;\">\n",
       "      <th></th>\n",
       "      <th>Name</th>\n",
       "      <th>Age</th>\n",
       "      <th>City</th>\n",
       "    </tr>\n",
       "  </thead>\n",
       "  <tbody>\n",
       "    <tr>\n",
       "      <th>2</th>\n",
       "      <td>Charlie</td>\n",
       "      <td>35</td>\n",
       "      <td>Paris</td>\n",
       "    </tr>\n",
       "    <tr>\n",
       "      <th>3</th>\n",
       "      <td>David</td>\n",
       "      <td>40</td>\n",
       "      <td>Berlin</td>\n",
       "    </tr>\n",
       "  </tbody>\n",
       "</table>\n",
       "</div>"
      ],
      "text/plain": [
       "      Name  Age    City\n",
       "2  Charlie   35   Paris\n",
       "3    David   40  Berlin"
      ]
     },
     "execution_count": 8,
     "metadata": {},
     "output_type": "execute_result"
    }
   ],
   "source": [
    "df.loc[lambda df: df['Age'] > 30]"
   ]
  },
  {
   "cell_type": "markdown",
   "id": "f6057531",
   "metadata": {},
   "source": [
    "## 🔸 2. Using External Variables in Lambda"
   ]
  },
  {
   "cell_type": "code",
   "execution_count": 10,
   "id": "a8e90677",
   "metadata": {},
   "outputs": [
    {
     "data": {
      "text/html": [
       "<div>\n",
       "<style scoped>\n",
       "    .dataframe tbody tr th:only-of-type {\n",
       "        vertical-align: middle;\n",
       "    }\n",
       "\n",
       "    .dataframe tbody tr th {\n",
       "        vertical-align: top;\n",
       "    }\n",
       "\n",
       "    .dataframe thead th {\n",
       "        text-align: right;\n",
       "    }\n",
       "</style>\n",
       "<table border=\"1\" class=\"dataframe\">\n",
       "  <thead>\n",
       "    <tr style=\"text-align: right;\">\n",
       "      <th></th>\n",
       "      <th>Name</th>\n",
       "      <th>Age</th>\n",
       "      <th>City</th>\n",
       "    </tr>\n",
       "  </thead>\n",
       "  <tbody>\n",
       "    <tr>\n",
       "      <th>2</th>\n",
       "      <td>Charlie</td>\n",
       "      <td>35</td>\n",
       "      <td>Paris</td>\n",
       "    </tr>\n",
       "    <tr>\n",
       "      <th>3</th>\n",
       "      <td>David</td>\n",
       "      <td>40</td>\n",
       "      <td>Berlin</td>\n",
       "    </tr>\n",
       "  </tbody>\n",
       "</table>\n",
       "</div>"
      ],
      "text/plain": [
       "      Name  Age    City\n",
       "2  Charlie   35   Paris\n",
       "3    David   40  Berlin"
      ]
     },
     "execution_count": 10,
     "metadata": {},
     "output_type": "execute_result"
    }
   ],
   "source": [
    "min_age = 30\n",
    "df.loc[lambda df: df['Age'] > min_age]"
   ]
  },
  {
   "cell_type": "markdown",
   "id": "8c85c120",
   "metadata": {},
   "source": [
    "### ✅ Real-Time Use Case\n",
    "\n",
    "Filter rows based on dynamic user-defined threshold:\n",
    "\n",
    "```python\n",
    "threshold = input(\"Enter minimum age: \")\n",
    "df.loc[lambda df: df['Age'] > int(threshold)]\n",
    "```\n"
   ]
  },
  {
   "cell_type": "markdown",
   "id": "c66b8880",
   "metadata": {},
   "source": [
    "\n",
    "## 🔸 3. Selecting Specific Columns Using a Function\n",
    "\n",
    "You can also use functions to dynamically choose columns."
   ]
  },
  {
   "cell_type": "code",
   "execution_count": 11,
   "id": "34d88caa",
   "metadata": {},
   "outputs": [
    {
     "data": {
      "text/html": [
       "<div>\n",
       "<style scoped>\n",
       "    .dataframe tbody tr th:only-of-type {\n",
       "        vertical-align: middle;\n",
       "    }\n",
       "\n",
       "    .dataframe tbody tr th {\n",
       "        vertical-align: top;\n",
       "    }\n",
       "\n",
       "    .dataframe thead th {\n",
       "        text-align: right;\n",
       "    }\n",
       "</style>\n",
       "<table border=\"1\" class=\"dataframe\">\n",
       "  <thead>\n",
       "    <tr style=\"text-align: right;\">\n",
       "      <th></th>\n",
       "      <th>City</th>\n",
       "    </tr>\n",
       "  </thead>\n",
       "  <tbody>\n",
       "    <tr>\n",
       "      <th>0</th>\n",
       "      <td>NY</td>\n",
       "    </tr>\n",
       "    <tr>\n",
       "      <th>1</th>\n",
       "      <td>London</td>\n",
       "    </tr>\n",
       "    <tr>\n",
       "      <th>2</th>\n",
       "      <td>Paris</td>\n",
       "    </tr>\n",
       "    <tr>\n",
       "      <th>3</th>\n",
       "      <td>Berlin</td>\n",
       "    </tr>\n",
       "  </tbody>\n",
       "</table>\n",
       "</div>"
      ],
      "text/plain": [
       "     City\n",
       "0      NY\n",
       "1  London\n",
       "2   Paris\n",
       "3  Berlin"
      ]
     },
     "execution_count": 11,
     "metadata": {},
     "output_type": "execute_result"
    }
   ],
   "source": [
    "df.loc[:, lambda df: df.columns.str.startswith('C')]"
   ]
  },
  {
   "cell_type": "markdown",
   "id": "a0f53f70",
   "metadata": {},
   "source": [
    "> Selects all columns that **start with 'C'** (like `'City'`)"
   ]
  },
  {
   "cell_type": "markdown",
   "id": "001678ec",
   "metadata": {},
   "source": [
    "## 🔸 4. Selecting with `.iloc[]` and Callable"
   ]
  },
  {
   "cell_type": "code",
   "execution_count": 13,
   "id": "37177c33",
   "metadata": {},
   "outputs": [
    {
     "data": {
      "text/html": [
       "<div>\n",
       "<style scoped>\n",
       "    .dataframe tbody tr th:only-of-type {\n",
       "        vertical-align: middle;\n",
       "    }\n",
       "\n",
       "    .dataframe tbody tr th {\n",
       "        vertical-align: top;\n",
       "    }\n",
       "\n",
       "    .dataframe thead th {\n",
       "        text-align: right;\n",
       "    }\n",
       "</style>\n",
       "<table border=\"1\" class=\"dataframe\">\n",
       "  <thead>\n",
       "    <tr style=\"text-align: right;\">\n",
       "      <th></th>\n",
       "      <th>Name</th>\n",
       "      <th>Age</th>\n",
       "      <th>City</th>\n",
       "    </tr>\n",
       "  </thead>\n",
       "  <tbody>\n",
       "    <tr>\n",
       "      <th>0</th>\n",
       "      <td>Alice</td>\n",
       "      <td>25</td>\n",
       "      <td>NY</td>\n",
       "    </tr>\n",
       "    <tr>\n",
       "      <th>2</th>\n",
       "      <td>Charlie</td>\n",
       "      <td>35</td>\n",
       "      <td>Paris</td>\n",
       "    </tr>\n",
       "  </tbody>\n",
       "</table>\n",
       "</div>"
      ],
      "text/plain": [
       "      Name  Age   City\n",
       "0    Alice   25     NY\n",
       "2  Charlie   35  Paris"
      ]
     },
     "execution_count": 13,
     "metadata": {},
     "output_type": "execute_result"
    }
   ],
   "source": [
    "df.iloc[lambda df: [0, 2]]"
   ]
  },
  {
   "cell_type": "markdown",
   "id": "49d15ac7",
   "metadata": {},
   "source": [
    "> Selects rows 0 and 2\n",
    "\n",
    "You can also filter on positions conditionally:"
   ]
  },
  {
   "cell_type": "code",
   "execution_count": 16,
   "id": "4913d508",
   "metadata": {},
   "outputs": [
    {
     "data": {
      "text/html": [
       "<div>\n",
       "<style scoped>\n",
       "    .dataframe tbody tr th:only-of-type {\n",
       "        vertical-align: middle;\n",
       "    }\n",
       "\n",
       "    .dataframe tbody tr th {\n",
       "        vertical-align: top;\n",
       "    }\n",
       "\n",
       "    .dataframe thead th {\n",
       "        text-align: right;\n",
       "    }\n",
       "</style>\n",
       "<table border=\"1\" class=\"dataframe\">\n",
       "  <thead>\n",
       "    <tr style=\"text-align: right;\">\n",
       "      <th></th>\n",
       "      <th>Name</th>\n",
       "      <th>Age</th>\n",
       "      <th>City</th>\n",
       "    </tr>\n",
       "  </thead>\n",
       "  <tbody>\n",
       "    <tr>\n",
       "      <th>0</th>\n",
       "      <td>Alice</td>\n",
       "      <td>25</td>\n",
       "      <td>NY</td>\n",
       "    </tr>\n",
       "    <tr>\n",
       "      <th>2</th>\n",
       "      <td>Charlie</td>\n",
       "      <td>35</td>\n",
       "      <td>Paris</td>\n",
       "    </tr>\n",
       "  </tbody>\n",
       "</table>\n",
       "</div>"
      ],
      "text/plain": [
       "      Name  Age   City\n",
       "0    Alice   25     NY\n",
       "2  Charlie   35  Paris"
      ]
     },
     "execution_count": 16,
     "metadata": {},
     "output_type": "execute_result"
    }
   ],
   "source": [
    "df.iloc[lambda x: x.index % 2 == 0] # Select even-indexed rows"
   ]
  },
  {
   "cell_type": "markdown",
   "id": "b83cae9b",
   "metadata": {},
   "source": [
    "## 🔸 5. Chaining Callable Functions\n",
    "\n",
    "You can chain `loc` and `iloc` with callables for clean pipelines."
   ]
  },
  {
   "cell_type": "code",
   "execution_count": 17,
   "id": "12d8a0db",
   "metadata": {},
   "outputs": [
    {
     "data": {
      "text/html": [
       "<div>\n",
       "<style scoped>\n",
       "    .dataframe tbody tr th:only-of-type {\n",
       "        vertical-align: middle;\n",
       "    }\n",
       "\n",
       "    .dataframe tbody tr th {\n",
       "        vertical-align: top;\n",
       "    }\n",
       "\n",
       "    .dataframe thead th {\n",
       "        text-align: right;\n",
       "    }\n",
       "</style>\n",
       "<table border=\"1\" class=\"dataframe\">\n",
       "  <thead>\n",
       "    <tr style=\"text-align: right;\">\n",
       "      <th></th>\n",
       "      <th>Name</th>\n",
       "      <th>Age</th>\n",
       "      <th>City</th>\n",
       "    </tr>\n",
       "  </thead>\n",
       "  <tbody>\n",
       "    <tr>\n",
       "      <th>1</th>\n",
       "      <td>Bob</td>\n",
       "      <td>30</td>\n",
       "      <td>London</td>\n",
       "    </tr>\n",
       "    <tr>\n",
       "      <th>3</th>\n",
       "      <td>David</td>\n",
       "      <td>40</td>\n",
       "      <td>Berlin</td>\n",
       "    </tr>\n",
       "  </tbody>\n",
       "</table>\n",
       "</div>"
      ],
      "text/plain": [
       "    Name  Age    City\n",
       "1    Bob   30  London\n",
       "3  David   40  Berlin"
      ]
     },
     "execution_count": 17,
     "metadata": {},
     "output_type": "execute_result"
    }
   ],
   "source": [
    "df.loc[lambda d: d['Age'] > 25].loc[lambda d: d['City'] != 'Paris']"
   ]
  },
  {
   "cell_type": "markdown",
   "id": "1dc01ac5",
   "metadata": {},
   "source": [
    "## 🔸 6. Use in Function Composition\n",
    "\n",
    "You can define **custom filters**:"
   ]
  },
  {
   "cell_type": "code",
   "execution_count": 20,
   "id": "790ce708",
   "metadata": {},
   "outputs": [
    {
     "data": {
      "text/html": [
       "<div>\n",
       "<style scoped>\n",
       "    .dataframe tbody tr th:only-of-type {\n",
       "        vertical-align: middle;\n",
       "    }\n",
       "\n",
       "    .dataframe tbody tr th {\n",
       "        vertical-align: top;\n",
       "    }\n",
       "\n",
       "    .dataframe thead th {\n",
       "        text-align: right;\n",
       "    }\n",
       "</style>\n",
       "<table border=\"1\" class=\"dataframe\">\n",
       "  <thead>\n",
       "    <tr style=\"text-align: right;\">\n",
       "      <th></th>\n",
       "      <th>Name</th>\n",
       "      <th>Age</th>\n",
       "      <th>City</th>\n",
       "    </tr>\n",
       "  </thead>\n",
       "  <tbody>\n",
       "    <tr>\n",
       "      <th>0</th>\n",
       "      <td>Alice</td>\n",
       "      <td>25</td>\n",
       "      <td>NY</td>\n",
       "    </tr>\n",
       "  </tbody>\n",
       "</table>\n",
       "</div>"
      ],
      "text/plain": [
       "    Name  Age City\n",
       "0  Alice   25   NY"
      ]
     },
     "execution_count": 20,
     "metadata": {},
     "output_type": "execute_result"
    }
   ],
   "source": [
    "def young_age(df):\n",
    "    return df['Age'] < 30\n",
    "\n",
    "df.loc[young_age]"
   ]
  },
  {
   "cell_type": "markdown",
   "id": "ddc03a7e",
   "metadata": {},
   "source": [
    "Or define reusable `lambda` filters:"
   ]
  },
  {
   "cell_type": "code",
   "execution_count": 21,
   "id": "0eccb840",
   "metadata": {},
   "outputs": [
    {
     "data": {
      "text/html": [
       "<div>\n",
       "<style scoped>\n",
       "    .dataframe tbody tr th:only-of-type {\n",
       "        vertical-align: middle;\n",
       "    }\n",
       "\n",
       "    .dataframe tbody tr th {\n",
       "        vertical-align: top;\n",
       "    }\n",
       "\n",
       "    .dataframe thead th {\n",
       "        text-align: right;\n",
       "    }\n",
       "</style>\n",
       "<table border=\"1\" class=\"dataframe\">\n",
       "  <thead>\n",
       "    <tr style=\"text-align: right;\">\n",
       "      <th></th>\n",
       "      <th>Name</th>\n",
       "      <th>Age</th>\n",
       "      <th>City</th>\n",
       "    </tr>\n",
       "  </thead>\n",
       "  <tbody>\n",
       "    <tr>\n",
       "      <th>2</th>\n",
       "      <td>Charlie</td>\n",
       "      <td>35</td>\n",
       "      <td>Paris</td>\n",
       "    </tr>\n",
       "  </tbody>\n",
       "</table>\n",
       "</div>"
      ],
      "text/plain": [
       "      Name  Age   City\n",
       "2  Charlie   35  Paris"
      ]
     },
     "execution_count": 21,
     "metadata": {},
     "output_type": "execute_result"
    }
   ],
   "source": [
    "filter_func = lambda df: (df['Age'] > 30) & (df['City'] == 'Paris')\n",
    "df.loc[filter_func]"
   ]
  },
  {
   "cell_type": "markdown",
   "id": "fbe5c8af",
   "metadata": {},
   "source": [
    "## 🔸 7. Real-Time Use Cases\n",
    "\n",
    "| Scenario                                        | Code                                                   |\n",
    "| ----------------------------------------------- | ------------------------------------------------------ |\n",
    "| ✅ Dynamic filtering on user input               | `df.loc[lambda d: d['Age'] > user_input]`              |\n",
    "| ✅ Select all string columns                     | `df.loc[:, lambda d: d.dtypes == object]`              |\n",
    "| ✅ Get columns ending in “Score”                 | `df.loc[:, lambda d: d.columns.str.endswith(\"Score\")]` |\n",
    "| ✅ Only even-indexed rows                        | `df.iloc[lambda d: d.index % 2 == 0]`                  |\n",
    "| ✅ Filter rows with logic in a reusable function | `df.loc[my_filter_function]`                           |\n",
    "\n",
    "\n",
    "## ✅ Summary Table\n",
    "\n",
    "| Selector Type                  | Example                                                 | Use Case                |\n",
    "| ------------------------------ | ------------------------------------------------------- | ----------------------- |\n",
    "| `.loc[lambda df: cond]`        | `df.loc[lambda df: df['Age'] > 25]`                     | Dynamic row filter      |\n",
    "| `.loc[:, lambda df: col_cond]` | `df.loc[:, lambda df: df.columns.str.contains('Name')]` | Column selection        |\n",
    "| `.iloc[lambda df: pos_list]`   | `df.iloc[lambda df: [0, 2]]`                            | Select by row positions |\n",
    "| `.loc[custom_func]`            | `df.loc[my_custom_func]`                                | Reuse filter logic      |\n",
    "\n",
    "## ✅ Best Practices\n",
    "\n",
    "* Use `lambda df:` when defining inline logic\n",
    "* Use full function definitions for reusability across datasets\n",
    "* Always **return a boolean Series or list of positions** from the callable\n",
    "* Combine with `.pipe()` for method chaining\n"
   ]
  },
  {
   "cell_type": "markdown",
   "id": "94ec1860",
   "metadata": {},
   "source": [
    "<center><b>Thanks</b></center>"
   ]
  }
 ],
 "metadata": {
  "kernelspec": {
   "display_name": "Python 3",
   "language": "python",
   "name": "python3"
  },
  "language_info": {
   "codemirror_mode": {
    "name": "ipython",
    "version": 3
   },
   "file_extension": ".py",
   "mimetype": "text/x-python",
   "name": "python",
   "nbconvert_exporter": "python",
   "pygments_lexer": "ipython3",
   "version": "3.10.2"
  }
 },
 "nbformat": 4,
 "nbformat_minor": 5
}
