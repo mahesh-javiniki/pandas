{
 "cells": [
  {
   "cell_type": "markdown",
   "id": "853127fb",
   "metadata": {},
   "source": [
    "# **Data Selection & Indexing**"
   ]
  },
  {
   "cell_type": "code",
   "execution_count": 1,
   "id": "1a459a33",
   "metadata": {},
   "outputs": [],
   "source": [
    "import pandas as pd"
   ]
  },
  {
   "cell_type": "markdown",
   "id": "8d51d93b",
   "metadata": {},
   "source": [
    "## 4. **Integer-based Selection in pandas**"
   ]
  },
  {
   "cell_type": "markdown",
   "id": "bb9e7a83",
   "metadata": {},
   "source": [
    "This section covers how to select rows and columns based on their **integer positions** — just like using zero-based indexing in regular Python lists or NumPy arrays.\n",
    "\n",
    "There are two key tools:\n",
    "\n",
    "1. `df.iloc[]` – Select multiple values using integer positions **(index location)**\n",
    "2. `df.iat[]` – Fast access for a single value using integer positions **(index at)**"
   ]
  },
  {
   "cell_type": "markdown",
   "id": "60575ae9",
   "metadata": {},
   "source": [
    "## 🔹 12. `df.iloc[]` – Integer Position-Based Selection"
   ]
  },
  {
   "cell_type": "markdown",
   "id": "a318e331",
   "metadata": {},
   "source": [
    "### ✅ **Purpose**\n",
    "\n",
    "Access rows and columns using **zero-based integer indexing**, not labels.\n",
    "\n",
    "\n",
    "### ✅ **Syntax**\n",
    "\n",
    "```python\n",
    "df.iloc[row_position]             # Single row\n",
    "df.iloc[start:stop]               # Row slice\n",
    "df.iloc[row_pos, col_pos]         # Single cell\n",
    "df.iloc[[row1, row2], [col1, col2]]  # Specific rows & columns\n",
    "```\n"
   ]
  },
  {
   "cell_type": "code",
   "execution_count": 2,
   "id": "44a0ae23",
   "metadata": {},
   "outputs": [
    {
     "data": {
      "text/html": [
       "<div>\n",
       "<style scoped>\n",
       "    .dataframe tbody tr th:only-of-type {\n",
       "        vertical-align: middle;\n",
       "    }\n",
       "\n",
       "    .dataframe tbody tr th {\n",
       "        vertical-align: top;\n",
       "    }\n",
       "\n",
       "    .dataframe thead th {\n",
       "        text-align: right;\n",
       "    }\n",
       "</style>\n",
       "<table border=\"1\" class=\"dataframe\">\n",
       "  <thead>\n",
       "    <tr style=\"text-align: right;\">\n",
       "      <th></th>\n",
       "      <th>Name</th>\n",
       "      <th>Age</th>\n",
       "      <th>City</th>\n",
       "    </tr>\n",
       "  </thead>\n",
       "  <tbody>\n",
       "    <tr>\n",
       "      <th>0</th>\n",
       "      <td>Alice</td>\n",
       "      <td>25</td>\n",
       "      <td>NY</td>\n",
       "    </tr>\n",
       "    <tr>\n",
       "      <th>1</th>\n",
       "      <td>Bob</td>\n",
       "      <td>30</td>\n",
       "      <td>London</td>\n",
       "    </tr>\n",
       "    <tr>\n",
       "      <th>2</th>\n",
       "      <td>Charlie</td>\n",
       "      <td>35</td>\n",
       "      <td>Paris</td>\n",
       "    </tr>\n",
       "    <tr>\n",
       "      <th>3</th>\n",
       "      <td>David</td>\n",
       "      <td>40</td>\n",
       "      <td>Berlin</td>\n",
       "    </tr>\n",
       "  </tbody>\n",
       "</table>\n",
       "</div>"
      ],
      "text/plain": [
       "      Name  Age    City\n",
       "0    Alice   25      NY\n",
       "1      Bob   30  London\n",
       "2  Charlie   35   Paris\n",
       "3    David   40  Berlin"
      ]
     },
     "execution_count": 2,
     "metadata": {},
     "output_type": "execute_result"
    }
   ],
   "source": [
    "data = {\n",
    "    'Name': ['Alice', 'Bob', 'Charlie', 'David'],\n",
    "    'Age': [25, 30, 35, 40],\n",
    "    'City': ['NY', 'London', 'Paris', 'Berlin']\n",
    "}\n",
    "df = pd.DataFrame(data)\n",
    "\n",
    "df"
   ]
  },
  {
   "cell_type": "code",
   "execution_count": null,
   "id": "564ad905",
   "metadata": {},
   "outputs": [
    {
     "data": {
      "text/plain": [
       "Name       Bob\n",
       "Age         30\n",
       "City    London\n",
       "Name: 1, dtype: object"
      ]
     },
     "execution_count": 3,
     "metadata": {},
     "output_type": "execute_result"
    }
   ],
   "source": [
    "# Select a Row by Integer Position\n",
    "df.iloc[1]"
   ]
  },
  {
   "cell_type": "code",
   "execution_count": null,
   "id": "36426fb0",
   "metadata": {},
   "outputs": [
    {
     "data": {
      "text/html": [
       "<div>\n",
       "<style scoped>\n",
       "    .dataframe tbody tr th:only-of-type {\n",
       "        vertical-align: middle;\n",
       "    }\n",
       "\n",
       "    .dataframe tbody tr th {\n",
       "        vertical-align: top;\n",
       "    }\n",
       "\n",
       "    .dataframe thead th {\n",
       "        text-align: right;\n",
       "    }\n",
       "</style>\n",
       "<table border=\"1\" class=\"dataframe\">\n",
       "  <thead>\n",
       "    <tr style=\"text-align: right;\">\n",
       "      <th></th>\n",
       "      <th>Name</th>\n",
       "      <th>Age</th>\n",
       "      <th>City</th>\n",
       "    </tr>\n",
       "  </thead>\n",
       "  <tbody>\n",
       "    <tr>\n",
       "      <th>1</th>\n",
       "      <td>Bob</td>\n",
       "      <td>30</td>\n",
       "      <td>London</td>\n",
       "    </tr>\n",
       "    <tr>\n",
       "      <th>3</th>\n",
       "      <td>David</td>\n",
       "      <td>40</td>\n",
       "      <td>Berlin</td>\n",
       "    </tr>\n",
       "  </tbody>\n",
       "</table>\n",
       "</div>"
      ],
      "text/plain": [
       "    Name  Age    City\n",
       "1    Bob   30  London\n",
       "3  David   40  Berlin"
      ]
     },
     "execution_count": 4,
     "metadata": {},
     "output_type": "execute_result"
    }
   ],
   "source": [
    "# Select Multiple Rows\n",
    "df.iloc[[1, 3]]"
   ]
  },
  {
   "cell_type": "code",
   "execution_count": null,
   "id": "c984dc6e",
   "metadata": {},
   "outputs": [
    {
     "data": {
      "text/plain": [
       "'London'"
      ]
     },
     "execution_count": 6,
     "metadata": {},
     "output_type": "execute_result"
    }
   ],
   "source": [
    "# Select a Cell by Position\n",
    "df.iloc[1, 2]"
   ]
  },
  {
   "cell_type": "code",
   "execution_count": null,
   "id": "380e419a",
   "metadata": {},
   "outputs": [
    {
     "data": {
      "text/plain": [
       "0        NY\n",
       "1    London\n",
       "2     Paris\n",
       "3    Berlin\n",
       "Name: City, dtype: object"
      ]
     },
     "execution_count": 7,
     "metadata": {},
     "output_type": "execute_result"
    }
   ],
   "source": [
    "# Select Rows and Columns\n",
    "df.iloc[:, 2]"
   ]
  },
  {
   "cell_type": "code",
   "execution_count": 11,
   "id": "e22f6549",
   "metadata": {},
   "outputs": [
    {
     "data": {
      "text/html": [
       "<div>\n",
       "<style scoped>\n",
       "    .dataframe tbody tr th:only-of-type {\n",
       "        vertical-align: middle;\n",
       "    }\n",
       "\n",
       "    .dataframe tbody tr th {\n",
       "        vertical-align: top;\n",
       "    }\n",
       "\n",
       "    .dataframe thead th {\n",
       "        text-align: right;\n",
       "    }\n",
       "</style>\n",
       "<table border=\"1\" class=\"dataframe\">\n",
       "  <thead>\n",
       "    <tr style=\"text-align: right;\">\n",
       "      <th></th>\n",
       "      <th>Name</th>\n",
       "      <th>City</th>\n",
       "    </tr>\n",
       "  </thead>\n",
       "  <tbody>\n",
       "    <tr>\n",
       "      <th>1</th>\n",
       "      <td>Bob</td>\n",
       "      <td>London</td>\n",
       "    </tr>\n",
       "    <tr>\n",
       "      <th>3</th>\n",
       "      <td>David</td>\n",
       "      <td>Berlin</td>\n",
       "    </tr>\n",
       "  </tbody>\n",
       "</table>\n",
       "</div>"
      ],
      "text/plain": [
       "    Name    City\n",
       "1    Bob  London\n",
       "3  David  Berlin"
      ]
     },
     "execution_count": 11,
     "metadata": {},
     "output_type": "execute_result"
    }
   ],
   "source": [
    "df.iloc[[1,3], [0, 2]]"
   ]
  },
  {
   "cell_type": "code",
   "execution_count": null,
   "id": "62991c86",
   "metadata": {},
   "outputs": [
    {
     "data": {
      "text/html": [
       "<div>\n",
       "<style scoped>\n",
       "    .dataframe tbody tr th:only-of-type {\n",
       "        vertical-align: middle;\n",
       "    }\n",
       "\n",
       "    .dataframe tbody tr th {\n",
       "        vertical-align: top;\n",
       "    }\n",
       "\n",
       "    .dataframe thead th {\n",
       "        text-align: right;\n",
       "    }\n",
       "</style>\n",
       "<table border=\"1\" class=\"dataframe\">\n",
       "  <thead>\n",
       "    <tr style=\"text-align: right;\">\n",
       "      <th></th>\n",
       "      <th>Name</th>\n",
       "      <th>Age</th>\n",
       "    </tr>\n",
       "  </thead>\n",
       "  <tbody>\n",
       "    <tr>\n",
       "      <th>1</th>\n",
       "      <td>Bob</td>\n",
       "      <td>30</td>\n",
       "    </tr>\n",
       "    <tr>\n",
       "      <th>2</th>\n",
       "      <td>Charlie</td>\n",
       "      <td>35</td>\n",
       "    </tr>\n",
       "  </tbody>\n",
       "</table>\n",
       "</div>"
      ],
      "text/plain": [
       "      Name  Age\n",
       "1      Bob   30\n",
       "2  Charlie   35"
      ]
     },
     "execution_count": 12,
     "metadata": {},
     "output_type": "execute_result"
    }
   ],
   "source": [
    "df.iloc[1:3, 0:2]\n",
    "# Selects rows 1–2 and columns 0–1 (excluding stop index 3 and 2)."
   ]
  },
  {
   "cell_type": "markdown",
   "id": "d45096c6",
   "metadata": {},
   "source": [
    "### ✅ **Real-Time Examples**\n",
    "\n",
    "| Scenario                                    | Example              |\n",
    "| ------------------------------------------- | -------------------- |\n",
    "| ✅ Get first 100 rows                        | `df.iloc[0:100]`     |\n",
    "| ✅ Remove header & access data from 2nd row  | `df.iloc[1:]`        |\n",
    "| ✅ Select name and age for first two records | `df.iloc[0:2, 0:2]`  |\n",
    "| ✅ Random sampling by integer indexes        | `df.iloc[[2, 5, 9]]` |"
   ]
  },
  {
   "cell_type": "markdown",
   "id": "ba81323e",
   "metadata": {},
   "source": [
    "### 🔸 Negative Indexing (Like Python Lists)"
   ]
  },
  {
   "cell_type": "code",
   "execution_count": 13,
   "id": "7c9610c1",
   "metadata": {},
   "outputs": [
    {
     "data": {
      "text/html": [
       "<div>\n",
       "<style scoped>\n",
       "    .dataframe tbody tr th:only-of-type {\n",
       "        vertical-align: middle;\n",
       "    }\n",
       "\n",
       "    .dataframe tbody tr th {\n",
       "        vertical-align: top;\n",
       "    }\n",
       "\n",
       "    .dataframe thead th {\n",
       "        text-align: right;\n",
       "    }\n",
       "</style>\n",
       "<table border=\"1\" class=\"dataframe\">\n",
       "  <thead>\n",
       "    <tr style=\"text-align: right;\">\n",
       "      <th></th>\n",
       "      <th>Name</th>\n",
       "      <th>Age</th>\n",
       "      <th>City</th>\n",
       "    </tr>\n",
       "  </thead>\n",
       "  <tbody>\n",
       "    <tr>\n",
       "      <th>0</th>\n",
       "      <td>Alice</td>\n",
       "      <td>25</td>\n",
       "      <td>NY</td>\n",
       "    </tr>\n",
       "    <tr>\n",
       "      <th>1</th>\n",
       "      <td>Bob</td>\n",
       "      <td>30</td>\n",
       "      <td>London</td>\n",
       "    </tr>\n",
       "    <tr>\n",
       "      <th>2</th>\n",
       "      <td>Charlie</td>\n",
       "      <td>35</td>\n",
       "      <td>Paris</td>\n",
       "    </tr>\n",
       "    <tr>\n",
       "      <th>3</th>\n",
       "      <td>David</td>\n",
       "      <td>40</td>\n",
       "      <td>Berlin</td>\n",
       "    </tr>\n",
       "  </tbody>\n",
       "</table>\n",
       "</div>"
      ],
      "text/plain": [
       "      Name  Age    City\n",
       "0    Alice   25      NY\n",
       "1      Bob   30  London\n",
       "2  Charlie   35   Paris\n",
       "3    David   40  Berlin"
      ]
     },
     "execution_count": 13,
     "metadata": {},
     "output_type": "execute_result"
    }
   ],
   "source": [
    "df"
   ]
  },
  {
   "cell_type": "code",
   "execution_count": 15,
   "id": "4846951f",
   "metadata": {},
   "outputs": [
    {
     "data": {
      "text/plain": [
       "Name     David\n",
       "Age         40\n",
       "City    Berlin\n",
       "Name: 3, dtype: object"
      ]
     },
     "execution_count": 15,
     "metadata": {},
     "output_type": "execute_result"
    }
   ],
   "source": [
    "df.iloc[-1]"
   ]
  },
  {
   "cell_type": "code",
   "execution_count": 17,
   "id": "e3c7d6c1",
   "metadata": {},
   "outputs": [
    {
     "data": {
      "text/html": [
       "<div>\n",
       "<style scoped>\n",
       "    .dataframe tbody tr th:only-of-type {\n",
       "        vertical-align: middle;\n",
       "    }\n",
       "\n",
       "    .dataframe tbody tr th {\n",
       "        vertical-align: top;\n",
       "    }\n",
       "\n",
       "    .dataframe thead th {\n",
       "        text-align: right;\n",
       "    }\n",
       "</style>\n",
       "<table border=\"1\" class=\"dataframe\">\n",
       "  <thead>\n",
       "    <tr style=\"text-align: right;\">\n",
       "      <th></th>\n",
       "      <th>City</th>\n",
       "      <th>Age</th>\n",
       "    </tr>\n",
       "  </thead>\n",
       "  <tbody>\n",
       "    <tr>\n",
       "      <th>2</th>\n",
       "      <td>Paris</td>\n",
       "      <td>35</td>\n",
       "    </tr>\n",
       "    <tr>\n",
       "      <th>3</th>\n",
       "      <td>Berlin</td>\n",
       "      <td>40</td>\n",
       "    </tr>\n",
       "  </tbody>\n",
       "</table>\n",
       "</div>"
      ],
      "text/plain": [
       "     City  Age\n",
       "2   Paris   35\n",
       "3  Berlin   40"
      ]
     },
     "execution_count": 17,
     "metadata": {},
     "output_type": "execute_result"
    }
   ],
   "source": [
    "df.iloc[-2:, :-3:-1]"
   ]
  },
  {
   "cell_type": "markdown",
   "id": "b27ccae9",
   "metadata": {},
   "source": [
    "## 🔹 13. `df.iat[]` – Fast Scalar Access by Integer Index"
   ]
  },
  {
   "cell_type": "markdown",
   "id": "6705fc23",
   "metadata": {},
   "source": [
    "### ✅ **Purpose**\n",
    "\n",
    "Access a **single value quickly** using row and column positions (like `iloc` but scalar-only).\n",
    "\n",
    "\n",
    "### ✅ **Syntax**\n",
    "\n",
    "```python\n",
    "df.iat[row_position, column_position]\n",
    "```\n"
   ]
  },
  {
   "cell_type": "code",
   "execution_count": 19,
   "id": "5b14f69d",
   "metadata": {},
   "outputs": [
    {
     "data": {
      "text/html": [
       "<div>\n",
       "<style scoped>\n",
       "    .dataframe tbody tr th:only-of-type {\n",
       "        vertical-align: middle;\n",
       "    }\n",
       "\n",
       "    .dataframe tbody tr th {\n",
       "        vertical-align: top;\n",
       "    }\n",
       "\n",
       "    .dataframe thead th {\n",
       "        text-align: right;\n",
       "    }\n",
       "</style>\n",
       "<table border=\"1\" class=\"dataframe\">\n",
       "  <thead>\n",
       "    <tr style=\"text-align: right;\">\n",
       "      <th></th>\n",
       "      <th>Name</th>\n",
       "      <th>Age</th>\n",
       "      <th>City</th>\n",
       "    </tr>\n",
       "  </thead>\n",
       "  <tbody>\n",
       "    <tr>\n",
       "      <th>0</th>\n",
       "      <td>Alice</td>\n",
       "      <td>25</td>\n",
       "      <td>NY</td>\n",
       "    </tr>\n",
       "    <tr>\n",
       "      <th>1</th>\n",
       "      <td>Bob</td>\n",
       "      <td>30</td>\n",
       "      <td>London</td>\n",
       "    </tr>\n",
       "    <tr>\n",
       "      <th>2</th>\n",
       "      <td>Charlie</td>\n",
       "      <td>35</td>\n",
       "      <td>Paris</td>\n",
       "    </tr>\n",
       "    <tr>\n",
       "      <th>3</th>\n",
       "      <td>David</td>\n",
       "      <td>40</td>\n",
       "      <td>Berlin</td>\n",
       "    </tr>\n",
       "  </tbody>\n",
       "</table>\n",
       "</div>"
      ],
      "text/plain": [
       "      Name  Age    City\n",
       "0    Alice   25      NY\n",
       "1      Bob   30  London\n",
       "2  Charlie   35   Paris\n",
       "3    David   40  Berlin"
      ]
     },
     "execution_count": 19,
     "metadata": {},
     "output_type": "execute_result"
    }
   ],
   "source": [
    "df"
   ]
  },
  {
   "cell_type": "code",
   "execution_count": 21,
   "id": "8a36a7f5",
   "metadata": {},
   "outputs": [
    {
     "data": {
      "text/plain": [
       "'London'"
      ]
     },
     "execution_count": 21,
     "metadata": {},
     "output_type": "execute_result"
    }
   ],
   "source": [
    "df.iat[1, 2]"
   ]
  },
  {
   "cell_type": "code",
   "execution_count": 23,
   "id": "dee6f037",
   "metadata": {},
   "outputs": [
    {
     "data": {
      "text/plain": [
       "'Charlie'"
      ]
     },
     "execution_count": 23,
     "metadata": {},
     "output_type": "execute_result"
    }
   ],
   "source": [
    "df.iat[2, 0]"
   ]
  },
  {
   "cell_type": "code",
   "execution_count": 25,
   "id": "3675d850",
   "metadata": {},
   "outputs": [
    {
     "data": {
      "text/html": [
       "<div>\n",
       "<style scoped>\n",
       "    .dataframe tbody tr th:only-of-type {\n",
       "        vertical-align: middle;\n",
       "    }\n",
       "\n",
       "    .dataframe tbody tr th {\n",
       "        vertical-align: top;\n",
       "    }\n",
       "\n",
       "    .dataframe thead th {\n",
       "        text-align: right;\n",
       "    }\n",
       "</style>\n",
       "<table border=\"1\" class=\"dataframe\">\n",
       "  <thead>\n",
       "    <tr style=\"text-align: right;\">\n",
       "      <th></th>\n",
       "      <th>Name</th>\n",
       "      <th>Age</th>\n",
       "      <th>City</th>\n",
       "    </tr>\n",
       "  </thead>\n",
       "  <tbody>\n",
       "    <tr>\n",
       "      <th>0</th>\n",
       "      <td>Alice</td>\n",
       "      <td>26</td>\n",
       "      <td>NY</td>\n",
       "    </tr>\n",
       "    <tr>\n",
       "      <th>1</th>\n",
       "      <td>Bob</td>\n",
       "      <td>30</td>\n",
       "      <td>London</td>\n",
       "    </tr>\n",
       "    <tr>\n",
       "      <th>2</th>\n",
       "      <td>Charlie</td>\n",
       "      <td>35</td>\n",
       "      <td>Paris</td>\n",
       "    </tr>\n",
       "    <tr>\n",
       "      <th>3</th>\n",
       "      <td>David</td>\n",
       "      <td>40</td>\n",
       "      <td>Berlin</td>\n",
       "    </tr>\n",
       "  </tbody>\n",
       "</table>\n",
       "</div>"
      ],
      "text/plain": [
       "      Name  Age    City\n",
       "0    Alice   26      NY\n",
       "1      Bob   30  London\n",
       "2  Charlie   35   Paris\n",
       "3    David   40  Berlin"
      ]
     },
     "execution_count": 25,
     "metadata": {},
     "output_type": "execute_result"
    }
   ],
   "source": [
    "df.iat[0, 1] = 26\n",
    "\n",
    "df"
   ]
  },
  {
   "cell_type": "markdown",
   "id": "ea272249",
   "metadata": {},
   "source": [
    "### ✅ **Real-Time Examples**\n",
    "\n",
    "| Scenario                               | Use `iat` for...                                                |\n",
    "| -------------------------------------- | --------------------------------------------------------------- |\n",
    "| ✅ Update salary of a specific employee | `df.iat[4, 3] = 95000`                                          |\n",
    "| ✅ Fetch customer email from a cell     | `df.iat[2, 5]`                                                  |\n",
    "| ✅ Fast update inside loop              | Looping through rows and changing one value per row using `iat` |\n",
    "\n",
    "---\n",
    "\n",
    "## 🔄 `iloc[]` vs `iat[]`\n",
    "\n",
    "| Feature     | `iloc[]`                            | `iat[]`                     |\n",
    "| ----------- | ----------------------------------- | --------------------------- |\n",
    "| Input       | Integer-based (single, list, slice) | Integer-based (single only) |\n",
    "| Returns     | Row/column/DF/subset                | Scalar                      |\n",
    "| Performance | General-purpose (slower)            | Fastest for scalar          |\n",
    "| Usage       | Multiple row/col selection          | Single cell                 |\n",
    "\n",
    "---\n",
    "\n",
    "## ✅ Quick Summary Table\n",
    "\n",
    "| Task                    | Code Example              |\n",
    "| ----------------------- | ------------------------- |\n",
    "| Get 2nd row             | `df.iloc[1]`              |\n",
    "| Get 3rd row, 2nd column | `df.iloc[2, 1]`           |\n",
    "| Get last 2 rows         | `df.iloc[-2:]`            |\n",
    "| Get value (fast)        | `df.iat[2, 2]`            |\n",
    "| Set value (fast)        | `df.iat[1, 0] = 'Robert'` |\n",
    "| Get first 100 rows      | `df.iloc[:100]`           |\n"
   ]
  },
  {
   "cell_type": "markdown",
   "id": "a64c532a",
   "metadata": {},
   "source": [
    "## ⚠️ Best Practices\n",
    "\n",
    "* Use `iloc[]` when position matters (e.g., clean CSV without headers).\n",
    "* Use `iat[]` inside loops or performance-critical tasks.\n",
    "* Avoid `iloc` with label-based logic — prefer `loc` for that.\n"
   ]
  },
  {
   "cell_type": "markdown",
   "id": "a1090293",
   "metadata": {},
   "source": [
    "<center><b>Thanks</b></center>"
   ]
  }
 ],
 "metadata": {
  "kernelspec": {
   "display_name": "Python 3",
   "language": "python",
   "name": "python3"
  },
  "language_info": {
   "codemirror_mode": {
    "name": "ipython",
    "version": 3
   },
   "file_extension": ".py",
   "mimetype": "text/x-python",
   "name": "python",
   "nbconvert_exporter": "python",
   "pygments_lexer": "ipython3",
   "version": "3.10.2"
  }
 },
 "nbformat": 4,
 "nbformat_minor": 5
}
