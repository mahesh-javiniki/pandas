{
 "cells": [
  {
   "cell_type": "markdown",
   "id": "79f8d41f",
   "metadata": {},
   "source": [
    "# **Data Selection & Indexing**"
   ]
  },
  {
   "cell_type": "code",
   "execution_count": 2,
   "id": "300e9d2e",
   "metadata": {},
   "outputs": [],
   "source": [
    "import pandas as pd"
   ]
  },
  {
   "cell_type": "markdown",
   "id": "001038a3",
   "metadata": {},
   "source": [
    "## 3. **Label-based Selection in pandas**"
   ]
  },
  {
   "cell_type": "markdown",
   "id": "10ed9930",
   "metadata": {},
   "source": [
    "Label-based selection lets you **retrieve rows and columns using labels (names)** instead of integer positions. This is one of the most powerful features in pandas — especially important when dealing with **named indexes, time series, and real-world datasets**.\n",
    "\n",
    "We’ll focus on two main tools:\n",
    "\n",
    "1. `df.loc[]` – Label-based access (rows and columns)\n",
    "2. `df.at[]` – Fast scalar access by label (single cell)\n"
   ]
  },
  {
   "cell_type": "markdown",
   "id": "5ca02530",
   "metadata": {},
   "source": [
    "## 🔹 10. `df.loc[]` – Label-Based Selection"
   ]
  },
  {
   "cell_type": "markdown",
   "id": "63fbd85c",
   "metadata": {},
   "source": [
    "### ✅ **Purpose**\n",
    "\n",
    "Select rows, columns, or subsets using **index/column labels** (not positions).\n",
    "\n",
    "\n",
    "### ✅ **Syntax**\n",
    "\n",
    "```python\n",
    "df.loc[row_label, column_label]\n",
    "df.loc[row_label]                # Select row\n",
    "df.loc[:, column_label]         # Select column\n",
    "df.loc[start_label:end_label]   # Label-based slicing\n",
    "```\n"
   ]
  },
  {
   "cell_type": "markdown",
   "id": "a298813a",
   "metadata": {},
   "source": [
    "### ✅ **Create Sample Data**"
   ]
  },
  {
   "cell_type": "code",
   "execution_count": 3,
   "id": "d88acb13",
   "metadata": {},
   "outputs": [
    {
     "data": {
      "text/html": [
       "<div>\n",
       "<style scoped>\n",
       "    .dataframe tbody tr th:only-of-type {\n",
       "        vertical-align: middle;\n",
       "    }\n",
       "\n",
       "    .dataframe tbody tr th {\n",
       "        vertical-align: top;\n",
       "    }\n",
       "\n",
       "    .dataframe thead th {\n",
       "        text-align: right;\n",
       "    }\n",
       "</style>\n",
       "<table border=\"1\" class=\"dataframe\">\n",
       "  <thead>\n",
       "    <tr style=\"text-align: right;\">\n",
       "      <th></th>\n",
       "      <th>Name</th>\n",
       "      <th>Age</th>\n",
       "      <th>City</th>\n",
       "    </tr>\n",
       "  </thead>\n",
       "  <tbody>\n",
       "    <tr>\n",
       "      <th>C001</th>\n",
       "      <td>Alice</td>\n",
       "      <td>25</td>\n",
       "      <td>NY</td>\n",
       "    </tr>\n",
       "    <tr>\n",
       "      <th>C002</th>\n",
       "      <td>Bob</td>\n",
       "      <td>30</td>\n",
       "      <td>London</td>\n",
       "    </tr>\n",
       "    <tr>\n",
       "      <th>C003</th>\n",
       "      <td>Charlie</td>\n",
       "      <td>35</td>\n",
       "      <td>Paris</td>\n",
       "    </tr>\n",
       "    <tr>\n",
       "      <th>C004</th>\n",
       "      <td>David</td>\n",
       "      <td>40</td>\n",
       "      <td>Berlin</td>\n",
       "    </tr>\n",
       "  </tbody>\n",
       "</table>\n",
       "</div>"
      ],
      "text/plain": [
       "         Name  Age    City\n",
       "C001    Alice   25      NY\n",
       "C002      Bob   30  London\n",
       "C003  Charlie   35   Paris\n",
       "C004    David   40  Berlin"
      ]
     },
     "execution_count": 3,
     "metadata": {},
     "output_type": "execute_result"
    }
   ],
   "source": [
    "data = {\n",
    "    'Name': ['Alice', 'Bob', 'Charlie', 'David'],\n",
    "    'Age': [25, 30, 35, 40],\n",
    "    'City': ['NY', 'London', 'Paris', 'Berlin']\n",
    "}\n",
    "df = pd.DataFrame(data, index=['C001', 'C002', 'C003', 'C004'])\n",
    "\n",
    "df"
   ]
  },
  {
   "cell_type": "markdown",
   "id": "11f611fc",
   "metadata": {},
   "source": [
    "### ✅ **Use Cases & Examples**"
   ]
  },
  {
   "cell_type": "markdown",
   "id": "f5bd02f5",
   "metadata": {},
   "source": [
    "#### 🔸 Select a Single Row by Index Label"
   ]
  },
  {
   "cell_type": "code",
   "execution_count": 4,
   "id": "421f8fac",
   "metadata": {},
   "outputs": [
    {
     "data": {
      "text/plain": [
       "Name       Bob\n",
       "Age         30\n",
       "City    London\n",
       "Name: C002, dtype: object"
      ]
     },
     "execution_count": 4,
     "metadata": {},
     "output_type": "execute_result"
    }
   ],
   "source": [
    "df.loc['C002']"
   ]
  },
  {
   "cell_type": "code",
   "execution_count": 5,
   "id": "af857aac",
   "metadata": {},
   "outputs": [
    {
     "data": {
      "text/html": [
       "<div>\n",
       "<style scoped>\n",
       "    .dataframe tbody tr th:only-of-type {\n",
       "        vertical-align: middle;\n",
       "    }\n",
       "\n",
       "    .dataframe tbody tr th {\n",
       "        vertical-align: top;\n",
       "    }\n",
       "\n",
       "    .dataframe thead th {\n",
       "        text-align: right;\n",
       "    }\n",
       "</style>\n",
       "<table border=\"1\" class=\"dataframe\">\n",
       "  <thead>\n",
       "    <tr style=\"text-align: right;\">\n",
       "      <th></th>\n",
       "      <th>Name</th>\n",
       "      <th>Age</th>\n",
       "      <th>City</th>\n",
       "    </tr>\n",
       "  </thead>\n",
       "  <tbody>\n",
       "    <tr>\n",
       "      <th>C002</th>\n",
       "      <td>Bob</td>\n",
       "      <td>30</td>\n",
       "      <td>London</td>\n",
       "    </tr>\n",
       "    <tr>\n",
       "      <th>C004</th>\n",
       "      <td>David</td>\n",
       "      <td>40</td>\n",
       "      <td>Berlin</td>\n",
       "    </tr>\n",
       "  </tbody>\n",
       "</table>\n",
       "</div>"
      ],
      "text/plain": [
       "       Name  Age    City\n",
       "C002    Bob   30  London\n",
       "C004  David   40  Berlin"
      ]
     },
     "execution_count": 5,
     "metadata": {},
     "output_type": "execute_result"
    }
   ],
   "source": [
    "# Selecting multiple Rows\n",
    "df.loc[['C002', 'C004']]"
   ]
  },
  {
   "cell_type": "code",
   "execution_count": 6,
   "id": "06f9a721",
   "metadata": {},
   "outputs": [
    {
     "data": {
      "text/plain": [
       "30"
      ]
     },
     "execution_count": 6,
     "metadata": {},
     "output_type": "execute_result"
    }
   ],
   "source": [
    "# Selecting Row and Column\n",
    "df.loc['C002', 'Age']"
   ]
  },
  {
   "cell_type": "code",
   "execution_count": 7,
   "id": "05702cdd",
   "metadata": {},
   "outputs": [
    {
     "data": {
      "text/plain": [
       "C002    30\n",
       "C004    40\n",
       "Name: Age, dtype: int64"
      ]
     },
     "execution_count": 7,
     "metadata": {},
     "output_type": "execute_result"
    }
   ],
   "source": [
    "# Selecting multiple rows and column\n",
    "df.loc[['C002', 'C004'], 'Age']"
   ]
  },
  {
   "cell_type": "code",
   "execution_count": 8,
   "id": "d8ae62ed",
   "metadata": {},
   "outputs": [
    {
     "data": {
      "text/plain": [
       "C001    25\n",
       "C002    30\n",
       "C003    35\n",
       "Name: Age, dtype: int64"
      ]
     },
     "execution_count": 8,
     "metadata": {},
     "output_type": "execute_result"
    }
   ],
   "source": [
    "# Selecting row slice and column\n",
    "df.loc['C001': 'C003', 'Age']"
   ]
  },
  {
   "cell_type": "code",
   "execution_count": 9,
   "id": "0d5925ce",
   "metadata": {},
   "outputs": [
    {
     "data": {
      "text/html": [
       "<div>\n",
       "<style scoped>\n",
       "    .dataframe tbody tr th:only-of-type {\n",
       "        vertical-align: middle;\n",
       "    }\n",
       "\n",
       "    .dataframe tbody tr th {\n",
       "        vertical-align: top;\n",
       "    }\n",
       "\n",
       "    .dataframe thead th {\n",
       "        text-align: right;\n",
       "    }\n",
       "</style>\n",
       "<table border=\"1\" class=\"dataframe\">\n",
       "  <thead>\n",
       "    <tr style=\"text-align: right;\">\n",
       "      <th></th>\n",
       "      <th>Age</th>\n",
       "      <th>City</th>\n",
       "    </tr>\n",
       "  </thead>\n",
       "  <tbody>\n",
       "    <tr>\n",
       "      <th>C001</th>\n",
       "      <td>25</td>\n",
       "      <td>NY</td>\n",
       "    </tr>\n",
       "    <tr>\n",
       "      <th>C002</th>\n",
       "      <td>30</td>\n",
       "      <td>London</td>\n",
       "    </tr>\n",
       "    <tr>\n",
       "      <th>C003</th>\n",
       "      <td>35</td>\n",
       "      <td>Paris</td>\n",
       "    </tr>\n",
       "  </tbody>\n",
       "</table>\n",
       "</div>"
      ],
      "text/plain": [
       "      Age    City\n",
       "C001   25      NY\n",
       "C002   30  London\n",
       "C003   35   Paris"
      ]
     },
     "execution_count": 9,
     "metadata": {},
     "output_type": "execute_result"
    }
   ],
   "source": [
    "# Selecting row slice and columns\n",
    "df.loc['C001': 'C003', ['Age', 'City']]"
   ]
  },
  {
   "cell_type": "markdown",
   "id": "e1e681fd",
   "metadata": {},
   "source": [
    "> 🔸 Unlike `iloc`, `loc` **includes the stop label** (`'C003'` is included above)"
   ]
  },
  {
   "cell_type": "markdown",
   "id": "f01fe8ce",
   "metadata": {},
   "source": [
    "### ✅ **Boolean Filtering with `loc`**"
   ]
  },
  {
   "cell_type": "code",
   "execution_count": 10,
   "id": "c13fe5e5",
   "metadata": {},
   "outputs": [
    {
     "data": {
      "text/plain": [
       "C001    False\n",
       "C002    False\n",
       "C003     True\n",
       "C004     True\n",
       "Name: Age, dtype: bool"
      ]
     },
     "execution_count": 10,
     "metadata": {},
     "output_type": "execute_result"
    }
   ],
   "source": [
    "df['Age'] > 30"
   ]
  },
  {
   "cell_type": "code",
   "execution_count": 11,
   "id": "eefef40e",
   "metadata": {},
   "outputs": [
    {
     "data": {
      "text/html": [
       "<div>\n",
       "<style scoped>\n",
       "    .dataframe tbody tr th:only-of-type {\n",
       "        vertical-align: middle;\n",
       "    }\n",
       "\n",
       "    .dataframe tbody tr th {\n",
       "        vertical-align: top;\n",
       "    }\n",
       "\n",
       "    .dataframe thead th {\n",
       "        text-align: right;\n",
       "    }\n",
       "</style>\n",
       "<table border=\"1\" class=\"dataframe\">\n",
       "  <thead>\n",
       "    <tr style=\"text-align: right;\">\n",
       "      <th></th>\n",
       "      <th>Name</th>\n",
       "      <th>Age</th>\n",
       "      <th>City</th>\n",
       "    </tr>\n",
       "  </thead>\n",
       "  <tbody>\n",
       "    <tr>\n",
       "      <th>C003</th>\n",
       "      <td>Charlie</td>\n",
       "      <td>35</td>\n",
       "      <td>Paris</td>\n",
       "    </tr>\n",
       "    <tr>\n",
       "      <th>C004</th>\n",
       "      <td>David</td>\n",
       "      <td>40</td>\n",
       "      <td>Berlin</td>\n",
       "    </tr>\n",
       "  </tbody>\n",
       "</table>\n",
       "</div>"
      ],
      "text/plain": [
       "         Name  Age    City\n",
       "C003  Charlie   35   Paris\n",
       "C004    David   40  Berlin"
      ]
     },
     "execution_count": 11,
     "metadata": {},
     "output_type": "execute_result"
    }
   ],
   "source": [
    "df.loc[df['Age'] > 30]"
   ]
  },
  {
   "cell_type": "code",
   "execution_count": 12,
   "id": "410402eb",
   "metadata": {},
   "outputs": [
    {
     "data": {
      "text/html": [
       "<div>\n",
       "<style scoped>\n",
       "    .dataframe tbody tr th:only-of-type {\n",
       "        vertical-align: middle;\n",
       "    }\n",
       "\n",
       "    .dataframe tbody tr th {\n",
       "        vertical-align: top;\n",
       "    }\n",
       "\n",
       "    .dataframe thead th {\n",
       "        text-align: right;\n",
       "    }\n",
       "</style>\n",
       "<table border=\"1\" class=\"dataframe\">\n",
       "  <thead>\n",
       "    <tr style=\"text-align: right;\">\n",
       "      <th></th>\n",
       "      <th>Name</th>\n",
       "      <th>Age</th>\n",
       "    </tr>\n",
       "  </thead>\n",
       "  <tbody>\n",
       "    <tr>\n",
       "      <th>C002</th>\n",
       "      <td>Bob</td>\n",
       "      <td>30</td>\n",
       "    </tr>\n",
       "  </tbody>\n",
       "</table>\n",
       "</div>"
      ],
      "text/plain": [
       "     Name  Age\n",
       "C002  Bob   30"
      ]
     },
     "execution_count": 12,
     "metadata": {},
     "output_type": "execute_result"
    }
   ],
   "source": [
    "df.loc[df['City'] == 'London', ['Name', 'Age']]"
   ]
  },
  {
   "cell_type": "markdown",
   "id": "04764cba",
   "metadata": {},
   "source": [
    "### ✅ **Assign Values with `loc`**"
   ]
  },
  {
   "cell_type": "code",
   "execution_count": 13,
   "id": "d08b874a",
   "metadata": {},
   "outputs": [
    {
     "data": {
      "text/html": [
       "<div>\n",
       "<style scoped>\n",
       "    .dataframe tbody tr th:only-of-type {\n",
       "        vertical-align: middle;\n",
       "    }\n",
       "\n",
       "    .dataframe tbody tr th {\n",
       "        vertical-align: top;\n",
       "    }\n",
       "\n",
       "    .dataframe thead th {\n",
       "        text-align: right;\n",
       "    }\n",
       "</style>\n",
       "<table border=\"1\" class=\"dataframe\">\n",
       "  <thead>\n",
       "    <tr style=\"text-align: right;\">\n",
       "      <th></th>\n",
       "      <th>Name</th>\n",
       "      <th>Age</th>\n",
       "      <th>City</th>\n",
       "    </tr>\n",
       "  </thead>\n",
       "  <tbody>\n",
       "    <tr>\n",
       "      <th>C001</th>\n",
       "      <td>Alice</td>\n",
       "      <td>25</td>\n",
       "      <td>NY</td>\n",
       "    </tr>\n",
       "    <tr>\n",
       "      <th>C002</th>\n",
       "      <td>Bob</td>\n",
       "      <td>30</td>\n",
       "      <td>Manchester</td>\n",
       "    </tr>\n",
       "    <tr>\n",
       "      <th>C003</th>\n",
       "      <td>Charlie</td>\n",
       "      <td>35</td>\n",
       "      <td>Paris</td>\n",
       "    </tr>\n",
       "    <tr>\n",
       "      <th>C004</th>\n",
       "      <td>David</td>\n",
       "      <td>40</td>\n",
       "      <td>Berlin</td>\n",
       "    </tr>\n",
       "  </tbody>\n",
       "</table>\n",
       "</div>"
      ],
      "text/plain": [
       "         Name  Age        City\n",
       "C001    Alice   25          NY\n",
       "C002      Bob   30  Manchester\n",
       "C003  Charlie   35       Paris\n",
       "C004    David   40      Berlin"
      ]
     },
     "execution_count": 13,
     "metadata": {},
     "output_type": "execute_result"
    }
   ],
   "source": [
    "df.loc['C002', 'City'] = 'Manchester'\n",
    "df"
   ]
  },
  {
   "cell_type": "markdown",
   "id": "015b1f2b",
   "metadata": {},
   "source": [
    "### ✅ **Real-time Examples**\n",
    "\n",
    "| Scenario                                 | Use `loc` for...                             |\n",
    "| ---------------------------------------- | -------------------------------------------- |\n",
    "| 🔹 Selecting a customer by ID            | `df.loc['C002']`                             |\n",
    "| 🔹 Filtering employees over 40           | `df.loc[df['Age'] > 40]`                     |\n",
    "| 🔹 Updating product price by ID          | `df.loc['P101', 'Price'] = 299.99`           |\n",
    "| 🔹 Extracting user emails from Bangalore | `df.loc[df['City'] == 'Bangalore', 'Email']` |\n"
   ]
  },
  {
   "cell_type": "markdown",
   "id": "fad9b8fc",
   "metadata": {},
   "source": [
    "## 🔹 11. `df.at[]` – Fast Scalar Access by Label"
   ]
  },
  {
   "cell_type": "markdown",
   "id": "0a207e82",
   "metadata": {},
   "source": [
    "### ✅ **Purpose**\n",
    "\n",
    "Access **a single cell** by row/column **label** (fastest for scalar access).\n",
    "\n",
    "\n",
    "### ✅ **Syntax**\n",
    "\n",
    "```python\n",
    "df.at[row_label, column_label]\n",
    "```\n"
   ]
  },
  {
   "cell_type": "code",
   "execution_count": 14,
   "id": "54eceb1d",
   "metadata": {},
   "outputs": [
    {
     "data": {
      "text/html": [
       "<div>\n",
       "<style scoped>\n",
       "    .dataframe tbody tr th:only-of-type {\n",
       "        vertical-align: middle;\n",
       "    }\n",
       "\n",
       "    .dataframe tbody tr th {\n",
       "        vertical-align: top;\n",
       "    }\n",
       "\n",
       "    .dataframe thead th {\n",
       "        text-align: right;\n",
       "    }\n",
       "</style>\n",
       "<table border=\"1\" class=\"dataframe\">\n",
       "  <thead>\n",
       "    <tr style=\"text-align: right;\">\n",
       "      <th></th>\n",
       "      <th>Name</th>\n",
       "      <th>Age</th>\n",
       "      <th>City</th>\n",
       "    </tr>\n",
       "  </thead>\n",
       "  <tbody>\n",
       "    <tr>\n",
       "      <th>C001</th>\n",
       "      <td>Alice</td>\n",
       "      <td>25</td>\n",
       "      <td>NY</td>\n",
       "    </tr>\n",
       "    <tr>\n",
       "      <th>C002</th>\n",
       "      <td>Bob</td>\n",
       "      <td>30</td>\n",
       "      <td>Manchester</td>\n",
       "    </tr>\n",
       "    <tr>\n",
       "      <th>C003</th>\n",
       "      <td>Charlie</td>\n",
       "      <td>35</td>\n",
       "      <td>Paris</td>\n",
       "    </tr>\n",
       "    <tr>\n",
       "      <th>C004</th>\n",
       "      <td>David</td>\n",
       "      <td>40</td>\n",
       "      <td>Berlin</td>\n",
       "    </tr>\n",
       "  </tbody>\n",
       "</table>\n",
       "</div>"
      ],
      "text/plain": [
       "         Name  Age        City\n",
       "C001    Alice   25          NY\n",
       "C002      Bob   30  Manchester\n",
       "C003  Charlie   35       Paris\n",
       "C004    David   40      Berlin"
      ]
     },
     "execution_count": 14,
     "metadata": {},
     "output_type": "execute_result"
    }
   ],
   "source": [
    "df"
   ]
  },
  {
   "cell_type": "code",
   "execution_count": 15,
   "id": "b73d29a6",
   "metadata": {},
   "outputs": [
    {
     "data": {
      "text/plain": [
       "'NY'"
      ]
     },
     "execution_count": 15,
     "metadata": {},
     "output_type": "execute_result"
    }
   ],
   "source": [
    "df.at['C001', 'City']"
   ]
  },
  {
   "cell_type": "code",
   "execution_count": null,
   "id": "719e55bd",
   "metadata": {},
   "outputs": [
    {
     "data": {
      "text/html": [
       "<div>\n",
       "<style scoped>\n",
       "    .dataframe tbody tr th:only-of-type {\n",
       "        vertical-align: middle;\n",
       "    }\n",
       "\n",
       "    .dataframe tbody tr th {\n",
       "        vertical-align: top;\n",
       "    }\n",
       "\n",
       "    .dataframe thead th {\n",
       "        text-align: right;\n",
       "    }\n",
       "</style>\n",
       "<table border=\"1\" class=\"dataframe\">\n",
       "  <thead>\n",
       "    <tr style=\"text-align: right;\">\n",
       "      <th></th>\n",
       "      <th>Name</th>\n",
       "      <th>Age</th>\n",
       "      <th>City</th>\n",
       "    </tr>\n",
       "  </thead>\n",
       "  <tbody>\n",
       "    <tr>\n",
       "      <th>C001</th>\n",
       "      <td>Alice</td>\n",
       "      <td>25</td>\n",
       "      <td>New York</td>\n",
       "    </tr>\n",
       "    <tr>\n",
       "      <th>C002</th>\n",
       "      <td>Bob</td>\n",
       "      <td>30</td>\n",
       "      <td>Manchester</td>\n",
       "    </tr>\n",
       "    <tr>\n",
       "      <th>C003</th>\n",
       "      <td>Charlie</td>\n",
       "      <td>35</td>\n",
       "      <td>Paris</td>\n",
       "    </tr>\n",
       "    <tr>\n",
       "      <th>C004</th>\n",
       "      <td>David</td>\n",
       "      <td>40</td>\n",
       "      <td>Berlin</td>\n",
       "    </tr>\n",
       "  </tbody>\n",
       "</table>\n",
       "</div>"
      ],
      "text/plain": [
       "         Name  Age        City\n",
       "C001    Alice   25    New York\n",
       "C002      Bob   30  Manchester\n",
       "C003  Charlie   35       Paris\n",
       "C004    David   40      Berlin"
      ]
     },
     "execution_count": 16,
     "metadata": {},
     "output_type": "execute_result"
    }
   ],
   "source": [
    "# Updating a cell\n",
    "df.at['C001', 'City'] = 'New York'\n",
    "df"
   ]
  },
  {
   "cell_type": "markdown",
   "id": "5c705414",
   "metadata": {},
   "source": [
    "### ✅ **Performance**\n",
    "\n",
    "* `at[]` is faster than `loc[]` for accessing/updating a **single cell**\n",
    "* Prefer `at[]` when you're not dealing with slices or multiple columns/rows\n"
   ]
  },
  {
   "cell_type": "markdown",
   "id": "9cca0df2",
   "metadata": {},
   "source": [
    "### ✅ **Real-time Examples**\n",
    "\n",
    "| Scenario                     | Use `at[]` for...                  |\n",
    "| ---------------------------- | ---------------------------------- |\n",
    "| ✅ Updating a specific salary | `df.at['E1002', 'Salary'] = 85000` |\n",
    "| ✅ Reading a specific email   | `df.at['U001', 'Email']`           |\n"
   ]
  },
  {
   "cell_type": "markdown",
   "id": "596933bb",
   "metadata": {},
   "source": [
    "## ⚠️ Key Differences: `loc[]` vs `at[]`\n",
    "\n",
    "| Feature       | `.loc[]`                        | `.at[]`                           |\n",
    "| ------------- | ------------------------------- | --------------------------------- |\n",
    "| Access type   | Label-based, multiple or single | Label-based, **single cell only** |\n",
    "| Row input     | Single label, list, slice       | Single label                      |\n",
    "| Column input  | Single, list, slice             | Single column label               |\n",
    "| Performance   | Slower (flexible)               | Fastest (scalar only)             |\n",
    "| Can set value | ✅                               | ✅                                 |\n",
    "\n",
    "---\n",
    "\n",
    "## 🧠 Quick Summary of Label-based Selection\n",
    "\n",
    "| Task                       | Code Example                        |\n",
    "| -------------------------- | ----------------------------------- |\n",
    "| Select row by label        | `df.loc['C001']`                    |\n",
    "| Select value at row/col    | `df.loc['C001', 'City']`            |\n",
    "| Select multiple rows/cols  | `df.loc[['C001','C002'], ['Name']]` |\n",
    "| Filter rows by condition   | `df.loc[df['Age'] > 30]`            |\n",
    "| Single cell access (fast)  | `df.at['C001', 'Age']`              |\n",
    "| Assign a value             | `df.loc['C001', 'Age'] = 28`        |\n",
    "| Assign fast to single cell | `df.at['C001', 'Age'] = 28`         |\n"
   ]
  },
  {
   "cell_type": "markdown",
   "id": "c9787a82",
   "metadata": {},
   "source": [
    "<center><b>Thanks</b></center>"
   ]
  }
 ],
 "metadata": {
  "kernelspec": {
   "display_name": "Python 3",
   "language": "python",
   "name": "python3"
  },
  "language_info": {
   "codemirror_mode": {
    "name": "ipython",
    "version": 3
   },
   "file_extension": ".py",
   "mimetype": "text/x-python",
   "name": "python",
   "nbconvert_exporter": "python",
   "pygments_lexer": "ipython3",
   "version": "3.10.2"
  }
 },
 "nbformat": 4,
 "nbformat_minor": 5
}
