{
 "cells": [
  {
   "cell_type": "markdown",
   "id": "29471aaa",
   "metadata": {},
   "source": [
    "# **Data Cleaning**"
   ]
  },
  {
   "cell_type": "markdown",
   "id": "93906cf5",
   "metadata": {},
   "source": [
    "# **7. Renaming and Replacing Columns, Labels**"
   ]
  },
  {
   "cell_type": "code",
   "execution_count": 47,
   "id": "dfdf8bc1",
   "metadata": {},
   "outputs": [],
   "source": [
    "import numpy as np\n",
    "import pandas as pd "
   ]
  },
  {
   "cell_type": "markdown",
   "id": "624bcaa0",
   "metadata": {},
   "source": [
    "This is essential for:\n",
    "\n",
    "* Making data **more readable and standardized**,\n",
    "* Cleaning **messy imports** (e.g., from Excel/CSV),\n",
    "* Preparing for **visualization or modeling**.\n",
    "\n",
    "\n",
    "## 🎯 What Are We Renaming or Replacing?\n",
    "\n",
    "| Element                 | Description                                |\n",
    "| ----------------------- | ------------------------------------------ |\n",
    "| **Columns**             | Headers of the DataFrame                   |\n",
    "| **Index Labels**        | Row labels (default: 0, 1, 2...) or custom |\n",
    "| **Values inside cells** | Actual data values (e.g., 'Y' → 'Yes')     |\n"
   ]
  },
  {
   "cell_type": "code",
   "execution_count": 48,
   "id": "ebf015cd",
   "metadata": {},
   "outputs": [
    {
     "data": {
      "text/html": [
       "<div>\n",
       "<style scoped>\n",
       "    .dataframe tbody tr th:only-of-type {\n",
       "        vertical-align: middle;\n",
       "    }\n",
       "\n",
       "    .dataframe tbody tr th {\n",
       "        vertical-align: top;\n",
       "    }\n",
       "\n",
       "    .dataframe thead th {\n",
       "        text-align: right;\n",
       "    }\n",
       "</style>\n",
       "<table border=\"1\" class=\"dataframe\">\n",
       "  <thead>\n",
       "    <tr style=\"text-align: right;\">\n",
       "      <th></th>\n",
       "      <th>First Name</th>\n",
       "      <th>last-name</th>\n",
       "      <th>AGE</th>\n",
       "      <th>country of residence</th>\n",
       "    </tr>\n",
       "  </thead>\n",
       "  <tbody>\n",
       "    <tr>\n",
       "      <th>0</th>\n",
       "      <td>Alice</td>\n",
       "      <td>Smith</td>\n",
       "      <td>25</td>\n",
       "      <td>USA</td>\n",
       "    </tr>\n",
       "    <tr>\n",
       "      <th>1</th>\n",
       "      <td>Bob</td>\n",
       "      <td>Jones</td>\n",
       "      <td>30</td>\n",
       "      <td>Canada</td>\n",
       "    </tr>\n",
       "  </tbody>\n",
       "</table>\n",
       "</div>"
      ],
      "text/plain": [
       "  First Name   last-name  AGE country of residence\n",
       "0       Alice      Smith   25                  USA\n",
       "1         Bob      Jones   30               Canada"
      ]
     },
     "execution_count": 48,
     "metadata": {},
     "output_type": "execute_result"
    }
   ],
   "source": [
    "df = pd.DataFrame({\n",
    "    'First Name ': ['Alice', 'Bob'],\n",
    "    ' last-name': ['Smith', 'Jones'],\n",
    "    'AGE': [25, 30],\n",
    "    'country of residence': ['USA', 'Canada']\n",
    "})\n",
    "\n",
    "df"
   ]
  },
  {
   "cell_type": "markdown",
   "id": "abd22b72",
   "metadata": {},
   "source": [
    "## ✅ 1. `df.rename()` — Rename Specific Columns or Index"
   ]
  },
  {
   "cell_type": "code",
   "execution_count": 49,
   "id": "af7cbf5d",
   "metadata": {},
   "outputs": [
    {
     "data": {
      "text/plain": [
       "Index(['First Name ', ' last-name', 'AGE', 'country of residence'], dtype='object')"
      ]
     },
     "execution_count": 49,
     "metadata": {},
     "output_type": "execute_result"
    }
   ],
   "source": [
    "df.columns"
   ]
  },
  {
   "cell_type": "code",
   "execution_count": 50,
   "id": "57290611",
   "metadata": {},
   "outputs": [
    {
     "data": {
      "text/html": [
       "<div>\n",
       "<style scoped>\n",
       "    .dataframe tbody tr th:only-of-type {\n",
       "        vertical-align: middle;\n",
       "    }\n",
       "\n",
       "    .dataframe tbody tr th {\n",
       "        vertical-align: top;\n",
       "    }\n",
       "\n",
       "    .dataframe thead th {\n",
       "        text-align: right;\n",
       "    }\n",
       "</style>\n",
       "<table border=\"1\" class=\"dataframe\">\n",
       "  <thead>\n",
       "    <tr style=\"text-align: right;\">\n",
       "      <th></th>\n",
       "      <th>first_name</th>\n",
       "      <th>last_name</th>\n",
       "      <th>AGE</th>\n",
       "      <th>country of residence</th>\n",
       "    </tr>\n",
       "  </thead>\n",
       "  <tbody>\n",
       "    <tr>\n",
       "      <th>0</th>\n",
       "      <td>Alice</td>\n",
       "      <td>Smith</td>\n",
       "      <td>25</td>\n",
       "      <td>USA</td>\n",
       "    </tr>\n",
       "    <tr>\n",
       "      <th>1</th>\n",
       "      <td>Bob</td>\n",
       "      <td>Jones</td>\n",
       "      <td>30</td>\n",
       "      <td>Canada</td>\n",
       "    </tr>\n",
       "  </tbody>\n",
       "</table>\n",
       "</div>"
      ],
      "text/plain": [
       "  first_name last_name  AGE country of residence\n",
       "0      Alice     Smith   25                  USA\n",
       "1        Bob     Jones   30               Canada"
      ]
     },
     "execution_count": 50,
     "metadata": {},
     "output_type": "execute_result"
    }
   ],
   "source": [
    "df.rename(columns={\n",
    "    'First Name ': 'first_name',\n",
    "    ' last-name': 'last_name'\n",
    "}, inplace=True)\n",
    "\n",
    "df"
   ]
  },
  {
   "cell_type": "code",
   "execution_count": 51,
   "id": "6e5e04c1",
   "metadata": {},
   "outputs": [
    {
     "data": {
      "text/plain": [
       "Index(['first_name', 'last_name', 'AGE', 'country of residence'], dtype='object')"
      ]
     },
     "execution_count": 51,
     "metadata": {},
     "output_type": "execute_result"
    }
   ],
   "source": [
    "df.columns"
   ]
  },
  {
   "cell_type": "markdown",
   "id": "9d352db9",
   "metadata": {},
   "source": [
    "You can also rename row index:"
   ]
  },
  {
   "cell_type": "code",
   "execution_count": 52,
   "id": "f5b9dc77",
   "metadata": {},
   "outputs": [
    {
     "data": {
      "text/html": [
       "<div>\n",
       "<style scoped>\n",
       "    .dataframe tbody tr th:only-of-type {\n",
       "        vertical-align: middle;\n",
       "    }\n",
       "\n",
       "    .dataframe tbody tr th {\n",
       "        vertical-align: top;\n",
       "    }\n",
       "\n",
       "    .dataframe thead th {\n",
       "        text-align: right;\n",
       "    }\n",
       "</style>\n",
       "<table border=\"1\" class=\"dataframe\">\n",
       "  <thead>\n",
       "    <tr style=\"text-align: right;\">\n",
       "      <th></th>\n",
       "      <th>first_name</th>\n",
       "      <th>last_name</th>\n",
       "      <th>AGE</th>\n",
       "      <th>country of residence</th>\n",
       "    </tr>\n",
       "  </thead>\n",
       "  <tbody>\n",
       "    <tr>\n",
       "      <th>row_1</th>\n",
       "      <td>Alice</td>\n",
       "      <td>Smith</td>\n",
       "      <td>25</td>\n",
       "      <td>USA</td>\n",
       "    </tr>\n",
       "    <tr>\n",
       "      <th>row_2</th>\n",
       "      <td>Bob</td>\n",
       "      <td>Jones</td>\n",
       "      <td>30</td>\n",
       "      <td>Canada</td>\n",
       "    </tr>\n",
       "  </tbody>\n",
       "</table>\n",
       "</div>"
      ],
      "text/plain": [
       "      first_name last_name  AGE country of residence\n",
       "row_1      Alice     Smith   25                  USA\n",
       "row_2        Bob     Jones   30               Canada"
      ]
     },
     "execution_count": 52,
     "metadata": {},
     "output_type": "execute_result"
    }
   ],
   "source": [
    "df.rename(index={0: 'row_1', 1: 'row_2'}, inplace=True)\n",
    "df"
   ]
  },
  {
   "cell_type": "markdown",
   "id": "9db05594",
   "metadata": {},
   "source": [
    "### 🔹 Use Case:\n",
    "\n",
    "* Rename a few selected columns or rows.\n",
    "* Keeps others **untouched**.\n",
    "\n",
    "🔹 **Why this?**\n",
    "Targeted, safe changes. Avoids accidentally renaming everything."
   ]
  },
  {
   "cell_type": "markdown",
   "id": "3b03e99b",
   "metadata": {},
   "source": [
    "## ✅ 2. `df.columns = [...]` — Rename All Columns at Once"
   ]
  },
  {
   "cell_type": "code",
   "execution_count": 53,
   "id": "bc20e6cb",
   "metadata": {},
   "outputs": [
    {
     "data": {
      "text/html": [
       "<div>\n",
       "<style scoped>\n",
       "    .dataframe tbody tr th:only-of-type {\n",
       "        vertical-align: middle;\n",
       "    }\n",
       "\n",
       "    .dataframe tbody tr th {\n",
       "        vertical-align: top;\n",
       "    }\n",
       "\n",
       "    .dataframe thead th {\n",
       "        text-align: right;\n",
       "    }\n",
       "</style>\n",
       "<table border=\"1\" class=\"dataframe\">\n",
       "  <thead>\n",
       "    <tr style=\"text-align: right;\">\n",
       "      <th></th>\n",
       "      <th>FirstName</th>\n",
       "      <th>LastName</th>\n",
       "      <th>Age</th>\n",
       "      <th>Country</th>\n",
       "    </tr>\n",
       "  </thead>\n",
       "  <tbody>\n",
       "    <tr>\n",
       "      <th>row_1</th>\n",
       "      <td>Alice</td>\n",
       "      <td>Smith</td>\n",
       "      <td>25</td>\n",
       "      <td>USA</td>\n",
       "    </tr>\n",
       "    <tr>\n",
       "      <th>row_2</th>\n",
       "      <td>Bob</td>\n",
       "      <td>Jones</td>\n",
       "      <td>30</td>\n",
       "      <td>Canada</td>\n",
       "    </tr>\n",
       "  </tbody>\n",
       "</table>\n",
       "</div>"
      ],
      "text/plain": [
       "      FirstName LastName  Age Country\n",
       "row_1     Alice    Smith   25     USA\n",
       "row_2       Bob    Jones   30  Canada"
      ]
     },
     "execution_count": 53,
     "metadata": {},
     "output_type": "execute_result"
    }
   ],
   "source": [
    "df.columns = ['FirstName', 'LastName', 'Age', 'Country']\n",
    "df"
   ]
  },
  {
   "cell_type": "markdown",
   "id": "7e58e73e",
   "metadata": {},
   "source": [
    "### 🔹 Use Case:\n",
    "\n",
    "* Renaming **all columns at once**, like after CSV import.\n",
    "\n",
    "🔹 **Why this?**\n",
    "Quick and clean when full control of headers is needed."
   ]
  },
  {
   "cell_type": "markdown",
   "id": "b63b98cd",
   "metadata": {},
   "source": [
    "## ✅ 3. `str.strip()` / `str.lower()` / `str.replace()` for Cleaning Column Names"
   ]
  },
  {
   "cell_type": "code",
   "execution_count": 54,
   "id": "47b252ee",
   "metadata": {},
   "outputs": [
    {
     "data": {
      "text/html": [
       "<div>\n",
       "<style scoped>\n",
       "    .dataframe tbody tr th:only-of-type {\n",
       "        vertical-align: middle;\n",
       "    }\n",
       "\n",
       "    .dataframe tbody tr th {\n",
       "        vertical-align: top;\n",
       "    }\n",
       "\n",
       "    .dataframe thead th {\n",
       "        text-align: right;\n",
       "    }\n",
       "</style>\n",
       "<table border=\"1\" class=\"dataframe\">\n",
       "  <thead>\n",
       "    <tr style=\"text-align: right;\">\n",
       "      <th></th>\n",
       "      <th>firstname</th>\n",
       "      <th>lastname</th>\n",
       "      <th>age</th>\n",
       "      <th>country</th>\n",
       "    </tr>\n",
       "  </thead>\n",
       "  <tbody>\n",
       "    <tr>\n",
       "      <th>row_1</th>\n",
       "      <td>Alice</td>\n",
       "      <td>Smith</td>\n",
       "      <td>25</td>\n",
       "      <td>USA</td>\n",
       "    </tr>\n",
       "    <tr>\n",
       "      <th>row_2</th>\n",
       "      <td>Bob</td>\n",
       "      <td>Jones</td>\n",
       "      <td>30</td>\n",
       "      <td>Canada</td>\n",
       "    </tr>\n",
       "  </tbody>\n",
       "</table>\n",
       "</div>"
      ],
      "text/plain": [
       "      firstname lastname  age country\n",
       "row_1     Alice    Smith   25     USA\n",
       "row_2       Bob    Jones   30  Canada"
      ]
     },
     "execution_count": 54,
     "metadata": {},
     "output_type": "execute_result"
    }
   ],
   "source": [
    "df.columns = df.columns.str.strip().str.lower().str.replace(' ', '_')\n",
    "df"
   ]
  },
  {
   "cell_type": "markdown",
   "id": "c4ef3a48",
   "metadata": {},
   "source": [
    "### 🔹 Use Case:\n",
    "\n",
    "* Cleaning **messy or inconsistent column names** (common with Excel/CSV).\n",
    "\n",
    "🔹 **Why this?**\n",
    "Great for automatic cleanup — especially with auto-generated columns."
   ]
  },
  {
   "cell_type": "markdown",
   "id": "627debf8",
   "metadata": {},
   "source": [
    "## ✅ 4. `df.set_index()` and `df.reset_index()`"
   ]
  },
  {
   "cell_type": "code",
   "execution_count": 55,
   "id": "73bc1a0e",
   "metadata": {},
   "outputs": [
    {
     "data": {
      "text/html": [
       "<div>\n",
       "<style scoped>\n",
       "    .dataframe tbody tr th:only-of-type {\n",
       "        vertical-align: middle;\n",
       "    }\n",
       "\n",
       "    .dataframe tbody tr th {\n",
       "        vertical-align: top;\n",
       "    }\n",
       "\n",
       "    .dataframe thead th {\n",
       "        text-align: right;\n",
       "    }\n",
       "</style>\n",
       "<table border=\"1\" class=\"dataframe\">\n",
       "  <thead>\n",
       "    <tr style=\"text-align: right;\">\n",
       "      <th></th>\n",
       "      <th>lastname</th>\n",
       "      <th>age</th>\n",
       "      <th>country</th>\n",
       "    </tr>\n",
       "    <tr>\n",
       "      <th>firstname</th>\n",
       "      <th></th>\n",
       "      <th></th>\n",
       "      <th></th>\n",
       "    </tr>\n",
       "  </thead>\n",
       "  <tbody>\n",
       "    <tr>\n",
       "      <th>Alice</th>\n",
       "      <td>Smith</td>\n",
       "      <td>25</td>\n",
       "      <td>USA</td>\n",
       "    </tr>\n",
       "    <tr>\n",
       "      <th>Bob</th>\n",
       "      <td>Jones</td>\n",
       "      <td>30</td>\n",
       "      <td>Canada</td>\n",
       "    </tr>\n",
       "  </tbody>\n",
       "</table>\n",
       "</div>"
      ],
      "text/plain": [
       "          lastname  age country\n",
       "firstname                      \n",
       "Alice        Smith   25     USA\n",
       "Bob          Jones   30  Canada"
      ]
     },
     "execution_count": 55,
     "metadata": {},
     "output_type": "execute_result"
    }
   ],
   "source": [
    "df.set_index('firstname', inplace=True)\n",
    "df"
   ]
  },
  {
   "cell_type": "markdown",
   "id": "face4f42",
   "metadata": {},
   "source": [
    "Or if index has become part of data and needs restoring:"
   ]
  },
  {
   "cell_type": "code",
   "execution_count": 56,
   "id": "208e8eb4",
   "metadata": {},
   "outputs": [
    {
     "data": {
      "text/html": [
       "<div>\n",
       "<style scoped>\n",
       "    .dataframe tbody tr th:only-of-type {\n",
       "        vertical-align: middle;\n",
       "    }\n",
       "\n",
       "    .dataframe tbody tr th {\n",
       "        vertical-align: top;\n",
       "    }\n",
       "\n",
       "    .dataframe thead th {\n",
       "        text-align: right;\n",
       "    }\n",
       "</style>\n",
       "<table border=\"1\" class=\"dataframe\">\n",
       "  <thead>\n",
       "    <tr style=\"text-align: right;\">\n",
       "      <th></th>\n",
       "      <th>firstname</th>\n",
       "      <th>lastname</th>\n",
       "      <th>age</th>\n",
       "      <th>country</th>\n",
       "    </tr>\n",
       "  </thead>\n",
       "  <tbody>\n",
       "    <tr>\n",
       "      <th>0</th>\n",
       "      <td>Alice</td>\n",
       "      <td>Smith</td>\n",
       "      <td>25</td>\n",
       "      <td>USA</td>\n",
       "    </tr>\n",
       "    <tr>\n",
       "      <th>1</th>\n",
       "      <td>Bob</td>\n",
       "      <td>Jones</td>\n",
       "      <td>30</td>\n",
       "      <td>Canada</td>\n",
       "    </tr>\n",
       "  </tbody>\n",
       "</table>\n",
       "</div>"
      ],
      "text/plain": [
       "  firstname lastname  age country\n",
       "0     Alice    Smith   25     USA\n",
       "1       Bob    Jones   30  Canada"
      ]
     },
     "execution_count": 56,
     "metadata": {},
     "output_type": "execute_result"
    }
   ],
   "source": [
    "df.reset_index(inplace=True)\n",
    "df"
   ]
  },
  {
   "cell_type": "markdown",
   "id": "32b45632",
   "metadata": {},
   "source": [
    "### 🔹 Use Case:\n",
    "\n",
    "* Setting a **label column** as the index (e.g., customer ID).\n",
    "* Resetting index before saving or transforming data.\n",
    "\n",
    "🔹 **Why this?**\n",
    "Indexing is vital for merges, joins, plotting, and better row identification.\n"
   ]
  },
  {
   "cell_type": "markdown",
   "id": "617ac114",
   "metadata": {},
   "source": [
    "## ✅ 5. Renaming Row Labels in MultiIndex\n"
   ]
  },
  {
   "cell_type": "code",
   "execution_count": 57,
   "id": "2d01452a",
   "metadata": {},
   "outputs": [
    {
     "data": {
      "text/html": [
       "<div>\n",
       "<style scoped>\n",
       "    .dataframe tbody tr th:only-of-type {\n",
       "        vertical-align: middle;\n",
       "    }\n",
       "\n",
       "    .dataframe tbody tr th {\n",
       "        vertical-align: top;\n",
       "    }\n",
       "\n",
       "    .dataframe thead tr th {\n",
       "        text-align: left;\n",
       "    }\n",
       "</style>\n",
       "<table border=\"1\" class=\"dataframe\">\n",
       "  <thead>\n",
       "    <tr>\n",
       "      <th></th>\n",
       "      <th colspan=\"2\" halign=\"left\">demographics</th>\n",
       "      <th colspan=\"2\" halign=\"left\">details</th>\n",
       "    </tr>\n",
       "    <tr>\n",
       "      <th></th>\n",
       "      <th>first_name</th>\n",
       "      <th>last_name</th>\n",
       "      <th>age</th>\n",
       "      <th>country</th>\n",
       "    </tr>\n",
       "  </thead>\n",
       "  <tbody>\n",
       "    <tr>\n",
       "      <th>0</th>\n",
       "      <td>Alice</td>\n",
       "      <td>Smith</td>\n",
       "      <td>25</td>\n",
       "      <td>USA</td>\n",
       "    </tr>\n",
       "    <tr>\n",
       "      <th>1</th>\n",
       "      <td>Bob</td>\n",
       "      <td>Jones</td>\n",
       "      <td>30</td>\n",
       "      <td>Canada</td>\n",
       "    </tr>\n",
       "  </tbody>\n",
       "</table>\n",
       "</div>"
      ],
      "text/plain": [
       "  demographics           details        \n",
       "    first_name last_name     age country\n",
       "0        Alice     Smith      25     USA\n",
       "1          Bob     Jones      30  Canada"
      ]
     },
     "execution_count": 57,
     "metadata": {},
     "output_type": "execute_result"
    }
   ],
   "source": [
    "df.columns = pd.MultiIndex.from_tuples([\n",
    "    ('demographics', 'first_name'),\n",
    "    ('demographics', 'last_name'),\n",
    "    ('details', 'age'),\n",
    "    ('details', 'country')\n",
    "])\n",
    "\n",
    "df"
   ]
  },
  {
   "cell_type": "code",
   "execution_count": 58,
   "id": "cfb0dce5",
   "metadata": {},
   "outputs": [
    {
     "data": {
      "text/html": [
       "<div>\n",
       "<style scoped>\n",
       "    .dataframe tbody tr th:only-of-type {\n",
       "        vertical-align: middle;\n",
       "    }\n",
       "\n",
       "    .dataframe tbody tr th {\n",
       "        vertical-align: top;\n",
       "    }\n",
       "\n",
       "    .dataframe thead tr th {\n",
       "        text-align: left;\n",
       "    }\n",
       "</style>\n",
       "<table border=\"1\" class=\"dataframe\">\n",
       "  <thead>\n",
       "    <tr>\n",
       "      <th></th>\n",
       "      <th colspan=\"2\" halign=\"left\">demographics</th>\n",
       "      <th colspan=\"2\" halign=\"left\">details</th>\n",
       "    </tr>\n",
       "    <tr>\n",
       "      <th></th>\n",
       "      <th>fname</th>\n",
       "      <th>last_name</th>\n",
       "      <th>age</th>\n",
       "      <th>country</th>\n",
       "    </tr>\n",
       "  </thead>\n",
       "  <tbody>\n",
       "    <tr>\n",
       "      <th>0</th>\n",
       "      <td>Alice</td>\n",
       "      <td>Smith</td>\n",
       "      <td>25</td>\n",
       "      <td>USA</td>\n",
       "    </tr>\n",
       "    <tr>\n",
       "      <th>1</th>\n",
       "      <td>Bob</td>\n",
       "      <td>Jones</td>\n",
       "      <td>30</td>\n",
       "      <td>Canada</td>\n",
       "    </tr>\n",
       "  </tbody>\n",
       "</table>\n",
       "</div>"
      ],
      "text/plain": [
       "  demographics           details        \n",
       "         fname last_name     age country\n",
       "0        Alice     Smith      25     USA\n",
       "1          Bob     Jones      30  Canada"
      ]
     },
     "execution_count": 58,
     "metadata": {},
     "output_type": "execute_result"
    }
   ],
   "source": [
    "df.rename(columns={'first_name': 'fname'}, level=1, inplace=True)\n",
    "df"
   ]
  },
  {
   "cell_type": "markdown",
   "id": "d0341c8a",
   "metadata": {},
   "source": [
    "### 🔹 Use Case:\n",
    "\n",
    "* Multi-level DataFrames like in **grouped**, **pivoted**, or **joined** data.\n",
    "\n",
    "🔹 **Why this?**\n",
    "Maintains **hierarchical context**, useful in time-series or grouped data."
   ]
  },
  {
   "cell_type": "markdown",
   "id": "8f851a91",
   "metadata": {},
   "source": [
    "## ✅ 6. Replacing Values in Columns (`replace()`)"
   ]
  },
  {
   "cell_type": "code",
   "execution_count": 59,
   "id": "48dd8331",
   "metadata": {},
   "outputs": [
    {
     "data": {
      "text/html": [
       "<div>\n",
       "<style scoped>\n",
       "    .dataframe tbody tr th:only-of-type {\n",
       "        vertical-align: middle;\n",
       "    }\n",
       "\n",
       "    .dataframe tbody tr th {\n",
       "        vertical-align: top;\n",
       "    }\n",
       "\n",
       "    .dataframe thead tr th {\n",
       "        text-align: left;\n",
       "    }\n",
       "</style>\n",
       "<table border=\"1\" class=\"dataframe\">\n",
       "  <thead>\n",
       "    <tr>\n",
       "      <th></th>\n",
       "      <th colspan=\"2\" halign=\"left\">demographics</th>\n",
       "      <th colspan=\"2\" halign=\"left\">details</th>\n",
       "    </tr>\n",
       "    <tr>\n",
       "      <th></th>\n",
       "      <th>fname</th>\n",
       "      <th>last_name</th>\n",
       "      <th>age</th>\n",
       "      <th>country</th>\n",
       "    </tr>\n",
       "  </thead>\n",
       "  <tbody>\n",
       "    <tr>\n",
       "      <th>0</th>\n",
       "      <td>Alice</td>\n",
       "      <td>Smith</td>\n",
       "      <td>25</td>\n",
       "      <td>United States</td>\n",
       "    </tr>\n",
       "    <tr>\n",
       "      <th>1</th>\n",
       "      <td>Bob</td>\n",
       "      <td>Jones</td>\n",
       "      <td>30</td>\n",
       "      <td>CA</td>\n",
       "    </tr>\n",
       "  </tbody>\n",
       "</table>\n",
       "</div>"
      ],
      "text/plain": [
       "  demographics           details               \n",
       "         fname last_name     age        country\n",
       "0        Alice     Smith      25  United States\n",
       "1          Bob     Jones      30             CA"
      ]
     },
     "execution_count": 59,
     "metadata": {},
     "output_type": "execute_result"
    }
   ],
   "source": [
    "df[('details', 'country')] = df[('details', 'country')].replace({'USA': 'United States', 'Canada': 'CA'})\n",
    "df"
   ]
  },
  {
   "cell_type": "markdown",
   "id": "0641fb86",
   "metadata": {},
   "source": [
    "Or use `regex=True` for patterns:"
   ]
  },
  {
   "cell_type": "code",
   "execution_count": 60,
   "id": "485db668",
   "metadata": {},
   "outputs": [
    {
     "data": {
      "text/html": [
       "<div>\n",
       "<style scoped>\n",
       "    .dataframe tbody tr th:only-of-type {\n",
       "        vertical-align: middle;\n",
       "    }\n",
       "\n",
       "    .dataframe tbody tr th {\n",
       "        vertical-align: top;\n",
       "    }\n",
       "\n",
       "    .dataframe thead tr th {\n",
       "        text-align: left;\n",
       "    }\n",
       "</style>\n",
       "<table border=\"1\" class=\"dataframe\">\n",
       "  <thead>\n",
       "    <tr>\n",
       "      <th></th>\n",
       "      <th colspan=\"2\" halign=\"left\">demographics</th>\n",
       "      <th colspan=\"2\" halign=\"left\">details</th>\n",
       "    </tr>\n",
       "    <tr>\n",
       "      <th></th>\n",
       "      <th>fname</th>\n",
       "      <th>last_name</th>\n",
       "      <th>age</th>\n",
       "      <th>country</th>\n",
       "    </tr>\n",
       "  </thead>\n",
       "  <tbody>\n",
       "    <tr>\n",
       "      <th>0</th>\n",
       "      <td>Alice</td>\n",
       "      <td>Smith</td>\n",
       "      <td>25</td>\n",
       "      <td>United States</td>\n",
       "    </tr>\n",
       "    <tr>\n",
       "      <th>1</th>\n",
       "      <td>Bob</td>\n",
       "      <td>Jones</td>\n",
       "      <td>30</td>\n",
       "      <td>CA</td>\n",
       "    </tr>\n",
       "  </tbody>\n",
       "</table>\n",
       "</div>"
      ],
      "text/plain": [
       "  demographics           details               \n",
       "         fname last_name     age        country\n",
       "0        Alice     Smith      25  United States\n",
       "1          Bob     Jones      30             CA"
      ]
     },
     "execution_count": 60,
     "metadata": {},
     "output_type": "execute_result"
    }
   ],
   "source": [
    "df[('details', 'country')] = df[('details', 'country')].replace(r'\\bUSA\\b', 'United States', regex=True)\n",
    "df"
   ]
  },
  {
   "cell_type": "markdown",
   "id": "03a040db",
   "metadata": {},
   "source": [
    "### 🔹 Use Case:\n",
    "\n",
    "* Fixing **abbreviations**, **typos**, **standardizing categories**.\n",
    "\n",
    "🔹 **Why this?**\n",
    "Keeps **categorical data** consistent, which is critical in ML or aggregations."
   ]
  },
  {
   "cell_type": "markdown",
   "id": "4ae2e2e6",
   "metadata": {},
   "source": [
    "## ✅ 7. Replacing Based on Condition (`loc`)"
   ]
  },
  {
   "cell_type": "code",
   "execution_count": 61,
   "id": "f00bf28d",
   "metadata": {},
   "outputs": [
    {
     "data": {
      "text/html": [
       "<div>\n",
       "<style scoped>\n",
       "    .dataframe tbody tr th:only-of-type {\n",
       "        vertical-align: middle;\n",
       "    }\n",
       "\n",
       "    .dataframe tbody tr th {\n",
       "        vertical-align: top;\n",
       "    }\n",
       "\n",
       "    .dataframe thead tr th {\n",
       "        text-align: left;\n",
       "    }\n",
       "</style>\n",
       "<table border=\"1\" class=\"dataframe\">\n",
       "  <thead>\n",
       "    <tr>\n",
       "      <th></th>\n",
       "      <th colspan=\"2\" halign=\"left\">demographics</th>\n",
       "      <th colspan=\"2\" halign=\"left\">details</th>\n",
       "    </tr>\n",
       "    <tr>\n",
       "      <th></th>\n",
       "      <th>fname</th>\n",
       "      <th>last_name</th>\n",
       "      <th>age</th>\n",
       "      <th>country</th>\n",
       "    </tr>\n",
       "  </thead>\n",
       "  <tbody>\n",
       "    <tr>\n",
       "      <th>0</th>\n",
       "      <td>Alice</td>\n",
       "      <td>Smith</td>\n",
       "      <td>25</td>\n",
       "      <td>United States</td>\n",
       "    </tr>\n",
       "    <tr>\n",
       "      <th>1</th>\n",
       "      <td>Bob</td>\n",
       "      <td>Jones</td>\n",
       "      <td>30</td>\n",
       "      <td>CA</td>\n",
       "    </tr>\n",
       "  </tbody>\n",
       "</table>\n",
       "</div>"
      ],
      "text/plain": [
       "  demographics           details               \n",
       "         fname last_name     age        country\n",
       "0        Alice     Smith      25  United States\n",
       "1          Bob     Jones      30             CA"
      ]
     },
     "execution_count": 61,
     "metadata": {},
     "output_type": "execute_result"
    }
   ],
   "source": [
    "df"
   ]
  },
  {
   "cell_type": "code",
   "execution_count": null,
   "id": "0b1c8ccd",
   "metadata": {},
   "outputs": [],
   "source": [
    "df.loc[df[('details', 'age')] > 28, ('details', 'age')] = 28 # cap age at 28"
   ]
  },
  {
   "cell_type": "code",
   "execution_count": 63,
   "id": "d9c278b9",
   "metadata": {},
   "outputs": [
    {
     "data": {
      "text/html": [
       "<div>\n",
       "<style scoped>\n",
       "    .dataframe tbody tr th:only-of-type {\n",
       "        vertical-align: middle;\n",
       "    }\n",
       "\n",
       "    .dataframe tbody tr th {\n",
       "        vertical-align: top;\n",
       "    }\n",
       "\n",
       "    .dataframe thead tr th {\n",
       "        text-align: left;\n",
       "    }\n",
       "</style>\n",
       "<table border=\"1\" class=\"dataframe\">\n",
       "  <thead>\n",
       "    <tr>\n",
       "      <th></th>\n",
       "      <th colspan=\"2\" halign=\"left\">demographics</th>\n",
       "      <th colspan=\"2\" halign=\"left\">details</th>\n",
       "    </tr>\n",
       "    <tr>\n",
       "      <th></th>\n",
       "      <th>fname</th>\n",
       "      <th>last_name</th>\n",
       "      <th>age</th>\n",
       "      <th>country</th>\n",
       "    </tr>\n",
       "  </thead>\n",
       "  <tbody>\n",
       "    <tr>\n",
       "      <th>0</th>\n",
       "      <td>Alice</td>\n",
       "      <td>Smith</td>\n",
       "      <td>25</td>\n",
       "      <td>United States</td>\n",
       "    </tr>\n",
       "    <tr>\n",
       "      <th>1</th>\n",
       "      <td>Bob</td>\n",
       "      <td>Jones</td>\n",
       "      <td>28</td>\n",
       "      <td>CA</td>\n",
       "    </tr>\n",
       "  </tbody>\n",
       "</table>\n",
       "</div>"
      ],
      "text/plain": [
       "  demographics           details               \n",
       "         fname last_name     age        country\n",
       "0        Alice     Smith      25  United States\n",
       "1          Bob     Jones      28             CA"
      ]
     },
     "execution_count": 63,
     "metadata": {},
     "output_type": "execute_result"
    }
   ],
   "source": [
    "df"
   ]
  },
  {
   "cell_type": "markdown",
   "id": "00a418fb",
   "metadata": {},
   "source": [
    "### 🔹 Use Case:\n",
    "\n",
    "* Rule-based transformation of specific rows/values.\n",
    "\n",
    "🔹 **Why this?**\n",
    "More control than `replace()` when logic depends on other columns."
   ]
  },
  {
   "cell_type": "markdown",
   "id": "3281bef4",
   "metadata": {},
   "source": [
    "## ✅ 8. Rename Columns with a Function"
   ]
  },
  {
   "cell_type": "code",
   "execution_count": 64,
   "id": "ce3088f0",
   "metadata": {},
   "outputs": [],
   "source": [
    "df.rename(columns=lambda x: x.strip().lower().replace(' ', '_'), inplace=True)"
   ]
  },
  {
   "cell_type": "code",
   "execution_count": 65,
   "id": "79933ec6",
   "metadata": {},
   "outputs": [
    {
     "data": {
      "text/html": [
       "<div>\n",
       "<style scoped>\n",
       "    .dataframe tbody tr th:only-of-type {\n",
       "        vertical-align: middle;\n",
       "    }\n",
       "\n",
       "    .dataframe tbody tr th {\n",
       "        vertical-align: top;\n",
       "    }\n",
       "\n",
       "    .dataframe thead tr th {\n",
       "        text-align: left;\n",
       "    }\n",
       "</style>\n",
       "<table border=\"1\" class=\"dataframe\">\n",
       "  <thead>\n",
       "    <tr>\n",
       "      <th></th>\n",
       "      <th colspan=\"2\" halign=\"left\">demographics</th>\n",
       "      <th colspan=\"2\" halign=\"left\">details</th>\n",
       "    </tr>\n",
       "    <tr>\n",
       "      <th></th>\n",
       "      <th>fname</th>\n",
       "      <th>last_name</th>\n",
       "      <th>age</th>\n",
       "      <th>country</th>\n",
       "    </tr>\n",
       "  </thead>\n",
       "  <tbody>\n",
       "    <tr>\n",
       "      <th>0</th>\n",
       "      <td>Alice</td>\n",
       "      <td>Smith</td>\n",
       "      <td>25</td>\n",
       "      <td>United States</td>\n",
       "    </tr>\n",
       "    <tr>\n",
       "      <th>1</th>\n",
       "      <td>Bob</td>\n",
       "      <td>Jones</td>\n",
       "      <td>28</td>\n",
       "      <td>CA</td>\n",
       "    </tr>\n",
       "  </tbody>\n",
       "</table>\n",
       "</div>"
      ],
      "text/plain": [
       "  demographics           details               \n",
       "         fname last_name     age        country\n",
       "0        Alice     Smith      25  United States\n",
       "1          Bob     Jones      28             CA"
      ]
     },
     "execution_count": 65,
     "metadata": {},
     "output_type": "execute_result"
    }
   ],
   "source": [
    "df"
   ]
  },
  {
   "cell_type": "markdown",
   "id": "474d6974",
   "metadata": {},
   "source": [
    "### 🔹 Use Case:\n",
    "\n",
    "* You want to **standardize column names** programmatically.\n",
    "\n",
    "🔹 **Why this?**\n",
    "Automates renaming — great for data pipelines and repeat use."
   ]
  },
  {
   "cell_type": "markdown",
   "id": "e8c2403d",
   "metadata": {},
   "source": [
    "## 🔍 Summary Comparison\n",
    "\n",
    "| Method                          | Use Case                            | Why Use It                                |\n",
    "| ------------------------------- | ----------------------------------- | ----------------------------------------- |\n",
    "| `rename(columns={...})`         | Rename selective columns or rows    | Safe and precise                          |\n",
    "| `df.columns = [...]`            | Rename all columns                  | Quick full renaming                       |\n",
    "| `str.strip()`, `str.lower()`    | Clean messy names from source files | Normalization & consistency               |\n",
    "| `set_index()` / `reset_index()` | Change or restore row labels        | Better row identity or undo auto-indexing |\n",
    "| `replace({...})`                | Standardize values in a column      | Fix typos, unify categories               |\n",
    "| `loc[condition, column] = ...`  | Apply value changes based on logic  | More flexible than `replace()`            |\n",
    "| `rename(columns=lambda...)`     | Rename with a function              | Dynamic renaming logic for automation     |\n"
   ]
  },
  {
   "cell_type": "markdown",
   "id": "fe02bfee",
   "metadata": {},
   "source": [
    "## 🧪 Real-World Scenarios\n",
    "\n",
    "| Scenario                             | Suggested Approach                              |\n",
    "| ------------------------------------ | ----------------------------------------------- |\n",
    "| Cleaning Excel exports with spaces   | `str.strip().str.lower().str.replace(' ', '_')` |\n",
    "| Updating labels before visualization | `rename(columns={...})` or `replace()`          |\n",
    "| Mapping country codes to names       | `replace()` or `map()`                          |\n",
    "| Setting Customer ID as index         | `set_index('customer_id')`                      |\n",
    "| Reversing index before export        | `reset_index()`                                 |\n",
    "| Column cleanup in a data pipeline    | `rename(columns=lambda x: ...)`                 |\n"
   ]
  },
  {
   "cell_type": "markdown",
   "id": "ea855e25",
   "metadata": {},
   "source": [
    "<center><b>Thanks</b></center>"
   ]
  }
 ],
 "metadata": {
  "kernelspec": {
   "display_name": "Python 3",
   "language": "python",
   "name": "python3"
  },
  "language_info": {
   "codemirror_mode": {
    "name": "ipython",
    "version": 3
   },
   "file_extension": ".py",
   "mimetype": "text/x-python",
   "name": "python",
   "nbconvert_exporter": "python",
   "pygments_lexer": "ipython3",
   "version": "3.10.2"
  }
 },
 "nbformat": 4,
 "nbformat_minor": 5
}
