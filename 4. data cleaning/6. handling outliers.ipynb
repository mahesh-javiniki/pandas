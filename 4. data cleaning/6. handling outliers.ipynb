{
 "cells": [
  {
   "cell_type": "markdown",
   "id": "859b5bf9",
   "metadata": {},
   "source": [
    "# **Data Cleaning**"
   ]
  },
  {
   "cell_type": "markdown",
   "id": "9d6281f5",
   "metadata": {},
   "source": [
    "## **6. Handling Outliers (Detection & Treatment)**"
   ]
  },
  {
   "cell_type": "code",
   "execution_count": 1,
   "id": "4f47bc7b",
   "metadata": {},
   "outputs": [],
   "source": [
    "import numpy as np\n",
    "import pandas as pd "
   ]
  },
  {
   "cell_type": "markdown",
   "id": "ca12a446",
   "metadata": {},
   "source": [
    "## 🔍 What are Outliers?\n",
    "\n",
    "Outliers are **data points that significantly differ** from the rest of the dataset. They can:\n",
    "\n",
    "* Skew mean-based statistics\n",
    "* Distort model predictions\n",
    "* Indicate **data entry errors**, **fraud**, or **genuine rare events**\n"
   ]
  },
  {
   "cell_type": "markdown",
   "id": "073cdc15",
   "metadata": {},
   "source": [
    "### ✅ Real-Life Examples of Outliers\n",
    "\n",
    "| Domain     | Variable    | Outlier Example                            |\n",
    "| ---------- | ----------- | ------------------------------------------ |\n",
    "| Banking    | Salary      | ₹10,000,000 (CEO in general staff dataset) |\n",
    "| Healthcare | Heart Rate  | 250 BPM                                    |\n",
    "| Ecommerce  | Order Value | ₹0 or ₹500,000                             |\n",
    "| Education  | Marks       | 110% (invalid)                             |\n"
   ]
  },
  {
   "cell_type": "code",
   "execution_count": 2,
   "id": "572d0cd6",
   "metadata": {},
   "outputs": [
    {
     "data": {
      "text/html": [
       "<div>\n",
       "<style scoped>\n",
       "    .dataframe tbody tr th:only-of-type {\n",
       "        vertical-align: middle;\n",
       "    }\n",
       "\n",
       "    .dataframe tbody tr th {\n",
       "        vertical-align: top;\n",
       "    }\n",
       "\n",
       "    .dataframe thead th {\n",
       "        text-align: right;\n",
       "    }\n",
       "</style>\n",
       "<table border=\"1\" class=\"dataframe\">\n",
       "  <thead>\n",
       "    <tr style=\"text-align: right;\">\n",
       "      <th></th>\n",
       "      <th>CustomerID</th>\n",
       "      <th>PurchaseAmount</th>\n",
       "    </tr>\n",
       "  </thead>\n",
       "  <tbody>\n",
       "    <tr>\n",
       "      <th>0</th>\n",
       "      <td>1</td>\n",
       "      <td>500</td>\n",
       "    </tr>\n",
       "    <tr>\n",
       "      <th>1</th>\n",
       "      <td>2</td>\n",
       "      <td>520</td>\n",
       "    </tr>\n",
       "    <tr>\n",
       "      <th>2</th>\n",
       "      <td>3</td>\n",
       "      <td>510</td>\n",
       "    </tr>\n",
       "    <tr>\n",
       "      <th>3</th>\n",
       "      <td>4</td>\n",
       "      <td>490</td>\n",
       "    </tr>\n",
       "    <tr>\n",
       "      <th>4</th>\n",
       "      <td>5</td>\n",
       "      <td>515</td>\n",
       "    </tr>\n",
       "    <tr>\n",
       "      <th>5</th>\n",
       "      <td>6</td>\n",
       "      <td>8000</td>\n",
       "    </tr>\n",
       "    <tr>\n",
       "      <th>6</th>\n",
       "      <td>7</td>\n",
       "      <td>495</td>\n",
       "    </tr>\n",
       "  </tbody>\n",
       "</table>\n",
       "</div>"
      ],
      "text/plain": [
       "   CustomerID  PurchaseAmount\n",
       "0           1             500\n",
       "1           2             520\n",
       "2           3             510\n",
       "3           4             490\n",
       "4           5             515\n",
       "5           6            8000\n",
       "6           7             495"
      ]
     },
     "execution_count": 2,
     "metadata": {},
     "output_type": "execute_result"
    }
   ],
   "source": [
    "df = pd.DataFrame({\n",
    "    'CustomerID': [1, 2, 3, 4, 5, 6, 7],\n",
    "    'PurchaseAmount': [500, 520, 510, 490, 515, 8000, 495]\n",
    "})\n",
    "\n",
    "df"
   ]
  },
  {
   "cell_type": "markdown",
   "id": "498429a1",
   "metadata": {},
   "source": [
    "## 🔎 DETECTING OUTLIERS"
   ]
  },
  {
   "cell_type": "markdown",
   "id": "5dbe3a2e",
   "metadata": {},
   "source": [
    "### 🔹 **1. Using Basic Statistics (Min/Max/Mean)**"
   ]
  },
  {
   "cell_type": "code",
   "execution_count": 3,
   "id": "8abbd16d",
   "metadata": {},
   "outputs": [
    {
     "data": {
      "text/plain": [
       "count       7.000000\n",
       "mean     1575.714286\n",
       "std      2832.864317\n",
       "min       490.000000\n",
       "25%       497.500000\n",
       "50%       510.000000\n",
       "75%       517.500000\n",
       "max      8000.000000\n",
       "Name: PurchaseAmount, dtype: float64"
      ]
     },
     "execution_count": 3,
     "metadata": {},
     "output_type": "execute_result"
    }
   ],
   "source": [
    "df['PurchaseAmount'].describe()"
   ]
  },
  {
   "cell_type": "code",
   "execution_count": 4,
   "id": "8fd952d9",
   "metadata": {},
   "outputs": [
    {
     "data": {
      "text/plain": [
       "510.0"
      ]
     },
     "execution_count": 4,
     "metadata": {},
     "output_type": "execute_result"
    }
   ],
   "source": [
    "df['PurchaseAmount'].median()"
   ]
  },
  {
   "cell_type": "markdown",
   "id": "d0ae89cd",
   "metadata": {},
   "source": [
    "#### ✅ Use Case:\n",
    "\n",
    "Quick overview of possible **extreme values** based on summary stats.\n",
    "\n",
    "🔹 *Why?*\n",
    "Gives a quick visual clue to spot **suspiciously large or small values**."
   ]
  },
  {
   "cell_type": "markdown",
   "id": "cdeafa36",
   "metadata": {},
   "source": [
    "### 🔹 **2. Using Standard Deviation (Z-score Method)**"
   ]
  },
  {
   "cell_type": "code",
   "execution_count": 5,
   "id": "99d319fd",
   "metadata": {},
   "outputs": [
    {
     "data": {
      "text/html": [
       "<div>\n",
       "<style scoped>\n",
       "    .dataframe tbody tr th:only-of-type {\n",
       "        vertical-align: middle;\n",
       "    }\n",
       "\n",
       "    .dataframe tbody tr th {\n",
       "        vertical-align: top;\n",
       "    }\n",
       "\n",
       "    .dataframe thead th {\n",
       "        text-align: right;\n",
       "    }\n",
       "</style>\n",
       "<table border=\"1\" class=\"dataframe\">\n",
       "  <thead>\n",
       "    <tr style=\"text-align: right;\">\n",
       "      <th></th>\n",
       "      <th>CustomerID</th>\n",
       "      <th>PurchaseAmount</th>\n",
       "    </tr>\n",
       "  </thead>\n",
       "  <tbody>\n",
       "  </tbody>\n",
       "</table>\n",
       "</div>"
      ],
      "text/plain": [
       "Empty DataFrame\n",
       "Columns: [CustomerID, PurchaseAmount]\n",
       "Index: []"
      ]
     },
     "execution_count": 5,
     "metadata": {},
     "output_type": "execute_result"
    }
   ],
   "source": [
    "mean = df['PurchaseAmount'].mean()\n",
    "std = df['PurchaseAmount'].std()\n",
    "z_score = (df['PurchaseAmount'] - mean) / std\n",
    "df[z_score.abs() > 3]"
   ]
  },
  {
   "cell_type": "markdown",
   "id": "eac07409",
   "metadata": {},
   "source": [
    "Detect customers with **unusually high spend** relative to average in marketing analysis.\n",
    "\n",
    "🔹 *Why?*\n",
    "Best when data is **normally distributed**."
   ]
  },
  {
   "cell_type": "markdown",
   "id": "1b630a40",
   "metadata": {},
   "source": [
    "### 🔹 **3. Using IQR (Interquartile Range Method)**"
   ]
  },
  {
   "cell_type": "code",
   "execution_count": 6,
   "id": "d316061b",
   "metadata": {},
   "outputs": [
    {
     "name": "stdout",
     "output_type": "stream",
     "text": [
      "Lower Bound: 467.5\n",
      "Upper Bound: 547.5\n"
     ]
    },
    {
     "data": {
      "text/html": [
       "<div>\n",
       "<style scoped>\n",
       "    .dataframe tbody tr th:only-of-type {\n",
       "        vertical-align: middle;\n",
       "    }\n",
       "\n",
       "    .dataframe tbody tr th {\n",
       "        vertical-align: top;\n",
       "    }\n",
       "\n",
       "    .dataframe thead th {\n",
       "        text-align: right;\n",
       "    }\n",
       "</style>\n",
       "<table border=\"1\" class=\"dataframe\">\n",
       "  <thead>\n",
       "    <tr style=\"text-align: right;\">\n",
       "      <th></th>\n",
       "      <th>CustomerID</th>\n",
       "      <th>PurchaseAmount</th>\n",
       "    </tr>\n",
       "  </thead>\n",
       "  <tbody>\n",
       "    <tr>\n",
       "      <th>5</th>\n",
       "      <td>6</td>\n",
       "      <td>8000</td>\n",
       "    </tr>\n",
       "  </tbody>\n",
       "</table>\n",
       "</div>"
      ],
      "text/plain": [
       "   CustomerID  PurchaseAmount\n",
       "5           6            8000"
      ]
     },
     "execution_count": 6,
     "metadata": {},
     "output_type": "execute_result"
    }
   ],
   "source": [
    "Q1 = df['PurchaseAmount'].quantile(0.25)\n",
    "Q3 = df['PurchaseAmount'].quantile(0.75)\n",
    "\n",
    "IQR = Q3 - Q1\n",
    "\n",
    "lower_bound = Q1 - 1.5 * IQR\n",
    "upper_bound = Q3 + 1.5 * IQR\n",
    "\n",
    "print(f\"Lower Bound: {lower_bound}\")\n",
    "print(f\"Upper Bound: {upper_bound}\")\n",
    "\n",
    "df[(df['PurchaseAmount'] < lower_bound) | (df['PurchaseAmount'] > upper_bound)]"
   ]
  },
  {
   "cell_type": "markdown",
   "id": "65ebf991",
   "metadata": {},
   "source": [
    "#### ✅ Use Case:\n",
    "\n",
    "Robust to skewed data — commonly used in **financial and ecommerce transactions**.\n",
    "\n",
    "🔹 *Why?*\n",
    "Less sensitive to **non-normal distributions**."
   ]
  },
  {
   "cell_type": "markdown",
   "id": "f09313bb",
   "metadata": {},
   "source": [
    "### 🔹 **4. Visual Detection**"
   ]
  },
  {
   "cell_type": "code",
   "execution_count": 7,
   "id": "dd66795b",
   "metadata": {},
   "outputs": [
    {
     "data": {
      "text/html": [
       "<div>\n",
       "<style scoped>\n",
       "    .dataframe tbody tr th:only-of-type {\n",
       "        vertical-align: middle;\n",
       "    }\n",
       "\n",
       "    .dataframe tbody tr th {\n",
       "        vertical-align: top;\n",
       "    }\n",
       "\n",
       "    .dataframe thead th {\n",
       "        text-align: right;\n",
       "    }\n",
       "</style>\n",
       "<table border=\"1\" class=\"dataframe\">\n",
       "  <thead>\n",
       "    <tr style=\"text-align: right;\">\n",
       "      <th></th>\n",
       "      <th>CustomerID</th>\n",
       "      <th>PurchaseAmount</th>\n",
       "    </tr>\n",
       "  </thead>\n",
       "  <tbody>\n",
       "    <tr>\n",
       "      <th>0</th>\n",
       "      <td>1</td>\n",
       "      <td>500</td>\n",
       "    </tr>\n",
       "    <tr>\n",
       "      <th>1</th>\n",
       "      <td>2</td>\n",
       "      <td>520</td>\n",
       "    </tr>\n",
       "    <tr>\n",
       "      <th>2</th>\n",
       "      <td>3</td>\n",
       "      <td>510</td>\n",
       "    </tr>\n",
       "    <tr>\n",
       "      <th>3</th>\n",
       "      <td>4</td>\n",
       "      <td>490</td>\n",
       "    </tr>\n",
       "    <tr>\n",
       "      <th>4</th>\n",
       "      <td>5</td>\n",
       "      <td>515</td>\n",
       "    </tr>\n",
       "    <tr>\n",
       "      <th>5</th>\n",
       "      <td>6</td>\n",
       "      <td>8000</td>\n",
       "    </tr>\n",
       "    <tr>\n",
       "      <th>6</th>\n",
       "      <td>7</td>\n",
       "      <td>495</td>\n",
       "    </tr>\n",
       "  </tbody>\n",
       "</table>\n",
       "</div>"
      ],
      "text/plain": [
       "   CustomerID  PurchaseAmount\n",
       "0           1             500\n",
       "1           2             520\n",
       "2           3             510\n",
       "3           4             490\n",
       "4           5             515\n",
       "5           6            8000\n",
       "6           7             495"
      ]
     },
     "execution_count": 7,
     "metadata": {},
     "output_type": "execute_result"
    }
   ],
   "source": [
    "df"
   ]
  },
  {
   "cell_type": "code",
   "execution_count": 8,
   "id": "e55024ce",
   "metadata": {},
   "outputs": [
    {
     "data": {
      "image/png": "[encoded data removed]",
      "text/plain": [
       "<Figure size 432x288 with 1 Axes>"
      ]
     },
     "metadata": {
      "needs_background": "light"
     },
     "output_type": "display_data"
    }
   ],
   "source": [
    "import matplotlib.pyplot as plt\n",
    "import seaborn as sns\n",
    "\n",
    "sns.boxplot(x=df['PurchaseAmount'])\n",
    "plt.show()"
   ]
  },
  {
   "cell_type": "markdown",
   "id": "b81c3c0a",
   "metadata": {},
   "source": [
    "#### ✅ Use Case:\n",
    "\n",
    "In **exploratory data analysis (EDA)** to visually spot anomalies in one or more columns.\n",
    "\n",
    "🔹 *Why?*\n",
    "Quick and intuitive for **visual communication** of outliers."
   ]
  },
  {
   "cell_type": "markdown",
   "id": "c40a01db",
   "metadata": {},
   "source": [
    "## 🛠️ TREATING OUTLIERS\n"
   ]
  },
  {
   "cell_type": "markdown",
   "id": "dd0f62c8",
   "metadata": {},
   "source": [
    "### 🔸 **1. Remove Outliers**"
   ]
  },
  {
   "cell_type": "code",
   "execution_count": 9,
   "id": "200e314d",
   "metadata": {},
   "outputs": [
    {
     "data": {
      "text/html": [
       "<div>\n",
       "<style scoped>\n",
       "    .dataframe tbody tr th:only-of-type {\n",
       "        vertical-align: middle;\n",
       "    }\n",
       "\n",
       "    .dataframe tbody tr th {\n",
       "        vertical-align: top;\n",
       "    }\n",
       "\n",
       "    .dataframe thead th {\n",
       "        text-align: right;\n",
       "    }\n",
       "</style>\n",
       "<table border=\"1\" class=\"dataframe\">\n",
       "  <thead>\n",
       "    <tr style=\"text-align: right;\">\n",
       "      <th></th>\n",
       "      <th>CustomerID</th>\n",
       "      <th>PurchaseAmount</th>\n",
       "    </tr>\n",
       "  </thead>\n",
       "  <tbody>\n",
       "    <tr>\n",
       "      <th>0</th>\n",
       "      <td>1</td>\n",
       "      <td>500</td>\n",
       "    </tr>\n",
       "    <tr>\n",
       "      <th>1</th>\n",
       "      <td>2</td>\n",
       "      <td>520</td>\n",
       "    </tr>\n",
       "    <tr>\n",
       "      <th>2</th>\n",
       "      <td>3</td>\n",
       "      <td>510</td>\n",
       "    </tr>\n",
       "    <tr>\n",
       "      <th>3</th>\n",
       "      <td>4</td>\n",
       "      <td>490</td>\n",
       "    </tr>\n",
       "    <tr>\n",
       "      <th>4</th>\n",
       "      <td>5</td>\n",
       "      <td>515</td>\n",
       "    </tr>\n",
       "    <tr>\n",
       "      <th>6</th>\n",
       "      <td>7</td>\n",
       "      <td>495</td>\n",
       "    </tr>\n",
       "  </tbody>\n",
       "</table>\n",
       "</div>"
      ],
      "text/plain": [
       "   CustomerID  PurchaseAmount\n",
       "0           1             500\n",
       "1           2             520\n",
       "2           3             510\n",
       "3           4             490\n",
       "4           5             515\n",
       "6           7             495"
      ]
     },
     "execution_count": 9,
     "metadata": {},
     "output_type": "execute_result"
    }
   ],
   "source": [
    "df[(df['PurchaseAmount'] >= lower_bound) & (df['PurchaseAmount'] <= upper_bound)]"
   ]
  },
  {
   "cell_type": "markdown",
   "id": "eaa653f6",
   "metadata": {},
   "source": [
    "#### ✅ Use Case:\n",
    "\n",
    "In **ML training**, outliers might degrade model performance. Remove when not meaningful.\n",
    "\n",
    "🔹 *Why?*\n",
    "Best when outliers are **data entry errors** or **not important**."
   ]
  },
  {
   "cell_type": "markdown",
   "id": "7aec95b7",
   "metadata": {},
   "source": [
    "### 🔸 **2. Cap / Winsorize Outliers**"
   ]
  },
  {
   "cell_type": "code",
   "execution_count": 10,
   "id": "1d9e6ed9",
   "metadata": {},
   "outputs": [
    {
     "name": "stdout",
     "output_type": "stream",
     "text": [
      "Lower bond: 467.5\n",
      "Upper bound: 547.5\n"
     ]
    }
   ],
   "source": [
    "print(f\"Lower bond: {lower_bound}\")\n",
    "print(f\"Upper bound: {upper_bound}\")"
   ]
  },
  {
   "cell_type": "code",
   "execution_count": 11,
   "id": "3a45375e",
   "metadata": {},
   "outputs": [
    {
     "data": {
      "text/html": [
       "<div>\n",
       "<style scoped>\n",
       "    .dataframe tbody tr th:only-of-type {\n",
       "        vertical-align: middle;\n",
       "    }\n",
       "\n",
       "    .dataframe tbody tr th {\n",
       "        vertical-align: top;\n",
       "    }\n",
       "\n",
       "    .dataframe thead th {\n",
       "        text-align: right;\n",
       "    }\n",
       "</style>\n",
       "<table border=\"1\" class=\"dataframe\">\n",
       "  <thead>\n",
       "    <tr style=\"text-align: right;\">\n",
       "      <th></th>\n",
       "      <th>CustomerID</th>\n",
       "      <th>PurchaseAmount</th>\n",
       "      <th>PurchaseAmount_</th>\n",
       "    </tr>\n",
       "  </thead>\n",
       "  <tbody>\n",
       "    <tr>\n",
       "      <th>0</th>\n",
       "      <td>1</td>\n",
       "      <td>500</td>\n",
       "      <td>500.0</td>\n",
       "    </tr>\n",
       "    <tr>\n",
       "      <th>1</th>\n",
       "      <td>2</td>\n",
       "      <td>520</td>\n",
       "      <td>520.0</td>\n",
       "    </tr>\n",
       "    <tr>\n",
       "      <th>2</th>\n",
       "      <td>3</td>\n",
       "      <td>510</td>\n",
       "      <td>510.0</td>\n",
       "    </tr>\n",
       "    <tr>\n",
       "      <th>3</th>\n",
       "      <td>4</td>\n",
       "      <td>490</td>\n",
       "      <td>490.0</td>\n",
       "    </tr>\n",
       "    <tr>\n",
       "      <th>4</th>\n",
       "      <td>5</td>\n",
       "      <td>515</td>\n",
       "      <td>515.0</td>\n",
       "    </tr>\n",
       "    <tr>\n",
       "      <th>5</th>\n",
       "      <td>6</td>\n",
       "      <td>8000</td>\n",
       "      <td>547.5</td>\n",
       "    </tr>\n",
       "    <tr>\n",
       "      <th>6</th>\n",
       "      <td>7</td>\n",
       "      <td>495</td>\n",
       "      <td>495.0</td>\n",
       "    </tr>\n",
       "  </tbody>\n",
       "</table>\n",
       "</div>"
      ],
      "text/plain": [
       "   CustomerID  PurchaseAmount  PurchaseAmount_\n",
       "0           1             500            500.0\n",
       "1           2             520            520.0\n",
       "2           3             510            510.0\n",
       "3           4             490            490.0\n",
       "4           5             515            515.0\n",
       "5           6            8000            547.5\n",
       "6           7             495            495.0"
      ]
     },
     "execution_count": 11,
     "metadata": {},
     "output_type": "execute_result"
    }
   ],
   "source": [
    "df['PurchaseAmount_'] = np.clip(df['PurchaseAmount'], lower_bound, upper_bound)\n",
    "df"
   ]
  },
  {
   "cell_type": "markdown",
   "id": "02f77ce4",
   "metadata": {},
   "source": [
    "#### ✅ Use Case:\n",
    "\n",
    "In **credit scoring**, you want to reduce influence of extreme values without losing records.\n",
    "\n",
    "🔹 *Why?*\n",
    "Keeps the data but **limits the impact** of extreme values."
   ]
  },
  {
   "cell_type": "markdown",
   "id": "016e7b2e",
   "metadata": {},
   "source": [
    "### 🔸 **3. Impute with Mean / Median**"
   ]
  },
  {
   "cell_type": "code",
   "execution_count": 12,
   "id": "797ec54e",
   "metadata": {},
   "outputs": [
    {
     "data": {
      "text/html": [
       "<div>\n",
       "<style scoped>\n",
       "    .dataframe tbody tr th:only-of-type {\n",
       "        vertical-align: middle;\n",
       "    }\n",
       "\n",
       "    .dataframe tbody tr th {\n",
       "        vertical-align: top;\n",
       "    }\n",
       "\n",
       "    .dataframe thead th {\n",
       "        text-align: right;\n",
       "    }\n",
       "</style>\n",
       "<table border=\"1\" class=\"dataframe\">\n",
       "  <thead>\n",
       "    <tr style=\"text-align: right;\">\n",
       "      <th></th>\n",
       "      <th>CustomerID</th>\n",
       "      <th>PurchaseAmount</th>\n",
       "      <th>PurchaseAmount_</th>\n",
       "    </tr>\n",
       "  </thead>\n",
       "  <tbody>\n",
       "    <tr>\n",
       "      <th>0</th>\n",
       "      <td>1</td>\n",
       "      <td>500</td>\n",
       "      <td>500.0</td>\n",
       "    </tr>\n",
       "    <tr>\n",
       "      <th>1</th>\n",
       "      <td>2</td>\n",
       "      <td>520</td>\n",
       "      <td>520.0</td>\n",
       "    </tr>\n",
       "    <tr>\n",
       "      <th>2</th>\n",
       "      <td>3</td>\n",
       "      <td>510</td>\n",
       "      <td>510.0</td>\n",
       "    </tr>\n",
       "    <tr>\n",
       "      <th>3</th>\n",
       "      <td>4</td>\n",
       "      <td>490</td>\n",
       "      <td>490.0</td>\n",
       "    </tr>\n",
       "    <tr>\n",
       "      <th>4</th>\n",
       "      <td>5</td>\n",
       "      <td>515</td>\n",
       "      <td>515.0</td>\n",
       "    </tr>\n",
       "    <tr>\n",
       "      <th>5</th>\n",
       "      <td>6</td>\n",
       "      <td>8000</td>\n",
       "      <td>547.5</td>\n",
       "    </tr>\n",
       "    <tr>\n",
       "      <th>6</th>\n",
       "      <td>7</td>\n",
       "      <td>495</td>\n",
       "      <td>495.0</td>\n",
       "    </tr>\n",
       "  </tbody>\n",
       "</table>\n",
       "</div>"
      ],
      "text/plain": [
       "   CustomerID  PurchaseAmount  PurchaseAmount_\n",
       "0           1             500            500.0\n",
       "1           2             520            520.0\n",
       "2           3             510            510.0\n",
       "3           4             490            490.0\n",
       "4           5             515            515.0\n",
       "5           6            8000            547.5\n",
       "6           7             495            495.0"
      ]
     },
     "execution_count": 12,
     "metadata": {},
     "output_type": "execute_result"
    }
   ],
   "source": [
    "df"
   ]
  },
  {
   "cell_type": "code",
   "execution_count": 28,
   "id": "b72cadce",
   "metadata": {},
   "outputs": [],
   "source": [
    "df['PurchaseAmountCopy1'] = df['PurchaseAmount'].copy()"
   ]
  },
  {
   "cell_type": "code",
   "execution_count": 29,
   "id": "4dca91c0",
   "metadata": {},
   "outputs": [
    {
     "data": {
      "text/html": [
       "<div>\n",
       "<style scoped>\n",
       "    .dataframe tbody tr th:only-of-type {\n",
       "        vertical-align: middle;\n",
       "    }\n",
       "\n",
       "    .dataframe tbody tr th {\n",
       "        vertical-align: top;\n",
       "    }\n",
       "\n",
       "    .dataframe thead th {\n",
       "        text-align: right;\n",
       "    }\n",
       "</style>\n",
       "<table border=\"1\" class=\"dataframe\">\n",
       "  <thead>\n",
       "    <tr style=\"text-align: right;\">\n",
       "      <th></th>\n",
       "      <th>CustomerID</th>\n",
       "      <th>PurchaseAmount</th>\n",
       "      <th>PurchaseAmount_</th>\n",
       "      <th>PurchaseAmountCopy1</th>\n",
       "    </tr>\n",
       "  </thead>\n",
       "  <tbody>\n",
       "    <tr>\n",
       "      <th>0</th>\n",
       "      <td>1</td>\n",
       "      <td>500</td>\n",
       "      <td>500.0</td>\n",
       "      <td>500</td>\n",
       "    </tr>\n",
       "    <tr>\n",
       "      <th>1</th>\n",
       "      <td>2</td>\n",
       "      <td>520</td>\n",
       "      <td>520.0</td>\n",
       "      <td>520</td>\n",
       "    </tr>\n",
       "    <tr>\n",
       "      <th>2</th>\n",
       "      <td>3</td>\n",
       "      <td>510</td>\n",
       "      <td>510.0</td>\n",
       "      <td>510</td>\n",
       "    </tr>\n",
       "    <tr>\n",
       "      <th>3</th>\n",
       "      <td>4</td>\n",
       "      <td>490</td>\n",
       "      <td>490.0</td>\n",
       "      <td>490</td>\n",
       "    </tr>\n",
       "    <tr>\n",
       "      <th>4</th>\n",
       "      <td>5</td>\n",
       "      <td>515</td>\n",
       "      <td>515.0</td>\n",
       "      <td>515</td>\n",
       "    </tr>\n",
       "    <tr>\n",
       "      <th>5</th>\n",
       "      <td>6</td>\n",
       "      <td>8000</td>\n",
       "      <td>547.5</td>\n",
       "      <td>1575</td>\n",
       "    </tr>\n",
       "    <tr>\n",
       "      <th>6</th>\n",
       "      <td>7</td>\n",
       "      <td>495</td>\n",
       "      <td>495.0</td>\n",
       "      <td>495</td>\n",
       "    </tr>\n",
       "  </tbody>\n",
       "</table>\n",
       "</div>"
      ],
      "text/plain": [
       "   CustomerID  PurchaseAmount  PurchaseAmount_  PurchaseAmountCopy1\n",
       "0           1             500            500.0                  500\n",
       "1           2             520            520.0                  520\n",
       "2           3             510            510.0                  510\n",
       "3           4             490            490.0                  490\n",
       "4           5             515            515.0                  515\n",
       "5           6            8000            547.5                 1575\n",
       "6           7             495            495.0                  495"
      ]
     },
     "execution_count": 29,
     "metadata": {},
     "output_type": "execute_result"
    }
   ],
   "source": [
    "outliers = (df['PurchaseAmountCopy1'] > upper_bound) | (df['PurchaseAmountCopy1'] < lower_bound)\n",
    "df.loc[outliers, 'PurchaseAmountCopy1'] = df['PurchaseAmountCopy1'].mean().astype(int)\n",
    "\n",
    "df"
   ]
  },
  {
   "cell_type": "markdown",
   "id": "975ef827",
   "metadata": {},
   "source": [
    "#### ✅ Use Case:\n",
    "\n",
    "In **sensor readings**, replace outlier spikes with median value to maintain continuity.\n",
    "\n",
    "🔹 *Why?*\n",
    "Preserves record while **smoothing out extremes**."
   ]
  },
  {
   "cell_type": "markdown",
   "id": "4f5cc979",
   "metadata": {},
   "source": [
    "### 🔸 **4. Flag Outliers for Modeling**"
   ]
  },
  {
   "cell_type": "code",
   "execution_count": 31,
   "id": "ecd35215",
   "metadata": {},
   "outputs": [
    {
     "data": {
      "text/html": [
       "<div>\n",
       "<style scoped>\n",
       "    .dataframe tbody tr th:only-of-type {\n",
       "        vertical-align: middle;\n",
       "    }\n",
       "\n",
       "    .dataframe tbody tr th {\n",
       "        vertical-align: top;\n",
       "    }\n",
       "\n",
       "    .dataframe thead th {\n",
       "        text-align: right;\n",
       "    }\n",
       "</style>\n",
       "<table border=\"1\" class=\"dataframe\">\n",
       "  <thead>\n",
       "    <tr style=\"text-align: right;\">\n",
       "      <th></th>\n",
       "      <th>CustomerID</th>\n",
       "      <th>PurchaseAmount</th>\n",
       "      <th>PurchaseAmount_</th>\n",
       "      <th>PurchaseAmountCopy1</th>\n",
       "      <th>is_outlier</th>\n",
       "    </tr>\n",
       "  </thead>\n",
       "  <tbody>\n",
       "    <tr>\n",
       "      <th>0</th>\n",
       "      <td>1</td>\n",
       "      <td>500</td>\n",
       "      <td>500.0</td>\n",
       "      <td>500</td>\n",
       "      <td>0</td>\n",
       "    </tr>\n",
       "    <tr>\n",
       "      <th>1</th>\n",
       "      <td>2</td>\n",
       "      <td>520</td>\n",
       "      <td>520.0</td>\n",
       "      <td>520</td>\n",
       "      <td>0</td>\n",
       "    </tr>\n",
       "    <tr>\n",
       "      <th>2</th>\n",
       "      <td>3</td>\n",
       "      <td>510</td>\n",
       "      <td>510.0</td>\n",
       "      <td>510</td>\n",
       "      <td>0</td>\n",
       "    </tr>\n",
       "    <tr>\n",
       "      <th>3</th>\n",
       "      <td>4</td>\n",
       "      <td>490</td>\n",
       "      <td>490.0</td>\n",
       "      <td>490</td>\n",
       "      <td>0</td>\n",
       "    </tr>\n",
       "    <tr>\n",
       "      <th>4</th>\n",
       "      <td>5</td>\n",
       "      <td>515</td>\n",
       "      <td>515.0</td>\n",
       "      <td>515</td>\n",
       "      <td>0</td>\n",
       "    </tr>\n",
       "    <tr>\n",
       "      <th>5</th>\n",
       "      <td>6</td>\n",
       "      <td>8000</td>\n",
       "      <td>547.5</td>\n",
       "      <td>1575</td>\n",
       "      <td>1</td>\n",
       "    </tr>\n",
       "    <tr>\n",
       "      <th>6</th>\n",
       "      <td>7</td>\n",
       "      <td>495</td>\n",
       "      <td>495.0</td>\n",
       "      <td>495</td>\n",
       "      <td>0</td>\n",
       "    </tr>\n",
       "  </tbody>\n",
       "</table>\n",
       "</div>"
      ],
      "text/plain": [
       "   CustomerID  PurchaseAmount  PurchaseAmount_  PurchaseAmountCopy1  \\\n",
       "0           1             500            500.0                  500   \n",
       "1           2             520            520.0                  520   \n",
       "2           3             510            510.0                  510   \n",
       "3           4             490            490.0                  490   \n",
       "4           5             515            515.0                  515   \n",
       "5           6            8000            547.5                 1575   \n",
       "6           7             495            495.0                  495   \n",
       "\n",
       "   is_outlier  \n",
       "0           0  \n",
       "1           0  \n",
       "2           0  \n",
       "3           0  \n",
       "4           0  \n",
       "5           1  \n",
       "6           0  "
      ]
     },
     "execution_count": 31,
     "metadata": {},
     "output_type": "execute_result"
    }
   ],
   "source": [
    "df['is_outlier'] = ((df['PurchaseAmount'] < lower_bound) | (df['PurchaseAmount'] > upper_bound)).astype(int)\n",
    "\n",
    "df"
   ]
  },
  {
   "cell_type": "markdown",
   "id": "bc0a94eb",
   "metadata": {},
   "source": [
    "#### ✅ Use Case:\n",
    "\n",
    "In fraud detection, a transaction marked as outlier might still be a valid but **important signal**.\n",
    "\n",
    "🔹 *Why?*\n",
    "Preserves all data while allowing the model to **learn from anomalies**."
   ]
  },
  {
   "cell_type": "markdown",
   "id": "838a6ce5",
   "metadata": {},
   "source": [
    "### 🔸 **5. Use Domain Thresholds**"
   ]
  },
  {
   "cell_type": "code",
   "execution_count": 32,
   "id": "ff4d8db7",
   "metadata": {},
   "outputs": [
    {
     "data": {
      "text/html": [
       "<div>\n",
       "<style scoped>\n",
       "    .dataframe tbody tr th:only-of-type {\n",
       "        vertical-align: middle;\n",
       "    }\n",
       "\n",
       "    .dataframe tbody tr th {\n",
       "        vertical-align: top;\n",
       "    }\n",
       "\n",
       "    .dataframe thead th {\n",
       "        text-align: right;\n",
       "    }\n",
       "</style>\n",
       "<table border=\"1\" class=\"dataframe\">\n",
       "  <thead>\n",
       "    <tr style=\"text-align: right;\">\n",
       "      <th></th>\n",
       "      <th>CustomerID</th>\n",
       "      <th>PurchaseAmount</th>\n",
       "      <th>PurchaseAmount_</th>\n",
       "      <th>PurchaseAmountCopy1</th>\n",
       "      <th>is_outlier</th>\n",
       "    </tr>\n",
       "  </thead>\n",
       "  <tbody>\n",
       "    <tr>\n",
       "      <th>0</th>\n",
       "      <td>1</td>\n",
       "      <td>500</td>\n",
       "      <td>500.0</td>\n",
       "      <td>500</td>\n",
       "      <td>0</td>\n",
       "    </tr>\n",
       "    <tr>\n",
       "      <th>1</th>\n",
       "      <td>2</td>\n",
       "      <td>520</td>\n",
       "      <td>520.0</td>\n",
       "      <td>520</td>\n",
       "      <td>0</td>\n",
       "    </tr>\n",
       "    <tr>\n",
       "      <th>2</th>\n",
       "      <td>3</td>\n",
       "      <td>510</td>\n",
       "      <td>510.0</td>\n",
       "      <td>510</td>\n",
       "      <td>0</td>\n",
       "    </tr>\n",
       "    <tr>\n",
       "      <th>3</th>\n",
       "      <td>4</td>\n",
       "      <td>490</td>\n",
       "      <td>490.0</td>\n",
       "      <td>490</td>\n",
       "      <td>0</td>\n",
       "    </tr>\n",
       "    <tr>\n",
       "      <th>4</th>\n",
       "      <td>5</td>\n",
       "      <td>515</td>\n",
       "      <td>515.0</td>\n",
       "      <td>515</td>\n",
       "      <td>0</td>\n",
       "    </tr>\n",
       "    <tr>\n",
       "      <th>5</th>\n",
       "      <td>6</td>\n",
       "      <td>8000</td>\n",
       "      <td>547.5</td>\n",
       "      <td>1575</td>\n",
       "      <td>1</td>\n",
       "    </tr>\n",
       "    <tr>\n",
       "      <th>6</th>\n",
       "      <td>7</td>\n",
       "      <td>495</td>\n",
       "      <td>495.0</td>\n",
       "      <td>495</td>\n",
       "      <td>0</td>\n",
       "    </tr>\n",
       "  </tbody>\n",
       "</table>\n",
       "</div>"
      ],
      "text/plain": [
       "   CustomerID  PurchaseAmount  PurchaseAmount_  PurchaseAmountCopy1  \\\n",
       "0           1             500            500.0                  500   \n",
       "1           2             520            520.0                  520   \n",
       "2           3             510            510.0                  510   \n",
       "3           4             490            490.0                  490   \n",
       "4           5             515            515.0                  515   \n",
       "5           6            8000            547.5                 1575   \n",
       "6           7             495            495.0                  495   \n",
       "\n",
       "   is_outlier  \n",
       "0           0  \n",
       "1           0  \n",
       "2           0  \n",
       "3           0  \n",
       "4           0  \n",
       "5           1  \n",
       "6           0  "
      ]
     },
     "execution_count": 32,
     "metadata": {},
     "output_type": "execute_result"
    }
   ],
   "source": [
    "df[df['PurchaseAmount'] <= 10000]  # based on business rule"
   ]
  },
  {
   "cell_type": "markdown",
   "id": "d919e041",
   "metadata": {},
   "source": [
    "#### ✅ Use Case:\n",
    "\n",
    "In healthcare, heart rate > 200 BPM is **clinically impossible** — remove based on domain knowledge.\n",
    "\n",
    "🔹 *Why?*\n",
    "Most reliable when domain **rules are known**."
   ]
  },
  {
   "cell_type": "markdown",
   "id": "b8d3e252",
   "metadata": {},
   "source": [
    "## 📌 Summary Table\n",
    "\n",
    "| Technique           | When to Use                  | Real-World Example                       |\n",
    "| ------------------- | ---------------------------- | ---------------------------------------- |\n",
    "| `describe()`        | Get a feel for min/max/mean  | Spot unusually high sales                |\n",
    "| Z-score             | Normal data, large dataset   | Flag customers with 3+ std dev purchases |\n",
    "| IQR                 | Skewed data or small dataset | Remove top 1% transactions               |\n",
    "| `boxplot()`         | Visual spotting              | Compare outliers across regions          |\n",
    "| Remove              | Model training, entry errors | Drop age=999 or income=0                 |\n",
    "| Cap / Clip          | Keep values in range         | Winsorize salary data                    |\n",
    "| Replace with Median | Maintain continuity          | Smooth sensor spikes                     |\n",
    "| Flag as Outlier     | Model can learn the signal   | Fraud prediction                         |\n",
    "| Domain Rules        | Based on expertise           | Max heart rate ≤ 220 - age               |\n"
   ]
  },
  {
   "cell_type": "markdown",
   "id": "4171f9b3",
   "metadata": {},
   "source": [
    "### 🧠 Best Practices\n",
    "\n",
    "* Never treat outliers blindly — **understand the business meaning first**.\n",
    "* Always **visualize** before removing or capping.\n",
    "* In modeling pipelines, **prefer flagging** over removing when unsure.\n",
    "* Use `IQR` or **domain rules** if data is skewed.\n"
   ]
  },
  {
   "cell_type": "markdown",
   "id": "af77eeee",
   "metadata": {},
   "source": [
    "<center><b>Thanks</b></center>"
   ]
  }
 ],
 "metadata": {
  "kernelspec": {
   "display_name": "Python 3",
   "language": "python",
   "name": "python3"
  },
  "language_info": {
   "codemirror_mode": {
    "name": "ipython",
    "version": 3
   },
   "file_extension": ".py",
   "mimetype": "text/x-python",
   "name": "python",
   "nbconvert_exporter": "python",
   "pygments_lexer": "ipython3",
   "version": "3.10.2"
  }
 },
 "nbformat": 4,
 "nbformat_minor": 5
}
