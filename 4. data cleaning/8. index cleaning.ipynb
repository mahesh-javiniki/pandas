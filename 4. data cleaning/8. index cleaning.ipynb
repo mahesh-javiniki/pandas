{
 "cells": [
  {
   "cell_type": "markdown",
   "id": "94a1660f",
   "metadata": {},
   "source": [
    "# **Data Cleaning**"
   ]
  },
  {
   "cell_type": "markdown",
   "id": "569735be",
   "metadata": {},
   "source": [
    "## **8. Index Cleaning**"
   ]
  },
  {
   "cell_type": "code",
   "execution_count": 2,
   "id": "dadb08a8",
   "metadata": {},
   "outputs": [],
   "source": [
    "import numpy as np\n",
    "import pandas as pd "
   ]
  },
  {
   "cell_type": "markdown",
   "id": "cfdef5ca",
   "metadata": {},
   "source": [
    "## ✅ What is Index Cleaning?\n",
    "\n",
    "In pandas, the **index** is like a unique identifier (row label) for each row. A clean and properly structured index is important for:\n",
    "\n",
    "* Easy row access and slicing\n",
    "* Avoiding data mismatches or misalignments\n",
    "* Maintaining data integrity during merges, joins, or reshaping\n",
    "\n",
    "Index cleaning involves resetting, setting, renaming, validating, and removing redundant or poorly structured index values."
   ]
  },
  {
   "cell_type": "code",
   "execution_count": 6,
   "id": "30922fc8",
   "metadata": {},
   "outputs": [
    {
     "data": {
      "text/html": [
       "<div>\n",
       "<style scoped>\n",
       "    .dataframe tbody tr th:only-of-type {\n",
       "        vertical-align: middle;\n",
       "    }\n",
       "\n",
       "    .dataframe tbody tr th {\n",
       "        vertical-align: top;\n",
       "    }\n",
       "\n",
       "    .dataframe thead th {\n",
       "        text-align: right;\n",
       "    }\n",
       "</style>\n",
       "<table border=\"1\" class=\"dataframe\">\n",
       "  <thead>\n",
       "    <tr style=\"text-align: right;\">\n",
       "      <th></th>\n",
       "      <th>date</th>\n",
       "      <th>sales</th>\n",
       "    </tr>\n",
       "  </thead>\n",
       "  <tbody>\n",
       "    <tr>\n",
       "      <th>0</th>\n",
       "      <td>2023-01-01</td>\n",
       "      <td>200</td>\n",
       "    </tr>\n",
       "    <tr>\n",
       "      <th>1</th>\n",
       "      <td>2023-01-02</td>\n",
       "      <td>300</td>\n",
       "    </tr>\n",
       "    <tr>\n",
       "      <th>2</th>\n",
       "      <td>2023-01-03</td>\n",
       "      <td>400</td>\n",
       "    </tr>\n",
       "  </tbody>\n",
       "</table>\n",
       "</div>"
      ],
      "text/plain": [
       "        date  sales\n",
       "0 2023-01-01    200\n",
       "1 2023-01-02    300\n",
       "2 2023-01-03    400"
      ]
     },
     "execution_count": 6,
     "metadata": {},
     "output_type": "execute_result"
    }
   ],
   "source": [
    "df = pd.DataFrame({\n",
    "    'date': pd.date_range('2023-01-01', periods=3),\n",
    "    'sales': [200, 300, 400]\n",
    "})\n",
    "\n",
    "df"
   ]
  },
  {
   "cell_type": "markdown",
   "id": "94a5d5c0",
   "metadata": {},
   "source": [
    "### 🔹 1. `set_index()` – Set a Column as Index\n",
    "\n",
    "#### ➤ **Purpose**:\n",
    "\n",
    "Assign one or more columns as a meaningful index (e.g., Date, ID, etc.).\n",
    "\n",
    "#### ➤ **Syntax**:\n",
    "\n",
    "```python\n",
    "df.set_index('column_name', inplace=True)\n",
    "```\n",
    "\n",
    "#### ➤ **Use Case**:\n",
    "\n",
    "Time-series analysis, uniquely identifying rows, logical grouping."
   ]
  },
  {
   "cell_type": "code",
   "execution_count": 7,
   "id": "9dd18567",
   "metadata": {},
   "outputs": [
    {
     "data": {
      "text/html": [
       "<div>\n",
       "<style scoped>\n",
       "    .dataframe tbody tr th:only-of-type {\n",
       "        vertical-align: middle;\n",
       "    }\n",
       "\n",
       "    .dataframe tbody tr th {\n",
       "        vertical-align: top;\n",
       "    }\n",
       "\n",
       "    .dataframe thead th {\n",
       "        text-align: right;\n",
       "    }\n",
       "</style>\n",
       "<table border=\"1\" class=\"dataframe\">\n",
       "  <thead>\n",
       "    <tr style=\"text-align: right;\">\n",
       "      <th></th>\n",
       "      <th>date</th>\n",
       "      <th>sales</th>\n",
       "    </tr>\n",
       "  </thead>\n",
       "  <tbody>\n",
       "    <tr>\n",
       "      <th>0</th>\n",
       "      <td>2023-01-01</td>\n",
       "      <td>200</td>\n",
       "    </tr>\n",
       "    <tr>\n",
       "      <th>1</th>\n",
       "      <td>2023-01-02</td>\n",
       "      <td>300</td>\n",
       "    </tr>\n",
       "    <tr>\n",
       "      <th>2</th>\n",
       "      <td>2023-01-03</td>\n",
       "      <td>400</td>\n",
       "    </tr>\n",
       "  </tbody>\n",
       "</table>\n",
       "</div>"
      ],
      "text/plain": [
       "        date  sales\n",
       "0 2023-01-01    200\n",
       "1 2023-01-02    300\n",
       "2 2023-01-03    400"
      ]
     },
     "execution_count": 7,
     "metadata": {},
     "output_type": "execute_result"
    }
   ],
   "source": [
    "df"
   ]
  },
  {
   "cell_type": "code",
   "execution_count": 9,
   "id": "dcc959a4",
   "metadata": {},
   "outputs": [
    {
     "data": {
      "text/html": [
       "<div>\n",
       "<style scoped>\n",
       "    .dataframe tbody tr th:only-of-type {\n",
       "        vertical-align: middle;\n",
       "    }\n",
       "\n",
       "    .dataframe tbody tr th {\n",
       "        vertical-align: top;\n",
       "    }\n",
       "\n",
       "    .dataframe thead th {\n",
       "        text-align: right;\n",
       "    }\n",
       "</style>\n",
       "<table border=\"1\" class=\"dataframe\">\n",
       "  <thead>\n",
       "    <tr style=\"text-align: right;\">\n",
       "      <th></th>\n",
       "      <th>sales</th>\n",
       "    </tr>\n",
       "    <tr>\n",
       "      <th>date</th>\n",
       "      <th></th>\n",
       "    </tr>\n",
       "  </thead>\n",
       "  <tbody>\n",
       "    <tr>\n",
       "      <th>2023-01-01</th>\n",
       "      <td>200</td>\n",
       "    </tr>\n",
       "    <tr>\n",
       "      <th>2023-01-02</th>\n",
       "      <td>300</td>\n",
       "    </tr>\n",
       "    <tr>\n",
       "      <th>2023-01-03</th>\n",
       "      <td>400</td>\n",
       "    </tr>\n",
       "  </tbody>\n",
       "</table>\n",
       "</div>"
      ],
      "text/plain": [
       "            sales\n",
       "date             \n",
       "2023-01-01    200\n",
       "2023-01-02    300\n",
       "2023-01-03    400"
      ]
     },
     "execution_count": 9,
     "metadata": {},
     "output_type": "execute_result"
    }
   ],
   "source": [
    "df.set_index('date', inplace=True)\n",
    "df"
   ]
  },
  {
   "cell_type": "markdown",
   "id": "0839d38f",
   "metadata": {},
   "source": [
    "#### ✅ **Why**:\n",
    "\n",
    "Indexing by time allows efficient slicing using time filters like:"
   ]
  },
  {
   "cell_type": "code",
   "execution_count": 11,
   "id": "8310fc59",
   "metadata": {},
   "outputs": [
    {
     "data": {
      "text/html": [
       "<div>\n",
       "<style scoped>\n",
       "    .dataframe tbody tr th:only-of-type {\n",
       "        vertical-align: middle;\n",
       "    }\n",
       "\n",
       "    .dataframe tbody tr th {\n",
       "        vertical-align: top;\n",
       "    }\n",
       "\n",
       "    .dataframe thead th {\n",
       "        text-align: right;\n",
       "    }\n",
       "</style>\n",
       "<table border=\"1\" class=\"dataframe\">\n",
       "  <thead>\n",
       "    <tr style=\"text-align: right;\">\n",
       "      <th></th>\n",
       "      <th>sales</th>\n",
       "    </tr>\n",
       "    <tr>\n",
       "      <th>date</th>\n",
       "      <th></th>\n",
       "    </tr>\n",
       "  </thead>\n",
       "  <tbody>\n",
       "    <tr>\n",
       "      <th>2023-01-01</th>\n",
       "      <td>200</td>\n",
       "    </tr>\n",
       "    <tr>\n",
       "      <th>2023-01-02</th>\n",
       "      <td>300</td>\n",
       "    </tr>\n",
       "    <tr>\n",
       "      <th>2023-01-03</th>\n",
       "      <td>400</td>\n",
       "    </tr>\n",
       "  </tbody>\n",
       "</table>\n",
       "</div>"
      ],
      "text/plain": [
       "            sales\n",
       "date             \n",
       "2023-01-01    200\n",
       "2023-01-02    300\n",
       "2023-01-03    400"
      ]
     },
     "execution_count": 11,
     "metadata": {},
     "output_type": "execute_result"
    }
   ],
   "source": [
    "df.loc['2023-01']"
   ]
  },
  {
   "cell_type": "markdown",
   "id": "a20699a8",
   "metadata": {},
   "source": [
    "### 🔹 2. `reset_index()` – Reset to Default Integer Index\n",
    "\n",
    "#### ➤ **Purpose**:\n",
    "\n",
    "Remove custom index and revert to default integer index (`0,1,2,...`).\n",
    "\n",
    "#### ➤ **Syntax**:\n",
    "\n",
    "```python\n",
    "df.reset_index(drop=False, inplace=True)\n",
    "```\n",
    "\n",
    "* `drop=True`: Removes the index column from the data.\n",
    "* `drop=False`: Moves index back to a column.\n",
    "\n",
    "#### ➤ **Use Case**:\n",
    "\n",
    "After grouping or when a custom index becomes unnecessary."
   ]
  },
  {
   "cell_type": "code",
   "execution_count": 12,
   "id": "f3262dd8",
   "metadata": {},
   "outputs": [
    {
     "data": {
      "text/html": [
       "<div>\n",
       "<style scoped>\n",
       "    .dataframe tbody tr th:only-of-type {\n",
       "        vertical-align: middle;\n",
       "    }\n",
       "\n",
       "    .dataframe tbody tr th {\n",
       "        vertical-align: top;\n",
       "    }\n",
       "\n",
       "    .dataframe thead th {\n",
       "        text-align: right;\n",
       "    }\n",
       "</style>\n",
       "<table border=\"1\" class=\"dataframe\">\n",
       "  <thead>\n",
       "    <tr style=\"text-align: right;\">\n",
       "      <th></th>\n",
       "      <th>date</th>\n",
       "      <th>sales</th>\n",
       "    </tr>\n",
       "  </thead>\n",
       "  <tbody>\n",
       "    <tr>\n",
       "      <th>0</th>\n",
       "      <td>2023-01-01</td>\n",
       "      <td>200</td>\n",
       "    </tr>\n",
       "    <tr>\n",
       "      <th>1</th>\n",
       "      <td>2023-01-02</td>\n",
       "      <td>300</td>\n",
       "    </tr>\n",
       "    <tr>\n",
       "      <th>2</th>\n",
       "      <td>2023-01-03</td>\n",
       "      <td>400</td>\n",
       "    </tr>\n",
       "  </tbody>\n",
       "</table>\n",
       "</div>"
      ],
      "text/plain": [
       "        date  sales\n",
       "0 2023-01-01    200\n",
       "1 2023-01-02    300\n",
       "2 2023-01-03    400"
      ]
     },
     "execution_count": 12,
     "metadata": {},
     "output_type": "execute_result"
    }
   ],
   "source": [
    "df.reset_index(inplace=True)\n",
    "df"
   ]
  },
  {
   "cell_type": "markdown",
   "id": "79f7834a",
   "metadata": {},
   "source": [
    "#### ✅ **Why**:\n",
    "\n",
    "Useful when exporting data or when the index is not meaningful anymore."
   ]
  },
  {
   "cell_type": "markdown",
   "id": "7dcf483e",
   "metadata": {},
   "source": [
    "### 🔹 3. `rename_axis()` – Rename Index/Column Axis Name\n",
    "\n",
    "#### ➤ **Purpose**:\n",
    "\n",
    "Give a name (label) to the index or column axis.\n",
    "\n",
    "#### ➤ **Syntax**:\n",
    "\n",
    "```python\n",
    "df.rename_axis('IndexName', axis='index', inplace=True)\n",
    "```\n",
    "\n",
    "#### ➤ **Use Case**:\n",
    "\n",
    "When the index represents something meaningful (like 'City' or 'Date') and we want to label it."
   ]
  },
  {
   "cell_type": "code",
   "execution_count": 13,
   "id": "45476688",
   "metadata": {},
   "outputs": [
    {
     "data": {
      "text/html": [
       "<div>\n",
       "<style scoped>\n",
       "    .dataframe tbody tr th:only-of-type {\n",
       "        vertical-align: middle;\n",
       "    }\n",
       "\n",
       "    .dataframe tbody tr th {\n",
       "        vertical-align: top;\n",
       "    }\n",
       "\n",
       "    .dataframe thead th {\n",
       "        text-align: right;\n",
       "    }\n",
       "</style>\n",
       "<table border=\"1\" class=\"dataframe\">\n",
       "  <thead>\n",
       "    <tr style=\"text-align: right;\">\n",
       "      <th></th>\n",
       "      <th>value</th>\n",
       "    </tr>\n",
       "  </thead>\n",
       "  <tbody>\n",
       "    <tr>\n",
       "      <th>A</th>\n",
       "      <td>10</td>\n",
       "    </tr>\n",
       "    <tr>\n",
       "      <th>B</th>\n",
       "      <td>20</td>\n",
       "    </tr>\n",
       "    <tr>\n",
       "      <th>C</th>\n",
       "      <td>30</td>\n",
       "    </tr>\n",
       "  </tbody>\n",
       "</table>\n",
       "</div>"
      ],
      "text/plain": [
       "   value\n",
       "A     10\n",
       "B     20\n",
       "C     30"
      ]
     },
     "execution_count": 13,
     "metadata": {},
     "output_type": "execute_result"
    }
   ],
   "source": [
    "df = pd.DataFrame({'value': [10, 20, 30]}, index=['A', 'B', 'C'])\n",
    "\n",
    "df"
   ]
  },
  {
   "cell_type": "code",
   "execution_count": 14,
   "id": "4107feb0",
   "metadata": {},
   "outputs": [
    {
     "data": {
      "text/html": [
       "<div>\n",
       "<style scoped>\n",
       "    .dataframe tbody tr th:only-of-type {\n",
       "        vertical-align: middle;\n",
       "    }\n",
       "\n",
       "    .dataframe tbody tr th {\n",
       "        vertical-align: top;\n",
       "    }\n",
       "\n",
       "    .dataframe thead th {\n",
       "        text-align: right;\n",
       "    }\n",
       "</style>\n",
       "<table border=\"1\" class=\"dataframe\">\n",
       "  <thead>\n",
       "    <tr style=\"text-align: right;\">\n",
       "      <th></th>\n",
       "      <th>value</th>\n",
       "    </tr>\n",
       "    <tr>\n",
       "      <th>Categories</th>\n",
       "      <th></th>\n",
       "    </tr>\n",
       "  </thead>\n",
       "  <tbody>\n",
       "    <tr>\n",
       "      <th>A</th>\n",
       "      <td>10</td>\n",
       "    </tr>\n",
       "    <tr>\n",
       "      <th>B</th>\n",
       "      <td>20</td>\n",
       "    </tr>\n",
       "    <tr>\n",
       "      <th>C</th>\n",
       "      <td>30</td>\n",
       "    </tr>\n",
       "  </tbody>\n",
       "</table>\n",
       "</div>"
      ],
      "text/plain": [
       "            value\n",
       "Categories       \n",
       "A              10\n",
       "B              20\n",
       "C              30"
      ]
     },
     "execution_count": 14,
     "metadata": {},
     "output_type": "execute_result"
    }
   ],
   "source": [
    "df.rename_axis('Categories')"
   ]
  },
  {
   "cell_type": "markdown",
   "id": "ec4184f3",
   "metadata": {},
   "source": [
    "#### ✅ **Why**:\n",
    "\n",
    "Helpful when exporting data (CSV/Excel) for clarity."
   ]
  },
  {
   "cell_type": "markdown",
   "id": "7ef50c3a",
   "metadata": {},
   "source": [
    "### 🔹 4. Removing Redundant Index Columns\n",
    "\n",
    "#### ➤ Problem:\n",
    "\n",
    "Sometimes you get extra \"Unnamed: 0\" columns when importing CSVs due to saved index.\n",
    "\n",
    "#### ✅ **Fix**:\n",
    "\n",
    "```python\n",
    "df = pd.read_csv('file.csv', index_col=0)\n",
    "# OR drop that column:\n",
    "df.drop(columns='Unnamed: 0', inplace=True)\n",
    "```\n",
    "\n",
    "#### ✅ **Why**:\n",
    "\n",
    "Prevents unnecessary confusion and clutter in datasets.\n"
   ]
  },
  {
   "cell_type": "markdown",
   "id": "bf0b66c8",
   "metadata": {},
   "source": [
    "### 🔹 5. `sort_index()` – Sort the Index\n",
    "\n",
    "#### ➤ **Purpose**:\n",
    "\n",
    "Sort rows based on the index values.\n"
   ]
  },
  {
   "cell_type": "code",
   "execution_count": 17,
   "id": "1447d47a",
   "metadata": {},
   "outputs": [
    {
     "data": {
      "text/html": [
       "<div>\n",
       "<style scoped>\n",
       "    .dataframe tbody tr th:only-of-type {\n",
       "        vertical-align: middle;\n",
       "    }\n",
       "\n",
       "    .dataframe tbody tr th {\n",
       "        vertical-align: top;\n",
       "    }\n",
       "\n",
       "    .dataframe thead th {\n",
       "        text-align: right;\n",
       "    }\n",
       "</style>\n",
       "<table border=\"1\" class=\"dataframe\">\n",
       "  <thead>\n",
       "    <tr style=\"text-align: right;\">\n",
       "      <th></th>\n",
       "      <th>value</th>\n",
       "    </tr>\n",
       "  </thead>\n",
       "  <tbody>\n",
       "    <tr>\n",
       "      <th>A</th>\n",
       "      <td>10</td>\n",
       "    </tr>\n",
       "    <tr>\n",
       "      <th>B</th>\n",
       "      <td>20</td>\n",
       "    </tr>\n",
       "    <tr>\n",
       "      <th>C</th>\n",
       "      <td>30</td>\n",
       "    </tr>\n",
       "  </tbody>\n",
       "</table>\n",
       "</div>"
      ],
      "text/plain": [
       "   value\n",
       "A     10\n",
       "B     20\n",
       "C     30"
      ]
     },
     "execution_count": 17,
     "metadata": {},
     "output_type": "execute_result"
    }
   ],
   "source": [
    "df"
   ]
  },
  {
   "cell_type": "code",
   "execution_count": 20,
   "id": "c22a1c46",
   "metadata": {},
   "outputs": [
    {
     "data": {
      "text/html": [
       "<div>\n",
       "<style scoped>\n",
       "    .dataframe tbody tr th:only-of-type {\n",
       "        vertical-align: middle;\n",
       "    }\n",
       "\n",
       "    .dataframe tbody tr th {\n",
       "        vertical-align: top;\n",
       "    }\n",
       "\n",
       "    .dataframe thead th {\n",
       "        text-align: right;\n",
       "    }\n",
       "</style>\n",
       "<table border=\"1\" class=\"dataframe\">\n",
       "  <thead>\n",
       "    <tr style=\"text-align: right;\">\n",
       "      <th></th>\n",
       "      <th>value</th>\n",
       "    </tr>\n",
       "  </thead>\n",
       "  <tbody>\n",
       "    <tr>\n",
       "      <th>C</th>\n",
       "      <td>30</td>\n",
       "    </tr>\n",
       "    <tr>\n",
       "      <th>B</th>\n",
       "      <td>20</td>\n",
       "    </tr>\n",
       "    <tr>\n",
       "      <th>A</th>\n",
       "      <td>10</td>\n",
       "    </tr>\n",
       "  </tbody>\n",
       "</table>\n",
       "</div>"
      ],
      "text/plain": [
       "   value\n",
       "C     30\n",
       "B     20\n",
       "A     10"
      ]
     },
     "execution_count": 20,
     "metadata": {},
     "output_type": "execute_result"
    }
   ],
   "source": [
    "df.sort_index(ascending=False, inplace=True)\n",
    "df"
   ]
  },
  {
   "cell_type": "markdown",
   "id": "6efaa541",
   "metadata": {},
   "source": [
    "\n",
    "#### ➤ Use Case:\n",
    "\n",
    "Useful in time-series data, reporting, and consistent row order."
   ]
  },
  {
   "cell_type": "markdown",
   "id": "7a340352",
   "metadata": {},
   "source": [
    "### 🔹 6. Validate Index Uniqueness"
   ]
  },
  {
   "cell_type": "code",
   "execution_count": 22,
   "id": "9bce3b99",
   "metadata": {},
   "outputs": [
    {
     "data": {
      "text/plain": [
       "True"
      ]
     },
     "execution_count": 22,
     "metadata": {},
     "output_type": "execute_result"
    }
   ],
   "source": [
    "df.index.is_unique # Returns True or False"
   ]
  },
  {
   "cell_type": "markdown",
   "id": "be1ee2d7",
   "metadata": {},
   "source": [
    "#### ➤ Use Case:\n",
    "\n",
    "Before setting an index or merging/joining based on index, ensure it’s unique to avoid unexpected behaviors."
   ]
  },
  {
   "cell_type": "markdown",
   "id": "b42ded44",
   "metadata": {},
   "source": [
    "### 🔹 7. Removing MultiIndex (Flatten Hierarchical Index)\n",
    "\n",
    "```python\n",
    "df.columns = ['_'.join(col).strip() if isinstance(col, tuple) else col for col in df.columns]\n",
    "```\n",
    "\n",
    "#### ➤ Use Case:\n",
    "\n",
    "After using `groupby().agg()` or pivoting, you often get MultiIndex columns. Flattening helps for export or analysis."
   ]
  },
  {
   "cell_type": "markdown",
   "id": "296e2c40",
   "metadata": {},
   "source": [
    "\n",
    "## ✅ Real-Time Scenarios\n",
    "\n",
    "| Use Case                                    | Method                       | Reason                                   |\n",
    "| ------------------------------------------- | ---------------------------- | ---------------------------------------- |\n",
    "| After `groupby()` you want a flat DataFrame | `reset_index()`              | Bring grouped keys back as columns       |\n",
    "| Time-series forecasting with dates          | `set_index('date')`          | Makes time slicing and plotting easy     |\n",
    "| Cleaning CSV import with unwanted index     | `drop(columns='Unnamed: 0')` | Avoid unnecessary columns                |\n",
    "| Assign readable index name                  | `rename_axis()`              | Helpful for documentation and export     |\n",
    "| Ensuring proper join keys                   | `df.index.is_unique`         | Avoids data duplication or loss in joins |\n"
   ]
  },
  {
   "cell_type": "markdown",
   "id": "881a251b",
   "metadata": {},
   "source": [
    "## 🔄 Summary Table\n",
    "\n",
    "| Task                         | Method                               |\n",
    "| ---------------------------- | ------------------------------------ |\n",
    "| Remove custom index          | `reset_index()`                      |\n",
    "| Set column as index          | `set_index()`                        |\n",
    "| Rename index label           | `rename_axis()`                      |\n",
    "| Drop auto-added index column | `drop(columns=...)`                  |\n",
    "| Sort rows by index           | `sort_index()`                       |\n",
    "| Check index uniqueness       | `df.index.is_unique`                 |\n",
    "| Flatten MultiIndex           | List comprehension over `df.columns` |\n"
   ]
  },
  {
   "cell_type": "markdown",
   "id": "3e97877f",
   "metadata": {},
   "source": [
    "<center><b>Thanks</b></center>"
   ]
  }
 ],
 "metadata": {
  "kernelspec": {
   "display_name": "Python 3",
   "language": "python",
   "name": "python3"
  },
  "language_info": {
   "codemirror_mode": {
    "name": "ipython",
    "version": 3
   },
   "file_extension": ".py",
   "mimetype": "text/x-python",
   "name": "python",
   "nbconvert_exporter": "python",
   "pygments_lexer": "ipython3",
   "version": "3.10.2"
  }
 },
 "nbformat": 4,
 "nbformat_minor": 5
}
