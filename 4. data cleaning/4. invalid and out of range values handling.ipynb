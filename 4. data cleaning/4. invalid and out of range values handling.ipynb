{
 "cells": [
  {
   "cell_type": "markdown",
   "id": "4b158082",
   "metadata": {},
   "source": [
    "# **Data Cleaning**"
   ]
  },
  {
   "cell_type": "markdown",
   "id": "638ad750",
   "metadata": {},
   "source": [
    "## **4. Handling Invalid / Out-of-Range Values**"
   ]
  },
  {
   "cell_type": "code",
   "execution_count": 17,
   "id": "4b4e8419",
   "metadata": {},
   "outputs": [],
   "source": [
    "import numpy as np\n",
    "import pandas as pd "
   ]
  },
  {
   "cell_type": "markdown",
   "id": "7a3dbe7b",
   "metadata": {},
   "source": [
    "This is a **critical part** of Data Cleaning because invalid values can:\n",
    "\n",
    "* Break your analytics or ML models,\n",
    "* Mislead business insights,\n",
    "* Indicate data corruption or poor validation.\n",
    "\n",
    "Let’s now go through this topic **comprehensively**, including techniques, real-world examples, and why to use each approach."
   ]
  },
  {
   "cell_type": "markdown",
   "id": "27e93c25",
   "metadata": {},
   "source": [
    "## 💡 What Are Invalid / Out-of-Range Values?\n",
    "\n",
    "These are values that are:\n",
    "\n",
    "* Outside of **logical or domain-specific boundaries**,\n",
    "* **Impossible** or **improbable** entries,\n",
    "* Wrong **data type** or **format** (e.g., string in numeric column)."
   ]
  },
  {
   "cell_type": "markdown",
   "id": "37087d65",
   "metadata": {},
   "source": [
    "### ✅ Real-World Examples\n",
    "\n",
    "| Domain      | Column          | Invalid Values Example            |\n",
    "| ----------- | --------------- | --------------------------------- |\n",
    "| Healthcare  | Age             | -5, 200                           |\n",
    "| Education   | Score (%)       | 101%, -10                         |\n",
    "| E-commerce  | Purchase Amount | ₹0 or ₹99999999                   |\n",
    "| Banking     | Account Opened  | \"32nd Feb\", \"N/A\"                 |\n",
    "| IoT/Sensors | Temperature     | 9999, -300°C (physics impossible) |\n"
   ]
  },
  {
   "cell_type": "markdown",
   "id": "60fc1a0e",
   "metadata": {},
   "source": [
    "## 🧰 Techniques for Handling Invalid / Out-of-Range Values"
   ]
  },
  {
   "cell_type": "code",
   "execution_count": 18,
   "id": "8faf2925",
   "metadata": {},
   "outputs": [
    {
     "data": {
      "text/html": [
       "<div>\n",
       "<style scoped>\n",
       "    .dataframe tbody tr th:only-of-type {\n",
       "        vertical-align: middle;\n",
       "    }\n",
       "\n",
       "    .dataframe tbody tr th {\n",
       "        vertical-align: top;\n",
       "    }\n",
       "\n",
       "    .dataframe thead th {\n",
       "        text-align: right;\n",
       "    }\n",
       "</style>\n",
       "<table border=\"1\" class=\"dataframe\">\n",
       "  <thead>\n",
       "    <tr style=\"text-align: right;\">\n",
       "      <th></th>\n",
       "      <th>CustomerID</th>\n",
       "      <th>Age</th>\n",
       "      <th>Score</th>\n",
       "    </tr>\n",
       "  </thead>\n",
       "  <tbody>\n",
       "    <tr>\n",
       "      <th>0</th>\n",
       "      <td>1</td>\n",
       "      <td>25.0</td>\n",
       "      <td>88</td>\n",
       "    </tr>\n",
       "    <tr>\n",
       "      <th>1</th>\n",
       "      <td>2</td>\n",
       "      <td>34.0</td>\n",
       "      <td>92</td>\n",
       "    </tr>\n",
       "    <tr>\n",
       "      <th>2</th>\n",
       "      <td>3</td>\n",
       "      <td>-1.0</td>\n",
       "      <td>105</td>\n",
       "    </tr>\n",
       "    <tr>\n",
       "      <th>3</th>\n",
       "      <td>4</td>\n",
       "      <td>120.0</td>\n",
       "      <td>-10</td>\n",
       "    </tr>\n",
       "    <tr>\n",
       "      <th>4</th>\n",
       "      <td>5</td>\n",
       "      <td>45.0</td>\n",
       "      <td>76</td>\n",
       "    </tr>\n",
       "    <tr>\n",
       "      <th>5</th>\n",
       "      <td>6</td>\n",
       "      <td>NaN</td>\n",
       "      <td>95</td>\n",
       "    </tr>\n",
       "  </tbody>\n",
       "</table>\n",
       "</div>"
      ],
      "text/plain": [
       "   CustomerID    Age  Score\n",
       "0           1   25.0     88\n",
       "1           2   34.0     92\n",
       "2           3   -1.0    105\n",
       "3           4  120.0    -10\n",
       "4           5   45.0     76\n",
       "5           6    NaN     95"
      ]
     },
     "execution_count": 18,
     "metadata": {},
     "output_type": "execute_result"
    }
   ],
   "source": [
    "df = pd.DataFrame({\n",
    "    'CustomerID': [1, 2, 3, 4, 5, 6],\n",
    "    'Age': [25, 34, -1, 120, 45, np.nan],\n",
    "    'Score': [88, 92, 105, -10, 76, 95]\n",
    "})\n",
    "\n",
    "df"
   ]
  },
  {
   "cell_type": "markdown",
   "id": "4f796339",
   "metadata": {},
   "source": [
    "### 🔹 1. **Detecting Invalid Values via Logical Checks**\n",
    "\n",
    "Use **logical conditions** to identify and flag invalid entries."
   ]
  },
  {
   "cell_type": "code",
   "execution_count": 19,
   "id": "4b0eaaa6",
   "metadata": {},
   "outputs": [
    {
     "data": {
      "text/html": [
       "<div>\n",
       "<style scoped>\n",
       "    .dataframe tbody tr th:only-of-type {\n",
       "        vertical-align: middle;\n",
       "    }\n",
       "\n",
       "    .dataframe tbody tr th {\n",
       "        vertical-align: top;\n",
       "    }\n",
       "\n",
       "    .dataframe thead th {\n",
       "        text-align: right;\n",
       "    }\n",
       "</style>\n",
       "<table border=\"1\" class=\"dataframe\">\n",
       "  <thead>\n",
       "    <tr style=\"text-align: right;\">\n",
       "      <th></th>\n",
       "      <th>CustomerID</th>\n",
       "      <th>Age</th>\n",
       "      <th>Score</th>\n",
       "    </tr>\n",
       "  </thead>\n",
       "  <tbody>\n",
       "    <tr>\n",
       "      <th>2</th>\n",
       "      <td>3</td>\n",
       "      <td>-1.0</td>\n",
       "      <td>105</td>\n",
       "    </tr>\n",
       "  </tbody>\n",
       "</table>\n",
       "</div>"
      ],
      "text/plain": [
       "   CustomerID  Age  Score\n",
       "2           3 -1.0    105"
      ]
     },
     "execution_count": 19,
     "metadata": {},
     "output_type": "execute_result"
    }
   ],
   "source": [
    "df[df['Age'] < 0] # Age can't be negative"
   ]
  },
  {
   "cell_type": "code",
   "execution_count": 20,
   "id": "9937929a",
   "metadata": {},
   "outputs": [
    {
     "data": {
      "text/html": [
       "<div>\n",
       "<style scoped>\n",
       "    .dataframe tbody tr th:only-of-type {\n",
       "        vertical-align: middle;\n",
       "    }\n",
       "\n",
       "    .dataframe tbody tr th {\n",
       "        vertical-align: top;\n",
       "    }\n",
       "\n",
       "    .dataframe thead th {\n",
       "        text-align: right;\n",
       "    }\n",
       "</style>\n",
       "<table border=\"1\" class=\"dataframe\">\n",
       "  <thead>\n",
       "    <tr style=\"text-align: right;\">\n",
       "      <th></th>\n",
       "      <th>CustomerID</th>\n",
       "      <th>Age</th>\n",
       "      <th>Score</th>\n",
       "    </tr>\n",
       "  </thead>\n",
       "  <tbody>\n",
       "    <tr>\n",
       "      <th>2</th>\n",
       "      <td>3</td>\n",
       "      <td>-1.0</td>\n",
       "      <td>105</td>\n",
       "    </tr>\n",
       "  </tbody>\n",
       "</table>\n",
       "</div>"
      ],
      "text/plain": [
       "   CustomerID  Age  Score\n",
       "2           3 -1.0    105"
      ]
     },
     "execution_count": 20,
     "metadata": {},
     "output_type": "execute_result"
    }
   ],
   "source": [
    "df[df['Score'] > 100] # Score > 100 is invalid"
   ]
  },
  {
   "cell_type": "markdown",
   "id": "40f2f3a3",
   "metadata": {},
   "source": [
    "#### ✅ Use Case:\n",
    "\n",
    "* Use in domains with **fixed limits** (e.g., age, temperature, percentages)\n",
    "\n",
    "🔹 *Why?*\n",
    "Fast, intuitive, and works well with **domain knowledge.**"
   ]
  },
  {
   "cell_type": "markdown",
   "id": "81119d17",
   "metadata": {},
   "source": [
    "### 🔹 2. **Using Boolean Masking for Range Checks**"
   ]
  },
  {
   "cell_type": "code",
   "execution_count": 21,
   "id": "5453194d",
   "metadata": {},
   "outputs": [
    {
     "data": {
      "text/html": [
       "<div>\n",
       "<style scoped>\n",
       "    .dataframe tbody tr th:only-of-type {\n",
       "        vertical-align: middle;\n",
       "    }\n",
       "\n",
       "    .dataframe tbody tr th {\n",
       "        vertical-align: top;\n",
       "    }\n",
       "\n",
       "    .dataframe thead th {\n",
       "        text-align: right;\n",
       "    }\n",
       "</style>\n",
       "<table border=\"1\" class=\"dataframe\">\n",
       "  <thead>\n",
       "    <tr style=\"text-align: right;\">\n",
       "      <th></th>\n",
       "      <th>CustomerID</th>\n",
       "      <th>Age</th>\n",
       "      <th>Score</th>\n",
       "    </tr>\n",
       "  </thead>\n",
       "  <tbody>\n",
       "    <tr>\n",
       "      <th>0</th>\n",
       "      <td>1</td>\n",
       "      <td>25.0</td>\n",
       "      <td>88</td>\n",
       "    </tr>\n",
       "    <tr>\n",
       "      <th>1</th>\n",
       "      <td>2</td>\n",
       "      <td>34.0</td>\n",
       "      <td>92</td>\n",
       "    </tr>\n",
       "    <tr>\n",
       "      <th>4</th>\n",
       "      <td>5</td>\n",
       "      <td>45.0</td>\n",
       "      <td>76</td>\n",
       "    </tr>\n",
       "  </tbody>\n",
       "</table>\n",
       "</div>"
      ],
      "text/plain": [
       "   CustomerID   Age  Score\n",
       "0           1  25.0     88\n",
       "1           2  34.0     92\n",
       "4           5  45.0     76"
      ]
     },
     "execution_count": 21,
     "metadata": {},
     "output_type": "execute_result"
    }
   ],
   "source": [
    "valid_age_mask = (df['Age'] >= 0) & (df['Age'] <= 100)\n",
    "df[valid_age_mask]"
   ]
  },
  {
   "cell_type": "markdown",
   "id": "623c176a",
   "metadata": {},
   "source": [
    "#### ✅ Use Case:\n",
    "\n",
    "Remove rows violating **known valid ranges** (e.g., valid human age)\n",
    "\n",
    "🔹 *Why?*\n",
    "Precise control; you can also inverse it to isolate invalid data.\n"
   ]
  },
  {
   "cell_type": "markdown",
   "id": "7a032f77",
   "metadata": {},
   "source": [
    "### 🔹 3. **Replacing Invalid Values with NaN**"
   ]
  },
  {
   "cell_type": "code",
   "execution_count": 22,
   "id": "469973a3",
   "metadata": {},
   "outputs": [],
   "source": [
    "df.loc[~valid_age_mask, 'Age'] = np.nan"
   ]
  },
  {
   "cell_type": "code",
   "execution_count": 23,
   "id": "1ae3ce40",
   "metadata": {},
   "outputs": [
    {
     "data": {
      "text/html": [
       "<div>\n",
       "<style scoped>\n",
       "    .dataframe tbody tr th:only-of-type {\n",
       "        vertical-align: middle;\n",
       "    }\n",
       "\n",
       "    .dataframe tbody tr th {\n",
       "        vertical-align: top;\n",
       "    }\n",
       "\n",
       "    .dataframe thead th {\n",
       "        text-align: right;\n",
       "    }\n",
       "</style>\n",
       "<table border=\"1\" class=\"dataframe\">\n",
       "  <thead>\n",
       "    <tr style=\"text-align: right;\">\n",
       "      <th></th>\n",
       "      <th>CustomerID</th>\n",
       "      <th>Age</th>\n",
       "      <th>Score</th>\n",
       "    </tr>\n",
       "  </thead>\n",
       "  <tbody>\n",
       "    <tr>\n",
       "      <th>0</th>\n",
       "      <td>1</td>\n",
       "      <td>25.0</td>\n",
       "      <td>88</td>\n",
       "    </tr>\n",
       "    <tr>\n",
       "      <th>1</th>\n",
       "      <td>2</td>\n",
       "      <td>34.0</td>\n",
       "      <td>92</td>\n",
       "    </tr>\n",
       "    <tr>\n",
       "      <th>2</th>\n",
       "      <td>3</td>\n",
       "      <td>NaN</td>\n",
       "      <td>105</td>\n",
       "    </tr>\n",
       "    <tr>\n",
       "      <th>3</th>\n",
       "      <td>4</td>\n",
       "      <td>NaN</td>\n",
       "      <td>-10</td>\n",
       "    </tr>\n",
       "    <tr>\n",
       "      <th>4</th>\n",
       "      <td>5</td>\n",
       "      <td>45.0</td>\n",
       "      <td>76</td>\n",
       "    </tr>\n",
       "    <tr>\n",
       "      <th>5</th>\n",
       "      <td>6</td>\n",
       "      <td>NaN</td>\n",
       "      <td>95</td>\n",
       "    </tr>\n",
       "  </tbody>\n",
       "</table>\n",
       "</div>"
      ],
      "text/plain": [
       "   CustomerID   Age  Score\n",
       "0           1  25.0     88\n",
       "1           2  34.0     92\n",
       "2           3   NaN    105\n",
       "3           4   NaN    -10\n",
       "4           5  45.0     76\n",
       "5           6   NaN     95"
      ]
     },
     "execution_count": 23,
     "metadata": {},
     "output_type": "execute_result"
    }
   ],
   "source": [
    "df"
   ]
  },
  {
   "cell_type": "markdown",
   "id": "2579d484",
   "metadata": {},
   "source": [
    "#### ✅ Use Case:\n",
    "\n",
    "Standardize invalid entries as `NaN` before **imputation** or analysis.\n",
    "\n",
    "🔹 *Why?*\n",
    "`NaN` can be handled consistently in Pandas (mean/median fill etc.)."
   ]
  },
  {
   "cell_type": "markdown",
   "id": "8870ec4c",
   "metadata": {},
   "source": [
    "### 🔹 4. **Using `apply()` for Complex Checks**"
   ]
  },
  {
   "cell_type": "code",
   "execution_count": 24,
   "id": "b4265147",
   "metadata": {},
   "outputs": [
    {
     "data": {
      "text/html": [
       "<div>\n",
       "<style scoped>\n",
       "    .dataframe tbody tr th:only-of-type {\n",
       "        vertical-align: middle;\n",
       "    }\n",
       "\n",
       "    .dataframe tbody tr th {\n",
       "        vertical-align: top;\n",
       "    }\n",
       "\n",
       "    .dataframe thead th {\n",
       "        text-align: right;\n",
       "    }\n",
       "</style>\n",
       "<table border=\"1\" class=\"dataframe\">\n",
       "  <thead>\n",
       "    <tr style=\"text-align: right;\">\n",
       "      <th></th>\n",
       "      <th>CustomerID</th>\n",
       "      <th>Age</th>\n",
       "      <th>Score</th>\n",
       "    </tr>\n",
       "  </thead>\n",
       "  <tbody>\n",
       "    <tr>\n",
       "      <th>0</th>\n",
       "      <td>1</td>\n",
       "      <td>25.0</td>\n",
       "      <td>88.0</td>\n",
       "    </tr>\n",
       "    <tr>\n",
       "      <th>1</th>\n",
       "      <td>2</td>\n",
       "      <td>34.0</td>\n",
       "      <td>92.0</td>\n",
       "    </tr>\n",
       "    <tr>\n",
       "      <th>2</th>\n",
       "      <td>3</td>\n",
       "      <td>NaN</td>\n",
       "      <td>NaN</td>\n",
       "    </tr>\n",
       "    <tr>\n",
       "      <th>3</th>\n",
       "      <td>4</td>\n",
       "      <td>NaN</td>\n",
       "      <td>NaN</td>\n",
       "    </tr>\n",
       "    <tr>\n",
       "      <th>4</th>\n",
       "      <td>5</td>\n",
       "      <td>45.0</td>\n",
       "      <td>76.0</td>\n",
       "    </tr>\n",
       "    <tr>\n",
       "      <th>5</th>\n",
       "      <td>6</td>\n",
       "      <td>NaN</td>\n",
       "      <td>95.0</td>\n",
       "    </tr>\n",
       "  </tbody>\n",
       "</table>\n",
       "</div>"
      ],
      "text/plain": [
       "   CustomerID   Age  Score\n",
       "0           1  25.0   88.0\n",
       "1           2  34.0   92.0\n",
       "2           3   NaN    NaN\n",
       "3           4   NaN    NaN\n",
       "4           5  45.0   76.0\n",
       "5           6   NaN   95.0"
      ]
     },
     "execution_count": 24,
     "metadata": {},
     "output_type": "execute_result"
    }
   ],
   "source": [
    "def clean_score(score):\n",
    "    if 0 <= score <= 100:\n",
    "        return score\n",
    "    else:\n",
    "        return np.nan\n",
    "    \n",
    "df['Score'] = df['Score'].apply(clean_score)\n",
    "\n",
    "df"
   ]
  },
  {
   "cell_type": "markdown",
   "id": "2967f9e9",
   "metadata": {},
   "source": [
    "#### ✅ Use Case:\n",
    "\n",
    "Flexible for **non-linear rules** or if multiple columns are needed in the logic.\n",
    "\n",
    "🔹 *Why?*\n",
    "Great for **custom rules** across different columns."
   ]
  },
  {
   "cell_type": "markdown",
   "id": "14d29fe0",
   "metadata": {},
   "source": [
    "### 🔹 5. **Handling Invalid Dates or Formats**"
   ]
  },
  {
   "cell_type": "code",
   "execution_count": 25,
   "id": "df040bb4",
   "metadata": {},
   "outputs": [
    {
     "data": {
      "text/html": [
       "<div>\n",
       "<style scoped>\n",
       "    .dataframe tbody tr th:only-of-type {\n",
       "        vertical-align: middle;\n",
       "    }\n",
       "\n",
       "    .dataframe tbody tr th {\n",
       "        vertical-align: top;\n",
       "    }\n",
       "\n",
       "    .dataframe thead th {\n",
       "        text-align: right;\n",
       "    }\n",
       "</style>\n",
       "<table border=\"1\" class=\"dataframe\">\n",
       "  <thead>\n",
       "    <tr style=\"text-align: right;\">\n",
       "      <th></th>\n",
       "      <th>StartDate</th>\n",
       "    </tr>\n",
       "  </thead>\n",
       "  <tbody>\n",
       "    <tr>\n",
       "      <th>0</th>\n",
       "      <td>2024-01-01</td>\n",
       "    </tr>\n",
       "    <tr>\n",
       "      <th>1</th>\n",
       "      <td>NaT</td>\n",
       "    </tr>\n",
       "    <tr>\n",
       "      <th>2</th>\n",
       "      <td>2025-07-21</td>\n",
       "    </tr>\n",
       "  </tbody>\n",
       "</table>\n",
       "</div>"
      ],
      "text/plain": [
       "   StartDate\n",
       "0 2024-01-01\n",
       "1        NaT\n",
       "2 2025-07-21"
      ]
     },
     "execution_count": 25,
     "metadata": {},
     "output_type": "execute_result"
    }
   ],
   "source": [
    "df1 = pd.DataFrame({\n",
    "    'StartDate': ['2024-01-01', 'not-a-date', '2025-07-21']\n",
    "})\n",
    "\n",
    "df1['StartDate'] = pd.to_datetime(df1['StartDate'], errors='coerce')\n",
    "\n",
    "df1"
   ]
  },
  {
   "cell_type": "markdown",
   "id": "164509c6",
   "metadata": {},
   "source": [
    "#### ✅ Use Case:\n",
    "\n",
    "When parsing **date columns** with malformed entries.\n",
    "\n",
    "🔹 *Why?*\n",
    "Converts bad dates to `NaT` (like `NaN` for dates) for easy handling."
   ]
  },
  {
   "cell_type": "markdown",
   "id": "d22b509c",
   "metadata": {},
   "source": [
    "### 🔹 6. **Domain-Based Replacement**"
   ]
  },
  {
   "cell_type": "code",
   "execution_count": 27,
   "id": "21f40d11",
   "metadata": {},
   "outputs": [
    {
     "data": {
      "text/html": [
       "<div>\n",
       "<style scoped>\n",
       "    .dataframe tbody tr th:only-of-type {\n",
       "        vertical-align: middle;\n",
       "    }\n",
       "\n",
       "    .dataframe tbody tr th {\n",
       "        vertical-align: top;\n",
       "    }\n",
       "\n",
       "    .dataframe thead th {\n",
       "        text-align: right;\n",
       "    }\n",
       "</style>\n",
       "<table border=\"1\" class=\"dataframe\">\n",
       "  <thead>\n",
       "    <tr style=\"text-align: right;\">\n",
       "      <th></th>\n",
       "      <th>CustomerID</th>\n",
       "      <th>Age</th>\n",
       "      <th>Score</th>\n",
       "    </tr>\n",
       "  </thead>\n",
       "  <tbody>\n",
       "    <tr>\n",
       "      <th>0</th>\n",
       "      <td>1</td>\n",
       "      <td>25.0</td>\n",
       "      <td>88.0</td>\n",
       "    </tr>\n",
       "    <tr>\n",
       "      <th>1</th>\n",
       "      <td>2</td>\n",
       "      <td>34.0</td>\n",
       "      <td>92.0</td>\n",
       "    </tr>\n",
       "    <tr>\n",
       "      <th>2</th>\n",
       "      <td>3</td>\n",
       "      <td>34.0</td>\n",
       "      <td>NaN</td>\n",
       "    </tr>\n",
       "    <tr>\n",
       "      <th>3</th>\n",
       "      <td>4</td>\n",
       "      <td>34.0</td>\n",
       "      <td>NaN</td>\n",
       "    </tr>\n",
       "    <tr>\n",
       "      <th>4</th>\n",
       "      <td>5</td>\n",
       "      <td>45.0</td>\n",
       "      <td>76.0</td>\n",
       "    </tr>\n",
       "    <tr>\n",
       "      <th>5</th>\n",
       "      <td>6</td>\n",
       "      <td>34.0</td>\n",
       "      <td>95.0</td>\n",
       "    </tr>\n",
       "  </tbody>\n",
       "</table>\n",
       "</div>"
      ],
      "text/plain": [
       "   CustomerID   Age  Score\n",
       "0           1  25.0   88.0\n",
       "1           2  34.0   92.0\n",
       "2           3  34.0    NaN\n",
       "3           4  34.0    NaN\n",
       "4           5  45.0   76.0\n",
       "5           6  34.0   95.0"
      ]
     },
     "execution_count": 27,
     "metadata": {},
     "output_type": "execute_result"
    }
   ],
   "source": [
    "# Replace out-of-range age with median age\n",
    "median_age = df[(df['Age'] >= 0) & (df['Age'] <= 100)]['Age'].median()\n",
    "df['Age'] = df['Age'].apply(lambda x: x if 0 <= x <= 100 else median_age)\n",
    "\n",
    "df"
   ]
  },
  {
   "cell_type": "markdown",
   "id": "35cdbf2e",
   "metadata": {},
   "source": [
    "#### ✅ Use Case:\n",
    "\n",
    "When you need to keep all records (e.g., small sample size or business need).\n",
    "\n",
    "🔹 *Why?*\n",
    "Balances data integrity with statistical smoothness."
   ]
  },
  {
   "cell_type": "markdown",
   "id": "ee115597",
   "metadata": {},
   "source": [
    "## 📊 Summary Table\n",
    "\n",
    "| Technique                         | When to Use                          | Example Use Case                  |\n",
    "| --------------------------------- | ------------------------------------ | --------------------------------- |\n",
    "| Logical Checks                    | Clear domain limits                  | Age < 0, Score > 100              |\n",
    "| Boolean Masks                     | Efficient filtering                  | Validating temperature range      |\n",
    "| Replace with NaN                  | Prepare for imputation               | Replacing -1 salary with NaN      |\n",
    "| `apply()` + custom logic          | Complex validation                   | Age + Role logic for employment   |\n",
    "| `pd.to_datetime(errors='coerce')` | For bad/malformed dates              | Parsing signup dates in user logs |\n",
    "| Replace with Median/Mode          | Keep all rows with reasonable values | Fill invalid ages with median     |\n"
   ]
  },
  {
   "cell_type": "markdown",
   "id": "b7dfb6df",
   "metadata": {},
   "source": [
    "### ✅ Best Practices\n",
    "\n",
    "* Always **use domain knowledge** to define valid ranges.\n",
    "* Replace invalid values with `NaN` to use built-in pandas tools (`fillna`, `dropna`, etc.).\n",
    "* If unsure, flag invalid values rather than deleting them.\n",
    "* Validate both **range** and **data type** (e.g., strings in numeric columns).\n"
   ]
  },
  {
   "cell_type": "markdown",
   "id": "291417fd",
   "metadata": {},
   "source": [
    "<center><b>Thanks</b></center>"
   ]
  }
 ],
 "metadata": {
  "kernelspec": {
   "display_name": "Python 3",
   "language": "python",
   "name": "python3"
  },
  "language_info": {
   "codemirror_mode": {
    "name": "ipython",
    "version": 3
   },
   "file_extension": ".py",
   "mimetype": "text/x-python",
   "name": "python",
   "nbconvert_exporter": "python",
   "pygments_lexer": "ipython3",
   "version": "3.10.2"
  }
 },
 "nbformat": 4,
 "nbformat_minor": 5
}
