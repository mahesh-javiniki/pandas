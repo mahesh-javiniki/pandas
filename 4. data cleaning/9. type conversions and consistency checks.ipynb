{
 "cells": [
  {
   "cell_type": "markdown",
   "id": "b646b163",
   "metadata": {},
   "source": [
    "# **Data Cleaning**"
   ]
  },
  {
   "cell_type": "markdown",
   "id": "bd0d58bd",
   "metadata": {},
   "source": [
    "# **9. Type Conversions & Consistency Checks**"
   ]
  },
  {
   "cell_type": "code",
   "execution_count": 69,
   "id": "b10baa85",
   "metadata": {},
   "outputs": [],
   "source": [
    "import numpy as np\n",
    "import pandas as pd "
   ]
  },
  {
   "cell_type": "markdown",
   "id": "addbd846",
   "metadata": {},
   "source": [
    "## ✅ What Are Type Conversions & Consistency Checks?\n",
    "\n",
    "In real-world data:\n",
    "\n",
    "* You might have numbers stored as strings.\n",
    "* Dates could be read as objects.\n",
    "* Booleans might be `'Yes'/'No'` or `1/0`.\n",
    "* Categorical data may not be explicitly typed.\n",
    "\n",
    "To **make computations accurate, memory usage efficient, and validations easier**, you need to convert columns to appropriate data types and ensure consistency across them."
   ]
  },
  {
   "cell_type": "markdown",
   "id": "65332a5f",
   "metadata": {},
   "source": [
    "### 🔹 1. `astype()` – Convert to a Specific Data Type\n",
    "\n",
    "#### ✅ Syntax:\n",
    "\n",
    "```python\n",
    "df['col'] = df['col'].astype('desired_dtype')\n",
    "```\n",
    "\n",
    "#### ✅ Common Conversions:\n",
    "\n",
    "* String: `'str'`\n",
    "* Integer: `'int'`\n",
    "* Float: `'float'`\n",
    "* Boolean: `'bool'`\n",
    "* Categorical: `'category'`"
   ]
  },
  {
   "cell_type": "code",
   "execution_count": 70,
   "id": "147655df",
   "metadata": {},
   "outputs": [
    {
     "data": {
      "text/html": [
       "<div>\n",
       "<style scoped>\n",
       "    .dataframe tbody tr th:only-of-type {\n",
       "        vertical-align: middle;\n",
       "    }\n",
       "\n",
       "    .dataframe tbody tr th {\n",
       "        vertical-align: top;\n",
       "    }\n",
       "\n",
       "    .dataframe thead th {\n",
       "        text-align: right;\n",
       "    }\n",
       "</style>\n",
       "<table border=\"1\" class=\"dataframe\">\n",
       "  <thead>\n",
       "    <tr style=\"text-align: right;\">\n",
       "      <th></th>\n",
       "      <th>id</th>\n",
       "      <th>age</th>\n",
       "      <th>salary</th>\n",
       "      <th>join_date</th>\n",
       "      <th>duration</th>\n",
       "      <th>department</th>\n",
       "      <th>active</th>\n",
       "      <th>is_member</th>\n",
       "    </tr>\n",
       "  </thead>\n",
       "  <tbody>\n",
       "    <tr>\n",
       "      <th>0</th>\n",
       "      <td>001</td>\n",
       "      <td>25</td>\n",
       "      <td>55000</td>\n",
       "      <td>2023-07-01</td>\n",
       "      <td>1 days 12:00:00</td>\n",
       "      <td>HR</td>\n",
       "      <td>Yes</td>\n",
       "      <td>1</td>\n",
       "    </tr>\n",
       "    <tr>\n",
       "      <th>1</th>\n",
       "      <td>002</td>\n",
       "      <td>30</td>\n",
       "      <td>₹63000.5</td>\n",
       "      <td>2023/10/15</td>\n",
       "      <td>2 days 00:00:00</td>\n",
       "      <td>IT</td>\n",
       "      <td>No</td>\n",
       "      <td>0</td>\n",
       "    </tr>\n",
       "    <tr>\n",
       "      <th>2</th>\n",
       "      <td>003</td>\n",
       "      <td>45</td>\n",
       "      <td>Not Provided</td>\n",
       "      <td>invalid_date</td>\n",
       "      <td>5:30:00</td>\n",
       "      <td>Finance</td>\n",
       "      <td>Yes</td>\n",
       "      <td>1</td>\n",
       "    </tr>\n",
       "  </tbody>\n",
       "</table>\n",
       "</div>"
      ],
      "text/plain": [
       "    id age        salary     join_date         duration department active  \\\n",
       "0  001  25         55000    2023-07-01  1 days 12:00:00         HR    Yes   \n",
       "1  002  30      ₹63000.5    2023/10/15  2 days 00:00:00         IT     No   \n",
       "2  003  45  Not Provided  invalid_date          5:30:00    Finance    Yes   \n",
       "\n",
       "   is_member  \n",
       "0          1  \n",
       "1          0  \n",
       "2          1  "
      ]
     },
     "execution_count": 70,
     "metadata": {},
     "output_type": "execute_result"
    }
   ],
   "source": [
    "df = pd.DataFrame({\n",
    "    'id': ['001', '002', '003'],\n",
    "    'age': ['25', '30', '45'],\n",
    "    'salary': ['55000', '₹63000.5', 'Not Provided'],\n",
    "    'join_date': ['2023-07-01', '2023/10/15', 'invalid_date'],\n",
    "    'duration': ['1 days 12:00:00', '2 days 00:00:00', '5:30:00'],\n",
    "    'department': ['HR', 'IT', 'Finance'],\n",
    "    'active': ['Yes', 'No', 'Yes'],\n",
    "    'is_member': [1, 0, 1]\n",
    "})\n",
    "\n",
    "df"
   ]
  },
  {
   "cell_type": "code",
   "execution_count": 71,
   "id": "8f63dabf",
   "metadata": {},
   "outputs": [
    {
     "data": {
      "text/plain": [
       "id            object\n",
       "age           object\n",
       "salary        object\n",
       "join_date     object\n",
       "duration      object\n",
       "department    object\n",
       "active        object\n",
       "is_member      int64\n",
       "dtype: object"
      ]
     },
     "execution_count": 71,
     "metadata": {},
     "output_type": "execute_result"
    }
   ],
   "source": [
    "df.dtypes"
   ]
  },
  {
   "cell_type": "code",
   "execution_count": 72,
   "id": "96fc7ab6",
   "metadata": {},
   "outputs": [
    {
     "data": {
      "text/html": [
       "<div>\n",
       "<style scoped>\n",
       "    .dataframe tbody tr th:only-of-type {\n",
       "        vertical-align: middle;\n",
       "    }\n",
       "\n",
       "    .dataframe tbody tr th {\n",
       "        vertical-align: top;\n",
       "    }\n",
       "\n",
       "    .dataframe thead th {\n",
       "        text-align: right;\n",
       "    }\n",
       "</style>\n",
       "<table border=\"1\" class=\"dataframe\">\n",
       "  <thead>\n",
       "    <tr style=\"text-align: right;\">\n",
       "      <th></th>\n",
       "      <th>id</th>\n",
       "      <th>age</th>\n",
       "      <th>salary</th>\n",
       "      <th>join_date</th>\n",
       "      <th>duration</th>\n",
       "      <th>department</th>\n",
       "      <th>active</th>\n",
       "      <th>is_member</th>\n",
       "    </tr>\n",
       "  </thead>\n",
       "  <tbody>\n",
       "    <tr>\n",
       "      <th>0</th>\n",
       "      <td>001</td>\n",
       "      <td>25</td>\n",
       "      <td>55000</td>\n",
       "      <td>2023-07-01</td>\n",
       "      <td>1 days 12:00:00</td>\n",
       "      <td>HR</td>\n",
       "      <td>Yes</td>\n",
       "      <td>True</td>\n",
       "    </tr>\n",
       "    <tr>\n",
       "      <th>1</th>\n",
       "      <td>002</td>\n",
       "      <td>30</td>\n",
       "      <td>₹63000.5</td>\n",
       "      <td>2023/10/15</td>\n",
       "      <td>2 days 00:00:00</td>\n",
       "      <td>IT</td>\n",
       "      <td>No</td>\n",
       "      <td>False</td>\n",
       "    </tr>\n",
       "    <tr>\n",
       "      <th>2</th>\n",
       "      <td>003</td>\n",
       "      <td>45</td>\n",
       "      <td>Not Provided</td>\n",
       "      <td>invalid_date</td>\n",
       "      <td>5:30:00</td>\n",
       "      <td>Finance</td>\n",
       "      <td>Yes</td>\n",
       "      <td>True</td>\n",
       "    </tr>\n",
       "  </tbody>\n",
       "</table>\n",
       "</div>"
      ],
      "text/plain": [
       "    id  age        salary     join_date         duration department active  \\\n",
       "0  001   25         55000    2023-07-01  1 days 12:00:00         HR    Yes   \n",
       "1  002   30      ₹63000.5    2023/10/15  2 days 00:00:00         IT     No   \n",
       "2  003   45  Not Provided  invalid_date          5:30:00    Finance    Yes   \n",
       "\n",
       "   is_member  \n",
       "0       True  \n",
       "1      False  \n",
       "2       True  "
      ]
     },
     "execution_count": 72,
     "metadata": {},
     "output_type": "execute_result"
    }
   ],
   "source": [
    "df['age'] = df['age'].astype(int)\n",
    "df['is_member'] = df['is_member'].astype(bool)\n",
    "\n",
    "df"
   ]
  },
  {
   "cell_type": "code",
   "execution_count": 73,
   "id": "52b6bf5a",
   "metadata": {},
   "outputs": [
    {
     "data": {
      "text/plain": [
       "id            object\n",
       "age            int32\n",
       "salary        object\n",
       "join_date     object\n",
       "duration      object\n",
       "department    object\n",
       "active        object\n",
       "is_member       bool\n",
       "dtype: object"
      ]
     },
     "execution_count": 73,
     "metadata": {},
     "output_type": "execute_result"
    }
   ],
   "source": [
    "df.dtypes"
   ]
  },
  {
   "cell_type": "markdown",
   "id": "6cc9cda0",
   "metadata": {},
   "source": [
    "#### 📌 **Real-Time Use Case**:\n",
    "\n",
    "You receive a survey dataset where numeric IDs are loaded as strings due to Excel formatting. Use `astype(int)` for correct aggregation.\n",
    "\n",
    "#### ✅ Why `astype()`?\n",
    "\n",
    "It’s the **simplest and fastest method** when you’re confident of clean and convertible values."
   ]
  },
  {
   "cell_type": "markdown",
   "id": "593920a5",
   "metadata": {},
   "source": [
    "### 🔹 2. `pd.to_numeric()` – Safely Convert to Numbers\n",
    "\n",
    "#### ✅ Syntax:\n",
    "\n",
    "```python\n",
    "df['col'] = pd.to_numeric(df['col'], errors='coerce')\n",
    "```\n",
    "\n",
    "* `errors='coerce'`: Non-convertible values are turned into NaN.\n",
    "* `errors='ignore'`: Leaves invalid values as-is.\n"
   ]
  },
  {
   "cell_type": "code",
   "execution_count": 74,
   "id": "ebaf94e3",
   "metadata": {},
   "outputs": [
    {
     "data": {
      "text/html": [
       "<div>\n",
       "<style scoped>\n",
       "    .dataframe tbody tr th:only-of-type {\n",
       "        vertical-align: middle;\n",
       "    }\n",
       "\n",
       "    .dataframe tbody tr th {\n",
       "        vertical-align: top;\n",
       "    }\n",
       "\n",
       "    .dataframe thead th {\n",
       "        text-align: right;\n",
       "    }\n",
       "</style>\n",
       "<table border=\"1\" class=\"dataframe\">\n",
       "  <thead>\n",
       "    <tr style=\"text-align: right;\">\n",
       "      <th></th>\n",
       "      <th>id</th>\n",
       "      <th>age</th>\n",
       "      <th>salary</th>\n",
       "      <th>join_date</th>\n",
       "      <th>duration</th>\n",
       "      <th>department</th>\n",
       "      <th>active</th>\n",
       "      <th>is_member</th>\n",
       "    </tr>\n",
       "  </thead>\n",
       "  <tbody>\n",
       "    <tr>\n",
       "      <th>0</th>\n",
       "      <td>001</td>\n",
       "      <td>25</td>\n",
       "      <td>55000</td>\n",
       "      <td>2023-07-01</td>\n",
       "      <td>1 days 12:00:00</td>\n",
       "      <td>HR</td>\n",
       "      <td>Yes</td>\n",
       "      <td>True</td>\n",
       "    </tr>\n",
       "    <tr>\n",
       "      <th>1</th>\n",
       "      <td>002</td>\n",
       "      <td>30</td>\n",
       "      <td>₹63000.5</td>\n",
       "      <td>2023/10/15</td>\n",
       "      <td>2 days 00:00:00</td>\n",
       "      <td>IT</td>\n",
       "      <td>No</td>\n",
       "      <td>False</td>\n",
       "    </tr>\n",
       "    <tr>\n",
       "      <th>2</th>\n",
       "      <td>003</td>\n",
       "      <td>45</td>\n",
       "      <td>Not Provided</td>\n",
       "      <td>invalid_date</td>\n",
       "      <td>5:30:00</td>\n",
       "      <td>Finance</td>\n",
       "      <td>Yes</td>\n",
       "      <td>True</td>\n",
       "    </tr>\n",
       "  </tbody>\n",
       "</table>\n",
       "</div>"
      ],
      "text/plain": [
       "    id  age        salary     join_date         duration department active  \\\n",
       "0  001   25         55000    2023-07-01  1 days 12:00:00         HR    Yes   \n",
       "1  002   30      ₹63000.5    2023/10/15  2 days 00:00:00         IT     No   \n",
       "2  003   45  Not Provided  invalid_date          5:30:00    Finance    Yes   \n",
       "\n",
       "   is_member  \n",
       "0       True  \n",
       "1      False  \n",
       "2       True  "
      ]
     },
     "execution_count": 74,
     "metadata": {},
     "output_type": "execute_result"
    }
   ],
   "source": [
    "df"
   ]
  },
  {
   "cell_type": "code",
   "execution_count": 75,
   "id": "c96d08be",
   "metadata": {},
   "outputs": [
    {
     "data": {
      "text/plain": [
       "id            object\n",
       "age            int32\n",
       "salary        object\n",
       "join_date     object\n",
       "duration      object\n",
       "department    object\n",
       "active        object\n",
       "is_member       bool\n",
       "dtype: object"
      ]
     },
     "execution_count": 75,
     "metadata": {},
     "output_type": "execute_result"
    }
   ],
   "source": [
    "df.dtypes"
   ]
  },
  {
   "cell_type": "code",
   "execution_count": 76,
   "id": "eca4ec06",
   "metadata": {},
   "outputs": [
    {
     "data": {
      "text/html": [
       "<div>\n",
       "<style scoped>\n",
       "    .dataframe tbody tr th:only-of-type {\n",
       "        vertical-align: middle;\n",
       "    }\n",
       "\n",
       "    .dataframe tbody tr th {\n",
       "        vertical-align: top;\n",
       "    }\n",
       "\n",
       "    .dataframe thead th {\n",
       "        text-align: right;\n",
       "    }\n",
       "</style>\n",
       "<table border=\"1\" class=\"dataframe\">\n",
       "  <thead>\n",
       "    <tr style=\"text-align: right;\">\n",
       "      <th></th>\n",
       "      <th>id</th>\n",
       "      <th>age</th>\n",
       "      <th>salary</th>\n",
       "      <th>join_date</th>\n",
       "      <th>duration</th>\n",
       "      <th>department</th>\n",
       "      <th>active</th>\n",
       "      <th>is_member</th>\n",
       "    </tr>\n",
       "  </thead>\n",
       "  <tbody>\n",
       "    <tr>\n",
       "      <th>0</th>\n",
       "      <td>001</td>\n",
       "      <td>25</td>\n",
       "      <td>55000.0</td>\n",
       "      <td>2023-07-01</td>\n",
       "      <td>1 days 12:00:00</td>\n",
       "      <td>HR</td>\n",
       "      <td>Yes</td>\n",
       "      <td>True</td>\n",
       "    </tr>\n",
       "    <tr>\n",
       "      <th>1</th>\n",
       "      <td>002</td>\n",
       "      <td>30</td>\n",
       "      <td>NaN</td>\n",
       "      <td>2023/10/15</td>\n",
       "      <td>2 days 00:00:00</td>\n",
       "      <td>IT</td>\n",
       "      <td>No</td>\n",
       "      <td>False</td>\n",
       "    </tr>\n",
       "    <tr>\n",
       "      <th>2</th>\n",
       "      <td>003</td>\n",
       "      <td>45</td>\n",
       "      <td>NaN</td>\n",
       "      <td>invalid_date</td>\n",
       "      <td>5:30:00</td>\n",
       "      <td>Finance</td>\n",
       "      <td>Yes</td>\n",
       "      <td>True</td>\n",
       "    </tr>\n",
       "  </tbody>\n",
       "</table>\n",
       "</div>"
      ],
      "text/plain": [
       "    id  age   salary     join_date         duration department active  \\\n",
       "0  001   25  55000.0    2023-07-01  1 days 12:00:00         HR    Yes   \n",
       "1  002   30      NaN    2023/10/15  2 days 00:00:00         IT     No   \n",
       "2  003   45      NaN  invalid_date          5:30:00    Finance    Yes   \n",
       "\n",
       "   is_member  \n",
       "0       True  \n",
       "1      False  \n",
       "2       True  "
      ]
     },
     "execution_count": 76,
     "metadata": {},
     "output_type": "execute_result"
    }
   ],
   "source": [
    "df['salary'] = pd.to_numeric(df['salary'], errors='coerce')\n",
    "df"
   ]
  },
  {
   "cell_type": "code",
   "execution_count": 77,
   "id": "21e988da",
   "metadata": {},
   "outputs": [
    {
     "data": {
      "text/plain": [
       "id             object\n",
       "age             int32\n",
       "salary        float64\n",
       "join_date      object\n",
       "duration       object\n",
       "department     object\n",
       "active         object\n",
       "is_member        bool\n",
       "dtype: object"
      ]
     },
     "execution_count": 77,
     "metadata": {},
     "output_type": "execute_result"
    }
   ],
   "source": [
    "df.dtypes"
   ]
  },
  {
   "cell_type": "markdown",
   "id": "66a2ee86",
   "metadata": {},
   "source": [
    "#### 📌 **Real-Time Use Case**:\n",
    "\n",
    "CSV import with currency values like `'₹100,000'` or corrupted data like `'N/A'`.\n",
    "\n",
    "#### ✅ Why `to_numeric()`?\n",
    "\n",
    "Best for **robust parsing of mixed-type columns** (strings, numbers, etc.) and safe error handling."
   ]
  },
  {
   "cell_type": "markdown",
   "id": "7fd8b2c7",
   "metadata": {},
   "source": [
    "### 🔹 3. `pd.to_datetime()` – Convert to DateTime\n",
    "\n",
    "#### ✅ Syntax:\n",
    "\n",
    "```python\n",
    "df['date'] = pd.to_datetime(df['date'], errors='coerce')\n",
    "```\n"
   ]
  },
  {
   "cell_type": "code",
   "execution_count": 78,
   "id": "fac0608d",
   "metadata": {},
   "outputs": [
    {
     "data": {
      "text/html": [
       "<div>\n",
       "<style scoped>\n",
       "    .dataframe tbody tr th:only-of-type {\n",
       "        vertical-align: middle;\n",
       "    }\n",
       "\n",
       "    .dataframe tbody tr th {\n",
       "        vertical-align: top;\n",
       "    }\n",
       "\n",
       "    .dataframe thead th {\n",
       "        text-align: right;\n",
       "    }\n",
       "</style>\n",
       "<table border=\"1\" class=\"dataframe\">\n",
       "  <thead>\n",
       "    <tr style=\"text-align: right;\">\n",
       "      <th></th>\n",
       "      <th>id</th>\n",
       "      <th>age</th>\n",
       "      <th>salary</th>\n",
       "      <th>join_date</th>\n",
       "      <th>duration</th>\n",
       "      <th>department</th>\n",
       "      <th>active</th>\n",
       "      <th>is_member</th>\n",
       "    </tr>\n",
       "  </thead>\n",
       "  <tbody>\n",
       "    <tr>\n",
       "      <th>0</th>\n",
       "      <td>001</td>\n",
       "      <td>25</td>\n",
       "      <td>55000.0</td>\n",
       "      <td>2023-07-01</td>\n",
       "      <td>1 days 12:00:00</td>\n",
       "      <td>HR</td>\n",
       "      <td>Yes</td>\n",
       "      <td>True</td>\n",
       "    </tr>\n",
       "    <tr>\n",
       "      <th>1</th>\n",
       "      <td>002</td>\n",
       "      <td>30</td>\n",
       "      <td>NaN</td>\n",
       "      <td>2023/10/15</td>\n",
       "      <td>2 days 00:00:00</td>\n",
       "      <td>IT</td>\n",
       "      <td>No</td>\n",
       "      <td>False</td>\n",
       "    </tr>\n",
       "    <tr>\n",
       "      <th>2</th>\n",
       "      <td>003</td>\n",
       "      <td>45</td>\n",
       "      <td>NaN</td>\n",
       "      <td>invalid_date</td>\n",
       "      <td>5:30:00</td>\n",
       "      <td>Finance</td>\n",
       "      <td>Yes</td>\n",
       "      <td>True</td>\n",
       "    </tr>\n",
       "  </tbody>\n",
       "</table>\n",
       "</div>"
      ],
      "text/plain": [
       "    id  age   salary     join_date         duration department active  \\\n",
       "0  001   25  55000.0    2023-07-01  1 days 12:00:00         HR    Yes   \n",
       "1  002   30      NaN    2023/10/15  2 days 00:00:00         IT     No   \n",
       "2  003   45      NaN  invalid_date          5:30:00    Finance    Yes   \n",
       "\n",
       "   is_member  \n",
       "0       True  \n",
       "1      False  \n",
       "2       True  "
      ]
     },
     "execution_count": 78,
     "metadata": {},
     "output_type": "execute_result"
    }
   ],
   "source": [
    "df"
   ]
  },
  {
   "cell_type": "code",
   "execution_count": 79,
   "id": "03b4c956",
   "metadata": {},
   "outputs": [
    {
     "data": {
      "text/html": [
       "<div>\n",
       "<style scoped>\n",
       "    .dataframe tbody tr th:only-of-type {\n",
       "        vertical-align: middle;\n",
       "    }\n",
       "\n",
       "    .dataframe tbody tr th {\n",
       "        vertical-align: top;\n",
       "    }\n",
       "\n",
       "    .dataframe thead th {\n",
       "        text-align: right;\n",
       "    }\n",
       "</style>\n",
       "<table border=\"1\" class=\"dataframe\">\n",
       "  <thead>\n",
       "    <tr style=\"text-align: right;\">\n",
       "      <th></th>\n",
       "      <th>id</th>\n",
       "      <th>age</th>\n",
       "      <th>salary</th>\n",
       "      <th>join_date</th>\n",
       "      <th>duration</th>\n",
       "      <th>department</th>\n",
       "      <th>active</th>\n",
       "      <th>is_member</th>\n",
       "    </tr>\n",
       "  </thead>\n",
       "  <tbody>\n",
       "    <tr>\n",
       "      <th>0</th>\n",
       "      <td>001</td>\n",
       "      <td>25</td>\n",
       "      <td>55000.0</td>\n",
       "      <td>2023-07-01</td>\n",
       "      <td>1 days 12:00:00</td>\n",
       "      <td>HR</td>\n",
       "      <td>Yes</td>\n",
       "      <td>True</td>\n",
       "    </tr>\n",
       "    <tr>\n",
       "      <th>1</th>\n",
       "      <td>002</td>\n",
       "      <td>30</td>\n",
       "      <td>NaN</td>\n",
       "      <td>2023-10-15</td>\n",
       "      <td>2 days 00:00:00</td>\n",
       "      <td>IT</td>\n",
       "      <td>No</td>\n",
       "      <td>False</td>\n",
       "    </tr>\n",
       "    <tr>\n",
       "      <th>2</th>\n",
       "      <td>003</td>\n",
       "      <td>45</td>\n",
       "      <td>NaN</td>\n",
       "      <td>NaT</td>\n",
       "      <td>5:30:00</td>\n",
       "      <td>Finance</td>\n",
       "      <td>Yes</td>\n",
       "      <td>True</td>\n",
       "    </tr>\n",
       "  </tbody>\n",
       "</table>\n",
       "</div>"
      ],
      "text/plain": [
       "    id  age   salary  join_date         duration department active  is_member\n",
       "0  001   25  55000.0 2023-07-01  1 days 12:00:00         HR    Yes       True\n",
       "1  002   30      NaN 2023-10-15  2 days 00:00:00         IT     No      False\n",
       "2  003   45      NaN        NaT          5:30:00    Finance    Yes       True"
      ]
     },
     "execution_count": 79,
     "metadata": {},
     "output_type": "execute_result"
    }
   ],
   "source": [
    "df['join_date'] = pd.to_datetime(df['join_date'], format='ISO8601', errors='coerce')\n",
    "df"
   ]
  },
  {
   "cell_type": "markdown",
   "id": "ab76fcf3",
   "metadata": {},
   "source": [
    "#### 📌 **Real-Time Use Case**:\n",
    "\n",
    "Log data where date comes as `'2023/10/15'`, `'15-10-2023'`, etc. Use this method to **parse and normalize** to pandas datetime format.\n",
    "\n",
    "#### ✅ Why?\n",
    "\n",
    "It’s essential for **time-based indexing, filtering, and plotting**. Handles inconsistent formats."
   ]
  },
  {
   "cell_type": "markdown",
   "id": "572b6949",
   "metadata": {},
   "source": [
    "### 🔹 4. `pd.to_timedelta()` – Convert Duration Strings to Timedelta"
   ]
  },
  {
   "cell_type": "code",
   "execution_count": 80,
   "id": "280f40a4",
   "metadata": {},
   "outputs": [
    {
     "data": {
      "text/html": [
       "<div>\n",
       "<style scoped>\n",
       "    .dataframe tbody tr th:only-of-type {\n",
       "        vertical-align: middle;\n",
       "    }\n",
       "\n",
       "    .dataframe tbody tr th {\n",
       "        vertical-align: top;\n",
       "    }\n",
       "\n",
       "    .dataframe thead th {\n",
       "        text-align: right;\n",
       "    }\n",
       "</style>\n",
       "<table border=\"1\" class=\"dataframe\">\n",
       "  <thead>\n",
       "    <tr style=\"text-align: right;\">\n",
       "      <th></th>\n",
       "      <th>id</th>\n",
       "      <th>age</th>\n",
       "      <th>salary</th>\n",
       "      <th>join_date</th>\n",
       "      <th>duration</th>\n",
       "      <th>department</th>\n",
       "      <th>active</th>\n",
       "      <th>is_member</th>\n",
       "    </tr>\n",
       "  </thead>\n",
       "  <tbody>\n",
       "    <tr>\n",
       "      <th>0</th>\n",
       "      <td>001</td>\n",
       "      <td>25</td>\n",
       "      <td>55000.0</td>\n",
       "      <td>2023-07-01</td>\n",
       "      <td>1 days 12:00:00</td>\n",
       "      <td>HR</td>\n",
       "      <td>Yes</td>\n",
       "      <td>True</td>\n",
       "    </tr>\n",
       "    <tr>\n",
       "      <th>1</th>\n",
       "      <td>002</td>\n",
       "      <td>30</td>\n",
       "      <td>NaN</td>\n",
       "      <td>2023-10-15</td>\n",
       "      <td>2 days 00:00:00</td>\n",
       "      <td>IT</td>\n",
       "      <td>No</td>\n",
       "      <td>False</td>\n",
       "    </tr>\n",
       "    <tr>\n",
       "      <th>2</th>\n",
       "      <td>003</td>\n",
       "      <td>45</td>\n",
       "      <td>NaN</td>\n",
       "      <td>NaT</td>\n",
       "      <td>0 days 05:30:00</td>\n",
       "      <td>Finance</td>\n",
       "      <td>Yes</td>\n",
       "      <td>True</td>\n",
       "    </tr>\n",
       "  </tbody>\n",
       "</table>\n",
       "</div>"
      ],
      "text/plain": [
       "    id  age   salary  join_date        duration department active  is_member\n",
       "0  001   25  55000.0 2023-07-01 1 days 12:00:00         HR    Yes       True\n",
       "1  002   30      NaN 2023-10-15 2 days 00:00:00         IT     No      False\n",
       "2  003   45      NaN        NaT 0 days 05:30:00    Finance    Yes       True"
      ]
     },
     "execution_count": 80,
     "metadata": {},
     "output_type": "execute_result"
    }
   ],
   "source": [
    "df['duration'] = pd.to_timedelta(df['duration'])\n",
    "df"
   ]
  },
  {
   "cell_type": "code",
   "execution_count": 81,
   "id": "40dcac01",
   "metadata": {},
   "outputs": [
    {
     "data": {
      "text/plain": [
       "id                     object\n",
       "age                     int32\n",
       "salary                float64\n",
       "join_date      datetime64[ns]\n",
       "duration      timedelta64[ns]\n",
       "department             object\n",
       "active                 object\n",
       "is_member                bool\n",
       "dtype: object"
      ]
     },
     "execution_count": 81,
     "metadata": {},
     "output_type": "execute_result"
    }
   ],
   "source": [
    "df.dtypes"
   ]
  },
  {
   "cell_type": "markdown",
   "id": "7f354de7",
   "metadata": {},
   "source": [
    "#### 📌 **Real-Time Use Case**:\n",
    "\n",
    "When parsing logs or telemetry data with durations like `'2 days 5:00:00'`."
   ]
  },
  {
   "cell_type": "markdown",
   "id": "5617ee6d",
   "metadata": {},
   "source": [
    "### 🔹 5. `astype('category')` – Convert to Categorical Type"
   ]
  },
  {
   "cell_type": "code",
   "execution_count": 82,
   "id": "e1c0bab1",
   "metadata": {},
   "outputs": [
    {
     "data": {
      "text/plain": [
       "0         HR\n",
       "1         IT\n",
       "2    Finance\n",
       "Name: department, dtype: object"
      ]
     },
     "execution_count": 82,
     "metadata": {},
     "output_type": "execute_result"
    }
   ],
   "source": [
    "df['department']"
   ]
  },
  {
   "cell_type": "code",
   "execution_count": 83,
   "id": "fcc1928b",
   "metadata": {},
   "outputs": [
    {
     "data": {
      "text/plain": [
       "0         HR\n",
       "1         IT\n",
       "2    Finance\n",
       "Name: department, dtype: category\n",
       "Categories (3, object): ['Finance', 'HR', 'IT']"
      ]
     },
     "execution_count": 83,
     "metadata": {},
     "output_type": "execute_result"
    }
   ],
   "source": [
    "df['department'] = df['department'].astype('category')\n",
    "df['department']"
   ]
  },
  {
   "cell_type": "markdown",
   "id": "5adcc0c3",
   "metadata": {},
   "source": [
    "#### 📌 **Real-Time Use Case**:\n",
    "\n",
    "For columns like `gender`, `department`, `region`, which have **limited unique values**, reducing memory usage significantly and improving groupby performance.\n",
    "\n",
    "#### ✅ Why?\n",
    "\n",
    "Efficient for **classification models and analytics**."
   ]
  },
  {
   "cell_type": "markdown",
   "id": "98eda375",
   "metadata": {},
   "source": [
    "### 🔹 6. Converting Boolean-like Strings to `bool`"
   ]
  },
  {
   "cell_type": "code",
   "execution_count": 84,
   "id": "b0060da5",
   "metadata": {},
   "outputs": [
    {
     "data": {
      "text/html": [
       "<div>\n",
       "<style scoped>\n",
       "    .dataframe tbody tr th:only-of-type {\n",
       "        vertical-align: middle;\n",
       "    }\n",
       "\n",
       "    .dataframe tbody tr th {\n",
       "        vertical-align: top;\n",
       "    }\n",
       "\n",
       "    .dataframe thead th {\n",
       "        text-align: right;\n",
       "    }\n",
       "</style>\n",
       "<table border=\"1\" class=\"dataframe\">\n",
       "  <thead>\n",
       "    <tr style=\"text-align: right;\">\n",
       "      <th></th>\n",
       "      <th>id</th>\n",
       "      <th>age</th>\n",
       "      <th>salary</th>\n",
       "      <th>join_date</th>\n",
       "      <th>duration</th>\n",
       "      <th>department</th>\n",
       "      <th>active</th>\n",
       "      <th>is_member</th>\n",
       "    </tr>\n",
       "  </thead>\n",
       "  <tbody>\n",
       "    <tr>\n",
       "      <th>0</th>\n",
       "      <td>001</td>\n",
       "      <td>25</td>\n",
       "      <td>55000.0</td>\n",
       "      <td>2023-07-01</td>\n",
       "      <td>1 days 12:00:00</td>\n",
       "      <td>HR</td>\n",
       "      <td>Yes</td>\n",
       "      <td>True</td>\n",
       "    </tr>\n",
       "    <tr>\n",
       "      <th>1</th>\n",
       "      <td>002</td>\n",
       "      <td>30</td>\n",
       "      <td>NaN</td>\n",
       "      <td>2023-10-15</td>\n",
       "      <td>2 days 00:00:00</td>\n",
       "      <td>IT</td>\n",
       "      <td>No</td>\n",
       "      <td>False</td>\n",
       "    </tr>\n",
       "    <tr>\n",
       "      <th>2</th>\n",
       "      <td>003</td>\n",
       "      <td>45</td>\n",
       "      <td>NaN</td>\n",
       "      <td>NaT</td>\n",
       "      <td>0 days 05:30:00</td>\n",
       "      <td>Finance</td>\n",
       "      <td>Yes</td>\n",
       "      <td>True</td>\n",
       "    </tr>\n",
       "  </tbody>\n",
       "</table>\n",
       "</div>"
      ],
      "text/plain": [
       "    id  age   salary  join_date        duration department active  is_member\n",
       "0  001   25  55000.0 2023-07-01 1 days 12:00:00         HR    Yes       True\n",
       "1  002   30      NaN 2023-10-15 2 days 00:00:00         IT     No      False\n",
       "2  003   45      NaN        NaT 0 days 05:30:00    Finance    Yes       True"
      ]
     },
     "execution_count": 84,
     "metadata": {},
     "output_type": "execute_result"
    }
   ],
   "source": [
    "df"
   ]
  },
  {
   "cell_type": "code",
   "execution_count": 85,
   "id": "7dda1dd4",
   "metadata": {},
   "outputs": [
    {
     "data": {
      "text/plain": [
       "0     True\n",
       "1    False\n",
       "2     True\n",
       "Name: active, dtype: bool"
      ]
     },
     "execution_count": 85,
     "metadata": {},
     "output_type": "execute_result"
    }
   ],
   "source": [
    "df['active'].map({'Yes': True, 'No': False})"
   ]
  },
  {
   "cell_type": "code",
   "execution_count": 86,
   "id": "e8ed1f78",
   "metadata": {},
   "outputs": [
    {
     "data": {
      "text/plain": [
       "0    True\n",
       "1    True\n",
       "2    True\n",
       "Name: active, dtype: bool"
      ]
     },
     "execution_count": 86,
     "metadata": {},
     "output_type": "execute_result"
    }
   ],
   "source": [
    "df['active'].astype(bool) # Only if already 0/1"
   ]
  },
  {
   "cell_type": "markdown",
   "id": "a85721fa",
   "metadata": {},
   "source": [
    "#### 📌 **Real-Time Use Case**:\n",
    "\n",
    "Forms or survey tools export checkboxes as `'Yes'/'No'`."
   ]
  },
  {
   "cell_type": "markdown",
   "id": "ba6dfa86",
   "metadata": {},
   "source": [
    "## 📋 Consistency Checks After Conversion\n",
    "\n",
    "### ✅ Check Data Types"
   ]
  },
  {
   "cell_type": "code",
   "execution_count": 87,
   "id": "caeb8942",
   "metadata": {},
   "outputs": [
    {
     "data": {
      "text/plain": [
       "id                     object\n",
       "age                     int32\n",
       "salary                float64\n",
       "join_date      datetime64[ns]\n",
       "duration      timedelta64[ns]\n",
       "department           category\n",
       "active                 object\n",
       "is_member                bool\n",
       "dtype: object"
      ]
     },
     "execution_count": 87,
     "metadata": {},
     "output_type": "execute_result"
    }
   ],
   "source": [
    "df.dtypes"
   ]
  },
  {
   "cell_type": "markdown",
   "id": "de3ff68f",
   "metadata": {},
   "source": [
    "### ✅ Check Unique Values\n",
    "\n",
    "Useful for spotting inconsistent casing or typos."
   ]
  },
  {
   "cell_type": "code",
   "execution_count": 88,
   "id": "227d7b4b",
   "metadata": {},
   "outputs": [
    {
     "data": {
      "text/plain": [
       "['HR', 'IT', 'Finance']\n",
       "Categories (3, object): ['Finance', 'HR', 'IT']"
      ]
     },
     "execution_count": 88,
     "metadata": {},
     "output_type": "execute_result"
    }
   ],
   "source": [
    "df['department'].unique()"
   ]
  },
  {
   "cell_type": "markdown",
   "id": "1dda2b38",
   "metadata": {},
   "source": [
    "### ✅ Normalize Text Before Type Conversion\n",
    "\n",
    "For string-cleaned columns before mapping:\n",
    "\n",
    "```python\n",
    "df['col'] = df['col'].str.strip().str.lower()\n",
    "```"
   ]
  },
  {
   "cell_type": "markdown",
   "id": "05e661c0",
   "metadata": {},
   "source": [
    "\n",
    "\n",
    "## 🧠 Real-Time Use Cases Summary\n",
    "\n",
    "| Scenario                                 | Method                        | Why It Works                              |\n",
    "| ---------------------------------------- | ----------------------------- | ----------------------------------------- |\n",
    "| Salary loaded as strings                 | `pd.to_numeric()`             | Safely handles errors and corrupt strings |\n",
    "| Joining on Date                          | `pd.to_datetime()`            | Ensures proper date comparison            |\n",
    "| User responses in ‘Yes/No’               | `.map()` or `.astype(bool)`   | Converts into binary logical form         |\n",
    "| Survey column like “region”              | `astype('category')`          | Saves memory, speeds up groupby           |\n",
    "| Mixed numeric + text (e.g. '500', 'abc') | `to_numeric(errors='coerce')` | Keeps good data, flags bad                |\n",
    "\n",
    "\n",
    "## 🔚 Summary of Methods\n",
    "\n",
    "| Method                  | Use                                    |\n",
    "| ----------------------- | -------------------------------------- |\n",
    "| `astype()`              | Direct conversion for clean data       |\n",
    "| `pd.to_numeric()`       | Convert mixed string/number to numeric |\n",
    "| `pd.to_datetime()`      | Handle and normalize dates             |\n",
    "| `pd.to_timedelta()`     | Parse durations                        |\n",
    "| `map()` or `.replace()` | String to bool or categorical          |\n",
    "| `astype('category')`    | Save memory, speed up processing       |\n"
   ]
  },
  {
   "cell_type": "markdown",
   "id": "c782b79a",
   "metadata": {},
   "source": [
    "<center><b>Thanks</b></center>"
   ]
  }
 ],
 "metadata": {
  "kernelspec": {
   "display_name": "Python 3",
   "language": "python",
   "name": "python3"
  },
  "language_info": {
   "codemirror_mode": {
    "name": "ipython",
    "version": 3
   },
   "file_extension": ".py",
   "mimetype": "text/x-python",
   "name": "python",
   "nbconvert_exporter": "python",
   "pygments_lexer": "ipython3",
   "version": "3.10.2"
  }
 },
 "nbformat": 4,
 "nbformat_minor": 5
}
