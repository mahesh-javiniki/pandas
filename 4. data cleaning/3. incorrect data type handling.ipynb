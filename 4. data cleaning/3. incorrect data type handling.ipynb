{
 "cells": [
  {
   "cell_type": "markdown",
   "id": "72ee6ddc",
   "metadata": {},
   "source": [
    "# **Data Cleaning**"
   ]
  },
  {
   "cell_type": "markdown",
   "id": "7af424df",
   "metadata": {},
   "source": [
    "## **3. Fixing Incorrect Data Types**"
   ]
  },
  {
   "cell_type": "code",
   "execution_count": 1,
   "id": "e2e81ace",
   "metadata": {},
   "outputs": [],
   "source": [
    "import numpy as np\n",
    "import pandas as pd "
   ]
  },
  {
   "cell_type": "markdown",
   "id": "f31d3285",
   "metadata": {},
   "source": [
    "## 🔍 Why Fix Data Types?\n",
    "\n",
    "Incorrect or inconsistent data types can cause:\n",
    "\n",
    "* Errors in computation (e.g., strings instead of numbers)\n",
    "* Problems during merging, grouping, or modeling\n",
    "* Inaccurate memory usage and performance issues\n",
    "* Incompatibility with machine learning algorithms\n"
   ]
  },
  {
   "cell_type": "markdown",
   "id": "9215bb83",
   "metadata": {},
   "source": [
    "### ✅ Real-Life Examples of Type Issues\n",
    "\n",
    "| Field         | Incorrect Type          | Desired Type      |\n",
    "| ------------- | ----------------------- | ----------------- |\n",
    "| Age           | String (`\"25\"`)         | Integer (`25`)    |\n",
    "| Date of Birth | Object (`'2023-07-01'`) | Datetime          |\n",
    "| Salary        | Object (`'60K'`)        | Float (`60000.0`) |\n",
    "| Category      | Object                  | Categorical       |\n"
   ]
  },
  {
   "cell_type": "markdown",
   "id": "530741df",
   "metadata": {},
   "source": [
    "## 🛠️ Key Techniques for Fixing Data Types"
   ]
  },
  {
   "cell_type": "code",
   "execution_count": 2,
   "id": "7fb4ad34",
   "metadata": {},
   "outputs": [
    {
     "data": {
      "text/html": [
       "<div>\n",
       "<style scoped>\n",
       "    .dataframe tbody tr th:only-of-type {\n",
       "        vertical-align: middle;\n",
       "    }\n",
       "\n",
       "    .dataframe tbody tr th {\n",
       "        vertical-align: top;\n",
       "    }\n",
       "\n",
       "    .dataframe thead th {\n",
       "        text-align: right;\n",
       "    }\n",
       "</style>\n",
       "<table border=\"1\" class=\"dataframe\">\n",
       "  <thead>\n",
       "    <tr style=\"text-align: right;\">\n",
       "      <th></th>\n",
       "      <th>Name</th>\n",
       "      <th>Age</th>\n",
       "      <th>Salary</th>\n",
       "      <th>JoinDate</th>\n",
       "      <th>Department</th>\n",
       "    </tr>\n",
       "  </thead>\n",
       "  <tbody>\n",
       "    <tr>\n",
       "      <th>0</th>\n",
       "      <td>Alice</td>\n",
       "      <td>25</td>\n",
       "      <td>50000</td>\n",
       "      <td>2022-01-15</td>\n",
       "      <td>Sales</td>\n",
       "    </tr>\n",
       "    <tr>\n",
       "      <th>1</th>\n",
       "      <td>Bob</td>\n",
       "      <td>30</td>\n",
       "      <td>60000</td>\n",
       "      <td>2021-11-10</td>\n",
       "      <td>HR</td>\n",
       "    </tr>\n",
       "    <tr>\n",
       "      <th>2</th>\n",
       "      <td>Charlie</td>\n",
       "      <td>35</td>\n",
       "      <td>70000</td>\n",
       "      <td>2023-03-05</td>\n",
       "      <td>Sales</td>\n",
       "    </tr>\n",
       "  </tbody>\n",
       "</table>\n",
       "</div>"
      ],
      "text/plain": [
       "      Name Age Salary    JoinDate Department\n",
       "0    Alice  25  50000  2022-01-15      Sales\n",
       "1      Bob  30  60000  2021-11-10         HR\n",
       "2  Charlie  35  70000  2023-03-05      Sales"
      ]
     },
     "execution_count": 2,
     "metadata": {},
     "output_type": "execute_result"
    }
   ],
   "source": [
    "data = {\n",
    "    'Name': ['Alice', 'Bob', 'Charlie'],\n",
    "    'Age': ['25', '30', '35'],            # Strings instead of int\n",
    "    'Salary': ['50000', '60000', '70000'],# Strings instead of float\n",
    "    'JoinDate': ['2022-01-15', '2021-11-10', '2023-03-05'],  # Strings, not datetime\n",
    "    'Department': ['Sales', 'HR', 'Sales'] # Candidate for category\n",
    "}\n",
    "\n",
    "df = pd.DataFrame(data)\n",
    "\n",
    "df"
   ]
  },
  {
   "cell_type": "code",
   "execution_count": 4,
   "id": "ea412a12",
   "metadata": {},
   "outputs": [
    {
     "data": {
      "text/plain": [
       "Name          object\n",
       "Age           object\n",
       "Salary        object\n",
       "JoinDate      object\n",
       "Department    object\n",
       "dtype: object"
      ]
     },
     "execution_count": 4,
     "metadata": {},
     "output_type": "execute_result"
    }
   ],
   "source": [
    "df.dtypes"
   ]
  },
  {
   "cell_type": "markdown",
   "id": "a3f247bb",
   "metadata": {},
   "source": [
    "## 🔹 **1. Converting Column to Numeric**\n",
    "\n",
    "#### ▶️ Method: `pd.to_numeric()`"
   ]
  },
  {
   "cell_type": "code",
   "execution_count": 5,
   "id": "4049324f",
   "metadata": {},
   "outputs": [],
   "source": [
    "df['Age'] = pd.to_numeric(df['Age'])\n",
    "df['Salary'] = pd.to_numeric(df['Salary'])"
   ]
  },
  {
   "cell_type": "code",
   "execution_count": 6,
   "id": "da8f1bc2",
   "metadata": {},
   "outputs": [
    {
     "data": {
      "text/html": [
       "<div>\n",
       "<style scoped>\n",
       "    .dataframe tbody tr th:only-of-type {\n",
       "        vertical-align: middle;\n",
       "    }\n",
       "\n",
       "    .dataframe tbody tr th {\n",
       "        vertical-align: top;\n",
       "    }\n",
       "\n",
       "    .dataframe thead th {\n",
       "        text-align: right;\n",
       "    }\n",
       "</style>\n",
       "<table border=\"1\" class=\"dataframe\">\n",
       "  <thead>\n",
       "    <tr style=\"text-align: right;\">\n",
       "      <th></th>\n",
       "      <th>Name</th>\n",
       "      <th>Age</th>\n",
       "      <th>Salary</th>\n",
       "      <th>JoinDate</th>\n",
       "      <th>Department</th>\n",
       "    </tr>\n",
       "  </thead>\n",
       "  <tbody>\n",
       "    <tr>\n",
       "      <th>0</th>\n",
       "      <td>Alice</td>\n",
       "      <td>25</td>\n",
       "      <td>50000</td>\n",
       "      <td>2022-01-15</td>\n",
       "      <td>Sales</td>\n",
       "    </tr>\n",
       "    <tr>\n",
       "      <th>1</th>\n",
       "      <td>Bob</td>\n",
       "      <td>30</td>\n",
       "      <td>60000</td>\n",
       "      <td>2021-11-10</td>\n",
       "      <td>HR</td>\n",
       "    </tr>\n",
       "    <tr>\n",
       "      <th>2</th>\n",
       "      <td>Charlie</td>\n",
       "      <td>35</td>\n",
       "      <td>70000</td>\n",
       "      <td>2023-03-05</td>\n",
       "      <td>Sales</td>\n",
       "    </tr>\n",
       "  </tbody>\n",
       "</table>\n",
       "</div>"
      ],
      "text/plain": [
       "      Name  Age  Salary    JoinDate Department\n",
       "0    Alice   25   50000  2022-01-15      Sales\n",
       "1      Bob   30   60000  2021-11-10         HR\n",
       "2  Charlie   35   70000  2023-03-05      Sales"
      ]
     },
     "execution_count": 6,
     "metadata": {},
     "output_type": "execute_result"
    }
   ],
   "source": [
    "df"
   ]
  },
  {
   "cell_type": "code",
   "execution_count": 7,
   "id": "2813751f",
   "metadata": {},
   "outputs": [
    {
     "data": {
      "text/plain": [
       "Name          object\n",
       "Age            int64\n",
       "Salary         int64\n",
       "JoinDate      object\n",
       "Department    object\n",
       "dtype: object"
      ]
     },
     "execution_count": 7,
     "metadata": {},
     "output_type": "execute_result"
    }
   ],
   "source": [
    "df.dtypes"
   ]
  },
  {
   "cell_type": "markdown",
   "id": "a4a48c81",
   "metadata": {},
   "source": [
    "#### ✅ Real-World Use Case:\n",
    "\n",
    "CSV export from Excel stores all columns as strings. To perform analytics, numeric columns like `\"Age\"` and `\"Salary\"` must be converted.\n",
    "\n",
    "🔹 *Why this method?*\n",
    "Handles type conversion with options to handle errors gracefully (`errors='coerce'`)."
   ]
  },
  {
   "cell_type": "markdown",
   "id": "164250be",
   "metadata": {},
   "source": [
    "## 🔹 **2. Converting to Datetime**\n",
    "\n",
    "#### ▶️ Method: `pd.to_datetime()`"
   ]
  },
  {
   "cell_type": "code",
   "execution_count": 8,
   "id": "77993edb",
   "metadata": {},
   "outputs": [],
   "source": [
    "df['JoinDate'] = pd.to_datetime(df['JoinDate'])"
   ]
  },
  {
   "cell_type": "code",
   "execution_count": 9,
   "id": "d63aaccf",
   "metadata": {},
   "outputs": [
    {
     "data": {
      "text/plain": [
       "Name                  object\n",
       "Age                    int64\n",
       "Salary                 int64\n",
       "JoinDate      datetime64[ns]\n",
       "Department            object\n",
       "dtype: object"
      ]
     },
     "execution_count": 9,
     "metadata": {},
     "output_type": "execute_result"
    }
   ],
   "source": [
    "df.dtypes"
   ]
  },
  {
   "cell_type": "markdown",
   "id": "dfdf3336",
   "metadata": {},
   "source": [
    "#### ✅ Real-World Use Case:\n",
    "\n",
    "You’re doing **employee tenure analysis** using JoinDate — it must be datetime for operations like filtering by year or sorting chronologically.\n",
    "\n",
    "🔹 *Why this method?*\n",
    "Robust conversion with format inference and error handling (e.g., `errors='coerce'`).\n"
   ]
  },
  {
   "cell_type": "markdown",
   "id": "fe07b257",
   "metadata": {},
   "source": [
    "## 🔹 **3. Using `astype()` for Type Casting**"
   ]
  },
  {
   "cell_type": "code",
   "execution_count": 10,
   "id": "fd6dfc82",
   "metadata": {},
   "outputs": [
    {
     "data": {
      "text/html": [
       "<div>\n",
       "<style scoped>\n",
       "    .dataframe tbody tr th:only-of-type {\n",
       "        vertical-align: middle;\n",
       "    }\n",
       "\n",
       "    .dataframe tbody tr th {\n",
       "        vertical-align: top;\n",
       "    }\n",
       "\n",
       "    .dataframe thead th {\n",
       "        text-align: right;\n",
       "    }\n",
       "</style>\n",
       "<table border=\"1\" class=\"dataframe\">\n",
       "  <thead>\n",
       "    <tr style=\"text-align: right;\">\n",
       "      <th></th>\n",
       "      <th>Name</th>\n",
       "      <th>Age</th>\n",
       "      <th>Salary</th>\n",
       "      <th>JoinDate</th>\n",
       "      <th>Department</th>\n",
       "    </tr>\n",
       "  </thead>\n",
       "  <tbody>\n",
       "    <tr>\n",
       "      <th>0</th>\n",
       "      <td>Alice</td>\n",
       "      <td>25</td>\n",
       "      <td>50000</td>\n",
       "      <td>2022-01-15</td>\n",
       "      <td>Sales</td>\n",
       "    </tr>\n",
       "    <tr>\n",
       "      <th>1</th>\n",
       "      <td>Bob</td>\n",
       "      <td>30</td>\n",
       "      <td>60000</td>\n",
       "      <td>2021-11-10</td>\n",
       "      <td>HR</td>\n",
       "    </tr>\n",
       "    <tr>\n",
       "      <th>2</th>\n",
       "      <td>Charlie</td>\n",
       "      <td>35</td>\n",
       "      <td>70000</td>\n",
       "      <td>2023-03-05</td>\n",
       "      <td>Sales</td>\n",
       "    </tr>\n",
       "  </tbody>\n",
       "</table>\n",
       "</div>"
      ],
      "text/plain": [
       "      Name  Age  Salary   JoinDate Department\n",
       "0    Alice   25   50000 2022-01-15      Sales\n",
       "1      Bob   30   60000 2021-11-10         HR\n",
       "2  Charlie   35   70000 2023-03-05      Sales"
      ]
     },
     "execution_count": 10,
     "metadata": {},
     "output_type": "execute_result"
    }
   ],
   "source": [
    "df"
   ]
  },
  {
   "cell_type": "code",
   "execution_count": 11,
   "id": "34083401",
   "metadata": {},
   "outputs": [
    {
     "data": {
      "text/plain": [
       "Name                  object\n",
       "Age                    int64\n",
       "Salary                 int64\n",
       "JoinDate      datetime64[ns]\n",
       "Department            object\n",
       "dtype: object"
      ]
     },
     "execution_count": 11,
     "metadata": {},
     "output_type": "execute_result"
    }
   ],
   "source": [
    "df.dtypes"
   ]
  },
  {
   "cell_type": "code",
   "execution_count": 12,
   "id": "47021c6d",
   "metadata": {},
   "outputs": [],
   "source": [
    "df['Age'] = df['Age'].astype(np.int16)\n",
    "df['Salary'] = df['Salary'].astype(np.float32)\n",
    "df['Department'] = df['Department'].astype('category')"
   ]
  },
  {
   "cell_type": "code",
   "execution_count": 13,
   "id": "74ef4af8",
   "metadata": {},
   "outputs": [
    {
     "data": {
      "text/html": [
       "<div>\n",
       "<style scoped>\n",
       "    .dataframe tbody tr th:only-of-type {\n",
       "        vertical-align: middle;\n",
       "    }\n",
       "\n",
       "    .dataframe tbody tr th {\n",
       "        vertical-align: top;\n",
       "    }\n",
       "\n",
       "    .dataframe thead th {\n",
       "        text-align: right;\n",
       "    }\n",
       "</style>\n",
       "<table border=\"1\" class=\"dataframe\">\n",
       "  <thead>\n",
       "    <tr style=\"text-align: right;\">\n",
       "      <th></th>\n",
       "      <th>Name</th>\n",
       "      <th>Age</th>\n",
       "      <th>Salary</th>\n",
       "      <th>JoinDate</th>\n",
       "      <th>Department</th>\n",
       "    </tr>\n",
       "  </thead>\n",
       "  <tbody>\n",
       "    <tr>\n",
       "      <th>0</th>\n",
       "      <td>Alice</td>\n",
       "      <td>25</td>\n",
       "      <td>50000.0</td>\n",
       "      <td>2022-01-15</td>\n",
       "      <td>Sales</td>\n",
       "    </tr>\n",
       "    <tr>\n",
       "      <th>1</th>\n",
       "      <td>Bob</td>\n",
       "      <td>30</td>\n",
       "      <td>60000.0</td>\n",
       "      <td>2021-11-10</td>\n",
       "      <td>HR</td>\n",
       "    </tr>\n",
       "    <tr>\n",
       "      <th>2</th>\n",
       "      <td>Charlie</td>\n",
       "      <td>35</td>\n",
       "      <td>70000.0</td>\n",
       "      <td>2023-03-05</td>\n",
       "      <td>Sales</td>\n",
       "    </tr>\n",
       "  </tbody>\n",
       "</table>\n",
       "</div>"
      ],
      "text/plain": [
       "      Name  Age   Salary   JoinDate Department\n",
       "0    Alice   25  50000.0 2022-01-15      Sales\n",
       "1      Bob   30  60000.0 2021-11-10         HR\n",
       "2  Charlie   35  70000.0 2023-03-05      Sales"
      ]
     },
     "execution_count": 13,
     "metadata": {},
     "output_type": "execute_result"
    }
   ],
   "source": [
    "df"
   ]
  },
  {
   "cell_type": "code",
   "execution_count": 14,
   "id": "61f4efd3",
   "metadata": {},
   "outputs": [
    {
     "data": {
      "text/plain": [
       "Name                  object\n",
       "Age                    int16\n",
       "Salary               float32\n",
       "JoinDate      datetime64[ns]\n",
       "Department          category\n",
       "dtype: object"
      ]
     },
     "execution_count": 14,
     "metadata": {},
     "output_type": "execute_result"
    }
   ],
   "source": [
    "df.dtypes"
   ]
  },
  {
   "cell_type": "markdown",
   "id": "779458aa",
   "metadata": {},
   "source": [
    "#### ✅ Real-World Use Cases:\n",
    "\n",
    "* Reduce memory by converting `\"Department\"` from object to `\"category\"` in large datasets (e.g., millions of rows).\n",
    "* Ensure `\"Age\"` and `\"Salary\"` are numeric before modeling.\n",
    "\n",
    "🔹 *Why this method?*\n",
    "Fast and explicit type conversion when data is already clean.\n"
   ]
  },
  {
   "cell_type": "markdown",
   "id": "2c5669c7",
   "metadata": {},
   "source": [
    "## 🔹 **4. Inferring Object Types Automatically**\n",
    "\n",
    "#### ▶️ Method: `infer_objects()`"
   ]
  },
  {
   "cell_type": "code",
   "execution_count": 15,
   "id": "5064876b",
   "metadata": {},
   "outputs": [
    {
     "data": {
      "text/html": [
       "<div>\n",
       "<style scoped>\n",
       "    .dataframe tbody tr th:only-of-type {\n",
       "        vertical-align: middle;\n",
       "    }\n",
       "\n",
       "    .dataframe tbody tr th {\n",
       "        vertical-align: top;\n",
       "    }\n",
       "\n",
       "    .dataframe thead th {\n",
       "        text-align: right;\n",
       "    }\n",
       "</style>\n",
       "<table border=\"1\" class=\"dataframe\">\n",
       "  <thead>\n",
       "    <tr style=\"text-align: right;\">\n",
       "      <th></th>\n",
       "      <th>Name</th>\n",
       "      <th>Age</th>\n",
       "      <th>Salary</th>\n",
       "      <th>JoinDate</th>\n",
       "      <th>Department</th>\n",
       "    </tr>\n",
       "  </thead>\n",
       "  <tbody>\n",
       "    <tr>\n",
       "      <th>0</th>\n",
       "      <td>Alice</td>\n",
       "      <td>25</td>\n",
       "      <td>50000.0</td>\n",
       "      <td>2022-01-15</td>\n",
       "      <td>Sales</td>\n",
       "    </tr>\n",
       "    <tr>\n",
       "      <th>1</th>\n",
       "      <td>Bob</td>\n",
       "      <td>30</td>\n",
       "      <td>60000.0</td>\n",
       "      <td>2021-11-10</td>\n",
       "      <td>HR</td>\n",
       "    </tr>\n",
       "    <tr>\n",
       "      <th>2</th>\n",
       "      <td>Charlie</td>\n",
       "      <td>35</td>\n",
       "      <td>70000.0</td>\n",
       "      <td>2023-03-05</td>\n",
       "      <td>Sales</td>\n",
       "    </tr>\n",
       "  </tbody>\n",
       "</table>\n",
       "</div>"
      ],
      "text/plain": [
       "      Name  Age   Salary   JoinDate Department\n",
       "0    Alice   25  50000.0 2022-01-15      Sales\n",
       "1      Bob   30  60000.0 2021-11-10         HR\n",
       "2  Charlie   35  70000.0 2023-03-05      Sales"
      ]
     },
     "execution_count": 15,
     "metadata": {},
     "output_type": "execute_result"
    }
   ],
   "source": [
    "df.infer_objects()"
   ]
  },
  {
   "cell_type": "code",
   "execution_count": 16,
   "id": "21b7d982",
   "metadata": {},
   "outputs": [
    {
     "data": {
      "text/plain": [
       "Name                  object\n",
       "Age                    int16\n",
       "Salary               float32\n",
       "JoinDate      datetime64[ns]\n",
       "Department          category\n",
       "dtype: object"
      ]
     },
     "execution_count": 16,
     "metadata": {},
     "output_type": "execute_result"
    }
   ],
   "source": [
    "df.infer_objects().dtypes"
   ]
  },
  {
   "cell_type": "markdown",
   "id": "23ad853a",
   "metadata": {},
   "source": [
    "#### ✅ Use Case:\n",
    "\n",
    "You loaded data from JSON/CSV and want pandas to **auto-convert object types** to the most likely dtype (int, float, etc.).\n",
    "\n",
    "🔹 *Why this method?*\n",
    "Useful when doing an initial cleanup of mixed object types.\n"
   ]
  },
  {
   "cell_type": "markdown",
   "id": "bb4252d9",
   "metadata": {},
   "source": [
    "## 🔹 **5. Parsing Numbers with Non-Numeric Characters**"
   ]
  },
  {
   "cell_type": "code",
   "execution_count": 17,
   "id": "a3f407ef",
   "metadata": {},
   "outputs": [
    {
     "data": {
      "text/html": [
       "<div>\n",
       "<style scoped>\n",
       "    .dataframe tbody tr th:only-of-type {\n",
       "        vertical-align: middle;\n",
       "    }\n",
       "\n",
       "    .dataframe tbody tr th {\n",
       "        vertical-align: top;\n",
       "    }\n",
       "\n",
       "    .dataframe thead th {\n",
       "        text-align: right;\n",
       "    }\n",
       "</style>\n",
       "<table border=\"1\" class=\"dataframe\">\n",
       "  <thead>\n",
       "    <tr style=\"text-align: right;\">\n",
       "      <th></th>\n",
       "      <th>Name</th>\n",
       "      <th>Age</th>\n",
       "      <th>Salary</th>\n",
       "      <th>JoinDate</th>\n",
       "      <th>Department</th>\n",
       "    </tr>\n",
       "  </thead>\n",
       "  <tbody>\n",
       "    <tr>\n",
       "      <th>0</th>\n",
       "      <td>Alice</td>\n",
       "      <td>25</td>\n",
       "      <td>50000.0</td>\n",
       "      <td>2022-01-15</td>\n",
       "      <td>Sales</td>\n",
       "    </tr>\n",
       "    <tr>\n",
       "      <th>1</th>\n",
       "      <td>Bob</td>\n",
       "      <td>30</td>\n",
       "      <td>60000.0</td>\n",
       "      <td>2021-11-10</td>\n",
       "      <td>HR</td>\n",
       "    </tr>\n",
       "    <tr>\n",
       "      <th>2</th>\n",
       "      <td>Charlie</td>\n",
       "      <td>35</td>\n",
       "      <td>70000.0</td>\n",
       "      <td>2023-03-05</td>\n",
       "      <td>Sales</td>\n",
       "    </tr>\n",
       "  </tbody>\n",
       "</table>\n",
       "</div>"
      ],
      "text/plain": [
       "      Name  Age   Salary   JoinDate Department\n",
       "0    Alice   25  50000.0 2022-01-15      Sales\n",
       "1      Bob   30  60000.0 2021-11-10         HR\n",
       "2  Charlie   35  70000.0 2023-03-05      Sales"
      ]
     },
     "execution_count": 17,
     "metadata": {},
     "output_type": "execute_result"
    }
   ],
   "source": [
    "df"
   ]
  },
  {
   "cell_type": "markdown",
   "id": "1f4d1c09",
   "metadata": {},
   "source": [
    "```python\n",
    "df['Salary'] = df['Salary'].str.replace(',', '').str.replace('$', '').astype(float)\n",
    "```\n",
    "\n",
    "Or using regex with `str.extract()`:\n",
    "\n",
    "```python\n",
    "df['Salary'] = df['Salary'].str.extract('(\\d+)').astype(float)\n",
    "```"
   ]
  },
  {
   "cell_type": "markdown",
   "id": "14195916",
   "metadata": {},
   "source": [
    "#### ✅ Real-World Use Case:\n",
    "\n",
    "Financial systems store `\"Salary\"` as `$60,000` — these characters must be stripped before numeric conversion.\n",
    "\n",
    "🔹 *Why this method?*\n",
    "Cleaning before casting ensures no conversion errors.\n"
   ]
  },
  {
   "cell_type": "markdown",
   "id": "3eb2f151",
   "metadata": {},
   "source": [
    "## 🔹 **6. Converting to Boolean**\n",
    "\n",
    "```python\n",
    "df['IsActive'] = df['IsActive'].map({'yes': True, 'no': False})\n",
    "```\n",
    "\n",
    "#### ✅ Use Case:\n",
    "\n",
    "In survey data, answers like “Yes”/“No” need to be converted into **boolean** to make them usable in models or filters.\n",
    "\n",
    "🔹 *Why this method?*\n",
    "Mapping string flags to `True`/`False` ensures consistency.\n"
   ]
  },
  {
   "cell_type": "markdown",
   "id": "04e6c882",
   "metadata": {},
   "source": [
    "## 🔹 **7. Handling Errors During Type Conversion**\n",
    "\n",
    "```python\n",
    "pd.to_numeric(df['Age'], errors='coerce')\n",
    "pd.to_datetime(df['JoinDate'], errors='coerce')\n",
    "```\n",
    "\n",
    "#### ✅ Use Case:\n",
    "\n",
    "Your `\"Age\"` column has `\"unknown\"` or `\"N/A\"` — coerce them to NaN instead of failing.\n",
    "\n",
    "🔹 *Why this method?*\n",
    "Graceful fallback for cleaning large dirty datasets.\n"
   ]
  },
  {
   "cell_type": "markdown",
   "id": "939e5bf4",
   "metadata": {},
   "source": [
    "## 📌 Summary Table\n",
    "\n",
    "| Technique                   | Purpose                               | Real-World Use Case                          |\n",
    "| --------------------------- | ------------------------------------- | -------------------------------------------- |\n",
    "| `pd.to_numeric()`           | Convert string to int/float           | Cleaned salary field from string             |\n",
    "| `pd.to_datetime()`          | Convert string to datetime            | Working with timestamps or event logs        |\n",
    "| `astype()`                  | Cast dtype explicitly                 | Ensure numeric types before modeling         |\n",
    "| `infer_objects()`           | Guess types from object columns       | General cleanup after import                 |\n",
    "| `.str.replace() + astype()` | Strip characters and convert          | Handle values like \"\\$60,000\" or \"1,200\"     |\n",
    "| `str.extract()`             | Regex-based number extraction         | Pull numeric portion from noisy strings      |\n",
    "| `map()`                     | Map to custom types (e.g. boolean)    | Convert \"yes\"/\"no\" to True/False             |\n",
    "| `errors='coerce'`           | Handle invalid conversions gracefully | Set faulty values to NaN instead of crashing |\n"
   ]
  },
  {
   "cell_type": "markdown",
   "id": "7c950ab9",
   "metadata": {},
   "source": [
    "### 🧠 Best Practices\n",
    "\n",
    "* Always inspect with `df.dtypes` or `df.info()` before cleaning.\n",
    "* Be cautious when using `astype()`— it fails if data isn't clean.\n",
    "* Use `errors='coerce'` to avoid unexpected crashes.\n",
    "* Convert objects to `category` for large low-cardinality columns to save memory."
   ]
  },
  {
   "cell_type": "markdown",
   "id": "6fa4840e",
   "metadata": {},
   "source": [
    "<center><b>Thanks</b></center>"
   ]
  }
 ],
 "metadata": {
  "kernelspec": {
   "display_name": "Python 3",
   "language": "python",
   "name": "python3"
  },
  "language_info": {
   "codemirror_mode": {
    "name": "ipython",
    "version": 3
   },
   "file_extension": ".py",
   "mimetype": "text/x-python",
   "name": "python",
   "nbconvert_exporter": "python",
   "pygments_lexer": "ipython3",
   "version": "3.10.2"
  }
 },
 "nbformat": 4,
 "nbformat_minor": 5
}
