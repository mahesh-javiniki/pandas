{
 "cells": [
  {
   "cell_type": "markdown",
   "id": "cabc9483",
   "metadata": {},
   "source": [
    "# **Data Cleaning**"
   ]
  },
  {
   "cell_type": "markdown",
   "id": "e0903721",
   "metadata": {},
   "source": [
    "# **12. Removing or Treating Noise in Pandas**"
   ]
  },
  {
   "cell_type": "code",
   "execution_count": 1,
   "id": "e538bb1e",
   "metadata": {},
   "outputs": [],
   "source": [
    "import numpy as np\n",
    "import pandas as pd "
   ]
  },
  {
   "cell_type": "markdown",
   "id": "75c2971d",
   "metadata": {},
   "source": [
    "Data noise refers to meaningless or inconsistent data that can obscure patterns or lead to incorrect analysis. Common types of noise include:\n",
    "\n",
    "* **Spelling inconsistencies** in categorical labels\n",
    "* **Rare categories** with very low frequencies\n",
    "* **Data entry errors, typos, or format mismatches**\n",
    "\n",
    "We'll now cover:\n",
    "\n",
    "1. **Spelling Correction using `fuzzywuzzy` or `difflib`**\n",
    "2. **Frequency Filtering of Rare Categories**"
   ]
  },
  {
   "cell_type": "markdown",
   "id": "150258ed",
   "metadata": {},
   "source": [
    "## 🔹 1. Spelling Correction Using `fuzzywuzzy` or `difflib`\n",
    "\n",
    "### 🔧 Techniques\n",
    "\n",
    "* `fuzzywuzzy.process.extractOne()` – Finds the best match from a list using fuzzy matching.\n",
    "* `difflib.get_close_matches()` – Finds close string matches using sequence similarity.\n",
    "\n",
    "### ✅ Use Case:\n",
    "\n",
    "Suppose a column like `\"department\"` contains spelling variations:"
   ]
  },
  {
   "cell_type": "code",
   "execution_count": 2,
   "id": "7e792b8f",
   "metadata": {},
   "outputs": [
    {
     "data": {
      "text/html": [
       "<div>\n",
       "<style scoped>\n",
       "    .dataframe tbody tr th:only-of-type {\n",
       "        vertical-align: middle;\n",
       "    }\n",
       "\n",
       "    .dataframe tbody tr th {\n",
       "        vertical-align: top;\n",
       "    }\n",
       "\n",
       "    .dataframe thead th {\n",
       "        text-align: right;\n",
       "    }\n",
       "</style>\n",
       "<table border=\"1\" class=\"dataframe\">\n",
       "  <thead>\n",
       "    <tr style=\"text-align: right;\">\n",
       "      <th></th>\n",
       "      <th>department</th>\n",
       "    </tr>\n",
       "  </thead>\n",
       "  <tbody>\n",
       "    <tr>\n",
       "      <th>0</th>\n",
       "      <td>Finance</td>\n",
       "    </tr>\n",
       "    <tr>\n",
       "      <th>1</th>\n",
       "      <td>finanace</td>\n",
       "    </tr>\n",
       "    <tr>\n",
       "      <th>2</th>\n",
       "      <td>Fiance</td>\n",
       "    </tr>\n",
       "    <tr>\n",
       "      <th>3</th>\n",
       "      <td>HR</td>\n",
       "    </tr>\n",
       "    <tr>\n",
       "      <th>4</th>\n",
       "      <td>H.R.</td>\n",
       "    </tr>\n",
       "    <tr>\n",
       "      <th>5</th>\n",
       "      <td>Human Resources</td>\n",
       "    </tr>\n",
       "    <tr>\n",
       "      <th>6</th>\n",
       "      <td>IT</td>\n",
       "    </tr>\n",
       "    <tr>\n",
       "      <th>7</th>\n",
       "      <td>I.T</td>\n",
       "    </tr>\n",
       "  </tbody>\n",
       "</table>\n",
       "</div>"
      ],
      "text/plain": [
       "        department\n",
       "0          Finance\n",
       "1         finanace\n",
       "2           Fiance\n",
       "3               HR\n",
       "4             H.R.\n",
       "5  Human Resources\n",
       "6               IT\n",
       "7              I.T"
      ]
     },
     "execution_count": 2,
     "metadata": {},
     "output_type": "execute_result"
    }
   ],
   "source": [
    "df = pd.DataFrame({\n",
    "    'department': ['Finance', 'finanace', 'Fiance', 'HR', 'H.R.', 'Human Resources', 'IT', 'I.T']\n",
    "})\n",
    "\n",
    "df"
   ]
  },
  {
   "cell_type": "markdown",
   "id": "a70d11d9",
   "metadata": {},
   "source": [
    "### 🎯 Goal:\n",
    "\n",
    "Normalize all department names to consistent values like `['Finance', 'HR', 'IT']`.\n"
   ]
  },
  {
   "cell_type": "markdown",
   "id": "89e302df",
   "metadata": {},
   "source": [
    "### 📌 Using `fuzzywuzzy`"
   ]
  },
  {
   "cell_type": "code",
   "execution_count": 5,
   "id": "ea334100",
   "metadata": {},
   "outputs": [
    {
     "name": "stdout",
     "output_type": "stream",
     "text": [
      "Best match: ('Finance', 100)\n",
      "Best match: ('Finance', 93)\n",
      "Best match: ('Finance', 92)\n",
      "Best match: ('HR', 100)\n",
      "Best match: ('HR', 80)\n",
      "Best match: ('HR', 45)\n",
      "Best match: ('IT', 100)\n",
      "Best match: ('IT', 80)\n"
     ]
    },
    {
     "data": {
      "text/plain": [
       "0            Finance\n",
       "1            Finance\n",
       "2            Finance\n",
       "3                 HR\n",
       "4                 HR\n",
       "5    Human Resources\n",
       "6                 IT\n",
       "7                 IT\n",
       "Name: department, dtype: object"
      ]
     },
     "execution_count": 5,
     "metadata": {},
     "output_type": "execute_result"
    }
   ],
   "source": [
    "from fuzzywuzzy import process\n",
    "\n",
    "# Define standard set\n",
    "standard_departments = ['Finance', 'HR', 'IT']\n",
    "\n",
    "# Function to correct spelling\n",
    "def correct_dept(dept):\n",
    "    best_match = process.extractOne(dept, standard_departments)\n",
    "    print(f\"Best match: {best_match}\")\n",
    "    return best_match[0] if best_match[1] >= 80 else dept\n",
    "\n",
    "df['department'].apply(correct_dept)"
   ]
  },
  {
   "cell_type": "markdown",
   "id": "0b3134b1",
   "metadata": {},
   "source": [
    "### ✅ Why `fuzzywuzzy`?\n",
    "\n",
    "* Best for messy string data like human-entered categories.\n",
    "* Offers fuzzy ratio-based matching, works well on typos or keyboard errors.\n"
   ]
  },
  {
   "cell_type": "markdown",
   "id": "716ed45f",
   "metadata": {},
   "source": [
    "### 📌 Using `difflib`"
   ]
  },
  {
   "cell_type": "code",
   "execution_count": 6,
   "id": "0d48c97a",
   "metadata": {},
   "outputs": [],
   "source": [
    "import difflib"
   ]
  },
  {
   "cell_type": "code",
   "execution_count": 7,
   "id": "b9992675",
   "metadata": {},
   "outputs": [
    {
     "name": "stdout",
     "output_type": "stream",
     "text": [
      "Matches: ['Finance']\n",
      "Matches: ['Finance']\n",
      "Matches: ['Finance']\n",
      "Matches: ['HR']\n",
      "Matches: []\n",
      "Matches: []\n",
      "Matches: ['IT']\n",
      "Matches: ['IT']\n"
     ]
    },
    {
     "data": {
      "text/html": [
       "<div>\n",
       "<style scoped>\n",
       "    .dataframe tbody tr th:only-of-type {\n",
       "        vertical-align: middle;\n",
       "    }\n",
       "\n",
       "    .dataframe tbody tr th {\n",
       "        vertical-align: top;\n",
       "    }\n",
       "\n",
       "    .dataframe thead th {\n",
       "        text-align: right;\n",
       "    }\n",
       "</style>\n",
       "<table border=\"1\" class=\"dataframe\">\n",
       "  <thead>\n",
       "    <tr style=\"text-align: right;\">\n",
       "      <th></th>\n",
       "      <th>department</th>\n",
       "      <th>cleaned_dept</th>\n",
       "    </tr>\n",
       "  </thead>\n",
       "  <tbody>\n",
       "    <tr>\n",
       "      <th>0</th>\n",
       "      <td>Finance</td>\n",
       "      <td>Finance</td>\n",
       "    </tr>\n",
       "    <tr>\n",
       "      <th>1</th>\n",
       "      <td>finanace</td>\n",
       "      <td>Finance</td>\n",
       "    </tr>\n",
       "    <tr>\n",
       "      <th>2</th>\n",
       "      <td>Fiance</td>\n",
       "      <td>Finance</td>\n",
       "    </tr>\n",
       "    <tr>\n",
       "      <th>3</th>\n",
       "      <td>HR</td>\n",
       "      <td>HR</td>\n",
       "    </tr>\n",
       "    <tr>\n",
       "      <th>4</th>\n",
       "      <td>H.R.</td>\n",
       "      <td>H.R.</td>\n",
       "    </tr>\n",
       "    <tr>\n",
       "      <th>5</th>\n",
       "      <td>Human Resources</td>\n",
       "      <td>Human Resources</td>\n",
       "    </tr>\n",
       "    <tr>\n",
       "      <th>6</th>\n",
       "      <td>IT</td>\n",
       "      <td>IT</td>\n",
       "    </tr>\n",
       "    <tr>\n",
       "      <th>7</th>\n",
       "      <td>I.T</td>\n",
       "      <td>IT</td>\n",
       "    </tr>\n",
       "  </tbody>\n",
       "</table>\n",
       "</div>"
      ],
      "text/plain": [
       "        department     cleaned_dept\n",
       "0          Finance          Finance\n",
       "1         finanace          Finance\n",
       "2           Fiance          Finance\n",
       "3               HR               HR\n",
       "4             H.R.             H.R.\n",
       "5  Human Resources  Human Resources\n",
       "6               IT               IT\n",
       "7              I.T               IT"
      ]
     },
     "execution_count": 7,
     "metadata": {},
     "output_type": "execute_result"
    }
   ],
   "source": [
    "def get_best_match(word, valid_list):\n",
    "    matches = difflib.get_close_matches(word, valid_list, n=1, cutoff=0.7)\n",
    "    print(f\"Matches: {matches}\")\n",
    "    return matches[0] if matches else word\n",
    "\n",
    "df['cleaned_dept'] = df['department'].apply(lambda x: get_best_match(x, standard_departments))\n",
    "df"
   ]
  },
  {
   "cell_type": "markdown",
   "id": "5e6bd3f0",
   "metadata": {},
   "source": [
    "### ✅ Why `difflib`?\n",
    "\n",
    "* Built-in (no external dependencies).\n",
    "* Good for simpler fuzzy matching scenarios."
   ]
  },
  {
   "cell_type": "markdown",
   "id": "b14055dc",
   "metadata": {},
   "source": [
    "## 🔹 2. Frequency Filtering of Rare Categories\n",
    "\n",
    "### 🔧 Technique\n",
    "\n",
    "* Count category frequency and filter out or group rare categories.\n",
    "\n",
    "\n",
    "### ✅ Use Case:\n",
    "\n",
    "For a product classification model, suppose we have:"
   ]
  },
  {
   "cell_type": "code",
   "execution_count": 8,
   "id": "e422d02f",
   "metadata": {},
   "outputs": [
    {
     "data": {
      "text/html": [
       "<div>\n",
       "<style scoped>\n",
       "    .dataframe tbody tr th:only-of-type {\n",
       "        vertical-align: middle;\n",
       "    }\n",
       "\n",
       "    .dataframe tbody tr th {\n",
       "        vertical-align: top;\n",
       "    }\n",
       "\n",
       "    .dataframe thead th {\n",
       "        text-align: right;\n",
       "    }\n",
       "</style>\n",
       "<table border=\"1\" class=\"dataframe\">\n",
       "  <thead>\n",
       "    <tr style=\"text-align: right;\">\n",
       "      <th></th>\n",
       "      <th>product_category</th>\n",
       "    </tr>\n",
       "  </thead>\n",
       "  <tbody>\n",
       "    <tr>\n",
       "      <th>0</th>\n",
       "      <td>Book</td>\n",
       "    </tr>\n",
       "    <tr>\n",
       "      <th>1</th>\n",
       "      <td>Electronics</td>\n",
       "    </tr>\n",
       "    <tr>\n",
       "      <th>2</th>\n",
       "      <td>Pen</td>\n",
       "    </tr>\n",
       "    <tr>\n",
       "      <th>3</th>\n",
       "      <td>Book</td>\n",
       "    </tr>\n",
       "    <tr>\n",
       "      <th>4</th>\n",
       "      <td>Laptop</td>\n",
       "    </tr>\n",
       "    <tr>\n",
       "      <th>5</th>\n",
       "      <td>Shoes</td>\n",
       "    </tr>\n",
       "    <tr>\n",
       "      <th>6</th>\n",
       "      <td>Book</td>\n",
       "    </tr>\n",
       "    <tr>\n",
       "      <th>7</th>\n",
       "      <td>Shoes</td>\n",
       "    </tr>\n",
       "    <tr>\n",
       "      <th>8</th>\n",
       "      <td>Laptop</td>\n",
       "    </tr>\n",
       "    <tr>\n",
       "      <th>9</th>\n",
       "      <td>Toy</td>\n",
       "    </tr>\n",
       "  </tbody>\n",
       "</table>\n",
       "</div>"
      ],
      "text/plain": [
       "  product_category\n",
       "0             Book\n",
       "1      Electronics\n",
       "2              Pen\n",
       "3             Book\n",
       "4           Laptop\n",
       "5            Shoes\n",
       "6             Book\n",
       "7            Shoes\n",
       "8           Laptop\n",
       "9              Toy"
      ]
     },
     "execution_count": 8,
     "metadata": {},
     "output_type": "execute_result"
    }
   ],
   "source": [
    "df = pd.DataFrame({\n",
    "    'product_category': ['Book', 'Electronics', 'Pen', 'Book', 'Laptop', 'Shoes', 'Book', 'Shoes', 'Laptop', 'Toy']\n",
    "})\n",
    "\n",
    "df"
   ]
  },
  {
   "cell_type": "markdown",
   "id": "dc0412fc",
   "metadata": {},
   "source": [
    "Some categories like `'Pen'`, `'Toy'` occur rarely and might not have enough data to train well."
   ]
  },
  {
   "cell_type": "markdown",
   "id": "f3c2ef9d",
   "metadata": {},
   "source": [
    "### 📌 Method: Replace infrequent labels"
   ]
  },
  {
   "cell_type": "code",
   "execution_count": 11,
   "id": "1f36381f",
   "metadata": {},
   "outputs": [
    {
     "data": {
      "text/plain": [
       "product_category\n",
       "Book           3\n",
       "Laptop         2\n",
       "Shoes          2\n",
       "Electronics    1\n",
       "Pen            1\n",
       "Toy            1\n",
       "Name: count, dtype: int64"
      ]
     },
     "execution_count": 11,
     "metadata": {},
     "output_type": "execute_result"
    }
   ],
   "source": [
    "threshold = 2\n",
    "value_counts = df['product_category'].value_counts()\n",
    "value_counts"
   ]
  },
  {
   "cell_type": "code",
   "execution_count": 14,
   "id": "d5be09d2",
   "metadata": {},
   "outputs": [
    {
     "data": {
      "text/html": [
       "<div>\n",
       "<style scoped>\n",
       "    .dataframe tbody tr th:only-of-type {\n",
       "        vertical-align: middle;\n",
       "    }\n",
       "\n",
       "    .dataframe tbody tr th {\n",
       "        vertical-align: top;\n",
       "    }\n",
       "\n",
       "    .dataframe thead th {\n",
       "        text-align: right;\n",
       "    }\n",
       "</style>\n",
       "<table border=\"1\" class=\"dataframe\">\n",
       "  <thead>\n",
       "    <tr style=\"text-align: right;\">\n",
       "      <th></th>\n",
       "      <th>product_category</th>\n",
       "      <th>filtered_category</th>\n",
       "    </tr>\n",
       "  </thead>\n",
       "  <tbody>\n",
       "    <tr>\n",
       "      <th>0</th>\n",
       "      <td>Book</td>\n",
       "      <td>Book</td>\n",
       "    </tr>\n",
       "    <tr>\n",
       "      <th>1</th>\n",
       "      <td>Electronics</td>\n",
       "      <td>Other</td>\n",
       "    </tr>\n",
       "    <tr>\n",
       "      <th>2</th>\n",
       "      <td>Pen</td>\n",
       "      <td>Other</td>\n",
       "    </tr>\n",
       "    <tr>\n",
       "      <th>3</th>\n",
       "      <td>Book</td>\n",
       "      <td>Book</td>\n",
       "    </tr>\n",
       "    <tr>\n",
       "      <th>4</th>\n",
       "      <td>Laptop</td>\n",
       "      <td>Laptop</td>\n",
       "    </tr>\n",
       "    <tr>\n",
       "      <th>5</th>\n",
       "      <td>Shoes</td>\n",
       "      <td>Shoes</td>\n",
       "    </tr>\n",
       "    <tr>\n",
       "      <th>6</th>\n",
       "      <td>Book</td>\n",
       "      <td>Book</td>\n",
       "    </tr>\n",
       "    <tr>\n",
       "      <th>7</th>\n",
       "      <td>Shoes</td>\n",
       "      <td>Shoes</td>\n",
       "    </tr>\n",
       "    <tr>\n",
       "      <th>8</th>\n",
       "      <td>Laptop</td>\n",
       "      <td>Laptop</td>\n",
       "    </tr>\n",
       "    <tr>\n",
       "      <th>9</th>\n",
       "      <td>Toy</td>\n",
       "      <td>Other</td>\n",
       "    </tr>\n",
       "  </tbody>\n",
       "</table>\n",
       "</div>"
      ],
      "text/plain": [
       "  product_category filtered_category\n",
       "0             Book              Book\n",
       "1      Electronics             Other\n",
       "2              Pen             Other\n",
       "3             Book              Book\n",
       "4           Laptop            Laptop\n",
       "5            Shoes             Shoes\n",
       "6             Book              Book\n",
       "7            Shoes             Shoes\n",
       "8           Laptop            Laptop\n",
       "9              Toy             Other"
      ]
     },
     "execution_count": 14,
     "metadata": {},
     "output_type": "execute_result"
    }
   ],
   "source": [
    "df['filtered_category'] = df['product_category'].apply(lambda x: x if value_counts[x] >= threshold else 'Other')\n",
    "df"
   ]
  },
  {
   "cell_type": "markdown",
   "id": "64b42bb2",
   "metadata": {},
   "source": [
    "### ✅ Why this method?\n",
    "\n",
    "* Reduces overfitting in models by preventing them from memorizing rare classes.\n",
    "* Helps simplify visualizations (e.g., pie charts) by grouping small slices."
   ]
  },
  {
   "cell_type": "markdown",
   "id": "d3223861",
   "metadata": {},
   "source": [
    "## 🧠 Summary: Choosing the Right Technique\n",
    "\n",
    "| **Technique**                 | **Use Case**                                               | **Why Use It**                     |\n",
    "| ----------------------------- | ---------------------------------------------------------- | ---------------------------------- |\n",
    "| `fuzzywuzzy` or `difflib`     | Normalize inconsistent spellings in categorical columns    | Handles typos, variations          |\n",
    "| Frequency filtering           | Reduce noise in modeling or visuals due to rare categories | Improves generalization & clarity  |\n",
    "| Combined (Normalize + Filter) | Clean and group data for better modeling                   | Best practice in many ML pipelines |\n"
   ]
  },
  {
   "cell_type": "markdown",
   "id": "fe9f4671",
   "metadata": {},
   "source": [
    "<center><b>Thanks</b></center>"
   ]
  }
 ],
 "metadata": {
  "kernelspec": {
   "display_name": "venv",
   "language": "python",
   "name": "python3"
  },
  "language_info": {
   "codemirror_mode": {
    "name": "ipython",
    "version": 3
   },
   "file_extension": ".py",
   "mimetype": "text/x-python",
   "name": "python",
   "nbconvert_exporter": "python",
   "pygments_lexer": "ipython3",
   "version": "3.10.2"
  }
 },
 "nbformat": 4,
 "nbformat_minor": 5
}
