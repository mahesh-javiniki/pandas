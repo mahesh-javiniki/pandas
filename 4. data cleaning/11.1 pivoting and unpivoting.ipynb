{
 "cells": [
  {
   "cell_type": "markdown",
   "id": "895c4f93",
   "metadata": {},
   "source": [
    "# **Data Cleaning**"
   ]
  },
  {
   "cell_type": "markdown",
   "id": "3856d6a2",
   "metadata": {},
   "source": [
    "# **12. Unpivoting or Pivoting (Reshaping) Data in pandas**"
   ]
  },
  {
   "cell_type": "code",
   "execution_count": 2,
   "id": "ceb77d87",
   "metadata": {},
   "outputs": [],
   "source": [
    "import numpy as np\n",
    "import pandas as pd "
   ]
  },
  {
   "cell_type": "markdown",
   "id": "ff8f2149",
   "metadata": {},
   "source": [
    "These techniques help you reshape your DataFrame, either to **summarize** (pivot) or **flatten** (unpivot) your data, based on your analysis needs.\n",
    "\n",
    "---\n",
    "\n",
    "## 🧭 When Do You Reshape Data?\n",
    "\n",
    "| Operation   | When to Use                                                                          |\n",
    "| ----------- | ------------------------------------------------------------------------------------ |\n",
    "| `pivot()`   | When you want to **summarize** data by creating a table layout with rows and columns |\n",
    "| `melt()`    | When you want to **flatten** wide data into long format                              |\n",
    "| `stack()`   | When you want to **compress columns into rows** (multi-indexed DF)                   |\n",
    "| `unstack()` | When you want to **expand row index into columns** (multi-indexed DF)                |\n"
   ]
  },
  {
   "cell_type": "code",
   "execution_count": 3,
   "id": "fc8d0437",
   "metadata": {},
   "outputs": [
    {
     "data": {
      "text/html": [
       "<div>\n",
       "<style scoped>\n",
       "    .dataframe tbody tr th:only-of-type {\n",
       "        vertical-align: middle;\n",
       "    }\n",
       "\n",
       "    .dataframe tbody tr th {\n",
       "        vertical-align: top;\n",
       "    }\n",
       "\n",
       "    .dataframe thead th {\n",
       "        text-align: right;\n",
       "    }\n",
       "</style>\n",
       "<table border=\"1\" class=\"dataframe\">\n",
       "  <thead>\n",
       "    <tr style=\"text-align: right;\">\n",
       "      <th></th>\n",
       "      <th>Date</th>\n",
       "      <th>Region</th>\n",
       "      <th>Sales</th>\n",
       "      <th>Profit</th>\n",
       "    </tr>\n",
       "  </thead>\n",
       "  <tbody>\n",
       "    <tr>\n",
       "      <th>0</th>\n",
       "      <td>2023-01</td>\n",
       "      <td>North</td>\n",
       "      <td>200</td>\n",
       "      <td>50</td>\n",
       "    </tr>\n",
       "    <tr>\n",
       "      <th>1</th>\n",
       "      <td>2023-01</td>\n",
       "      <td>South</td>\n",
       "      <td>150</td>\n",
       "      <td>40</td>\n",
       "    </tr>\n",
       "    <tr>\n",
       "      <th>2</th>\n",
       "      <td>2023-02</td>\n",
       "      <td>North</td>\n",
       "      <td>220</td>\n",
       "      <td>60</td>\n",
       "    </tr>\n",
       "    <tr>\n",
       "      <th>3</th>\n",
       "      <td>2023-02</td>\n",
       "      <td>South</td>\n",
       "      <td>180</td>\n",
       "      <td>55</td>\n",
       "    </tr>\n",
       "  </tbody>\n",
       "</table>\n",
       "</div>"
      ],
      "text/plain": [
       "      Date Region  Sales  Profit\n",
       "0  2023-01  North    200      50\n",
       "1  2023-01  South    150      40\n",
       "2  2023-02  North    220      60\n",
       "3  2023-02  South    180      55"
      ]
     },
     "execution_count": 3,
     "metadata": {},
     "output_type": "execute_result"
    }
   ],
   "source": [
    "df = pd.DataFrame({\n",
    "    'Date': ['2023-01', '2023-01', '2023-02', '2023-02'],\n",
    "    'Region': ['North', 'South', 'North', 'South'],\n",
    "    'Sales': [200, 150, 220, 180],\n",
    "    'Profit': [50, 40, 60, 55]\n",
    "})\n",
    "\n",
    "df"
   ]
  },
  {
   "cell_type": "markdown",
   "id": "1ac1e7cd",
   "metadata": {},
   "source": [
    "## 🔄 1. `pivot()` — Convert Long to Wide Format"
   ]
  },
  {
   "cell_type": "code",
   "execution_count": 4,
   "id": "a3f2e8fe",
   "metadata": {},
   "outputs": [
    {
     "data": {
      "text/html": [
       "<div>\n",
       "<style scoped>\n",
       "    .dataframe tbody tr th:only-of-type {\n",
       "        vertical-align: middle;\n",
       "    }\n",
       "\n",
       "    .dataframe tbody tr th {\n",
       "        vertical-align: top;\n",
       "    }\n",
       "\n",
       "    .dataframe thead th {\n",
       "        text-align: right;\n",
       "    }\n",
       "</style>\n",
       "<table border=\"1\" class=\"dataframe\">\n",
       "  <thead>\n",
       "    <tr style=\"text-align: right;\">\n",
       "      <th>Region</th>\n",
       "      <th>North</th>\n",
       "      <th>South</th>\n",
       "    </tr>\n",
       "    <tr>\n",
       "      <th>Date</th>\n",
       "      <th></th>\n",
       "      <th></th>\n",
       "    </tr>\n",
       "  </thead>\n",
       "  <tbody>\n",
       "    <tr>\n",
       "      <th>2023-01</th>\n",
       "      <td>200</td>\n",
       "      <td>150</td>\n",
       "    </tr>\n",
       "    <tr>\n",
       "      <th>2023-02</th>\n",
       "      <td>220</td>\n",
       "      <td>180</td>\n",
       "    </tr>\n",
       "  </tbody>\n",
       "</table>\n",
       "</div>"
      ],
      "text/plain": [
       "Region   North  South\n",
       "Date                 \n",
       "2023-01    200    150\n",
       "2023-02    220    180"
      ]
     },
     "execution_count": 4,
     "metadata": {},
     "output_type": "execute_result"
    }
   ],
   "source": [
    "pivot_df = df.pivot(index='Date', columns='Region', values='Sales')\n",
    "pivot_df"
   ]
  },
  {
   "cell_type": "markdown",
   "id": "9767edeb",
   "metadata": {},
   "source": [
    "✅ **Use Case**: Reporting monthly regional sales — easier for business summary.\n",
    "\n",
    "🧠 **Why `pivot()`?**\n",
    "You’re organizing **existing data** into a more readable layout."
   ]
  },
  {
   "cell_type": "markdown",
   "id": "054e2a1b",
   "metadata": {},
   "source": [
    "## 🔄 2. `melt()` — Convert Wide to Long Format"
   ]
  },
  {
   "cell_type": "code",
   "execution_count": 5,
   "id": "9c2e6296",
   "metadata": {},
   "outputs": [
    {
     "data": {
      "text/html": [
       "<div>\n",
       "<style scoped>\n",
       "    .dataframe tbody tr th:only-of-type {\n",
       "        vertical-align: middle;\n",
       "    }\n",
       "\n",
       "    .dataframe tbody tr th {\n",
       "        vertical-align: top;\n",
       "    }\n",
       "\n",
       "    .dataframe thead th {\n",
       "        text-align: right;\n",
       "    }\n",
       "</style>\n",
       "<table border=\"1\" class=\"dataframe\">\n",
       "  <thead>\n",
       "    <tr style=\"text-align: right;\">\n",
       "      <th></th>\n",
       "      <th>Date</th>\n",
       "      <th>Region</th>\n",
       "      <th>Sales</th>\n",
       "      <th>Profit</th>\n",
       "    </tr>\n",
       "  </thead>\n",
       "  <tbody>\n",
       "    <tr>\n",
       "      <th>0</th>\n",
       "      <td>2023-01</td>\n",
       "      <td>North</td>\n",
       "      <td>200</td>\n",
       "      <td>50</td>\n",
       "    </tr>\n",
       "    <tr>\n",
       "      <th>1</th>\n",
       "      <td>2023-01</td>\n",
       "      <td>South</td>\n",
       "      <td>150</td>\n",
       "      <td>40</td>\n",
       "    </tr>\n",
       "    <tr>\n",
       "      <th>2</th>\n",
       "      <td>2023-02</td>\n",
       "      <td>North</td>\n",
       "      <td>220</td>\n",
       "      <td>60</td>\n",
       "    </tr>\n",
       "    <tr>\n",
       "      <th>3</th>\n",
       "      <td>2023-02</td>\n",
       "      <td>South</td>\n",
       "      <td>180</td>\n",
       "      <td>55</td>\n",
       "    </tr>\n",
       "  </tbody>\n",
       "</table>\n",
       "</div>"
      ],
      "text/plain": [
       "      Date Region  Sales  Profit\n",
       "0  2023-01  North    200      50\n",
       "1  2023-01  South    150      40\n",
       "2  2023-02  North    220      60\n",
       "3  2023-02  South    180      55"
      ]
     },
     "execution_count": 5,
     "metadata": {},
     "output_type": "execute_result"
    }
   ],
   "source": [
    "df"
   ]
  },
  {
   "cell_type": "code",
   "execution_count": 6,
   "id": "08f0a4d8",
   "metadata": {},
   "outputs": [
    {
     "data": {
      "text/html": [
       "<div>\n",
       "<style scoped>\n",
       "    .dataframe tbody tr th:only-of-type {\n",
       "        vertical-align: middle;\n",
       "    }\n",
       "\n",
       "    .dataframe tbody tr th {\n",
       "        vertical-align: top;\n",
       "    }\n",
       "\n",
       "    .dataframe thead th {\n",
       "        text-align: right;\n",
       "    }\n",
       "</style>\n",
       "<table border=\"1\" class=\"dataframe\">\n",
       "  <thead>\n",
       "    <tr style=\"text-align: right;\">\n",
       "      <th></th>\n",
       "      <th>Date</th>\n",
       "      <th>Region</th>\n",
       "      <th>Metric</th>\n",
       "      <th>Value</th>\n",
       "    </tr>\n",
       "  </thead>\n",
       "  <tbody>\n",
       "    <tr>\n",
       "      <th>0</th>\n",
       "      <td>2023-01</td>\n",
       "      <td>North</td>\n",
       "      <td>Sales</td>\n",
       "      <td>200</td>\n",
       "    </tr>\n",
       "    <tr>\n",
       "      <th>1</th>\n",
       "      <td>2023-01</td>\n",
       "      <td>South</td>\n",
       "      <td>Sales</td>\n",
       "      <td>150</td>\n",
       "    </tr>\n",
       "    <tr>\n",
       "      <th>2</th>\n",
       "      <td>2023-02</td>\n",
       "      <td>North</td>\n",
       "      <td>Sales</td>\n",
       "      <td>220</td>\n",
       "    </tr>\n",
       "    <tr>\n",
       "      <th>3</th>\n",
       "      <td>2023-02</td>\n",
       "      <td>South</td>\n",
       "      <td>Sales</td>\n",
       "      <td>180</td>\n",
       "    </tr>\n",
       "    <tr>\n",
       "      <th>4</th>\n",
       "      <td>2023-01</td>\n",
       "      <td>North</td>\n",
       "      <td>Profit</td>\n",
       "      <td>50</td>\n",
       "    </tr>\n",
       "    <tr>\n",
       "      <th>5</th>\n",
       "      <td>2023-01</td>\n",
       "      <td>South</td>\n",
       "      <td>Profit</td>\n",
       "      <td>40</td>\n",
       "    </tr>\n",
       "    <tr>\n",
       "      <th>6</th>\n",
       "      <td>2023-02</td>\n",
       "      <td>North</td>\n",
       "      <td>Profit</td>\n",
       "      <td>60</td>\n",
       "    </tr>\n",
       "    <tr>\n",
       "      <th>7</th>\n",
       "      <td>2023-02</td>\n",
       "      <td>South</td>\n",
       "      <td>Profit</td>\n",
       "      <td>55</td>\n",
       "    </tr>\n",
       "  </tbody>\n",
       "</table>\n",
       "</div>"
      ],
      "text/plain": [
       "      Date Region  Metric  Value\n",
       "0  2023-01  North   Sales    200\n",
       "1  2023-01  South   Sales    150\n",
       "2  2023-02  North   Sales    220\n",
       "3  2023-02  South   Sales    180\n",
       "4  2023-01  North  Profit     50\n",
       "5  2023-01  South  Profit     40\n",
       "6  2023-02  North  Profit     60\n",
       "7  2023-02  South  Profit     55"
      ]
     },
     "execution_count": 6,
     "metadata": {},
     "output_type": "execute_result"
    }
   ],
   "source": [
    "df.melt(id_vars=['Date', 'Region'], value_vars=['Sales', 'Profit'],\n",
    "        var_name='Metric', value_name='Value')"
   ]
  },
  {
   "cell_type": "markdown",
   "id": "86146537",
   "metadata": {},
   "source": [
    "✅ **Use Case**: Preparing for **visualization** or feeding into **ML models** which need a tidy long format.\n",
    "\n",
    "🧠 **Why `melt()`?**\n",
    "You reduce multiple metric columns into rows to improve analysis compatibility (e.g., Seaborn plots or stats libraries)."
   ]
  },
  {
   "cell_type": "markdown",
   "id": "99490a96",
   "metadata": {},
   "source": [
    "## 🔄 3. `stack()` — Stack Columns into MultiIndex Rows"
   ]
  },
  {
   "cell_type": "code",
   "execution_count": 7,
   "id": "ee3ca262",
   "metadata": {},
   "outputs": [
    {
     "data": {
      "text/html": [
       "<div>\n",
       "<style scoped>\n",
       "    .dataframe tbody tr th:only-of-type {\n",
       "        vertical-align: middle;\n",
       "    }\n",
       "\n",
       "    .dataframe tbody tr th {\n",
       "        vertical-align: top;\n",
       "    }\n",
       "\n",
       "    .dataframe thead th {\n",
       "        text-align: right;\n",
       "    }\n",
       "</style>\n",
       "<table border=\"1\" class=\"dataframe\">\n",
       "  <thead>\n",
       "    <tr style=\"text-align: right;\">\n",
       "      <th></th>\n",
       "      <th>Date</th>\n",
       "      <th>Region</th>\n",
       "      <th>Sales</th>\n",
       "      <th>Profit</th>\n",
       "    </tr>\n",
       "  </thead>\n",
       "  <tbody>\n",
       "    <tr>\n",
       "      <th>0</th>\n",
       "      <td>2023-01</td>\n",
       "      <td>North</td>\n",
       "      <td>200</td>\n",
       "      <td>50</td>\n",
       "    </tr>\n",
       "    <tr>\n",
       "      <th>1</th>\n",
       "      <td>2023-01</td>\n",
       "      <td>South</td>\n",
       "      <td>150</td>\n",
       "      <td>40</td>\n",
       "    </tr>\n",
       "    <tr>\n",
       "      <th>2</th>\n",
       "      <td>2023-02</td>\n",
       "      <td>North</td>\n",
       "      <td>220</td>\n",
       "      <td>60</td>\n",
       "    </tr>\n",
       "    <tr>\n",
       "      <th>3</th>\n",
       "      <td>2023-02</td>\n",
       "      <td>South</td>\n",
       "      <td>180</td>\n",
       "      <td>55</td>\n",
       "    </tr>\n",
       "  </tbody>\n",
       "</table>\n",
       "</div>"
      ],
      "text/plain": [
       "      Date Region  Sales  Profit\n",
       "0  2023-01  North    200      50\n",
       "1  2023-01  South    150      40\n",
       "2  2023-02  North    220      60\n",
       "3  2023-02  South    180      55"
      ]
     },
     "execution_count": 7,
     "metadata": {},
     "output_type": "execute_result"
    }
   ],
   "source": [
    "df"
   ]
  },
  {
   "cell_type": "code",
   "execution_count": 8,
   "id": "02758d08",
   "metadata": {},
   "outputs": [
    {
     "data": {
      "text/html": [
       "<div>\n",
       "<style scoped>\n",
       "    .dataframe tbody tr th:only-of-type {\n",
       "        vertical-align: middle;\n",
       "    }\n",
       "\n",
       "    .dataframe tbody tr th {\n",
       "        vertical-align: top;\n",
       "    }\n",
       "\n",
       "    .dataframe thead th {\n",
       "        text-align: right;\n",
       "    }\n",
       "</style>\n",
       "<table border=\"1\" class=\"dataframe\">\n",
       "  <thead>\n",
       "    <tr style=\"text-align: right;\">\n",
       "      <th></th>\n",
       "      <th></th>\n",
       "      <th>Sales</th>\n",
       "      <th>Profit</th>\n",
       "    </tr>\n",
       "    <tr>\n",
       "      <th>Date</th>\n",
       "      <th>Region</th>\n",
       "      <th></th>\n",
       "      <th></th>\n",
       "    </tr>\n",
       "  </thead>\n",
       "  <tbody>\n",
       "    <tr>\n",
       "      <th rowspan=\"2\" valign=\"top\">2023-01</th>\n",
       "      <th>North</th>\n",
       "      <td>200</td>\n",
       "      <td>50</td>\n",
       "    </tr>\n",
       "    <tr>\n",
       "      <th>South</th>\n",
       "      <td>150</td>\n",
       "      <td>40</td>\n",
       "    </tr>\n",
       "    <tr>\n",
       "      <th rowspan=\"2\" valign=\"top\">2023-02</th>\n",
       "      <th>North</th>\n",
       "      <td>220</td>\n",
       "      <td>60</td>\n",
       "    </tr>\n",
       "    <tr>\n",
       "      <th>South</th>\n",
       "      <td>180</td>\n",
       "      <td>55</td>\n",
       "    </tr>\n",
       "  </tbody>\n",
       "</table>\n",
       "</div>"
      ],
      "text/plain": [
       "                Sales  Profit\n",
       "Date    Region               \n",
       "2023-01 North     200      50\n",
       "        South     150      40\n",
       "2023-02 North     220      60\n",
       "        South     180      55"
      ]
     },
     "execution_count": 8,
     "metadata": {},
     "output_type": "execute_result"
    }
   ],
   "source": [
    "df.set_index(['Date', 'Region'])"
   ]
  },
  {
   "cell_type": "code",
   "execution_count": 10,
   "id": "88a9de16",
   "metadata": {},
   "outputs": [
    {
     "data": {
      "text/plain": [
       "Date     Region        \n",
       "2023-01  North   Sales     200\n",
       "                 Profit     50\n",
       "         South   Sales     150\n",
       "                 Profit     40\n",
       "2023-02  North   Sales     220\n",
       "                 Profit     60\n",
       "         South   Sales     180\n",
       "                 Profit     55\n",
       "dtype: int64"
      ]
     },
     "execution_count": 10,
     "metadata": {},
     "output_type": "execute_result"
    }
   ],
   "source": [
    "stacked_df = df.set_index(['Date', 'Region']).stack()\n",
    "stacked_df"
   ]
  },
  {
   "cell_type": "markdown",
   "id": "4b998d38",
   "metadata": {},
   "source": [
    "✅ **Use Case**: When you want to **compress** your DataFrame or **prepare for hierarchical grouping**.\n",
    "\n",
    "🧠 **Why `stack()`?**\n",
    "It’s useful for data processing pipelines where compact structure or hierarchical analysis is needed."
   ]
  },
  {
   "cell_type": "markdown",
   "id": "4587e01e",
   "metadata": {},
   "source": [
    "## 🔄 4. `unstack()` — Convert Index Level to Columns"
   ]
  },
  {
   "cell_type": "code",
   "execution_count": 11,
   "id": "ef0f6148",
   "metadata": {},
   "outputs": [
    {
     "data": {
      "text/html": [
       "<div>\n",
       "<style scoped>\n",
       "    .dataframe tbody tr th:only-of-type {\n",
       "        vertical-align: middle;\n",
       "    }\n",
       "\n",
       "    .dataframe tbody tr th {\n",
       "        vertical-align: top;\n",
       "    }\n",
       "\n",
       "    .dataframe thead th {\n",
       "        text-align: right;\n",
       "    }\n",
       "</style>\n",
       "<table border=\"1\" class=\"dataframe\">\n",
       "  <thead>\n",
       "    <tr style=\"text-align: right;\">\n",
       "      <th></th>\n",
       "      <th></th>\n",
       "      <th>Sales</th>\n",
       "      <th>Profit</th>\n",
       "    </tr>\n",
       "    <tr>\n",
       "      <th>Date</th>\n",
       "      <th>Region</th>\n",
       "      <th></th>\n",
       "      <th></th>\n",
       "    </tr>\n",
       "  </thead>\n",
       "  <tbody>\n",
       "    <tr>\n",
       "      <th rowspan=\"2\" valign=\"top\">2023-01</th>\n",
       "      <th>North</th>\n",
       "      <td>200</td>\n",
       "      <td>50</td>\n",
       "    </tr>\n",
       "    <tr>\n",
       "      <th>South</th>\n",
       "      <td>150</td>\n",
       "      <td>40</td>\n",
       "    </tr>\n",
       "    <tr>\n",
       "      <th rowspan=\"2\" valign=\"top\">2023-02</th>\n",
       "      <th>North</th>\n",
       "      <td>220</td>\n",
       "      <td>60</td>\n",
       "    </tr>\n",
       "    <tr>\n",
       "      <th>South</th>\n",
       "      <td>180</td>\n",
       "      <td>55</td>\n",
       "    </tr>\n",
       "  </tbody>\n",
       "</table>\n",
       "</div>"
      ],
      "text/plain": [
       "                Sales  Profit\n",
       "Date    Region               \n",
       "2023-01 North     200      50\n",
       "        South     150      40\n",
       "2023-02 North     220      60\n",
       "        South     180      55"
      ]
     },
     "execution_count": 11,
     "metadata": {},
     "output_type": "execute_result"
    }
   ],
   "source": [
    "stacked_df.unstack()"
   ]
  },
  {
   "cell_type": "markdown",
   "id": "f86b346c",
   "metadata": {},
   "source": [
    "\n",
    "✅ **Use Case**: You’re **reversing** the effect of `stack()` to restore a table-like layout.\n",
    "\n",
    "🧠 **Why `unstack()`?**\n",
    "Makes it easier to plot or aggregate along different dimensions."
   ]
  },
  {
   "cell_type": "markdown",
   "id": "1911acee",
   "metadata": {},
   "source": [
    "## 🔁 Advanced Use Case: Reshape with Multiple Variables"
   ]
  },
  {
   "cell_type": "code",
   "execution_count": 12,
   "id": "a05d3c74",
   "metadata": {},
   "outputs": [
    {
     "data": {
      "text/html": [
       "<div>\n",
       "<style scoped>\n",
       "    .dataframe tbody tr th:only-of-type {\n",
       "        vertical-align: middle;\n",
       "    }\n",
       "\n",
       "    .dataframe tbody tr th {\n",
       "        vertical-align: top;\n",
       "    }\n",
       "\n",
       "    .dataframe thead th {\n",
       "        text-align: right;\n",
       "    }\n",
       "</style>\n",
       "<table border=\"1\" class=\"dataframe\">\n",
       "  <thead>\n",
       "    <tr style=\"text-align: right;\">\n",
       "      <th></th>\n",
       "      <th>Date</th>\n",
       "      <th>Region</th>\n",
       "      <th>Sales</th>\n",
       "      <th>Profit</th>\n",
       "    </tr>\n",
       "  </thead>\n",
       "  <tbody>\n",
       "    <tr>\n",
       "      <th>0</th>\n",
       "      <td>2023-01</td>\n",
       "      <td>North</td>\n",
       "      <td>200</td>\n",
       "      <td>50</td>\n",
       "    </tr>\n",
       "    <tr>\n",
       "      <th>1</th>\n",
       "      <td>2023-01</td>\n",
       "      <td>South</td>\n",
       "      <td>150</td>\n",
       "      <td>40</td>\n",
       "    </tr>\n",
       "    <tr>\n",
       "      <th>2</th>\n",
       "      <td>2023-02</td>\n",
       "      <td>North</td>\n",
       "      <td>220</td>\n",
       "      <td>60</td>\n",
       "    </tr>\n",
       "    <tr>\n",
       "      <th>3</th>\n",
       "      <td>2023-02</td>\n",
       "      <td>South</td>\n",
       "      <td>180</td>\n",
       "      <td>55</td>\n",
       "    </tr>\n",
       "  </tbody>\n",
       "</table>\n",
       "</div>"
      ],
      "text/plain": [
       "      Date Region  Sales  Profit\n",
       "0  2023-01  North    200      50\n",
       "1  2023-01  South    150      40\n",
       "2  2023-02  North    220      60\n",
       "3  2023-02  South    180      55"
      ]
     },
     "execution_count": 12,
     "metadata": {},
     "output_type": "execute_result"
    }
   ],
   "source": [
    "df"
   ]
  },
  {
   "cell_type": "code",
   "execution_count": 13,
   "id": "4f434bb3",
   "metadata": {},
   "outputs": [
    {
     "data": {
      "text/html": [
       "<div>\n",
       "<style scoped>\n",
       "    .dataframe tbody tr th:only-of-type {\n",
       "        vertical-align: middle;\n",
       "    }\n",
       "\n",
       "    .dataframe tbody tr th {\n",
       "        vertical-align: top;\n",
       "    }\n",
       "\n",
       "    .dataframe thead tr th {\n",
       "        text-align: left;\n",
       "    }\n",
       "\n",
       "    .dataframe thead tr:last-of-type th {\n",
       "        text-align: right;\n",
       "    }\n",
       "</style>\n",
       "<table border=\"1\" class=\"dataframe\">\n",
       "  <thead>\n",
       "    <tr>\n",
       "      <th></th>\n",
       "      <th colspan=\"2\" halign=\"left\">Profit</th>\n",
       "      <th colspan=\"2\" halign=\"left\">Sales</th>\n",
       "    </tr>\n",
       "    <tr>\n",
       "      <th>Region</th>\n",
       "      <th>North</th>\n",
       "      <th>South</th>\n",
       "      <th>North</th>\n",
       "      <th>South</th>\n",
       "    </tr>\n",
       "    <tr>\n",
       "      <th>Date</th>\n",
       "      <th></th>\n",
       "      <th></th>\n",
       "      <th></th>\n",
       "      <th></th>\n",
       "    </tr>\n",
       "  </thead>\n",
       "  <tbody>\n",
       "    <tr>\n",
       "      <th>2023-01</th>\n",
       "      <td>50.0</td>\n",
       "      <td>40.0</td>\n",
       "      <td>200.0</td>\n",
       "      <td>150.0</td>\n",
       "    </tr>\n",
       "    <tr>\n",
       "      <th>2023-02</th>\n",
       "      <td>60.0</td>\n",
       "      <td>55.0</td>\n",
       "      <td>220.0</td>\n",
       "      <td>180.0</td>\n",
       "    </tr>\n",
       "  </tbody>\n",
       "</table>\n",
       "</div>"
      ],
      "text/plain": [
       "        Profit        Sales       \n",
       "Region   North South  North  South\n",
       "Date                              \n",
       "2023-01   50.0  40.0  200.0  150.0\n",
       "2023-02   60.0  55.0  220.0  180.0"
      ]
     },
     "execution_count": 13,
     "metadata": {},
     "output_type": "execute_result"
    }
   ],
   "source": [
    "df.pivot_table(index='Date', columns='Region', values=['Sales', 'Profit'])"
   ]
  },
  {
   "cell_type": "markdown",
   "id": "e1738b09",
   "metadata": {},
   "source": [
    "✅ **Use Case**: Dashboards or multi-variable reports.\n",
    "\n",
    "🧠 **Why `pivot_table()`?**\n",
    "Supports **aggregation**, handles **duplicate entries**, and works with **multiple value columns**."
   ]
  },
  {
   "cell_type": "markdown",
   "id": "e17f172a",
   "metadata": {},
   "source": [
    "## 📦 Real-Life Use Cases\n",
    "\n",
    "| Industry     | Use Case                                          | Function        |\n",
    "| ------------ | ------------------------------------------------- | --------------- |\n",
    "| Retail       | Compare regional monthly sales                    | `pivot()`       |\n",
    "| Finance      | Convert column-wise metrics to tidy format for ML | `melt()`        |\n",
    "| Healthcare   | Collapse multi-level diagnosis data               | `stack()`       |\n",
    "| Analytics    | Expand patient data from row-wise to column-wise  | `unstack()`     |\n",
    "| BI Reporting | Multi-variable reports per region per time        | `pivot_table()` |\n"
   ]
  },
  {
   "cell_type": "markdown",
   "id": "5c803a4e",
   "metadata": {},
   "source": [
    "## ✅ Summary Table\n",
    "\n",
    "| Method          | Use Case                              | Converts    |\n",
    "| --------------- | ------------------------------------- | ----------- |\n",
    "| `pivot()`       | Summarize values with unique keys     | Long → Wide |\n",
    "| `pivot_table()` | Summarize with aggregation            | Long → Wide |\n",
    "| `melt()`        | Normalize/flatten for ML/tidy data    | Wide → Long |\n",
    "| `stack()`       | Collapse columns into MultiIndex rows | Wide → Long |\n",
    "| `unstack()`     | Expand index into columns             | Long → Wide |\n"
   ]
  },
  {
   "cell_type": "markdown",
   "id": "a0b12567",
   "metadata": {},
   "source": [
    "<center><b>Thanks</b></center>"
   ]
  }
 ],
 "metadata": {
  "kernelspec": {
   "display_name": "venv",
   "language": "python",
   "name": "python3"
  },
  "language_info": {
   "codemirror_mode": {
    "name": "ipython",
    "version": 3
   },
   "file_extension": ".py",
   "mimetype": "text/x-python",
   "name": "python",
   "nbconvert_exporter": "python",
   "pygments_lexer": "ipython3",
   "version": "3.10.2"
  }
 },
 "nbformat": 4,
 "nbformat_minor": 5
}
