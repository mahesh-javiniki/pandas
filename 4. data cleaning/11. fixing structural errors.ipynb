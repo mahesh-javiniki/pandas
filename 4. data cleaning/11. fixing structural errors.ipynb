{
 "cells": [
  {
   "cell_type": "markdown",
   "id": "af8fff3f",
   "metadata": {},
   "source": [
    "# **Data Cleaning**"
   ]
  },
  {
   "cell_type": "markdown",
   "id": "56dc04d4",
   "metadata": {},
   "source": [
    "## **11. Fixing Structural Errors in Data**"
   ]
  },
  {
   "cell_type": "code",
   "execution_count": 12,
   "id": "128ec5e7",
   "metadata": {},
   "outputs": [],
   "source": [
    "import numpy as np\n",
    "import pandas as pd "
   ]
  },
  {
   "cell_type": "markdown",
   "id": "4a2c2176",
   "metadata": {},
   "source": [
    "## 🔍 What Are Structural Errors?\n",
    "\n",
    "Structural errors are **inconsistencies in the structure or representation** of data values. These typically arise from:\n",
    "\n",
    "* Typos\n",
    "* Irregular capitalization\n",
    "* Extra whitespace\n",
    "* Mixed formats (e.g., `500`, `'500'`)\n",
    "* Inconsistent labeling (`\"Male\"`, `\"male\"`, `\"M\"`)\n",
    "* Improper column names\n",
    "* Incorrect delimiters or malformed strings\n",
    "\n",
    "These errors **lead to duplicate categories or distorted statistics** and can corrupt data analysis or machine learning models.\n",
    "\n",
    "---\n",
    "\n",
    "## 🧠 Common Structural Error Types & Fixing Techniques\n",
    "\n",
    "| Structural Error Type       | Fixing Method              | Example Technique              |\n",
    "| --------------------------- | -------------------------- | ------------------------------ |\n",
    "| Inconsistent Capitalization | Convert case               | `.str.lower()`, `.str.title()` |\n",
    "| Leading/Trailing Spaces     | Strip whitespace           | `.str.strip()`                 |\n",
    "| Typos or Misspelled Entries | Standardize or fuzzy match | `replace()`, `fuzzywuzzy`      |\n",
    "| Mixed Format Values         | Convert to standard type   | `.astype()`                    |\n",
    "| Inconsistent Labels         | Replace or map             | `.replace()`, `.map()`         |\n",
    "| Improper Column Names       | Rename                     | `df.rename()`, `.str.strip()`  |\n"
   ]
  },
  {
   "cell_type": "code",
   "execution_count": 13,
   "id": "a2236f63",
   "metadata": {},
   "outputs": [
    {
     "data": {
      "text/html": [
       "<div>\n",
       "<style scoped>\n",
       "    .dataframe tbody tr th:only-of-type {\n",
       "        vertical-align: middle;\n",
       "    }\n",
       "\n",
       "    .dataframe tbody tr th {\n",
       "        vertical-align: top;\n",
       "    }\n",
       "\n",
       "    .dataframe thead th {\n",
       "        text-align: right;\n",
       "    }\n",
       "</style>\n",
       "<table border=\"1\" class=\"dataframe\">\n",
       "  <thead>\n",
       "    <tr style=\"text-align: right;\">\n",
       "      <th></th>\n",
       "      <th>Gender</th>\n",
       "      <th>Product</th>\n",
       "      <th>Price</th>\n",
       "      <th>Customer Type</th>\n",
       "    </tr>\n",
       "  </thead>\n",
       "  <tbody>\n",
       "    <tr>\n",
       "      <th>0</th>\n",
       "      <td>Male</td>\n",
       "      <td>Mobile</td>\n",
       "      <td>500</td>\n",
       "      <td>Regular</td>\n",
       "    </tr>\n",
       "    <tr>\n",
       "      <th>1</th>\n",
       "      <td>male</td>\n",
       "      <td>mobile</td>\n",
       "      <td>600</td>\n",
       "      <td>Regular</td>\n",
       "    </tr>\n",
       "    <tr>\n",
       "      <th>2</th>\n",
       "      <td>FEMALE</td>\n",
       "      <td>MOBILE</td>\n",
       "      <td>700</td>\n",
       "      <td>VIP</td>\n",
       "    </tr>\n",
       "    <tr>\n",
       "      <th>3</th>\n",
       "      <td>female</td>\n",
       "      <td>Laptop</td>\n",
       "      <td>800</td>\n",
       "      <td>vip</td>\n",
       "    </tr>\n",
       "    <tr>\n",
       "      <th>4</th>\n",
       "      <td>F</td>\n",
       "      <td>laptop</td>\n",
       "      <td>Eight Hundred</td>\n",
       "      <td>V.I.P</td>\n",
       "    </tr>\n",
       "    <tr>\n",
       "      <th>5</th>\n",
       "      <td>M</td>\n",
       "      <td>Lap Top</td>\n",
       "      <td>900</td>\n",
       "      <td>regular</td>\n",
       "    </tr>\n",
       "  </tbody>\n",
       "</table>\n",
       "</div>"
      ],
      "text/plain": [
       "   Gender  Product          Price Customer Type\n",
       "0    Male   Mobile            500       Regular\n",
       "1    male  mobile             600       Regular\n",
       "2  FEMALE   MOBILE            700           VIP\n",
       "3  female   Laptop            800          vip \n",
       "4       F   laptop  Eight Hundred         V.I.P\n",
       "5       M  Lap Top            900       regular"
      ]
     },
     "execution_count": 13,
     "metadata": {},
     "output_type": "execute_result"
    }
   ],
   "source": [
    "df = pd.DataFrame({\n",
    "    'Gender': ['Male', 'male', 'FEMALE', 'female', 'F', 'M'],\n",
    "    'Product': ['Mobile', 'mobile ', 'MOBILE', 'Laptop', 'laptop', 'Lap Top'],\n",
    "    'Price': ['500', 600, ' 700', 800, 'Eight Hundred', 900],\n",
    "    'Customer Type': ['Regular', ' Regular', 'VIP', 'vip ', 'V.I.P', 'regular']\n",
    "})\n",
    "\n",
    "df"
   ]
  },
  {
   "cell_type": "markdown",
   "id": "6e0b38c2",
   "metadata": {},
   "source": [
    "## 🔧 1. Fixing Capitalization"
   ]
  },
  {
   "cell_type": "code",
   "execution_count": 14,
   "id": "3a11d11c",
   "metadata": {},
   "outputs": [
    {
     "data": {
      "text/html": [
       "<div>\n",
       "<style scoped>\n",
       "    .dataframe tbody tr th:only-of-type {\n",
       "        vertical-align: middle;\n",
       "    }\n",
       "\n",
       "    .dataframe tbody tr th {\n",
       "        vertical-align: top;\n",
       "    }\n",
       "\n",
       "    .dataframe thead th {\n",
       "        text-align: right;\n",
       "    }\n",
       "</style>\n",
       "<table border=\"1\" class=\"dataframe\">\n",
       "  <thead>\n",
       "    <tr style=\"text-align: right;\">\n",
       "      <th></th>\n",
       "      <th>Gender</th>\n",
       "      <th>Product</th>\n",
       "      <th>Price</th>\n",
       "      <th>Customer Type</th>\n",
       "    </tr>\n",
       "  </thead>\n",
       "  <tbody>\n",
       "    <tr>\n",
       "      <th>0</th>\n",
       "      <td>male</td>\n",
       "      <td>Mobile</td>\n",
       "      <td>500</td>\n",
       "      <td>Regular</td>\n",
       "    </tr>\n",
       "    <tr>\n",
       "      <th>1</th>\n",
       "      <td>male</td>\n",
       "      <td>Mobile</td>\n",
       "      <td>600</td>\n",
       "      <td>Regular</td>\n",
       "    </tr>\n",
       "    <tr>\n",
       "      <th>2</th>\n",
       "      <td>female</td>\n",
       "      <td>Mobile</td>\n",
       "      <td>700</td>\n",
       "      <td>VIP</td>\n",
       "    </tr>\n",
       "    <tr>\n",
       "      <th>3</th>\n",
       "      <td>female</td>\n",
       "      <td>Laptop</td>\n",
       "      <td>800</td>\n",
       "      <td>vip</td>\n",
       "    </tr>\n",
       "    <tr>\n",
       "      <th>4</th>\n",
       "      <td>f</td>\n",
       "      <td>Laptop</td>\n",
       "      <td>Eight Hundred</td>\n",
       "      <td>V.I.P</td>\n",
       "    </tr>\n",
       "    <tr>\n",
       "      <th>5</th>\n",
       "      <td>m</td>\n",
       "      <td>Lap Top</td>\n",
       "      <td>900</td>\n",
       "      <td>regular</td>\n",
       "    </tr>\n",
       "  </tbody>\n",
       "</table>\n",
       "</div>"
      ],
      "text/plain": [
       "   Gender  Product          Price Customer Type\n",
       "0    male   Mobile            500       Regular\n",
       "1    male  Mobile             600       Regular\n",
       "2  female   Mobile            700           VIP\n",
       "3  female   Laptop            800          vip \n",
       "4       f   Laptop  Eight Hundred         V.I.P\n",
       "5       m  Lap Top            900       regular"
      ]
     },
     "execution_count": 14,
     "metadata": {},
     "output_type": "execute_result"
    }
   ],
   "source": [
    "df['Gender'] = df['Gender'].str.lower()\n",
    "df['Product'] = df['Product'].str.title()\n",
    "\n",
    "df"
   ]
  },
  {
   "cell_type": "markdown",
   "id": "ab43a904",
   "metadata": {},
   "source": [
    "🧠 **Why?**\n",
    "Helps convert values like `'mobile'`, `'Mobile'`, `'MOBILE'` into a single representation (`'Mobile'`)."
   ]
  },
  {
   "cell_type": "markdown",
   "id": "373c7252",
   "metadata": {},
   "source": [
    "## 🔧 2. Removing Extra Whitespace"
   ]
  },
  {
   "cell_type": "code",
   "execution_count": 15,
   "id": "97700f44",
   "metadata": {},
   "outputs": [
    {
     "data": {
      "text/plain": [
       "Index(['Gender', 'Product', 'Price', 'Customer Type'], dtype='object')"
      ]
     },
     "execution_count": 15,
     "metadata": {},
     "output_type": "execute_result"
    }
   ],
   "source": [
    "df.columns"
   ]
  },
  {
   "cell_type": "code",
   "execution_count": 16,
   "id": "f3978a1a",
   "metadata": {},
   "outputs": [
    {
     "data": {
      "text/html": [
       "<div>\n",
       "<style scoped>\n",
       "    .dataframe tbody tr th:only-of-type {\n",
       "        vertical-align: middle;\n",
       "    }\n",
       "\n",
       "    .dataframe tbody tr th {\n",
       "        vertical-align: top;\n",
       "    }\n",
       "\n",
       "    .dataframe thead th {\n",
       "        text-align: right;\n",
       "    }\n",
       "</style>\n",
       "<table border=\"1\" class=\"dataframe\">\n",
       "  <thead>\n",
       "    <tr style=\"text-align: right;\">\n",
       "      <th></th>\n",
       "      <th>Gender</th>\n",
       "      <th>Product</th>\n",
       "      <th>Price</th>\n",
       "      <th>Customer Type</th>\n",
       "    </tr>\n",
       "  </thead>\n",
       "  <tbody>\n",
       "    <tr>\n",
       "      <th>0</th>\n",
       "      <td>male</td>\n",
       "      <td>Mobile</td>\n",
       "      <td>500</td>\n",
       "      <td>Regular</td>\n",
       "    </tr>\n",
       "    <tr>\n",
       "      <th>1</th>\n",
       "      <td>male</td>\n",
       "      <td>Mobile</td>\n",
       "      <td>600</td>\n",
       "      <td>Regular</td>\n",
       "    </tr>\n",
       "    <tr>\n",
       "      <th>2</th>\n",
       "      <td>female</td>\n",
       "      <td>Mobile</td>\n",
       "      <td>700</td>\n",
       "      <td>VIP</td>\n",
       "    </tr>\n",
       "    <tr>\n",
       "      <th>3</th>\n",
       "      <td>female</td>\n",
       "      <td>Laptop</td>\n",
       "      <td>800</td>\n",
       "      <td>vip</td>\n",
       "    </tr>\n",
       "    <tr>\n",
       "      <th>4</th>\n",
       "      <td>f</td>\n",
       "      <td>Laptop</td>\n",
       "      <td>Eight Hundred</td>\n",
       "      <td>V.I.P</td>\n",
       "    </tr>\n",
       "    <tr>\n",
       "      <th>5</th>\n",
       "      <td>m</td>\n",
       "      <td>Lap Top</td>\n",
       "      <td>900</td>\n",
       "      <td>regular</td>\n",
       "    </tr>\n",
       "  </tbody>\n",
       "</table>\n",
       "</div>"
      ],
      "text/plain": [
       "   Gender  Product          Price Customer Type\n",
       "0    male   Mobile            500       Regular\n",
       "1    male   Mobile            600       Regular\n",
       "2  female   Mobile            700           VIP\n",
       "3  female   Laptop            800           vip\n",
       "4       f   Laptop  Eight Hundred         V.I.P\n",
       "5       m  Lap Top            900       regular"
      ]
     },
     "execution_count": 16,
     "metadata": {},
     "output_type": "execute_result"
    }
   ],
   "source": [
    "df['Product'] = df['Product'].str.strip()\n",
    "df['Customer Type'] = df['Customer Type'].str.strip()\n",
    "\n",
    "df"
   ]
  },
  {
   "cell_type": "code",
   "execution_count": 17,
   "id": "136bcc64",
   "metadata": {},
   "outputs": [
    {
     "data": {
      "text/plain": [
       "Index(['Gender', 'Product', 'Price', 'Customer Type'], dtype='object')"
      ]
     },
     "execution_count": 17,
     "metadata": {},
     "output_type": "execute_result"
    }
   ],
   "source": [
    "df.columns"
   ]
  },
  {
   "cell_type": "markdown",
   "id": "d2b16629",
   "metadata": {},
   "source": [
    "🧠 **Why?**\n",
    "Fixes `'mobile '` or `' Regular'` which would otherwise be treated as separate categories."
   ]
  },
  {
   "cell_type": "markdown",
   "id": "bae0519d",
   "metadata": {},
   "source": [
    "## 🔧 3. Correcting Typos / Inconsistent Labels"
   ]
  },
  {
   "cell_type": "code",
   "execution_count": 18,
   "id": "db66c8b5",
   "metadata": {},
   "outputs": [
    {
     "data": {
      "text/html": [
       "<div>\n",
       "<style scoped>\n",
       "    .dataframe tbody tr th:only-of-type {\n",
       "        vertical-align: middle;\n",
       "    }\n",
       "\n",
       "    .dataframe tbody tr th {\n",
       "        vertical-align: top;\n",
       "    }\n",
       "\n",
       "    .dataframe thead th {\n",
       "        text-align: right;\n",
       "    }\n",
       "</style>\n",
       "<table border=\"1\" class=\"dataframe\">\n",
       "  <thead>\n",
       "    <tr style=\"text-align: right;\">\n",
       "      <th></th>\n",
       "      <th>Gender</th>\n",
       "      <th>Product</th>\n",
       "      <th>Price</th>\n",
       "      <th>Customer Type</th>\n",
       "    </tr>\n",
       "  </thead>\n",
       "  <tbody>\n",
       "    <tr>\n",
       "      <th>0</th>\n",
       "      <td>male</td>\n",
       "      <td>Mobile</td>\n",
       "      <td>500</td>\n",
       "      <td>Regular</td>\n",
       "    </tr>\n",
       "    <tr>\n",
       "      <th>1</th>\n",
       "      <td>male</td>\n",
       "      <td>Mobile</td>\n",
       "      <td>600</td>\n",
       "      <td>Regular</td>\n",
       "    </tr>\n",
       "    <tr>\n",
       "      <th>2</th>\n",
       "      <td>female</td>\n",
       "      <td>Mobile</td>\n",
       "      <td>700</td>\n",
       "      <td>VIP</td>\n",
       "    </tr>\n",
       "    <tr>\n",
       "      <th>3</th>\n",
       "      <td>female</td>\n",
       "      <td>Laptop</td>\n",
       "      <td>800</td>\n",
       "      <td>vip</td>\n",
       "    </tr>\n",
       "    <tr>\n",
       "      <th>4</th>\n",
       "      <td>female</td>\n",
       "      <td>Laptop</td>\n",
       "      <td>Eight Hundred</td>\n",
       "      <td>V.I.P</td>\n",
       "    </tr>\n",
       "    <tr>\n",
       "      <th>5</th>\n",
       "      <td>male</td>\n",
       "      <td>Laptop</td>\n",
       "      <td>900</td>\n",
       "      <td>regular</td>\n",
       "    </tr>\n",
       "  </tbody>\n",
       "</table>\n",
       "</div>"
      ],
      "text/plain": [
       "   Gender Product          Price Customer Type\n",
       "0    male  Mobile            500       Regular\n",
       "1    male  Mobile            600       Regular\n",
       "2  female  Mobile            700           VIP\n",
       "3  female  Laptop            800           vip\n",
       "4  female  Laptop  Eight Hundred         V.I.P\n",
       "5    male  Laptop            900       regular"
      ]
     },
     "execution_count": 18,
     "metadata": {},
     "output_type": "execute_result"
    }
   ],
   "source": [
    "df['Product'] = df['Product'].replace({\n",
    "    'Lap Top': 'Laptop'\n",
    "})\n",
    "\n",
    "df['Gender'] = df['Gender'].replace({\n",
    "    'm': 'male', 'f': 'female'\n",
    "})\n",
    "\n",
    "df"
   ]
  },
  {
   "cell_type": "markdown",
   "id": "c7bb1e10",
   "metadata": {},
   "source": [
    "🧠 **Why?**\n",
    "Prevents misclassification or misleading counts. E.g., `Lap Top` and `Laptop` should be same."
   ]
  },
  {
   "cell_type": "markdown",
   "id": "d4957281",
   "metadata": {},
   "source": [
    "## 🔧 4. Converting Mixed Formats (e.g., numeric values stored as strings)"
   ]
  },
  {
   "cell_type": "code",
   "execution_count": 20,
   "id": "a4d3f859",
   "metadata": {},
   "outputs": [
    {
     "data": {
      "text/html": [
       "<div>\n",
       "<style scoped>\n",
       "    .dataframe tbody tr th:only-of-type {\n",
       "        vertical-align: middle;\n",
       "    }\n",
       "\n",
       "    .dataframe tbody tr th {\n",
       "        vertical-align: top;\n",
       "    }\n",
       "\n",
       "    .dataframe thead th {\n",
       "        text-align: right;\n",
       "    }\n",
       "</style>\n",
       "<table border=\"1\" class=\"dataframe\">\n",
       "  <thead>\n",
       "    <tr style=\"text-align: right;\">\n",
       "      <th></th>\n",
       "      <th>Gender</th>\n",
       "      <th>Product</th>\n",
       "      <th>Price</th>\n",
       "      <th>Customer Type</th>\n",
       "    </tr>\n",
       "  </thead>\n",
       "  <tbody>\n",
       "    <tr>\n",
       "      <th>0</th>\n",
       "      <td>male</td>\n",
       "      <td>Mobile</td>\n",
       "      <td>500</td>\n",
       "      <td>Regular</td>\n",
       "    </tr>\n",
       "    <tr>\n",
       "      <th>1</th>\n",
       "      <td>male</td>\n",
       "      <td>Mobile</td>\n",
       "      <td>600</td>\n",
       "      <td>Regular</td>\n",
       "    </tr>\n",
       "    <tr>\n",
       "      <th>2</th>\n",
       "      <td>female</td>\n",
       "      <td>Mobile</td>\n",
       "      <td>700</td>\n",
       "      <td>VIP</td>\n",
       "    </tr>\n",
       "    <tr>\n",
       "      <th>3</th>\n",
       "      <td>female</td>\n",
       "      <td>Laptop</td>\n",
       "      <td>800</td>\n",
       "      <td>vip</td>\n",
       "    </tr>\n",
       "    <tr>\n",
       "      <th>4</th>\n",
       "      <td>female</td>\n",
       "      <td>Laptop</td>\n",
       "      <td>800</td>\n",
       "      <td>V.I.P</td>\n",
       "    </tr>\n",
       "    <tr>\n",
       "      <th>5</th>\n",
       "      <td>male</td>\n",
       "      <td>Laptop</td>\n",
       "      <td>900</td>\n",
       "      <td>regular</td>\n",
       "    </tr>\n",
       "  </tbody>\n",
       "</table>\n",
       "</div>"
      ],
      "text/plain": [
       "   Gender Product  Price Customer Type\n",
       "0    male  Mobile    500       Regular\n",
       "1    male  Mobile    600       Regular\n",
       "2  female  Mobile    700           VIP\n",
       "3  female  Laptop    800           vip\n",
       "4  female  Laptop    800         V.I.P\n",
       "5    male  Laptop    900       regular"
      ]
     },
     "execution_count": 20,
     "metadata": {},
     "output_type": "execute_result"
    }
   ],
   "source": [
    "# Replace string-based numbers like 'Eight Hundred' manually or using mapping\n",
    "df['Price'] = df['Price'].replace({'Eight Hundred': 800})\n",
    "# Remove spaces and convert to integer\n",
    "df['Price'] = df['Price'].astype(str).str.strip().astype(int)\n",
    "\n",
    "\n",
    "df"
   ]
  },
  {
   "cell_type": "markdown",
   "id": "7e4b76bd",
   "metadata": {},
   "source": [
    "🧠 **Why?**\n",
    "Ensures consistent numeric data type for analysis or modeling."
   ]
  },
  {
   "cell_type": "markdown",
   "id": "fb85a3c8",
   "metadata": {},
   "source": [
    "## 🔧 5. Standardizing Categories"
   ]
  },
  {
   "cell_type": "code",
   "execution_count": 22,
   "id": "7475b722",
   "metadata": {},
   "outputs": [
    {
     "data": {
      "text/html": [
       "<div>\n",
       "<style scoped>\n",
       "    .dataframe tbody tr th:only-of-type {\n",
       "        vertical-align: middle;\n",
       "    }\n",
       "\n",
       "    .dataframe tbody tr th {\n",
       "        vertical-align: top;\n",
       "    }\n",
       "\n",
       "    .dataframe thead th {\n",
       "        text-align: right;\n",
       "    }\n",
       "</style>\n",
       "<table border=\"1\" class=\"dataframe\">\n",
       "  <thead>\n",
       "    <tr style=\"text-align: right;\">\n",
       "      <th></th>\n",
       "      <th>Gender</th>\n",
       "      <th>Product</th>\n",
       "      <th>Price</th>\n",
       "      <th>Customer Type</th>\n",
       "    </tr>\n",
       "  </thead>\n",
       "  <tbody>\n",
       "    <tr>\n",
       "      <th>0</th>\n",
       "      <td>male</td>\n",
       "      <td>Mobile</td>\n",
       "      <td>500</td>\n",
       "      <td>regular</td>\n",
       "    </tr>\n",
       "    <tr>\n",
       "      <th>1</th>\n",
       "      <td>male</td>\n",
       "      <td>Mobile</td>\n",
       "      <td>600</td>\n",
       "      <td>regular</td>\n",
       "    </tr>\n",
       "    <tr>\n",
       "      <th>2</th>\n",
       "      <td>female</td>\n",
       "      <td>Mobile</td>\n",
       "      <td>700</td>\n",
       "      <td>vip</td>\n",
       "    </tr>\n",
       "    <tr>\n",
       "      <th>3</th>\n",
       "      <td>female</td>\n",
       "      <td>Laptop</td>\n",
       "      <td>800</td>\n",
       "      <td>vip</td>\n",
       "    </tr>\n",
       "    <tr>\n",
       "      <th>4</th>\n",
       "      <td>female</td>\n",
       "      <td>Laptop</td>\n",
       "      <td>800</td>\n",
       "      <td>vip</td>\n",
       "    </tr>\n",
       "    <tr>\n",
       "      <th>5</th>\n",
       "      <td>male</td>\n",
       "      <td>Laptop</td>\n",
       "      <td>900</td>\n",
       "      <td>regular</td>\n",
       "    </tr>\n",
       "  </tbody>\n",
       "</table>\n",
       "</div>"
      ],
      "text/plain": [
       "   Gender Product  Price Customer Type\n",
       "0    male  Mobile    500       regular\n",
       "1    male  Mobile    600       regular\n",
       "2  female  Mobile    700           vip\n",
       "3  female  Laptop    800           vip\n",
       "4  female  Laptop    800           vip\n",
       "5    male  Laptop    900       regular"
      ]
     },
     "execution_count": 22,
     "metadata": {},
     "output_type": "execute_result"
    }
   ],
   "source": [
    "df['Customer Type'] = df['Customer Type'].str.lower().replace({\n",
    "    'v.i.p': 'vip',\n",
    "    'regular': 'regular'\n",
    "})\n",
    "\n",
    "df"
   ]
  },
  {
   "cell_type": "markdown",
   "id": "9f324829",
   "metadata": {},
   "source": [
    "🧠 **Why?**\n",
    "Combines `vip`, `V.I.P`, `VIP` into one standardized form."
   ]
  },
  {
   "cell_type": "markdown",
   "id": "bacadfb4",
   "metadata": {},
   "source": [
    "## 🔧 6. Renaming Columns (Structural Fix)"
   ]
  },
  {
   "cell_type": "code",
   "execution_count": 24,
   "id": "b50a8235",
   "metadata": {},
   "outputs": [
    {
     "data": {
      "text/html": [
       "<div>\n",
       "<style scoped>\n",
       "    .dataframe tbody tr th:only-of-type {\n",
       "        vertical-align: middle;\n",
       "    }\n",
       "\n",
       "    .dataframe tbody tr th {\n",
       "        vertical-align: top;\n",
       "    }\n",
       "\n",
       "    .dataframe thead th {\n",
       "        text-align: right;\n",
       "    }\n",
       "</style>\n",
       "<table border=\"1\" class=\"dataframe\">\n",
       "  <thead>\n",
       "    <tr style=\"text-align: right;\">\n",
       "      <th></th>\n",
       "      <th>gender</th>\n",
       "      <th>product</th>\n",
       "      <th>price</th>\n",
       "      <th>customer_type</th>\n",
       "    </tr>\n",
       "  </thead>\n",
       "  <tbody>\n",
       "    <tr>\n",
       "      <th>0</th>\n",
       "      <td>male</td>\n",
       "      <td>Mobile</td>\n",
       "      <td>500</td>\n",
       "      <td>regular</td>\n",
       "    </tr>\n",
       "    <tr>\n",
       "      <th>1</th>\n",
       "      <td>male</td>\n",
       "      <td>Mobile</td>\n",
       "      <td>600</td>\n",
       "      <td>regular</td>\n",
       "    </tr>\n",
       "    <tr>\n",
       "      <th>2</th>\n",
       "      <td>female</td>\n",
       "      <td>Mobile</td>\n",
       "      <td>700</td>\n",
       "      <td>vip</td>\n",
       "    </tr>\n",
       "    <tr>\n",
       "      <th>3</th>\n",
       "      <td>female</td>\n",
       "      <td>Laptop</td>\n",
       "      <td>800</td>\n",
       "      <td>vip</td>\n",
       "    </tr>\n",
       "    <tr>\n",
       "      <th>4</th>\n",
       "      <td>female</td>\n",
       "      <td>Laptop</td>\n",
       "      <td>800</td>\n",
       "      <td>vip</td>\n",
       "    </tr>\n",
       "    <tr>\n",
       "      <th>5</th>\n",
       "      <td>male</td>\n",
       "      <td>Laptop</td>\n",
       "      <td>900</td>\n",
       "      <td>regular</td>\n",
       "    </tr>\n",
       "  </tbody>\n",
       "</table>\n",
       "</div>"
      ],
      "text/plain": [
       "   gender product  price customer_type\n",
       "0    male  Mobile    500       regular\n",
       "1    male  Mobile    600       regular\n",
       "2  female  Mobile    700           vip\n",
       "3  female  Laptop    800           vip\n",
       "4  female  Laptop    800           vip\n",
       "5    male  Laptop    900       regular"
      ]
     },
     "execution_count": 24,
     "metadata": {},
     "output_type": "execute_result"
    }
   ],
   "source": [
    "df.columns = df.columns.str.strip().str.lower().str.replace(' ', '_')\n",
    "\n",
    "df"
   ]
  },
  {
   "cell_type": "markdown",
   "id": "7ca7079f",
   "metadata": {},
   "source": [
    "🧠 **Why?**\n",
    "Good for clean column naming conventions. Helpful in ML pipelines & consistent reference."
   ]
  },
  {
   "cell_type": "markdown",
   "id": "56d5b644",
   "metadata": {},
   "source": [
    "## 🔧 7. Fuzzy Matching (Advanced)\n",
    "\n",
    "For large datasets with many misspellings (e.g., `\"Laptoop\"`, `\"Lap Top\"`, `\"Lap-top\"`), use `fuzzywuzzy`:\n"
   ]
  },
  {
   "cell_type": "code",
   "execution_count": 26,
   "id": "b3581775",
   "metadata": {},
   "outputs": [
    {
     "name": "stdout",
     "output_type": "stream",
     "text": [
      "Choices: ['Mobile' 'Laptop']\n"
     ]
    },
    {
     "data": {
      "text/plain": [
       "('Laptop', 92)"
      ]
     },
     "execution_count": 26,
     "metadata": {},
     "output_type": "execute_result"
    }
   ],
   "source": [
    "from fuzzywuzzy import process\n",
    "\n",
    "choices = df['product'].unique()\n",
    "print(f\"Choices: {choices}\")\n",
    "\n",
    "process.extractOne('Laptoop', choices)"
   ]
  },
  {
   "cell_type": "markdown",
   "id": "023e225c",
   "metadata": {},
   "source": [
    "🧠 **Why?**\n",
    "Helpful when **manual mapping is impractical**, e.g., thousands of unique values."
   ]
  },
  {
   "cell_type": "markdown",
   "id": "17462b61",
   "metadata": {},
   "source": []
  },
  {
   "cell_type": "code",
   "execution_count": 28,
   "id": "0c58ea05",
   "metadata": {},
   "outputs": [
    {
     "name": "stdout",
     "output_type": "stream",
     "text": [
      "product\n",
      "Mobile    3\n",
      "Laptop    3\n",
      "Name: count, dtype: int64\n",
      "product\n",
      "Mobile    3\n",
      "Laptop    3\n",
      "Name: count, dtype: int64\n"
     ]
    }
   ],
   "source": [
    "# Before fixing\n",
    "print(df['product'].value_counts())\n",
    "\n",
    "# After fixing\n",
    "df['product'] = df['product'].str.strip().str.title().replace({'Lap Top': 'Laptop'})\n",
    "print(df['product'].value_counts())"
   ]
  },
  {
   "cell_type": "markdown",
   "id": "c171be63",
   "metadata": {},
   "source": [
    "## ✅ Summary Table of Techniques\n",
    "\n",
    "| Task                    | Method                         | Use Case                           |\n",
    "| ----------------------- | ------------------------------ | ---------------------------------- |\n",
    "| Lowercase or title case | `.str.lower()`, `.str.title()` | Fix capitalization issues          |\n",
    "| Remove spaces           | `.str.strip()`                 | Remove trailing/leading whitespace |\n",
    "| Fix typos               | `.replace()`, `fuzzywuzzy`     | Inconsistent spelling              |\n",
    "| Convert mixed types     | `.astype()`                    | Strings vs numbers                 |\n",
    "| Combine categories      | `.map()`, `.replace()`         | Normalize labels                   |\n",
    "| Rename columns          | `.rename()`, `.columns = ...`  | Improve structure                  |\n"
   ]
  },
  {
   "cell_type": "markdown",
   "id": "52947c18",
   "metadata": {},
   "source": [
    "\n",
    "## 📦 Real-Life Use Cases\n",
    "\n",
    "| Domain                    | Problem                           | Structural Fix                |\n",
    "| ------------------------- | --------------------------------- | ----------------------------- |\n",
    "| E-commerce                | `Mobile`, `MOBILE`, `mobile`      | `.str.title()`                |\n",
    "| HR                        | `M`, `Male`, `male`               | `.str.lower()` + `.replace()` |\n",
    "| Healthcare                | `V.I.P`, `vip`, `VIP `            | `.str.lower()` + `.strip()`   |\n",
    "| Banking                   | `' 500'`, `'Five Hundred'`, `500` | `.replace()` + `.astype()`    |\n",
    "| Data ingestion from forms | Columns like `'Customer Type '`   | `.columns.str.strip()`        |\n"
   ]
  },
  {
   "cell_type": "markdown",
   "id": "a8584527",
   "metadata": {},
   "source": [
    "<center><b>Thanks</b></center>"
   ]
  }
 ],
 "metadata": {
  "kernelspec": {
   "display_name": "venv",
   "language": "python",
   "name": "python3"
  },
  "language_info": {
   "codemirror_mode": {
    "name": "ipython",
    "version": 3
   },
   "file_extension": ".py",
   "mimetype": "text/x-python",
   "name": "python",
   "nbconvert_exporter": "python",
   "pygments_lexer": "ipython3",
   "version": "3.10.2"
  }
 },
 "nbformat": 4,
 "nbformat_minor": 5
}
