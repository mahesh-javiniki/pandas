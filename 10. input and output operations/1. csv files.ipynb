{
 "cells": [
  {
   "cell_type": "markdown",
   "id": "efe0d605",
   "metadata": {},
   "source": [
    "# **10. Input/Output Operations**"
   ]
  },
  {
   "cell_type": "markdown",
   "id": "0820584f",
   "metadata": {},
   "source": [
    "# 📄 1. CSV Files in Pandas (Reading and Writing)"
   ]
  },
  {
   "cell_type": "code",
   "execution_count": 1,
   "id": "3c770dce",
   "metadata": {},
   "outputs": [],
   "source": [
    "import pandas as pd "
   ]
  },
  {
   "cell_type": "markdown",
   "id": "e420dd9f",
   "metadata": {},
   "source": [
    "## 1️⃣ What It Does and When to Use It\n",
    "\n",
    "### ✅ What it does:\n",
    "\n",
    "CSV (Comma-Separated Values) files are simple text files where each line represents a row of data, and columns are separated by commas (or other delimiters).\n",
    "\n",
    "* `pd.read_csv()` → **Reads** data from a CSV file into a DataFrame.\n",
    "* `df.to_csv()` → **Writes** data from a DataFrame to a CSV file.\n",
    "\n",
    "### 📌 When to use:\n",
    "\n",
    "* When exchanging tabular data between different systems (Python ↔ Excel, databases, web apps).\n",
    "* For reading public datasets (Kaggle, GitHub, UCI ML datasets).\n",
    "* For saving processed datasets, predictions, or intermediate steps during analysis."
   ]
  },
  {
   "cell_type": "markdown",
   "id": "32ee3620",
   "metadata": {},
   "source": [
    "## 2️⃣ Syntax and Key Parameters\n",
    "\n",
    "### 🔹 Reading a CSV – `pd.read_csv()`\n",
    "\n",
    "```python\n",
    "pd.read_csv(filepath_or_buffer, sep=',', header='infer', index_col=None, usecols=None, dtype=None, na_values=None)\n",
    "```\n",
    "\n",
    "| Parameter            | Description                                     |\n",
    "| -------------------- | ----------------------------------------------- |\n",
    "| `filepath_or_buffer` | Path to the CSV file or a URL                   |\n",
    "| `sep`                | Delimiter to use (default is comma `,`)         |\n",
    "| `header`             | Row to use as column names (default: first row) |\n",
    "| `index_col`          | Column to use as row labels                     |\n",
    "| `usecols`            | Return a subset of the columns                  |\n",
    "| `dtype`              | Data types for columns                          |\n",
    "| `na_values`          | Additional strings to recognize as NA/NaN       |\n",
    "\n",
    "---\n",
    "\n",
    "### 🔹 Writing a CSV – `df.to_csv()`\n",
    "\n",
    "```python\n",
    "df.to_csv(path_or_buf=None, sep=',', index=True, header=True, columns=None, encoding='utf-8')\n",
    "```\n",
    "\n",
    "| Parameter     | Description                                       |\n",
    "| ------------- | ------------------------------------------------- |\n",
    "| `path_or_buf` | File path or buffer where the CSV will be written |\n",
    "| `sep`         | Delimiter to use (default: comma `,`)             |\n",
    "| `index`       | Whether to write row index (default: `True`)      |\n",
    "| `header`      | Write out column names (default: `True`)          |\n",
    "| `columns`     | Subset of columns to write                        |\n",
    "| `encoding`    | Encoding format (UTF-8, ISO-8859-1, etc.)         |\n"
   ]
  },
  {
   "cell_type": "markdown",
   "id": "639fc5a9",
   "metadata": {},
   "source": [
    "## 3️⃣ Examples of Reading/Writing\n",
    "\n",
    "### 🔹 Reading CSV Files"
   ]
  },
  {
   "cell_type": "code",
   "execution_count": 2,
   "id": "184be2e1",
   "metadata": {},
   "outputs": [
    {
     "data": {
      "text/html": [
       "<div>\n",
       "<style scoped>\n",
       "    .dataframe tbody tr th:only-of-type {\n",
       "        vertical-align: middle;\n",
       "    }\n",
       "\n",
       "    .dataframe tbody tr th {\n",
       "        vertical-align: top;\n",
       "    }\n",
       "\n",
       "    .dataframe thead th {\n",
       "        text-align: right;\n",
       "    }\n",
       "</style>\n",
       "<table border=\"1\" class=\"dataframe\">\n",
       "  <thead>\n",
       "    <tr style=\"text-align: right;\">\n",
       "      <th></th>\n",
       "      <th>EmployeeID</th>\n",
       "      <th>Name</th>\n",
       "      <th>Department</th>\n",
       "      <th>Salary</th>\n",
       "      <th>JoiningDate</th>\n",
       "    </tr>\n",
       "  </thead>\n",
       "  <tbody>\n",
       "    <tr>\n",
       "      <th>0</th>\n",
       "      <td>101</td>\n",
       "      <td>Alice</td>\n",
       "      <td>HR</td>\n",
       "      <td>50000</td>\n",
       "      <td>2020-01-15</td>\n",
       "    </tr>\n",
       "    <tr>\n",
       "      <th>1</th>\n",
       "      <td>102</td>\n",
       "      <td>Bob</td>\n",
       "      <td>Engineering</td>\n",
       "      <td>75000</td>\n",
       "      <td>2019-07-23</td>\n",
       "    </tr>\n",
       "    <tr>\n",
       "      <th>2</th>\n",
       "      <td>103</td>\n",
       "      <td>Charlie</td>\n",
       "      <td>Sales</td>\n",
       "      <td>62000</td>\n",
       "      <td>2021-03-12</td>\n",
       "    </tr>\n",
       "    <tr>\n",
       "      <th>3</th>\n",
       "      <td>104</td>\n",
       "      <td>David</td>\n",
       "      <td>Marketing</td>\n",
       "      <td>58000</td>\n",
       "      <td>2018-11-30</td>\n",
       "    </tr>\n",
       "  </tbody>\n",
       "</table>\n",
       "</div>"
      ],
      "text/plain": [
       "   EmployeeID     Name   Department  Salary JoiningDate\n",
       "0         101    Alice           HR   50000  2020-01-15\n",
       "1         102      Bob  Engineering   75000  2019-07-23\n",
       "2         103  Charlie        Sales   62000  2021-03-12\n",
       "3         104    David    Marketing   58000  2018-11-30"
      ]
     },
     "execution_count": 2,
     "metadata": {},
     "output_type": "execute_result"
    }
   ],
   "source": [
    "# Basic read\n",
    "df = pd.read_csv('data files/csv/employees.csv')\n",
    "\n",
    "df"
   ]
  },
  {
   "cell_type": "code",
   "execution_count": 3,
   "id": "f767d79f",
   "metadata": {},
   "outputs": [
    {
     "data": {
      "text/html": [
       "<div>\n",
       "<style scoped>\n",
       "    .dataframe tbody tr th:only-of-type {\n",
       "        vertical-align: middle;\n",
       "    }\n",
       "\n",
       "    .dataframe tbody tr th {\n",
       "        vertical-align: top;\n",
       "    }\n",
       "\n",
       "    .dataframe thead th {\n",
       "        text-align: right;\n",
       "    }\n",
       "</style>\n",
       "<table border=\"1\" class=\"dataframe\">\n",
       "  <thead>\n",
       "    <tr style=\"text-align: right;\">\n",
       "      <th></th>\n",
       "      <th>Name</th>\n",
       "      <th>Department</th>\n",
       "      <th>Salary</th>\n",
       "      <th>JoiningDate</th>\n",
       "    </tr>\n",
       "    <tr>\n",
       "      <th>EmployeeID</th>\n",
       "      <th></th>\n",
       "      <th></th>\n",
       "      <th></th>\n",
       "      <th></th>\n",
       "    </tr>\n",
       "  </thead>\n",
       "  <tbody>\n",
       "    <tr>\n",
       "      <th>101</th>\n",
       "      <td>Alice</td>\n",
       "      <td>HR</td>\n",
       "      <td>50000</td>\n",
       "      <td>2020-01-15</td>\n",
       "    </tr>\n",
       "    <tr>\n",
       "      <th>102</th>\n",
       "      <td>Bob</td>\n",
       "      <td>Engineering</td>\n",
       "      <td>75000</td>\n",
       "      <td>2019-07-23</td>\n",
       "    </tr>\n",
       "    <tr>\n",
       "      <th>103</th>\n",
       "      <td>Charlie</td>\n",
       "      <td>Sales</td>\n",
       "      <td>62000</td>\n",
       "      <td>2021-03-12</td>\n",
       "    </tr>\n",
       "    <tr>\n",
       "      <th>104</th>\n",
       "      <td>David</td>\n",
       "      <td>Marketing</td>\n",
       "      <td>58000</td>\n",
       "      <td>2018-11-30</td>\n",
       "    </tr>\n",
       "  </tbody>\n",
       "</table>\n",
       "</div>"
      ],
      "text/plain": [
       "               Name   Department  Salary JoiningDate\n",
       "EmployeeID                                          \n",
       "101           Alice           HR   50000  2020-01-15\n",
       "102             Bob  Engineering   75000  2019-07-23\n",
       "103         Charlie        Sales   62000  2021-03-12\n",
       "104           David    Marketing   58000  2018-11-30"
      ]
     },
     "execution_count": 3,
     "metadata": {},
     "output_type": "execute_result"
    }
   ],
   "source": [
    "# With custom separator and index\n",
    "df = pd.read_csv('data files/csv/employees.csv', sep=',', index_col='EmployeeID')\n",
    "\n",
    "df"
   ]
  },
  {
   "cell_type": "code",
   "execution_count": 4,
   "id": "6a4ec70d",
   "metadata": {},
   "outputs": [
    {
     "data": {
      "text/html": [
       "<div>\n",
       "<style scoped>\n",
       "    .dataframe tbody tr th:only-of-type {\n",
       "        vertical-align: middle;\n",
       "    }\n",
       "\n",
       "    .dataframe tbody tr th {\n",
       "        vertical-align: top;\n",
       "    }\n",
       "\n",
       "    .dataframe thead th {\n",
       "        text-align: right;\n",
       "    }\n",
       "</style>\n",
       "<table border=\"1\" class=\"dataframe\">\n",
       "  <thead>\n",
       "    <tr style=\"text-align: right;\">\n",
       "      <th></th>\n",
       "      <th>Name</th>\n",
       "      <th>Salary</th>\n",
       "    </tr>\n",
       "  </thead>\n",
       "  <tbody>\n",
       "    <tr>\n",
       "      <th>0</th>\n",
       "      <td>Alice</td>\n",
       "      <td>50000</td>\n",
       "    </tr>\n",
       "    <tr>\n",
       "      <th>1</th>\n",
       "      <td>Bob</td>\n",
       "      <td>75000</td>\n",
       "    </tr>\n",
       "    <tr>\n",
       "      <th>2</th>\n",
       "      <td>Charlie</td>\n",
       "      <td>62000</td>\n",
       "    </tr>\n",
       "    <tr>\n",
       "      <th>3</th>\n",
       "      <td>David</td>\n",
       "      <td>58000</td>\n",
       "    </tr>\n",
       "  </tbody>\n",
       "</table>\n",
       "</div>"
      ],
      "text/plain": [
       "      Name  Salary\n",
       "0    Alice   50000\n",
       "1      Bob   75000\n",
       "2  Charlie   62000\n",
       "3    David   58000"
      ]
     },
     "execution_count": 4,
     "metadata": {},
     "output_type": "execute_result"
    }
   ],
   "source": [
    "# Reading selected columns\n",
    "df = pd.read_csv('data files/csv/employees.csv', usecols=['Name', 'Salary'])\n",
    "\n",
    "df"
   ]
  },
  {
   "cell_type": "code",
   "execution_count": 5,
   "id": "59eed539",
   "metadata": {},
   "outputs": [
    {
     "data": {
      "text/html": [
       "<div>\n",
       "<style scoped>\n",
       "    .dataframe tbody tr th:only-of-type {\n",
       "        vertical-align: middle;\n",
       "    }\n",
       "\n",
       "    .dataframe tbody tr th {\n",
       "        vertical-align: top;\n",
       "    }\n",
       "\n",
       "    .dataframe thead th {\n",
       "        text-align: right;\n",
       "    }\n",
       "</style>\n",
       "<table border=\"1\" class=\"dataframe\">\n",
       "  <thead>\n",
       "    <tr style=\"text-align: right;\">\n",
       "      <th></th>\n",
       "      <th>EmployeeID</th>\n",
       "      <th>Name</th>\n",
       "      <th>Department</th>\n",
       "      <th>Salary</th>\n",
       "      <th>JoiningDate</th>\n",
       "    </tr>\n",
       "  </thead>\n",
       "  <tbody>\n",
       "    <tr>\n",
       "      <th>0</th>\n",
       "      <td>101</td>\n",
       "      <td>Alice</td>\n",
       "      <td>HR</td>\n",
       "      <td>50000</td>\n",
       "      <td>2020-01-15</td>\n",
       "    </tr>\n",
       "    <tr>\n",
       "      <th>1</th>\n",
       "      <td>102</td>\n",
       "      <td>Bob</td>\n",
       "      <td>Engineering</td>\n",
       "      <td>75000</td>\n",
       "      <td>2019-07-23</td>\n",
       "    </tr>\n",
       "    <tr>\n",
       "      <th>2</th>\n",
       "      <td>103</td>\n",
       "      <td>Charlie</td>\n",
       "      <td>Sales</td>\n",
       "      <td>62000</td>\n",
       "      <td>2021-03-12</td>\n",
       "    </tr>\n",
       "    <tr>\n",
       "      <th>3</th>\n",
       "      <td>104</td>\n",
       "      <td>David</td>\n",
       "      <td>Marketing</td>\n",
       "      <td>58000</td>\n",
       "      <td>2018-11-30</td>\n",
       "    </tr>\n",
       "  </tbody>\n",
       "</table>\n",
       "</div>"
      ],
      "text/plain": [
       "   EmployeeID     Name   Department  Salary JoiningDate\n",
       "0         101    Alice           HR   50000  2020-01-15\n",
       "1         102      Bob  Engineering   75000  2019-07-23\n",
       "2         103  Charlie        Sales   62000  2021-03-12\n",
       "3         104    David    Marketing   58000  2018-11-30"
      ]
     },
     "execution_count": 5,
     "metadata": {},
     "output_type": "execute_result"
    }
   ],
   "source": [
    "# Handling missing values\n",
    "df = pd.read_csv('data files/csv/employees.csv', na_values=[\"n/a\", \"NA\", \"--\"])\n",
    "\n",
    "df"
   ]
  },
  {
   "cell_type": "markdown",
   "id": "a4030cb6",
   "metadata": {},
   "source": [
    "### 🔹 Writing CSV Files"
   ]
  },
  {
   "cell_type": "code",
   "execution_count": 6,
   "id": "b8f15466",
   "metadata": {},
   "outputs": [
    {
     "data": {
      "text/html": [
       "<div>\n",
       "<style scoped>\n",
       "    .dataframe tbody tr th:only-of-type {\n",
       "        vertical-align: middle;\n",
       "    }\n",
       "\n",
       "    .dataframe tbody tr th {\n",
       "        vertical-align: top;\n",
       "    }\n",
       "\n",
       "    .dataframe thead th {\n",
       "        text-align: right;\n",
       "    }\n",
       "</style>\n",
       "<table border=\"1\" class=\"dataframe\">\n",
       "  <thead>\n",
       "    <tr style=\"text-align: right;\">\n",
       "      <th></th>\n",
       "      <th>EmployeeID</th>\n",
       "      <th>Name</th>\n",
       "      <th>Department</th>\n",
       "      <th>Salary</th>\n",
       "      <th>JoiningDate</th>\n",
       "    </tr>\n",
       "  </thead>\n",
       "  <tbody>\n",
       "    <tr>\n",
       "      <th>0</th>\n",
       "      <td>101</td>\n",
       "      <td>Alice</td>\n",
       "      <td>HR</td>\n",
       "      <td>50000</td>\n",
       "      <td>2020-01-15</td>\n",
       "    </tr>\n",
       "    <tr>\n",
       "      <th>1</th>\n",
       "      <td>102</td>\n",
       "      <td>Bob</td>\n",
       "      <td>Engineering</td>\n",
       "      <td>75000</td>\n",
       "      <td>2019-07-23</td>\n",
       "    </tr>\n",
       "    <tr>\n",
       "      <th>2</th>\n",
       "      <td>103</td>\n",
       "      <td>Charlie</td>\n",
       "      <td>Sales</td>\n",
       "      <td>62000</td>\n",
       "      <td>2021-03-12</td>\n",
       "    </tr>\n",
       "    <tr>\n",
       "      <th>3</th>\n",
       "      <td>104</td>\n",
       "      <td>David</td>\n",
       "      <td>Marketing</td>\n",
       "      <td>58000</td>\n",
       "      <td>2018-11-30</td>\n",
       "    </tr>\n",
       "  </tbody>\n",
       "</table>\n",
       "</div>"
      ],
      "text/plain": [
       "   EmployeeID     Name   Department  Salary JoiningDate\n",
       "0         101    Alice           HR   50000  2020-01-15\n",
       "1         102      Bob  Engineering   75000  2019-07-23\n",
       "2         103  Charlie        Sales   62000  2021-03-12\n",
       "3         104    David    Marketing   58000  2018-11-30"
      ]
     },
     "metadata": {},
     "output_type": "display_data"
    }
   ],
   "source": [
    "# Write to CSV with index\n",
    "\n",
    "display(df)\n",
    "\n",
    "df.to_csv('data files/csv/cleaned employees.csv')"
   ]
  },
  {
   "cell_type": "code",
   "execution_count": 7,
   "id": "09e6c2ae",
   "metadata": {},
   "outputs": [],
   "source": [
    "# Write without index\n",
    "\n",
    "df.to_csv('data files/csv/cleaned employees no index.csv', index=False)"
   ]
  },
  {
   "cell_type": "code",
   "execution_count": 8,
   "id": "e6bb24dd",
   "metadata": {},
   "outputs": [],
   "source": [
    "# Write only specific columns\n",
    "\n",
    "df.to_csv('data files/csv/employees specifiec cols.csv', columns=['Name', 'Salary'], index=False)"
   ]
  },
  {
   "cell_type": "code",
   "execution_count": 9,
   "id": "a15cce21",
   "metadata": {},
   "outputs": [],
   "source": [
    "# Write using different delimiter (e.g., tab-separated)\n",
    "\n",
    "df.to_csv('data files/csv/employees tab sep.csv', sep='\\t', index=False)"
   ]
  },
  {
   "cell_type": "markdown",
   "id": "b7ba507d",
   "metadata": {},
   "source": [
    "## 4️⃣ Common Pitfalls\n",
    "\n",
    "| Pitfall                         | Description & Solution                                                                              |\n",
    "| ------------------------------- | --------------------------------------------------------------------------------------------------- |\n",
    "| **Wrong delimiter**             | CSV file may use `;` or `\\t` instead of `,`. Use `sep=';'` or `sep='\\t'`.                           |\n",
    "| **Double headers**              | Re-running `.to_csv()` without setting `index=False` can add duplicate index columns.               |\n",
    "| **Encoding errors**             | Non-English characters can break the read/write. Use `encoding='utf-8'` or `encoding='ISO-8859-1'`. |\n",
    "| **Missing data misinterpreted** | Default NaN handling may not catch custom missing strings like `--`. Use `na_values`.               |\n",
    "| **Large files**                 | Reading large CSVs can be memory intensive. Use `chunksize` or `dtypes`.                            |\n"
   ]
  },
  {
   "cell_type": "markdown",
   "id": "3be6f9d4",
   "metadata": {},
   "source": [
    "## 5️⃣ Real-World Usage\n",
    "\n",
    "### 💼 Business Analytics\n",
    "\n",
    "* A sales team exports data from Excel → analyst uses `pd.read_csv()` to import it.\n",
    "* After cleaning and analysis, they use `df.to_csv()` to share the processed report.\n",
    "\n",
    "### 🔍 Data Science Projects\n",
    "\n",
    "* Most Kaggle datasets are in `.csv` → load with `pd.read_csv()` for modeling.\n",
    "* Save processed features or model predictions with `df.to_csv(\"predictions.csv\")`.\n",
    "\n",
    "### 🧪 Experiment Logging\n",
    "\n",
    "* Save logs from experiments, metrics, hyperparameters using `.to_csv()` for reproducibility.\n"
   ]
  },
  {
   "cell_type": "markdown",
   "id": "a1ebe4c0",
   "metadata": {},
   "source": [
    "## ✅ Summary Table\n",
    "\n",
    "| Task                  | Method          |\n",
    "| --------------------- | --------------- |\n",
    "| Read CSV              | `pd.read_csv()` |\n",
    "| Write CSV             | `df.to_csv()`   |\n",
    "| Handle delimiters     | `sep=...`       |\n",
    "| Handle encoding       | `encoding=...`  |\n",
    "| Handle missing values | `na_values=...` |"
   ]
  },
  {
   "cell_type": "markdown",
   "id": "af0196f5",
   "metadata": {},
   "source": [
    "<center><b>Thanks</b></center>"
   ]
  }
 ],
 "metadata": {
  "kernelspec": {
   "display_name": "venv",
   "language": "python",
   "name": "python3"
  },
  "language_info": {
   "codemirror_mode": {
    "name": "ipython",
    "version": 3
   },
   "file_extension": ".py",
   "mimetype": "text/x-python",
   "name": "python",
   "nbconvert_exporter": "python",
   "pygments_lexer": "ipython3",
   "version": "3.10.2"
  }
 },
 "nbformat": 4,
 "nbformat_minor": 5
}
