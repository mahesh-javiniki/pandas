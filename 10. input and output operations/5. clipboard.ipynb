{
 "cells": [
  {
   "cell_type": "markdown",
   "id": "16c7bf82",
   "metadata": {},
   "source": [
    "# **10. Input/Output Operations**"
   ]
  },
  {
   "cell_type": "markdown",
   "id": "cffa1182",
   "metadata": {},
   "source": [
    "# 🖇️ 5. Clipboard in Pandas"
   ]
  },
  {
   "cell_type": "code",
   "execution_count": 1,
   "id": "f2bfad34",
   "metadata": {},
   "outputs": [],
   "source": [
    "import pandas as pd "
   ]
  },
  {
   "cell_type": "markdown",
   "id": "e25db2a7",
   "metadata": {},
   "source": [
    "## 1️⃣ What It Does and When to Use It\n",
    "\n",
    "### ✅ What it does:\n",
    "\n",
    "Pandas provides functions to **read from** and **write to** the system clipboard. This means you can **copy data (like tables) from Excel, websites, or text files** and directly paste it into a DataFrame — or the other way around.\n",
    "\n",
    "* Use `pd.read_clipboard()` to read copied tabular data into a DataFrame.\n",
    "* Use `df.to_clipboard()` to copy a DataFrame to the clipboard in a tabular (or Excel-friendly) format.\n",
    "\n",
    "### 📌 When to use:\n",
    "\n",
    "* To quickly test or transfer small datasets between **Excel ↔ Python** or **Webpages ↔ Python** without saving to intermediate files.\n",
    "* During **rapid prototyping** or **ad hoc data wrangling**.\n",
    "* When working with **temporary** or **interactive** data.\n"
   ]
  },
  {
   "cell_type": "markdown",
   "id": "977bb8e9",
   "metadata": {},
   "source": [
    "## 2️⃣ Syntax and Key Parameters\n",
    "\n",
    "### 🔹 `pd.read_clipboard()`\n",
    "\n",
    "```python\n",
    "pd.read_clipboard(sep='\\\\s+', **kwargs)\n",
    "```\n",
    "\n",
    "| Parameter  | Description                          |\n",
    "| ---------- | ------------------------------------ |\n",
    "| `sep`      | Delimiter (default is whitespace)    |\n",
    "| `**kwargs` | Passed to `pd.read_csv()` internally |\n",
    "\n",
    "---\n",
    "\n",
    "### 🔹 `df.to_clipboard()`\n",
    "\n",
    "```python\n",
    "df.to_clipboard(excel=True, sep=None, index=True, header=True)\n",
    "```\n",
    "\n",
    "| Parameter | Description                          |\n",
    "| --------- | ------------------------------------ |\n",
    "| `excel`   | Format output for pasting into Excel |\n",
    "| `sep`     | Separator (e.g., `'\\t'` for tab)     |\n",
    "| `index`   | Whether to include index             |\n",
    "| `header`  | Whether to include column headers    |\n"
   ]
  },
  {
   "cell_type": "markdown",
   "id": "f8469bef",
   "metadata": {},
   "source": [
    "## 3️⃣ Examples of Reading/Writing\n",
    "\n",
    "### 📥 Read from Clipboard\n",
    "\n",
    "Let’s say you copy this table from Excel or a webpage:\n",
    "\n",
    "```\n",
    "Name\tAge\tCity\n",
    "Alice\t25\tNew York\n",
    "Bob\t    30\tChicago\n",
    "```"
   ]
  },
  {
   "cell_type": "code",
   "execution_count": 5,
   "id": "7277e554",
   "metadata": {},
   "outputs": [
    {
     "data": {
      "text/html": [
       "<div>\n",
       "<style scoped>\n",
       "    .dataframe tbody tr th:only-of-type {\n",
       "        vertical-align: middle;\n",
       "    }\n",
       "\n",
       "    .dataframe tbody tr th {\n",
       "        vertical-align: top;\n",
       "    }\n",
       "\n",
       "    .dataframe thead th {\n",
       "        text-align: right;\n",
       "    }\n",
       "</style>\n",
       "<table border=\"1\" class=\"dataframe\">\n",
       "  <thead>\n",
       "    <tr style=\"text-align: right;\">\n",
       "      <th></th>\n",
       "      <th>Name</th>\n",
       "      <th>Age</th>\n",
       "      <th>City</th>\n",
       "    </tr>\n",
       "  </thead>\n",
       "  <tbody>\n",
       "    <tr>\n",
       "      <th>0</th>\n",
       "      <td>Alice</td>\n",
       "      <td>25</td>\n",
       "      <td>New York</td>\n",
       "    </tr>\n",
       "    <tr>\n",
       "      <th>1</th>\n",
       "      <td>Bob</td>\n",
       "      <td>30</td>\n",
       "      <td>Chicago</td>\n",
       "    </tr>\n",
       "  </tbody>\n",
       "</table>\n",
       "</div>"
      ],
      "text/plain": [
       "    Name  Age      City\n",
       "0  Alice   25  New York\n",
       "1    Bob   30   Chicago"
      ]
     },
     "execution_count": 5,
     "metadata": {},
     "output_type": "execute_result"
    }
   ],
   "source": [
    "# Read clipboard data into a DataFrame\n",
    "df = pd.read_clipboard()\n",
    "df"
   ]
  },
  {
   "cell_type": "markdown",
   "id": "aa46c105",
   "metadata": {},
   "source": [
    "### 📤 Write to Clipboard"
   ]
  },
  {
   "cell_type": "code",
   "execution_count": 8,
   "id": "7021595b",
   "metadata": {},
   "outputs": [],
   "source": [
    "# Write DataFrame to clipboard\n",
    "df.to_clipboard(index=False)\n",
    "\n",
    "# Now you can paste it directly into Excel or Notepad"
   ]
  },
  {
   "cell_type": "markdown",
   "id": "b46f03c8",
   "metadata": {},
   "source": [
    "**Result got from above to clipboard**\n",
    "\n",
    "Name\tAge\tCity\n",
    "\n",
    "Alice\t25\tNew York\n",
    "\n",
    "Bob\t30\tChicago"
   ]
  },
  {
   "cell_type": "markdown",
   "id": "8290732a",
   "metadata": {},
   "source": [
    "## 4️⃣ Common Pitfalls\n",
    "\n",
    "| Pitfall                 | Description & Fix                                                         |\n",
    "| ----------------------- | ------------------------------------------------------------------------- |\n",
    "| ❌ **Clipboard empty**   | You must copy the content **before** calling `read_clipboard()`           |\n",
    "| ❌ **Bad formatting**    | Text copied from web may not be tabular; use `sep='\\t'` or manually clean |\n",
    "| ❌ **Multiline headers** | Multi-row headers may cause `read_clipboard()` to fail                    |\n",
    "| ❌ **Copy size limits**  | Clipboard is only suitable for small-to-moderate sized data               |\n"
   ]
  },
  {
   "cell_type": "markdown",
   "id": "321692ea",
   "metadata": {},
   "source": [
    "## 5️⃣ Real-World Usage\n",
    "\n",
    "### 📋 Rapid Excel Data Transfer\n",
    "\n",
    "* Quickly copy tables from Excel to pandas for analysis without saving files.\n",
    "\n",
    "### 🌐 Web Data Collection\n",
    "\n",
    "* Copy HTML tables from websites and analyze them in pandas.\n",
    "\n",
    "### 🧪 Prototyping\n",
    "\n",
    "* Share and test tabular datasets via messaging apps or chats using copy-paste.\n",
    "\n",
    "### 🧑‍🏫 Teaching & Demos\n",
    "\n",
    "* Educators can demo pandas functionality by copying/pasting small examples in real time."
   ]
  },
  {
   "cell_type": "markdown",
   "id": "3f114068",
   "metadata": {},
   "source": [
    "## ✅ Summary Table\n",
    "\n",
    "| Task                    | Method                           |\n",
    "| ----------------------- | -------------------------------- |\n",
    "| Read from clipboard     | `pd.read_clipboard()`            |\n",
    "| Write to clipboard      | `df.to_clipboard()`              |\n",
    "| Best for                | Small tabular datasets           |\n",
    "| Excel compatible format | `excel=True` in `to_clipboard()` |"
   ]
  },
  {
   "cell_type": "markdown",
   "id": "5de7ba2c",
   "metadata": {},
   "source": [
    "<center><b>Thanks</b></center>"
   ]
  }
 ],
 "metadata": {
  "kernelspec": {
   "display_name": "venv",
   "language": "python",
   "name": "python3"
  },
  "language_info": {
   "codemirror_mode": {
    "name": "ipython",
    "version": 3
   },
   "file_extension": ".py",
   "mimetype": "text/x-python",
   "name": "python",
   "nbconvert_exporter": "python",
   "pygments_lexer": "ipython3",
   "version": "3.10.2"
  }
 },
 "nbformat": 4,
 "nbformat_minor": 5
}
