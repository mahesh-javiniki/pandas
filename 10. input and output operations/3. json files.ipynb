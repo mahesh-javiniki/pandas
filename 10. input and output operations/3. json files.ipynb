{
 "cells": [
  {
   "cell_type": "markdown",
   "id": "737adabc",
   "metadata": {},
   "source": [
    "# **10. Input/Output Operations**"
   ]
  },
  {
   "cell_type": "markdown",
   "id": "c00ddc52",
   "metadata": {},
   "source": [
    "# 🌐 3. JSON Files in Pandas (Reading and Writing)"
   ]
  },
  {
   "cell_type": "code",
   "execution_count": 29,
   "id": "1023aeea",
   "metadata": {},
   "outputs": [],
   "source": [
    "import pandas as pd "
   ]
  },
  {
   "cell_type": "markdown",
   "id": "29d0d4d2",
   "metadata": {},
   "source": [
    "## 1️⃣ What It Does and When to Use It\n",
    "\n",
    "### ✅ What it does:\n",
    "\n",
    "* **JSON (JavaScript Object Notation)** is a lightweight format for storing and exchanging data as key-value pairs.\n",
    "* In pandas:\n",
    "\n",
    "  * `pd.read_json()` → **Reads** JSON data into a DataFrame.\n",
    "  * `df.to_json()` → **Writes** a DataFrame to a JSON-formatted file.\n",
    "\n",
    "### 📌 When to use:\n",
    "\n",
    "* When working with **web APIs**, **NoSQL databases**, or **config files**.\n",
    "* When exchanging data with **JavaScript applications** or other systems using REST APIs.\n",
    "* Useful for **nested** or semi-structured data formats."
   ]
  },
  {
   "cell_type": "markdown",
   "id": "5cc276d8",
   "metadata": {},
   "source": [
    "## 2️⃣ Syntax and Key Parameters\n",
    "\n",
    "### 🔹 Reading JSON — `pd.read_json()`\n",
    "\n",
    "```python\n",
    "pd.read_json(path_or_buf, orient=None, lines=False)\n",
    "```\n",
    "\n",
    "| Parameter     | Description                                                     |\n",
    "| ------------- | --------------------------------------------------------------- |\n",
    "| `path_or_buf` | File path, URL, or JSON string                                  |\n",
    "| `orient`      | Expected format: `'records'`, `'index'`, `'split'`, `'columns'` |\n",
    "| `lines`       | Whether file is line-delimited JSON (newline-separated)         |\n",
    "\n",
    "---\n",
    "\n",
    "### 🔹 Writing JSON — `df.to_json()`\n",
    "\n",
    "```python\n",
    "df.to_json(path_or_buf=None, orient='columns', lines=False)\n",
    "```\n",
    "\n",
    "| Parameter     | Description                                                   |\n",
    "| ------------- | ------------------------------------------------------------- |\n",
    "| `path_or_buf` | Path or buffer to write to                                    |\n",
    "| `orient`      | Output format: `'records'`, `'index'`, `'split'`, `'columns'` |\n",
    "| `lines`       | Write as line-delimited JSON                                  |\n",
    "| `indent`      | Format JSON with indentation                                  |\n"
   ]
  },
  {
   "cell_type": "markdown",
   "id": "e8590d75",
   "metadata": {},
   "source": [
    "## 3️⃣ Examples of Reading/Writing"
   ]
  },
  {
   "cell_type": "markdown",
   "id": "f4ab8f28",
   "metadata": {},
   "source": [
    "### 📥 Reading from JSON"
   ]
  },
  {
   "cell_type": "code",
   "execution_count": 30,
   "id": "2eccad01",
   "metadata": {},
   "outputs": [
    {
     "data": {
      "text/html": [
       "<div>\n",
       "<style scoped>\n",
       "    .dataframe tbody tr th:only-of-type {\n",
       "        vertical-align: middle;\n",
       "    }\n",
       "\n",
       "    .dataframe tbody tr th {\n",
       "        vertical-align: top;\n",
       "    }\n",
       "\n",
       "    .dataframe thead th {\n",
       "        text-align: right;\n",
       "    }\n",
       "</style>\n",
       "<table border=\"1\" class=\"dataframe\">\n",
       "  <thead>\n",
       "    <tr style=\"text-align: right;\">\n",
       "      <th></th>\n",
       "      <th>EmployeeID</th>\n",
       "      <th>Name</th>\n",
       "      <th>Department</th>\n",
       "      <th>Salary</th>\n",
       "      <th>JoiningDate</th>\n",
       "    </tr>\n",
       "  </thead>\n",
       "  <tbody>\n",
       "    <tr>\n",
       "      <th>0</th>\n",
       "      <td>101</td>\n",
       "      <td>Alice</td>\n",
       "      <td>HR</td>\n",
       "      <td>50000</td>\n",
       "      <td>2020-01-15</td>\n",
       "    </tr>\n",
       "    <tr>\n",
       "      <th>1</th>\n",
       "      <td>102</td>\n",
       "      <td>Bob</td>\n",
       "      <td>Engineering</td>\n",
       "      <td>75000</td>\n",
       "      <td>2019-07-23</td>\n",
       "    </tr>\n",
       "    <tr>\n",
       "      <th>2</th>\n",
       "      <td>103</td>\n",
       "      <td>Charlie</td>\n",
       "      <td>Sales</td>\n",
       "      <td>62000</td>\n",
       "      <td>2021-03-12</td>\n",
       "    </tr>\n",
       "    <tr>\n",
       "      <th>3</th>\n",
       "      <td>104</td>\n",
       "      <td>David</td>\n",
       "      <td>Marketing</td>\n",
       "      <td>58000</td>\n",
       "      <td>2018-11-30</td>\n",
       "    </tr>\n",
       "  </tbody>\n",
       "</table>\n",
       "</div>"
      ],
      "text/plain": [
       "   EmployeeID     Name   Department  Salary JoiningDate\n",
       "0         101    Alice           HR   50000  2020-01-15\n",
       "1         102      Bob  Engineering   75000  2019-07-23\n",
       "2         103  Charlie        Sales   62000  2021-03-12\n",
       "3         104    David    Marketing   58000  2018-11-30"
      ]
     },
     "execution_count": 30,
     "metadata": {},
     "output_type": "execute_result"
    }
   ],
   "source": [
    "# Read standard JSON file\n",
    "df = pd.read_json('data files/json/employees.json')\n",
    "\n",
    "df"
   ]
  },
  {
   "cell_type": "code",
   "execution_count": 31,
   "id": "75f00a30",
   "metadata": {},
   "outputs": [
    {
     "data": {
      "text/html": [
       "<div>\n",
       "<style scoped>\n",
       "    .dataframe tbody tr th:only-of-type {\n",
       "        vertical-align: middle;\n",
       "    }\n",
       "\n",
       "    .dataframe tbody tr th {\n",
       "        vertical-align: top;\n",
       "    }\n",
       "\n",
       "    .dataframe thead th {\n",
       "        text-align: right;\n",
       "    }\n",
       "</style>\n",
       "<table border=\"1\" class=\"dataframe\">\n",
       "  <thead>\n",
       "    <tr style=\"text-align: right;\">\n",
       "      <th></th>\n",
       "      <th>0</th>\n",
       "      <th>1</th>\n",
       "      <th>2</th>\n",
       "      <th>3</th>\n",
       "    </tr>\n",
       "  </thead>\n",
       "  <tbody>\n",
       "    <tr>\n",
       "      <th>0</th>\n",
       "      <td>{'EmployeeID': 101, 'Name': 'Alice', 'Departme...</td>\n",
       "      <td>{'EmployeeID': 102, 'Name': 'Bob', 'Department...</td>\n",
       "      <td>{'EmployeeID': 103, 'Name': 'Charlie', 'Depart...</td>\n",
       "      <td>{'EmployeeID': 104, 'Name': 'David', 'Departme...</td>\n",
       "    </tr>\n",
       "  </tbody>\n",
       "</table>\n",
       "</div>"
      ],
      "text/plain": [
       "                                                   0  \\\n",
       "0  {'EmployeeID': 101, 'Name': 'Alice', 'Departme...   \n",
       "\n",
       "                                                   1  \\\n",
       "0  {'EmployeeID': 102, 'Name': 'Bob', 'Department...   \n",
       "\n",
       "                                                   2  \\\n",
       "0  {'EmployeeID': 103, 'Name': 'Charlie', 'Depart...   \n",
       "\n",
       "                                                   3  \n",
       "0  {'EmployeeID': 104, 'Name': 'David', 'Departme...  "
      ]
     },
     "execution_count": 31,
     "metadata": {},
     "output_type": "execute_result"
    }
   ],
   "source": [
    "# If line-delimited JSON (1 row per line)\n",
    "df = pd.read_json('data files/json/employees.json', lines=True)\n",
    "\n",
    "df"
   ]
  },
  {
   "cell_type": "code",
   "execution_count": 32,
   "id": "3de7e80f",
   "metadata": {},
   "outputs": [
    {
     "data": {
      "text/plain": [
       "0    {'EmployeeID': 101, 'Name': 'Alice', 'Departme...\n",
       "Name: 0, dtype: object"
      ]
     },
     "execution_count": 32,
     "metadata": {},
     "output_type": "execute_result"
    }
   ],
   "source": [
    "df[0]"
   ]
  },
  {
   "cell_type": "code",
   "execution_count": 33,
   "id": "7c0a274f",
   "metadata": {},
   "outputs": [
    {
     "data": {
      "text/html": [
       "<div>\n",
       "<style scoped>\n",
       "    .dataframe tbody tr th:only-of-type {\n",
       "        vertical-align: middle;\n",
       "    }\n",
       "\n",
       "    .dataframe tbody tr th {\n",
       "        vertical-align: top;\n",
       "    }\n",
       "\n",
       "    .dataframe thead th {\n",
       "        text-align: right;\n",
       "    }\n",
       "</style>\n",
       "<table border=\"1\" class=\"dataframe\">\n",
       "  <thead>\n",
       "    <tr style=\"text-align: right;\">\n",
       "      <th></th>\n",
       "      <th>EmployeeID</th>\n",
       "      <th>Name</th>\n",
       "      <th>Department</th>\n",
       "      <th>Salary</th>\n",
       "      <th>JoiningDate</th>\n",
       "    </tr>\n",
       "  </thead>\n",
       "  <tbody>\n",
       "    <tr>\n",
       "      <th>0</th>\n",
       "      <td>101</td>\n",
       "      <td>Alice</td>\n",
       "      <td>HR</td>\n",
       "      <td>50000</td>\n",
       "      <td>2020-01-15</td>\n",
       "    </tr>\n",
       "    <tr>\n",
       "      <th>1</th>\n",
       "      <td>102</td>\n",
       "      <td>Bob</td>\n",
       "      <td>Engineering</td>\n",
       "      <td>75000</td>\n",
       "      <td>2019-07-23</td>\n",
       "    </tr>\n",
       "    <tr>\n",
       "      <th>2</th>\n",
       "      <td>103</td>\n",
       "      <td>Charlie</td>\n",
       "      <td>Sales</td>\n",
       "      <td>62000</td>\n",
       "      <td>2021-03-12</td>\n",
       "    </tr>\n",
       "    <tr>\n",
       "      <th>3</th>\n",
       "      <td>104</td>\n",
       "      <td>David</td>\n",
       "      <td>Marketing</td>\n",
       "      <td>58000</td>\n",
       "      <td>2018-11-30</td>\n",
       "    </tr>\n",
       "  </tbody>\n",
       "</table>\n",
       "</div>"
      ],
      "text/plain": [
       "   EmployeeID     Name   Department  Salary JoiningDate\n",
       "0         101    Alice           HR   50000  2020-01-15\n",
       "1         102      Bob  Engineering   75000  2019-07-23\n",
       "2         103  Charlie        Sales   62000  2021-03-12\n",
       "3         104    David    Marketing   58000  2018-11-30"
      ]
     },
     "execution_count": 33,
     "metadata": {},
     "output_type": "execute_result"
    }
   ],
   "source": [
    "# With a specific orientation (e.g., 'records')\n",
    "df = pd.read_json('data files/json/employees.json', orient='records')\n",
    "\n",
    "df"
   ]
  },
  {
   "cell_type": "markdown",
   "id": "b63ea7c1",
   "metadata": {},
   "source": [
    "### 📤 Writing to JSON"
   ]
  },
  {
   "cell_type": "code",
   "execution_count": 34,
   "id": "9c3a0dc8",
   "metadata": {},
   "outputs": [],
   "source": [
    "# Save as standard JSON (default orientation is 'columns')\n",
    "df.to_json('data files/json/employees write.json')"
   ]
  },
  {
   "cell_type": "code",
   "execution_count": 35,
   "id": "5911b0b7",
   "metadata": {},
   "outputs": [],
   "source": [
    "# Save as list of records (better for API exchange)\n",
    "df.to_json('data files/json/employees records.json', orient='records')"
   ]
  },
  {
   "cell_type": "code",
   "execution_count": null,
   "id": "c573cd07",
   "metadata": {},
   "outputs": [],
   "source": [
    "# Save as line-delimited JSON (useful for streaming large data)\n",
    "df.to_json(\n",
    "    'data files/json/employees records lines.json', orient='records', lines=True\n",
    ")"
   ]
  },
  {
   "cell_type": "code",
   "execution_count": null,
   "id": "bf6b04d4",
   "metadata": {},
   "outputs": [],
   "source": [
    "# Save pretty-formatted JSON\n",
    "df.to_json(\n",
    "    'data files/json/employees records pretty.json', orient='records', indent=4\n",
    ")"
   ]
  },
  {
   "cell_type": "markdown",
   "id": "2dce0028",
   "metadata": {},
   "source": [
    "## 4️⃣ Common Pitfalls\n",
    "\n",
    "| Pitfall                  | Description & Solution                                                                         |\n",
    "| ------------------------ | ---------------------------------------------------------------------------------------------- |\n",
    "| **Wrong orientation**    | `pd.read_json()` expects a specific format. Use `orient='records'` for row-wise lists.         |\n",
    "| **Missing `lines=True`** | For newline-delimited JSON, forgeting `lines=True` will cause errors.                          |\n",
    "| **Nested JSON**          | `read_json()` struggles with deeply nested objects — use `json_normalize()` or custom parsers. |\n",
    "| **Loss of formatting**   | Date formats and data types may not be preserved unless explicitly handled.                    |\n",
    "| **Encoding issues**      | Use `encoding='utf-8'` if dealing with special characters.                                     |\n"
   ]
  },
  {
   "cell_type": "markdown",
   "id": "d7f4a30c",
   "metadata": {},
   "source": [
    "## 5️⃣ Real-World Usage\n",
    "\n",
    "### 🌐 Web APIs\n",
    "\n",
    "* APIs often return responses in JSON format — parse them into DataFrames using `pd.read_json()`.\n",
    "\n",
    "### 🔍 Config & Metadata Storage\n",
    "\n",
    "* JSON is used for saving experiment settings, user preferences, etc.\n",
    "\n",
    "### 📦 NoSQL/Document Databases\n",
    "\n",
    "* Databases like MongoDB use JSON-style formats — useful when pulling/exporting collections.\n",
    "\n",
    "### 📊 Streaming Data\n",
    "\n",
    "* Line-delimited JSON (`lines=True`) is used for processing logs, sensor data, etc."
   ]
  },
  {
   "cell_type": "markdown",
   "id": "89d08974",
   "metadata": {},
   "source": [
    "## ✅ Summary Table\n",
    "\n",
    "| Task                | Method             |\n",
    "| ------------------- | ------------------ |\n",
    "| Read JSON file      | `pd.read_json()`   |\n",
    "| Write JSON file     | `df.to_json()`     |\n",
    "| Row-wise records    | `orient='records'` |\n",
    "| Line-delimited JSON | `lines=True`       |"
   ]
  },
  {
   "cell_type": "markdown",
   "id": "c4e0e9a4",
   "metadata": {},
   "source": [
    "<center><b>Thanks</b></center>"
   ]
  }
 ],
 "metadata": {
  "kernelspec": {
   "display_name": "venv",
   "language": "python",
   "name": "python3"
  },
  "language_info": {
   "codemirror_mode": {
    "name": "ipython",
    "version": 3
   },
   "file_extension": ".py",
   "mimetype": "text/x-python",
   "name": "python",
   "nbconvert_exporter": "python",
   "pygments_lexer": "ipython3",
   "version": "3.10.2"
  }
 },
 "nbformat": 4,
 "nbformat_minor": 5
}
