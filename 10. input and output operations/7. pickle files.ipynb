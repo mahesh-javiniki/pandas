{
 "cells": [
  {
   "cell_type": "markdown",
   "id": "952aebc6",
   "metadata": {},
   "source": [
    "# **10. Input/Output Operations**"
   ]
  },
  {
   "cell_type": "markdown",
   "id": "40b3f1d0",
   "metadata": {},
   "source": [
    "# 🥒 7. Pickle Files in Pandas"
   ]
  },
  {
   "cell_type": "code",
   "execution_count": 13,
   "id": "efd34d83",
   "metadata": {},
   "outputs": [],
   "source": [
    "import pandas as pd "
   ]
  },
  {
   "cell_type": "markdown",
   "id": "f081d245",
   "metadata": {},
   "source": [
    "## 1️⃣ What It Does and When to Use It\n",
    "\n",
    "### ✅ What it does:\n",
    "\n",
    "Pickle files are used to **serialize** (save) and **deserialize** (load) Python objects — including pandas DataFrames — into a **binary format** using Python’s built-in `pickle` module.\n",
    "\n",
    "Pandas provides convenient functions:\n",
    "\n",
    "* `df.to_pickle()` – to **save** a DataFrame as a pickle file.\n",
    "* `pd.read_pickle()` – to **load** a DataFrame from a pickle file.\n",
    "\n",
    "---\n",
    "\n",
    "### 📌 When to use:\n",
    "\n",
    "* ✅ When you want **fast and efficient saving/loading** of pandas objects.\n",
    "* ✅ When sharing data between **Python programs**.\n",
    "* ✅ When preserving **DataFrame structure, data types, indexes, and metadata** exactly.\n",
    "* ❌ Not recommended for **cross-language** or **long-term** storage (because of compatibility risks)."
   ]
  },
  {
   "cell_type": "markdown",
   "id": "a27b12ac",
   "metadata": {},
   "source": [
    "## 2️⃣ Syntax and Key Parameters\n",
    "\n",
    "### 🔹 `df.to_pickle()`\n",
    "\n",
    "```python\n",
    "df.to_pickle(path, compression='infer', protocol=pickle.HIGHEST_PROTOCOL, storage_options=None)\n",
    "```\n",
    "\n",
    "| Parameter         | Description                                                  |\n",
    "| ----------------- | ------------------------------------------------------------ |\n",
    "| `path`            | File path or buffer where the pickle will be saved           |\n",
    "| `compression`     | Compression method: `'gzip'`, `'bz2'`, `'zip'`, `'xz'`, etc. |\n",
    "| `protocol`        | Pickle protocol version (default is highest available)       |\n",
    "| `storage_options` | Extra options for remote storage (e.g., S3)                  |\n",
    "\n",
    "---\n",
    "\n",
    "### 🔹 `pd.read_pickle()`\n",
    "\n",
    "```python\n",
    "pd.read_pickle(filepath_or_buffer, compression='infer', storage_options=None)\n",
    "```\n",
    "\n",
    "| Parameter            | Description                                  |\n",
    "| -------------------- | -------------------------------------------- |\n",
    "| `filepath_or_buffer` | Path or buffer from which to read the pickle |\n",
    "| `compression`        | Decompression type                           |\n",
    "| `storage_options`    | Optional storage args for cloud/remote reads |\n"
   ]
  },
  {
   "cell_type": "markdown",
   "id": "ea9485fd",
   "metadata": {},
   "source": [
    "## 3️⃣ Examples of Reading/Writing\n",
    "\n",
    "### 📤 Writing to a Pickle File"
   ]
  },
  {
   "cell_type": "code",
   "execution_count": 14,
   "id": "6729071a",
   "metadata": {},
   "outputs": [
    {
     "data": {
      "text/html": [
       "<div>\n",
       "<style scoped>\n",
       "    .dataframe tbody tr th:only-of-type {\n",
       "        vertical-align: middle;\n",
       "    }\n",
       "\n",
       "    .dataframe tbody tr th {\n",
       "        vertical-align: top;\n",
       "    }\n",
       "\n",
       "    .dataframe thead th {\n",
       "        text-align: right;\n",
       "    }\n",
       "</style>\n",
       "<table border=\"1\" class=\"dataframe\">\n",
       "  <thead>\n",
       "    <tr style=\"text-align: right;\">\n",
       "      <th></th>\n",
       "      <th>Name</th>\n",
       "      <th>Age</th>\n",
       "    </tr>\n",
       "  </thead>\n",
       "  <tbody>\n",
       "    <tr>\n",
       "      <th>0</th>\n",
       "      <td>Alice</td>\n",
       "      <td>25</td>\n",
       "    </tr>\n",
       "    <tr>\n",
       "      <th>1</th>\n",
       "      <td>Bob</td>\n",
       "      <td>30</td>\n",
       "    </tr>\n",
       "    <tr>\n",
       "      <th>2</th>\n",
       "      <td>Charlie</td>\n",
       "      <td>35</td>\n",
       "    </tr>\n",
       "  </tbody>\n",
       "</table>\n",
       "</div>"
      ],
      "text/plain": [
       "      Name  Age\n",
       "0    Alice   25\n",
       "1      Bob   30\n",
       "2  Charlie   35"
      ]
     },
     "execution_count": 14,
     "metadata": {},
     "output_type": "execute_result"
    }
   ],
   "source": [
    "df = pd.DataFrame({\n",
    "    'Name': ['Alice', 'Bob', 'Charlie'],\n",
    "    'Age': [25, 30, 35]\n",
    "})\n",
    "\n",
    "df"
   ]
  },
  {
   "cell_type": "code",
   "execution_count": 15,
   "id": "43ec1e70",
   "metadata": {},
   "outputs": [],
   "source": [
    "# Save to Pickle file\n",
    "\n",
    "df.to_pickle('data files\\\\pickle\\\\people.pkl')"
   ]
  },
  {
   "cell_type": "markdown",
   "id": "db17ee3a",
   "metadata": {},
   "source": [
    "### 📥 Reading from a Pickle File"
   ]
  },
  {
   "cell_type": "code",
   "execution_count": 16,
   "id": "5513e4f4",
   "metadata": {},
   "outputs": [
    {
     "data": {
      "text/html": [
       "<div>\n",
       "<style scoped>\n",
       "    .dataframe tbody tr th:only-of-type {\n",
       "        vertical-align: middle;\n",
       "    }\n",
       "\n",
       "    .dataframe tbody tr th {\n",
       "        vertical-align: top;\n",
       "    }\n",
       "\n",
       "    .dataframe thead th {\n",
       "        text-align: right;\n",
       "    }\n",
       "</style>\n",
       "<table border=\"1\" class=\"dataframe\">\n",
       "  <thead>\n",
       "    <tr style=\"text-align: right;\">\n",
       "      <th></th>\n",
       "      <th>Name</th>\n",
       "      <th>Age</th>\n",
       "    </tr>\n",
       "  </thead>\n",
       "  <tbody>\n",
       "    <tr>\n",
       "      <th>0</th>\n",
       "      <td>Alice</td>\n",
       "      <td>25</td>\n",
       "    </tr>\n",
       "    <tr>\n",
       "      <th>1</th>\n",
       "      <td>Bob</td>\n",
       "      <td>30</td>\n",
       "    </tr>\n",
       "    <tr>\n",
       "      <th>2</th>\n",
       "      <td>Charlie</td>\n",
       "      <td>35</td>\n",
       "    </tr>\n",
       "  </tbody>\n",
       "</table>\n",
       "</div>"
      ],
      "text/plain": [
       "      Name  Age\n",
       "0    Alice   25\n",
       "1      Bob   30\n",
       "2  Charlie   35"
      ]
     },
     "execution_count": 16,
     "metadata": {},
     "output_type": "execute_result"
    }
   ],
   "source": [
    "df_loaded = pd.read_pickle('data files\\\\pickle\\\\people.pkl')\n",
    "df_loaded"
   ]
  },
  {
   "cell_type": "markdown",
   "id": "4060703f",
   "metadata": {},
   "source": [
    "### 🗜️ Compressed Pickle Example"
   ]
  },
  {
   "cell_type": "code",
   "execution_count": 17,
   "id": "9b2cde98",
   "metadata": {},
   "outputs": [],
   "source": [
    "# Save using gzip compression\n",
    "df.to_pickle('data files\\\\pickle\\\\people.pkl.gz', compression='gzip')"
   ]
  },
  {
   "cell_type": "code",
   "execution_count": 18,
   "id": "74358cc0",
   "metadata": {},
   "outputs": [
    {
     "data": {
      "text/html": [
       "<div>\n",
       "<style scoped>\n",
       "    .dataframe tbody tr th:only-of-type {\n",
       "        vertical-align: middle;\n",
       "    }\n",
       "\n",
       "    .dataframe tbody tr th {\n",
       "        vertical-align: top;\n",
       "    }\n",
       "\n",
       "    .dataframe thead th {\n",
       "        text-align: right;\n",
       "    }\n",
       "</style>\n",
       "<table border=\"1\" class=\"dataframe\">\n",
       "  <thead>\n",
       "    <tr style=\"text-align: right;\">\n",
       "      <th></th>\n",
       "      <th>Name</th>\n",
       "      <th>Age</th>\n",
       "    </tr>\n",
       "  </thead>\n",
       "  <tbody>\n",
       "    <tr>\n",
       "      <th>0</th>\n",
       "      <td>Alice</td>\n",
       "      <td>25</td>\n",
       "    </tr>\n",
       "    <tr>\n",
       "      <th>1</th>\n",
       "      <td>Bob</td>\n",
       "      <td>30</td>\n",
       "    </tr>\n",
       "    <tr>\n",
       "      <th>2</th>\n",
       "      <td>Charlie</td>\n",
       "      <td>35</td>\n",
       "    </tr>\n",
       "  </tbody>\n",
       "</table>\n",
       "</div>"
      ],
      "text/plain": [
       "      Name  Age\n",
       "0    Alice   25\n",
       "1      Bob   30\n",
       "2  Charlie   35"
      ]
     },
     "execution_count": 18,
     "metadata": {},
     "output_type": "execute_result"
    }
   ],
   "source": [
    "# Load from compressed pickle\n",
    "df_loaded = pd.read_pickle('data files\\\\pickle\\\\people.pkl.gz')\n",
    "df_loaded"
   ]
  },
  {
   "cell_type": "markdown",
   "id": "1d594b8d",
   "metadata": {},
   "source": []
  },
  {
   "cell_type": "markdown",
   "id": "159a6552",
   "metadata": {},
   "source": [
    "## 4️⃣ Common Pitfalls\n",
    "\n",
    "| Pitfall                     | Explanation & Fix                                                                                    |\n",
    "| --------------------------- | ---------------------------------------------------------------------------------------------------- |\n",
    "| ❌ **Not human-readable**    | Binary format can't be inspected manually — use only for code-based data exchange.                   |\n",
    "| ❌ **Version compatibility** | Pickles created in newer Python or pandas versions may **not work** in older versions.               |\n",
    "| ❌ **Security risks**        | Unpickling untrusted files is dangerous — can **execute malicious code**. Always trust the source.   |\n",
    "| ❌ **Not interoperable**     | Not suitable for sharing with R, Java, or web apps — use formats like CSV, JSON, or Parquet instead. |\n",
    "| ❌ **Harder to debug**       | If something breaks, it’s harder to debug binary data than text-based formats.                       |\n"
   ]
  },
  {
   "cell_type": "markdown",
   "id": "77f6b69e",
   "metadata": {},
   "source": [
    "## 5️⃣ Real-World Usage\n",
    "\n",
    "### 🚀 Fast Data Caching\n",
    "\n",
    "* Save **intermediate processing results** in memory for quick reuse, instead of recomputing expensive operations every time.\n",
    "\n",
    "### 🧪 Machine Learning Pipelines\n",
    "\n",
    "* Store **preprocessed features**, **model input**, or **final datasets** for experimentation and tuning.\n",
    "\n",
    "### 🧑‍💻 Application Development\n",
    "\n",
    "* Save state of DataFrame-like settings or session data in a **desktop or backend application**.\n",
    "\n",
    "### 🔄 Repeated Analysis\n",
    "\n",
    "* Efficiently store datasets for **daily/weekly reruns** of scripts or notebooks."
   ]
  },
  {
   "cell_type": "markdown",
   "id": "2830dd90",
   "metadata": {},
   "source": [
    "## ✅ Summary Table\n",
    "\n",
    "| Task                       | Method                                   |\n",
    "| -------------------------- | ---------------------------------------- |\n",
    "| Save DataFrame as Pickle   | `df.to_pickle()`                         |\n",
    "| Load DataFrame from Pickle | `pd.read_pickle()`                       |\n",
    "| Best for                   | Speed & exact structure retention        |\n",
    "| Not suited for             | Sharing outside Python / untrusted files |\n",
    "| Optional Compression       | Yes (`gzip`, `bz2`, etc.)                |\n"
   ]
  },
  {
   "cell_type": "markdown",
   "id": "175f799b",
   "metadata": {},
   "source": [
    "<center><b>Thanks</b></center>"
   ]
  }
 ],
 "metadata": {
  "kernelspec": {
   "display_name": "venv",
   "language": "python",
   "name": "python3"
  },
  "language_info": {
   "codemirror_mode": {
    "name": "ipython",
    "version": 3
   },
   "file_extension": ".py",
   "mimetype": "text/x-python",
   "name": "python",
   "nbconvert_exporter": "python",
   "pygments_lexer": "ipython3",
   "version": "3.10.2"
  }
 },
 "nbformat": 4,
 "nbformat_minor": 5
}
