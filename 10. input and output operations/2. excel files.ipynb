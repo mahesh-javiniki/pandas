{
 "cells": [
  {
   "cell_type": "markdown",
   "id": "5ee0b456",
   "metadata": {},
   "source": [
    "# **10. Input/Output Operations**"
   ]
  },
  {
   "cell_type": "markdown",
   "id": "ff554532",
   "metadata": {},
   "source": [
    "# 📊 2. Excel Files in Pandas (Reading and Writing)"
   ]
  },
  {
   "cell_type": "code",
   "execution_count": 15,
   "id": "04c3c039",
   "metadata": {},
   "outputs": [],
   "source": [
    "import pandas as pd "
   ]
  },
  {
   "cell_type": "markdown",
   "id": "4c1dad41",
   "metadata": {},
   "source": [
    "## 1️⃣ What It Does and When to Use It\n",
    "\n",
    "### ✅ What it does:\n",
    "\n",
    "* `pd.read_excel()` → **Reads** Excel files (`.xls`, `.xlsx`) into a pandas DataFrame.\n",
    "* `df.to_excel()` → **Writes** a pandas DataFrame into an Excel file.\n",
    "\n",
    "### 📌 When to use:\n",
    "\n",
    "* When working with **corporate/business data**, which often comes in Excel format.\n",
    "* When importing/exporting reports, dashboards, financial statements, etc.\n",
    "* When handling **multi-sheet** Excel files or structured tabular data."
   ]
  },
  {
   "cell_type": "markdown",
   "id": "03df1190",
   "metadata": {},
   "source": [
    "## 2️⃣ Syntax and Key Parameters\n",
    "\n",
    "### 🔹 Reading an Excel File — `pd.read_excel()`\n",
    "\n",
    "```python\n",
    "pd.read_excel(io, sheet_name=0, header=0, index_col=None, usecols=None, dtype=None)\n",
    "```\n",
    "\n",
    "| Parameter    | Description                                   |\n",
    "| ------------ | --------------------------------------------- |\n",
    "| `io`         | File path or URL or ExcelFile object          |\n",
    "| `sheet_name` | Sheet to read (name, index, or list of names) |\n",
    "| `header`     | Row number to use as the column names         |\n",
    "| `index_col`  | Column to use as row labels                   |\n",
    "| `usecols`    | Subset of columns to read                     |\n",
    "| `dtype`      | Data types for columns                        |\n",
    "\n",
    "---\n",
    "\n",
    "### 🔹 Writing an Excel File — `df.to_excel()`\n",
    "\n",
    "```python\n",
    "df.to_excel(excel_writer, sheet_name='Sheet1', index=True, columns=None, header=True)\n",
    "```\n",
    "\n",
    "| Parameter      | Description                     |\n",
    "| -------------- | ------------------------------- |\n",
    "| `excel_writer` | File path or ExcelWriter object |\n",
    "| `sheet_name`   | Name of the sheet to write to   |\n",
    "| `index`        | Write row names (index) or not  |\n",
    "| `columns`      | Subset of columns to write      |\n",
    "| `header`       | Write column names              |\n"
   ]
  },
  {
   "cell_type": "markdown",
   "id": "1f5fe208",
   "metadata": {},
   "source": [
    "## 3️⃣ Examples of Reading/Writing"
   ]
  },
  {
   "cell_type": "markdown",
   "id": "67ce3157",
   "metadata": {},
   "source": [
    "### 📥 Reading from Excel"
   ]
  },
  {
   "cell_type": "code",
   "execution_count": 16,
   "id": "3d051087",
   "metadata": {},
   "outputs": [
    {
     "data": {
      "text/html": [
       "<div>\n",
       "<style scoped>\n",
       "    .dataframe tbody tr th:only-of-type {\n",
       "        vertical-align: middle;\n",
       "    }\n",
       "\n",
       "    .dataframe tbody tr th {\n",
       "        vertical-align: top;\n",
       "    }\n",
       "\n",
       "    .dataframe thead th {\n",
       "        text-align: right;\n",
       "    }\n",
       "</style>\n",
       "<table border=\"1\" class=\"dataframe\">\n",
       "  <thead>\n",
       "    <tr style=\"text-align: right;\">\n",
       "      <th></th>\n",
       "      <th>EmployeeID</th>\n",
       "      <th>Name</th>\n",
       "      <th>Department</th>\n",
       "      <th>Salary</th>\n",
       "      <th>JoiningDate</th>\n",
       "    </tr>\n",
       "  </thead>\n",
       "  <tbody>\n",
       "    <tr>\n",
       "      <th>0</th>\n",
       "      <td>101</td>\n",
       "      <td>Alice</td>\n",
       "      <td>HR</td>\n",
       "      <td>50000</td>\n",
       "      <td>2020-01-15</td>\n",
       "    </tr>\n",
       "    <tr>\n",
       "      <th>1</th>\n",
       "      <td>102</td>\n",
       "      <td>Bob</td>\n",
       "      <td>Engineering</td>\n",
       "      <td>75000</td>\n",
       "      <td>2019-07-23</td>\n",
       "    </tr>\n",
       "    <tr>\n",
       "      <th>2</th>\n",
       "      <td>103</td>\n",
       "      <td>Charlie</td>\n",
       "      <td>Sales</td>\n",
       "      <td>62000</td>\n",
       "      <td>2021-03-12</td>\n",
       "    </tr>\n",
       "    <tr>\n",
       "      <th>3</th>\n",
       "      <td>104</td>\n",
       "      <td>David</td>\n",
       "      <td>Marketing</td>\n",
       "      <td>58000</td>\n",
       "      <td>2018-11-30</td>\n",
       "    </tr>\n",
       "  </tbody>\n",
       "</table>\n",
       "</div>"
      ],
      "text/plain": [
       "   EmployeeID     Name   Department  Salary JoiningDate\n",
       "0         101    Alice           HR   50000  2020-01-15\n",
       "1         102      Bob  Engineering   75000  2019-07-23\n",
       "2         103  Charlie        Sales   62000  2021-03-12\n",
       "3         104    David    Marketing   58000  2018-11-30"
      ]
     },
     "execution_count": 16,
     "metadata": {},
     "output_type": "execute_result"
    }
   ],
   "source": [
    "# Read default (first) sheet\n",
    "df = pd.read_excel('data files/excel/employees.xlsx')\n",
    "\n",
    "df "
   ]
  },
  {
   "cell_type": "code",
   "execution_count": 17,
   "id": "ad05495c",
   "metadata": {},
   "outputs": [
    {
     "data": {
      "text/html": [
       "<div>\n",
       "<style scoped>\n",
       "    .dataframe tbody tr th:only-of-type {\n",
       "        vertical-align: middle;\n",
       "    }\n",
       "\n",
       "    .dataframe tbody tr th {\n",
       "        vertical-align: top;\n",
       "    }\n",
       "\n",
       "    .dataframe thead th {\n",
       "        text-align: right;\n",
       "    }\n",
       "</style>\n",
       "<table border=\"1\" class=\"dataframe\">\n",
       "  <thead>\n",
       "    <tr style=\"text-align: right;\">\n",
       "      <th></th>\n",
       "      <th>EmployeeID</th>\n",
       "      <th>Name</th>\n",
       "      <th>Department</th>\n",
       "      <th>Salary</th>\n",
       "      <th>JoiningDate</th>\n",
       "    </tr>\n",
       "  </thead>\n",
       "  <tbody>\n",
       "    <tr>\n",
       "      <th>0</th>\n",
       "      <td>101</td>\n",
       "      <td>Alice</td>\n",
       "      <td>HR</td>\n",
       "      <td>50000</td>\n",
       "      <td>2020-01-15</td>\n",
       "    </tr>\n",
       "    <tr>\n",
       "      <th>1</th>\n",
       "      <td>102</td>\n",
       "      <td>Bob</td>\n",
       "      <td>Engineering</td>\n",
       "      <td>75000</td>\n",
       "      <td>2019-07-23</td>\n",
       "    </tr>\n",
       "    <tr>\n",
       "      <th>2</th>\n",
       "      <td>103</td>\n",
       "      <td>Charlie</td>\n",
       "      <td>Sales</td>\n",
       "      <td>62000</td>\n",
       "      <td>2021-03-12</td>\n",
       "    </tr>\n",
       "    <tr>\n",
       "      <th>3</th>\n",
       "      <td>104</td>\n",
       "      <td>David</td>\n",
       "      <td>Marketing</td>\n",
       "      <td>58000</td>\n",
       "      <td>2018-11-30</td>\n",
       "    </tr>\n",
       "  </tbody>\n",
       "</table>\n",
       "</div>"
      ],
      "text/plain": [
       "   EmployeeID     Name   Department  Salary JoiningDate\n",
       "0         101    Alice           HR   50000  2020-01-15\n",
       "1         102      Bob  Engineering   75000  2019-07-23\n",
       "2         103  Charlie        Sales   62000  2021-03-12\n",
       "3         104    David    Marketing   58000  2018-11-30"
      ]
     },
     "execution_count": 17,
     "metadata": {},
     "output_type": "execute_result"
    }
   ],
   "source": [
    "# Read specific sheet by name\n",
    "df = pd.read_excel('data files/excel/employees.xlsx', sheet_name='Employees')\n",
    "\n",
    "df"
   ]
  },
  {
   "cell_type": "code",
   "execution_count": 18,
   "id": "d503df7c",
   "metadata": {},
   "outputs": [
    {
     "data": {
      "text/html": [
       "<div>\n",
       "<style scoped>\n",
       "    .dataframe tbody tr th:only-of-type {\n",
       "        vertical-align: middle;\n",
       "    }\n",
       "\n",
       "    .dataframe tbody tr th {\n",
       "        vertical-align: top;\n",
       "    }\n",
       "\n",
       "    .dataframe thead th {\n",
       "        text-align: right;\n",
       "    }\n",
       "</style>\n",
       "<table border=\"1\" class=\"dataframe\">\n",
       "  <thead>\n",
       "    <tr style=\"text-align: right;\">\n",
       "      <th></th>\n",
       "      <th>Name</th>\n",
       "      <th>Salary</th>\n",
       "    </tr>\n",
       "  </thead>\n",
       "  <tbody>\n",
       "    <tr>\n",
       "      <th>0</th>\n",
       "      <td>Alice</td>\n",
       "      <td>50000</td>\n",
       "    </tr>\n",
       "    <tr>\n",
       "      <th>1</th>\n",
       "      <td>Bob</td>\n",
       "      <td>75000</td>\n",
       "    </tr>\n",
       "    <tr>\n",
       "      <th>2</th>\n",
       "      <td>Charlie</td>\n",
       "      <td>62000</td>\n",
       "    </tr>\n",
       "    <tr>\n",
       "      <th>3</th>\n",
       "      <td>David</td>\n",
       "      <td>58000</td>\n",
       "    </tr>\n",
       "  </tbody>\n",
       "</table>\n",
       "</div>"
      ],
      "text/plain": [
       "      Name  Salary\n",
       "0    Alice   50000\n",
       "1      Bob   75000\n",
       "2  Charlie   62000\n",
       "3    David   58000"
      ]
     },
     "execution_count": 18,
     "metadata": {},
     "output_type": "execute_result"
    }
   ],
   "source": [
    "# Read only selected columns\n",
    "df = pd.read_excel('data files/excel/employees.xlsx', sheet_name='Employees',\n",
    "              usecols=['Name', 'Salary'])\n",
    "\n",
    "df "
   ]
  },
  {
   "cell_type": "code",
   "execution_count": 19,
   "id": "67d7f2fc",
   "metadata": {},
   "outputs": [
    {
     "data": {
      "text/html": [
       "<div>\n",
       "<style scoped>\n",
       "    .dataframe tbody tr th:only-of-type {\n",
       "        vertical-align: middle;\n",
       "    }\n",
       "\n",
       "    .dataframe tbody tr th {\n",
       "        vertical-align: top;\n",
       "    }\n",
       "\n",
       "    .dataframe thead th {\n",
       "        text-align: right;\n",
       "    }\n",
       "</style>\n",
       "<table border=\"1\" class=\"dataframe\">\n",
       "  <thead>\n",
       "    <tr style=\"text-align: right;\">\n",
       "      <th></th>\n",
       "      <th>Name</th>\n",
       "      <th>Salary</th>\n",
       "    </tr>\n",
       "    <tr>\n",
       "      <th>EmployeeID</th>\n",
       "      <th></th>\n",
       "      <th></th>\n",
       "    </tr>\n",
       "  </thead>\n",
       "  <tbody>\n",
       "    <tr>\n",
       "      <th>101</th>\n",
       "      <td>Alice</td>\n",
       "      <td>50000</td>\n",
       "    </tr>\n",
       "    <tr>\n",
       "      <th>102</th>\n",
       "      <td>Bob</td>\n",
       "      <td>75000</td>\n",
       "    </tr>\n",
       "    <tr>\n",
       "      <th>103</th>\n",
       "      <td>Charlie</td>\n",
       "      <td>62000</td>\n",
       "    </tr>\n",
       "    <tr>\n",
       "      <th>104</th>\n",
       "      <td>David</td>\n",
       "      <td>58000</td>\n",
       "    </tr>\n",
       "  </tbody>\n",
       "</table>\n",
       "</div>"
      ],
      "text/plain": [
       "               Name  Salary\n",
       "EmployeeID                 \n",
       "101           Alice   50000\n",
       "102             Bob   75000\n",
       "103         Charlie   62000\n",
       "104           David   58000"
      ]
     },
     "execution_count": 19,
     "metadata": {},
     "output_type": "execute_result"
    }
   ],
   "source": [
    "# Use one column as the index\n",
    "\n",
    "df = pd.read_excel(\n",
    "    'data files/excel/employees.xlsx',\n",
    "    sheet_name='Employees',\n",
    "    usecols=['EmployeeID', 'Name', 'Salary'],\n",
    "    index_col='EmployeeID'\n",
    ")\n",
    "\n",
    "df "
   ]
  },
  {
   "cell_type": "code",
   "execution_count": 20,
   "id": "080887d8",
   "metadata": {},
   "outputs": [
    {
     "data": {
      "text/html": [
       "<div>\n",
       "<style scoped>\n",
       "    .dataframe tbody tr th:only-of-type {\n",
       "        vertical-align: middle;\n",
       "    }\n",
       "\n",
       "    .dataframe tbody tr th {\n",
       "        vertical-align: top;\n",
       "    }\n",
       "\n",
       "    .dataframe thead th {\n",
       "        text-align: right;\n",
       "    }\n",
       "</style>\n",
       "<table border=\"1\" class=\"dataframe\">\n",
       "  <thead>\n",
       "    <tr style=\"text-align: right;\">\n",
       "      <th></th>\n",
       "      <th>EmployeeID</th>\n",
       "      <th>Name</th>\n",
       "      <th>Department</th>\n",
       "      <th>Salary</th>\n",
       "      <th>JoiningDate</th>\n",
       "    </tr>\n",
       "  </thead>\n",
       "  <tbody>\n",
       "    <tr>\n",
       "      <th>0</th>\n",
       "      <td>101</td>\n",
       "      <td>Alice</td>\n",
       "      <td>HR</td>\n",
       "      <td>50000</td>\n",
       "      <td>2020-01-15</td>\n",
       "    </tr>\n",
       "    <tr>\n",
       "      <th>1</th>\n",
       "      <td>102</td>\n",
       "      <td>Bob</td>\n",
       "      <td>Engineering</td>\n",
       "      <td>75000</td>\n",
       "      <td>2019-07-23</td>\n",
       "    </tr>\n",
       "    <tr>\n",
       "      <th>2</th>\n",
       "      <td>103</td>\n",
       "      <td>Charlie</td>\n",
       "      <td>Sales</td>\n",
       "      <td>62000</td>\n",
       "      <td>2021-03-12</td>\n",
       "    </tr>\n",
       "    <tr>\n",
       "      <th>3</th>\n",
       "      <td>104</td>\n",
       "      <td>David</td>\n",
       "      <td>Marketing</td>\n",
       "      <td>58000</td>\n",
       "      <td>2018-11-30</td>\n",
       "    </tr>\n",
       "  </tbody>\n",
       "</table>\n",
       "</div>"
      ],
      "text/plain": [
       "   EmployeeID     Name   Department  Salary JoiningDate\n",
       "0         101    Alice           HR   50000  2020-01-15\n",
       "1         102      Bob  Engineering   75000  2019-07-23\n",
       "2         103  Charlie        Sales   62000  2021-03-12\n",
       "3         104    David    Marketing   58000  2018-11-30"
      ]
     },
     "execution_count": 20,
     "metadata": {},
     "output_type": "execute_result"
    }
   ],
   "source": [
    "df = pd.read_excel('data files/excel/employees.xlsx')\n",
    "\n",
    "df"
   ]
  },
  {
   "cell_type": "markdown",
   "id": "3f2dd3b2",
   "metadata": {},
   "source": [
    "### 📤 Writing to Excel"
   ]
  },
  {
   "cell_type": "code",
   "execution_count": 21,
   "id": "732f7053",
   "metadata": {},
   "outputs": [],
   "source": [
    "# Save to a new Excel file\n",
    "\n",
    "df.to_excel('data files/excel/emploeyees processed.xlsx', index=False)"
   ]
  },
  {
   "cell_type": "code",
   "execution_count": 22,
   "id": "150382e5",
   "metadata": {},
   "outputs": [],
   "source": [
    "# Save to a specific sheet name\n",
    "\n",
    "df.to_excel(\n",
    "    'data files/excel/emploeyees processed sheet.xlsx',\n",
    "    index=False,\n",
    "    sheet_name='Cleaned Data'\n",
    ")"
   ]
  },
  {
   "cell_type": "code",
   "execution_count": 23,
   "id": "b580d8ca",
   "metadata": {},
   "outputs": [],
   "source": [
    "# Save selected columns only\n",
    "\n",
    "df.to_excel(\n",
    "    'data files/excel/emploeyees summary.xlsx',\n",
    "    index=False,\n",
    "    columns=['Name', 'Salary']\n",
    ")"
   ]
  },
  {
   "cell_type": "markdown",
   "id": "2425ccd6",
   "metadata": {},
   "source": [
    "## 4️⃣ Common Pitfalls\n",
    "\n",
    "| Pitfall                   | Description & Solution                                                           |\n",
    "| ------------------------- | -------------------------------------------------------------------------------- |\n",
    "| **Missing dependency**    | You need `openpyxl` or `xlrd` installed. Use `pip install openpyxl` for `.xlsx`. |\n",
    "| **Large files**           | Excel read/write is slower than CSV. For big data, prefer CSV or Parquet.        |\n",
    "| **Multi-sheet confusion** | Always specify `sheet_name`, especially with multi-sheet files.                  |\n",
    "| **Date columns**          | Excel stores dates in a serial format. Use `parse_dates` or convert later.       |\n",
    "| **Index column added**    | Default `to_excel()` adds row numbers unless `index=False` is used.              |\n"
   ]
  },
  {
   "cell_type": "markdown",
   "id": "07f81c3c",
   "metadata": {},
   "source": [
    "## 5️⃣ Real-World Usage\n",
    "\n",
    "### 🧮 Financial Reporting\n",
    "\n",
    "* Export DataFrame summaries like expenses, profits, etc. to Excel.\n",
    "* Business analysts use Excel exports for dashboard tools like Power BI.\n",
    "\n",
    "### 📊 Multi-Sheet Workbooks\n",
    "\n",
    "* Read from multiple sheets (e.g., monthly reports).\n",
    "* Use `sheet_name=[\"Jan\", \"Feb\"]` to load multiple sheets at once.\n",
    "\n",
    "### 🧪 Data Audits\n",
    "\n",
    "* Analysts or QA teams use Excel exports to verify data corrections or pipeline changes."
   ]
  },
  {
   "cell_type": "markdown",
   "id": "8cca4d2f",
   "metadata": {},
   "source": [
    "## ✅ Summary Table\n",
    "\n",
    "| Task               | Method            |\n",
    "| ------------------ | ----------------- |\n",
    "| Read Excel         | `pd.read_excel()` |\n",
    "| Write Excel        | `df.to_excel()`   |\n",
    "| Specify sheet      | `sheet_name=...`  |\n",
    "| Select columns     | `usecols=...`     |\n",
    "| Save without index | `index=False`     |\n"
   ]
  },
  {
   "cell_type": "markdown",
   "id": "c766cdd1",
   "metadata": {},
   "source": [
    "<center><b>Thanks</b></center>"
   ]
  }
 ],
 "metadata": {
  "kernelspec": {
   "display_name": "venv",
   "language": "python",
   "name": "python3"
  },
  "language_info": {
   "codemirror_mode": {
    "name": "ipython",
    "version": 3
   },
   "file_extension": ".py",
   "mimetype": "text/x-python",
   "name": "python",
   "nbconvert_exporter": "python",
   "pygments_lexer": "ipython3",
   "version": "3.10.2"
  }
 },
 "nbformat": 4,
 "nbformat_minor": 5
}
