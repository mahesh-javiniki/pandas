{
 "cells": [
  {
   "cell_type": "markdown",
   "id": "bf89bdd1",
   "metadata": {},
   "source": [
    "# **10. Input/Output Operations**"
   ]
  },
  {
   "cell_type": "markdown",
   "id": "2cf702cd",
   "metadata": {},
   "source": [
    "# 🗃️ 4. SQL Databases in Pandas (Reading and Writing)"
   ]
  },
  {
   "cell_type": "code",
   "execution_count": 18,
   "id": "5db0f22a",
   "metadata": {},
   "outputs": [],
   "source": [
    "import pandas as pd \n",
    "import sqlite3"
   ]
  },
  {
   "cell_type": "markdown",
   "id": "1ccd282b",
   "metadata": {},
   "source": [
    "## 1️⃣ What It Does and When to Use It\n",
    "\n",
    "### ✅ What it does:\n",
    "\n",
    "Pandas provides built-in functions to **read from** and **write to SQL databases** using:\n",
    "\n",
    "* `pd.read_sql()` or `pd.read_sql_query()` → to read SQL data into a DataFrame.\n",
    "* `df.to_sql()` → to write a DataFrame to a SQL table.\n",
    "\n",
    "### 📌 When to use:\n",
    "\n",
    "* When working with **structured data** stored in relational databases (like SQLite, MySQL, PostgreSQL).\n",
    "* To integrate pandas with **data warehouses**, **ETL pipelines**, or **analytical dashboards**.\n",
    "* For persisting processed data between sessions."
   ]
  },
  {
   "cell_type": "markdown",
   "id": "bdd6cba9",
   "metadata": {},
   "source": [
    "## 2️⃣ Syntax and Key Parameters\n",
    "\n",
    "### 🔹 Reading from SQL — `pd.read_sql()`\n",
    "\n",
    "```python\n",
    "pd.read_sql(sql, con, index_col=None, params=None)\n",
    "```\n",
    "\n",
    "| Parameter   | Description                     |\n",
    "| ----------- | ------------------------------- |\n",
    "| `sql`       | SQL query string or table name  |\n",
    "| `con`       | Database connection object      |\n",
    "| `index_col` | Column to use as row index      |\n",
    "| `params`    | Parameters to pass to SQL query |\n",
    "\n",
    "---\n",
    "\n",
    "### 🔹 Writing to SQL — `df.to_sql()`\n",
    "\n",
    "```python\n",
    "df.to_sql(name, con, if_exists='fail', index=True, dtype=None)\n",
    "```\n",
    "\n",
    "| Parameter   | Description                                    |\n",
    "| ----------- | ---------------------------------------------- |\n",
    "| `name`      | Table name                                     |\n",
    "| `con`       | Database connection object                     |\n",
    "| `if_exists` | `'fail'` (default), `'replace'`, or `'append'` |\n",
    "| `index`     | Whether to write DataFrame index as a column   |\n",
    "| `dtype`     | Optional: SQLAlchemy data types to use         |\n"
   ]
  },
  {
   "cell_type": "markdown",
   "id": "993bda24",
   "metadata": {},
   "source": [
    "## 3️⃣ Examples of Reading/Writing\n",
    "\n",
    "### 🛠️ Setup\n",
    "\n",
    "You can use the built-in **SQLite** database for quick testing (no server required)."
   ]
  },
  {
   "cell_type": "code",
   "execution_count": 19,
   "id": "dfd0b59d",
   "metadata": {},
   "outputs": [
    {
     "data": {
      "text/html": [
       "<div>\n",
       "<style scoped>\n",
       "    .dataframe tbody tr th:only-of-type {\n",
       "        vertical-align: middle;\n",
       "    }\n",
       "\n",
       "    .dataframe tbody tr th {\n",
       "        vertical-align: top;\n",
       "    }\n",
       "\n",
       "    .dataframe thead th {\n",
       "        text-align: right;\n",
       "    }\n",
       "</style>\n",
       "<table border=\"1\" class=\"dataframe\">\n",
       "  <thead>\n",
       "    <tr style=\"text-align: right;\">\n",
       "      <th></th>\n",
       "      <th>ID</th>\n",
       "      <th>Name</th>\n",
       "      <th>Salary</th>\n",
       "    </tr>\n",
       "  </thead>\n",
       "  <tbody>\n",
       "    <tr>\n",
       "      <th>0</th>\n",
       "      <td>1</td>\n",
       "      <td>Alice</td>\n",
       "      <td>50000</td>\n",
       "    </tr>\n",
       "    <tr>\n",
       "      <th>1</th>\n",
       "      <td>2</td>\n",
       "      <td>Bob</td>\n",
       "      <td>60000</td>\n",
       "    </tr>\n",
       "  </tbody>\n",
       "</table>\n",
       "</div>"
      ],
      "text/plain": [
       "   ID   Name  Salary\n",
       "0   1  Alice   50000\n",
       "1   2    Bob   60000"
      ]
     },
     "execution_count": 19,
     "metadata": {},
     "output_type": "execute_result"
    }
   ],
   "source": [
    "df = pd.DataFrame({\n",
    "    \"ID\": [1, 2],\n",
    "    \"Name\": [\"Alice\", \"Bob\"],\n",
    "    \"Salary\": [50000, 60000]\n",
    "})\n",
    "\n",
    "df"
   ]
  },
  {
   "cell_type": "code",
   "execution_count": 20,
   "id": "35c066db",
   "metadata": {},
   "outputs": [
    {
     "data": {
      "text/plain": [
       "<sqlite3.Connection at 0x1a80534aa40>"
      ]
     },
     "execution_count": 20,
     "metadata": {},
     "output_type": "execute_result"
    }
   ],
   "source": [
    "# Create connection to SQLite file\n",
    "conn = sqlite3.connect('data files/sql/company.db')\n",
    "\n",
    "conn"
   ]
  },
  {
   "cell_type": "code",
   "execution_count": 21,
   "id": "7b2d0289",
   "metadata": {},
   "outputs": [
    {
     "data": {
      "text/plain": [
       "2"
      ]
     },
     "execution_count": 21,
     "metadata": {},
     "output_type": "execute_result"
    }
   ],
   "source": [
    "# Write to database\n",
    "df.to_sql('employees', conn, if_exists='replace', index=False)"
   ]
  },
  {
   "cell_type": "code",
   "execution_count": 22,
   "id": "e6296102",
   "metadata": {},
   "outputs": [
    {
     "data": {
      "text/html": [
       "<div>\n",
       "<style scoped>\n",
       "    .dataframe tbody tr th:only-of-type {\n",
       "        vertical-align: middle;\n",
       "    }\n",
       "\n",
       "    .dataframe tbody tr th {\n",
       "        vertical-align: top;\n",
       "    }\n",
       "\n",
       "    .dataframe thead th {\n",
       "        text-align: right;\n",
       "    }\n",
       "</style>\n",
       "<table border=\"1\" class=\"dataframe\">\n",
       "  <thead>\n",
       "    <tr style=\"text-align: right;\">\n",
       "      <th></th>\n",
       "      <th>ID</th>\n",
       "      <th>Name</th>\n",
       "      <th>Salary</th>\n",
       "    </tr>\n",
       "  </thead>\n",
       "  <tbody>\n",
       "    <tr>\n",
       "      <th>0</th>\n",
       "      <td>1</td>\n",
       "      <td>Alice</td>\n",
       "      <td>50000</td>\n",
       "    </tr>\n",
       "    <tr>\n",
       "      <th>1</th>\n",
       "      <td>2</td>\n",
       "      <td>Bob</td>\n",
       "      <td>60000</td>\n",
       "    </tr>\n",
       "  </tbody>\n",
       "</table>\n",
       "</div>"
      ],
      "text/plain": [
       "   ID   Name  Salary\n",
       "0   1  Alice   50000\n",
       "1   2    Bob   60000"
      ]
     },
     "metadata": {},
     "output_type": "display_data"
    }
   ],
   "source": [
    "result_df = pd.read_sql(\"SELECT * FROM employees\", conn)\n",
    "\n",
    "display(result_df)\n",
    "\n",
    "conn.close()\n"
   ]
  },
  {
   "cell_type": "markdown",
   "id": "b2ff7bbb",
   "metadata": {},
   "source": [
    "## 4️⃣ Common Pitfalls\n",
    "\n",
    "| Pitfall                        | Description & Solution                                                              |\n",
    "| ------------------------------ | ----------------------------------------------------------------------------------- |\n",
    "| **Missing SQL library**        | You must install `sqlite3`, `sqlalchemy`, or database drivers like `psycopg2`.      |\n",
    "| **Overwriting tables**         | `if_exists='replace'` deletes and recreates the table. Use `'append'` with caution. |\n",
    "| **Index handling**             | Avoid writing index column unless needed (`index=False`).                           |\n",
    "| **Data type mismatch**         | SQL types (e.g., `INTEGER`, `TEXT`) may conflict — use `dtype` if needed.           |\n",
    "| **Security risk with raw SQL** | Always use parameterized queries to avoid SQL injection.                            |\n"
   ]
  },
  {
   "cell_type": "markdown",
   "id": "04b7349f",
   "metadata": {},
   "source": [
    "## 5️⃣ Real-World Usage\n",
    "\n",
    "### 🧪 Data Pipelines\n",
    "\n",
    "* Pull raw data from SQL databases using `read_sql()` for cleaning and modeling in pandas.\n",
    "\n",
    "### 📊 Reporting Systems\n",
    "\n",
    "* Export final analytics results from pandas to a SQL table for use in BI tools.\n",
    "\n",
    "### 📦 Application Integration\n",
    "\n",
    "* Apps use SQL backends; pandas can serve as a bridge for batch analytics or scheduled jobs."
   ]
  },
  {
   "cell_type": "markdown",
   "id": "083a0e78",
   "metadata": {},
   "source": [
    "## ✅ Summary Table\n",
    "\n",
    "| Task            | Method                             |\n",
    "| --------------- | ---------------------------------- |\n",
    "| Read SQL table  | `pd.read_sql()`                    |\n",
    "| Write SQL table | `df.to_sql()`                      |\n",
    "| Replace/append  | `if_exists='...'`                  |\n",
    "| Set DB index    | `index=False` or `index_col='...'` |\n"
   ]
  },
  {
   "cell_type": "markdown",
   "id": "9bdf61f6",
   "metadata": {},
   "source": [
    "<center><b>Thanks</b></center>"
   ]
  }
 ],
 "metadata": {
  "kernelspec": {
   "display_name": "venv",
   "language": "python",
   "name": "python3"
  },
  "language_info": {
   "codemirror_mode": {
    "name": "ipython",
    "version": 3
   },
   "file_extension": ".py",
   "mimetype": "text/x-python",
   "name": "python",
   "nbconvert_exporter": "python",
   "pygments_lexer": "ipython3",
   "version": "3.10.2"
  }
 },
 "nbformat": 4,
 "nbformat_minor": 5
}
