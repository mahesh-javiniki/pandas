{
 "cells": [
  {
   "cell_type": "markdown",
   "id": "c9dd7c70",
   "metadata": {},
   "source": [
    "# **Data Transformation**"
   ]
  },
  {
   "cell_type": "markdown",
   "id": "1a73468e",
   "metadata": {},
   "source": [
    "## **11. Window Functions (Basic)**"
   ]
  },
  {
   "cell_type": "code",
   "execution_count": 1,
   "id": "2dc19a0f",
   "metadata": {},
   "outputs": [],
   "source": [
    "import numpy as np \n",
    "import pandas as pd "
   ]
  },
  {
   "cell_type": "markdown",
   "id": "a95f2ca1",
   "metadata": {},
   "source": [
    "### 1. **What It Does and When to Use It**\n",
    "\n",
    "#### ✅ **What it does:**\n",
    "\n",
    "Window functions in pandas allow you to perform **operations over a sliding window of rows**, often with respect to a specific **grouping** or **order**. They **retain the original row structure** but calculate values based on the surrounding rows.\n",
    "\n",
    "#### ✅ **When to use:**\n",
    "\n",
    "* When you need **running totals**, **moving averages**, or **ranking**.\n",
    "* When comparing values **relative to neighbors** (previous or next rows).\n",
    "* When analyzing **time-series**, **grouped data**, or **trends** over a span.\n",
    "* When aggregation is needed **without collapsing** the rows like `groupby().agg()` does.\n"
   ]
  },
  {
   "cell_type": "markdown",
   "id": "ccdf4545",
   "metadata": {},
   "source": [
    "### 2. **Syntax and Core Parameters**\n",
    "\n",
    "#### ✅ **Key methods**:\n",
    "\n",
    "```python\n",
    "df.rolling(window, min_periods, center, win_type).agg()\n",
    "df.expanding(min_periods).agg()\n",
    "df.ewm(span).agg()\n",
    "```\n",
    "\n",
    "| Function       | Description                              |\n",
    "| -------------- | ---------------------------------------- |\n",
    "| `.rolling()`   | Applies operations over a moving window  |\n",
    "| `.expanding()` | Applies operations over expanding window |\n",
    "| `.ewm()`       | Exponentially weighted calculations      |\n",
    "\n",
    "#### ✅ Common Parameters:\n",
    "\n",
    "| Parameter     | Purpose                                                 |\n",
    "| ------------- | ------------------------------------------------------- |\n",
    "| `window`      | Number of rows in the window (e.g., `3`)                |\n",
    "| `min_periods` | Minimum non-null observations required                  |\n",
    "| `center`      | Whether the label should be at the center of the window |\n",
    "| `win_type`    | Type of window function: e.g., `'boxcar'`, `'triang'`   |\n"
   ]
  },
  {
   "cell_type": "markdown",
   "id": "57355d0f",
   "metadata": {},
   "source": [
    "### 3. **Different Methods and Techniques**\n",
    "\n",
    "| Method         | Description                         | Common Aggregations                               |\n",
    "| -------------- | ----------------------------------- | ------------------------------------------------- |\n",
    "| `.rolling()`   | Fixed-size sliding window           | `.mean()`, `.sum()`, `.std()`, `.min()`, `.max()` |\n",
    "| `.expanding()` | Expands window from the start row   | `.mean()`, `.sum()`                               |\n",
    "| `.ewm()`       | Exponential weighted moving average | `.mean()`, `.var()`                               |\n"
   ]
  },
  {
   "cell_type": "markdown",
   "id": "3768ff12",
   "metadata": {},
   "source": [
    "### 4. **Common Pitfalls and Best Practices**\n",
    "\n",
    "| Pitfall                                                                | Best Practice                                                            |\n",
    "| ---------------------------------------------------------------------- | ------------------------------------------------------------------------ |\n",
    "| NaNs appear at beginning (due to insufficient window size)             | Use `min_periods=1` if partial data is acceptable                        |\n",
    "| Incorrect sorting causes invalid results                               | Always sort time-based data before using window functions                |\n",
    "| Using `.rolling()` on non-numeric columns                              | Ensure window is applied to numeric data only                            |\n",
    "| Expecting `.groupby().rolling()` to behave like `.rolling().groupby()` | These are different — test both or use `transform()` for grouped windows |\n"
   ]
  },
  {
   "cell_type": "markdown",
   "id": "3cdd51d2",
   "metadata": {},
   "source": [
    "### 5. **Examples on Real/Pseudo Data**"
   ]
  },
  {
   "cell_type": "markdown",
   "id": "449b0ddf",
   "metadata": {},
   "source": [
    "#### 📌 Example 1: Rolling Mean (Moving Average)"
   ]
  },
  {
   "cell_type": "code",
   "execution_count": 2,
   "id": "e124e4b7",
   "metadata": {},
   "outputs": [
    {
     "data": {
      "text/html": [
       "<div>\n",
       "<style scoped>\n",
       "    .dataframe tbody tr th:only-of-type {\n",
       "        vertical-align: middle;\n",
       "    }\n",
       "\n",
       "    .dataframe tbody tr th {\n",
       "        vertical-align: top;\n",
       "    }\n",
       "\n",
       "    .dataframe thead th {\n",
       "        text-align: right;\n",
       "    }\n",
       "</style>\n",
       "<table border=\"1\" class=\"dataframe\">\n",
       "  <thead>\n",
       "    <tr style=\"text-align: right;\">\n",
       "      <th></th>\n",
       "      <th>day</th>\n",
       "      <th>sales</th>\n",
       "    </tr>\n",
       "  </thead>\n",
       "  <tbody>\n",
       "    <tr>\n",
       "      <th>0</th>\n",
       "      <td>2023-01-01</td>\n",
       "      <td>100</td>\n",
       "    </tr>\n",
       "    <tr>\n",
       "      <th>1</th>\n",
       "      <td>2023-01-02</td>\n",
       "      <td>120</td>\n",
       "    </tr>\n",
       "    <tr>\n",
       "      <th>2</th>\n",
       "      <td>2023-01-03</td>\n",
       "      <td>130</td>\n",
       "    </tr>\n",
       "    <tr>\n",
       "      <th>3</th>\n",
       "      <td>2023-01-04</td>\n",
       "      <td>150</td>\n",
       "    </tr>\n",
       "    <tr>\n",
       "      <th>4</th>\n",
       "      <td>2023-01-05</td>\n",
       "      <td>170</td>\n",
       "    </tr>\n",
       "    <tr>\n",
       "      <th>5</th>\n",
       "      <td>2023-01-06</td>\n",
       "      <td>180</td>\n",
       "    </tr>\n",
       "  </tbody>\n",
       "</table>\n",
       "</div>"
      ],
      "text/plain": [
       "         day  sales\n",
       "0 2023-01-01    100\n",
       "1 2023-01-02    120\n",
       "2 2023-01-03    130\n",
       "3 2023-01-04    150\n",
       "4 2023-01-05    170\n",
       "5 2023-01-06    180"
      ]
     },
     "execution_count": 2,
     "metadata": {},
     "output_type": "execute_result"
    }
   ],
   "source": [
    "df = pd.DataFrame({\n",
    "    'day': pd.date_range('2023-01-01', periods=6),\n",
    "    'sales': [100, 120, 130, 150, 170, 180]\n",
    "})\n",
    "\n",
    "df"
   ]
  },
  {
   "cell_type": "code",
   "execution_count": 4,
   "id": "94b882bd",
   "metadata": {},
   "outputs": [
    {
     "data": {
      "text/html": [
       "<div>\n",
       "<style scoped>\n",
       "    .dataframe tbody tr th:only-of-type {\n",
       "        vertical-align: middle;\n",
       "    }\n",
       "\n",
       "    .dataframe tbody tr th {\n",
       "        vertical-align: top;\n",
       "    }\n",
       "\n",
       "    .dataframe thead th {\n",
       "        text-align: right;\n",
       "    }\n",
       "</style>\n",
       "<table border=\"1\" class=\"dataframe\">\n",
       "  <thead>\n",
       "    <tr style=\"text-align: right;\">\n",
       "      <th></th>\n",
       "      <th>day</th>\n",
       "      <th>sales</th>\n",
       "      <th>3day_avg</th>\n",
       "    </tr>\n",
       "  </thead>\n",
       "  <tbody>\n",
       "    <tr>\n",
       "      <th>0</th>\n",
       "      <td>2023-01-01</td>\n",
       "      <td>100</td>\n",
       "      <td>NaN</td>\n",
       "    </tr>\n",
       "    <tr>\n",
       "      <th>1</th>\n",
       "      <td>2023-01-02</td>\n",
       "      <td>120</td>\n",
       "      <td>NaN</td>\n",
       "    </tr>\n",
       "    <tr>\n",
       "      <th>2</th>\n",
       "      <td>2023-01-03</td>\n",
       "      <td>130</td>\n",
       "      <td>116.666667</td>\n",
       "    </tr>\n",
       "    <tr>\n",
       "      <th>3</th>\n",
       "      <td>2023-01-04</td>\n",
       "      <td>150</td>\n",
       "      <td>133.333333</td>\n",
       "    </tr>\n",
       "    <tr>\n",
       "      <th>4</th>\n",
       "      <td>2023-01-05</td>\n",
       "      <td>170</td>\n",
       "      <td>150.000000</td>\n",
       "    </tr>\n",
       "    <tr>\n",
       "      <th>5</th>\n",
       "      <td>2023-01-06</td>\n",
       "      <td>180</td>\n",
       "      <td>166.666667</td>\n",
       "    </tr>\n",
       "  </tbody>\n",
       "</table>\n",
       "</div>"
      ],
      "text/plain": [
       "         day  sales    3day_avg\n",
       "0 2023-01-01    100         NaN\n",
       "1 2023-01-02    120         NaN\n",
       "2 2023-01-03    130  116.666667\n",
       "3 2023-01-04    150  133.333333\n",
       "4 2023-01-05    170  150.000000\n",
       "5 2023-01-06    180  166.666667"
      ]
     },
     "execution_count": 4,
     "metadata": {},
     "output_type": "execute_result"
    }
   ],
   "source": [
    "df['3day_avg'] = df['sales'].rolling(window=3).mean()\n",
    "df"
   ]
  },
  {
   "cell_type": "markdown",
   "id": "c07d0720",
   "metadata": {},
   "source": [
    "#### 📌 Example 2: Expanding Sum"
   ]
  },
  {
   "cell_type": "code",
   "execution_count": 5,
   "id": "94ff2b8c",
   "metadata": {},
   "outputs": [
    {
     "data": {
      "text/html": [
       "<div>\n",
       "<style scoped>\n",
       "    .dataframe tbody tr th:only-of-type {\n",
       "        vertical-align: middle;\n",
       "    }\n",
       "\n",
       "    .dataframe tbody tr th {\n",
       "        vertical-align: top;\n",
       "    }\n",
       "\n",
       "    .dataframe thead th {\n",
       "        text-align: right;\n",
       "    }\n",
       "</style>\n",
       "<table border=\"1\" class=\"dataframe\">\n",
       "  <thead>\n",
       "    <tr style=\"text-align: right;\">\n",
       "      <th></th>\n",
       "      <th>day</th>\n",
       "      <th>sales</th>\n",
       "      <th>3day_avg</th>\n",
       "      <th>expanding_sum</th>\n",
       "    </tr>\n",
       "  </thead>\n",
       "  <tbody>\n",
       "    <tr>\n",
       "      <th>0</th>\n",
       "      <td>2023-01-01</td>\n",
       "      <td>100</td>\n",
       "      <td>NaN</td>\n",
       "      <td>100.0</td>\n",
       "    </tr>\n",
       "    <tr>\n",
       "      <th>1</th>\n",
       "      <td>2023-01-02</td>\n",
       "      <td>120</td>\n",
       "      <td>NaN</td>\n",
       "      <td>220.0</td>\n",
       "    </tr>\n",
       "    <tr>\n",
       "      <th>2</th>\n",
       "      <td>2023-01-03</td>\n",
       "      <td>130</td>\n",
       "      <td>116.666667</td>\n",
       "      <td>350.0</td>\n",
       "    </tr>\n",
       "    <tr>\n",
       "      <th>3</th>\n",
       "      <td>2023-01-04</td>\n",
       "      <td>150</td>\n",
       "      <td>133.333333</td>\n",
       "      <td>500.0</td>\n",
       "    </tr>\n",
       "    <tr>\n",
       "      <th>4</th>\n",
       "      <td>2023-01-05</td>\n",
       "      <td>170</td>\n",
       "      <td>150.000000</td>\n",
       "      <td>670.0</td>\n",
       "    </tr>\n",
       "    <tr>\n",
       "      <th>5</th>\n",
       "      <td>2023-01-06</td>\n",
       "      <td>180</td>\n",
       "      <td>166.666667</td>\n",
       "      <td>850.0</td>\n",
       "    </tr>\n",
       "  </tbody>\n",
       "</table>\n",
       "</div>"
      ],
      "text/plain": [
       "         day  sales    3day_avg  expanding_sum\n",
       "0 2023-01-01    100         NaN          100.0\n",
       "1 2023-01-02    120         NaN          220.0\n",
       "2 2023-01-03    130  116.666667          350.0\n",
       "3 2023-01-04    150  133.333333          500.0\n",
       "4 2023-01-05    170  150.000000          670.0\n",
       "5 2023-01-06    180  166.666667          850.0"
      ]
     },
     "execution_count": 5,
     "metadata": {},
     "output_type": "execute_result"
    }
   ],
   "source": [
    "df['expanding_sum'] = df['sales'].expanding().sum()\n",
    "df"
   ]
  },
  {
   "cell_type": "markdown",
   "id": "1d906106",
   "metadata": {},
   "source": [
    "#### 📌 Example 3: Exponential Weighted Moving Average (EWMA)"
   ]
  },
  {
   "cell_type": "code",
   "execution_count": 6,
   "id": "9d33ac63",
   "metadata": {},
   "outputs": [
    {
     "data": {
      "text/html": [
       "<div>\n",
       "<style scoped>\n",
       "    .dataframe tbody tr th:only-of-type {\n",
       "        vertical-align: middle;\n",
       "    }\n",
       "\n",
       "    .dataframe tbody tr th {\n",
       "        vertical-align: top;\n",
       "    }\n",
       "\n",
       "    .dataframe thead th {\n",
       "        text-align: right;\n",
       "    }\n",
       "</style>\n",
       "<table border=\"1\" class=\"dataframe\">\n",
       "  <thead>\n",
       "    <tr style=\"text-align: right;\">\n",
       "      <th></th>\n",
       "      <th>day</th>\n",
       "      <th>sales</th>\n",
       "      <th>3day_avg</th>\n",
       "      <th>expanding_sum</th>\n",
       "      <th>ewm_mean</th>\n",
       "    </tr>\n",
       "  </thead>\n",
       "  <tbody>\n",
       "    <tr>\n",
       "      <th>0</th>\n",
       "      <td>2023-01-01</td>\n",
       "      <td>100</td>\n",
       "      <td>NaN</td>\n",
       "      <td>100.0</td>\n",
       "      <td>100.00</td>\n",
       "    </tr>\n",
       "    <tr>\n",
       "      <th>1</th>\n",
       "      <td>2023-01-02</td>\n",
       "      <td>120</td>\n",
       "      <td>NaN</td>\n",
       "      <td>220.0</td>\n",
       "      <td>110.00</td>\n",
       "    </tr>\n",
       "    <tr>\n",
       "      <th>2</th>\n",
       "      <td>2023-01-03</td>\n",
       "      <td>130</td>\n",
       "      <td>116.666667</td>\n",
       "      <td>350.0</td>\n",
       "      <td>120.00</td>\n",
       "    </tr>\n",
       "    <tr>\n",
       "      <th>3</th>\n",
       "      <td>2023-01-04</td>\n",
       "      <td>150</td>\n",
       "      <td>133.333333</td>\n",
       "      <td>500.0</td>\n",
       "      <td>135.00</td>\n",
       "    </tr>\n",
       "    <tr>\n",
       "      <th>4</th>\n",
       "      <td>2023-01-05</td>\n",
       "      <td>170</td>\n",
       "      <td>150.000000</td>\n",
       "      <td>670.0</td>\n",
       "      <td>152.50</td>\n",
       "    </tr>\n",
       "    <tr>\n",
       "      <th>5</th>\n",
       "      <td>2023-01-06</td>\n",
       "      <td>180</td>\n",
       "      <td>166.666667</td>\n",
       "      <td>850.0</td>\n",
       "      <td>166.25</td>\n",
       "    </tr>\n",
       "  </tbody>\n",
       "</table>\n",
       "</div>"
      ],
      "text/plain": [
       "         day  sales    3day_avg  expanding_sum  ewm_mean\n",
       "0 2023-01-01    100         NaN          100.0    100.00\n",
       "1 2023-01-02    120         NaN          220.0    110.00\n",
       "2 2023-01-03    130  116.666667          350.0    120.00\n",
       "3 2023-01-04    150  133.333333          500.0    135.00\n",
       "4 2023-01-05    170  150.000000          670.0    152.50\n",
       "5 2023-01-06    180  166.666667          850.0    166.25"
      ]
     },
     "execution_count": 6,
     "metadata": {},
     "output_type": "execute_result"
    }
   ],
   "source": [
    "df['ewm_mean'] = df['sales'].ewm(span=3, adjust=False).mean()\n",
    "df"
   ]
  },
  {
   "cell_type": "markdown",
   "id": "a7b7aa7b",
   "metadata": {},
   "source": [
    "#### 📌 Example 4: Group-wise Rolling Average"
   ]
  },
  {
   "cell_type": "code",
   "execution_count": 7,
   "id": "b8ca68b0",
   "metadata": {},
   "outputs": [
    {
     "data": {
      "text/html": [
       "<div>\n",
       "<style scoped>\n",
       "    .dataframe tbody tr th:only-of-type {\n",
       "        vertical-align: middle;\n",
       "    }\n",
       "\n",
       "    .dataframe tbody tr th {\n",
       "        vertical-align: top;\n",
       "    }\n",
       "\n",
       "    .dataframe thead th {\n",
       "        text-align: right;\n",
       "    }\n",
       "</style>\n",
       "<table border=\"1\" class=\"dataframe\">\n",
       "  <thead>\n",
       "    <tr style=\"text-align: right;\">\n",
       "      <th></th>\n",
       "      <th>store</th>\n",
       "      <th>sales</th>\n",
       "    </tr>\n",
       "  </thead>\n",
       "  <tbody>\n",
       "    <tr>\n",
       "      <th>0</th>\n",
       "      <td>A</td>\n",
       "      <td>10</td>\n",
       "    </tr>\n",
       "    <tr>\n",
       "      <th>1</th>\n",
       "      <td>A</td>\n",
       "      <td>20</td>\n",
       "    </tr>\n",
       "    <tr>\n",
       "      <th>2</th>\n",
       "      <td>A</td>\n",
       "      <td>30</td>\n",
       "    </tr>\n",
       "    <tr>\n",
       "      <th>3</th>\n",
       "      <td>B</td>\n",
       "      <td>5</td>\n",
       "    </tr>\n",
       "    <tr>\n",
       "      <th>4</th>\n",
       "      <td>B</td>\n",
       "      <td>15</td>\n",
       "    </tr>\n",
       "    <tr>\n",
       "      <th>5</th>\n",
       "      <td>B</td>\n",
       "      <td>25</td>\n",
       "    </tr>\n",
       "  </tbody>\n",
       "</table>\n",
       "</div>"
      ],
      "text/plain": [
       "  store  sales\n",
       "0     A     10\n",
       "1     A     20\n",
       "2     A     30\n",
       "3     B      5\n",
       "4     B     15\n",
       "5     B     25"
      ]
     },
     "execution_count": 7,
     "metadata": {},
     "output_type": "execute_result"
    }
   ],
   "source": [
    "df = pd.DataFrame({\n",
    "    'store': ['A', 'A', 'A', 'B', 'B', 'B'],\n",
    "    'sales': [10, 20, 30, 5, 15, 25]\n",
    "})\n",
    "df"
   ]
  },
  {
   "cell_type": "code",
   "execution_count": 8,
   "id": "0ee7c11e",
   "metadata": {},
   "outputs": [
    {
     "data": {
      "text/html": [
       "<div>\n",
       "<style scoped>\n",
       "    .dataframe tbody tr th:only-of-type {\n",
       "        vertical-align: middle;\n",
       "    }\n",
       "\n",
       "    .dataframe tbody tr th {\n",
       "        vertical-align: top;\n",
       "    }\n",
       "\n",
       "    .dataframe thead th {\n",
       "        text-align: right;\n",
       "    }\n",
       "</style>\n",
       "<table border=\"1\" class=\"dataframe\">\n",
       "  <thead>\n",
       "    <tr style=\"text-align: right;\">\n",
       "      <th></th>\n",
       "      <th>store</th>\n",
       "      <th>sales</th>\n",
       "      <th>rolling_avg</th>\n",
       "    </tr>\n",
       "  </thead>\n",
       "  <tbody>\n",
       "    <tr>\n",
       "      <th>0</th>\n",
       "      <td>A</td>\n",
       "      <td>10</td>\n",
       "      <td>NaN</td>\n",
       "    </tr>\n",
       "    <tr>\n",
       "      <th>1</th>\n",
       "      <td>A</td>\n",
       "      <td>20</td>\n",
       "      <td>15.0</td>\n",
       "    </tr>\n",
       "    <tr>\n",
       "      <th>2</th>\n",
       "      <td>A</td>\n",
       "      <td>30</td>\n",
       "      <td>25.0</td>\n",
       "    </tr>\n",
       "    <tr>\n",
       "      <th>3</th>\n",
       "      <td>B</td>\n",
       "      <td>5</td>\n",
       "      <td>NaN</td>\n",
       "    </tr>\n",
       "    <tr>\n",
       "      <th>4</th>\n",
       "      <td>B</td>\n",
       "      <td>15</td>\n",
       "      <td>10.0</td>\n",
       "    </tr>\n",
       "    <tr>\n",
       "      <th>5</th>\n",
       "      <td>B</td>\n",
       "      <td>25</td>\n",
       "      <td>20.0</td>\n",
       "    </tr>\n",
       "  </tbody>\n",
       "</table>\n",
       "</div>"
      ],
      "text/plain": [
       "  store  sales  rolling_avg\n",
       "0     A     10          NaN\n",
       "1     A     20         15.0\n",
       "2     A     30         25.0\n",
       "3     B      5          NaN\n",
       "4     B     15         10.0\n",
       "5     B     25         20.0"
      ]
     },
     "execution_count": 8,
     "metadata": {},
     "output_type": "execute_result"
    }
   ],
   "source": [
    "df['rolling_avg'] = df.groupby('store')['sales'].rolling(2).mean().reset_index(drop=True)\n",
    "df"
   ]
  },
  {
   "cell_type": "markdown",
   "id": "fb003c7d",
   "metadata": {},
   "source": [
    "### 6. **Real World Use Cases**\n",
    "\n",
    "| Use Case                    | Description                                                               |\n",
    "| --------------------------- | ------------------------------------------------------------------------- |\n",
    "| **Stock market analysis**   | Rolling averages to smooth out noise in price data                        |\n",
    "| **Sales forecasting**       | Moving averages to predict future trends based on past                    |\n",
    "| **Anomaly detection**       | Compare current vs rolling stats to detect outliers                       |\n",
    "| **Sensor data analysis**    | Detect spikes or trends using sliding windows                             |\n",
    "| **Customer purchase trend** | Group by customer and apply window functions to track behavior            |\n",
    "| **Credit scoring**          | Use expanding average of late payments or spending for behavioral scoring |\n"
   ]
  },
  {
   "cell_type": "markdown",
   "id": "baa7624f",
   "metadata": {},
   "source": [
    "### ✅ Summary Table\n",
    "\n",
    "| Function       | Use Case Example           | Notes                          |\n",
    "| -------------- | -------------------------- | ------------------------------ |\n",
    "| `.rolling()`   | 7-day avg temperature      | Fixed window                   |\n",
    "| `.expanding()` | Cumulative sales or sum    | Expanding window               |\n",
    "| `.ewm()`       | Smoothed customer behavior | More recent data weighted more |\n"
   ]
  },
  {
   "cell_type": "markdown",
   "id": "224fa9fa",
   "metadata": {},
   "source": [
    "<center><b>Thanks</b></center>"
   ]
  }
 ],
 "metadata": {
  "kernelspec": {
   "display_name": "venv",
   "language": "python",
   "name": "python3"
  },
  "language_info": {
   "codemirror_mode": {
    "name": "ipython",
    "version": 3
   },
   "file_extension": ".py",
   "mimetype": "text/x-python",
   "name": "python",
   "nbconvert_exporter": "python",
   "pygments_lexer": "ipython3",
   "version": "3.10.2"
  }
 },
 "nbformat": 4,
 "nbformat_minor": 5
}
