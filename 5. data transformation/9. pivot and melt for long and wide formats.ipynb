{
 "cells": [
  {
   "cell_type": "markdown",
   "id": "a11cd9f1",
   "metadata": {},
   "source": [
    "# **Data Transformation**"
   ]
  },
  {
   "cell_type": "markdown",
   "id": "08dbbd4c",
   "metadata": {},
   "source": [
    "## **9. Pivot/melt for long/wide formats**"
   ]
  },
  {
   "cell_type": "code",
   "execution_count": 1,
   "id": "c195631c",
   "metadata": {},
   "outputs": [],
   "source": [
    "import numpy as np \n",
    "import pandas as pd "
   ]
  },
  {
   "cell_type": "markdown",
   "id": "35dd54c3",
   "metadata": {},
   "source": [
    "### 1. **What it does and When to Use it**\n",
    "\n",
    "**Pivoting and melting** are techniques for **reshaping data** between **wide** and **long** formats.\n",
    "\n",
    "* **Pivoting**: Converts data from long format to wide format.\n",
    "* **Melting**: Converts data from wide format to long format.\n",
    "\n",
    "#### 🔍 **When to use:**\n",
    "\n",
    "* To **prepare data for machine learning**, where long format is often preferred.\n",
    "* For **data visualization**, where tools like seaborn/matplotlib prefer tidy (long) format.\n",
    "* During **data aggregation**, cleaning, or reporting to reorient rows/columns as needed.\n"
   ]
  },
  {
   "cell_type": "markdown",
   "id": "d757aa06",
   "metadata": {},
   "source": [
    "### 2. **Syntax and Core Parameters**\n",
    "\n",
    "#### `pd.melt()` – Wide to Long Format\n",
    "\n",
    "```python\n",
    "pd.melt(\n",
    "    frame, \n",
    "    id_vars=None, \n",
    "    value_vars=None, \n",
    "    var_name=None, \n",
    "    value_name='value'\n",
    ")\n",
    "```\n",
    "\n",
    "* `frame`: DataFrame to unpivot.\n",
    "* `id_vars`: Columns to keep fixed (identifiers).\n",
    "* `value_vars`: Columns to unpivot (become variable names).\n",
    "* `var_name`: Name of the ‘variable’ column.\n",
    "* `value_name`: Name of the ‘value’ column.\n",
    "\n",
    "#### `df.pivot()` – Long to Wide Format (strict)\n",
    "\n",
    "```python\n",
    "df.pivot(index='...', columns='...', values='...')\n",
    "```\n",
    "\n",
    "* `index`: Column to make new index.\n",
    "* `columns`: Column to make new columns.\n",
    "* `values`: Column to fill values in cells.\n",
    "\n",
    "#### `df.pivot_table()` – More flexible with aggregation\n",
    "\n",
    "```python\n",
    "df.pivot_table(index='...', columns='...', values='...', aggfunc='mean')\n",
    "```\n"
   ]
  },
  {
   "cell_type": "markdown",
   "id": "7e292727",
   "metadata": {},
   "source": [
    "### 3. **Different Methods and Techniques**\n",
    "\n",
    "#### ✅ Wide to Long:\n",
    "\n",
    "* `pd.melt()`\n",
    "* `df.stack()`\n",
    "\n",
    "#### ✅ Long to Wide:\n",
    "\n",
    "* `df.pivot()` (fails on duplicate index)\n",
    "* `df.pivot_table()` (aggregates duplicates)\n",
    "* `df.unstack()`\n"
   ]
  },
  {
   "cell_type": "markdown",
   "id": "1a7bfb05",
   "metadata": {},
   "source": [
    "### 4. **Common Pitfalls and Best Practices**\n",
    "\n",
    "| Pitfall                                                                               | Best Practice                                         |\n",
    "| ------------------------------------------------------------------------------------- | ----------------------------------------------------- |\n",
    "| **Duplicate entries in pivot** cause `ValueError`.                                    | Use `pivot_table()` with aggregation.                 |\n",
    "| `melt()` may lose column names if `id_vars` or `value_vars` aren't specified clearly. | Always explicitly specify `id_vars` and `value_vars`. |\n",
    "| Misuse of `pivot` for grouped summaries.                                              | Use `pivot_table` with `aggfunc`.                     |\n",
    "| Wrong index/column settings after transformation.                                     | Use `reset_index()` if needed to flatten index.       |\n"
   ]
  },
  {
   "cell_type": "markdown",
   "id": "16e0ce09",
   "metadata": {},
   "source": [
    "### 5. **Examples on Real/Pseudo Data**"
   ]
  },
  {
   "cell_type": "markdown",
   "id": "8486df84",
   "metadata": {},
   "source": [
    "#### 📌 Example 1: `melt()` – Wide to Long"
   ]
  },
  {
   "cell_type": "code",
   "execution_count": 2,
   "id": "9fddb027",
   "metadata": {},
   "outputs": [
    {
     "data": {
      "text/html": [
       "<div>\n",
       "<style scoped>\n",
       "    .dataframe tbody tr th:only-of-type {\n",
       "        vertical-align: middle;\n",
       "    }\n",
       "\n",
       "    .dataframe tbody tr th {\n",
       "        vertical-align: top;\n",
       "    }\n",
       "\n",
       "    .dataframe thead th {\n",
       "        text-align: right;\n",
       "    }\n",
       "</style>\n",
       "<table border=\"1\" class=\"dataframe\">\n",
       "  <thead>\n",
       "    <tr style=\"text-align: right;\">\n",
       "      <th></th>\n",
       "      <th>ID</th>\n",
       "      <th>Math</th>\n",
       "      <th>Science</th>\n",
       "    </tr>\n",
       "  </thead>\n",
       "  <tbody>\n",
       "    <tr>\n",
       "      <th>0</th>\n",
       "      <td>1</td>\n",
       "      <td>90</td>\n",
       "      <td>85</td>\n",
       "    </tr>\n",
       "    <tr>\n",
       "      <th>1</th>\n",
       "      <td>2</td>\n",
       "      <td>80</td>\n",
       "      <td>88</td>\n",
       "    </tr>\n",
       "  </tbody>\n",
       "</table>\n",
       "</div>"
      ],
      "text/plain": [
       "   ID  Math  Science\n",
       "0   1    90       85\n",
       "1   2    80       88"
      ]
     },
     "execution_count": 2,
     "metadata": {},
     "output_type": "execute_result"
    }
   ],
   "source": [
    "df = pd.DataFrame({\n",
    "    'ID': [1, 2],\n",
    "    'Math': [90, 80],\n",
    "    'Science': [85, 88]\n",
    "})\n",
    "\n",
    "df"
   ]
  },
  {
   "cell_type": "code",
   "execution_count": 3,
   "id": "8bb7e153",
   "metadata": {},
   "outputs": [
    {
     "data": {
      "text/html": [
       "<div>\n",
       "<style scoped>\n",
       "    .dataframe tbody tr th:only-of-type {\n",
       "        vertical-align: middle;\n",
       "    }\n",
       "\n",
       "    .dataframe tbody tr th {\n",
       "        vertical-align: top;\n",
       "    }\n",
       "\n",
       "    .dataframe thead th {\n",
       "        text-align: right;\n",
       "    }\n",
       "</style>\n",
       "<table border=\"1\" class=\"dataframe\">\n",
       "  <thead>\n",
       "    <tr style=\"text-align: right;\">\n",
       "      <th></th>\n",
       "      <th>ID</th>\n",
       "      <th>Subject</th>\n",
       "      <th>Marks</th>\n",
       "    </tr>\n",
       "  </thead>\n",
       "  <tbody>\n",
       "    <tr>\n",
       "      <th>0</th>\n",
       "      <td>1</td>\n",
       "      <td>Math</td>\n",
       "      <td>90</td>\n",
       "    </tr>\n",
       "    <tr>\n",
       "      <th>1</th>\n",
       "      <td>2</td>\n",
       "      <td>Math</td>\n",
       "      <td>80</td>\n",
       "    </tr>\n",
       "    <tr>\n",
       "      <th>2</th>\n",
       "      <td>1</td>\n",
       "      <td>Science</td>\n",
       "      <td>85</td>\n",
       "    </tr>\n",
       "    <tr>\n",
       "      <th>3</th>\n",
       "      <td>2</td>\n",
       "      <td>Science</td>\n",
       "      <td>88</td>\n",
       "    </tr>\n",
       "  </tbody>\n",
       "</table>\n",
       "</div>"
      ],
      "text/plain": [
       "   ID  Subject  Marks\n",
       "0   1     Math     90\n",
       "1   2     Math     80\n",
       "2   1  Science     85\n",
       "3   2  Science     88"
      ]
     },
     "execution_count": 3,
     "metadata": {},
     "output_type": "execute_result"
    }
   ],
   "source": [
    "melted = pd.melt(df, id_vars='ID', var_name='Subject', value_name='Marks')\n",
    "melted"
   ]
  },
  {
   "cell_type": "markdown",
   "id": "4f0d42fe",
   "metadata": {},
   "source": [
    "#### 📌 Example 2: `pivot()` – Long to Wide"
   ]
  },
  {
   "cell_type": "code",
   "execution_count": 4,
   "id": "aa1ab8f3",
   "metadata": {},
   "outputs": [
    {
     "data": {
      "text/html": [
       "<div>\n",
       "<style scoped>\n",
       "    .dataframe tbody tr th:only-of-type {\n",
       "        vertical-align: middle;\n",
       "    }\n",
       "\n",
       "    .dataframe tbody tr th {\n",
       "        vertical-align: top;\n",
       "    }\n",
       "\n",
       "    .dataframe thead th {\n",
       "        text-align: right;\n",
       "    }\n",
       "</style>\n",
       "<table border=\"1\" class=\"dataframe\">\n",
       "  <thead>\n",
       "    <tr style=\"text-align: right;\">\n",
       "      <th></th>\n",
       "      <th>ID</th>\n",
       "      <th>Subject</th>\n",
       "      <th>Marks</th>\n",
       "    </tr>\n",
       "  </thead>\n",
       "  <tbody>\n",
       "    <tr>\n",
       "      <th>0</th>\n",
       "      <td>1</td>\n",
       "      <td>Math</td>\n",
       "      <td>90</td>\n",
       "    </tr>\n",
       "    <tr>\n",
       "      <th>1</th>\n",
       "      <td>1</td>\n",
       "      <td>Science</td>\n",
       "      <td>85</td>\n",
       "    </tr>\n",
       "    <tr>\n",
       "      <th>2</th>\n",
       "      <td>2</td>\n",
       "      <td>Math</td>\n",
       "      <td>80</td>\n",
       "    </tr>\n",
       "    <tr>\n",
       "      <th>3</th>\n",
       "      <td>2</td>\n",
       "      <td>Science</td>\n",
       "      <td>88</td>\n",
       "    </tr>\n",
       "  </tbody>\n",
       "</table>\n",
       "</div>"
      ],
      "text/plain": [
       "   ID  Subject  Marks\n",
       "0   1     Math     90\n",
       "1   1  Science     85\n",
       "2   2     Math     80\n",
       "3   2  Science     88"
      ]
     },
     "execution_count": 4,
     "metadata": {},
     "output_type": "execute_result"
    }
   ],
   "source": [
    "df = pd.DataFrame({\n",
    "    'ID': [1, 1, 2, 2],\n",
    "    'Subject': ['Math', 'Science', 'Math', 'Science'],\n",
    "    'Marks': [90, 85, 80, 88]\n",
    "})\n",
    "\n",
    "df"
   ]
  },
  {
   "cell_type": "code",
   "execution_count": 5,
   "id": "142ad328",
   "metadata": {},
   "outputs": [
    {
     "data": {
      "text/html": [
       "<div>\n",
       "<style scoped>\n",
       "    .dataframe tbody tr th:only-of-type {\n",
       "        vertical-align: middle;\n",
       "    }\n",
       "\n",
       "    .dataframe tbody tr th {\n",
       "        vertical-align: top;\n",
       "    }\n",
       "\n",
       "    .dataframe thead th {\n",
       "        text-align: right;\n",
       "    }\n",
       "</style>\n",
       "<table border=\"1\" class=\"dataframe\">\n",
       "  <thead>\n",
       "    <tr style=\"text-align: right;\">\n",
       "      <th>Subject</th>\n",
       "      <th>Math</th>\n",
       "      <th>Science</th>\n",
       "    </tr>\n",
       "    <tr>\n",
       "      <th>ID</th>\n",
       "      <th></th>\n",
       "      <th></th>\n",
       "    </tr>\n",
       "  </thead>\n",
       "  <tbody>\n",
       "    <tr>\n",
       "      <th>1</th>\n",
       "      <td>90</td>\n",
       "      <td>85</td>\n",
       "    </tr>\n",
       "    <tr>\n",
       "      <th>2</th>\n",
       "      <td>80</td>\n",
       "      <td>88</td>\n",
       "    </tr>\n",
       "  </tbody>\n",
       "</table>\n",
       "</div>"
      ],
      "text/plain": [
       "Subject  Math  Science\n",
       "ID                    \n",
       "1          90       85\n",
       "2          80       88"
      ]
     },
     "execution_count": 5,
     "metadata": {},
     "output_type": "execute_result"
    }
   ],
   "source": [
    "pivoted = df.pivot(index='ID', columns='Subject', values='Marks')\n",
    "pivoted"
   ]
  },
  {
   "cell_type": "markdown",
   "id": "52ce7ad3",
   "metadata": {},
   "source": [
    "#### 📌 Example 3: `pivot_table()` with aggregation"
   ]
  },
  {
   "cell_type": "code",
   "execution_count": 6,
   "id": "885c5b5b",
   "metadata": {},
   "outputs": [
    {
     "data": {
      "text/html": [
       "<div>\n",
       "<style scoped>\n",
       "    .dataframe tbody tr th:only-of-type {\n",
       "        vertical-align: middle;\n",
       "    }\n",
       "\n",
       "    .dataframe tbody tr th {\n",
       "        vertical-align: top;\n",
       "    }\n",
       "\n",
       "    .dataframe thead th {\n",
       "        text-align: right;\n",
       "    }\n",
       "</style>\n",
       "<table border=\"1\" class=\"dataframe\">\n",
       "  <thead>\n",
       "    <tr style=\"text-align: right;\">\n",
       "      <th></th>\n",
       "      <th>Student</th>\n",
       "      <th>Subject</th>\n",
       "      <th>Score</th>\n",
       "    </tr>\n",
       "  </thead>\n",
       "  <tbody>\n",
       "    <tr>\n",
       "      <th>0</th>\n",
       "      <td>A</td>\n",
       "      <td>Math</td>\n",
       "      <td>90</td>\n",
       "    </tr>\n",
       "    <tr>\n",
       "      <th>1</th>\n",
       "      <td>A</td>\n",
       "      <td>Math</td>\n",
       "      <td>85</td>\n",
       "    </tr>\n",
       "    <tr>\n",
       "      <th>2</th>\n",
       "      <td>B</td>\n",
       "      <td>Math</td>\n",
       "      <td>80</td>\n",
       "    </tr>\n",
       "    <tr>\n",
       "      <th>3</th>\n",
       "      <td>B</td>\n",
       "      <td>Math</td>\n",
       "      <td>82</td>\n",
       "    </tr>\n",
       "  </tbody>\n",
       "</table>\n",
       "</div>"
      ],
      "text/plain": [
       "  Student Subject  Score\n",
       "0       A    Math     90\n",
       "1       A    Math     85\n",
       "2       B    Math     80\n",
       "3       B    Math     82"
      ]
     },
     "execution_count": 6,
     "metadata": {},
     "output_type": "execute_result"
    }
   ],
   "source": [
    "df = pd.DataFrame({\n",
    "    'Student': ['A', 'A', 'B', 'B'],\n",
    "    'Subject': ['Math', 'Math', 'Math', 'Math'],\n",
    "    'Score': [90, 85, 80, 82]\n",
    "})\n",
    "\n",
    "df"
   ]
  },
  {
   "cell_type": "code",
   "execution_count": 7,
   "id": "3cb062b0",
   "metadata": {},
   "outputs": [
    {
     "data": {
      "text/html": [
       "<div>\n",
       "<style scoped>\n",
       "    .dataframe tbody tr th:only-of-type {\n",
       "        vertical-align: middle;\n",
       "    }\n",
       "\n",
       "    .dataframe tbody tr th {\n",
       "        vertical-align: top;\n",
       "    }\n",
       "\n",
       "    .dataframe thead th {\n",
       "        text-align: right;\n",
       "    }\n",
       "</style>\n",
       "<table border=\"1\" class=\"dataframe\">\n",
       "  <thead>\n",
       "    <tr style=\"text-align: right;\">\n",
       "      <th>Subject</th>\n",
       "      <th>Math</th>\n",
       "    </tr>\n",
       "    <tr>\n",
       "      <th>Student</th>\n",
       "      <th></th>\n",
       "    </tr>\n",
       "  </thead>\n",
       "  <tbody>\n",
       "    <tr>\n",
       "      <th>A</th>\n",
       "      <td>87.5</td>\n",
       "    </tr>\n",
       "    <tr>\n",
       "      <th>B</th>\n",
       "      <td>81.0</td>\n",
       "    </tr>\n",
       "  </tbody>\n",
       "</table>\n",
       "</div>"
      ],
      "text/plain": [
       "Subject  Math\n",
       "Student      \n",
       "A        87.5\n",
       "B        81.0"
      ]
     },
     "execution_count": 7,
     "metadata": {},
     "output_type": "execute_result"
    }
   ],
   "source": [
    "# Intentional duplicate: two scores per subject\n",
    "pivoted = df.pivot_table(index='Student', columns='Subject', values='Score', aggfunc='mean')\n",
    "pivoted"
   ]
  },
  {
   "cell_type": "markdown",
   "id": "cfc6a395",
   "metadata": {},
   "source": [
    "### 6. **Real World Use Cases**\n",
    "\n",
    "#### ✅ Use Case 1: **Survey Data**\n",
    "\n",
    "* Melt responses to put all answers in a single column with respondent ID and question.\n",
    "* Wide: One column per question\n",
    "* Long: One row per question per respondent\n",
    "\n",
    "#### ✅ Use Case 2: **Time Series Stock Prices**\n",
    "\n",
    "* Each column is a stock symbol → melt to have date, symbol, price.\n",
    "\n",
    "#### ✅ Use Case 3: **Sensor Data or Logs**\n",
    "\n",
    "* Pivot for displaying hourly/daily metrics from long logs.\n",
    "\n",
    "#### ✅ Use Case 4: **ML Input Preparation**\n",
    "\n",
    "* Reshape encoded data (e.g., one-hot, multi-feature) into normalized long format.\n"
   ]
  },
  {
   "cell_type": "markdown",
   "id": "7ee6b449",
   "metadata": {},
   "source": [
    "### ✅ Summary Table\n",
    "\n",
    "| Operation                 | Tool            | Use When                         |\n",
    "| ------------------------- | --------------- | -------------------------------- |\n",
    "| Wide → Long               | `pd.melt()`     | Normalize repeated columns       |\n",
    "| Long → Wide               | `pivot()`       | Structure repeated rows          |\n",
    "| Long → Wide w/ duplicates | `pivot_table()` | Aggregate duplicate index values |\n"
   ]
  },
  {
   "cell_type": "markdown",
   "id": "8a40e2cc",
   "metadata": {},
   "source": [
    "<center><b>Thanks</b></center>"
   ]
  }
 ],
 "metadata": {
  "kernelspec": {
   "display_name": "venv",
   "language": "python",
   "name": "python3"
  },
  "language_info": {
   "codemirror_mode": {
    "name": "ipython",
    "version": 3
   },
   "file_extension": ".py",
   "mimetype": "text/x-python",
   "name": "python",
   "nbconvert_exporter": "python",
   "pygments_lexer": "ipython3",
   "version": "3.10.2"
  }
 },
 "nbformat": 4,
 "nbformat_minor": 5
}
