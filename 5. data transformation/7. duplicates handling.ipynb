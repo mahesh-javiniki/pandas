{
 "cells": [
  {
   "cell_type": "markdown",
   "id": "5cfdd8b9",
   "metadata": {},
   "source": [
    "# **Data Transformation**"
   ]
  },
  {
   "cell_type": "markdown",
   "id": "f8ce4094",
   "metadata": {},
   "source": [
    "## **7. Handling duplicates or unique transformations**"
   ]
  },
  {
   "cell_type": "code",
   "execution_count": 1,
   "id": "f5f773ec",
   "metadata": {},
   "outputs": [],
   "source": [
    "import numpy as np \n",
    "import pandas as pd "
   ]
  },
  {
   "cell_type": "markdown",
   "id": "0e0c87a0",
   "metadata": {},
   "source": [
    "## ✅ 1. What it Does and When to Use It\n",
    "\n",
    "Handling duplicates or extracting unique values is essential during data preprocessing to:\n",
    "\n",
    "* **Eliminate redundancy**\n",
    "* **Ensure data quality**\n",
    "* **Reduce noise**\n",
    "* **Prevent bias or skew** in analysis or modeling\n",
    "\n",
    "You'll typically do this **after data ingestion or merging** and **before modeling or analysis**.\n"
   ]
  },
  {
   "cell_type": "markdown",
   "id": "c2bd38d0",
   "metadata": {},
   "source": [
    "## 🧠 2. Syntax and Core Parameters\n",
    "\n",
    "### ➤ Main Functions\n",
    "\n",
    "| Function                   | Description                                  |\n",
    "| -------------------------- | -------------------------------------------- |\n",
    "| `df.duplicated()`          | Returns Boolean Series indicating duplicates |\n",
    "| `df.drop_duplicates()`     | Drops duplicate rows                         |\n",
    "| `df.nunique()`             | Counts number of unique values per column    |\n",
    "| `df['col'].unique()`       | Returns unique values in a Series            |\n",
    "| `df['col'].value_counts()` | Counts frequency of unique values            |\n",
    "\n",
    "### ➤ Core Parameters for `drop_duplicates()`:\n",
    "\n",
    "```python\n",
    "df.drop_duplicates(\n",
    "    subset=None,        # Columns to consider\n",
    "    keep='first',       # Which duplicates to keep: 'first', 'last', False\n",
    "    inplace=False,      # Modify the original DataFrame or return new one\n",
    "    ignore_index=False  # Reset index or not\n",
    ")\n",
    "```\n"
   ]
  },
  {
   "cell_type": "markdown",
   "id": "1fd11ac2",
   "metadata": {},
   "source": [
    "## 🧪 3. Methods and Techniques\n",
    "\n",
    "### A. **Detect Duplicates**\n",
    "\n",
    "```python\n",
    "df.duplicated()                  # True if row is duplicate of a previous row\n",
    "df.duplicated(subset=['name'])  # Check duplicates in 'name' column only\n",
    "```\n",
    "\n",
    "---\n",
    "\n",
    "### B. **Drop Duplicates**\n",
    "\n",
    "```python\n",
    "df.drop_duplicates()                             # Drop all duplicate rows\n",
    "df.drop_duplicates(subset=['email'], keep='last')  # Keep last for 'email'\n",
    "```\n",
    "\n",
    "---\n",
    "\n",
    "### C. **Get Unique Values**\n",
    "\n",
    "```python\n",
    "df['gender'].unique()\n",
    "df['gender'].nunique()          # Count unique values\n",
    "```\n",
    "\n",
    "---\n",
    "\n",
    "### D. **Count Value Frequencies**\n",
    "\n",
    "```python\n",
    "df['city'].value_counts()\n",
    "```\n",
    "\n",
    "---\n",
    "\n",
    "### E. **Group and Remove Duplicates by Aggregation**\n",
    "\n",
    "```python\n",
    "df.groupby('email').agg('first').reset_index()\n",
    "```\n"
   ]
  },
  {
   "cell_type": "markdown",
   "id": "e48651bb",
   "metadata": {},
   "source": [
    "## ⚠️ 4. Common Pitfalls and Best Practices\n",
    "\n",
    "| Pitfall                                             | Explanation                                                         |\n",
    "| --------------------------------------------------- | ------------------------------------------------------------------- |\n",
    "| Forgetting `subset=`                                | May drop entire row based on full match instead of specific columns |\n",
    "| Not resetting index after dropping                  | Can cause confusion in further operations                           |\n",
    "| Using `inplace=True` without need                   | Risk of losing original data                                        |\n",
    "| `duplicated()` includes first as `False` by default | Only later duplicates marked as `True`                              |\n",
    "\n",
    "### ✅ Best Practices:\n",
    "\n",
    "* Always **verify before dropping** with `df[df.duplicated()]`\n",
    "* When unsure, **don't use `inplace=True`** to avoid accidental data loss\n",
    "* Use **subset** parameter to focus on specific columns\n",
    "* Use **`.copy()`** when extracting unique subsets for further processing\n"
   ]
  },
  {
   "cell_type": "markdown",
   "id": "89314c66",
   "metadata": {},
   "source": [
    "## 📊 5. Examples on Real/Pseudo Data"
   ]
  },
  {
   "cell_type": "markdown",
   "id": "ce515665",
   "metadata": {},
   "source": [
    "### 🔸 Example 1: Detect & Remove Duplicate Rows"
   ]
  },
  {
   "cell_type": "code",
   "execution_count": 2,
   "id": "40816287",
   "metadata": {},
   "outputs": [
    {
     "data": {
      "text/html": [
       "<div>\n",
       "<style scoped>\n",
       "    .dataframe tbody tr th:only-of-type {\n",
       "        vertical-align: middle;\n",
       "    }\n",
       "\n",
       "    .dataframe tbody tr th {\n",
       "        vertical-align: top;\n",
       "    }\n",
       "\n",
       "    .dataframe thead th {\n",
       "        text-align: right;\n",
       "    }\n",
       "</style>\n",
       "<table border=\"1\" class=\"dataframe\">\n",
       "  <thead>\n",
       "    <tr style=\"text-align: right;\">\n",
       "      <th></th>\n",
       "      <th>id</th>\n",
       "      <th>name</th>\n",
       "      <th>email</th>\n",
       "    </tr>\n",
       "  </thead>\n",
       "  <tbody>\n",
       "    <tr>\n",
       "      <th>0</th>\n",
       "      <td>1</td>\n",
       "      <td>Alice</td>\n",
       "      <td>a@mail.com</td>\n",
       "    </tr>\n",
       "    <tr>\n",
       "      <th>1</th>\n",
       "      <td>2</td>\n",
       "      <td>Bob</td>\n",
       "      <td>b@mail.com</td>\n",
       "    </tr>\n",
       "    <tr>\n",
       "      <th>2</th>\n",
       "      <td>3</td>\n",
       "      <td>Charlie</td>\n",
       "      <td>c@mail.com</td>\n",
       "    </tr>\n",
       "    <tr>\n",
       "      <th>3</th>\n",
       "      <td>4</td>\n",
       "      <td>David</td>\n",
       "      <td>d@mail.com</td>\n",
       "    </tr>\n",
       "    <tr>\n",
       "      <th>4</th>\n",
       "      <td>2</td>\n",
       "      <td>Bob</td>\n",
       "      <td>b@mail.com</td>\n",
       "    </tr>\n",
       "  </tbody>\n",
       "</table>\n",
       "</div>"
      ],
      "text/plain": [
       "   id     name       email\n",
       "0   1    Alice  a@mail.com\n",
       "1   2      Bob  b@mail.com\n",
       "2   3  Charlie  c@mail.com\n",
       "3   4    David  d@mail.com\n",
       "4   2      Bob  b@mail.com"
      ]
     },
     "execution_count": 2,
     "metadata": {},
     "output_type": "execute_result"
    }
   ],
   "source": [
    "df = pd.DataFrame({\n",
    "    'id': [1, 2, 3, 4, 2],\n",
    "    'name': ['Alice', 'Bob', 'Charlie', 'David', 'Bob'],\n",
    "    'email': ['a@mail.com', 'b@mail.com', 'c@mail.com', 'd@mail.com', 'b@mail.com']\n",
    "})\n",
    "\n",
    "df"
   ]
  },
  {
   "cell_type": "code",
   "execution_count": 3,
   "id": "13982af3",
   "metadata": {},
   "outputs": [
    {
     "data": {
      "text/html": [
       "<div>\n",
       "<style scoped>\n",
       "    .dataframe tbody tr th:only-of-type {\n",
       "        vertical-align: middle;\n",
       "    }\n",
       "\n",
       "    .dataframe tbody tr th {\n",
       "        vertical-align: top;\n",
       "    }\n",
       "\n",
       "    .dataframe thead th {\n",
       "        text-align: right;\n",
       "    }\n",
       "</style>\n",
       "<table border=\"1\" class=\"dataframe\">\n",
       "  <thead>\n",
       "    <tr style=\"text-align: right;\">\n",
       "      <th></th>\n",
       "      <th>id</th>\n",
       "      <th>name</th>\n",
       "      <th>email</th>\n",
       "    </tr>\n",
       "  </thead>\n",
       "  <tbody>\n",
       "    <tr>\n",
       "      <th>4</th>\n",
       "      <td>2</td>\n",
       "      <td>Bob</td>\n",
       "      <td>b@mail.com</td>\n",
       "    </tr>\n",
       "  </tbody>\n",
       "</table>\n",
       "</div>"
      ],
      "text/plain": [
       "   id name       email\n",
       "4   2  Bob  b@mail.com"
      ]
     },
     "execution_count": 3,
     "metadata": {},
     "output_type": "execute_result"
    }
   ],
   "source": [
    "# Find duplicate rows based on 'id'\n",
    "df[df.duplicated(subset='id')]"
   ]
  },
  {
   "cell_type": "code",
   "execution_count": 4,
   "id": "e803d6a3",
   "metadata": {},
   "outputs": [
    {
     "data": {
      "text/html": [
       "<div>\n",
       "<style scoped>\n",
       "    .dataframe tbody tr th:only-of-type {\n",
       "        vertical-align: middle;\n",
       "    }\n",
       "\n",
       "    .dataframe tbody tr th {\n",
       "        vertical-align: top;\n",
       "    }\n",
       "\n",
       "    .dataframe thead th {\n",
       "        text-align: right;\n",
       "    }\n",
       "</style>\n",
       "<table border=\"1\" class=\"dataframe\">\n",
       "  <thead>\n",
       "    <tr style=\"text-align: right;\">\n",
       "      <th></th>\n",
       "      <th>id</th>\n",
       "      <th>name</th>\n",
       "      <th>email</th>\n",
       "    </tr>\n",
       "  </thead>\n",
       "  <tbody>\n",
       "    <tr>\n",
       "      <th>0</th>\n",
       "      <td>1</td>\n",
       "      <td>Alice</td>\n",
       "      <td>a@mail.com</td>\n",
       "    </tr>\n",
       "    <tr>\n",
       "      <th>1</th>\n",
       "      <td>2</td>\n",
       "      <td>Bob</td>\n",
       "      <td>b@mail.com</td>\n",
       "    </tr>\n",
       "    <tr>\n",
       "      <th>2</th>\n",
       "      <td>3</td>\n",
       "      <td>Charlie</td>\n",
       "      <td>c@mail.com</td>\n",
       "    </tr>\n",
       "    <tr>\n",
       "      <th>3</th>\n",
       "      <td>4</td>\n",
       "      <td>David</td>\n",
       "      <td>d@mail.com</td>\n",
       "    </tr>\n",
       "  </tbody>\n",
       "</table>\n",
       "</div>"
      ],
      "text/plain": [
       "   id     name       email\n",
       "0   1    Alice  a@mail.com\n",
       "1   2      Bob  b@mail.com\n",
       "2   3  Charlie  c@mail.com\n",
       "3   4    David  d@mail.com"
      ]
     },
     "execution_count": 4,
     "metadata": {},
     "output_type": "execute_result"
    }
   ],
   "source": [
    "# Drop duplicates based on 'id', keep the first\n",
    "df_unique = df.drop_duplicates(subset='id', keep='first')\n",
    "df_unique"
   ]
  },
  {
   "cell_type": "markdown",
   "id": "5b526b03",
   "metadata": {},
   "source": [
    "### 🔸 Example 2: Get Unique Values and Frequencies"
   ]
  },
  {
   "cell_type": "code",
   "execution_count": 6,
   "id": "8a3b0701",
   "metadata": {},
   "outputs": [
    {
     "data": {
      "text/plain": [
       "array(['Alice', 'Bob', 'Charlie', 'David'], dtype=object)"
      ]
     },
     "execution_count": 6,
     "metadata": {},
     "output_type": "execute_result"
    }
   ],
   "source": [
    "df['name'].unique()         # ['Alice', 'Bob', 'Charlie', 'David']"
   ]
  },
  {
   "cell_type": "code",
   "execution_count": 7,
   "id": "f17b8e1f",
   "metadata": {},
   "outputs": [
    {
     "data": {
      "text/plain": [
       "4"
      ]
     },
     "execution_count": 7,
     "metadata": {},
     "output_type": "execute_result"
    }
   ],
   "source": [
    "df['name'].nunique()        # 4"
   ]
  },
  {
   "cell_type": "code",
   "execution_count": 8,
   "id": "351a3bb6",
   "metadata": {},
   "outputs": [
    {
     "data": {
      "text/plain": [
       "name\n",
       "Bob        2\n",
       "Alice      1\n",
       "Charlie    1\n",
       "David      1\n",
       "Name: count, dtype: int64"
      ]
     },
     "execution_count": 8,
     "metadata": {},
     "output_type": "execute_result"
    }
   ],
   "source": [
    "df['name'].value_counts()   # Shows counts of each name"
   ]
  },
  {
   "cell_type": "markdown",
   "id": "38e59186",
   "metadata": {},
   "source": [
    "### 🔸 Example 3: Remove Duplicates and Aggregate"
   ]
  },
  {
   "cell_type": "code",
   "execution_count": 9,
   "id": "182a95e3",
   "metadata": {},
   "outputs": [
    {
     "data": {
      "text/html": [
       "<div>\n",
       "<style scoped>\n",
       "    .dataframe tbody tr th:only-of-type {\n",
       "        vertical-align: middle;\n",
       "    }\n",
       "\n",
       "    .dataframe tbody tr th {\n",
       "        vertical-align: top;\n",
       "    }\n",
       "\n",
       "    .dataframe thead th {\n",
       "        text-align: right;\n",
       "    }\n",
       "</style>\n",
       "<table border=\"1\" class=\"dataframe\">\n",
       "  <thead>\n",
       "    <tr style=\"text-align: right;\">\n",
       "      <th></th>\n",
       "      <th>email</th>\n",
       "      <th>score</th>\n",
       "    </tr>\n",
       "  </thead>\n",
       "  <tbody>\n",
       "    <tr>\n",
       "      <th>0</th>\n",
       "      <td>x@mail.com</td>\n",
       "      <td>80</td>\n",
       "    </tr>\n",
       "    <tr>\n",
       "      <th>1</th>\n",
       "      <td>x@mail.com</td>\n",
       "      <td>90</td>\n",
       "    </tr>\n",
       "    <tr>\n",
       "      <th>2</th>\n",
       "      <td>y@mail.com</td>\n",
       "      <td>75</td>\n",
       "    </tr>\n",
       "  </tbody>\n",
       "</table>\n",
       "</div>"
      ],
      "text/plain": [
       "        email  score\n",
       "0  x@mail.com     80\n",
       "1  x@mail.com     90\n",
       "2  y@mail.com     75"
      ]
     },
     "execution_count": 9,
     "metadata": {},
     "output_type": "execute_result"
    }
   ],
   "source": [
    "df = pd.DataFrame({\n",
    "    'email': ['x@mail.com', 'x@mail.com', 'y@mail.com'],\n",
    "    'score': [80, 90, 75]\n",
    "})\n",
    "\n",
    "df"
   ]
  },
  {
   "cell_type": "code",
   "execution_count": 11,
   "id": "ca8dae8a",
   "metadata": {},
   "outputs": [
    {
     "data": {
      "text/html": [
       "<div>\n",
       "<style scoped>\n",
       "    .dataframe tbody tr th:only-of-type {\n",
       "        vertical-align: middle;\n",
       "    }\n",
       "\n",
       "    .dataframe tbody tr th {\n",
       "        vertical-align: top;\n",
       "    }\n",
       "\n",
       "    .dataframe thead th {\n",
       "        text-align: right;\n",
       "    }\n",
       "</style>\n",
       "<table border=\"1\" class=\"dataframe\">\n",
       "  <thead>\n",
       "    <tr style=\"text-align: right;\">\n",
       "      <th></th>\n",
       "      <th>email</th>\n",
       "      <th>score</th>\n",
       "    </tr>\n",
       "  </thead>\n",
       "  <tbody>\n",
       "    <tr>\n",
       "      <th>0</th>\n",
       "      <td>x@mail.com</td>\n",
       "      <td>90</td>\n",
       "    </tr>\n",
       "    <tr>\n",
       "      <th>1</th>\n",
       "      <td>y@mail.com</td>\n",
       "      <td>75</td>\n",
       "    </tr>\n",
       "  </tbody>\n",
       "</table>\n",
       "</div>"
      ],
      "text/plain": [
       "        email  score\n",
       "0  x@mail.com     90\n",
       "1  y@mail.com     75"
      ]
     },
     "execution_count": 11,
     "metadata": {},
     "output_type": "execute_result"
    }
   ],
   "source": [
    "# Keep only the highest score per email\n",
    "df_clean = df.groupby('email', as_index=False)['score'].max()\n",
    "df_clean"
   ]
  },
  {
   "cell_type": "markdown",
   "id": "0b02573d",
   "metadata": {},
   "source": [
    "## 🌍 6. Real-World Use Cases\n",
    "\n",
    "| Scenario                    | Application                                                       |\n",
    "| --------------------------- | ----------------------------------------------------------------- |\n",
    "| **Customer database**       | Remove duplicate customers based on email or phone number         |\n",
    "| **Merging datasets**        | After merging, drop rows with duplicate IDs                       |\n",
    "| **E-commerce transactions** | Eliminate repeated transactions                                   |\n",
    "| **Surveys**                 | Remove repeated entries from the same respondent                  |\n",
    "| **Sensor readings**         | Deduplicate records based on timestamp and sensor ID              |\n",
    "| **Marketing leads**         | Use `drop_duplicates(subset='email')` to get distinct prospects   |\n",
    "| **Job portal**              | Remove multiple applications from the same user for the same role |\n"
   ]
  },
  {
   "cell_type": "markdown",
   "id": "e4d0a2a3",
   "metadata": {},
   "source": [
    "## ✅ Summary Table\n",
    "\n",
    "| Task                   | Function            |\n",
    "| ---------------------- | ------------------- |\n",
    "| Detect duplicates      | `duplicated()`      |\n",
    "| Remove duplicates      | `drop_duplicates()` |\n",
    "| Count unique values    | `nunique()`         |\n",
    "| List unique values     | `unique()`          |\n",
    "| Count frequency        | `value_counts()`    |\n",
    "| Deduplicate with logic | `groupby().agg()`   |\n"
   ]
  },
  {
   "cell_type": "markdown",
   "id": "6d8a404e",
   "metadata": {},
   "source": [
    "<center><b>Thanks</b></center>"
   ]
  }
 ],
 "metadata": {
  "kernelspec": {
   "display_name": "venv",
   "language": "python",
   "name": "python3"
  },
  "language_info": {
   "codemirror_mode": {
    "name": "ipython",
    "version": 3
   },
   "file_extension": ".py",
   "mimetype": "text/x-python",
   "name": "python",
   "nbconvert_exporter": "python",
   "pygments_lexer": "ipython3",
   "version": "3.10.2"
  }
 },
 "nbformat": 4,
 "nbformat_minor": 5
}
