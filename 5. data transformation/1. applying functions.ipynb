{
 "cells": [
  {
   "cell_type": "markdown",
   "id": "7601da5e",
   "metadata": {},
   "source": [
    "# **Data Transformation**"
   ]
  },
  {
   "cell_type": "markdown",
   "id": "6be74098",
   "metadata": {},
   "source": [
    "## **1. Applying Functions**"
   ]
  },
  {
   "cell_type": "code",
   "execution_count": 11,
   "id": "97a56558",
   "metadata": {},
   "outputs": [],
   "source": [
    "import numpy as np \n",
    "import pandas as pd "
   ]
  },
  {
   "cell_type": "markdown",
   "id": "54f0758a",
   "metadata": {},
   "source": [
    "## 1. 🧠 What It Does & When to Use It\n",
    "\n",
    "### 📌 What?\n",
    "\n",
    "“Applying functions” means executing **a custom or predefined function** to transform data in:\n",
    "\n",
    "* a **column (Series)**,\n",
    "* a **row**, or\n",
    "* **entire DataFrame**.\n",
    "\n",
    "This enables **custom transformations**, **data cleanup**, **feature engineering**, or applying **complex logic** that built-in functions can’t handle.\n",
    "\n",
    "\n",
    "### 🎯 When to Use?\n",
    "\n",
    "Use applying functions when:\n",
    "\n",
    "* You need **custom logic** for transformation (e.g., classifying age groups)\n",
    "* Vectorized methods are **not expressive enough**\n",
    "* You want to **apply row-wise or column-wise** operations\n",
    "* You need to **scale/modify/clean** values\n"
   ]
  },
  {
   "cell_type": "markdown",
   "id": "a04f12d4",
   "metadata": {},
   "source": [
    "## 2. 🧾 Syntax & Core Parameters\n",
    "\n",
    "There are **3 key pandas methods** for applying functions:\n",
    "\n",
    "| Method                 | Used On     | Axis                             | Purpose                             |\n",
    "| ---------------------- | ----------- | -------------------------------- | ----------------------------------- |\n",
    "| `Series.map()`         | `Series`    | N/A                              | Element-wise transformation         |\n",
    "| `DataFrame.apply()`    | `DataFrame` | `axis=0` (cols), `axis=1` (rows) | Row/col-wise transformation         |\n",
    "| `DataFrame.applymap()` | `DataFrame` | Element-wise                     | Apply function to every single cell |\n",
    "\n",
    "---\n",
    "\n",
    "### 🔹 Basic Syntax\n",
    "\n",
    "```python\n",
    "# 1. Series.map()\n",
    "series.map(function)\n",
    "\n",
    "# 2. DataFrame.apply()\n",
    "df.apply(function, axis=0 or 1)\n",
    "\n",
    "# 3. DataFrame.applymap()\n",
    "df.applymap(function)\n",
    "```\n"
   ]
  },
  {
   "cell_type": "markdown",
   "id": "9ab66113",
   "metadata": {},
   "source": [
    "## 3. 🧰 Different Methods & Techniques\n",
    "\n",
    "### 🔸 1. `Series.map()`\n",
    "\n",
    "* Used only on Series\n",
    "* Performs **element-wise** transformation\n",
    "\n",
    "```python\n",
    "df['col'].map(lambda x: x*2)\n",
    "```\n",
    "\n",
    "🔹 You can also pass:\n",
    "\n",
    "* A function\n",
    "* A dictionary (for mapping values)\n",
    "* A Series\n",
    "\n",
    "### 🔸 2. `DataFrame.apply()`\n",
    "\n",
    "* Works on **entire rows or columns**\n",
    "* Supports **row-wise** (`axis=1`) and **column-wise** (`axis=0`) operations\n",
    "\n",
    "```python\n",
    "df.apply(lambda row: row['A'] + row['B'], axis=1)\n",
    "```\n",
    "\n",
    "Can be used to:\n",
    "\n",
    "* Compute values based on multiple columns\n",
    "* Aggregate or transform across rows/columns\n",
    "\n",
    "\n",
    "\n",
    "### 🔸 3. `DataFrame.applymap()`\n",
    "\n",
    "* Use when you want to **modify every single cell** in a DataFrame\n",
    "\n",
    "```python\n",
    "df.applymap(lambda x: str(x).upper() if type(x)==str else x)\n",
    "```\n",
    "\n",
    "⚠️ Only works on DataFrames, not Series.\n"
   ]
  },
  {
   "cell_type": "markdown",
   "id": "2e2a5371",
   "metadata": {},
   "source": [
    "## 4. ⚠️ Common Pitfalls & Best Practices\n",
    "\n",
    "### ❌ Pitfalls\n",
    "\n",
    "* **Performance**: `apply`, `map`, and `applymap` are **slower** than vectorized operations. Use only when vectorized logic isn't sufficient.\n",
    "* Using `applymap` unnecessarily when `map` or `apply` would be more efficient.\n",
    "* Misunderstanding `axis`:\n",
    "\n",
    "  * `axis=0` → column-wise\n",
    "  * `axis=1` → row-wise\n",
    "* Returning incorrect format (e.g., returning a list instead of a scalar value inside `apply`)"
   ]
  },
  {
   "cell_type": "markdown",
   "id": "e9c54e37",
   "metadata": {},
   "source": [
    "### ✅ Best Practices\n",
    "\n",
    "* Prefer **vectorized operations** first, then `map/apply` if necessary.\n",
    "* Use **`map()`** for single column (Series) transformation.\n",
    "* Use **`apply()`** with `axis=1` for row-wise custom logic.\n",
    "* Use **`applymap()`** only when every cell needs the same operation.\n",
    "* Profile your code with `%timeit` if you're processing large data.\n"
   ]
  },
  {
   "cell_type": "markdown",
   "id": "54d03534",
   "metadata": {},
   "source": [
    "## 5. 🧪 Examples on Real/Pseudo Data\n",
    "\n",
    "Let’s use a small DataFrame:"
   ]
  },
  {
   "cell_type": "code",
   "execution_count": 12,
   "id": "b0843405",
   "metadata": {},
   "outputs": [
    {
     "data": {
      "text/html": [
       "<div>\n",
       "<style scoped>\n",
       "    .dataframe tbody tr th:only-of-type {\n",
       "        vertical-align: middle;\n",
       "    }\n",
       "\n",
       "    .dataframe tbody tr th {\n",
       "        vertical-align: top;\n",
       "    }\n",
       "\n",
       "    .dataframe thead th {\n",
       "        text-align: right;\n",
       "    }\n",
       "</style>\n",
       "<table border=\"1\" class=\"dataframe\">\n",
       "  <thead>\n",
       "    <tr style=\"text-align: right;\">\n",
       "      <th></th>\n",
       "      <th>name</th>\n",
       "      <th>age</th>\n",
       "      <th>salary</th>\n",
       "    </tr>\n",
       "  </thead>\n",
       "  <tbody>\n",
       "    <tr>\n",
       "      <th>0</th>\n",
       "      <td>Alice</td>\n",
       "      <td>25</td>\n",
       "      <td>50000</td>\n",
       "    </tr>\n",
       "    <tr>\n",
       "      <th>1</th>\n",
       "      <td>Bob</td>\n",
       "      <td>32</td>\n",
       "      <td>60000</td>\n",
       "    </tr>\n",
       "    <tr>\n",
       "      <th>2</th>\n",
       "      <td>Charlie</td>\n",
       "      <td>37</td>\n",
       "      <td>80000</td>\n",
       "    </tr>\n",
       "  </tbody>\n",
       "</table>\n",
       "</div>"
      ],
      "text/plain": [
       "      name  age  salary\n",
       "0    Alice   25   50000\n",
       "1      Bob   32   60000\n",
       "2  Charlie   37   80000"
      ]
     },
     "execution_count": 12,
     "metadata": {},
     "output_type": "execute_result"
    }
   ],
   "source": [
    "data = {\n",
    "    'name': ['Alice', 'Bob', 'Charlie'],\n",
    "    'age': [25, 32, 37],\n",
    "    'salary': [50000, 60000, 80000]\n",
    "}\n",
    "df = pd.DataFrame(data)\n",
    "\n",
    "df"
   ]
  },
  {
   "cell_type": "markdown",
   "id": "c639bc39",
   "metadata": {},
   "source": [
    "### ▶️ `map()` Example"
   ]
  },
  {
   "cell_type": "code",
   "execution_count": 13,
   "id": "0f8cd3f5",
   "metadata": {},
   "outputs": [
    {
     "data": {
      "text/html": [
       "<div>\n",
       "<style scoped>\n",
       "    .dataframe tbody tr th:only-of-type {\n",
       "        vertical-align: middle;\n",
       "    }\n",
       "\n",
       "    .dataframe tbody tr th {\n",
       "        vertical-align: top;\n",
       "    }\n",
       "\n",
       "    .dataframe thead th {\n",
       "        text-align: right;\n",
       "    }\n",
       "</style>\n",
       "<table border=\"1\" class=\"dataframe\">\n",
       "  <thead>\n",
       "    <tr style=\"text-align: right;\">\n",
       "      <th></th>\n",
       "      <th>name</th>\n",
       "      <th>age</th>\n",
       "      <th>salary</th>\n",
       "    </tr>\n",
       "  </thead>\n",
       "  <tbody>\n",
       "    <tr>\n",
       "      <th>0</th>\n",
       "      <td>ALICE</td>\n",
       "      <td>25</td>\n",
       "      <td>50000</td>\n",
       "    </tr>\n",
       "    <tr>\n",
       "      <th>1</th>\n",
       "      <td>BOB</td>\n",
       "      <td>32</td>\n",
       "      <td>60000</td>\n",
       "    </tr>\n",
       "    <tr>\n",
       "      <th>2</th>\n",
       "      <td>CHARLIE</td>\n",
       "      <td>37</td>\n",
       "      <td>80000</td>\n",
       "    </tr>\n",
       "  </tbody>\n",
       "</table>\n",
       "</div>"
      ],
      "text/plain": [
       "      name  age  salary\n",
       "0    ALICE   25   50000\n",
       "1      BOB   32   60000\n",
       "2  CHARLIE   37   80000"
      ]
     },
     "execution_count": 13,
     "metadata": {},
     "output_type": "execute_result"
    }
   ],
   "source": [
    "# Convert names to uppercase\n",
    "df['name'] = df['name'].map(str.upper)\n",
    "df"
   ]
  },
  {
   "cell_type": "markdown",
   "id": "7de3eadf",
   "metadata": {},
   "source": [
    "### ▶️ `apply()` Column-wise Example"
   ]
  },
  {
   "cell_type": "code",
   "execution_count": 14,
   "id": "671c0522",
   "metadata": {},
   "outputs": [
    {
     "data": {
      "text/plain": [
       "name      CHARLIE\n",
       "age            37\n",
       "salary      80000\n",
       "dtype: object"
      ]
     },
     "execution_count": 14,
     "metadata": {},
     "output_type": "execute_result"
    }
   ],
   "source": [
    "# Find max of each column\n",
    "df.apply(max, axis=0)"
   ]
  },
  {
   "cell_type": "markdown",
   "id": "9ff3edb6",
   "metadata": {},
   "source": [
    "### ▶️ `apply()` Row-wise Example"
   ]
  },
  {
   "cell_type": "code",
   "execution_count": 15,
   "id": "bc1db842",
   "metadata": {},
   "outputs": [
    {
     "data": {
      "text/html": [
       "<div>\n",
       "<style scoped>\n",
       "    .dataframe tbody tr th:only-of-type {\n",
       "        vertical-align: middle;\n",
       "    }\n",
       "\n",
       "    .dataframe tbody tr th {\n",
       "        vertical-align: top;\n",
       "    }\n",
       "\n",
       "    .dataframe thead th {\n",
       "        text-align: right;\n",
       "    }\n",
       "</style>\n",
       "<table border=\"1\" class=\"dataframe\">\n",
       "  <thead>\n",
       "    <tr style=\"text-align: right;\">\n",
       "      <th></th>\n",
       "      <th>name</th>\n",
       "      <th>age</th>\n",
       "      <th>salary</th>\n",
       "      <th>senior</th>\n",
       "    </tr>\n",
       "  </thead>\n",
       "  <tbody>\n",
       "    <tr>\n",
       "      <th>0</th>\n",
       "      <td>ALICE</td>\n",
       "      <td>25</td>\n",
       "      <td>50000</td>\n",
       "      <td>NO</td>\n",
       "    </tr>\n",
       "    <tr>\n",
       "      <th>1</th>\n",
       "      <td>BOB</td>\n",
       "      <td>32</td>\n",
       "      <td>60000</td>\n",
       "      <td>YES</td>\n",
       "    </tr>\n",
       "    <tr>\n",
       "      <th>2</th>\n",
       "      <td>CHARLIE</td>\n",
       "      <td>37</td>\n",
       "      <td>80000</td>\n",
       "      <td>YES</td>\n",
       "    </tr>\n",
       "  </tbody>\n",
       "</table>\n",
       "</div>"
      ],
      "text/plain": [
       "      name  age  salary senior\n",
       "0    ALICE   25   50000     NO\n",
       "1      BOB   32   60000    YES\n",
       "2  CHARLIE   37   80000    YES"
      ]
     },
     "execution_count": 15,
     "metadata": {},
     "output_type": "execute_result"
    }
   ],
   "source": [
    "# Create a new column 'senior' based on age\n",
    "\n",
    "df['senior'] = df.apply(lambda row: 'YES' if row['age'] > 30 else 'NO', axis=1)\n",
    "df"
   ]
  },
  {
   "cell_type": "markdown",
   "id": "97eb932c",
   "metadata": {},
   "source": [
    "### ▶️ `applymap()` Example"
   ]
  },
  {
   "cell_type": "code",
   "execution_count": 16,
   "id": "bab4ae64",
   "metadata": {},
   "outputs": [
    {
     "name": "stderr",
     "output_type": "stream",
     "text": [
      "C:\\Users\\mahes\\AppData\\Local\\Temp\\ipykernel_16520\\1719585172.py:2: FutureWarning: DataFrame.applymap has been deprecated. Use DataFrame.map instead.\n",
      "  df[['salary']] = df[['salary']].applymap(lambda cell: f\"₹{cell}\")\n"
     ]
    },
    {
     "data": {
      "text/html": [
       "<div>\n",
       "<style scoped>\n",
       "    .dataframe tbody tr th:only-of-type {\n",
       "        vertical-align: middle;\n",
       "    }\n",
       "\n",
       "    .dataframe tbody tr th {\n",
       "        vertical-align: top;\n",
       "    }\n",
       "\n",
       "    .dataframe thead th {\n",
       "        text-align: right;\n",
       "    }\n",
       "</style>\n",
       "<table border=\"1\" class=\"dataframe\">\n",
       "  <thead>\n",
       "    <tr style=\"text-align: right;\">\n",
       "      <th></th>\n",
       "      <th>name</th>\n",
       "      <th>age</th>\n",
       "      <th>salary</th>\n",
       "      <th>senior</th>\n",
       "    </tr>\n",
       "  </thead>\n",
       "  <tbody>\n",
       "    <tr>\n",
       "      <th>0</th>\n",
       "      <td>ALICE</td>\n",
       "      <td>25</td>\n",
       "      <td>₹50000</td>\n",
       "      <td>NO</td>\n",
       "    </tr>\n",
       "    <tr>\n",
       "      <th>1</th>\n",
       "      <td>BOB</td>\n",
       "      <td>32</td>\n",
       "      <td>₹60000</td>\n",
       "      <td>YES</td>\n",
       "    </tr>\n",
       "    <tr>\n",
       "      <th>2</th>\n",
       "      <td>CHARLIE</td>\n",
       "      <td>37</td>\n",
       "      <td>₹80000</td>\n",
       "      <td>YES</td>\n",
       "    </tr>\n",
       "  </tbody>\n",
       "</table>\n",
       "</div>"
      ],
      "text/plain": [
       "      name  age  salary senior\n",
       "0    ALICE   25  ₹50000     NO\n",
       "1      BOB   32  ₹60000    YES\n",
       "2  CHARLIE   37  ₹80000    YES"
      ]
     },
     "execution_count": 16,
     "metadata": {},
     "output_type": "execute_result"
    }
   ],
   "source": [
    "# Add ₹ to all numeric cells\n",
    "df[['salary']] = df[['salary']].applymap(lambda cell: f\"₹{cell}\")\n",
    "df"
   ]
  },
  {
   "cell_type": "markdown",
   "id": "e7c53f82",
   "metadata": {},
   "source": [
    "\n",
    "## 6. 🌍 Real-World Use Cases\n",
    "\n",
    "### 📦 E-commerce\n",
    "\n",
    "* **Apply discount** dynamically to each item:\n",
    "\n",
    "  ```python\n",
    "  df['final_price'] = df['price'].apply(lambda x: x*0.9 if x > 1000 else x)\n",
    "  ```\n",
    "\n",
    "### 🧾 Finance\n",
    "\n",
    "* **Classify salary slabs**:\n",
    "\n",
    "  ```python\n",
    "  df['slab'] = df['salary'].apply(lambda x: 'High' if x > 70000 else 'Medium' if x > 50000 else 'Low')\n",
    "  ```\n",
    "\n",
    "### 📊 HR Analytics\n",
    "\n",
    "* Combine age and salary to create a **risk factor**:\n",
    "\n",
    "  ```python\n",
    "  df['risk'] = df.apply(lambda row: (row['age'] / row['salary']) * 1000, axis=1)\n",
    "  ```"
   ]
  },
  {
   "cell_type": "markdown",
   "id": "ba7cf1ad",
   "metadata": {},
   "source": [
    "## 📌 Summary Table\n",
    "\n",
    "| Method       | Scope            | Use Case Example                        |\n",
    "| ------------ | ---------------- | --------------------------------------- |\n",
    "| `map()`      | Series (column)  | Format strings, map values              |\n",
    "| `apply()`    | Row/column       | Combine columns, apply row logic        |\n",
    "| `applymap()` | Entire DataFrame | Format all cells, apply function to all |\n"
   ]
  },
  {
   "cell_type": "markdown",
   "id": "633e6e28",
   "metadata": {},
   "source": [
    "<center><b>Thanks</b></center>"
   ]
  }
 ],
 "metadata": {
  "kernelspec": {
   "display_name": "venv",
   "language": "python",
   "name": "python3"
  },
  "language_info": {
   "codemirror_mode": {
    "name": "ipython",
    "version": 3
   },
   "file_extension": ".py",
   "mimetype": "text/x-python",
   "name": "python",
   "nbconvert_exporter": "python",
   "pygments_lexer": "ipython3",
   "version": "3.10.2"
  }
 },
 "nbformat": 4,
 "nbformat_minor": 5
}
