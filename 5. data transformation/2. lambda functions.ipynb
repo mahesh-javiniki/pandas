{
 "cells": [
  {
   "cell_type": "markdown",
   "id": "3e74efb3",
   "metadata": {},
   "source": [
    "# **Data Transformation**"
   ]
  },
  {
   "cell_type": "markdown",
   "id": "c25b66b4",
   "metadata": {},
   "source": [
    "## **2. Lambda Functions**"
   ]
  },
  {
   "cell_type": "code",
   "execution_count": 1,
   "id": "d3276ffb",
   "metadata": {},
   "outputs": [],
   "source": [
    "import numpy as np \n",
    "import pandas as pd "
   ]
  },
  {
   "cell_type": "markdown",
   "id": "4c1c510a",
   "metadata": {},
   "source": [
    "\n",
    "## 1. 🧠 What It Does & When to Use It\n",
    "\n",
    "### 📌 What?\n",
    "\n",
    "A **lambda function** is an **anonymous**, **inline function** defined using the `lambda` keyword. It is used to **apply simple operations** without defining a named function.\n",
    "\n",
    "In pandas, lambda functions are commonly used with:\n",
    "\n",
    "* `apply()`\n",
    "* `map()`\n",
    "* `applymap()`\n",
    "* `groupby().apply()`\n",
    "\n",
    "They allow **quick, custom, and often one-time-use logic** for transforming data.\n",
    "\n",
    "---\n",
    "\n",
    "### 🎯 When to Use?\n",
    "\n",
    "Use lambda functions when:\n",
    "\n",
    "* You want to **apply a short, simple logic** on the fly\n",
    "* You **don’t need to reuse the function**\n",
    "* You want to **write concise and readable code** during data transformation\n",
    "* You're working with **custom conditional logic**\n"
   ]
  },
  {
   "cell_type": "markdown",
   "id": "da45236c",
   "metadata": {},
   "source": [
    "## 2. 🧾 Syntax & Core Parameters\n",
    "\n",
    "### 🔹 Basic Syntax\n",
    "\n",
    "```python\n",
    "lambda arguments: expression\n",
    "```\n",
    "\n",
    "* No `def` or return statement needed\n",
    "* Can have multiple parameters (but typically 1 in pandas use cases)\n",
    "* Usually paired with `apply()`/`map()` in pandas\n",
    "\n",
    "---\n",
    "\n",
    "### 🔸 Example:\n",
    "\n",
    "```python\n",
    "lambda x: x * 2\n",
    "```\n",
    "\n",
    "Can be used like:\n",
    "\n",
    "```python\n",
    "df['col'].apply(lambda x: x * 2)\n",
    "```\n"
   ]
  },
  {
   "cell_type": "markdown",
   "id": "eb0d7121",
   "metadata": {},
   "source": [
    "## 3. 🧰 Methods & Techniques\n",
    "\n",
    "Lambda functions are most often used in pandas with:\n",
    "\n",
    "### 🔹 A. `Series.map()` with lambda\n",
    "\n",
    "```python\n",
    "df['name'].map(lambda x: x.upper())\n",
    "```\n",
    "\n",
    "---\n",
    "\n",
    "### 🔹 B. `DataFrame.apply()` with lambda\n",
    "\n",
    "#### Column-wise:\n",
    "\n",
    "```python\n",
    "df.apply(lambda col: col.mean(), axis=0)\n",
    "```\n",
    "\n",
    "#### Row-wise:\n",
    "\n",
    "```python\n",
    "df.apply(lambda row: row['A'] + row['B'], axis=1)\n",
    "```\n",
    "\n",
    "---\n",
    "\n",
    "### 🔹 C. Conditional assignment with lambda\n",
    "\n",
    "```python\n",
    "df['status'] = df['age'].apply(lambda x: 'Senior' if x > 60 else 'Adult')\n",
    "```\n",
    "\n",
    "---\n",
    "\n",
    "### 🔹 D. Lambda with `groupby().apply()`\n",
    "\n",
    "```python\n",
    "df.groupby('gender')['salary'].apply(lambda x: x.mean())\n",
    "```\n"
   ]
  },
  {
   "cell_type": "markdown",
   "id": "693824ec",
   "metadata": {},
   "source": [
    "## 4. ⚠️ Common Pitfalls & Best Practices\n",
    "\n",
    "### ❌ Pitfalls\n",
    "\n",
    "| Problem             | Explanation                                                                |\n",
    "| ------------------- | -------------------------------------------------------------------------- |\n",
    "| Overusing lambdas   | For complex logic, lambdas become unreadable. Use named functions instead. |\n",
    "| Performance         | Lambda + `apply()` is slower than vectorized ops.                          |\n",
    "| Forgetting `axis=1` | For row-wise `apply`, forgetting `axis=1` leads to errors.                 |\n",
    "| Using side effects  | Avoid print/logging inside lambdas—they're meant to return values.         |\n",
    "\n",
    "### ✅ Best Practices\n",
    "\n",
    "* Use lambdas for **short** and **simple expressions**\n",
    "* Prefer **vectorized operations** where possible\n",
    "* Use **named functions** if logic exceeds 1–2 lines\n",
    "* Comment lambdas if their intent isn’t obvious\n"
   ]
  },
  {
   "cell_type": "markdown",
   "id": "c541d6bd",
   "metadata": {},
   "source": [
    "## 5. 🧪 Examples on Real/Pseudo Data\n",
    "\n",
    "Let's use the same sample DataFrame:"
   ]
  },
  {
   "cell_type": "code",
   "execution_count": 2,
   "id": "11b590d8",
   "metadata": {},
   "outputs": [
    {
     "data": {
      "text/html": [
       "<div>\n",
       "<style scoped>\n",
       "    .dataframe tbody tr th:only-of-type {\n",
       "        vertical-align: middle;\n",
       "    }\n",
       "\n",
       "    .dataframe tbody tr th {\n",
       "        vertical-align: top;\n",
       "    }\n",
       "\n",
       "    .dataframe thead th {\n",
       "        text-align: right;\n",
       "    }\n",
       "</style>\n",
       "<table border=\"1\" class=\"dataframe\">\n",
       "  <thead>\n",
       "    <tr style=\"text-align: right;\">\n",
       "      <th></th>\n",
       "      <th>name</th>\n",
       "      <th>age</th>\n",
       "      <th>salary</th>\n",
       "    </tr>\n",
       "  </thead>\n",
       "  <tbody>\n",
       "    <tr>\n",
       "      <th>0</th>\n",
       "      <td>Alice</td>\n",
       "      <td>25</td>\n",
       "      <td>50000</td>\n",
       "    </tr>\n",
       "    <tr>\n",
       "      <th>1</th>\n",
       "      <td>Bob</td>\n",
       "      <td>32</td>\n",
       "      <td>60000</td>\n",
       "    </tr>\n",
       "    <tr>\n",
       "      <th>2</th>\n",
       "      <td>Charlie</td>\n",
       "      <td>67</td>\n",
       "      <td>80000</td>\n",
       "    </tr>\n",
       "  </tbody>\n",
       "</table>\n",
       "</div>"
      ],
      "text/plain": [
       "      name  age  salary\n",
       "0    Alice   25   50000\n",
       "1      Bob   32   60000\n",
       "2  Charlie   67   80000"
      ]
     },
     "execution_count": 2,
     "metadata": {},
     "output_type": "execute_result"
    }
   ],
   "source": [
    "data = {\n",
    "    'name': ['Alice', 'Bob', 'Charlie'],\n",
    "    'age': [25, 32, 67],\n",
    "    'salary': [50000, 60000, 80000]\n",
    "}\n",
    "df = pd.DataFrame(data)\n",
    "\n",
    "df"
   ]
  },
  {
   "cell_type": "markdown",
   "id": "df396cc7",
   "metadata": {},
   "source": [
    "### ▶️ 1. Simple Transformation"
   ]
  },
  {
   "cell_type": "code",
   "execution_count": 3,
   "id": "7f294296",
   "metadata": {},
   "outputs": [
    {
     "data": {
      "text/html": [
       "<div>\n",
       "<style scoped>\n",
       "    .dataframe tbody tr th:only-of-type {\n",
       "        vertical-align: middle;\n",
       "    }\n",
       "\n",
       "    .dataframe tbody tr th {\n",
       "        vertical-align: top;\n",
       "    }\n",
       "\n",
       "    .dataframe thead th {\n",
       "        text-align: right;\n",
       "    }\n",
       "</style>\n",
       "<table border=\"1\" class=\"dataframe\">\n",
       "  <thead>\n",
       "    <tr style=\"text-align: right;\">\n",
       "      <th></th>\n",
       "      <th>name</th>\n",
       "      <th>age</th>\n",
       "      <th>salary</th>\n",
       "      <th>salary_double</th>\n",
       "    </tr>\n",
       "  </thead>\n",
       "  <tbody>\n",
       "    <tr>\n",
       "      <th>0</th>\n",
       "      <td>Alice</td>\n",
       "      <td>25</td>\n",
       "      <td>50000</td>\n",
       "      <td>100000</td>\n",
       "    </tr>\n",
       "    <tr>\n",
       "      <th>1</th>\n",
       "      <td>Bob</td>\n",
       "      <td>32</td>\n",
       "      <td>60000</td>\n",
       "      <td>120000</td>\n",
       "    </tr>\n",
       "    <tr>\n",
       "      <th>2</th>\n",
       "      <td>Charlie</td>\n",
       "      <td>67</td>\n",
       "      <td>80000</td>\n",
       "      <td>160000</td>\n",
       "    </tr>\n",
       "  </tbody>\n",
       "</table>\n",
       "</div>"
      ],
      "text/plain": [
       "      name  age  salary  salary_double\n",
       "0    Alice   25   50000         100000\n",
       "1      Bob   32   60000         120000\n",
       "2  Charlie   67   80000         160000"
      ]
     },
     "execution_count": 3,
     "metadata": {},
     "output_type": "execute_result"
    }
   ],
   "source": [
    "# Double the salary\n",
    "df['salary_double'] = df['salary'].apply(lambda row: row * 2)\n",
    "df"
   ]
  },
  {
   "cell_type": "markdown",
   "id": "dff17f3f",
   "metadata": {},
   "source": [
    "### ▶️ 2. Conditional Labeling"
   ]
  },
  {
   "cell_type": "code",
   "execution_count": 4,
   "id": "9a871608",
   "metadata": {},
   "outputs": [
    {
     "data": {
      "text/html": [
       "<div>\n",
       "<style scoped>\n",
       "    .dataframe tbody tr th:only-of-type {\n",
       "        vertical-align: middle;\n",
       "    }\n",
       "\n",
       "    .dataframe tbody tr th {\n",
       "        vertical-align: top;\n",
       "    }\n",
       "\n",
       "    .dataframe thead th {\n",
       "        text-align: right;\n",
       "    }\n",
       "</style>\n",
       "<table border=\"1\" class=\"dataframe\">\n",
       "  <thead>\n",
       "    <tr style=\"text-align: right;\">\n",
       "      <th></th>\n",
       "      <th>name</th>\n",
       "      <th>age</th>\n",
       "      <th>salary</th>\n",
       "      <th>salary_double</th>\n",
       "      <th>is_senior</th>\n",
       "    </tr>\n",
       "  </thead>\n",
       "  <tbody>\n",
       "    <tr>\n",
       "      <th>0</th>\n",
       "      <td>Alice</td>\n",
       "      <td>25</td>\n",
       "      <td>50000</td>\n",
       "      <td>100000</td>\n",
       "      <td>False</td>\n",
       "    </tr>\n",
       "    <tr>\n",
       "      <th>1</th>\n",
       "      <td>Bob</td>\n",
       "      <td>32</td>\n",
       "      <td>60000</td>\n",
       "      <td>120000</td>\n",
       "      <td>False</td>\n",
       "    </tr>\n",
       "    <tr>\n",
       "      <th>2</th>\n",
       "      <td>Charlie</td>\n",
       "      <td>67</td>\n",
       "      <td>80000</td>\n",
       "      <td>160000</td>\n",
       "      <td>True</td>\n",
       "    </tr>\n",
       "  </tbody>\n",
       "</table>\n",
       "</div>"
      ],
      "text/plain": [
       "      name  age  salary  salary_double  is_senior\n",
       "0    Alice   25   50000         100000      False\n",
       "1      Bob   32   60000         120000      False\n",
       "2  Charlie   67   80000         160000       True"
      ]
     },
     "execution_count": 4,
     "metadata": {},
     "output_type": "execute_result"
    }
   ],
   "source": [
    "# Tag people as 'Senior' if age > 60\n",
    "df['is_senior'] = df['age'].apply(lambda row: True if row > 60 else False)\n",
    "df"
   ]
  },
  {
   "cell_type": "markdown",
   "id": "b18a3dd9",
   "metadata": {},
   "source": [
    "### ▶️ 3. Row-wise Operation with Multiple Columns"
   ]
  },
  {
   "cell_type": "code",
   "execution_count": 5,
   "id": "9611056c",
   "metadata": {},
   "outputs": [
    {
     "data": {
      "text/html": [
       "<div>\n",
       "<style scoped>\n",
       "    .dataframe tbody tr th:only-of-type {\n",
       "        vertical-align: middle;\n",
       "    }\n",
       "\n",
       "    .dataframe tbody tr th {\n",
       "        vertical-align: top;\n",
       "    }\n",
       "\n",
       "    .dataframe thead th {\n",
       "        text-align: right;\n",
       "    }\n",
       "</style>\n",
       "<table border=\"1\" class=\"dataframe\">\n",
       "  <thead>\n",
       "    <tr style=\"text-align: right;\">\n",
       "      <th></th>\n",
       "      <th>name</th>\n",
       "      <th>age</th>\n",
       "      <th>salary</th>\n",
       "      <th>salary_double</th>\n",
       "      <th>is_senior</th>\n",
       "      <th>income_ratio</th>\n",
       "    </tr>\n",
       "  </thead>\n",
       "  <tbody>\n",
       "    <tr>\n",
       "      <th>0</th>\n",
       "      <td>Alice</td>\n",
       "      <td>25</td>\n",
       "      <td>50000</td>\n",
       "      <td>100000</td>\n",
       "      <td>False</td>\n",
       "      <td>2000.000000</td>\n",
       "    </tr>\n",
       "    <tr>\n",
       "      <th>1</th>\n",
       "      <td>Bob</td>\n",
       "      <td>32</td>\n",
       "      <td>60000</td>\n",
       "      <td>120000</td>\n",
       "      <td>False</td>\n",
       "      <td>1875.000000</td>\n",
       "    </tr>\n",
       "    <tr>\n",
       "      <th>2</th>\n",
       "      <td>Charlie</td>\n",
       "      <td>67</td>\n",
       "      <td>80000</td>\n",
       "      <td>160000</td>\n",
       "      <td>True</td>\n",
       "      <td>1194.029851</td>\n",
       "    </tr>\n",
       "  </tbody>\n",
       "</table>\n",
       "</div>"
      ],
      "text/plain": [
       "      name  age  salary  salary_double  is_senior  income_ratio\n",
       "0    Alice   25   50000         100000      False   2000.000000\n",
       "1      Bob   32   60000         120000      False   1875.000000\n",
       "2  Charlie   67   80000         160000       True   1194.029851"
      ]
     },
     "execution_count": 5,
     "metadata": {},
     "output_type": "execute_result"
    }
   ],
   "source": [
    "# Calculate income-to-age ratio\n",
    "df['income_ratio'] = df.apply(lambda row: row['salary']/row['age'], axis=1)\n",
    "df"
   ]
  },
  {
   "cell_type": "markdown",
   "id": "95b83094",
   "metadata": {},
   "source": [
    "### ▶️ 4. String Cleaning"
   ]
  },
  {
   "cell_type": "code",
   "execution_count": 6,
   "id": "75006391",
   "metadata": {},
   "outputs": [
    {
     "data": {
      "text/html": [
       "<div>\n",
       "<style scoped>\n",
       "    .dataframe tbody tr th:only-of-type {\n",
       "        vertical-align: middle;\n",
       "    }\n",
       "\n",
       "    .dataframe tbody tr th {\n",
       "        vertical-align: top;\n",
       "    }\n",
       "\n",
       "    .dataframe thead th {\n",
       "        text-align: right;\n",
       "    }\n",
       "</style>\n",
       "<table border=\"1\" class=\"dataframe\">\n",
       "  <thead>\n",
       "    <tr style=\"text-align: right;\">\n",
       "      <th></th>\n",
       "      <th>name</th>\n",
       "      <th>age</th>\n",
       "      <th>salary</th>\n",
       "      <th>salary_double</th>\n",
       "      <th>is_senior</th>\n",
       "      <th>income_ratio</th>\n",
       "      <th>name_upper</th>\n",
       "    </tr>\n",
       "  </thead>\n",
       "  <tbody>\n",
       "    <tr>\n",
       "      <th>0</th>\n",
       "      <td>Alice</td>\n",
       "      <td>25</td>\n",
       "      <td>50000</td>\n",
       "      <td>100000</td>\n",
       "      <td>False</td>\n",
       "      <td>2000.000000</td>\n",
       "      <td>ALICE</td>\n",
       "    </tr>\n",
       "    <tr>\n",
       "      <th>1</th>\n",
       "      <td>Bob</td>\n",
       "      <td>32</td>\n",
       "      <td>60000</td>\n",
       "      <td>120000</td>\n",
       "      <td>False</td>\n",
       "      <td>1875.000000</td>\n",
       "      <td>BOB</td>\n",
       "    </tr>\n",
       "    <tr>\n",
       "      <th>2</th>\n",
       "      <td>Charlie</td>\n",
       "      <td>67</td>\n",
       "      <td>80000</td>\n",
       "      <td>160000</td>\n",
       "      <td>True</td>\n",
       "      <td>1194.029851</td>\n",
       "      <td>CHARLIE</td>\n",
       "    </tr>\n",
       "  </tbody>\n",
       "</table>\n",
       "</div>"
      ],
      "text/plain": [
       "      name  age  salary  salary_double  is_senior  income_ratio name_upper\n",
       "0    Alice   25   50000         100000      False   2000.000000      ALICE\n",
       "1      Bob   32   60000         120000      False   1875.000000        BOB\n",
       "2  Charlie   67   80000         160000       True   1194.029851    CHARLIE"
      ]
     },
     "execution_count": 6,
     "metadata": {},
     "output_type": "execute_result"
    }
   ],
   "source": [
    "# Uppercase names using map\n",
    "\n",
    "df['name_upper'] = df['name'].map(lambda row: row.upper())\n",
    "df"
   ]
  },
  {
   "cell_type": "markdown",
   "id": "62d82f89",
   "metadata": {},
   "source": [
    "### ▶️ 5. Group-wise Application"
   ]
  },
  {
   "cell_type": "code",
   "execution_count": 8,
   "id": "20e426a0",
   "metadata": {},
   "outputs": [
    {
     "data": {
      "text/html": [
       "<div>\n",
       "<style scoped>\n",
       "    .dataframe tbody tr th:only-of-type {\n",
       "        vertical-align: middle;\n",
       "    }\n",
       "\n",
       "    .dataframe tbody tr th {\n",
       "        vertical-align: top;\n",
       "    }\n",
       "\n",
       "    .dataframe thead th {\n",
       "        text-align: right;\n",
       "    }\n",
       "</style>\n",
       "<table border=\"1\" class=\"dataframe\">\n",
       "  <thead>\n",
       "    <tr style=\"text-align: right;\">\n",
       "      <th></th>\n",
       "      <th>name</th>\n",
       "      <th>age</th>\n",
       "      <th>salary</th>\n",
       "      <th>salary_double</th>\n",
       "      <th>is_senior</th>\n",
       "      <th>income_ratio</th>\n",
       "      <th>name_upper</th>\n",
       "      <th>salary_level</th>\n",
       "    </tr>\n",
       "  </thead>\n",
       "  <tbody>\n",
       "    <tr>\n",
       "      <th>0</th>\n",
       "      <td>Alice</td>\n",
       "      <td>25</td>\n",
       "      <td>50000</td>\n",
       "      <td>100000</td>\n",
       "      <td>False</td>\n",
       "      <td>2000.000000</td>\n",
       "      <td>ALICE</td>\n",
       "      <td>low</td>\n",
       "    </tr>\n",
       "    <tr>\n",
       "      <th>1</th>\n",
       "      <td>Bob</td>\n",
       "      <td>32</td>\n",
       "      <td>60000</td>\n",
       "      <td>120000</td>\n",
       "      <td>False</td>\n",
       "      <td>1875.000000</td>\n",
       "      <td>BOB</td>\n",
       "      <td>low</td>\n",
       "    </tr>\n",
       "    <tr>\n",
       "      <th>2</th>\n",
       "      <td>Charlie</td>\n",
       "      <td>67</td>\n",
       "      <td>80000</td>\n",
       "      <td>160000</td>\n",
       "      <td>True</td>\n",
       "      <td>1194.029851</td>\n",
       "      <td>CHARLIE</td>\n",
       "      <td>high</td>\n",
       "    </tr>\n",
       "  </tbody>\n",
       "</table>\n",
       "</div>"
      ],
      "text/plain": [
       "      name  age  salary  salary_double  is_senior  income_ratio name_upper  \\\n",
       "0    Alice   25   50000         100000      False   2000.000000      ALICE   \n",
       "1      Bob   32   60000         120000      False   1875.000000        BOB   \n",
       "2  Charlie   67   80000         160000       True   1194.029851    CHARLIE   \n",
       "\n",
       "  salary_level  \n",
       "0          low  \n",
       "1          low  \n",
       "2         high  "
      ]
     },
     "execution_count": 8,
     "metadata": {},
     "output_type": "execute_result"
    }
   ],
   "source": [
    "# Group by custom logic\n",
    "\n",
    "df['salary_level'] = df['salary'].apply(lambda row: 'high' if row > 70000 else 'low')\n",
    "df"
   ]
  },
  {
   "cell_type": "markdown",
   "id": "5b410ea0",
   "metadata": {},
   "source": [
    "\n",
    "## 6. 🌍 Real-World Use Cases\n",
    "\n",
    "### 🛍️ E-commerce\n",
    "\n",
    "```python\n",
    "# Create discount flag\n",
    "df['discount_flag'] = df['price'].apply(lambda x: 'Yes' if x > 1000 else 'No')\n",
    "```\n",
    "\n",
    "### 💰 Finance\n",
    "\n",
    "```python\n",
    "# Calculate credit risk score\n",
    "df['risk_score'] = df.apply(lambda row: row['loan'] / row['income'] if row['income'] > 0 else 0, axis=1)\n",
    "```\n",
    "\n",
    "### 🧬 Healthcare\n",
    "\n",
    "```python\n",
    "# Categorize blood sugar levels\n",
    "df['sugar_category'] = df['blood_sugar'].apply(lambda x: 'Normal' if x < 120 else 'High')\n",
    "```\n",
    "\n",
    "### 🧾 HR Analytics\n",
    "\n",
    "```python\n",
    "# Seniority level from experience\n",
    "df['seniority'] = df['experience'].apply(lambda x: 'Senior' if x > 10 else 'Junior')\n",
    "```"
   ]
  },
  {
   "cell_type": "markdown",
   "id": "df4a5f2f",
   "metadata": {},
   "source": [
    "## ✅ Summary\n",
    "\n",
    "| Feature            | Notes                                          |\n",
    "| ------------------ | ---------------------------------------------- |\n",
    "| Anonymous Function | Created using `lambda` keyword                 |\n",
    "| Use with           | `.apply()`, `.map()`, `.applymap()`, `groupby` |\n",
    "| Best for           | Quick, custom one-line logic                   |\n",
    "| Avoid for          | Complex or multi-step logic                    |\n"
   ]
  },
  {
   "cell_type": "markdown",
   "id": "9041ba60",
   "metadata": {},
   "source": [
    "<center><b>Thanks</b></center>"
   ]
  }
 ],
 "metadata": {
  "kernelspec": {
   "display_name": "venv",
   "language": "python",
   "name": "python3"
  },
  "language_info": {
   "codemirror_mode": {
    "name": "ipython",
    "version": 3
   },
   "file_extension": ".py",
   "mimetype": "text/x-python",
   "name": "python",
   "nbconvert_exporter": "python",
   "pygments_lexer": "ipython3",
   "version": "3.10.2"
  }
 },
 "nbformat": 4,
 "nbformat_minor": 5
}
