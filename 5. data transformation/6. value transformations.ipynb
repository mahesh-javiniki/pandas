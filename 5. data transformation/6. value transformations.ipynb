{
 "cells": [
  {
   "cell_type": "markdown",
   "id": "fb8675dd",
   "metadata": {},
   "source": [
    "# **Data Transformation**"
   ]
  },
  {
   "cell_type": "markdown",
   "id": "ad815c3b",
   "metadata": {},
   "source": [
    "## **6. Value Transformations**"
   ]
  },
  {
   "cell_type": "code",
   "execution_count": 1,
   "id": "bfb06bb7",
   "metadata": {},
   "outputs": [],
   "source": [
    "import numpy as np \n",
    "import pandas as pd "
   ]
  },
  {
   "cell_type": "markdown",
   "id": "18ce8d0a",
   "metadata": {},
   "source": [
    "## ✅ 1. What it does and when to use it\n",
    "\n",
    "**Value transformations** involve modifying, replacing, or converting the data values within a DataFrame or Series. These transformations are vital in cleaning, normalizing, or preparing data for analysis or modeling.\n",
    "\n",
    "**Use cases include:**\n",
    "\n",
    "* Fixing incorrect or inconsistent values\n",
    "* Mapping categories or labels\n",
    "* Changing data types for compatibility (e.g., int → float, object → datetime)\n",
    "* Normalizing or scaling values\n",
    "* Performing mathematical transformations"
   ]
  },
  {
   "cell_type": "markdown",
   "id": "964d0cfc",
   "metadata": {},
   "source": [
    "## 🧠 2. Syntax and Core Parameters\n",
    "\n",
    "Here are the most common transformation functions:\n",
    "\n",
    "| Method         | Purpose                        |\n",
    "| -------------- | ------------------------------ |\n",
    "| `df.replace()` | Replace specific values        |\n",
    "| `df.astype()`  | Convert data types             |\n",
    "| `df.round()`   | Round numeric values           |\n",
    "| `df.abs()`     | Absolute value                 |\n",
    "| `df.clip()`    | Limit values within a range    |\n",
    "| `df.fillna()`  | Fill missing values            |\n",
    "| `df.map()`     | Map/transform values in Series |\n"
   ]
  },
  {
   "cell_type": "markdown",
   "id": "7280720b",
   "metadata": {},
   "source": [
    "## 🧪 3. Methods and Techniques\n",
    "\n",
    "### A. **Replacing values**\n",
    "\n",
    "```python\n",
    "df['Gender'].replace({'M': 'Male', 'F': 'Female'})\n",
    "```\n",
    "\n",
    "* Can also replace numeric values:\n",
    "\n",
    "  ```python\n",
    "  df['score'].replace(-1, np.nan)\n",
    "  ```\n",
    "\n",
    "---\n",
    "\n",
    "### B. **Type conversion with `astype()`**\n",
    "\n",
    "```python\n",
    "df['Year'] = df['Year'].astype(int)\n",
    "df['Price'] = df['Price'].astype(float)\n",
    "df['Date'] = pd.to_datetime(df['Date'])\n",
    "```\n",
    "\n",
    "---\n",
    "\n",
    "### C. **Rounding numbers**\n",
    "\n",
    "```python\n",
    "df['Salary'].round(2)     # Round to 2 decimal places\n",
    "```\n",
    "\n",
    "---\n",
    "\n",
    "### D. **Absolute values**\n",
    "\n",
    "```python\n",
    "df['Profit'] = df['Profit'].abs()\n",
    "```\n",
    "\n",
    "---\n",
    "\n",
    "### E. **Clipping values**\n",
    "\n",
    "Limit values below or above thresholds:\n",
    "\n",
    "```python\n",
    "df['score'].clip(lower=0, upper=100)\n",
    "```\n",
    "\n",
    "---\n",
    "\n",
    "### F. **Filling missing values**\n",
    "\n",
    "```python\n",
    "df['Age'].fillna(df['Age'].mean())\n",
    "```\n",
    "\n",
    "---\n",
    "\n",
    "### G. **Mapping with functions**\n",
    "\n",
    "```python\n",
    "df['Grade'] = df['Score'].map(lambda x: 'Pass' if x > 40 else 'Fail')\n",
    "```\n"
   ]
  },
  {
   "cell_type": "markdown",
   "id": "f1579157",
   "metadata": {},
   "source": [
    "## ⚠️ 4. Common Pitfalls and Best Practices\n",
    "\n",
    "| Pitfall                                      | Fix                                    |\n",
    "| -------------------------------------------- | -------------------------------------- |\n",
    "| `astype()` conversion errors                 | Use `errors='coerce'` for safe casting |\n",
    "| Replacing too broadly (e.g., 0 to NaN)       | Be specific in mappings                |\n",
    "| Using `map()` on DataFrames                  | Only works on Series                   |\n",
    "| Forgetting to assign back the transformation | Always do `df['col'] = ...`            |\n",
    "\n",
    "**Best Practices:**\n",
    "\n",
    "* Use `.copy()` when doing chained assignments to avoid warning.\n",
    "* Always verify the result with `.head()` or `.info()`.\n",
    "* Prefer `map()` for element-wise transformation on Series, and `apply()` on DataFrames.\n"
   ]
  },
  {
   "cell_type": "markdown",
   "id": "e65ae2bb",
   "metadata": {},
   "source": [
    "## 🔍 5. Examples on Real/Pseudo Data"
   ]
  },
  {
   "cell_type": "markdown",
   "id": "bbb0624b",
   "metadata": {},
   "source": [
    "### Example 1: Replace & Map"
   ]
  },
  {
   "cell_type": "code",
   "execution_count": 2,
   "id": "573ae3ed",
   "metadata": {},
   "outputs": [
    {
     "data": {
      "text/html": [
       "<div>\n",
       "<style scoped>\n",
       "    .dataframe tbody tr th:only-of-type {\n",
       "        vertical-align: middle;\n",
       "    }\n",
       "\n",
       "    .dataframe tbody tr th {\n",
       "        vertical-align: top;\n",
       "    }\n",
       "\n",
       "    .dataframe thead th {\n",
       "        text-align: right;\n",
       "    }\n",
       "</style>\n",
       "<table border=\"1\" class=\"dataframe\">\n",
       "  <thead>\n",
       "    <tr style=\"text-align: right;\">\n",
       "      <th></th>\n",
       "      <th>gender</th>\n",
       "      <th>score</th>\n",
       "    </tr>\n",
       "  </thead>\n",
       "  <tbody>\n",
       "    <tr>\n",
       "      <th>0</th>\n",
       "      <td>M</td>\n",
       "      <td>89</td>\n",
       "    </tr>\n",
       "    <tr>\n",
       "      <th>1</th>\n",
       "      <td>F</td>\n",
       "      <td>45</td>\n",
       "    </tr>\n",
       "    <tr>\n",
       "      <th>2</th>\n",
       "      <td>M</td>\n",
       "      <td>67</td>\n",
       "    </tr>\n",
       "    <tr>\n",
       "      <th>3</th>\n",
       "      <td>F</td>\n",
       "      <td>90</td>\n",
       "    </tr>\n",
       "  </tbody>\n",
       "</table>\n",
       "</div>"
      ],
      "text/plain": [
       "  gender  score\n",
       "0      M     89\n",
       "1      F     45\n",
       "2      M     67\n",
       "3      F     90"
      ]
     },
     "execution_count": 2,
     "metadata": {},
     "output_type": "execute_result"
    }
   ],
   "source": [
    "df = pd.DataFrame({\n",
    "    'gender': ['M', 'F', 'M', 'F'],\n",
    "    'score': [89, 45, 67, 90]\n",
    "})\n",
    "\n",
    "df"
   ]
  },
  {
   "cell_type": "code",
   "execution_count": 4,
   "id": "abba6e4b",
   "metadata": {},
   "outputs": [
    {
     "data": {
      "text/html": [
       "<div>\n",
       "<style scoped>\n",
       "    .dataframe tbody tr th:only-of-type {\n",
       "        vertical-align: middle;\n",
       "    }\n",
       "\n",
       "    .dataframe tbody tr th {\n",
       "        vertical-align: top;\n",
       "    }\n",
       "\n",
       "    .dataframe thead th {\n",
       "        text-align: right;\n",
       "    }\n",
       "</style>\n",
       "<table border=\"1\" class=\"dataframe\">\n",
       "  <thead>\n",
       "    <tr style=\"text-align: right;\">\n",
       "      <th></th>\n",
       "      <th>gender</th>\n",
       "      <th>score</th>\n",
       "      <th>result</th>\n",
       "    </tr>\n",
       "  </thead>\n",
       "  <tbody>\n",
       "    <tr>\n",
       "      <th>0</th>\n",
       "      <td>Male</td>\n",
       "      <td>89</td>\n",
       "      <td>Pass</td>\n",
       "    </tr>\n",
       "    <tr>\n",
       "      <th>1</th>\n",
       "      <td>Female</td>\n",
       "      <td>45</td>\n",
       "      <td>Fail</td>\n",
       "    </tr>\n",
       "    <tr>\n",
       "      <th>2</th>\n",
       "      <td>Male</td>\n",
       "      <td>67</td>\n",
       "      <td>Pass</td>\n",
       "    </tr>\n",
       "    <tr>\n",
       "      <th>3</th>\n",
       "      <td>Female</td>\n",
       "      <td>90</td>\n",
       "      <td>Pass</td>\n",
       "    </tr>\n",
       "  </tbody>\n",
       "</table>\n",
       "</div>"
      ],
      "text/plain": [
       "   gender  score result\n",
       "0    Male     89   Pass\n",
       "1  Female     45   Fail\n",
       "2    Male     67   Pass\n",
       "3  Female     90   Pass"
      ]
     },
     "metadata": {},
     "output_type": "display_data"
    }
   ],
   "source": [
    "# Replace values\n",
    "df['gender'] = df['gender'].replace({'M': 'Male', 'F': 'Female'})\n",
    "\n",
    "# Map pass/fail\n",
    "df['result'] = df['score'].map(lambda x: 'Pass' if x >= 50 else 'Fail')\n",
    "\n",
    "display(df)"
   ]
  },
  {
   "cell_type": "markdown",
   "id": "e375c491",
   "metadata": {},
   "source": [
    "### Example 2: Type Conversion & Rounding"
   ]
  },
  {
   "cell_type": "code",
   "execution_count": 5,
   "id": "dd8cbf20",
   "metadata": {},
   "outputs": [
    {
     "data": {
      "text/html": [
       "<div>\n",
       "<style scoped>\n",
       "    .dataframe tbody tr th:only-of-type {\n",
       "        vertical-align: middle;\n",
       "    }\n",
       "\n",
       "    .dataframe tbody tr th {\n",
       "        vertical-align: top;\n",
       "    }\n",
       "\n",
       "    .dataframe thead th {\n",
       "        text-align: right;\n",
       "    }\n",
       "</style>\n",
       "<table border=\"1\" class=\"dataframe\">\n",
       "  <thead>\n",
       "    <tr style=\"text-align: right;\">\n",
       "      <th></th>\n",
       "      <th>amount</th>\n",
       "      <th>date</th>\n",
       "    </tr>\n",
       "  </thead>\n",
       "  <tbody>\n",
       "    <tr>\n",
       "      <th>0</th>\n",
       "      <td>100.00</td>\n",
       "      <td>2024-01-01</td>\n",
       "    </tr>\n",
       "    <tr>\n",
       "      <th>1</th>\n",
       "      <td>250.50</td>\n",
       "      <td>2024-01-05</td>\n",
       "    </tr>\n",
       "    <tr>\n",
       "      <th>2</th>\n",
       "      <td>400.99</td>\n",
       "      <td>2024-02-01</td>\n",
       "    </tr>\n",
       "  </tbody>\n",
       "</table>\n",
       "</div>"
      ],
      "text/plain": [
       "   amount        date\n",
       "0  100.00  2024-01-01\n",
       "1  250.50  2024-01-05\n",
       "2  400.99  2024-02-01"
      ]
     },
     "execution_count": 5,
     "metadata": {},
     "output_type": "execute_result"
    }
   ],
   "source": [
    "df = pd.DataFrame({\n",
    "    'amount': ['100.00', '250.50', '400.99'],\n",
    "    'date': ['2024-01-01', '2024-01-05', '2024-02-01']\n",
    "})\n",
    "\n",
    "df"
   ]
  },
  {
   "cell_type": "code",
   "execution_count": 6,
   "id": "c433650c",
   "metadata": {},
   "outputs": [
    {
     "data": {
      "text/plain": [
       "amount    object\n",
       "date      object\n",
       "dtype: object"
      ]
     },
     "execution_count": 6,
     "metadata": {},
     "output_type": "execute_result"
    }
   ],
   "source": [
    "df.dtypes"
   ]
  },
  {
   "cell_type": "code",
   "execution_count": 7,
   "id": "fd427f7a",
   "metadata": {},
   "outputs": [
    {
     "data": {
      "text/html": [
       "<div>\n",
       "<style scoped>\n",
       "    .dataframe tbody tr th:only-of-type {\n",
       "        vertical-align: middle;\n",
       "    }\n",
       "\n",
       "    .dataframe tbody tr th {\n",
       "        vertical-align: top;\n",
       "    }\n",
       "\n",
       "    .dataframe thead th {\n",
       "        text-align: right;\n",
       "    }\n",
       "</style>\n",
       "<table border=\"1\" class=\"dataframe\">\n",
       "  <thead>\n",
       "    <tr style=\"text-align: right;\">\n",
       "      <th></th>\n",
       "      <th>amount</th>\n",
       "      <th>date</th>\n",
       "    </tr>\n",
       "  </thead>\n",
       "  <tbody>\n",
       "    <tr>\n",
       "      <th>0</th>\n",
       "      <td>100.0</td>\n",
       "      <td>2024-01-01</td>\n",
       "    </tr>\n",
       "    <tr>\n",
       "      <th>1</th>\n",
       "      <td>250.5</td>\n",
       "      <td>2024-01-05</td>\n",
       "    </tr>\n",
       "    <tr>\n",
       "      <th>2</th>\n",
       "      <td>401.0</td>\n",
       "      <td>2024-02-01</td>\n",
       "    </tr>\n",
       "  </tbody>\n",
       "</table>\n",
       "</div>"
      ],
      "text/plain": [
       "   amount       date\n",
       "0   100.0 2024-01-01\n",
       "1   250.5 2024-01-05\n",
       "2   401.0 2024-02-01"
      ]
     },
     "execution_count": 7,
     "metadata": {},
     "output_type": "execute_result"
    }
   ],
   "source": [
    "df['amount'] = df['amount'].astype(float)\n",
    "df['amount'] = df['amount'].round(1)\n",
    "\n",
    "df['date'] = pd.to_datetime(df['date'])\n",
    "\n",
    "df"
   ]
  },
  {
   "cell_type": "code",
   "execution_count": 8,
   "id": "8177952f",
   "metadata": {},
   "outputs": [
    {
     "data": {
      "text/plain": [
       "amount           float64\n",
       "date      datetime64[ns]\n",
       "dtype: object"
      ]
     },
     "execution_count": 8,
     "metadata": {},
     "output_type": "execute_result"
    }
   ],
   "source": [
    "df.dtypes"
   ]
  },
  {
   "cell_type": "markdown",
   "id": "a7b1df27",
   "metadata": {},
   "source": [
    "## 🌍 6. Real-World Use Cases\n",
    "\n",
    "| Use Case                               | Value Transformation Technique                           |\n",
    "| -------------------------------------- | -------------------------------------------------------- |\n",
    "| **Cleaning survey data**               | `replace()` incorrect codes with readable labels         |\n",
    "| **Converting age column to numeric**   | `astype()` with `errors='coerce'`                        |\n",
    "| **Capping outliers in financial data** | `clip(lower=x, upper=y)`                                 |\n",
    "| **Creating age groups**                | Use `map()` or custom function with `apply()`            |\n",
    "| **Normalizing income**                 | `df['income'] / df['income'].max()` followed by rounding |\n",
    "| **Filling missing sensor values**      | `fillna(method='ffill')` or `fillna(mean)`               |\n",
    "| **Fixing units mismatch**              | Multiply column with factor, then round or convert type  |\n"
   ]
  },
  {
   "cell_type": "markdown",
   "id": "3be6502d",
   "metadata": {},
   "source": [
    "## ✅ Summary Table\n",
    "\n",
    "| Task                        | Method              |\n",
    "| --------------------------- | ------------------- |\n",
    "| Replace specific values     | `replace()`         |\n",
    "| Convert type                | `astype()`          |\n",
    "| Round decimal numbers       | `round()`           |\n",
    "| Get absolute values         | `abs()`             |\n",
    "| Limit values in range       | `clip()`            |\n",
    "| Fill missing values         | `fillna()`          |\n",
    "| Transform with custom logic | `map()` / `apply()` |\n"
   ]
  },
  {
   "cell_type": "markdown",
   "id": "7f63aed1",
   "metadata": {},
   "source": [
    "<center><b>Thanks</b></center>"
   ]
  }
 ],
 "metadata": {
  "kernelspec": {
   "display_name": "venv",
   "language": "python",
   "name": "python3"
  },
  "language_info": {
   "codemirror_mode": {
    "name": "ipython",
    "version": 3
   },
   "file_extension": ".py",
   "mimetype": "text/x-python",
   "name": "python",
   "nbconvert_exporter": "python",
   "pygments_lexer": "ipython3",
   "version": "3.10.2"
  }
 },
 "nbformat": 4,
 "nbformat_minor": 5
}
