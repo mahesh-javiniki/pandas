{
 "cells": [
  {
   "cell_type": "markdown",
   "id": "0d8610c4",
   "metadata": {},
   "source": [
    "# **6. Aggregation & Grouping**"
   ]
  },
  {
   "cell_type": "markdown",
   "id": "a3f3af34",
   "metadata": {},
   "source": [
    "## **7. Common Pitfalls & Best Practices on Groups**"
   ]
  },
  {
   "cell_type": "code",
   "execution_count": 1,
   "id": "7d72a190",
   "metadata": {},
   "outputs": [],
   "source": [
    "import pandas as pd"
   ]
  },
  {
   "cell_type": "markdown",
   "id": "3a7b552b",
   "metadata": {},
   "source": [
    "## 🧠 1. What it does and when to use it\n",
    "\n",
    "This section is not about a single function but about **understanding frequent mistakes (pitfalls)** developers make when using grouping techniques like `groupby()`, `agg()`, `apply()`, `transform()`, and how to **avoid them using best practices**.\n",
    "\n",
    "**When to focus on these**:\n",
    "\n",
    "* When you encounter errors or unexpected results with group-wise operations.\n",
    "* When performance or readability suffers due to improper function use.\n",
    "* When your grouped results don’t align correctly with the original DataFrame.\n"
   ]
  },
  {
   "cell_type": "markdown",
   "id": "6b9f30a2",
   "metadata": {},
   "source": [
    "## 🧾 2. Syntax and Core Parameters Recap\n",
    "\n",
    "Grouping typically involves:\n",
    "\n",
    "```python\n",
    "df.groupby(by, as_index=True).agg(func)\n",
    "```\n",
    "\n",
    "### Common grouping methods:\n",
    "\n",
    "* `agg()` – Aggregation (sum, mean, count, etc.)\n",
    "* `transform()` – Broadcast results back to original shape\n",
    "* `apply()` – Apply custom function per group\n",
    "* `filter()` – Keep/remove groups based on condition\n",
    "\n",
    "**Parameters:**\n",
    "\n",
    "* `by`: column name(s) or function\n",
    "* `as_index`: Whether to keep group key(s) as index (default `True`)\n",
    "* `group_keys`: Whether to include group labels when using `apply()`\n"
   ]
  },
  {
   "cell_type": "markdown",
   "id": "69530206",
   "metadata": {},
   "source": [
    "## 🧪 3. Different Methods and Techniques (used incorrectly or effectively)\n",
    "\n",
    "| Method                                    | Common Issue            | Fix / Best Practice                                      |\n",
    "| ----------------------------------------- | ----------------------- | -------------------------------------------------------- |\n",
    "| `groupby().apply()`                       | Slow and memory-heavy   | Use `agg()` or `transform()` if possible                 |\n",
    "| `groupby().agg()` with multiple functions | Wrong column structure  | Use named aggregations for clarity                       |\n",
    "| `transform()` vs `apply()`                | Shape mismatch errors   | Use `transform()` if you want output same shape as input |\n",
    "| `groupby().mean()`                        | Group keys become index | Use `as_index=False` to keep them as columns             |\n"
   ]
  },
  {
   "cell_type": "markdown",
   "id": "a530c76e",
   "metadata": {},
   "source": [
    "## ⚠️ 4. Common Pitfalls and Best Practices\n",
    "\n",
    "### ❌ Pitfall 1: Misunderstanding `apply()` vs `transform()`\n",
    "\n",
    "```python\n",
    "df['NormSalary'] = df.groupby('Dept')['Salary'].apply(lambda x: x / x.mean())\n",
    "```\n",
    "\n",
    "This may fail or return a `Series` with unexpected index.\n",
    "\n",
    "✅ **Best Practice**:\n",
    "\n",
    "```python\n",
    "df['NormSalary'] = df['Salary'] / df.groupby('Dept')['Salary'].transform('mean')\n",
    "```\n",
    "\n",
    "---\n",
    "\n",
    "### ❌ Pitfall 2: Group keys become index unexpectedly\n",
    "\n",
    "```python\n",
    "df.groupby('Dept').agg('sum')  # Dept becomes index\n",
    "```\n",
    "\n",
    "✅ **Best Practice**:\n",
    "\n",
    "```python\n",
    "df.groupby('Dept', as_index=False).agg('sum')  # Keeps original column\n",
    "```\n",
    "\n",
    "---\n",
    "\n",
    "### ❌ Pitfall 3: Using `apply()` unnecessarily\n",
    "\n",
    "```python\n",
    "# Inefficient\n",
    "df.groupby('Dept').apply(lambda x: x['Salary'].mean())\n",
    "```\n",
    "\n",
    "✅ **Best Practice**:\n",
    "\n",
    "```python\n",
    "df.groupby('Dept')['Salary'].mean()  # More readable and efficient\n",
    "```\n",
    "\n",
    "---\n",
    "\n",
    "### ❌ Pitfall 4: Modifying groups inside `apply()` without returning properly\n",
    "\n",
    "```python\n",
    "def faulty_func(g):\n",
    "    g['Adj'] = g['Salary'] - g['Salary'].mean()\n",
    "    # Forgot to return g\n",
    "```\n",
    "\n",
    "✅ **Best Practice**:\n",
    "\n",
    "```python\n",
    "def correct_func(g):\n",
    "    g['Adj'] = g['Salary'] - g['Salary'].mean()\n",
    "    return g\n",
    "```\n",
    "\n",
    "---\n",
    "\n",
    "### ❌ Pitfall 5: Using `agg()` with multiple functions and getting messy column names\n",
    "\n",
    "```python\n",
    "df.groupby('Dept')['Salary'].agg(['mean', 'sum'])\n",
    "```\n",
    "\n",
    "✅ **Best Practice** – Use named aggregations:\n",
    "\n",
    "```python\n",
    "df.groupby('Dept').agg(\n",
    "    MeanSalary=('Salary', 'mean'),\n",
    "    TotalSalary=('Salary', 'sum')\n",
    ")\n",
    "```\n"
   ]
  },
  {
   "cell_type": "markdown",
   "id": "1d6f0ea4",
   "metadata": {},
   "source": [
    "## 🧩 5. Examples on Real/Pseudo Data"
   ]
  },
  {
   "cell_type": "code",
   "execution_count": 2,
   "id": "7b3fee7e",
   "metadata": {},
   "outputs": [
    {
     "data": {
      "text/html": [
       "<div>\n",
       "<style scoped>\n",
       "    .dataframe tbody tr th:only-of-type {\n",
       "        vertical-align: middle;\n",
       "    }\n",
       "\n",
       "    .dataframe tbody tr th {\n",
       "        vertical-align: top;\n",
       "    }\n",
       "\n",
       "    .dataframe thead th {\n",
       "        text-align: right;\n",
       "    }\n",
       "</style>\n",
       "<table border=\"1\" class=\"dataframe\">\n",
       "  <thead>\n",
       "    <tr style=\"text-align: right;\">\n",
       "      <th></th>\n",
       "      <th>Dept</th>\n",
       "      <th>Name</th>\n",
       "      <th>Salary</th>\n",
       "    </tr>\n",
       "  </thead>\n",
       "  <tbody>\n",
       "    <tr>\n",
       "      <th>0</th>\n",
       "      <td>HR</td>\n",
       "      <td>Alice</td>\n",
       "      <td>50000</td>\n",
       "    </tr>\n",
       "    <tr>\n",
       "      <th>1</th>\n",
       "      <td>HR</td>\n",
       "      <td>Bob</td>\n",
       "      <td>52000</td>\n",
       "    </tr>\n",
       "    <tr>\n",
       "      <th>2</th>\n",
       "      <td>IT</td>\n",
       "      <td>Charlie</td>\n",
       "      <td>70000</td>\n",
       "    </tr>\n",
       "    <tr>\n",
       "      <th>3</th>\n",
       "      <td>IT</td>\n",
       "      <td>David</td>\n",
       "      <td>72000</td>\n",
       "    </tr>\n",
       "    <tr>\n",
       "      <th>4</th>\n",
       "      <td>IT</td>\n",
       "      <td>Eve</td>\n",
       "      <td>71000</td>\n",
       "    </tr>\n",
       "  </tbody>\n",
       "</table>\n",
       "</div>"
      ],
      "text/plain": [
       "  Dept     Name  Salary\n",
       "0   HR    Alice   50000\n",
       "1   HR      Bob   52000\n",
       "2   IT  Charlie   70000\n",
       "3   IT    David   72000\n",
       "4   IT      Eve   71000"
      ]
     },
     "execution_count": 2,
     "metadata": {},
     "output_type": "execute_result"
    }
   ],
   "source": [
    "df = pd.DataFrame({\n",
    "    'Dept': ['HR', 'HR', 'IT', 'IT', 'IT'],\n",
    "    'Name': ['Alice', 'Bob', 'Charlie', 'David', 'Eve'],\n",
    "    'Salary': [50000, 52000, 70000, 72000, 71000]\n",
    "})\n",
    "\n",
    "df"
   ]
  },
  {
   "cell_type": "markdown",
   "id": "3f222e67",
   "metadata": {},
   "source": [
    "### ❌ Bad Example: Using apply instead of transform\n",
    "\n",
    "```python\n",
    "df['Norm'] = df.groupby('Dept')['Salary'].apply(lambda x: x / x.mean())  # Might misalign\n",
    "```\n",
    "\n",
    "### ✅ Good Example:\n"
   ]
  },
  {
   "cell_type": "code",
   "execution_count": 5,
   "id": "dc0411f3",
   "metadata": {},
   "outputs": [
    {
     "data": {
      "text/html": [
       "<div>\n",
       "<style scoped>\n",
       "    .dataframe tbody tr th:only-of-type {\n",
       "        vertical-align: middle;\n",
       "    }\n",
       "\n",
       "    .dataframe tbody tr th {\n",
       "        vertical-align: top;\n",
       "    }\n",
       "\n",
       "    .dataframe thead th {\n",
       "        text-align: right;\n",
       "    }\n",
       "</style>\n",
       "<table border=\"1\" class=\"dataframe\">\n",
       "  <thead>\n",
       "    <tr style=\"text-align: right;\">\n",
       "      <th></th>\n",
       "      <th>Dept</th>\n",
       "      <th>Name</th>\n",
       "      <th>Salary</th>\n",
       "      <th>Norm2</th>\n",
       "      <th>Norm</th>\n",
       "    </tr>\n",
       "  </thead>\n",
       "  <tbody>\n",
       "    <tr>\n",
       "      <th>0</th>\n",
       "      <td>HR</td>\n",
       "      <td>Alice</td>\n",
       "      <td>50000</td>\n",
       "      <td>0.980392</td>\n",
       "      <td>0.980392</td>\n",
       "    </tr>\n",
       "    <tr>\n",
       "      <th>1</th>\n",
       "      <td>HR</td>\n",
       "      <td>Bob</td>\n",
       "      <td>52000</td>\n",
       "      <td>1.019608</td>\n",
       "      <td>1.019608</td>\n",
       "    </tr>\n",
       "    <tr>\n",
       "      <th>2</th>\n",
       "      <td>IT</td>\n",
       "      <td>Charlie</td>\n",
       "      <td>70000</td>\n",
       "      <td>0.985915</td>\n",
       "      <td>0.985915</td>\n",
       "    </tr>\n",
       "    <tr>\n",
       "      <th>3</th>\n",
       "      <td>IT</td>\n",
       "      <td>David</td>\n",
       "      <td>72000</td>\n",
       "      <td>1.014085</td>\n",
       "      <td>1.014085</td>\n",
       "    </tr>\n",
       "    <tr>\n",
       "      <th>4</th>\n",
       "      <td>IT</td>\n",
       "      <td>Eve</td>\n",
       "      <td>71000</td>\n",
       "      <td>1.000000</td>\n",
       "      <td>1.000000</td>\n",
       "    </tr>\n",
       "  </tbody>\n",
       "</table>\n",
       "</div>"
      ],
      "text/plain": [
       "  Dept     Name  Salary     Norm2      Norm\n",
       "0   HR    Alice   50000  0.980392  0.980392\n",
       "1   HR      Bob   52000  1.019608  1.019608\n",
       "2   IT  Charlie   70000  0.985915  0.985915\n",
       "3   IT    David   72000  1.014085  1.014085\n",
       "4   IT      Eve   71000  1.000000  1.000000"
      ]
     },
     "execution_count": 5,
     "metadata": {},
     "output_type": "execute_result"
    }
   ],
   "source": [
    "df['Norm'] = df['Salary'] / df.groupby('Dept')['Salary'].transform('mean')\n",
    "df"
   ]
  },
  {
   "cell_type": "markdown",
   "id": "692b7b9b",
   "metadata": {},
   "source": [
    "### ❌ Bad Example: Columns become index\n",
    "\n",
    "```python\n",
    "df.groupby('Dept').agg('sum')\n",
    "```\n",
    "\n",
    "### ✅ Good Example:"
   ]
  },
  {
   "cell_type": "code",
   "execution_count": 6,
   "id": "6f670f6d",
   "metadata": {},
   "outputs": [
    {
     "data": {
      "text/html": [
       "<div>\n",
       "<style scoped>\n",
       "    .dataframe tbody tr th:only-of-type {\n",
       "        vertical-align: middle;\n",
       "    }\n",
       "\n",
       "    .dataframe tbody tr th {\n",
       "        vertical-align: top;\n",
       "    }\n",
       "\n",
       "    .dataframe thead th {\n",
       "        text-align: right;\n",
       "    }\n",
       "</style>\n",
       "<table border=\"1\" class=\"dataframe\">\n",
       "  <thead>\n",
       "    <tr style=\"text-align: right;\">\n",
       "      <th></th>\n",
       "      <th>Dept</th>\n",
       "      <th>Name</th>\n",
       "      <th>Salary</th>\n",
       "      <th>Norm2</th>\n",
       "      <th>Norm</th>\n",
       "    </tr>\n",
       "  </thead>\n",
       "  <tbody>\n",
       "    <tr>\n",
       "      <th>0</th>\n",
       "      <td>HR</td>\n",
       "      <td>AliceBob</td>\n",
       "      <td>102000</td>\n",
       "      <td>2.0</td>\n",
       "      <td>2.0</td>\n",
       "    </tr>\n",
       "    <tr>\n",
       "      <th>1</th>\n",
       "      <td>IT</td>\n",
       "      <td>CharlieDavidEve</td>\n",
       "      <td>213000</td>\n",
       "      <td>3.0</td>\n",
       "      <td>3.0</td>\n",
       "    </tr>\n",
       "  </tbody>\n",
       "</table>\n",
       "</div>"
      ],
      "text/plain": [
       "  Dept             Name  Salary  Norm2  Norm\n",
       "0   HR         AliceBob  102000    2.0   2.0\n",
       "1   IT  CharlieDavidEve  213000    3.0   3.0"
      ]
     },
     "execution_count": 6,
     "metadata": {},
     "output_type": "execute_result"
    }
   ],
   "source": [
    "df.groupby('Dept', as_index=False).agg('sum')"
   ]
  },
  {
   "cell_type": "markdown",
   "id": "ea3eadc1",
   "metadata": {},
   "source": [
    "### ✅ Named Aggregation for better readability"
   ]
  },
  {
   "cell_type": "code",
   "execution_count": 7,
   "id": "0c212f92",
   "metadata": {},
   "outputs": [
    {
     "data": {
      "text/html": [
       "<div>\n",
       "<style scoped>\n",
       "    .dataframe tbody tr th:only-of-type {\n",
       "        vertical-align: middle;\n",
       "    }\n",
       "\n",
       "    .dataframe tbody tr th {\n",
       "        vertical-align: top;\n",
       "    }\n",
       "\n",
       "    .dataframe thead th {\n",
       "        text-align: right;\n",
       "    }\n",
       "</style>\n",
       "<table border=\"1\" class=\"dataframe\">\n",
       "  <thead>\n",
       "    <tr style=\"text-align: right;\">\n",
       "      <th></th>\n",
       "      <th>MaxSalary</th>\n",
       "      <th>Count</th>\n",
       "    </tr>\n",
       "    <tr>\n",
       "      <th>Dept</th>\n",
       "      <th></th>\n",
       "      <th></th>\n",
       "    </tr>\n",
       "  </thead>\n",
       "  <tbody>\n",
       "    <tr>\n",
       "      <th>HR</th>\n",
       "      <td>52000</td>\n",
       "      <td>2</td>\n",
       "    </tr>\n",
       "    <tr>\n",
       "      <th>IT</th>\n",
       "      <td>72000</td>\n",
       "      <td>3</td>\n",
       "    </tr>\n",
       "  </tbody>\n",
       "</table>\n",
       "</div>"
      ],
      "text/plain": [
       "      MaxSalary  Count\n",
       "Dept                  \n",
       "HR        52000      2\n",
       "IT        72000      3"
      ]
     },
     "execution_count": 7,
     "metadata": {},
     "output_type": "execute_result"
    }
   ],
   "source": [
    "df.groupby('Dept').agg(\n",
    "    MaxSalary=('Salary', 'max'),\n",
    "    Count=('Name', 'count')\n",
    ")"
   ]
  },
  {
   "cell_type": "markdown",
   "id": "48e0cfd7",
   "metadata": {},
   "source": [
    "## 🌍 6. Real World Use Cases\n",
    "\n",
    "| Domain       | Scenario                                | Pitfall                     | Fix                            |\n",
    "| ------------ | --------------------------------------- | --------------------------- | ------------------------------ |\n",
    "| HR Analytics | Normalize salary within each department | Used `apply()` wrongly      | Use `transform()`              |\n",
    "| Retail       | Total sales per category                | Group key becomes index     | Use `as_index=False`           |\n",
    "| Banking      | Rank clients within region              | Used `apply()` + sort       | Use `rank()` with `groupby`    |\n",
    "| Healthcare   | Compare patient count per hospital      | Misaligned group values     | Use `groupby(...).transform()` |\n",
    "| Education    | Assign grade rank in class              | Wrong aggregation structure | Use named aggregations         |\n"
   ]
  },
  {
   "cell_type": "markdown",
   "id": "6f29bf14",
   "metadata": {},
   "source": [
    "## ✅ Summary Table\n",
    "\n",
    "| Issue                | Pitfall                        | Best Practice                         |\n",
    "| -------------------- | ------------------------------ | ------------------------------------- |\n",
    "| Shape mismatch       | `apply()` returns wrong shape  | Use `transform()`                     |\n",
    "| Index problems       | Group keys in index            | Use `as_index=False`                  |\n",
    "| Inefficiency         | `apply()` on simple operations | Prefer `agg()`, `transform()`         |\n",
    "| Unclear column names | Multiple unnamed aggregations  | Use named tuples in `agg()`           |\n",
    "| Data not returned    | Modifying inside `apply()`     | Always return DataFrame from function |\n"
   ]
  },
  {
   "cell_type": "markdown",
   "id": "d3a482ae",
   "metadata": {},
   "source": [
    "<center><b>Thanks</b></center>"
   ]
  }
 ],
 "metadata": {
  "kernelspec": {
   "display_name": "venv",
   "language": "python",
   "name": "python3"
  },
  "language_info": {
   "codemirror_mode": {
    "name": "ipython",
    "version": 3
   },
   "file_extension": ".py",
   "mimetype": "text/x-python",
   "name": "python",
   "nbconvert_exporter": "python",
   "pygments_lexer": "ipython3",
   "version": "3.10.2"
  }
 },
 "nbformat": 4,
 "nbformat_minor": 5
}
