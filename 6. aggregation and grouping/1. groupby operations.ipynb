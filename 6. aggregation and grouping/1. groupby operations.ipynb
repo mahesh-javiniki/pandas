{
 "cells": [
  {
   "cell_type": "markdown",
   "id": "2f7020bb",
   "metadata": {},
   "source": [
    "# **6. Aggregation & Grouping**"
   ]
  },
  {
   "cell_type": "markdown",
   "id": "77074847",
   "metadata": {},
   "source": [
    "## **1. Core `groupby()` Operations**"
   ]
  },
  {
   "cell_type": "code",
   "execution_count": 1,
   "id": "31f31da1",
   "metadata": {},
   "outputs": [],
   "source": [
    "import pandas as pd"
   ]
  },
  {
   "cell_type": "markdown",
   "id": "cd3e2e0a",
   "metadata": {},
   "source": [
    "## 1. **What it does and when to use it**\n",
    "\n",
    "### 📌 What is `groupby()`?\n",
    "\n",
    "The `.groupby()` method in pandas **splits the data into groups based on one or more keys**, **applies an aggregation or transformation**, and then **combines** the results back into a new DataFrame or Series.\n",
    "This is known as the **Split–Apply–Combine** strategy.\n",
    "\n",
    "### 🧠 When to use it?\n",
    "\n",
    "Use `.groupby()` when:\n",
    "\n",
    "* You want to **summarize data** by categories (e.g., sales by region).\n",
    "* You need to **aggregate**, **filter**, or **transform** subsets of your data **based on a key**.\n",
    "* You're doing **descriptive analytics**, **KPI calculations**, or **report generation**.\n"
   ]
  },
  {
   "cell_type": "markdown",
   "id": "9db1cb1d",
   "metadata": {},
   "source": [
    "## 2. **Syntax and Core Parameters**\n",
    "\n",
    "### 🧾 Basic Syntax:\n",
    "\n",
    "```python\n",
    "df.groupby(by=None, axis=0, level=None, as_index=True, sort=True, group_keys=True, dropna=True)\n",
    "```\n",
    "\n",
    "### 📌 Most Common Parameters:\n",
    "\n",
    "| Parameter  | Description                                       |\n",
    "| ---------- | ------------------------------------------------- |\n",
    "| `by`       | Column(s) or function to group by                 |\n",
    "| `axis`     | 0 = rows (default), 1 = columns                   |\n",
    "| `level`    | Used with MultiIndex to group by a specific level |\n",
    "| `as_index` | If True (default), grouped columns become index   |\n",
    "| `sort`     | Sort group keys. Default is True                  |\n",
    "| `dropna`   | Whether to exclude NA group keys                  |\n",
    "\n",
    "---\n",
    "\n",
    "### 📍 Basic Example:\n",
    "\n",
    "```python\n",
    "df.groupby('Department')\n",
    "```\n",
    "\n",
    "Group the data by the `'Department'` column.\n"
   ]
  },
  {
   "cell_type": "markdown",
   "id": "318443ac",
   "metadata": {},
   "source": [
    "## 3. **Different Methods and Techniques**\n",
    "\n",
    "Here are common **aggregation methods** used after `groupby()`:\n",
    "\n",
    "| Method                 | Description                             |\n",
    "| ---------------------- | --------------------------------------- |\n",
    "| `.sum()`               | Total sum of values per group           |\n",
    "| `.mean()`              | Average per group                       |\n",
    "| `.count()`             | Non-null entries per group              |\n",
    "| `.min()` / `.max()`    | Min/max per group                       |\n",
    "| `.size()`              | Number of rows per group                |\n",
    "| `.median()`            | Median of each group                    |\n",
    "| `.std()`               | Standard deviation                      |\n",
    "| `.first()` / `.last()` | First/last non-null value in each group |\n",
    "\n",
    "### 🧪 Grouping Techniques:\n",
    "\n",
    "#### a. **Group by a single column**\n",
    "\n",
    "```python\n",
    "df.groupby('City')['Sales'].sum()\n",
    "```\n",
    "\n",
    "#### b. **Group by multiple columns**\n",
    "\n",
    "```python\n",
    "df.groupby(['Region', 'City'])['Sales'].mean()\n",
    "```\n",
    "\n",
    "#### c. **Group by a function**\n",
    "\n",
    "```python\n",
    "df.groupby(df['Date'].dt.year)['Revenue'].sum()\n",
    "```\n",
    "\n",
    "#### d. **Group without setting index**\n",
    "\n",
    "```python\n",
    "df.groupby('City', as_index=False)['Sales'].sum()\n",
    "```\n",
    "\n",
    "#### e. **Group by dictionary or series**\n",
    "\n",
    "```python\n",
    "group_map = {'NY': 'East', 'LA': 'West'}\n",
    "df.groupby(df['City'].map(group_map))['Profit'].mean()\n",
    "```\n"
   ]
  },
  {
   "cell_type": "markdown",
   "id": "ae5cb5c6",
   "metadata": {},
   "source": [
    "## 4. **Common Pitfalls and Best Practices**\n",
    "\n",
    "| ❌ Pitfall                              | ✅ Solution                                                             |\n",
    "| -------------------------------------- | ---------------------------------------------------------------------- |\n",
    "| `groupby()` returns unexpected indexes | Use `as_index=False` to keep group columns as columns                  |\n",
    "| Losing data due to `NaN` in group key  | Set `dropna=False` to include NaN groups                               |\n",
    "| Forgetting to aggregate after groupby  | Always follow with an aggregation (`.sum()`, `.count()`, etc.)         |\n",
    "| Using `.apply()` unnecessarily         | Prefer `.agg()` or `.transform()` when possible for better performance |\n",
    "| Sorting groups slows performance       | Set `sort=False` if sorting is not required                            |\n"
   ]
  },
  {
   "cell_type": "markdown",
   "id": "53a27ed4",
   "metadata": {},
   "source": [
    "## 5. **Examples on Real/Pseudo Data**"
   ]
  },
  {
   "cell_type": "code",
   "execution_count": 2,
   "id": "acfe8db1",
   "metadata": {},
   "outputs": [
    {
     "data": {
      "text/html": [
       "<div>\n",
       "<style scoped>\n",
       "    .dataframe tbody tr th:only-of-type {\n",
       "        vertical-align: middle;\n",
       "    }\n",
       "\n",
       "    .dataframe tbody tr th {\n",
       "        vertical-align: top;\n",
       "    }\n",
       "\n",
       "    .dataframe thead th {\n",
       "        text-align: right;\n",
       "    }\n",
       "</style>\n",
       "<table border=\"1\" class=\"dataframe\">\n",
       "  <thead>\n",
       "    <tr style=\"text-align: right;\">\n",
       "      <th></th>\n",
       "      <th>Department</th>\n",
       "      <th>Employee</th>\n",
       "      <th>Salary</th>\n",
       "      <th>Bonus</th>\n",
       "    </tr>\n",
       "  </thead>\n",
       "  <tbody>\n",
       "    <tr>\n",
       "      <th>0</th>\n",
       "      <td>HR</td>\n",
       "      <td>Alice</td>\n",
       "      <td>50000</td>\n",
       "      <td>2000</td>\n",
       "    </tr>\n",
       "    <tr>\n",
       "      <th>1</th>\n",
       "      <td>HR</td>\n",
       "      <td>Bob</td>\n",
       "      <td>52000</td>\n",
       "      <td>2100</td>\n",
       "    </tr>\n",
       "    <tr>\n",
       "      <th>2</th>\n",
       "      <td>IT</td>\n",
       "      <td>Charlie</td>\n",
       "      <td>60000</td>\n",
       "      <td>2500</td>\n",
       "    </tr>\n",
       "    <tr>\n",
       "      <th>3</th>\n",
       "      <td>IT</td>\n",
       "      <td>David</td>\n",
       "      <td>62000</td>\n",
       "      <td>2700</td>\n",
       "    </tr>\n",
       "    <tr>\n",
       "      <th>4</th>\n",
       "      <td>Finance</td>\n",
       "      <td>Eve</td>\n",
       "      <td>58000</td>\n",
       "      <td>2300</td>\n",
       "    </tr>\n",
       "    <tr>\n",
       "      <th>5</th>\n",
       "      <td>Finance</td>\n",
       "      <td>Frank</td>\n",
       "      <td>61000</td>\n",
       "      <td>2600</td>\n",
       "    </tr>\n",
       "  </tbody>\n",
       "</table>\n",
       "</div>"
      ],
      "text/plain": [
       "  Department Employee  Salary  Bonus\n",
       "0         HR    Alice   50000   2000\n",
       "1         HR      Bob   52000   2100\n",
       "2         IT  Charlie   60000   2500\n",
       "3         IT    David   62000   2700\n",
       "4    Finance      Eve   58000   2300\n",
       "5    Finance    Frank   61000   2600"
      ]
     },
     "execution_count": 2,
     "metadata": {},
     "output_type": "execute_result"
    }
   ],
   "source": [
    "data = {\n",
    "    'Department': ['HR', 'HR', 'IT', 'IT', 'Finance', 'Finance'],\n",
    "    'Employee': ['Alice', 'Bob', 'Charlie', 'David', 'Eve', 'Frank'],\n",
    "    'Salary': [50000, 52000, 60000, 62000, 58000, 61000],\n",
    "    'Bonus': [2000, 2100, 2500, 2700, 2300, 2600]\n",
    "}\n",
    "\n",
    "df = pd.DataFrame(data)\n",
    "\n",
    "df"
   ]
  },
  {
   "cell_type": "code",
   "execution_count": 3,
   "id": "9b9cebb0",
   "metadata": {},
   "outputs": [
    {
     "data": {
      "text/plain": [
       "Department\n",
       "Finance    119000\n",
       "HR         102000\n",
       "IT         122000\n",
       "Name: Salary, dtype: int64"
      ]
     },
     "execution_count": 3,
     "metadata": {},
     "output_type": "execute_result"
    }
   ],
   "source": [
    "### ✅ Total salary by department\n",
    "df.groupby('Department')['Salary'].sum()"
   ]
  },
  {
   "cell_type": "code",
   "execution_count": 4,
   "id": "b0fbf07d",
   "metadata": {},
   "outputs": [
    {
     "data": {
      "text/plain": [
       "Department\n",
       "Finance    2450.0\n",
       "HR         2050.0\n",
       "IT         2600.0\n",
       "Name: Bonus, dtype: float64"
      ]
     },
     "execution_count": 4,
     "metadata": {},
     "output_type": "execute_result"
    }
   ],
   "source": [
    "### ✅ Average bonus by department\n",
    "df.groupby('Department')['Bonus'].mean()"
   ]
  },
  {
   "cell_type": "code",
   "execution_count": 6,
   "id": "9e472618",
   "metadata": {},
   "outputs": [
    {
     "data": {
      "text/plain": [
       "Department\n",
       "Finance    2\n",
       "HR         2\n",
       "IT         2\n",
       "dtype: int64"
      ]
     },
     "execution_count": 6,
     "metadata": {},
     "output_type": "execute_result"
    }
   ],
   "source": [
    "### ✅ Count of employees in each department\n",
    "df.groupby('Department').size()"
   ]
  },
  {
   "cell_type": "code",
   "execution_count": 7,
   "id": "627cdd33",
   "metadata": {},
   "outputs": [
    {
     "data": {
      "text/html": [
       "<div>\n",
       "<style scoped>\n",
       "    .dataframe tbody tr th:only-of-type {\n",
       "        vertical-align: middle;\n",
       "    }\n",
       "\n",
       "    .dataframe tbody tr th {\n",
       "        vertical-align: top;\n",
       "    }\n",
       "\n",
       "    .dataframe thead th {\n",
       "        text-align: right;\n",
       "    }\n",
       "</style>\n",
       "<table border=\"1\" class=\"dataframe\">\n",
       "  <thead>\n",
       "    <tr style=\"text-align: right;\">\n",
       "      <th></th>\n",
       "      <th>Salary</th>\n",
       "      <th>Bonus</th>\n",
       "    </tr>\n",
       "    <tr>\n",
       "      <th>Department</th>\n",
       "      <th></th>\n",
       "      <th></th>\n",
       "    </tr>\n",
       "  </thead>\n",
       "  <tbody>\n",
       "    <tr>\n",
       "      <th>Finance</th>\n",
       "      <td>59500.0</td>\n",
       "      <td>2450.0</td>\n",
       "    </tr>\n",
       "    <tr>\n",
       "      <th>HR</th>\n",
       "      <td>51000.0</td>\n",
       "      <td>2050.0</td>\n",
       "    </tr>\n",
       "    <tr>\n",
       "      <th>IT</th>\n",
       "      <td>61000.0</td>\n",
       "      <td>2600.0</td>\n",
       "    </tr>\n",
       "  </tbody>\n",
       "</table>\n",
       "</div>"
      ],
      "text/plain": [
       "             Salary   Bonus\n",
       "Department                 \n",
       "Finance     59500.0  2450.0\n",
       "HR          51000.0  2050.0\n",
       "IT          61000.0  2600.0"
      ]
     },
     "execution_count": 7,
     "metadata": {},
     "output_type": "execute_result"
    }
   ],
   "source": [
    "### ✅ Multiple aggregations\n",
    "df.groupby('Department')[['Salary', 'Bonus']].mean()"
   ]
  },
  {
   "cell_type": "code",
   "execution_count": 8,
   "id": "dbeb8ad5",
   "metadata": {},
   "outputs": [
    {
     "data": {
      "text/html": [
       "<div>\n",
       "<style scoped>\n",
       "    .dataframe tbody tr th:only-of-type {\n",
       "        vertical-align: middle;\n",
       "    }\n",
       "\n",
       "    .dataframe tbody tr th {\n",
       "        vertical-align: top;\n",
       "    }\n",
       "\n",
       "    .dataframe thead th {\n",
       "        text-align: right;\n",
       "    }\n",
       "</style>\n",
       "<table border=\"1\" class=\"dataframe\">\n",
       "  <thead>\n",
       "    <tr style=\"text-align: right;\">\n",
       "      <th></th>\n",
       "      <th>Department</th>\n",
       "      <th>Salary</th>\n",
       "    </tr>\n",
       "  </thead>\n",
       "  <tbody>\n",
       "    <tr>\n",
       "      <th>0</th>\n",
       "      <td>Finance</td>\n",
       "      <td>119000</td>\n",
       "    </tr>\n",
       "    <tr>\n",
       "      <th>1</th>\n",
       "      <td>HR</td>\n",
       "      <td>102000</td>\n",
       "    </tr>\n",
       "    <tr>\n",
       "      <th>2</th>\n",
       "      <td>IT</td>\n",
       "      <td>122000</td>\n",
       "    </tr>\n",
       "  </tbody>\n",
       "</table>\n",
       "</div>"
      ],
      "text/plain": [
       "  Department  Salary\n",
       "0    Finance  119000\n",
       "1         HR  102000\n",
       "2         IT  122000"
      ]
     },
     "execution_count": 8,
     "metadata": {},
     "output_type": "execute_result"
    }
   ],
   "source": [
    "### ✅ Group without setting index\n",
    "df.groupby('Department', as_index=False)['Salary'].sum()"
   ]
  },
  {
   "cell_type": "markdown",
   "id": "3d3ade98",
   "metadata": {},
   "source": [
    "## 6. **Real-World Use Cases**\n",
    "\n",
    "### 🏬 Sales Analysis\n",
    "\n",
    "**Task**: Calculate total sales per region per product.\n",
    "\n",
    "```python\n",
    "sales_df.groupby(['Region', 'Product'])['Sales'].sum()\n",
    "```\n",
    "\n",
    "---\n",
    "\n",
    "### 🏢 HR Analytics\n",
    "\n",
    "**Task**: Find average salary and bonus per department.\n",
    "\n",
    "```python\n",
    "hr_df.groupby('Department')[['Salary', 'Bonus']].mean()\n",
    "```\n",
    "\n",
    "---\n",
    "\n",
    "### 🎓 Education\n",
    "\n",
    "**Task**: Count students passed per subject.\n",
    "\n",
    "```python\n",
    "exam_df[exam_df['Result'] == 'Pass'].groupby('Subject')['Student'].count()\n",
    "```\n",
    "\n",
    "---\n",
    "\n",
    "### 🧪 Healthcare\n",
    "\n",
    "**Task**: Find average hospital stay duration per diagnosis.\n",
    "\n",
    "```python\n",
    "hospital_df.groupby('Diagnosis')['Stay_Duration'].mean()\n",
    "```\n",
    "\n",
    "---\n",
    "\n",
    "### 🛒 Retail\n",
    "\n",
    "**Task**: Find number of unique customers per store.\n",
    "\n",
    "```python\n",
    "retail_df.groupby('Store')['CustomerID'].nunique()\n",
    "```\n"
   ]
  },
  {
   "cell_type": "markdown",
   "id": "cf7aea91",
   "metadata": {},
   "source": [
    "## ✅ Summary\n",
    "\n",
    "| Key Concept         | Description                                        |\n",
    "| ------------------- | -------------------------------------------------- |\n",
    "| `.groupby()`        | Used to split data into groups                     |\n",
    "| Follow-up methods   | `.sum()`, `.mean()`, `.count()`, `.size()`, etc.   |\n",
    "| Parameters to know  | `as_index`, `dropna`, `sort`                       |\n",
    "| Avoid common issues | Use `as_index=False`, handle NaNs, prefer `.agg()` |\n"
   ]
  },
  {
   "cell_type": "markdown",
   "id": "81bccb98",
   "metadata": {},
   "source": [
    "<center><b>Thanks</b></center>"
   ]
  }
 ],
 "metadata": {
  "kernelspec": {
   "display_name": "venv",
   "language": "python",
   "name": "python3"
  },
  "language_info": {
   "codemirror_mode": {
    "name": "ipython",
    "version": 3
   },
   "file_extension": ".py",
   "mimetype": "text/x-python",
   "name": "python",
   "nbconvert_exporter": "python",
   "pygments_lexer": "ipython3",
   "version": "3.10.2"
  }
 },
 "nbformat": 4,
 "nbformat_minor": 5
}
