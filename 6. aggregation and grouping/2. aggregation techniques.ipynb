{
 "cells": [
  {
   "cell_type": "markdown",
   "id": "1d8ce07b",
   "metadata": {},
   "source": [
    "# **6. Aggregation & Grouping**"
   ]
  },
  {
   "cell_type": "markdown",
   "id": "bed07006",
   "metadata": {},
   "source": [
    "## **2. Aggregation Techniques with `.agg()`**"
   ]
  },
  {
   "cell_type": "code",
   "execution_count": 1,
   "id": "796a3f46",
   "metadata": {},
   "outputs": [],
   "source": [
    "import pandas as pd"
   ]
  },
  {
   "cell_type": "markdown",
   "id": "a24ef42f",
   "metadata": {},
   "source": [
    "## 1. **What it does and when to use it**\n",
    "\n",
    "### 📌 What is `.agg()`?\n",
    "\n",
    "`.agg()` stands for **\"aggregate\"**, and it allows you to apply **one or multiple aggregation functions** **simultaneously** to a DataFrame or Series — especially after using `groupby()`.\n",
    "\n",
    "It's more powerful and flexible than calling `.sum()`, `.mean()`, etc., one by one.\n",
    "\n",
    "---\n",
    "\n",
    "### 🧠 When to use `.agg()`?\n",
    "\n",
    "Use `.agg()` when you:\n",
    "\n",
    "* Want to apply **multiple aggregation functions** to one or more columns.\n",
    "* Need **different aggregations per column**.\n",
    "* Want to apply **custom or user-defined functions**.\n",
    "* Need readable, labeled summaries of group-level statistics.\n"
   ]
  },
  {
   "cell_type": "markdown",
   "id": "226524da",
   "metadata": {},
   "source": [
    "## 2. **Syntax and Core Parameters**\n",
    "\n",
    "### 🔤 General Syntax:\n",
    "\n",
    "```python\n",
    "df.groupby('column').agg(func)\n",
    "```\n",
    "\n",
    "Where `func` can be:\n",
    "\n",
    "* A string: `'sum'`, `'mean'`, etc.\n",
    "* A list of functions: `['sum', 'mean']`\n",
    "* A dictionary: `{'col1': 'sum', 'col2': ['mean', 'max']}`\n",
    "* A lambda or custom function\n",
    "\n",
    "### 🧾 Example Structures:\n",
    "\n",
    "#### a. **Single function on single column:**\n",
    "\n",
    "```python\n",
    "df.groupby('Region')['Sales'].agg('sum')\n",
    "```\n",
    "\n",
    "#### b. **Multiple functions on one column:**\n",
    "\n",
    "```python\n",
    "df.groupby('Region')['Sales'].agg(['sum', 'mean', 'max'])\n",
    "```\n",
    "\n",
    "#### c. **Different functions on different columns:**\n",
    "\n",
    "```python\n",
    "df.groupby('Region').agg({'Sales': 'sum', 'Profit': 'mean'})\n",
    "```\n",
    "\n",
    "#### d. **Custom lambda functions:**\n",
    "\n",
    "```python\n",
    "df.groupby('Region')['Sales'].agg(lambda x: x.max() - x.min())\n",
    "```\n",
    "\n",
    "#### e. **Named aggregations (cleaner labels):**\n",
    "\n",
    "```python\n",
    "df.groupby('Region').agg(\n",
    "    total_sales=('Sales', 'sum'),\n",
    "    avg_profit=('Profit', 'mean')\n",
    ")\n",
    "```\n"
   ]
  },
  {
   "cell_type": "markdown",
   "id": "5fecedcb",
   "metadata": {},
   "source": [
    "## 3. **Different Methods and Techniques**\n",
    "\n",
    "| Technique                                | Description               | Example                                |\n",
    "| ---------------------------------------- | ------------------------- | -------------------------------------- |\n",
    "| Single function                          | Apply one aggregation     | `.agg('sum')`                          |\n",
    "| Multiple functions on one column         | Create multiple summaries | `.agg(['mean', 'max'])`                |\n",
    "| Different functions on different columns | Full customization        | `.agg({'col1': 'sum', 'col2': 'std'})` |\n",
    "| Lambda/UDFs                              | Custom aggregation logic  | `.agg(lambda x: x.max() - x.min())`    |\n",
    "| Named Aggregations                       | Rename results inline     | `.agg(avg_salary=('Salary', 'mean'))`  |\n"
   ]
  },
  {
   "cell_type": "markdown",
   "id": "18ebf44f",
   "metadata": {},
   "source": [
    "## 4. **Common Pitfalls and Best Practices**\n",
    "\n",
    "| ❌ Pitfall                                 | ✅ Best Practice                                        |\n",
    "| ----------------------------------------- | ------------------------------------------------------ |\n",
    "| Applying string method across all columns | Be explicit with column names in dict form             |\n",
    "| Unclear column names after aggregation    | Use **named aggregations** for clean labeling          |\n",
    "| Using lambdas inefficiently               | For large datasets, use built-in methods when possible |\n",
    "| Forgetting `.reset_index()`               | Use it if you want group keys as regular columns       |\n",
    "| Overcomplicating logic                    | Prefer `.agg()` over `.apply()` for performance        |\n"
   ]
  },
  {
   "cell_type": "markdown",
   "id": "5652fd0c",
   "metadata": {},
   "source": [
    "## 5. **Examples on Real/Pseudo Data**"
   ]
  },
  {
   "cell_type": "code",
   "execution_count": 2,
   "id": "9e891f9e",
   "metadata": {},
   "outputs": [
    {
     "data": {
      "text/html": [
       "<div>\n",
       "<style scoped>\n",
       "    .dataframe tbody tr th:only-of-type {\n",
       "        vertical-align: middle;\n",
       "    }\n",
       "\n",
       "    .dataframe tbody tr th {\n",
       "        vertical-align: top;\n",
       "    }\n",
       "\n",
       "    .dataframe thead th {\n",
       "        text-align: right;\n",
       "    }\n",
       "</style>\n",
       "<table border=\"1\" class=\"dataframe\">\n",
       "  <thead>\n",
       "    <tr style=\"text-align: right;\">\n",
       "      <th></th>\n",
       "      <th>Region</th>\n",
       "      <th>Sales</th>\n",
       "      <th>Profit</th>\n",
       "    </tr>\n",
       "  </thead>\n",
       "  <tbody>\n",
       "    <tr>\n",
       "      <th>0</th>\n",
       "      <td>East</td>\n",
       "      <td>300</td>\n",
       "      <td>30</td>\n",
       "    </tr>\n",
       "    <tr>\n",
       "      <th>1</th>\n",
       "      <td>East</td>\n",
       "      <td>400</td>\n",
       "      <td>40</td>\n",
       "    </tr>\n",
       "    <tr>\n",
       "      <th>2</th>\n",
       "      <td>West</td>\n",
       "      <td>500</td>\n",
       "      <td>50</td>\n",
       "    </tr>\n",
       "    <tr>\n",
       "      <th>3</th>\n",
       "      <td>West</td>\n",
       "      <td>600</td>\n",
       "      <td>60</td>\n",
       "    </tr>\n",
       "    <tr>\n",
       "      <th>4</th>\n",
       "      <td>North</td>\n",
       "      <td>200</td>\n",
       "      <td>20</td>\n",
       "    </tr>\n",
       "    <tr>\n",
       "      <th>5</th>\n",
       "      <td>North</td>\n",
       "      <td>250</td>\n",
       "      <td>25</td>\n",
       "    </tr>\n",
       "  </tbody>\n",
       "</table>\n",
       "</div>"
      ],
      "text/plain": [
       "  Region  Sales  Profit\n",
       "0   East    300      30\n",
       "1   East    400      40\n",
       "2   West    500      50\n",
       "3   West    600      60\n",
       "4  North    200      20\n",
       "5  North    250      25"
      ]
     },
     "execution_count": 2,
     "metadata": {},
     "output_type": "execute_result"
    }
   ],
   "source": [
    "data = {\n",
    "    'Region': ['East', 'East', 'West', 'West', 'North', 'North'],\n",
    "    'Sales': [300, 400, 500, 600, 200, 250],\n",
    "    'Profit': [30, 40, 50, 60, 20, 25]\n",
    "}\n",
    "\n",
    "df = pd.DataFrame(data)\n",
    "\n",
    "df"
   ]
  },
  {
   "cell_type": "code",
   "execution_count": 3,
   "id": "d6f2adb4",
   "metadata": {},
   "outputs": [
    {
     "data": {
      "text/plain": [
       "Region\n",
       "East      700\n",
       "North     450\n",
       "West     1100\n",
       "Name: Sales, dtype: int64"
      ]
     },
     "execution_count": 3,
     "metadata": {},
     "output_type": "execute_result"
    }
   ],
   "source": [
    "### ✅ a. Apply single aggregation\n",
    "df.groupby('Region')['Sales'].agg('sum')"
   ]
  },
  {
   "cell_type": "code",
   "execution_count": 4,
   "id": "c811e946",
   "metadata": {},
   "outputs": [
    {
     "data": {
      "text/html": [
       "<div>\n",
       "<style scoped>\n",
       "    .dataframe tbody tr th:only-of-type {\n",
       "        vertical-align: middle;\n",
       "    }\n",
       "\n",
       "    .dataframe tbody tr th {\n",
       "        vertical-align: top;\n",
       "    }\n",
       "\n",
       "    .dataframe thead th {\n",
       "        text-align: right;\n",
       "    }\n",
       "</style>\n",
       "<table border=\"1\" class=\"dataframe\">\n",
       "  <thead>\n",
       "    <tr style=\"text-align: right;\">\n",
       "      <th></th>\n",
       "      <th>sum</th>\n",
       "      <th>mean</th>\n",
       "      <th>max</th>\n",
       "    </tr>\n",
       "    <tr>\n",
       "      <th>Region</th>\n",
       "      <th></th>\n",
       "      <th></th>\n",
       "      <th></th>\n",
       "    </tr>\n",
       "  </thead>\n",
       "  <tbody>\n",
       "    <tr>\n",
       "      <th>East</th>\n",
       "      <td>700</td>\n",
       "      <td>350.0</td>\n",
       "      <td>400</td>\n",
       "    </tr>\n",
       "    <tr>\n",
       "      <th>North</th>\n",
       "      <td>450</td>\n",
       "      <td>225.0</td>\n",
       "      <td>250</td>\n",
       "    </tr>\n",
       "    <tr>\n",
       "      <th>West</th>\n",
       "      <td>1100</td>\n",
       "      <td>550.0</td>\n",
       "      <td>600</td>\n",
       "    </tr>\n",
       "  </tbody>\n",
       "</table>\n",
       "</div>"
      ],
      "text/plain": [
       "         sum   mean  max\n",
       "Region                  \n",
       "East     700  350.0  400\n",
       "North    450  225.0  250\n",
       "West    1100  550.0  600"
      ]
     },
     "execution_count": 4,
     "metadata": {},
     "output_type": "execute_result"
    }
   ],
   "source": [
    "### ✅ b. Multiple aggregations on one column\n",
    "df.groupby('Region')['Sales'].agg(['sum', 'mean', 'max'])"
   ]
  },
  {
   "cell_type": "code",
   "execution_count": 5,
   "id": "4ba62247",
   "metadata": {},
   "outputs": [
    {
     "data": {
      "text/html": [
       "<div>\n",
       "<style scoped>\n",
       "    .dataframe tbody tr th:only-of-type {\n",
       "        vertical-align: middle;\n",
       "    }\n",
       "\n",
       "    .dataframe tbody tr th {\n",
       "        vertical-align: top;\n",
       "    }\n",
       "\n",
       "    .dataframe thead th {\n",
       "        text-align: right;\n",
       "    }\n",
       "</style>\n",
       "<table border=\"1\" class=\"dataframe\">\n",
       "  <thead>\n",
       "    <tr style=\"text-align: right;\">\n",
       "      <th></th>\n",
       "      <th>Sales</th>\n",
       "      <th>Profit</th>\n",
       "    </tr>\n",
       "    <tr>\n",
       "      <th>Region</th>\n",
       "      <th></th>\n",
       "      <th></th>\n",
       "    </tr>\n",
       "  </thead>\n",
       "  <tbody>\n",
       "    <tr>\n",
       "      <th>East</th>\n",
       "      <td>700</td>\n",
       "      <td>35.0</td>\n",
       "    </tr>\n",
       "    <tr>\n",
       "      <th>North</th>\n",
       "      <td>450</td>\n",
       "      <td>22.5</td>\n",
       "    </tr>\n",
       "    <tr>\n",
       "      <th>West</th>\n",
       "      <td>1100</td>\n",
       "      <td>55.0</td>\n",
       "    </tr>\n",
       "  </tbody>\n",
       "</table>\n",
       "</div>"
      ],
      "text/plain": [
       "        Sales  Profit\n",
       "Region               \n",
       "East      700    35.0\n",
       "North     450    22.5\n",
       "West     1100    55.0"
      ]
     },
     "execution_count": 5,
     "metadata": {},
     "output_type": "execute_result"
    }
   ],
   "source": [
    "### ✅ c. Aggregation per column\n",
    "df.groupby('Region').agg({'Sales': 'sum', 'Profit': 'mean'})"
   ]
  },
  {
   "cell_type": "code",
   "execution_count": 6,
   "id": "ad7453a7",
   "metadata": {},
   "outputs": [
    {
     "data": {
      "text/html": [
       "<div>\n",
       "<style scoped>\n",
       "    .dataframe tbody tr th:only-of-type {\n",
       "        vertical-align: middle;\n",
       "    }\n",
       "\n",
       "    .dataframe tbody tr th {\n",
       "        vertical-align: top;\n",
       "    }\n",
       "\n",
       "    .dataframe thead th {\n",
       "        text-align: right;\n",
       "    }\n",
       "</style>\n",
       "<table border=\"1\" class=\"dataframe\">\n",
       "  <thead>\n",
       "    <tr style=\"text-align: right;\">\n",
       "      <th></th>\n",
       "      <th>total_sales</th>\n",
       "      <th>avg_profit</th>\n",
       "    </tr>\n",
       "    <tr>\n",
       "      <th>Region</th>\n",
       "      <th></th>\n",
       "      <th></th>\n",
       "    </tr>\n",
       "  </thead>\n",
       "  <tbody>\n",
       "    <tr>\n",
       "      <th>East</th>\n",
       "      <td>700</td>\n",
       "      <td>35.0</td>\n",
       "    </tr>\n",
       "    <tr>\n",
       "      <th>North</th>\n",
       "      <td>450</td>\n",
       "      <td>22.5</td>\n",
       "    </tr>\n",
       "    <tr>\n",
       "      <th>West</th>\n",
       "      <td>1100</td>\n",
       "      <td>55.0</td>\n",
       "    </tr>\n",
       "  </tbody>\n",
       "</table>\n",
       "</div>"
      ],
      "text/plain": [
       "        total_sales  avg_profit\n",
       "Region                         \n",
       "East            700        35.0\n",
       "North           450        22.5\n",
       "West           1100        55.0"
      ]
     },
     "execution_count": 6,
     "metadata": {},
     "output_type": "execute_result"
    }
   ],
   "source": [
    "### ✅ d. Named Aggregations\n",
    "df.groupby('Region').agg(\n",
    "    total_sales=('Sales', 'sum'),\n",
    "    avg_profit=('Profit', 'mean')\n",
    ")"
   ]
  },
  {
   "cell_type": "code",
   "execution_count": 7,
   "id": "9bf57a2b",
   "metadata": {},
   "outputs": [
    {
     "data": {
      "text/plain": [
       "Region\n",
       "East     100\n",
       "North     50\n",
       "West     100\n",
       "Name: Sales, dtype: int64"
      ]
     },
     "execution_count": 7,
     "metadata": {},
     "output_type": "execute_result"
    }
   ],
   "source": [
    "### ✅ e. Custom lambda\n",
    "df.groupby('Region')['Sales'].agg(lambda x: x.max() - x.min())"
   ]
  },
  {
   "cell_type": "markdown",
   "id": "75d90c17",
   "metadata": {},
   "source": [
    "## 6. **Real World Use Cases**\n",
    "\n",
    "### 🏪 Retail Analytics\n",
    "\n",
    "**Task:** Show total and average sales and profits by region.\n",
    "\n",
    "```python\n",
    "df.groupby('Region').agg({\n",
    "    'Sales': ['sum', 'mean'],\n",
    "    'Profit': ['sum', 'mean']\n",
    "})\n",
    "```\n",
    "\n",
    "---\n",
    "\n",
    "### 💼 HR Analytics\n",
    "\n",
    "**Task:** Show highest and lowest salaries per department.\n",
    "\n",
    "```python\n",
    "df.groupby('Department')['Salary'].agg(['min', 'max'])\n",
    "```\n",
    "\n",
    "---\n",
    "\n",
    "### 🎓 Education\n",
    "\n",
    "**Task:** Calculate pass percentage per subject.\n",
    "\n",
    "```python\n",
    "exam_df.groupby('Subject').agg(\n",
    "    pass_rate=('Result', lambda x: (x == 'Pass').mean())\n",
    ")\n",
    "```\n",
    "\n",
    "---\n",
    "\n",
    "### 🏥 Healthcare\n",
    "\n",
    "**Task:** Average hospital stay duration per disease.\n",
    "\n",
    "```python\n",
    "hospital_df.groupby('Diagnosis')['Stay'].agg('mean')\n",
    "```\n",
    "\n",
    "---\n",
    "\n",
    "### 📦 Supply Chain\n",
    "\n",
    "**Task:** Count orders and average delivery time per vendor.\n",
    "\n",
    "```python\n",
    "df.groupby('Vendor').agg(\n",
    "    order_count=('OrderID', 'count'),\n",
    "    avg_delivery_time=('DeliveryDays', 'mean')\n",
    ")\n",
    "```\n"
   ]
  },
  {
   "cell_type": "markdown",
   "id": "651f4791",
   "metadata": {},
   "source": [
    "## ✅ Summary\n",
    "\n",
    "| 🔍 Feature | 📌 Use                                |\n",
    "| ---------- | ------------------------------------- |\n",
    "| `.agg()`   | Flexible grouping aggregations        |\n",
    "| Works with | Strings, lists, dictionaries, lambdas |\n",
    "| Best for   | Multiple stats per column/group       |\n",
    "| Tip        | Use named aggregations for clarity    |\n"
   ]
  },
  {
   "cell_type": "markdown",
   "id": "847c55c7",
   "metadata": {},
   "source": [
    "<center><b>Thanks</b></center>"
   ]
  }
 ],
 "metadata": {
  "kernelspec": {
   "display_name": "venv",
   "language": "python",
   "name": "python3"
  },
  "language_info": {
   "codemirror_mode": {
    "name": "ipython",
    "version": 3
   },
   "file_extension": ".py",
   "mimetype": "text/x-python",
   "name": "python",
   "nbconvert_exporter": "python",
   "pygments_lexer": "ipython3",
   "version": "3.10.2"
  }
 },
 "nbformat": 4,
 "nbformat_minor": 5
}
