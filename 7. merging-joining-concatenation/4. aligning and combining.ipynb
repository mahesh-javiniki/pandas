{
 "cells": [
  {
   "cell_type": "markdown",
   "id": "1190a3fd",
   "metadata": {},
   "source": [
    "# **7. Merging, Joining & Concatenation**"
   ]
  },
  {
   "cell_type": "markdown",
   "id": "babe0bfc",
   "metadata": {},
   "source": [
    "## **4. Aligning & Combining Data with Different Indexes**"
   ]
  },
  {
   "cell_type": "code",
   "execution_count": 8,
   "id": "1d9e2d03",
   "metadata": {},
   "outputs": [],
   "source": [
    "import pandas as pd\n",
    "import numpy as np"
   ]
  },
  {
   "cell_type": "markdown",
   "id": "d8e14ef4",
   "metadata": {},
   "source": [
    "**Aligning & Combining Data with Different Indexes**, a subtle but powerful aspect of pandas that enables **clean and intelligent merging of datasets** when their indexes don’t exactly match.\n",
    "\n",
    "This concept is especially important when:\n",
    "\n",
    "* You want to **align data structures** for mathematical operations.\n",
    "* You are **combining partially overlapping datasets**.\n",
    "* You're filling missing values intelligently using other data sources.\n"
   ]
  },
  {
   "cell_type": "markdown",
   "id": "03870996",
   "metadata": {},
   "source": [
    "## ✅ 1. What It Does and When to Use It\n",
    "\n",
    "### 🔹 What It Does:\n",
    "\n",
    "Pandas provides tools like **`.align()`** and **`.combine_first()`** to:\n",
    "\n",
    "* **Align indexes** of two Series or DataFrames.\n",
    "* Perform **element-wise operations** safely on mismatched data.\n",
    "* Combine data **intelligently** while **preserving non-null values**.\n",
    "\n",
    "### 🔹 When to Use:\n",
    "\n",
    "* Two datasets have **different or partially overlapping indexes**.\n",
    "* You're doing **mathematical operations** (add, subtract, etc.) across Series/DataFrames.\n",
    "* You want to **fill missing values** in one dataset using values from another.\n",
    "* You want to ensure **both DataFrames have the same shape** for safe comparison.\n"
   ]
  },
  {
   "cell_type": "markdown",
   "id": "8ff4454c",
   "metadata": {},
   "source": [
    "## 🧾 2. Syntax and Core Parameters\n",
    "\n",
    "\n",
    "### 🔸 `.align()` – Align Two Objects on Index (and/or Columns)\n",
    "\n",
    "```python\n",
    "left_aligned, right_aligned = df1.align(df2, join='outer', axis=0, fill_value=None)\n",
    "```\n",
    "\n",
    "#### Parameters:\n",
    "\n",
    "| Parameter    | Description                                         |\n",
    "| ------------ | --------------------------------------------------- |\n",
    "| `other`      | The other DataFrame or Series to align with         |\n",
    "| `join`       | `'outer'` (default), `'inner'`, `'left'`, `'right'` |\n",
    "| `axis`       | Align on index (`0`), columns (`1`), or both        |\n",
    "| `fill_value` | Value to fill in for missing labels                 |\n",
    "\n",
    "\n",
    "\n",
    "### 🔸 `.combine_first()` – Combine Two DataFrames by Filling Missing Values from Another\n",
    "\n",
    "```python\n",
    "result = df1.combine_first(df2)\n",
    "```\n",
    "\n",
    "* Takes values from `df1`, and fills **only missing entries** with values from `df2`.\n"
   ]
  },
  {
   "cell_type": "markdown",
   "id": "602b0516",
   "metadata": {},
   "source": [
    "## 🧠 3. Different Methods & Techniques\n",
    "\n",
    "### 🔸 A. Aligning Two Series or DataFrames\n",
    "\n",
    "```python\n",
    "a, b = df1.align(df2)\n",
    "```\n",
    "\n",
    "* Returns aligned versions of `df1` and `df2` with matching indexes/columns.\n",
    "\n",
    "---\n",
    "\n",
    "### 🔸 B. Arithmetic Operations with Auto-alignment\n",
    "\n",
    "```python\n",
    "df1 + df2\n",
    "```\n",
    "\n",
    "* Pandas **automatically aligns indexes** before performing element-wise addition/subtraction/multiplication.\n",
    "\n",
    "---\n",
    "\n",
    "### 🔸 C. Filling Gaps Using `combine_first()`\n",
    "\n",
    "```python\n",
    "df1.combine_first(df2)\n",
    "```\n",
    "\n",
    "* Fill `NaN` values in `df1` with non-null values from `df2`.\n",
    "\n",
    "---\n",
    "\n",
    "### 🔸 D. Aligning Only on Index or Columns\n",
    "\n",
    "```python\n",
    "df1.align(df2, axis=1, join='inner')\n",
    "```\n",
    "\n",
    "* Align only columns, useful for side-by-side analysis.\n"
   ]
  },
  {
   "cell_type": "markdown",
   "id": "cb1230cd",
   "metadata": {},
   "source": [
    "## ⚠️ 4. Common Pitfalls and Best Practices\n",
    "\n",
    "| Pitfall                                                 | Best Practice                                                       |\n",
    "| ------------------------------------------------------- | ------------------------------------------------------------------- |\n",
    "| ❌ Misaligned indexes cause NaNs in arithmetic ops       | ✅ Use `.align()` before arithmetic operations                       |\n",
    "| ❌ Unexpected shape after operations                     | ✅ Always check shape of both objects using `.shape` before aligning |\n",
    "| ❌ Overwriting important values using `.combine_first()` | ✅ Only use when you're certain which data should be preserved       |\n",
    "| ❌ Wrong assumptions on index order                      | ✅ Use `.sort_index()` if needed to maintain consistency             |\n",
    "| ❌ Forgetting fill values in `.align()`                  | ✅ Use `fill_value=0` or other appropriate values to avoid NaNs      |\n"
   ]
  },
  {
   "cell_type": "markdown",
   "id": "33fcc48c",
   "metadata": {},
   "source": [
    "## 🧪 5. Examples on Real/Pseudo Data\n",
    "### ✅ Example 1: Aligning Two Series"
   ]
  },
  {
   "cell_type": "code",
   "execution_count": 2,
   "id": "95c8165f",
   "metadata": {},
   "outputs": [
    {
     "data": {
      "text/plain": [
       "a    1\n",
       "b    2\n",
       "dtype: int64"
      ]
     },
     "metadata": {},
     "output_type": "display_data"
    },
    {
     "data": {
      "text/plain": [
       "b    3\n",
       "c    4\n",
       "dtype: int64"
      ]
     },
     "metadata": {},
     "output_type": "display_data"
    }
   ],
   "source": [
    "s1 = pd.Series([1, 2], index=['a', 'b'])\n",
    "s2 = pd.Series([3, 4], index=['b', 'c'])\n",
    "\n",
    "display(s1, s2)"
   ]
  },
  {
   "cell_type": "code",
   "execution_count": 3,
   "id": "ce1cbcc5",
   "metadata": {},
   "outputs": [
    {
     "data": {
      "text/plain": [
       "a    1.0\n",
       "b    2.0\n",
       "c    NaN\n",
       "dtype: float64"
      ]
     },
     "metadata": {},
     "output_type": "display_data"
    },
    {
     "data": {
      "text/plain": [
       "a    NaN\n",
       "b    3.0\n",
       "c    4.0\n",
       "dtype: float64"
      ]
     },
     "metadata": {},
     "output_type": "display_data"
    }
   ],
   "source": [
    "aligned_s1, aligned_s2 = s1.align(s2)\n",
    "\n",
    "display(aligned_s1, aligned_s2)"
   ]
  },
  {
   "cell_type": "markdown",
   "id": "11b495f5",
   "metadata": {},
   "source": [
    "### ✅ Example 2: Aligning with Fill Value"
   ]
  },
  {
   "cell_type": "code",
   "execution_count": 5,
   "id": "4fcd2918",
   "metadata": {},
   "outputs": [
    {
     "data": {
      "text/plain": [
       "a    1.0\n",
       "b    2.0\n",
       "c    0.0\n",
       "dtype: float64"
      ]
     },
     "metadata": {},
     "output_type": "display_data"
    },
    {
     "data": {
      "text/plain": [
       "a    0.0\n",
       "b    3.0\n",
       "c    4.0\n",
       "dtype: float64"
      ]
     },
     "metadata": {},
     "output_type": "display_data"
    }
   ],
   "source": [
    "a1, a2 = s1.align(s2, fill_value=0)\n",
    "display(a1, a2)"
   ]
  },
  {
   "cell_type": "markdown",
   "id": "89ac9b74",
   "metadata": {},
   "source": [
    "### ✅ Example 3: Arithmetic Operation (Auto-aligned)"
   ]
  },
  {
   "cell_type": "code",
   "execution_count": 6,
   "id": "fad44d40",
   "metadata": {},
   "outputs": [
    {
     "data": {
      "text/plain": [
       "a    NaN\n",
       "b    5.0\n",
       "c    NaN\n",
       "dtype: float64"
      ]
     },
     "execution_count": 6,
     "metadata": {},
     "output_type": "execute_result"
    }
   ],
   "source": [
    "s1 + s2"
   ]
  },
  {
   "cell_type": "markdown",
   "id": "cf190993",
   "metadata": {},
   "source": [
    "### ✅ Example 4: Using `combine_first()` to Fill Missing Data"
   ]
  },
  {
   "cell_type": "code",
   "execution_count": 9,
   "id": "75abda41",
   "metadata": {},
   "outputs": [
    {
     "data": {
      "text/html": [
       "<div>\n",
       "<style scoped>\n",
       "    .dataframe tbody tr th:only-of-type {\n",
       "        vertical-align: middle;\n",
       "    }\n",
       "\n",
       "    .dataframe tbody tr th {\n",
       "        vertical-align: top;\n",
       "    }\n",
       "\n",
       "    .dataframe thead th {\n",
       "        text-align: right;\n",
       "    }\n",
       "</style>\n",
       "<table border=\"1\" class=\"dataframe\">\n",
       "  <thead>\n",
       "    <tr style=\"text-align: right;\">\n",
       "      <th></th>\n",
       "      <th>A</th>\n",
       "    </tr>\n",
       "  </thead>\n",
       "  <tbody>\n",
       "    <tr>\n",
       "      <th>a</th>\n",
       "      <td>1.0</td>\n",
       "    </tr>\n",
       "    <tr>\n",
       "      <th>b</th>\n",
       "      <td>NaN</td>\n",
       "    </tr>\n",
       "  </tbody>\n",
       "</table>\n",
       "</div>"
      ],
      "text/plain": [
       "     A\n",
       "a  1.0\n",
       "b  NaN"
      ]
     },
     "metadata": {},
     "output_type": "display_data"
    },
    {
     "data": {
      "text/html": [
       "<div>\n",
       "<style scoped>\n",
       "    .dataframe tbody tr th:only-of-type {\n",
       "        vertical-align: middle;\n",
       "    }\n",
       "\n",
       "    .dataframe tbody tr th {\n",
       "        vertical-align: top;\n",
       "    }\n",
       "\n",
       "    .dataframe thead th {\n",
       "        text-align: right;\n",
       "    }\n",
       "</style>\n",
       "<table border=\"1\" class=\"dataframe\">\n",
       "  <thead>\n",
       "    <tr style=\"text-align: right;\">\n",
       "      <th></th>\n",
       "      <th>A</th>\n",
       "    </tr>\n",
       "  </thead>\n",
       "  <tbody>\n",
       "    <tr>\n",
       "      <th>a</th>\n",
       "      <td>10</td>\n",
       "    </tr>\n",
       "    <tr>\n",
       "      <th>b</th>\n",
       "      <td>20</td>\n",
       "    </tr>\n",
       "  </tbody>\n",
       "</table>\n",
       "</div>"
      ],
      "text/plain": [
       "    A\n",
       "a  10\n",
       "b  20"
      ]
     },
     "metadata": {},
     "output_type": "display_data"
    }
   ],
   "source": [
    "df1 = pd.DataFrame({'A': [1, np.nan]}, index=['a', 'b'])\n",
    "df2 = pd.DataFrame({'A': [10, 20]}, index=['a', 'b'])\n",
    "\n",
    "display(df1, df2)"
   ]
  },
  {
   "cell_type": "code",
   "execution_count": 10,
   "id": "40faa3cb",
   "metadata": {},
   "outputs": [
    {
     "data": {
      "text/html": [
       "<div>\n",
       "<style scoped>\n",
       "    .dataframe tbody tr th:only-of-type {\n",
       "        vertical-align: middle;\n",
       "    }\n",
       "\n",
       "    .dataframe tbody tr th {\n",
       "        vertical-align: top;\n",
       "    }\n",
       "\n",
       "    .dataframe thead th {\n",
       "        text-align: right;\n",
       "    }\n",
       "</style>\n",
       "<table border=\"1\" class=\"dataframe\">\n",
       "  <thead>\n",
       "    <tr style=\"text-align: right;\">\n",
       "      <th></th>\n",
       "      <th>A</th>\n",
       "    </tr>\n",
       "  </thead>\n",
       "  <tbody>\n",
       "    <tr>\n",
       "      <th>a</th>\n",
       "      <td>1.0</td>\n",
       "    </tr>\n",
       "    <tr>\n",
       "      <th>b</th>\n",
       "      <td>20.0</td>\n",
       "    </tr>\n",
       "  </tbody>\n",
       "</table>\n",
       "</div>"
      ],
      "text/plain": [
       "      A\n",
       "a   1.0\n",
       "b  20.0"
      ]
     },
     "execution_count": 10,
     "metadata": {},
     "output_type": "execute_result"
    }
   ],
   "source": [
    "df1.combine_first(df2)"
   ]
  },
  {
   "cell_type": "markdown",
   "id": "1e2a072b",
   "metadata": {},
   "source": [
    "### ✅ Example 5: Aligning on Columns Only"
   ]
  },
  {
   "cell_type": "code",
   "execution_count": 13,
   "id": "68a8e0da",
   "metadata": {},
   "outputs": [
    {
     "data": {
      "text/html": [
       "<div>\n",
       "<style scoped>\n",
       "    .dataframe tbody tr th:only-of-type {\n",
       "        vertical-align: middle;\n",
       "    }\n",
       "\n",
       "    .dataframe tbody tr th {\n",
       "        vertical-align: top;\n",
       "    }\n",
       "\n",
       "    .dataframe thead th {\n",
       "        text-align: right;\n",
       "    }\n",
       "</style>\n",
       "<table border=\"1\" class=\"dataframe\">\n",
       "  <thead>\n",
       "    <tr style=\"text-align: right;\">\n",
       "      <th></th>\n",
       "      <th>A</th>\n",
       "    </tr>\n",
       "  </thead>\n",
       "  <tbody>\n",
       "    <tr>\n",
       "      <th>a</th>\n",
       "      <td>1.0</td>\n",
       "    </tr>\n",
       "    <tr>\n",
       "      <th>b</th>\n",
       "      <td>NaN</td>\n",
       "    </tr>\n",
       "  </tbody>\n",
       "</table>\n",
       "</div>"
      ],
      "text/plain": [
       "     A\n",
       "a  1.0\n",
       "b  NaN"
      ]
     },
     "metadata": {},
     "output_type": "display_data"
    },
    {
     "data": {
      "text/html": [
       "<div>\n",
       "<style scoped>\n",
       "    .dataframe tbody tr th:only-of-type {\n",
       "        vertical-align: middle;\n",
       "    }\n",
       "\n",
       "    .dataframe tbody tr th {\n",
       "        vertical-align: top;\n",
       "    }\n",
       "\n",
       "    .dataframe thead th {\n",
       "        text-align: right;\n",
       "    }\n",
       "</style>\n",
       "<table border=\"1\" class=\"dataframe\">\n",
       "  <thead>\n",
       "    <tr style=\"text-align: right;\">\n",
       "      <th></th>\n",
       "      <th>A</th>\n",
       "    </tr>\n",
       "  </thead>\n",
       "  <tbody>\n",
       "    <tr>\n",
       "      <th>a</th>\n",
       "      <td>10</td>\n",
       "    </tr>\n",
       "    <tr>\n",
       "      <th>b</th>\n",
       "      <td>20</td>\n",
       "    </tr>\n",
       "  </tbody>\n",
       "</table>\n",
       "</div>"
      ],
      "text/plain": [
       "    A\n",
       "a  10\n",
       "b  20"
      ]
     },
     "metadata": {},
     "output_type": "display_data"
    }
   ],
   "source": [
    "a1, a2 = df1.align(df2, axis=1, join='inner')\n",
    "display(a1, a2)"
   ]
  },
  {
   "cell_type": "markdown",
   "id": "544e384b",
   "metadata": {},
   "source": [
    "* Useful when columns overlap but indexes differ.\n"
   ]
  },
  {
   "cell_type": "markdown",
   "id": "c4cafe9a",
   "metadata": {},
   "source": [
    "## 🌍 6. Real World Use Cases\n",
    "\n",
    "| Use Case                                       | Description                                                                     |\n",
    "| ---------------------------------------------- | ------------------------------------------------------------------------------- |\n",
    "| 🧮 **Merging logs from different systems**     | Align logs on timestamps (index), even if one system is missing records         |\n",
    "| 🩺 **Medical data integration**                | Align patient data from different clinics—some IDs may be missing in one source |\n",
    "| 📈 **Financial time series alignment**         | Align stock data from two sources on trading dates                              |\n",
    "| 🧠 **Imputation from backup sources**          | Use `combine_first()` to fill missing features using alternative data sources   |\n",
    "| 🔁 **Ensuring matching shape before modeling** | Use `.align()` to synchronize training/test datasets before model fitting       |\n"
   ]
  },
  {
   "cell_type": "markdown",
   "id": "d64cda70",
   "metadata": {},
   "source": [
    "## 📌 Summary\n",
    "\n",
    "| Feature        | Summary                                                                   |\n",
    "| -------------- | ------------------------------------------------------------------------- |\n",
    "| Purpose        | Align and combine datasets with different indexes                         |\n",
    "| Methods        | `.align()`, `.combine_first()`, arithmetic ops                            |\n",
    "| Join Options   | `outer`, `inner`, `left`, `right`                                         |\n",
    "| Use When       | Indexes or shapes don’t match but you still want to combine intelligently |\n",
    "| Best Practices | Always inspect alignment results; use `fill_value` wisely                 |\n"
   ]
  },
  {
   "cell_type": "markdown",
   "id": "100d9b70",
   "metadata": {},
   "source": [
    "<center><b>Thanks</b></center>"
   ]
  }
 ],
 "metadata": {
  "kernelspec": {
   "display_name": "venv",
   "language": "python",
   "name": "python3"
  },
  "language_info": {
   "codemirror_mode": {
    "name": "ipython",
    "version": 3
   },
   "file_extension": ".py",
   "mimetype": "text/x-python",
   "name": "python",
   "nbconvert_exporter": "python",
   "pygments_lexer": "ipython3",
   "version": "3.10.2"
  }
 },
 "nbformat": 4,
 "nbformat_minor": 5
}
