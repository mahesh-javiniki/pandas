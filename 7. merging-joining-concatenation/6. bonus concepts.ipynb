{
 "cells": [
  {
   "cell_type": "markdown",
   "id": "52b4bbe6",
   "metadata": {},
   "source": [
    "# **7. Merging, Joining & Concatenation**"
   ]
  },
  {
   "cell_type": "markdown",
   "id": "1621a3e5",
   "metadata": {},
   "source": [
    "## **6. Bonus Concepts- `pd.merge_asof()` & `pd.merge_ordered()`**"
   ]
  },
  {
   "cell_type": "code",
   "execution_count": 1,
   "id": "56fa961a",
   "metadata": {},
   "outputs": [],
   "source": [
    "import pandas as pd"
   ]
  },
  {
   "cell_type": "markdown",
   "id": "84dad2ff",
   "metadata": {},
   "source": [
    "## 🔹 1. `pd.merge_asof()` – Time-Aware Merge (Nearest Key Merge)"
   ]
  },
  {
   "cell_type": "markdown",
   "id": "7c3b71ea",
   "metadata": {},
   "source": [
    "### 1. **What it does and when to use it**\n",
    "\n",
    "* Performs a **merge on the closest key rather than exact matches**.\n",
    "* Best suited for **time series data**, such as **log syncing, financial data**, or **sensor measurements**.\n",
    "* Only supports **left joins** and requires both DataFrames to be **sorted by the key**.\n"
   ]
  },
  {
   "cell_type": "markdown",
   "id": "508b74f8",
   "metadata": {},
   "source": [
    "### 2. **Syntax and key parameters**\n",
    "\n",
    "```python\n",
    "pd.merge_asof(left, right, on='timestamp', by='group_col', direction='backward')\n",
    "```\n",
    "\n",
    "| Parameter             | Description                                  |\n",
    "| --------------------- | -------------------------------------------- |\n",
    "| `on`                  | Column to join on (usually datetime)         |\n",
    "| `by`                  | Optional grouping column                     |\n",
    "| `direction`           | `'backward'`, `'forward'`, or `'nearest'`    |\n",
    "| `tolerance`           | Max allowed gap (e.g., pd.Timedelta('10ms')) |\n",
    "| `allow_exact_matches` | Whether to allow exact match                 |\n"
   ]
  },
  {
   "cell_type": "markdown",
   "id": "cfb37595",
   "metadata": {},
   "source": [
    "### 3. **Example**"
   ]
  },
  {
   "cell_type": "code",
   "execution_count": 2,
   "id": "abffb77f",
   "metadata": {},
   "outputs": [
    {
     "data": {
      "text/html": [
       "<div>\n",
       "<style scoped>\n",
       "    .dataframe tbody tr th:only-of-type {\n",
       "        vertical-align: middle;\n",
       "    }\n",
       "\n",
       "    .dataframe tbody tr th {\n",
       "        vertical-align: top;\n",
       "    }\n",
       "\n",
       "    .dataframe thead th {\n",
       "        text-align: right;\n",
       "    }\n",
       "</style>\n",
       "<table border=\"1\" class=\"dataframe\">\n",
       "  <thead>\n",
       "    <tr style=\"text-align: right;\">\n",
       "      <th></th>\n",
       "      <th>timestamp</th>\n",
       "      <th>event</th>\n",
       "    </tr>\n",
       "  </thead>\n",
       "  <tbody>\n",
       "    <tr>\n",
       "      <th>0</th>\n",
       "      <td>2023-01-01 09:00:00</td>\n",
       "      <td>start</td>\n",
       "    </tr>\n",
       "    <tr>\n",
       "      <th>1</th>\n",
       "      <td>2023-01-01 09:15:00</td>\n",
       "      <td>stop</td>\n",
       "    </tr>\n",
       "  </tbody>\n",
       "</table>\n",
       "</div>"
      ],
      "text/plain": [
       "            timestamp  event\n",
       "0 2023-01-01 09:00:00  start\n",
       "1 2023-01-01 09:15:00   stop"
      ]
     },
     "metadata": {},
     "output_type": "display_data"
    },
    {
     "data": {
      "text/html": [
       "<div>\n",
       "<style scoped>\n",
       "    .dataframe tbody tr th:only-of-type {\n",
       "        vertical-align: middle;\n",
       "    }\n",
       "\n",
       "    .dataframe tbody tr th {\n",
       "        vertical-align: top;\n",
       "    }\n",
       "\n",
       "    .dataframe thead th {\n",
       "        text-align: right;\n",
       "    }\n",
       "</style>\n",
       "<table border=\"1\" class=\"dataframe\">\n",
       "  <thead>\n",
       "    <tr style=\"text-align: right;\">\n",
       "      <th></th>\n",
       "      <th>timestamp</th>\n",
       "      <th>temperature</th>\n",
       "    </tr>\n",
       "  </thead>\n",
       "  <tbody>\n",
       "    <tr>\n",
       "      <th>0</th>\n",
       "      <td>2023-01-01 08:59:00</td>\n",
       "      <td>22.5</td>\n",
       "    </tr>\n",
       "    <tr>\n",
       "      <th>1</th>\n",
       "      <td>2023-01-01 09:10:00</td>\n",
       "      <td>23.0</td>\n",
       "    </tr>\n",
       "  </tbody>\n",
       "</table>\n",
       "</div>"
      ],
      "text/plain": [
       "            timestamp  temperature\n",
       "0 2023-01-01 08:59:00         22.5\n",
       "1 2023-01-01 09:10:00         23.0"
      ]
     },
     "metadata": {},
     "output_type": "display_data"
    }
   ],
   "source": [
    "# Machine event timestamps\n",
    "events = pd.DataFrame({\n",
    "    'timestamp': pd.to_datetime(['2023-01-01 09:00:00', '2023-01-01 09:15:00']),\n",
    "    'event': ['start', 'stop']\n",
    "})\n",
    "\n",
    "# Sensor readings\n",
    "sensors = pd.DataFrame({\n",
    "    'timestamp': pd.to_datetime(['2023-01-01 08:59:00', '2023-01-01 09:10:00']),\n",
    "    'temperature': [22.5, 23.0]\n",
    "})\n",
    "\n",
    "\n",
    "display(events, sensors)"
   ]
  },
  {
   "cell_type": "code",
   "execution_count": 3,
   "id": "ee4769c2",
   "metadata": {},
   "outputs": [
    {
     "data": {
      "text/html": [
       "<div>\n",
       "<style scoped>\n",
       "    .dataframe tbody tr th:only-of-type {\n",
       "        vertical-align: middle;\n",
       "    }\n",
       "\n",
       "    .dataframe tbody tr th {\n",
       "        vertical-align: top;\n",
       "    }\n",
       "\n",
       "    .dataframe thead th {\n",
       "        text-align: right;\n",
       "    }\n",
       "</style>\n",
       "<table border=\"1\" class=\"dataframe\">\n",
       "  <thead>\n",
       "    <tr style=\"text-align: right;\">\n",
       "      <th></th>\n",
       "      <th>timestamp</th>\n",
       "      <th>event</th>\n",
       "      <th>temperature</th>\n",
       "    </tr>\n",
       "  </thead>\n",
       "  <tbody>\n",
       "    <tr>\n",
       "      <th>0</th>\n",
       "      <td>2023-01-01 09:00:00</td>\n",
       "      <td>start</td>\n",
       "      <td>22.5</td>\n",
       "    </tr>\n",
       "    <tr>\n",
       "      <th>1</th>\n",
       "      <td>2023-01-01 09:15:00</td>\n",
       "      <td>stop</td>\n",
       "      <td>23.0</td>\n",
       "    </tr>\n",
       "  </tbody>\n",
       "</table>\n",
       "</div>"
      ],
      "text/plain": [
       "            timestamp  event  temperature\n",
       "0 2023-01-01 09:00:00  start         22.5\n",
       "1 2023-01-01 09:15:00   stop         23.0"
      ]
     },
     "execution_count": 3,
     "metadata": {},
     "output_type": "execute_result"
    }
   ],
   "source": [
    "# Nearest sensor reading before each event\n",
    "pd.merge_asof(events.sort_values('timestamp'),\n",
    "              sensors.sort_values('timestamp'),\n",
    "              on='timestamp',\n",
    "              direction='backward')"
   ]
  },
  {
   "cell_type": "markdown",
   "id": "e73fc801",
   "metadata": {},
   "source": [
    "### 4. **Common Pitfalls**\n",
    "\n",
    "* Forgetting to sort DataFrames before using `merge_asof`\n",
    "* Using `merge_asof` on categorical or non-monotonic data\n",
    "* Misunderstanding the `direction` parameter\n"
   ]
  },
  {
   "cell_type": "markdown",
   "id": "4c852a88",
   "metadata": {},
   "source": [
    "### 5. **Real-World Use Cases**\n",
    "\n",
    "* Matching logs from one system with another (e.g., app logs and API logs)\n",
    "* Aligning stock trades with quotes (common in financial data)\n",
    "* Matching sensor values just before a production event\n"
   ]
  },
  {
   "cell_type": "markdown",
   "id": "f8c3c607",
   "metadata": {},
   "source": [
    "## 🔹 2. `pd.merge_ordered()` – Ordered Merge with Fill Logic"
   ]
  },
  {
   "cell_type": "markdown",
   "id": "bb445630",
   "metadata": {},
   "source": [
    "### 1. **What it does and when to use it**\n",
    "\n",
    "* Merges DataFrames and **preserves order** (used for **chronological merging**).\n",
    "* Useful when merging datasets that include **forecast data** or **events interleaved in time**."
   ]
  },
  {
   "cell_type": "markdown",
   "id": "d3e05dbd",
   "metadata": {},
   "source": [
    "### 2. **Syntax and key parameters**\n",
    "\n",
    "```python\n",
    "pd.merge_ordered(left, right, on='timestamp', fill_method='ffill')\n",
    "```\n",
    "\n",
    "| Parameter     | Description                                       |\n",
    "| ------------- | ------------------------------------------------- |\n",
    "| `on`          | Merge column (usually datetime)                   |\n",
    "| `fill_method` | Use `'ffill'` or `'bfill'` to fill missing values |\n",
    "| `suffixes`    | Customize suffix for overlapping column names     |"
   ]
  },
  {
   "cell_type": "markdown",
   "id": "6f6d67e8",
   "metadata": {},
   "source": [
    "### 3. **Example**"
   ]
  },
  {
   "cell_type": "code",
   "execution_count": 4,
   "id": "ad17e7bf",
   "metadata": {},
   "outputs": [
    {
     "data": {
      "text/html": [
       "<div>\n",
       "<style scoped>\n",
       "    .dataframe tbody tr th:only-of-type {\n",
       "        vertical-align: middle;\n",
       "    }\n",
       "\n",
       "    .dataframe tbody tr th {\n",
       "        vertical-align: top;\n",
       "    }\n",
       "\n",
       "    .dataframe thead th {\n",
       "        text-align: right;\n",
       "    }\n",
       "</style>\n",
       "<table border=\"1\" class=\"dataframe\">\n",
       "  <thead>\n",
       "    <tr style=\"text-align: right;\">\n",
       "      <th></th>\n",
       "      <th>timestamp</th>\n",
       "      <th>forecast</th>\n",
       "    </tr>\n",
       "  </thead>\n",
       "  <tbody>\n",
       "    <tr>\n",
       "      <th>0</th>\n",
       "      <td>2023-01-01</td>\n",
       "      <td>100</td>\n",
       "    </tr>\n",
       "    <tr>\n",
       "      <th>1</th>\n",
       "      <td>2023-01-03</td>\n",
       "      <td>110</td>\n",
       "    </tr>\n",
       "  </tbody>\n",
       "</table>\n",
       "</div>"
      ],
      "text/plain": [
       "   timestamp  forecast\n",
       "0 2023-01-01       100\n",
       "1 2023-01-03       110"
      ]
     },
     "metadata": {},
     "output_type": "display_data"
    },
    {
     "data": {
      "text/html": [
       "<div>\n",
       "<style scoped>\n",
       "    .dataframe tbody tr th:only-of-type {\n",
       "        vertical-align: middle;\n",
       "    }\n",
       "\n",
       "    .dataframe tbody tr th {\n",
       "        vertical-align: top;\n",
       "    }\n",
       "\n",
       "    .dataframe thead th {\n",
       "        text-align: right;\n",
       "    }\n",
       "</style>\n",
       "<table border=\"1\" class=\"dataframe\">\n",
       "  <thead>\n",
       "    <tr style=\"text-align: right;\">\n",
       "      <th></th>\n",
       "      <th>timestamp</th>\n",
       "      <th>actual</th>\n",
       "    </tr>\n",
       "  </thead>\n",
       "  <tbody>\n",
       "    <tr>\n",
       "      <th>0</th>\n",
       "      <td>2023-01-02</td>\n",
       "      <td>98</td>\n",
       "    </tr>\n",
       "    <tr>\n",
       "      <th>1</th>\n",
       "      <td>2023-01-03</td>\n",
       "      <td>108</td>\n",
       "    </tr>\n",
       "  </tbody>\n",
       "</table>\n",
       "</div>"
      ],
      "text/plain": [
       "   timestamp  actual\n",
       "0 2023-01-02      98\n",
       "1 2023-01-03     108"
      ]
     },
     "metadata": {},
     "output_type": "display_data"
    }
   ],
   "source": [
    "df1 = pd.DataFrame({\n",
    "    'timestamp': pd.to_datetime(['2023-01-01', '2023-01-03']),\n",
    "    'forecast': [100, 110]\n",
    "})\n",
    "\n",
    "df2 = pd.DataFrame({\n",
    "    'timestamp': pd.to_datetime(['2023-01-02', '2023-01-03']),\n",
    "    'actual': [98, 108]\n",
    "})\n",
    "\n",
    "display(df1, df2)"
   ]
  },
  {
   "cell_type": "code",
   "execution_count": 5,
   "id": "5eb00439",
   "metadata": {},
   "outputs": [
    {
     "data": {
      "text/html": [
       "<div>\n",
       "<style scoped>\n",
       "    .dataframe tbody tr th:only-of-type {\n",
       "        vertical-align: middle;\n",
       "    }\n",
       "\n",
       "    .dataframe tbody tr th {\n",
       "        vertical-align: top;\n",
       "    }\n",
       "\n",
       "    .dataframe thead th {\n",
       "        text-align: right;\n",
       "    }\n",
       "</style>\n",
       "<table border=\"1\" class=\"dataframe\">\n",
       "  <thead>\n",
       "    <tr style=\"text-align: right;\">\n",
       "      <th></th>\n",
       "      <th>timestamp</th>\n",
       "      <th>forecast</th>\n",
       "      <th>actual</th>\n",
       "    </tr>\n",
       "  </thead>\n",
       "  <tbody>\n",
       "    <tr>\n",
       "      <th>0</th>\n",
       "      <td>2023-01-01</td>\n",
       "      <td>100</td>\n",
       "      <td>NaN</td>\n",
       "    </tr>\n",
       "    <tr>\n",
       "      <th>1</th>\n",
       "      <td>2023-01-02</td>\n",
       "      <td>100</td>\n",
       "      <td>98.0</td>\n",
       "    </tr>\n",
       "    <tr>\n",
       "      <th>2</th>\n",
       "      <td>2023-01-03</td>\n",
       "      <td>110</td>\n",
       "      <td>108.0</td>\n",
       "    </tr>\n",
       "  </tbody>\n",
       "</table>\n",
       "</div>"
      ],
      "text/plain": [
       "   timestamp  forecast  actual\n",
       "0 2023-01-01       100     NaN\n",
       "1 2023-01-02       100    98.0\n",
       "2 2023-01-03       110   108.0"
      ]
     },
     "execution_count": 5,
     "metadata": {},
     "output_type": "execute_result"
    }
   ],
   "source": [
    "pd.merge_ordered(df1, df2, on='timestamp', fill_method='ffill')"
   ]
  },
  {
   "cell_type": "markdown",
   "id": "a11d1b36",
   "metadata": {},
   "source": [
    "### 4. **Common Pitfalls**\n",
    "\n",
    "* Using `merge` instead of `merge_ordered` and expecting fill logic\n",
    "* Failing to manage overlapping columns or suffixes\n",
    "* Misinterpreting forward vs backward fill behavior\n"
   ]
  },
  {
   "cell_type": "markdown",
   "id": "71820f0e",
   "metadata": {},
   "source": [
    "### 5. **Real-World Use Cases**\n",
    "\n",
    "* Merging forecast and actual values over time\n",
    "* Filling gaps in time series data from multiple sources\n",
    "* Combining irregular time series data (e.g., system metrics + events)"
   ]
  },
  {
   "cell_type": "markdown",
   "id": "17ae6333",
   "metadata": {},
   "source": [
    "## 🔹 3. Best Practices for Large Dataset Merges\n",
    "\n",
    "* **Index-based joins** (when possible) are faster than column-based merges.\n",
    "* Always ensure **key columns are clean and of the same type** (`int`, `str`, `datetime`).\n",
    "* Use **`merge(..., validate='one_to_one')`** to detect unexpected duplicates.\n",
    "* Use **categoricals or indexes** for optimized merge performance.\n",
    "* For large datasets, **consider chunking** or **using Dask/Polars** for out-of-core merges."
   ]
  },
  {
   "cell_type": "markdown",
   "id": "1a32c735",
   "metadata": {},
   "source": [
    "## ✅ Summary Table: Merge Function Comparison\n",
    "\n",
    "| Function             | Best Use Case                            | Supports Join Types      | Special Behavior              |\n",
    "| -------------------- | ---------------------------------------- | ------------------------ | ----------------------------- |\n",
    "| `pd.concat()`        | Combine along axis                       | No (stacking only)       | Simple appending or stacking  |\n",
    "| `pd.merge()`         | SQL-style joins                          | Yes (inner, outer, etc.) | General-purpose               |\n",
    "| `df.join()`          | Index-based join                         | Yes                      | Simple syntax for index joins |\n",
    "| `pd.merge_asof()`    | Time-based nearest merge                 | Left only                | Works only on sorted data     |\n",
    "| `pd.merge_ordered()` | Time-based ordered merge with fill logic | Outer (default)          | Preserves chronological order |\n"
   ]
  },
  {
   "cell_type": "markdown",
   "id": "f6df85ec",
   "metadata": {},
   "source": [
    "<center><b>Thanks</b></center>"
   ]
  }
 ],
 "metadata": {
  "kernelspec": {
   "display_name": "venv",
   "language": "python",
   "name": "python3"
  },
  "language_info": {
   "codemirror_mode": {
    "name": "ipython",
    "version": 3
   },
   "file_extension": ".py",
   "mimetype": "text/x-python",
   "name": "python",
   "nbconvert_exporter": "python",
   "pygments_lexer": "ipython3",
   "version": "3.10.2"
  }
 },
 "nbformat": 4,
 "nbformat_minor": 5
}
