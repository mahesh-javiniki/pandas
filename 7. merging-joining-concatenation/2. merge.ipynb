{
 "cells": [
  {
   "cell_type": "markdown",
   "id": "124af67c",
   "metadata": {},
   "source": [
    "# **7. Merging, Joining & Concatenation**"
   ]
  },
  {
   "cell_type": "markdown",
   "id": "3566f603",
   "metadata": {},
   "source": [
    "## **2. `pd.merge()` – SQL-style merging**"
   ]
  },
  {
   "cell_type": "code",
   "execution_count": 1,
   "id": "10cd1b3d",
   "metadata": {},
   "outputs": [],
   "source": [
    "import pandas as pd"
   ]
  },
  {
   "cell_type": "markdown",
   "id": "a60c51c5",
   "metadata": {},
   "source": [
    "This operation is indispensable in data science workflows where you’re frequently combining data from **multiple sources** using one or more **common keys**—similar to SQL joins."
   ]
  },
  {
   "cell_type": "markdown",
   "id": "f5c4020f",
   "metadata": {},
   "source": [
    "## ✅ 1. What `pd.merge()` Does and When to Use It\n",
    "\n",
    "### 🔹 What It Does:\n",
    "\n",
    "`pd.merge()` allows you to combine two pandas `DataFrames` based on **one or more common columns or indexes** using **SQL-style join operations** like:\n",
    "\n",
    "* Inner join\n",
    "* Left join\n",
    "* Right join\n",
    "* Outer join\n",
    "\n",
    "🔗 It performs **relational joins**, enabling you to combine datasets that share some form of relationship (primary key–foreign key style).\n",
    "\n",
    "\n",
    "### 🔹 When to Use:\n",
    "\n",
    "* When two datasets share **common identifiers** (e.g., customer ID, product code, user email).\n",
    "* When you want **fine control** over how datasets are matched and merged.\n",
    "* When performing **multi-table joins** like SQL.\n"
   ]
  },
  {
   "cell_type": "markdown",
   "id": "806b68dd",
   "metadata": {},
   "source": [
    "## 🧾 2. Syntax and Core Parameters\n",
    "\n",
    "```python\n",
    "pd.merge(left, right, how='inner', on=None, left_on=None, right_on=None,\n",
    "         left_index=False, right_index=False, sort=False,\n",
    "         suffixes=('_x', '_y'), indicator=False, validate=None)\n",
    "```\n",
    "\n",
    "### 🔹 Core Parameters:\n",
    "\n",
    "| Parameter                   | Description                                             |\n",
    "| --------------------------- | ------------------------------------------------------- |\n",
    "| `left`, `right`             | DataFrames to merge                                     |\n",
    "| `how`                       | Type of join: `'inner'`, `'left'`, `'right'`, `'outer'` |\n",
    "| `on`                        | Column(s) to join on (must be present in both)          |\n",
    "| `left_on`, `right_on`       | Use when joining on different column names              |\n",
    "| `left_index`, `right_index` | Join on index instead of columns                        |\n",
    "| `suffixes`                  | Add suffixes for overlapping column names               |\n",
    "| `indicator`                 | Adds a column to show merge source                      |\n",
    "| `validate`                  | Check for 1:1, 1\\:m, m:1, or m\\:m relationships         |\n"
   ]
  },
  {
   "cell_type": "markdown",
   "id": "22d6e071",
   "metadata": {},
   "source": [
    "## 🧠 3. Different Methods & Techniques\n",
    "\n",
    "Let’s explore the most used join types and methods with `pd.merge()`:\n",
    "\n",
    "---\n",
    "\n",
    "### 🔸 A. Inner Join (default) – Intersection\n",
    "\n",
    "```python\n",
    "pd.merge(df1, df2, on='id', how='inner')\n",
    "```\n",
    "\n",
    "* Keeps only rows with keys present in **both** DataFrames.\n",
    "\n",
    "---\n",
    "\n",
    "### 🔸 B. Left Join – Left-preserving\n",
    "\n",
    "```python\n",
    "pd.merge(df1, df2, on='id', how='left')\n",
    "```\n",
    "\n",
    "* Keeps **all rows from left**, matches from right.\n",
    "\n",
    "---\n",
    "\n",
    "### 🔸 C. Right Join – Right-preserving\n",
    "\n",
    "```python\n",
    "pd.merge(df1, df2, on='id', how='right')\n",
    "```\n",
    "\n",
    "* Keeps **all rows from right**, matches from left.\n",
    "\n",
    "---\n",
    "\n",
    "### 🔸 D. Outer Join – Union\n",
    "\n",
    "```python\n",
    "pd.merge(df1, df2, on='id', how='outer')\n",
    "```\n",
    "\n",
    "* Keeps **all rows** from both, fills unmatched with NaN.\n",
    "\n",
    "---\n",
    "\n",
    "### 🔸 E. Merging on Different Column Names\n",
    "\n",
    "```python\n",
    "pd.merge(df1, df2, left_on='cust_id', right_on='id')\n",
    "```\n",
    "\n",
    "---\n",
    "\n",
    "### 🔸 F. Merging on Index\n",
    "\n",
    "```python\n",
    "pd.merge(df1, df2, left_index=True, right_index=True)\n",
    "```\n",
    "\n",
    "---\n",
    "\n",
    "### 🔸 G. Adding Merge Indicator\n",
    "\n",
    "```python\n",
    "pd.merge(df1, df2, on='id', how='outer', indicator=True)\n",
    "```\n",
    "\n",
    "Shows from where each row originated: `'left_only'`, `'right_only'`, or `'both'`.\n",
    "\n",
    "---\n",
    "\n",
    "### 🔸 H. Handling Overlapping Columns\n",
    "\n",
    "```python\n",
    "pd.merge(df1, df2, on='id', suffixes=('_left', '_right'))\n",
    "```\n"
   ]
  },
  {
   "cell_type": "markdown",
   "id": "e2827c75",
   "metadata": {},
   "source": [
    "## ⚠️ 4. Common Pitfalls and Best Practices\n",
    "\n",
    "| Pitfall                                      | What to Do                                                    |\n",
    "| -------------------------------------------- | ------------------------------------------------------------- |\n",
    "| ❌ Joining on wrong column(s) or no match     | ✅ Double-check keys using `.columns` and `.unique()`          |\n",
    "| ❌ Unexpected duplicates in output            | ✅ Use `validate='one_to_one'`, `validate='one_to_many'`, etc. |\n",
    "| ❌ Overlapping column names get overwritten   | ✅ Use `suffixes=('_x', '_y')` to disambiguate                 |\n",
    "| ❌ Missing matches due to datatype mismatch   | ✅ Use `.astype()` to ensure matching column types             |\n",
    "| ❌ Merging on wrong direction (left vs inner) | ✅ Know which table should drive the merge logic               |\n",
    "| ❌ Memory issues on large merges              | ✅ Consider filtering, indexing, or chunking data before merge |\n"
   ]
  },
  {
   "cell_type": "markdown",
   "id": "5e9c6173",
   "metadata": {},
   "source": [
    "## 🧪 5. Examples on Real/Pseudo Data"
   ]
  },
  {
   "cell_type": "markdown",
   "id": "d8e677bd",
   "metadata": {},
   "source": [
    "### Example 1: **Inner Join on a Common Key**"
   ]
  },
  {
   "cell_type": "code",
   "execution_count": 3,
   "id": "33409eba",
   "metadata": {},
   "outputs": [
    {
     "data": {
      "text/html": [
       "<div>\n",
       "<style scoped>\n",
       "    .dataframe tbody tr th:only-of-type {\n",
       "        vertical-align: middle;\n",
       "    }\n",
       "\n",
       "    .dataframe tbody tr th {\n",
       "        vertical-align: top;\n",
       "    }\n",
       "\n",
       "    .dataframe thead th {\n",
       "        text-align: right;\n",
       "    }\n",
       "</style>\n",
       "<table border=\"1\" class=\"dataframe\">\n",
       "  <thead>\n",
       "    <tr style=\"text-align: right;\">\n",
       "      <th></th>\n",
       "      <th>cust_id</th>\n",
       "      <th>name</th>\n",
       "    </tr>\n",
       "  </thead>\n",
       "  <tbody>\n",
       "    <tr>\n",
       "      <th>0</th>\n",
       "      <td>1</td>\n",
       "      <td>Alice</td>\n",
       "    </tr>\n",
       "    <tr>\n",
       "      <th>1</th>\n",
       "      <td>2</td>\n",
       "      <td>Bob</td>\n",
       "    </tr>\n",
       "    <tr>\n",
       "      <th>2</th>\n",
       "      <td>3</td>\n",
       "      <td>Charlie</td>\n",
       "    </tr>\n",
       "  </tbody>\n",
       "</table>\n",
       "</div>"
      ],
      "text/plain": [
       "   cust_id     name\n",
       "0        1    Alice\n",
       "1        2      Bob\n",
       "2        3  Charlie"
      ]
     },
     "metadata": {},
     "output_type": "display_data"
    },
    {
     "data": {
      "text/html": [
       "<div>\n",
       "<style scoped>\n",
       "    .dataframe tbody tr th:only-of-type {\n",
       "        vertical-align: middle;\n",
       "    }\n",
       "\n",
       "    .dataframe tbody tr th {\n",
       "        vertical-align: top;\n",
       "    }\n",
       "\n",
       "    .dataframe thead th {\n",
       "        text-align: right;\n",
       "    }\n",
       "</style>\n",
       "<table border=\"1\" class=\"dataframe\">\n",
       "  <thead>\n",
       "    <tr style=\"text-align: right;\">\n",
       "      <th></th>\n",
       "      <th>cust_id</th>\n",
       "      <th>order_id</th>\n",
       "    </tr>\n",
       "  </thead>\n",
       "  <tbody>\n",
       "    <tr>\n",
       "      <th>0</th>\n",
       "      <td>2</td>\n",
       "      <td>201</td>\n",
       "    </tr>\n",
       "    <tr>\n",
       "      <th>1</th>\n",
       "      <td>3</td>\n",
       "      <td>202</td>\n",
       "    </tr>\n",
       "    <tr>\n",
       "      <th>2</th>\n",
       "      <td>4</td>\n",
       "      <td>203</td>\n",
       "    </tr>\n",
       "  </tbody>\n",
       "</table>\n",
       "</div>"
      ],
      "text/plain": [
       "   cust_id  order_id\n",
       "0        2       201\n",
       "1        3       202\n",
       "2        4       203"
      ]
     },
     "metadata": {},
     "output_type": "display_data"
    }
   ],
   "source": [
    "customers = pd.DataFrame({\n",
    "    'cust_id': [1, 2, 3],\n",
    "    'name': ['Alice', 'Bob', 'Charlie']\n",
    "})\n",
    "\n",
    "orders = pd.DataFrame({\n",
    "    'cust_id': [2, 3, 4],\n",
    "    'order_id': [201, 202, 203]\n",
    "})\n",
    "\n",
    "display(customers)\n",
    "display(orders)"
   ]
  },
  {
   "cell_type": "code",
   "execution_count": 5,
   "id": "9b29638d",
   "metadata": {},
   "outputs": [
    {
     "data": {
      "text/html": [
       "<div>\n",
       "<style scoped>\n",
       "    .dataframe tbody tr th:only-of-type {\n",
       "        vertical-align: middle;\n",
       "    }\n",
       "\n",
       "    .dataframe tbody tr th {\n",
       "        vertical-align: top;\n",
       "    }\n",
       "\n",
       "    .dataframe thead th {\n",
       "        text-align: right;\n",
       "    }\n",
       "</style>\n",
       "<table border=\"1\" class=\"dataframe\">\n",
       "  <thead>\n",
       "    <tr style=\"text-align: right;\">\n",
       "      <th></th>\n",
       "      <th>cust_id</th>\n",
       "      <th>name</th>\n",
       "      <th>order_id</th>\n",
       "    </tr>\n",
       "  </thead>\n",
       "  <tbody>\n",
       "    <tr>\n",
       "      <th>0</th>\n",
       "      <td>2</td>\n",
       "      <td>Bob</td>\n",
       "      <td>201</td>\n",
       "    </tr>\n",
       "    <tr>\n",
       "      <th>1</th>\n",
       "      <td>3</td>\n",
       "      <td>Charlie</td>\n",
       "      <td>202</td>\n",
       "    </tr>\n",
       "  </tbody>\n",
       "</table>\n",
       "</div>"
      ],
      "text/plain": [
       "   cust_id     name  order_id\n",
       "0        2      Bob       201\n",
       "1        3  Charlie       202"
      ]
     },
     "execution_count": 5,
     "metadata": {},
     "output_type": "execute_result"
    }
   ],
   "source": [
    "pd.merge(left=customers, right=orders, on='cust_id', how='inner')"
   ]
  },
  {
   "cell_type": "markdown",
   "id": "c55e7fd6",
   "metadata": {},
   "source": [
    "### Example 2: **Left Join with Missing Match**"
   ]
  },
  {
   "cell_type": "code",
   "execution_count": 6,
   "id": "b9c8c0b4",
   "metadata": {},
   "outputs": [
    {
     "data": {
      "text/html": [
       "<div>\n",
       "<style scoped>\n",
       "    .dataframe tbody tr th:only-of-type {\n",
       "        vertical-align: middle;\n",
       "    }\n",
       "\n",
       "    .dataframe tbody tr th {\n",
       "        vertical-align: top;\n",
       "    }\n",
       "\n",
       "    .dataframe thead th {\n",
       "        text-align: right;\n",
       "    }\n",
       "</style>\n",
       "<table border=\"1\" class=\"dataframe\">\n",
       "  <thead>\n",
       "    <tr style=\"text-align: right;\">\n",
       "      <th></th>\n",
       "      <th>cust_id</th>\n",
       "      <th>name</th>\n",
       "      <th>order_id</th>\n",
       "    </tr>\n",
       "  </thead>\n",
       "  <tbody>\n",
       "    <tr>\n",
       "      <th>0</th>\n",
       "      <td>1</td>\n",
       "      <td>Alice</td>\n",
       "      <td>NaN</td>\n",
       "    </tr>\n",
       "    <tr>\n",
       "      <th>1</th>\n",
       "      <td>2</td>\n",
       "      <td>Bob</td>\n",
       "      <td>201.0</td>\n",
       "    </tr>\n",
       "    <tr>\n",
       "      <th>2</th>\n",
       "      <td>3</td>\n",
       "      <td>Charlie</td>\n",
       "      <td>202.0</td>\n",
       "    </tr>\n",
       "  </tbody>\n",
       "</table>\n",
       "</div>"
      ],
      "text/plain": [
       "   cust_id     name  order_id\n",
       "0        1    Alice       NaN\n",
       "1        2      Bob     201.0\n",
       "2        3  Charlie     202.0"
      ]
     },
     "execution_count": 6,
     "metadata": {},
     "output_type": "execute_result"
    }
   ],
   "source": [
    "pd.merge(left=customers, right=orders, on='cust_id', how='left')"
   ]
  },
  {
   "cell_type": "markdown",
   "id": "e8e9cff8",
   "metadata": {},
   "source": [
    "### Example 3: **Join on Different Column Names**"
   ]
  },
  {
   "cell_type": "code",
   "execution_count": 7,
   "id": "a9614710",
   "metadata": {},
   "outputs": [
    {
     "data": {
      "text/html": [
       "<div>\n",
       "<style scoped>\n",
       "    .dataframe tbody tr th:only-of-type {\n",
       "        vertical-align: middle;\n",
       "    }\n",
       "\n",
       "    .dataframe tbody tr th {\n",
       "        vertical-align: top;\n",
       "    }\n",
       "\n",
       "    .dataframe thead th {\n",
       "        text-align: right;\n",
       "    }\n",
       "</style>\n",
       "<table border=\"1\" class=\"dataframe\">\n",
       "  <thead>\n",
       "    <tr style=\"text-align: right;\">\n",
       "      <th></th>\n",
       "      <th>uid</th>\n",
       "      <th>score</th>\n",
       "    </tr>\n",
       "  </thead>\n",
       "  <tbody>\n",
       "    <tr>\n",
       "      <th>0</th>\n",
       "      <td>1</td>\n",
       "      <td>85</td>\n",
       "    </tr>\n",
       "    <tr>\n",
       "      <th>1</th>\n",
       "      <td>2</td>\n",
       "      <td>90</td>\n",
       "    </tr>\n",
       "  </tbody>\n",
       "</table>\n",
       "</div>"
      ],
      "text/plain": [
       "   uid  score\n",
       "0    1     85\n",
       "1    2     90"
      ]
     },
     "metadata": {},
     "output_type": "display_data"
    },
    {
     "data": {
      "text/html": [
       "<div>\n",
       "<style scoped>\n",
       "    .dataframe tbody tr th:only-of-type {\n",
       "        vertical-align: middle;\n",
       "    }\n",
       "\n",
       "    .dataframe tbody tr th {\n",
       "        vertical-align: top;\n",
       "    }\n",
       "\n",
       "    .dataframe thead th {\n",
       "        text-align: right;\n",
       "    }\n",
       "</style>\n",
       "<table border=\"1\" class=\"dataframe\">\n",
       "  <thead>\n",
       "    <tr style=\"text-align: right;\">\n",
       "      <th></th>\n",
       "      <th>user_id</th>\n",
       "      <th>grade</th>\n",
       "    </tr>\n",
       "  </thead>\n",
       "  <tbody>\n",
       "    <tr>\n",
       "      <th>0</th>\n",
       "      <td>2</td>\n",
       "      <td>A</td>\n",
       "    </tr>\n",
       "    <tr>\n",
       "      <th>1</th>\n",
       "      <td>3</td>\n",
       "      <td>B</td>\n",
       "    </tr>\n",
       "  </tbody>\n",
       "</table>\n",
       "</div>"
      ],
      "text/plain": [
       "   user_id grade\n",
       "0        2     A\n",
       "1        3     B"
      ]
     },
     "metadata": {},
     "output_type": "display_data"
    }
   ],
   "source": [
    "df1 = pd.DataFrame({'uid': [1, 2], 'score': [85, 90]})\n",
    "df2 = pd.DataFrame({'user_id': [2, 3], 'grade': ['A', 'B']})\n",
    "\n",
    "display(df1)\n",
    "display(df2)"
   ]
  },
  {
   "cell_type": "code",
   "execution_count": 8,
   "id": "14613b48",
   "metadata": {},
   "outputs": [
    {
     "data": {
      "text/html": [
       "<div>\n",
       "<style scoped>\n",
       "    .dataframe tbody tr th:only-of-type {\n",
       "        vertical-align: middle;\n",
       "    }\n",
       "\n",
       "    .dataframe tbody tr th {\n",
       "        vertical-align: top;\n",
       "    }\n",
       "\n",
       "    .dataframe thead th {\n",
       "        text-align: right;\n",
       "    }\n",
       "</style>\n",
       "<table border=\"1\" class=\"dataframe\">\n",
       "  <thead>\n",
       "    <tr style=\"text-align: right;\">\n",
       "      <th></th>\n",
       "      <th>uid</th>\n",
       "      <th>score</th>\n",
       "      <th>user_id</th>\n",
       "      <th>grade</th>\n",
       "    </tr>\n",
       "  </thead>\n",
       "  <tbody>\n",
       "    <tr>\n",
       "      <th>0</th>\n",
       "      <td>2</td>\n",
       "      <td>90</td>\n",
       "      <td>2</td>\n",
       "      <td>A</td>\n",
       "    </tr>\n",
       "  </tbody>\n",
       "</table>\n",
       "</div>"
      ],
      "text/plain": [
       "   uid  score  user_id grade\n",
       "0    2     90        2     A"
      ]
     },
     "execution_count": 8,
     "metadata": {},
     "output_type": "execute_result"
    }
   ],
   "source": [
    "pd.merge(left=df1, right=df2, left_on='uid', right_on='user_id', how='inner')"
   ]
  },
  {
   "cell_type": "markdown",
   "id": "6a5ecffa",
   "metadata": {},
   "source": [
    "### Example 4: **Merge with Index**"
   ]
  },
  {
   "cell_type": "code",
   "execution_count": 9,
   "id": "38fe92ee",
   "metadata": {},
   "outputs": [
    {
     "data": {
      "text/html": [
       "<div>\n",
       "<style scoped>\n",
       "    .dataframe tbody tr th:only-of-type {\n",
       "        vertical-align: middle;\n",
       "    }\n",
       "\n",
       "    .dataframe tbody tr th {\n",
       "        vertical-align: top;\n",
       "    }\n",
       "\n",
       "    .dataframe thead th {\n",
       "        text-align: right;\n",
       "    }\n",
       "</style>\n",
       "<table border=\"1\" class=\"dataframe\">\n",
       "  <thead>\n",
       "    <tr style=\"text-align: right;\">\n",
       "      <th></th>\n",
       "      <th>val1</th>\n",
       "    </tr>\n",
       "  </thead>\n",
       "  <tbody>\n",
       "    <tr>\n",
       "      <th>a</th>\n",
       "      <td>100</td>\n",
       "    </tr>\n",
       "    <tr>\n",
       "      <th>b</th>\n",
       "      <td>200</td>\n",
       "    </tr>\n",
       "  </tbody>\n",
       "</table>\n",
       "</div>"
      ],
      "text/plain": [
       "   val1\n",
       "a   100\n",
       "b   200"
      ]
     },
     "metadata": {},
     "output_type": "display_data"
    },
    {
     "data": {
      "text/html": [
       "<div>\n",
       "<style scoped>\n",
       "    .dataframe tbody tr th:only-of-type {\n",
       "        vertical-align: middle;\n",
       "    }\n",
       "\n",
       "    .dataframe tbody tr th {\n",
       "        vertical-align: top;\n",
       "    }\n",
       "\n",
       "    .dataframe thead th {\n",
       "        text-align: right;\n",
       "    }\n",
       "</style>\n",
       "<table border=\"1\" class=\"dataframe\">\n",
       "  <thead>\n",
       "    <tr style=\"text-align: right;\">\n",
       "      <th></th>\n",
       "      <th>val2</th>\n",
       "    </tr>\n",
       "  </thead>\n",
       "  <tbody>\n",
       "    <tr>\n",
       "      <th>a</th>\n",
       "      <td>300</td>\n",
       "    </tr>\n",
       "    <tr>\n",
       "      <th>c</th>\n",
       "      <td>400</td>\n",
       "    </tr>\n",
       "  </tbody>\n",
       "</table>\n",
       "</div>"
      ],
      "text/plain": [
       "   val2\n",
       "a   300\n",
       "c   400"
      ]
     },
     "metadata": {},
     "output_type": "display_data"
    }
   ],
   "source": [
    "df1 = pd.DataFrame({'val1': [100, 200]}, index=['a', 'b'])\n",
    "df2 = pd.DataFrame({'val2': [300, 400]}, index=['a', 'c'])\n",
    "\n",
    "display(df1, df2)"
   ]
  },
  {
   "cell_type": "code",
   "execution_count": 12,
   "id": "83b00e60",
   "metadata": {},
   "outputs": [
    {
     "data": {
      "text/html": [
       "<div>\n",
       "<style scoped>\n",
       "    .dataframe tbody tr th:only-of-type {\n",
       "        vertical-align: middle;\n",
       "    }\n",
       "\n",
       "    .dataframe tbody tr th {\n",
       "        vertical-align: top;\n",
       "    }\n",
       "\n",
       "    .dataframe thead th {\n",
       "        text-align: right;\n",
       "    }\n",
       "</style>\n",
       "<table border=\"1\" class=\"dataframe\">\n",
       "  <thead>\n",
       "    <tr style=\"text-align: right;\">\n",
       "      <th></th>\n",
       "      <th>val1</th>\n",
       "      <th>val2</th>\n",
       "    </tr>\n",
       "  </thead>\n",
       "  <tbody>\n",
       "    <tr>\n",
       "      <th>a</th>\n",
       "      <td>100.0</td>\n",
       "      <td>300.0</td>\n",
       "    </tr>\n",
       "    <tr>\n",
       "      <th>b</th>\n",
       "      <td>200.0</td>\n",
       "      <td>NaN</td>\n",
       "    </tr>\n",
       "    <tr>\n",
       "      <th>c</th>\n",
       "      <td>NaN</td>\n",
       "      <td>400.0</td>\n",
       "    </tr>\n",
       "  </tbody>\n",
       "</table>\n",
       "</div>"
      ],
      "text/plain": [
       "    val1   val2\n",
       "a  100.0  300.0\n",
       "b  200.0    NaN\n",
       "c    NaN  400.0"
      ]
     },
     "execution_count": 12,
     "metadata": {},
     "output_type": "execute_result"
    }
   ],
   "source": [
    "pd.merge(df1, df2, left_index=True, right_index=True, how='outer')"
   ]
  },
  {
   "cell_type": "markdown",
   "id": "7450fe12",
   "metadata": {},
   "source": [
    "## 🌍 6. Real-World Use Cases\n",
    "\n",
    "| Scenario                                          | Description                                |\n",
    "| ------------------------------------------------- | ------------------------------------------ |\n",
    "| 🧾 **Join customer profiles with transactions**   | Match on customer ID                       |\n",
    "| 📦 **Product catalog and inventory levels**       | Match on product SKU                       |\n",
    "| 🕵️‍♂️ **User logs and demographics**             | Match on user ID or email                  |\n",
    "| 📅 **Time series from different sources**         | Merge by timestamp or datetime index       |\n",
    "| 📈 **Model prediction results with ground truth** | Merge on record ID for evaluation          |\n",
    "| 📊 **Sales and marketing data**                   | Match campaign ID, region, or channel info |\n"
   ]
  },
  {
   "cell_type": "markdown",
   "id": "fcef9669",
   "metadata": {},
   "source": [
    "## 📌 Summary Table\n",
    "\n",
    "| Feature      | Summary                                                    |\n",
    "| ------------ | ---------------------------------------------------------- |\n",
    "| Purpose      | SQL-style join for relational data                         |\n",
    "| Join Types   | `inner`, `left`, `right`, `outer`                          |\n",
    "| Match On     | Columns or index                                           |\n",
    "| Key Params   | `on`, `left_on`, `right_on`, `suffixes`, `indicator`       |\n",
    "| When to Use  | When datasets share common keys/IDs                        |\n",
    "| Alternatives | `concat()` (for stacking) or `join()` (simpler index join) |\n"
   ]
  },
  {
   "cell_type": "markdown",
   "id": "38b43ba1",
   "metadata": {},
   "source": [
    "<center><b>Thanks</b></center>"
   ]
  }
 ],
 "metadata": {
  "kernelspec": {
   "display_name": "venv",
   "language": "python",
   "name": "python3"
  },
  "language_info": {
   "codemirror_mode": {
    "name": "ipython",
    "version": 3
   },
   "file_extension": ".py",
   "mimetype": "text/x-python",
   "name": "python",
   "nbconvert_exporter": "python",
   "pygments_lexer": "ipython3",
   "version": "3.10.2"
  }
 },
 "nbformat": 4,
 "nbformat_minor": 5
}
