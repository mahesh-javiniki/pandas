{
 "cells": [
  {
   "cell_type": "markdown",
   "id": "9cf0dd63",
   "metadata": {},
   "source": [
    "# **7. Merging, Joining & Concatenation**"
   ]
  },
  {
   "cell_type": "markdown",
   "id": "7257d39a",
   "metadata": {},
   "source": [
    "## **3. `df.join()` – Index-based Joining**"
   ]
  },
  {
   "cell_type": "code",
   "execution_count": 2,
   "id": "c8934d24",
   "metadata": {},
   "outputs": [],
   "source": [
    "import pandas as pd"
   ]
  },
  {
   "cell_type": "markdown",
   "id": "dc6d6d00",
   "metadata": {},
   "source": [
    "**`df.join()` – Index-based Joining**, which is a more **concise and readable** alternative to `pd.merge()`—especially useful when you are dealing with **DataFrames that are aligned on their indexes**."
   ]
  },
  {
   "cell_type": "markdown",
   "id": "b453f0a2",
   "metadata": {},
   "source": [
    "## ✅ 1. What `df.join()` Does and When to Use It\n",
    "\n",
    "### 🔹 What It Does:\n",
    "\n",
    "`df.join()` **joins columns of another DataFrame to the calling DataFrame** using:\n",
    "\n",
    "* Index by default\n",
    "* Or optionally specified key columns\n",
    "\n",
    "It is **similar to `merge()`**, but is more streamlined when:\n",
    "\n",
    "* You're working with **index-based joins**\n",
    "* You don’t need complex joins involving multiple columns\n",
    "\n",
    "\n",
    "### 🔹 When to Use:\n",
    "\n",
    "* When both DataFrames share the **same index** (or one can be set as index).\n",
    "* When you want a **quick left join** on index with readable code.\n",
    "* Common in feature enrichment or during data preparation.\n",
    "\n",
    "> ✅ Preferred over `pd.merge()` when simplicity and speed are needed for index-based operations.\n"
   ]
  },
  {
   "cell_type": "markdown",
   "id": "73b70b05",
   "metadata": {},
   "source": [
    "## 🧾 2. Syntax and Core Parameters\n",
    "\n",
    "```python\n",
    "df.join(other, on=None, how='left', lsuffix='', rsuffix='', sort=False)\n",
    "```\n",
    "\n",
    "### 🔹 Core Parameters:\n",
    "\n",
    "| Parameter            | Description                                                       |\n",
    "| -------------------- | ----------------------------------------------------------------- |\n",
    "| `other`              | The DataFrame to join with                                        |\n",
    "| `on`                 | Column(s) in `df` to use as join key (optional)                   |\n",
    "| `how`                | Type of join: `'left'` (default), `'right'`, `'inner'`, `'outer'` |\n",
    "| `lsuffix`, `rsuffix` | Suffixes to disambiguate overlapping column names                 |\n",
    "| `sort`               | Whether to sort the result DataFrame by the join keys             |\n"
   ]
  },
  {
   "cell_type": "markdown",
   "id": "dff43ca1",
   "metadata": {},
   "source": [
    "## 🧠 3. Different Methods & Techniques\n",
    "\n",
    "### 🔸 A. Basic Left Join on Index (default behavior)\n",
    "\n",
    "```python\n",
    "df1.join(df2)\n",
    "```\n",
    "\n",
    "* Joins `df2` to `df1` using their index.\n",
    "* This is a **left join** by default (keeps all rows of `df1`).\n",
    "\n",
    "---\n",
    "\n",
    "### 🔸 B. Inner/Outer/Right Join\n",
    "\n",
    "```python\n",
    "df1.join(df2, how='inner')\n",
    "df1.join(df2, how='outer')\n",
    "df1.join(df2, how='right')\n",
    "```\n",
    "\n",
    "* Supports full SQL-style join options, with index alignment.\n",
    "\n",
    "---\n",
    "\n",
    "### 🔸 C. Joining on a Key Column (instead of index)\n",
    "\n",
    "```python\n",
    "df1.join(df2, on='key_column')\n",
    "```\n",
    "\n",
    "* Joins using `df1['key_column']` and `df2.index`.\n",
    "\n",
    "---\n",
    "\n",
    "### 🔸 D. Resolving Overlapping Columns\n",
    "\n",
    "```python\n",
    "df1.join(df2, lsuffix='_left', rsuffix='_right')\n",
    "```\n",
    "\n",
    "* Prevents conflicts when both have columns with the same name.\n"
   ]
  },
  {
   "cell_type": "markdown",
   "id": "b6f84abf",
   "metadata": {},
   "source": [
    "## ⚠️ 4. Common Pitfalls and Best Practices\n",
    "\n",
    "| Pitfall                                    | Best Practice                                                |\n",
    "| ------------------------------------------ | ------------------------------------------------------------ |\n",
    "| ❌ Index mismatch causing many NaNs         | ✅ Set appropriate indexes before joining                     |\n",
    "| ❌ Overlapping column names overwritten     | ✅ Use `lsuffix`, `rsuffix` to disambiguate                   |\n",
    "| ❌ Confusing `df.join()` with `pd.merge()`  | ✅ Use `join()` only when merging by index or a simple column |\n",
    "| ❌ Joining on a column when you meant index | ✅ Verify `df.index` before joining                           |\n",
    "| ❌ Assuming inner join by default           | ✅ Remember that default join is `'left'`, unlike `merge`     |\n"
   ]
  },
  {
   "cell_type": "markdown",
   "id": "1f22fe79",
   "metadata": {},
   "source": [
    "## 🧪 5. Examples on Real/Pseudo Data\n",
    "\n",
    "### ✅ Example 1: Basic Join on Index"
   ]
  },
  {
   "cell_type": "code",
   "execution_count": 3,
   "id": "26fead21",
   "metadata": {},
   "outputs": [
    {
     "data": {
      "text/html": [
       "<div>\n",
       "<style scoped>\n",
       "    .dataframe tbody tr th:only-of-type {\n",
       "        vertical-align: middle;\n",
       "    }\n",
       "\n",
       "    .dataframe tbody tr th {\n",
       "        vertical-align: top;\n",
       "    }\n",
       "\n",
       "    .dataframe thead th {\n",
       "        text-align: right;\n",
       "    }\n",
       "</style>\n",
       "<table border=\"1\" class=\"dataframe\">\n",
       "  <thead>\n",
       "    <tr style=\"text-align: right;\">\n",
       "      <th></th>\n",
       "      <th>Name</th>\n",
       "    </tr>\n",
       "  </thead>\n",
       "  <tbody>\n",
       "    <tr>\n",
       "      <th>a</th>\n",
       "      <td>Alice</td>\n",
       "    </tr>\n",
       "    <tr>\n",
       "      <th>b</th>\n",
       "      <td>Bob</td>\n",
       "    </tr>\n",
       "  </tbody>\n",
       "</table>\n",
       "</div>"
      ],
      "text/plain": [
       "    Name\n",
       "a  Alice\n",
       "b    Bob"
      ]
     },
     "metadata": {},
     "output_type": "display_data"
    },
    {
     "data": {
      "text/html": [
       "<div>\n",
       "<style scoped>\n",
       "    .dataframe tbody tr th:only-of-type {\n",
       "        vertical-align: middle;\n",
       "    }\n",
       "\n",
       "    .dataframe tbody tr th {\n",
       "        vertical-align: top;\n",
       "    }\n",
       "\n",
       "    .dataframe thead th {\n",
       "        text-align: right;\n",
       "    }\n",
       "</style>\n",
       "<table border=\"1\" class=\"dataframe\">\n",
       "  <thead>\n",
       "    <tr style=\"text-align: right;\">\n",
       "      <th></th>\n",
       "      <th>Age</th>\n",
       "    </tr>\n",
       "  </thead>\n",
       "  <tbody>\n",
       "    <tr>\n",
       "      <th>a</th>\n",
       "      <td>25</td>\n",
       "    </tr>\n",
       "    <tr>\n",
       "      <th>b</th>\n",
       "      <td>30</td>\n",
       "    </tr>\n",
       "  </tbody>\n",
       "</table>\n",
       "</div>"
      ],
      "text/plain": [
       "   Age\n",
       "a   25\n",
       "b   30"
      ]
     },
     "metadata": {},
     "output_type": "display_data"
    }
   ],
   "source": [
    "df1 = pd.DataFrame({'Name': ['Alice', 'Bob']}, index=['a', 'b'])\n",
    "df2 = pd.DataFrame({'Age': [25, 30]}, index=['a', 'b'])\n",
    "\n",
    "display(df1, df2)"
   ]
  },
  {
   "cell_type": "code",
   "execution_count": 4,
   "id": "de9458fb",
   "metadata": {},
   "outputs": [
    {
     "data": {
      "text/html": [
       "<div>\n",
       "<style scoped>\n",
       "    .dataframe tbody tr th:only-of-type {\n",
       "        vertical-align: middle;\n",
       "    }\n",
       "\n",
       "    .dataframe tbody tr th {\n",
       "        vertical-align: top;\n",
       "    }\n",
       "\n",
       "    .dataframe thead th {\n",
       "        text-align: right;\n",
       "    }\n",
       "</style>\n",
       "<table border=\"1\" class=\"dataframe\">\n",
       "  <thead>\n",
       "    <tr style=\"text-align: right;\">\n",
       "      <th></th>\n",
       "      <th>Name</th>\n",
       "      <th>Age</th>\n",
       "    </tr>\n",
       "  </thead>\n",
       "  <tbody>\n",
       "    <tr>\n",
       "      <th>a</th>\n",
       "      <td>Alice</td>\n",
       "      <td>25</td>\n",
       "    </tr>\n",
       "    <tr>\n",
       "      <th>b</th>\n",
       "      <td>Bob</td>\n",
       "      <td>30</td>\n",
       "    </tr>\n",
       "  </tbody>\n",
       "</table>\n",
       "</div>"
      ],
      "text/plain": [
       "    Name  Age\n",
       "a  Alice   25\n",
       "b    Bob   30"
      ]
     },
     "execution_count": 4,
     "metadata": {},
     "output_type": "execute_result"
    }
   ],
   "source": [
    "df1.join(df2)"
   ]
  },
  {
   "cell_type": "markdown",
   "id": "16578372",
   "metadata": {},
   "source": [
    "### ✅ Example 2: Join with Mismatched Index (Outer Join)"
   ]
  },
  {
   "cell_type": "code",
   "execution_count": 5,
   "id": "2d7f61ea",
   "metadata": {},
   "outputs": [
    {
     "data": {
      "text/html": [
       "<div>\n",
       "<style scoped>\n",
       "    .dataframe tbody tr th:only-of-type {\n",
       "        vertical-align: middle;\n",
       "    }\n",
       "\n",
       "    .dataframe tbody tr th {\n",
       "        vertical-align: top;\n",
       "    }\n",
       "\n",
       "    .dataframe thead th {\n",
       "        text-align: right;\n",
       "    }\n",
       "</style>\n",
       "<table border=\"1\" class=\"dataframe\">\n",
       "  <thead>\n",
       "    <tr style=\"text-align: right;\">\n",
       "      <th></th>\n",
       "      <th>Age</th>\n",
       "    </tr>\n",
       "  </thead>\n",
       "  <tbody>\n",
       "    <tr>\n",
       "      <th>a</th>\n",
       "      <td>28</td>\n",
       "    </tr>\n",
       "    <tr>\n",
       "      <th>c</th>\n",
       "      <td>32</td>\n",
       "    </tr>\n",
       "  </tbody>\n",
       "</table>\n",
       "</div>"
      ],
      "text/plain": [
       "   Age\n",
       "a   28\n",
       "c   32"
      ]
     },
     "execution_count": 5,
     "metadata": {},
     "output_type": "execute_result"
    }
   ],
   "source": [
    "df3 = pd.DataFrame({'Age': [28, 32]}, index=['a', 'c'])\n",
    "df3"
   ]
  },
  {
   "cell_type": "code",
   "execution_count": 6,
   "id": "deec9dcf",
   "metadata": {},
   "outputs": [
    {
     "data": {
      "text/html": [
       "<div>\n",
       "<style scoped>\n",
       "    .dataframe tbody tr th:only-of-type {\n",
       "        vertical-align: middle;\n",
       "    }\n",
       "\n",
       "    .dataframe tbody tr th {\n",
       "        vertical-align: top;\n",
       "    }\n",
       "\n",
       "    .dataframe thead th {\n",
       "        text-align: right;\n",
       "    }\n",
       "</style>\n",
       "<table border=\"1\" class=\"dataframe\">\n",
       "  <thead>\n",
       "    <tr style=\"text-align: right;\">\n",
       "      <th></th>\n",
       "      <th>Name</th>\n",
       "      <th>Age</th>\n",
       "    </tr>\n",
       "  </thead>\n",
       "  <tbody>\n",
       "    <tr>\n",
       "      <th>a</th>\n",
       "      <td>Alice</td>\n",
       "      <td>28.0</td>\n",
       "    </tr>\n",
       "    <tr>\n",
       "      <th>b</th>\n",
       "      <td>Bob</td>\n",
       "      <td>NaN</td>\n",
       "    </tr>\n",
       "  </tbody>\n",
       "</table>\n",
       "</div>"
      ],
      "text/plain": [
       "    Name   Age\n",
       "a  Alice  28.0\n",
       "b    Bob   NaN"
      ]
     },
     "execution_count": 6,
     "metadata": {},
     "output_type": "execute_result"
    }
   ],
   "source": [
    "df1.join(df3)"
   ]
  },
  {
   "cell_type": "code",
   "execution_count": 7,
   "id": "5aa71767",
   "metadata": {},
   "outputs": [
    {
     "data": {
      "text/html": [
       "<div>\n",
       "<style scoped>\n",
       "    .dataframe tbody tr th:only-of-type {\n",
       "        vertical-align: middle;\n",
       "    }\n",
       "\n",
       "    .dataframe tbody tr th {\n",
       "        vertical-align: top;\n",
       "    }\n",
       "\n",
       "    .dataframe thead th {\n",
       "        text-align: right;\n",
       "    }\n",
       "</style>\n",
       "<table border=\"1\" class=\"dataframe\">\n",
       "  <thead>\n",
       "    <tr style=\"text-align: right;\">\n",
       "      <th></th>\n",
       "      <th>Name</th>\n",
       "      <th>Age</th>\n",
       "    </tr>\n",
       "  </thead>\n",
       "  <tbody>\n",
       "    <tr>\n",
       "      <th>a</th>\n",
       "      <td>Alice</td>\n",
       "      <td>28.0</td>\n",
       "    </tr>\n",
       "    <tr>\n",
       "      <th>b</th>\n",
       "      <td>Bob</td>\n",
       "      <td>NaN</td>\n",
       "    </tr>\n",
       "    <tr>\n",
       "      <th>c</th>\n",
       "      <td>NaN</td>\n",
       "      <td>32.0</td>\n",
       "    </tr>\n",
       "  </tbody>\n",
       "</table>\n",
       "</div>"
      ],
      "text/plain": [
       "    Name   Age\n",
       "a  Alice  28.0\n",
       "b    Bob   NaN\n",
       "c    NaN  32.0"
      ]
     },
     "execution_count": 7,
     "metadata": {},
     "output_type": "execute_result"
    }
   ],
   "source": [
    "df1.join(df3, how='outer')"
   ]
  },
  {
   "cell_type": "markdown",
   "id": "c37b1cc0",
   "metadata": {},
   "source": [
    "### ✅ Example 3: Join on a Key Column"
   ]
  },
  {
   "cell_type": "code",
   "execution_count": 9,
   "id": "0f578dbd",
   "metadata": {},
   "outputs": [
    {
     "data": {
      "text/html": [
       "<div>\n",
       "<style scoped>\n",
       "    .dataframe tbody tr th:only-of-type {\n",
       "        vertical-align: middle;\n",
       "    }\n",
       "\n",
       "    .dataframe tbody tr th {\n",
       "        vertical-align: top;\n",
       "    }\n",
       "\n",
       "    .dataframe thead th {\n",
       "        text-align: right;\n",
       "    }\n",
       "</style>\n",
       "<table border=\"1\" class=\"dataframe\">\n",
       "  <thead>\n",
       "    <tr style=\"text-align: right;\">\n",
       "      <th></th>\n",
       "      <th>ID</th>\n",
       "      <th>Name</th>\n",
       "    </tr>\n",
       "  </thead>\n",
       "  <tbody>\n",
       "    <tr>\n",
       "      <th>0</th>\n",
       "      <td>101</td>\n",
       "      <td>Alice</td>\n",
       "    </tr>\n",
       "    <tr>\n",
       "      <th>1</th>\n",
       "      <td>102</td>\n",
       "      <td>Bob</td>\n",
       "    </tr>\n",
       "  </tbody>\n",
       "</table>\n",
       "</div>"
      ],
      "text/plain": [
       "    ID   Name\n",
       "0  101  Alice\n",
       "1  102    Bob"
      ]
     },
     "metadata": {},
     "output_type": "display_data"
    },
    {
     "data": {
      "text/html": [
       "<div>\n",
       "<style scoped>\n",
       "    .dataframe tbody tr th:only-of-type {\n",
       "        vertical-align: middle;\n",
       "    }\n",
       "\n",
       "    .dataframe tbody tr th {\n",
       "        vertical-align: top;\n",
       "    }\n",
       "\n",
       "    .dataframe thead th {\n",
       "        text-align: right;\n",
       "    }\n",
       "</style>\n",
       "<table border=\"1\" class=\"dataframe\">\n",
       "  <thead>\n",
       "    <tr style=\"text-align: right;\">\n",
       "      <th></th>\n",
       "      <th>Score</th>\n",
       "    </tr>\n",
       "  </thead>\n",
       "  <tbody>\n",
       "    <tr>\n",
       "      <th>101</th>\n",
       "      <td>85</td>\n",
       "    </tr>\n",
       "    <tr>\n",
       "      <th>102</th>\n",
       "      <td>90</td>\n",
       "    </tr>\n",
       "  </tbody>\n",
       "</table>\n",
       "</div>"
      ],
      "text/plain": [
       "     Score\n",
       "101     85\n",
       "102     90"
      ]
     },
     "metadata": {},
     "output_type": "display_data"
    }
   ],
   "source": [
    "df1 = pd.DataFrame({'ID': [101, 102], 'Name': ['Alice', 'Bob']})\n",
    "df2 = pd.DataFrame({'Score': [85, 90]}, index=[101, 102])\n",
    "\n",
    "display(df1, df2)"
   ]
  },
  {
   "cell_type": "code",
   "execution_count": 11,
   "id": "256384dc",
   "metadata": {},
   "outputs": [
    {
     "data": {
      "text/html": [
       "<div>\n",
       "<style scoped>\n",
       "    .dataframe tbody tr th:only-of-type {\n",
       "        vertical-align: middle;\n",
       "    }\n",
       "\n",
       "    .dataframe tbody tr th {\n",
       "        vertical-align: top;\n",
       "    }\n",
       "\n",
       "    .dataframe thead th {\n",
       "        text-align: right;\n",
       "    }\n",
       "</style>\n",
       "<table border=\"1\" class=\"dataframe\">\n",
       "  <thead>\n",
       "    <tr style=\"text-align: right;\">\n",
       "      <th></th>\n",
       "      <th>ID</th>\n",
       "      <th>Name</th>\n",
       "      <th>Score</th>\n",
       "    </tr>\n",
       "  </thead>\n",
       "  <tbody>\n",
       "    <tr>\n",
       "      <th>0</th>\n",
       "      <td>101</td>\n",
       "      <td>Alice</td>\n",
       "      <td>85</td>\n",
       "    </tr>\n",
       "    <tr>\n",
       "      <th>1</th>\n",
       "      <td>102</td>\n",
       "      <td>Bob</td>\n",
       "      <td>90</td>\n",
       "    </tr>\n",
       "  </tbody>\n",
       "</table>\n",
       "</div>"
      ],
      "text/plain": [
       "    ID   Name  Score\n",
       "0  101  Alice     85\n",
       "1  102    Bob     90"
      ]
     },
     "execution_count": 11,
     "metadata": {},
     "output_type": "execute_result"
    }
   ],
   "source": [
    "df1.join(df2, on='ID')"
   ]
  },
  {
   "cell_type": "markdown",
   "id": "a3751e2c",
   "metadata": {},
   "source": [
    "### ✅ Example 4: Handling Overlapping Column Names"
   ]
  },
  {
   "cell_type": "code",
   "execution_count": 12,
   "id": "316c9f7c",
   "metadata": {},
   "outputs": [
    {
     "data": {
      "text/html": [
       "<div>\n",
       "<style scoped>\n",
       "    .dataframe tbody tr th:only-of-type {\n",
       "        vertical-align: middle;\n",
       "    }\n",
       "\n",
       "    .dataframe tbody tr th {\n",
       "        vertical-align: top;\n",
       "    }\n",
       "\n",
       "    .dataframe thead th {\n",
       "        text-align: right;\n",
       "    }\n",
       "</style>\n",
       "<table border=\"1\" class=\"dataframe\">\n",
       "  <thead>\n",
       "    <tr style=\"text-align: right;\">\n",
       "      <th></th>\n",
       "      <th>Value</th>\n",
       "    </tr>\n",
       "  </thead>\n",
       "  <tbody>\n",
       "    <tr>\n",
       "      <th>x</th>\n",
       "      <td>10</td>\n",
       "    </tr>\n",
       "    <tr>\n",
       "      <th>y</th>\n",
       "      <td>20</td>\n",
       "    </tr>\n",
       "  </tbody>\n",
       "</table>\n",
       "</div>"
      ],
      "text/plain": [
       "   Value\n",
       "x     10\n",
       "y     20"
      ]
     },
     "metadata": {},
     "output_type": "display_data"
    },
    {
     "data": {
      "text/html": [
       "<div>\n",
       "<style scoped>\n",
       "    .dataframe tbody tr th:only-of-type {\n",
       "        vertical-align: middle;\n",
       "    }\n",
       "\n",
       "    .dataframe tbody tr th {\n",
       "        vertical-align: top;\n",
       "    }\n",
       "\n",
       "    .dataframe thead th {\n",
       "        text-align: right;\n",
       "    }\n",
       "</style>\n",
       "<table border=\"1\" class=\"dataframe\">\n",
       "  <thead>\n",
       "    <tr style=\"text-align: right;\">\n",
       "      <th></th>\n",
       "      <th>Value</th>\n",
       "    </tr>\n",
       "  </thead>\n",
       "  <tbody>\n",
       "    <tr>\n",
       "      <th>x</th>\n",
       "      <td>30</td>\n",
       "    </tr>\n",
       "    <tr>\n",
       "      <th>y</th>\n",
       "      <td>40</td>\n",
       "    </tr>\n",
       "  </tbody>\n",
       "</table>\n",
       "</div>"
      ],
      "text/plain": [
       "   Value\n",
       "x     30\n",
       "y     40"
      ]
     },
     "metadata": {},
     "output_type": "display_data"
    }
   ],
   "source": [
    "df1 = pd.DataFrame({'Value': [10, 20]}, index=['x', 'y'])\n",
    "df2 = pd.DataFrame({'Value': [30, 40]}, index=['x', 'y'])\n",
    "\n",
    "display(df1, df2)"
   ]
  },
  {
   "cell_type": "code",
   "execution_count": 13,
   "id": "8769bd1c",
   "metadata": {},
   "outputs": [
    {
     "data": {
      "text/html": [
       "<div>\n",
       "<style scoped>\n",
       "    .dataframe tbody tr th:only-of-type {\n",
       "        vertical-align: middle;\n",
       "    }\n",
       "\n",
       "    .dataframe tbody tr th {\n",
       "        vertical-align: top;\n",
       "    }\n",
       "\n",
       "    .dataframe thead th {\n",
       "        text-align: right;\n",
       "    }\n",
       "</style>\n",
       "<table border=\"1\" class=\"dataframe\">\n",
       "  <thead>\n",
       "    <tr style=\"text-align: right;\">\n",
       "      <th></th>\n",
       "      <th>Value_left</th>\n",
       "      <th>Value_right</th>\n",
       "    </tr>\n",
       "  </thead>\n",
       "  <tbody>\n",
       "    <tr>\n",
       "      <th>x</th>\n",
       "      <td>10</td>\n",
       "      <td>30</td>\n",
       "    </tr>\n",
       "    <tr>\n",
       "      <th>y</th>\n",
       "      <td>20</td>\n",
       "      <td>40</td>\n",
       "    </tr>\n",
       "  </tbody>\n",
       "</table>\n",
       "</div>"
      ],
      "text/plain": [
       "   Value_left  Value_right\n",
       "x          10           30\n",
       "y          20           40"
      ]
     },
     "execution_count": 13,
     "metadata": {},
     "output_type": "execute_result"
    }
   ],
   "source": [
    "df1.join(df2, lsuffix='_left', rsuffix='_right')"
   ]
  },
  {
   "cell_type": "markdown",
   "id": "69066df0",
   "metadata": {},
   "source": [
    "## 🌍 6. Real World Use Cases\n",
    "\n",
    "| Use Case                                            | Description                                                  |\n",
    "| --------------------------------------------------- | ------------------------------------------------------------ |\n",
    "| 🧾 **Add metadata to a dataset**                    | Join user demographics or product details using index        |\n",
    "| 🔍 **Combine features from different computations** | Enrich main dataset with engineered features stored by index |\n",
    "| 📊 **Join lookup tables or mappings**               | E.g., join regional info based on store codes                |\n",
    "| 🧠 **Model pipeline inputs**                        | Join additional model features stored separately             |\n",
    "| 📅 **Align time series from different sources**     | Combine two DataFrames with timestamp indexes                |\n"
   ]
  },
  {
   "cell_type": "markdown",
   "id": "03828f2e",
   "metadata": {},
   "source": [
    "## 📌 Summary\n",
    "\n",
    "| Feature      | Summary                                             |\n",
    "| ------------ | --------------------------------------------------- |\n",
    "| Purpose      | Concise index-based join                            |\n",
    "| Join Types   | `'left'` (default), `'right'`, `'inner'`, `'outer'` |\n",
    "| Match On     | Index by default, or column via `on`                |\n",
    "| Alternatives | Use `pd.merge()` for more complex joins             |\n",
    "| Use When     | Indexes are aligned or easy to align                |\n"
   ]
  },
  {
   "cell_type": "markdown",
   "id": "0cc86548",
   "metadata": {},
   "source": [
    "<center><b>Thanks</b></center>"
   ]
  }
 ],
 "metadata": {
  "kernelspec": {
   "display_name": "venv",
   "language": "python",
   "name": "python3"
  },
  "language_info": {
   "codemirror_mode": {
    "name": "ipython",
    "version": 3
   },
   "file_extension": ".py",
   "mimetype": "text/x-python",
   "name": "python",
   "nbconvert_exporter": "python",
   "pygments_lexer": "ipython3",
   "version": "3.10.2"
  }
 },
 "nbformat": 4,
 "nbformat_minor": 5
}
