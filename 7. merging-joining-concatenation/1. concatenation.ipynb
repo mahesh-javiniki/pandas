{
 "cells": [
  {
   "cell_type": "markdown",
   "id": "5b9a1791",
   "metadata": {},
   "source": [
    "# **7. Merging, Joining & Concatenation**"
   ]
  },
  {
   "cell_type": "markdown",
   "id": "704e3f02",
   "metadata": {},
   "source": [
    "## 1. `pd.concat()` – Concatenation of DataFrames"
   ]
  },
  {
   "cell_type": "code",
   "execution_count": 2,
   "id": "27699f50",
   "metadata": {},
   "outputs": [],
   "source": [
    "import pandas as pd"
   ]
  },
  {
   "cell_type": "markdown",
   "id": "562463ae",
   "metadata": {},
   "source": [
    "**`pd.concat()` – Concatenation of DataFrames**, which is a powerful tool in pandas when working with **multiple datasets** you want to **stack or combine** either **vertically** (like stacking rows) or **horizontally** (like adding columns)."
   ]
  },
  {
   "cell_type": "markdown",
   "id": "a33a2258",
   "metadata": {},
   "source": [
    "## ✅ 1. What `pd.concat()` Does and When to Use It\n",
    "\n",
    "### 🔹 What It Does:\n",
    "\n",
    "`pd.concat()` **combines multiple pandas objects** (like `DataFrames` or `Series`) **along a particular axis (rows or columns)**.\n",
    "\n",
    "* Think of it as **stacking** or **gluing** datasets together.\n",
    "* It’s **not SQL-like** (unlike `merge()`), as it **doesn't require keys** to align on—alignment happens based on **index** (by default).\n",
    "\n",
    "### 🔹 When to Use:\n",
    "\n",
    "* You want to:\n",
    "\n",
    "  * Stack data **vertically** (e.g., monthly sales reports).\n",
    "  * Append features side-by-side (horizontally).\n",
    "  * Combine datasets **without complex key logic**.\n",
    "* Common in **ETL pipelines** where data comes in chunks (e.g., log files, time-based data).\n"
   ]
  },
  {
   "cell_type": "markdown",
   "id": "ddf2ebb7",
   "metadata": {},
   "source": [
    "## 🧾 2. Syntax and Core Parameters\n",
    "\n",
    "```python\n",
    "pd.concat(objs, axis=0, join='outer', ignore_index=False, keys=None, levels=None, names=None, verify_integrity=False, sort=False)\n",
    "```\n",
    "\n",
    "### 🔹 Core Parameters:\n",
    "\n",
    "| Parameter          | Description                                                             |\n",
    "| ------------------ | ----------------------------------------------------------------------- |\n",
    "| `objs`             | A list/tuple of pandas objects to concatenate                           |\n",
    "| `axis`             | 0 → row-wise (vertical), 1 → column-wise (horizontal)                   |\n",
    "| `join`             | `'outer'` (union, default) or `'inner'` (intersection of index/columns) |\n",
    "| `ignore_index`     | If `True`, reset index in result                                        |\n",
    "| `keys`             | Add hierarchical index labels                                           |\n",
    "| `verify_integrity` | If `True`, raise error on duplicate indexes                             |\n",
    "| `sort`             | Sort unaligned columns when joining                                     |\n"
   ]
  },
  {
   "cell_type": "markdown",
   "id": "97274efa",
   "metadata": {},
   "source": [
    "## 🧠 3. Different Methods & Techniques Using `pd.concat()`\n",
    "\n",
    "### 🔸 A. Vertical Concatenation (Stacking Rows)\n",
    "\n",
    "```python\n",
    "result = pd.concat([df1, df2], axis=0)\n",
    "```\n",
    "\n",
    "* Index is preserved by default.\n",
    "* Columns are aligned automatically.\n",
    "\n",
    "### 🔸 B. Horizontal Concatenation (Adding Columns)\n",
    "\n",
    "```python\n",
    "result = pd.concat([df1, df2], axis=1)\n",
    "```\n",
    "\n",
    "* Index is used for alignment.\n",
    "* Works like a side-by-side append.\n",
    "\n",
    "### 🔸 C. Ignoring Index\n",
    "\n",
    "```python\n",
    "pd.concat([df1, df2], ignore_index=True)\n",
    "```\n",
    "\n",
    "* Resets index in result to range index.\n",
    "\n",
    "### 🔸 D. Inner Join on Columns/Index\n",
    "\n",
    "```python\n",
    "pd.concat([df1, df2], join='inner', axis=0)\n",
    "```\n",
    "\n",
    "* Only common columns or rows will be retained.\n",
    "\n",
    "### 🔸 E. Using `keys` to Create MultiIndex\n",
    "\n",
    "```python\n",
    "pd.concat([df1, df2], keys=['Q1', 'Q2'])\n",
    "```\n",
    "\n",
    "* Useful to identify source dataset in stacked output.\n",
    "\n",
    "### 🔸 F. Verifying Index Integrity\n",
    "\n",
    "```python\n",
    "pd.concat([df1, df2], verify_integrity=True)\n",
    "```\n",
    "\n",
    "* Ensures no duplicate indexes—throws error if found.\n"
   ]
  },
  {
   "cell_type": "markdown",
   "id": "c279c4e7",
   "metadata": {},
   "source": [
    "## ⚠️ 4. Common Pitfalls and Best Practices\n",
    "\n",
    "| Pitfall                                           | Recommendation                                                |\n",
    "| ------------------------------------------------- | ------------------------------------------------------------- |\n",
    "| Misaligned indices causing unexpected NaNs        | Always inspect index alignment before horizontal concat       |\n",
    "| Not resetting index after vertical concat         | Use `ignore_index=True` if original index is meaningless      |\n",
    "| Using `concat()` when merge/join is better suited | Only use `concat()` when you don't need key-based logic       |\n",
    "| Overwriting common column names                   | Be careful with column name overlaps during horizontal concat |\n",
    "| Memory issues with very large datasets            | Concatenate in batches or use Dask for out-of-core processing |\n"
   ]
  },
  {
   "cell_type": "markdown",
   "id": "c3df4a73",
   "metadata": {},
   "source": [
    "## 🧪 5. Examples on Real/Pseudo Data"
   ]
  },
  {
   "cell_type": "markdown",
   "id": "c8deea71",
   "metadata": {},
   "source": [
    "### ✅ Vertical Concatenation – Stacking Monthly Sales"
   ]
  },
  {
   "cell_type": "code",
   "execution_count": 3,
   "id": "3107e78c",
   "metadata": {},
   "outputs": [
    {
     "data": {
      "text/html": [
       "<div>\n",
       "<style scoped>\n",
       "    .dataframe tbody tr th:only-of-type {\n",
       "        vertical-align: middle;\n",
       "    }\n",
       "\n",
       "    .dataframe tbody tr th {\n",
       "        vertical-align: top;\n",
       "    }\n",
       "\n",
       "    .dataframe thead th {\n",
       "        text-align: right;\n",
       "    }\n",
       "</style>\n",
       "<table border=\"1\" class=\"dataframe\">\n",
       "  <thead>\n",
       "    <tr style=\"text-align: right;\">\n",
       "      <th></th>\n",
       "      <th>Product</th>\n",
       "      <th>Sales</th>\n",
       "    </tr>\n",
       "  </thead>\n",
       "  <tbody>\n",
       "    <tr>\n",
       "      <th>0</th>\n",
       "      <td>A</td>\n",
       "      <td>100</td>\n",
       "    </tr>\n",
       "    <tr>\n",
       "      <th>1</th>\n",
       "      <td>B</td>\n",
       "      <td>150</td>\n",
       "    </tr>\n",
       "  </tbody>\n",
       "</table>\n",
       "</div>"
      ],
      "text/plain": [
       "  Product  Sales\n",
       "0       A    100\n",
       "1       B    150"
      ]
     },
     "metadata": {},
     "output_type": "display_data"
    },
    {
     "data": {
      "text/html": [
       "<div>\n",
       "<style scoped>\n",
       "    .dataframe tbody tr th:only-of-type {\n",
       "        vertical-align: middle;\n",
       "    }\n",
       "\n",
       "    .dataframe tbody tr th {\n",
       "        vertical-align: top;\n",
       "    }\n",
       "\n",
       "    .dataframe thead th {\n",
       "        text-align: right;\n",
       "    }\n",
       "</style>\n",
       "<table border=\"1\" class=\"dataframe\">\n",
       "  <thead>\n",
       "    <tr style=\"text-align: right;\">\n",
       "      <th></th>\n",
       "      <th>Product</th>\n",
       "      <th>Sales</th>\n",
       "    </tr>\n",
       "  </thead>\n",
       "  <tbody>\n",
       "    <tr>\n",
       "      <th>0</th>\n",
       "      <td>A</td>\n",
       "      <td>200</td>\n",
       "    </tr>\n",
       "    <tr>\n",
       "      <th>1</th>\n",
       "      <td>B</td>\n",
       "      <td>120</td>\n",
       "    </tr>\n",
       "  </tbody>\n",
       "</table>\n",
       "</div>"
      ],
      "text/plain": [
       "  Product  Sales\n",
       "0       A    200\n",
       "1       B    120"
      ]
     },
     "metadata": {},
     "output_type": "display_data"
    }
   ],
   "source": [
    "jan = pd.DataFrame({'Product': ['A', 'B'], 'Sales': [100, 150]})\n",
    "feb = pd.DataFrame({'Product': ['A', 'B'], 'Sales': [200, 120]})\n",
    "\n",
    "display(jan)\n",
    "display(feb)"
   ]
  },
  {
   "cell_type": "code",
   "execution_count": 7,
   "id": "64af69aa",
   "metadata": {},
   "outputs": [
    {
     "data": {
      "text/html": [
       "<div>\n",
       "<style scoped>\n",
       "    .dataframe tbody tr th:only-of-type {\n",
       "        vertical-align: middle;\n",
       "    }\n",
       "\n",
       "    .dataframe tbody tr th {\n",
       "        vertical-align: top;\n",
       "    }\n",
       "\n",
       "    .dataframe thead th {\n",
       "        text-align: right;\n",
       "    }\n",
       "</style>\n",
       "<table border=\"1\" class=\"dataframe\">\n",
       "  <thead>\n",
       "    <tr style=\"text-align: right;\">\n",
       "      <th></th>\n",
       "      <th>Product</th>\n",
       "      <th>Sales</th>\n",
       "    </tr>\n",
       "  </thead>\n",
       "  <tbody>\n",
       "    <tr>\n",
       "      <th>0</th>\n",
       "      <td>A</td>\n",
       "      <td>100</td>\n",
       "    </tr>\n",
       "    <tr>\n",
       "      <th>1</th>\n",
       "      <td>B</td>\n",
       "      <td>150</td>\n",
       "    </tr>\n",
       "    <tr>\n",
       "      <th>0</th>\n",
       "      <td>A</td>\n",
       "      <td>200</td>\n",
       "    </tr>\n",
       "    <tr>\n",
       "      <th>1</th>\n",
       "      <td>B</td>\n",
       "      <td>120</td>\n",
       "    </tr>\n",
       "  </tbody>\n",
       "</table>\n",
       "</div>"
      ],
      "text/plain": [
       "  Product  Sales\n",
       "0       A    100\n",
       "1       B    150\n",
       "0       A    200\n",
       "1       B    120"
      ]
     },
     "execution_count": 7,
     "metadata": {},
     "output_type": "execute_result"
    }
   ],
   "source": [
    "pd.concat([jan, feb], axis=0)"
   ]
  },
  {
   "cell_type": "code",
   "execution_count": 6,
   "id": "ae220f13",
   "metadata": {},
   "outputs": [
    {
     "data": {
      "text/html": [
       "<div>\n",
       "<style scoped>\n",
       "    .dataframe tbody tr th:only-of-type {\n",
       "        vertical-align: middle;\n",
       "    }\n",
       "\n",
       "    .dataframe tbody tr th {\n",
       "        vertical-align: top;\n",
       "    }\n",
       "\n",
       "    .dataframe thead th {\n",
       "        text-align: right;\n",
       "    }\n",
       "</style>\n",
       "<table border=\"1\" class=\"dataframe\">\n",
       "  <thead>\n",
       "    <tr style=\"text-align: right;\">\n",
       "      <th></th>\n",
       "      <th>Product</th>\n",
       "      <th>Sales</th>\n",
       "    </tr>\n",
       "  </thead>\n",
       "  <tbody>\n",
       "    <tr>\n",
       "      <th>0</th>\n",
       "      <td>A</td>\n",
       "      <td>100</td>\n",
       "    </tr>\n",
       "    <tr>\n",
       "      <th>1</th>\n",
       "      <td>B</td>\n",
       "      <td>150</td>\n",
       "    </tr>\n",
       "    <tr>\n",
       "      <th>2</th>\n",
       "      <td>A</td>\n",
       "      <td>200</td>\n",
       "    </tr>\n",
       "    <tr>\n",
       "      <th>3</th>\n",
       "      <td>B</td>\n",
       "      <td>120</td>\n",
       "    </tr>\n",
       "  </tbody>\n",
       "</table>\n",
       "</div>"
      ],
      "text/plain": [
       "  Product  Sales\n",
       "0       A    100\n",
       "1       B    150\n",
       "2       A    200\n",
       "3       B    120"
      ]
     },
     "execution_count": 6,
     "metadata": {},
     "output_type": "execute_result"
    }
   ],
   "source": [
    "pd.concat([jan, feb], axis=0, ignore_index=True)"
   ]
  },
  {
   "cell_type": "markdown",
   "id": "42ae7bc9",
   "metadata": {},
   "source": [
    "### ✅ Horizontal Concatenation – Adding Features"
   ]
  },
  {
   "cell_type": "code",
   "execution_count": 8,
   "id": "60e6933b",
   "metadata": {},
   "outputs": [
    {
     "data": {
      "text/html": [
       "<div>\n",
       "<style scoped>\n",
       "    .dataframe tbody tr th:only-of-type {\n",
       "        vertical-align: middle;\n",
       "    }\n",
       "\n",
       "    .dataframe tbody tr th {\n",
       "        vertical-align: top;\n",
       "    }\n",
       "\n",
       "    .dataframe thead th {\n",
       "        text-align: right;\n",
       "    }\n",
       "</style>\n",
       "<table border=\"1\" class=\"dataframe\">\n",
       "  <thead>\n",
       "    <tr style=\"text-align: right;\">\n",
       "      <th></th>\n",
       "      <th>Name</th>\n",
       "      <th>Age</th>\n",
       "    </tr>\n",
       "  </thead>\n",
       "  <tbody>\n",
       "    <tr>\n",
       "      <th>0</th>\n",
       "      <td>Alice</td>\n",
       "      <td>25</td>\n",
       "    </tr>\n",
       "    <tr>\n",
       "      <th>1</th>\n",
       "      <td>Bob</td>\n",
       "      <td>30</td>\n",
       "    </tr>\n",
       "  </tbody>\n",
       "</table>\n",
       "</div>"
      ],
      "text/plain": [
       "    Name  Age\n",
       "0  Alice   25\n",
       "1    Bob   30"
      ]
     },
     "metadata": {},
     "output_type": "display_data"
    },
    {
     "data": {
      "text/html": [
       "<div>\n",
       "<style scoped>\n",
       "    .dataframe tbody tr th:only-of-type {\n",
       "        vertical-align: middle;\n",
       "    }\n",
       "\n",
       "    .dataframe tbody tr th {\n",
       "        vertical-align: top;\n",
       "    }\n",
       "\n",
       "    .dataframe thead th {\n",
       "        text-align: right;\n",
       "    }\n",
       "</style>\n",
       "<table border=\"1\" class=\"dataframe\">\n",
       "  <thead>\n",
       "    <tr style=\"text-align: right;\">\n",
       "      <th></th>\n",
       "      <th>Score</th>\n",
       "    </tr>\n",
       "  </thead>\n",
       "  <tbody>\n",
       "    <tr>\n",
       "      <th>0</th>\n",
       "      <td>88</td>\n",
       "    </tr>\n",
       "    <tr>\n",
       "      <th>1</th>\n",
       "      <td>92</td>\n",
       "    </tr>\n",
       "  </tbody>\n",
       "</table>\n",
       "</div>"
      ],
      "text/plain": [
       "   Score\n",
       "0     88\n",
       "1     92"
      ]
     },
     "metadata": {},
     "output_type": "display_data"
    }
   ],
   "source": [
    "info = pd.DataFrame({'Name': ['Alice', 'Bob'], 'Age': [25, 30]})\n",
    "score = pd.DataFrame({'Score': [88, 92]})\n",
    "\n",
    "display(info)\n",
    "display(score)"
   ]
  },
  {
   "cell_type": "code",
   "execution_count": 11,
   "id": "6e14662b",
   "metadata": {},
   "outputs": [
    {
     "data": {
      "text/html": [
       "<div>\n",
       "<style scoped>\n",
       "    .dataframe tbody tr th:only-of-type {\n",
       "        vertical-align: middle;\n",
       "    }\n",
       "\n",
       "    .dataframe tbody tr th {\n",
       "        vertical-align: top;\n",
       "    }\n",
       "\n",
       "    .dataframe thead th {\n",
       "        text-align: right;\n",
       "    }\n",
       "</style>\n",
       "<table border=\"1\" class=\"dataframe\">\n",
       "  <thead>\n",
       "    <tr style=\"text-align: right;\">\n",
       "      <th></th>\n",
       "      <th>Name</th>\n",
       "      <th>Age</th>\n",
       "      <th>Score</th>\n",
       "    </tr>\n",
       "  </thead>\n",
       "  <tbody>\n",
       "    <tr>\n",
       "      <th>0</th>\n",
       "      <td>Alice</td>\n",
       "      <td>25</td>\n",
       "      <td>88</td>\n",
       "    </tr>\n",
       "    <tr>\n",
       "      <th>1</th>\n",
       "      <td>Bob</td>\n",
       "      <td>30</td>\n",
       "      <td>92</td>\n",
       "    </tr>\n",
       "  </tbody>\n",
       "</table>\n",
       "</div>"
      ],
      "text/plain": [
       "    Name  Age  Score\n",
       "0  Alice   25     88\n",
       "1    Bob   30     92"
      ]
     },
     "execution_count": 11,
     "metadata": {},
     "output_type": "execute_result"
    }
   ],
   "source": [
    "pd.concat([info, score], axis=1)"
   ]
  },
  {
   "cell_type": "markdown",
   "id": "e545cbc4",
   "metadata": {},
   "source": [
    "### ✅ MultiIndex with `keys`"
   ]
  },
  {
   "cell_type": "code",
   "execution_count": 12,
   "id": "af8446d8",
   "metadata": {},
   "outputs": [
    {
     "data": {
      "text/html": [
       "<div>\n",
       "<style scoped>\n",
       "    .dataframe tbody tr th:only-of-type {\n",
       "        vertical-align: middle;\n",
       "    }\n",
       "\n",
       "    .dataframe tbody tr th {\n",
       "        vertical-align: top;\n",
       "    }\n",
       "\n",
       "    .dataframe thead th {\n",
       "        text-align: right;\n",
       "    }\n",
       "</style>\n",
       "<table border=\"1\" class=\"dataframe\">\n",
       "  <thead>\n",
       "    <tr style=\"text-align: right;\">\n",
       "      <th></th>\n",
       "      <th>Sales</th>\n",
       "    </tr>\n",
       "  </thead>\n",
       "  <tbody>\n",
       "    <tr>\n",
       "      <th>0</th>\n",
       "      <td>100</td>\n",
       "    </tr>\n",
       "    <tr>\n",
       "      <th>1</th>\n",
       "      <td>200</td>\n",
       "    </tr>\n",
       "  </tbody>\n",
       "</table>\n",
       "</div>"
      ],
      "text/plain": [
       "   Sales\n",
       "0    100\n",
       "1    200"
      ]
     },
     "metadata": {},
     "output_type": "display_data"
    },
    {
     "data": {
      "text/html": [
       "<div>\n",
       "<style scoped>\n",
       "    .dataframe tbody tr th:only-of-type {\n",
       "        vertical-align: middle;\n",
       "    }\n",
       "\n",
       "    .dataframe tbody tr th {\n",
       "        vertical-align: top;\n",
       "    }\n",
       "\n",
       "    .dataframe thead th {\n",
       "        text-align: right;\n",
       "    }\n",
       "</style>\n",
       "<table border=\"1\" class=\"dataframe\">\n",
       "  <thead>\n",
       "    <tr style=\"text-align: right;\">\n",
       "      <th></th>\n",
       "      <th>Sales</th>\n",
       "    </tr>\n",
       "  </thead>\n",
       "  <tbody>\n",
       "    <tr>\n",
       "      <th>0</th>\n",
       "      <td>150</td>\n",
       "    </tr>\n",
       "    <tr>\n",
       "      <th>1</th>\n",
       "      <td>250</td>\n",
       "    </tr>\n",
       "  </tbody>\n",
       "</table>\n",
       "</div>"
      ],
      "text/plain": [
       "   Sales\n",
       "0    150\n",
       "1    250"
      ]
     },
     "metadata": {},
     "output_type": "display_data"
    }
   ],
   "source": [
    "q1 = pd.DataFrame({'Sales': [100, 200]})\n",
    "q2 = pd.DataFrame({'Sales': [150, 250]})\n",
    "\n",
    "display(q1)\n",
    "display(q2)"
   ]
  },
  {
   "cell_type": "code",
   "execution_count": 13,
   "id": "b5b07d96",
   "metadata": {},
   "outputs": [
    {
     "data": {
      "text/html": [
       "<div>\n",
       "<style scoped>\n",
       "    .dataframe tbody tr th:only-of-type {\n",
       "        vertical-align: middle;\n",
       "    }\n",
       "\n",
       "    .dataframe tbody tr th {\n",
       "        vertical-align: top;\n",
       "    }\n",
       "\n",
       "    .dataframe thead th {\n",
       "        text-align: right;\n",
       "    }\n",
       "</style>\n",
       "<table border=\"1\" class=\"dataframe\">\n",
       "  <thead>\n",
       "    <tr style=\"text-align: right;\">\n",
       "      <th></th>\n",
       "      <th></th>\n",
       "      <th>Sales</th>\n",
       "    </tr>\n",
       "  </thead>\n",
       "  <tbody>\n",
       "    <tr>\n",
       "      <th rowspan=\"2\" valign=\"top\">Q1</th>\n",
       "      <th>0</th>\n",
       "      <td>100</td>\n",
       "    </tr>\n",
       "    <tr>\n",
       "      <th>1</th>\n",
       "      <td>200</td>\n",
       "    </tr>\n",
       "    <tr>\n",
       "      <th rowspan=\"2\" valign=\"top\">Q2</th>\n",
       "      <th>0</th>\n",
       "      <td>150</td>\n",
       "    </tr>\n",
       "    <tr>\n",
       "      <th>1</th>\n",
       "      <td>250</td>\n",
       "    </tr>\n",
       "  </tbody>\n",
       "</table>\n",
       "</div>"
      ],
      "text/plain": [
       "      Sales\n",
       "Q1 0    100\n",
       "   1    200\n",
       "Q2 0    150\n",
       "   1    250"
      ]
     },
     "execution_count": 13,
     "metadata": {},
     "output_type": "execute_result"
    }
   ],
   "source": [
    "pd.concat([q1, q2], keys=['Q1', 'Q2'])"
   ]
  },
  {
   "cell_type": "markdown",
   "id": "f9fdf8f9",
   "metadata": {},
   "source": [
    "## 🌍 6. Real-World Use Cases\n",
    "\n",
    "| Use Case                    | Description                                             |\n",
    "| --------------------------- | ------------------------------------------------------- |\n",
    "| 🔁 **Batch Data Ingestion** | Stack multiple CSV files monthly into one DataFrame     |\n",
    "| 🧾 **Log Aggregation**      | Combine daily/weekly log files                          |\n",
    "| 📈 **Feature Engineering**  | Add newly computed columns like scores, predictions     |\n",
    "| 🧪 **Data Enrichment**      | Concatenate customer profile data from multiple sources |\n",
    "| 📚 **ETL Pipelines**        | Merge raw data at different stages of cleaning          |\n"
   ]
  },
  {
   "cell_type": "markdown",
   "id": "51c22782",
   "metadata": {},
   "source": [
    "## 📌 Summary\n",
    "\n",
    "| Concept      | Details                                               |\n",
    "| ------------ | ----------------------------------------------------- |\n",
    "| Method       | `pd.concat()`                                         |\n",
    "| Use Cases    | Combine multiple DataFrames (vertically/horizontally) |\n",
    "| Key Controls | `axis`, `ignore_index`, `join`, `keys`                |\n",
    "| Use When     | No need for key-based logic, simple appending         |\n",
    "| Alternatives | Use `merge()`/`join()` when working with keys         |\n"
   ]
  },
  {
   "cell_type": "markdown",
   "id": "f273d6c9",
   "metadata": {},
   "source": [
    "<center><b>Thanks</b></center>"
   ]
  }
 ],
 "metadata": {
  "kernelspec": {
   "display_name": "venv",
   "language": "python",
   "name": "python3"
  },
  "language_info": {
   "codemirror_mode": {
    "name": "ipython",
    "version": 3
   },
   "file_extension": ".py",
   "mimetype": "text/x-python",
   "name": "python",
   "nbconvert_exporter": "python",
   "pygments_lexer": "ipython3",
   "version": "3.10.2"
  }
 },
 "nbformat": 4,
 "nbformat_minor": 5
}
