{
 "cells": [
  {
   "cell_type": "markdown",
   "id": "3987bdb3",
   "metadata": {},
   "source": [
    "# **8. Working with Date and Time**"
   ]
  },
  {
   "cell_type": "markdown",
   "id": "6adc442a",
   "metadata": {},
   "source": [
    "## **🗓️ 8. Setting and Using `DatetimeIndex`**"
   ]
  },
  {
   "cell_type": "code",
   "execution_count": 2,
   "id": "4f4b0fec",
   "metadata": {},
   "outputs": [],
   "source": [
    "import pandas as pd \n",
    "import numpy as np"
   ]
  },
  {
   "cell_type": "markdown",
   "id": "4dcaa6fd",
   "metadata": {},
   "source": [
    "### 1. **What it does and When to Use It**\n",
    "\n",
    "`DatetimeIndex` is a special type of pandas index based on datetime values. It allows for **efficient, intuitive, and powerful time series operations**, such as:\n",
    "\n",
    "* Time-based indexing and slicing\n",
    "* Resampling and frequency conversion\n",
    "* Rolling windows and shifting\n",
    "* Time zone localization\n",
    "* Plotting and filtering based on datetime properties\n",
    "\n",
    "**Use it when** your dataset includes time-related information and you want to perform operations based on **time intervals**."
   ]
  },
  {
   "cell_type": "markdown",
   "id": "2295c302",
   "metadata": {},
   "source": [
    "### 2. **Syntax and Core Parameters**\n",
    "\n",
    "#### ✅ **Creating a DatetimeIndex**\n",
    "\n",
    "```python\n",
    "pd.to_datetime(your_column)\n",
    "```\n",
    "\n",
    "#### ✅ **Setting it as Index**\n",
    "\n",
    "```python\n",
    "df.set_index('datetime_column', inplace=True)\n",
    "```\n",
    "\n",
    "#### ✅ **Creating from scratch**\n",
    "\n",
    "```python\n",
    "pd.date_range(start='2025-01-01', periods=10, freq='D')\n",
    "```\n",
    "\n",
    "#### ✅ **Important Parameters:**\n",
    "\n",
    "| Parameter               | Description                                     |\n",
    "| ----------------------- | ----------------------------------------------- |\n",
    "| `inplace`               | Whether to modify the DataFrame in place        |\n",
    "| `drop` (in `set_index`) | Drop the original column or retain it           |\n",
    "| `freq`                  | Frequency string like `'D'`, `'M'`, `'H'` etc.  |\n",
    "| `tz`                    | Timezone info (e.g., `'UTC'`, `'Asia/Kolkata'`) |\n"
   ]
  },
  {
   "cell_type": "markdown",
   "id": "734794d3",
   "metadata": {},
   "source": [
    "### 3. **Different Methods and Techniques**\n",
    "\n",
    "#### 🧱 A. Converting to datetime and setting index\n",
    "\n",
    "```python\n",
    "df['date'] = pd.to_datetime(df['date'])\n",
    "df.set_index('date', inplace=True)\n",
    "```\n",
    "\n",
    "#### 📅 B. Generating a DatetimeIndex\n",
    "\n",
    "```python\n",
    "dates = pd.date_range(start='2025-01-01', periods=5, freq='D')\n",
    "```\n",
    "\n",
    "#### 📊 C. Time-based slicing\n",
    "\n",
    "```python\n",
    "df['2025-07']         # All rows from July 2025\n",
    "df['2025-07-25']      # Rows from specific day\n",
    "```\n",
    "\n",
    "#### 📈 D. Filtering with datetime attributes\n",
    "\n",
    "```python\n",
    "df[df.index.month == 7]    # All July records\n",
    "df[df.index.weekday == 0]  # All Mondays\n",
    "```\n",
    "\n",
    "#### 🧭 E. Resampling and shifting (possible only with DatetimeIndex)\n",
    "\n",
    "```python\n",
    "df.resample('W').mean()\n",
    "df.shift(1)\n",
    "```"
   ]
  },
  {
   "cell_type": "markdown",
   "id": "b7975fbb",
   "metadata": {},
   "source": [
    "### 4. **Examples on Real/Pseudo Data**"
   ]
  },
  {
   "cell_type": "code",
   "execution_count": 4,
   "id": "e4725e2a",
   "metadata": {},
   "outputs": [
    {
     "data": {
      "text/html": [
       "<div>\n",
       "<style scoped>\n",
       "    .dataframe tbody tr th:only-of-type {\n",
       "        vertical-align: middle;\n",
       "    }\n",
       "\n",
       "    .dataframe tbody tr th {\n",
       "        vertical-align: top;\n",
       "    }\n",
       "\n",
       "    .dataframe thead th {\n",
       "        text-align: right;\n",
       "    }\n",
       "</style>\n",
       "<table border=\"1\" class=\"dataframe\">\n",
       "  <thead>\n",
       "    <tr style=\"text-align: right;\">\n",
       "      <th></th>\n",
       "      <th>date</th>\n",
       "      <th>sales</th>\n",
       "    </tr>\n",
       "  </thead>\n",
       "  <tbody>\n",
       "    <tr>\n",
       "      <th>0</th>\n",
       "      <td>2025-07-20</td>\n",
       "      <td>200</td>\n",
       "    </tr>\n",
       "    <tr>\n",
       "      <th>1</th>\n",
       "      <td>2025-07-21</td>\n",
       "      <td>220</td>\n",
       "    </tr>\n",
       "    <tr>\n",
       "      <th>2</th>\n",
       "      <td>2025-07-22</td>\n",
       "      <td>180</td>\n",
       "    </tr>\n",
       "    <tr>\n",
       "      <th>3</th>\n",
       "      <td>2025-07-23</td>\n",
       "      <td>240</td>\n",
       "    </tr>\n",
       "    <tr>\n",
       "      <th>4</th>\n",
       "      <td>2025-07-24</td>\n",
       "      <td>210</td>\n",
       "    </tr>\n",
       "    <tr>\n",
       "      <th>5</th>\n",
       "      <td>2025-07-25</td>\n",
       "      <td>250</td>\n",
       "    </tr>\n",
       "  </tbody>\n",
       "</table>\n",
       "</div>"
      ],
      "text/plain": [
       "        date  sales\n",
       "0 2025-07-20    200\n",
       "1 2025-07-21    220\n",
       "2 2025-07-22    180\n",
       "3 2025-07-23    240\n",
       "4 2025-07-24    210\n",
       "5 2025-07-25    250"
      ]
     },
     "execution_count": 4,
     "metadata": {},
     "output_type": "execute_result"
    }
   ],
   "source": [
    "data = {\n",
    "    'date': pd.date_range(start='2025-07-20', periods=6, freq='D'),\n",
    "    'sales': [200, 220, 180, 240, 210, 250]\n",
    "}\n",
    "df = pd.DataFrame(data)\n",
    "\n",
    "df"
   ]
  },
  {
   "cell_type": "code",
   "execution_count": 6,
   "id": "bdcd06a4",
   "metadata": {},
   "outputs": [
    {
     "data": {
      "text/html": [
       "<div>\n",
       "<style scoped>\n",
       "    .dataframe tbody tr th:only-of-type {\n",
       "        vertical-align: middle;\n",
       "    }\n",
       "\n",
       "    .dataframe tbody tr th {\n",
       "        vertical-align: top;\n",
       "    }\n",
       "\n",
       "    .dataframe thead th {\n",
       "        text-align: right;\n",
       "    }\n",
       "</style>\n",
       "<table border=\"1\" class=\"dataframe\">\n",
       "  <thead>\n",
       "    <tr style=\"text-align: right;\">\n",
       "      <th></th>\n",
       "      <th>sales</th>\n",
       "    </tr>\n",
       "    <tr>\n",
       "      <th>date</th>\n",
       "      <th></th>\n",
       "    </tr>\n",
       "  </thead>\n",
       "  <tbody>\n",
       "    <tr>\n",
       "      <th>2025-07-20</th>\n",
       "      <td>200</td>\n",
       "    </tr>\n",
       "    <tr>\n",
       "      <th>2025-07-21</th>\n",
       "      <td>220</td>\n",
       "    </tr>\n",
       "    <tr>\n",
       "      <th>2025-07-22</th>\n",
       "      <td>180</td>\n",
       "    </tr>\n",
       "    <tr>\n",
       "      <th>2025-07-23</th>\n",
       "      <td>240</td>\n",
       "    </tr>\n",
       "    <tr>\n",
       "      <th>2025-07-24</th>\n",
       "      <td>210</td>\n",
       "    </tr>\n",
       "    <tr>\n",
       "      <th>2025-07-25</th>\n",
       "      <td>250</td>\n",
       "    </tr>\n",
       "  </tbody>\n",
       "</table>\n",
       "</div>"
      ],
      "text/plain": [
       "            sales\n",
       "date             \n",
       "2025-07-20    200\n",
       "2025-07-21    220\n",
       "2025-07-22    180\n",
       "2025-07-23    240\n",
       "2025-07-24    210\n",
       "2025-07-25    250"
      ]
     },
     "execution_count": 6,
     "metadata": {},
     "output_type": "execute_result"
    }
   ],
   "source": [
    "# Set datetime as index\n",
    "df.set_index('date', inplace=True)\n",
    "df"
   ]
  },
  {
   "cell_type": "code",
   "execution_count": 7,
   "id": "6b491b8b",
   "metadata": {},
   "outputs": [
    {
     "data": {
      "text/html": [
       "<div>\n",
       "<style scoped>\n",
       "    .dataframe tbody tr th:only-of-type {\n",
       "        vertical-align: middle;\n",
       "    }\n",
       "\n",
       "    .dataframe tbody tr th {\n",
       "        vertical-align: top;\n",
       "    }\n",
       "\n",
       "    .dataframe thead th {\n",
       "        text-align: right;\n",
       "    }\n",
       "</style>\n",
       "<table border=\"1\" class=\"dataframe\">\n",
       "  <thead>\n",
       "    <tr style=\"text-align: right;\">\n",
       "      <th></th>\n",
       "      <th>sales</th>\n",
       "      <th>rolling_avg</th>\n",
       "    </tr>\n",
       "    <tr>\n",
       "      <th>date</th>\n",
       "      <th></th>\n",
       "      <th></th>\n",
       "    </tr>\n",
       "  </thead>\n",
       "  <tbody>\n",
       "    <tr>\n",
       "      <th>2025-07-20</th>\n",
       "      <td>200</td>\n",
       "      <td>NaN</td>\n",
       "    </tr>\n",
       "    <tr>\n",
       "      <th>2025-07-21</th>\n",
       "      <td>220</td>\n",
       "      <td>NaN</td>\n",
       "    </tr>\n",
       "    <tr>\n",
       "      <th>2025-07-22</th>\n",
       "      <td>180</td>\n",
       "      <td>200.000000</td>\n",
       "    </tr>\n",
       "    <tr>\n",
       "      <th>2025-07-23</th>\n",
       "      <td>240</td>\n",
       "      <td>213.333333</td>\n",
       "    </tr>\n",
       "    <tr>\n",
       "      <th>2025-07-24</th>\n",
       "      <td>210</td>\n",
       "      <td>210.000000</td>\n",
       "    </tr>\n",
       "    <tr>\n",
       "      <th>2025-07-25</th>\n",
       "      <td>250</td>\n",
       "      <td>233.333333</td>\n",
       "    </tr>\n",
       "  </tbody>\n",
       "</table>\n",
       "</div>"
      ],
      "text/plain": [
       "            sales  rolling_avg\n",
       "date                          \n",
       "2025-07-20    200          NaN\n",
       "2025-07-21    220          NaN\n",
       "2025-07-22    180   200.000000\n",
       "2025-07-23    240   213.333333\n",
       "2025-07-24    210   210.000000\n",
       "2025-07-25    250   233.333333"
      ]
     },
     "execution_count": 7,
     "metadata": {},
     "output_type": "execute_result"
    }
   ],
   "source": [
    "df['rolling_avg'] = df['sales'].rolling(window=3).mean()\n",
    "df"
   ]
  },
  {
   "cell_type": "code",
   "execution_count": 10,
   "id": "1d4d6656",
   "metadata": {},
   "outputs": [
    {
     "data": {
      "text/plain": [
       "sales          180.0\n",
       "rolling_avg    200.0\n",
       "Name: 2025-07-22 00:00:00, dtype: float64"
      ]
     },
     "execution_count": 10,
     "metadata": {},
     "output_type": "execute_result"
    }
   ],
   "source": [
    "df.loc['2025-7-22']"
   ]
  },
  {
   "cell_type": "code",
   "execution_count": 11,
   "id": "c1e5b6ba",
   "metadata": {},
   "outputs": [
    {
     "data": {
      "text/html": [
       "<div>\n",
       "<style scoped>\n",
       "    .dataframe tbody tr th:only-of-type {\n",
       "        vertical-align: middle;\n",
       "    }\n",
       "\n",
       "    .dataframe tbody tr th {\n",
       "        vertical-align: top;\n",
       "    }\n",
       "\n",
       "    .dataframe thead th {\n",
       "        text-align: right;\n",
       "    }\n",
       "</style>\n",
       "<table border=\"1\" class=\"dataframe\">\n",
       "  <thead>\n",
       "    <tr style=\"text-align: right;\">\n",
       "      <th></th>\n",
       "      <th>sales</th>\n",
       "      <th>rolling_avg</th>\n",
       "    </tr>\n",
       "    <tr>\n",
       "      <th>date</th>\n",
       "      <th></th>\n",
       "      <th></th>\n",
       "    </tr>\n",
       "  </thead>\n",
       "  <tbody>\n",
       "    <tr>\n",
       "      <th>2025-07-21</th>\n",
       "      <td>220</td>\n",
       "      <td>NaN</td>\n",
       "    </tr>\n",
       "    <tr>\n",
       "      <th>2025-07-22</th>\n",
       "      <td>180</td>\n",
       "      <td>200.000000</td>\n",
       "    </tr>\n",
       "    <tr>\n",
       "      <th>2025-07-23</th>\n",
       "      <td>240</td>\n",
       "      <td>213.333333</td>\n",
       "    </tr>\n",
       "    <tr>\n",
       "      <th>2025-07-24</th>\n",
       "      <td>210</td>\n",
       "      <td>210.000000</td>\n",
       "    </tr>\n",
       "  </tbody>\n",
       "</table>\n",
       "</div>"
      ],
      "text/plain": [
       "            sales  rolling_avg\n",
       "date                          \n",
       "2025-07-21    220          NaN\n",
       "2025-07-22    180   200.000000\n",
       "2025-07-23    240   213.333333\n",
       "2025-07-24    210   210.000000"
      ]
     },
     "execution_count": 11,
     "metadata": {},
     "output_type": "execute_result"
    }
   ],
   "source": [
    "df.loc['2025-07-21':'2025-07-24']"
   ]
  },
  {
   "cell_type": "markdown",
   "id": "d56c2bbd",
   "metadata": {},
   "source": [
    "### 5. **Common Pitfalls and Best Practices**\n",
    "\n",
    "| ❌ Pitfall                                      | ✅ Best Practice                                                 |\n",
    "| ---------------------------------------------- | --------------------------------------------------------------- |\n",
    "| Forgetting to convert column to datetime       | Always use `pd.to_datetime()` before setting index              |\n",
    "| Using regular index instead of `DatetimeIndex` | Many time-based features require a `DatetimeIndex`              |\n",
    "| Misinterpreting date formats                   | Use `dayfirst=True` if needed; avoid ambiguity                  |\n",
    "| Trying to resample without a datetime index    | Always convert to `DatetimeIndex` first                         |\n",
    "| Using datetime strings instead of timestamps   | Convert to actual datetime objects for performance and features |\n"
   ]
  },
  {
   "cell_type": "markdown",
   "id": "880b3486",
   "metadata": {},
   "source": [
    "### 6. **Real World Use Cases**\n",
    "\n",
    "#### 📈 Financial Markets\n",
    "\n",
    "* Stock price time series indexed by trading days\n",
    "* High-frequency data like minute-wise trades\n",
    "\n",
    "#### 🛒 Retail and E-commerce\n",
    "\n",
    "* Analyzing daily or hourly sales\n",
    "* Filtering peak holiday sales weeks using datetime slicing\n",
    "\n",
    "#### 🌡️ IoT & Sensor Data\n",
    "\n",
    "* Tracking sensor readings with millisecond timestamps\n",
    "* Aggregating and resampling for analysis\n",
    "\n",
    "#### 🧠 Machine Learning\n",
    "\n",
    "* Feature engineering: creating lag/lead, rolling windows, and time-based splits\n",
    "* Predictive modeling using daily/weekly trends\n",
    "\n",
    "#### 🧾 Business Analytics\n",
    "\n",
    "* Monthly or quarterly revenue summaries\n",
    "* Weekday vs. weekend performance analysis"
   ]
  },
  {
   "cell_type": "markdown",
   "id": "4012b1d0",
   "metadata": {},
   "source": [
    "<center><b>Thanks</b></center>"
   ]
  }
 ],
 "metadata": {
  "kernelspec": {
   "display_name": "venv",
   "language": "python",
   "name": "python3"
  },
  "language_info": {
   "codemirror_mode": {
    "name": "ipython",
    "version": 3
   },
   "file_extension": ".py",
   "mimetype": "text/x-python",
   "name": "python",
   "nbconvert_exporter": "python",
   "pygments_lexer": "ipython3",
   "version": "3.10.2"
  }
 },
 "nbformat": 4,
 "nbformat_minor": 5
}
