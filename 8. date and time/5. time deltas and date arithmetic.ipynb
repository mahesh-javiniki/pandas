{
 "cells": [
  {
   "cell_type": "markdown",
   "id": "67379d09",
   "metadata": {},
   "source": [
    "# **8. Working with Date and Time**"
   ]
  },
  {
   "cell_type": "markdown",
   "id": "cd8abc9a",
   "metadata": {},
   "source": [
    "## 🧮 **5. Time Deltas and Date Arithmetic**"
   ]
  },
  {
   "cell_type": "code",
   "execution_count": 8,
   "id": "aa407a6b",
   "metadata": {},
   "outputs": [],
   "source": [
    "import pandas as pd \n",
    "import numpy as np"
   ]
  },
  {
   "cell_type": "markdown",
   "id": "90dcaa61",
   "metadata": {},
   "source": [
    "### 1. **What it does and When to Use It**\n",
    "\n",
    "**Time Deltas** represent differences or durations between two dates or times.\n",
    "\n",
    "📌 Use cases include:\n",
    "\n",
    "* Calculating age or tenure\n",
    "* Measuring time intervals between events\n",
    "* Adding/subtracting durations to/from datetime values\n",
    "\n",
    "This is crucial in **time series analysis**, **activity monitoring**, **forecasting**, **duration-based billing**, etc.\n"
   ]
  },
  {
   "cell_type": "markdown",
   "id": "fd130373",
   "metadata": {},
   "source": [
    "### 2. **Syntax and Core Parameters**\n",
    "\n",
    "#### ➤ Core Classes:\n",
    "\n",
    "* `pd.Timedelta()` — Represents a duration\n",
    "* `df['date2'] - df['date1']` — Gives a Timedelta Series\n",
    "* `pd.to_timedelta()` — Converts strings/numbers to Timedeltas\n",
    "\n",
    "#### ➤ Parameters (for `pd.Timedelta()` / `pd.to_timedelta()`):\n",
    "\n",
    "* `unit=`: Unit of the argument (e.g., `'D'`, `'h'`, `'m'`, `'s'`)\n",
    "* `errors=`: Handle parsing errors (`'coerce'`, `'raise'`, `'ignore'`)\n"
   ]
  },
  {
   "cell_type": "markdown",
   "id": "9dfd2432",
   "metadata": {},
   "source": [
    "### 3. **Different Methods and Techniques**\n",
    "\n",
    "#### ✅ Basic TimeDelta Creation\n",
    "\n",
    "```python\n",
    "pd.Timedelta(days=5, hours=3)\n",
    "pd.Timedelta('2 days 6 hours')\n",
    "```\n",
    "\n",
    "#### ✅ Subtracting Dates\n",
    "\n",
    "```python\n",
    "df['duration'] = df['end_date'] - df['start_date']\n",
    "```\n",
    "\n",
    "#### ✅ Adding/Subtracting Time\n",
    "\n",
    "```python\n",
    "df['future_date'] = df['start_date'] + pd.Timedelta(days=7)\n",
    "```\n",
    "\n",
    "#### ✅ Using `to_timedelta()`\n",
    "\n",
    "```python\n",
    "pd.to_timedelta(['1 days', '2 days 3 hours'])\n",
    "```\n",
    "\n",
    "#### ✅ Extract Components from Timedelta\n",
    "\n",
    "```python\n",
    "df['duration'].dt.days\n",
    "df['duration'].dt.total_seconds()\n",
    "```\n"
   ]
  },
  {
   "cell_type": "markdown",
   "id": "ddad41fd",
   "metadata": {},
   "source": [
    "### 4. **Examples on Real/Pseudo Data**"
   ]
  },
  {
   "cell_type": "code",
   "execution_count": 9,
   "id": "fc293b6e",
   "metadata": {},
   "outputs": [
    {
     "data": {
      "text/html": [
       "<div>\n",
       "<style scoped>\n",
       "    .dataframe tbody tr th:only-of-type {\n",
       "        vertical-align: middle;\n",
       "    }\n",
       "\n",
       "    .dataframe tbody tr th {\n",
       "        vertical-align: top;\n",
       "    }\n",
       "\n",
       "    .dataframe thead th {\n",
       "        text-align: right;\n",
       "    }\n",
       "</style>\n",
       "<table border=\"1\" class=\"dataframe\">\n",
       "  <thead>\n",
       "    <tr style=\"text-align: right;\">\n",
       "      <th></th>\n",
       "      <th>user</th>\n",
       "      <th>login_time</th>\n",
       "      <th>logout_time</th>\n",
       "    </tr>\n",
       "  </thead>\n",
       "  <tbody>\n",
       "    <tr>\n",
       "      <th>0</th>\n",
       "      <td>Alice</td>\n",
       "      <td>2025-07-01 08:00:00</td>\n",
       "      <td>2025-07-01 10:30:00</td>\n",
       "    </tr>\n",
       "    <tr>\n",
       "      <th>1</th>\n",
       "      <td>Bob</td>\n",
       "      <td>2025-07-01 09:15:00</td>\n",
       "      <td>2025-07-01 10:00:00</td>\n",
       "    </tr>\n",
       "    <tr>\n",
       "      <th>2</th>\n",
       "      <td>Charlie</td>\n",
       "      <td>2025-07-01 07:50:00</td>\n",
       "      <td>2025-07-01 09:00:00</td>\n",
       "    </tr>\n",
       "  </tbody>\n",
       "</table>\n",
       "</div>"
      ],
      "text/plain": [
       "      user           login_time          logout_time\n",
       "0    Alice  2025-07-01 08:00:00  2025-07-01 10:30:00\n",
       "1      Bob  2025-07-01 09:15:00  2025-07-01 10:00:00\n",
       "2  Charlie  2025-07-01 07:50:00  2025-07-01 09:00:00"
      ]
     },
     "execution_count": 9,
     "metadata": {},
     "output_type": "execute_result"
    }
   ],
   "source": [
    "data = {\n",
    "    'user': ['Alice', 'Bob', 'Charlie'],\n",
    "    'login_time': ['2025-07-01 08:00:00', '2025-07-01 09:15:00', '2025-07-01 07:50:00'],\n",
    "    'logout_time': ['2025-07-01 10:30:00', '2025-07-01 10:00:00', '2025-07-01 09:00:00']\n",
    "}\n",
    "df = pd.DataFrame(data)\n",
    "\n",
    "df"
   ]
  },
  {
   "cell_type": "code",
   "execution_count": 10,
   "id": "f6c5bc5a",
   "metadata": {},
   "outputs": [
    {
     "data": {
      "text/plain": [
       "user           object\n",
       "login_time     object\n",
       "logout_time    object\n",
       "dtype: object"
      ]
     },
     "execution_count": 10,
     "metadata": {},
     "output_type": "execute_result"
    }
   ],
   "source": [
    "df.dtypes"
   ]
  },
  {
   "cell_type": "code",
   "execution_count": 11,
   "id": "8380eed4",
   "metadata": {},
   "outputs": [
    {
     "data": {
      "text/html": [
       "<div>\n",
       "<style scoped>\n",
       "    .dataframe tbody tr th:only-of-type {\n",
       "        vertical-align: middle;\n",
       "    }\n",
       "\n",
       "    .dataframe tbody tr th {\n",
       "        vertical-align: top;\n",
       "    }\n",
       "\n",
       "    .dataframe thead th {\n",
       "        text-align: right;\n",
       "    }\n",
       "</style>\n",
       "<table border=\"1\" class=\"dataframe\">\n",
       "  <thead>\n",
       "    <tr style=\"text-align: right;\">\n",
       "      <th></th>\n",
       "      <th>user</th>\n",
       "      <th>login_time</th>\n",
       "      <th>logout_time</th>\n",
       "    </tr>\n",
       "  </thead>\n",
       "  <tbody>\n",
       "    <tr>\n",
       "      <th>0</th>\n",
       "      <td>Alice</td>\n",
       "      <td>2025-07-01 08:00:00</td>\n",
       "      <td>2025-07-01 10:30:00</td>\n",
       "    </tr>\n",
       "    <tr>\n",
       "      <th>1</th>\n",
       "      <td>Bob</td>\n",
       "      <td>2025-07-01 09:15:00</td>\n",
       "      <td>2025-07-01 10:00:00</td>\n",
       "    </tr>\n",
       "    <tr>\n",
       "      <th>2</th>\n",
       "      <td>Charlie</td>\n",
       "      <td>2025-07-01 07:50:00</td>\n",
       "      <td>2025-07-01 09:00:00</td>\n",
       "    </tr>\n",
       "  </tbody>\n",
       "</table>\n",
       "</div>"
      ],
      "text/plain": [
       "      user          login_time         logout_time\n",
       "0    Alice 2025-07-01 08:00:00 2025-07-01 10:30:00\n",
       "1      Bob 2025-07-01 09:15:00 2025-07-01 10:00:00\n",
       "2  Charlie 2025-07-01 07:50:00 2025-07-01 09:00:00"
      ]
     },
     "execution_count": 11,
     "metadata": {},
     "output_type": "execute_result"
    }
   ],
   "source": [
    "# Convert to datetime\n",
    "\n",
    "df['login_time'] = pd.to_datetime(df['login_time'])\n",
    "df['logout_time'] = pd.to_datetime(df['logout_time'])\n",
    "\n",
    "df"
   ]
  },
  {
   "cell_type": "code",
   "execution_count": 12,
   "id": "50f0e551",
   "metadata": {},
   "outputs": [
    {
     "data": {
      "text/plain": [
       "user                   object\n",
       "login_time     datetime64[ns]\n",
       "logout_time    datetime64[ns]\n",
       "dtype: object"
      ]
     },
     "execution_count": 12,
     "metadata": {},
     "output_type": "execute_result"
    }
   ],
   "source": [
    "df.dtypes"
   ]
  },
  {
   "cell_type": "code",
   "execution_count": 14,
   "id": "86e7c96b",
   "metadata": {},
   "outputs": [
    {
     "data": {
      "text/html": [
       "<div>\n",
       "<style scoped>\n",
       "    .dataframe tbody tr th:only-of-type {\n",
       "        vertical-align: middle;\n",
       "    }\n",
       "\n",
       "    .dataframe tbody tr th {\n",
       "        vertical-align: top;\n",
       "    }\n",
       "\n",
       "    .dataframe thead th {\n",
       "        text-align: right;\n",
       "    }\n",
       "</style>\n",
       "<table border=\"1\" class=\"dataframe\">\n",
       "  <thead>\n",
       "    <tr style=\"text-align: right;\">\n",
       "      <th></th>\n",
       "      <th>user</th>\n",
       "      <th>login_time</th>\n",
       "      <th>logout_time</th>\n",
       "      <th>session_duration</th>\n",
       "    </tr>\n",
       "  </thead>\n",
       "  <tbody>\n",
       "    <tr>\n",
       "      <th>0</th>\n",
       "      <td>Alice</td>\n",
       "      <td>2025-07-01 08:00:00</td>\n",
       "      <td>2025-07-01 10:30:00</td>\n",
       "      <td>0 days 02:30:00</td>\n",
       "    </tr>\n",
       "    <tr>\n",
       "      <th>1</th>\n",
       "      <td>Bob</td>\n",
       "      <td>2025-07-01 09:15:00</td>\n",
       "      <td>2025-07-01 10:00:00</td>\n",
       "      <td>0 days 00:45:00</td>\n",
       "    </tr>\n",
       "    <tr>\n",
       "      <th>2</th>\n",
       "      <td>Charlie</td>\n",
       "      <td>2025-07-01 07:50:00</td>\n",
       "      <td>2025-07-01 09:00:00</td>\n",
       "      <td>0 days 01:10:00</td>\n",
       "    </tr>\n",
       "  </tbody>\n",
       "</table>\n",
       "</div>"
      ],
      "text/plain": [
       "      user          login_time         logout_time session_duration\n",
       "0    Alice 2025-07-01 08:00:00 2025-07-01 10:30:00  0 days 02:30:00\n",
       "1      Bob 2025-07-01 09:15:00 2025-07-01 10:00:00  0 days 00:45:00\n",
       "2  Charlie 2025-07-01 07:50:00 2025-07-01 09:00:00  0 days 01:10:00"
      ]
     },
     "execution_count": 14,
     "metadata": {},
     "output_type": "execute_result"
    }
   ],
   "source": [
    "# Compute session duration\n",
    "df['session_duration'] = df['logout_time'] - df['login_time']\n",
    "df"
   ]
  },
  {
   "cell_type": "code",
   "execution_count": 15,
   "id": "9842f494",
   "metadata": {},
   "outputs": [
    {
     "data": {
      "text/plain": [
       "user                         object\n",
       "login_time           datetime64[ns]\n",
       "logout_time          datetime64[ns]\n",
       "session_duration    timedelta64[ns]\n",
       "dtype: object"
      ]
     },
     "execution_count": 15,
     "metadata": {},
     "output_type": "execute_result"
    }
   ],
   "source": [
    "df.dtypes"
   ]
  },
  {
   "cell_type": "code",
   "execution_count": 18,
   "id": "630b2df9",
   "metadata": {},
   "outputs": [
    {
     "data": {
      "text/plain": [
       "0    150.0\n",
       "1     45.0\n",
       "2     70.0\n",
       "Name: session_duration, dtype: float64"
      ]
     },
     "execution_count": 18,
     "metadata": {},
     "output_type": "execute_result"
    }
   ],
   "source": [
    "# Extract duration in minutes\n",
    "df['session_duration'].dt.total_seconds() / 60"
   ]
  },
  {
   "cell_type": "code",
   "execution_count": 20,
   "id": "d70afbcb",
   "metadata": {},
   "outputs": [
    {
     "data": {
      "text/plain": [
       "Timedelta('2 days 00:00:00')"
      ]
     },
     "execution_count": 20,
     "metadata": {},
     "output_type": "execute_result"
    }
   ],
   "source": [
    "pd.Timedelta('2 days')"
   ]
  },
  {
   "cell_type": "code",
   "execution_count": 21,
   "id": "dd26826e",
   "metadata": {},
   "outputs": [
    {
     "data": {
      "text/plain": [
       "Timedelta('5 days 00:02:00')"
      ]
     },
     "execution_count": 21,
     "metadata": {},
     "output_type": "execute_result"
    }
   ],
   "source": [
    "pd.Timedelta('5 days 2 min')"
   ]
  },
  {
   "cell_type": "code",
   "execution_count": 22,
   "id": "ba2e4d9f",
   "metadata": {},
   "outputs": [
    {
     "data": {
      "text/plain": [
       "Timedelta('2 days 00:00:00')"
      ]
     },
     "execution_count": 22,
     "metadata": {},
     "output_type": "execute_result"
    }
   ],
   "source": [
    "pd.to_timedelta('2 days')"
   ]
  },
  {
   "cell_type": "markdown",
   "id": "c9bf0727",
   "metadata": {},
   "source": [
    "### 5. **Common Pitfalls and Best Practices**\n",
    "\n",
    "| 🔴 Pitfall                                                     | ✅ Best Practice                                    |\n",
    "| -------------------------------------------------------------- | -------------------------------------------------- |\n",
    "| Assuming timedelta will automatically return minutes/hours     | Use `.dt.total_seconds()` to convert               |\n",
    "| Forgetting to convert columns to `datetime` before subtraction | Always use `pd.to_datetime()` first                |\n",
    "| Using string subtraction like `'2025-01-01' - '2024-01-01'`    | This results in an error — use parsed `datetime`   |\n",
    "| Comparing Timedeltas with string durations                     | Always convert strings to `pd.Timedelta()` first   |\n",
    "| Adding strings like `'1 day'` to datetime                      | Use `pd.Timedelta('1 day')` or `pd.to_timedelta()` |\n"
   ]
  },
  {
   "cell_type": "markdown",
   "id": "b7df54e2",
   "metadata": {},
   "source": [
    "### 6. **Real World Use Cases**\n",
    "\n",
    "#### 🏥 Healthcare:\n",
    "\n",
    "* Time between patient check-in and discharge\n",
    "* Length of stay analysis for hospitalization trends\n",
    "\n",
    "#### 📦 E-commerce:\n",
    "\n",
    "* Delivery time = `delivered_date - shipped_date`\n",
    "* Return window calculation = `purchase_date + timedelta(days=30)`\n",
    "\n",
    "#### 🕵️ Security:\n",
    "\n",
    "* Time difference between login and suspicious activity\n",
    "* Session timeout tracking\n",
    "\n",
    "#### 🚗 Transport:\n",
    "\n",
    "* Trip duration: `drop_time - pickup_time`\n",
    "* Calculate delay between expected and actual arrival\n",
    "\n",
    "#### 📅 HR Analytics:\n",
    "\n",
    "* Employee tenure = `today - joining_date`\n",
    "* Days since last appraisal"
   ]
  },
  {
   "cell_type": "markdown",
   "id": "e40969a1",
   "metadata": {},
   "source": [
    "<center><b>Thanks</b></center>"
   ]
  }
 ],
 "metadata": {
  "kernelspec": {
   "display_name": "venv",
   "language": "python",
   "name": "python3"
  },
  "language_info": {
   "codemirror_mode": {
    "name": "ipython",
    "version": 3
   },
   "file_extension": ".py",
   "mimetype": "text/x-python",
   "name": "python",
   "nbconvert_exporter": "python",
   "pygments_lexer": "ipython3",
   "version": "3.10.2"
  }
 },
 "nbformat": 4,
 "nbformat_minor": 5
}
