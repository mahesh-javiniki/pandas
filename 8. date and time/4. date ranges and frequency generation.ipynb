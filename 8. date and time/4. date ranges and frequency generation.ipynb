{
 "cells": [
  {
   "cell_type": "markdown",
   "id": "8c8255c7",
   "metadata": {},
   "source": [
    "# **8. Working with Date and Time**"
   ]
  },
  {
   "cell_type": "markdown",
   "id": "f5bad843",
   "metadata": {},
   "source": [
    "## **📅 **4. Date Ranges and Frequency Generation****"
   ]
  },
  {
   "cell_type": "code",
   "execution_count": 13,
   "id": "eb972f3f",
   "metadata": {},
   "outputs": [],
   "source": [
    "import pandas as pd \n",
    "import numpy as np"
   ]
  },
  {
   "cell_type": "markdown",
   "id": "1a68bef9",
   "metadata": {},
   "source": [
    "### ✅ 1. **What it does and when to use it**\n",
    "\n",
    "#### 👉 What it does:\n",
    "\n",
    "This refers to generating **sequences of dates or time values** at regular intervals using functions like `pd.date_range()`, `pd.timedelta_range()`, and `pd.period_range()`.\n",
    "\n",
    "These functions create datetime-like objects which can be used:\n",
    "\n",
    "* To build time-based indexes for time series data.\n",
    "* To **fill gaps**, simulate **scheduled events**, or **generate test datasets**.\n",
    "* As input to `.isin()` filtering or to align/merge with existing data.\n",
    "\n",
    "---\n",
    "\n",
    "### 🕰️ When to use:\n",
    "\n",
    "* Creating **time series scaffolds** for daily, hourly, monthly data.\n",
    "* **Resampling** data to a higher or lower frequency.\n",
    "* Creating synthetic or empty datetime indexes.\n",
    "* Filling or generating data for forecasting or simulations.\n"
   ]
  },
  {
   "cell_type": "markdown",
   "id": "778dc9ce",
   "metadata": {},
   "source": [
    "\n",
    "### 🧾 2. Syntax and Core Parameters\n",
    "\n",
    "\n",
    "### ✅ `pd.date_range()`\n",
    "\n",
    "```python\n",
    "pd.date_range(start=None, end=None, periods=None, freq='D')\n",
    "```\n",
    "\n",
    "| Parameter | Description                                    |\n",
    "| --------- | ---------------------------------------------- |\n",
    "| `start`   | Start date of the range                        |\n",
    "| `end`     | End date of the range                          |\n",
    "| `periods` | Number of periods to generate                  |\n",
    "| `freq`    | Frequency of dates (`'D'`, `'H'`, `'M'`, etc.) |\n",
    "| `tz`      | Set time zone (optional)                       |\n",
    "| `name`    | Optional name for the index                    |\n",
    "\n",
    "---\n",
    "\n",
    "### ✅ `pd.timedelta_range()`\n",
    "\n",
    "```python\n",
    "pd.timedelta_range(start=None, end=None, periods=None, freq='D')\n",
    "```\n",
    "\n",
    "Used for generating durations rather than specific dates.\n",
    "\n",
    "---\n",
    "\n",
    "### ✅ `pd.period_range()`\n",
    "\n",
    "```python\n",
    "pd.period_range(start=None, end=None, periods=None, freq='M')\n",
    "```\n",
    "\n",
    "Used for **period-based** ranges (months, quarters, years), useful for business and financial reporting.\n"
   ]
  },
  {
   "cell_type": "markdown",
   "id": "4b497b25",
   "metadata": {},
   "source": [
    "### 🧠 3. Different Methods and Techniques\n",
    "\n",
    "| Method                 | Description                                                       | Sample Usage                                     |\n",
    "| ---------------------- | ----------------------------------------------------------------- | ------------------------------------------------ |\n",
    "| `pd.date_range()`      | Generate fixed-frequency date sequences                           | `pd.date_range('2025-01-01', periods=10)`        |\n",
    "| `pd.timedelta_range()` | Generate sequence of time deltas                                  | `pd.timedelta_range(start='1 day', periods=5)`   |\n",
    "| `pd.period_range()`    | Generate period-based sequences (month, quarter, etc.)            | `pd.period_range('2025Q1', periods=4, freq='Q')` |\n",
    "| `freq` aliasing        | Use time frequency aliases like `'D'`, `'W'`, `'M'`, `'H'`, `'Q'` | `'15T'` → 15-minute interval                     |\n"
   ]
  },
  {
   "cell_type": "markdown",
   "id": "cd6f1e93",
   "metadata": {},
   "source": [
    "### 🧪 4. Examples on Real/Pseudo Data"
   ]
  },
  {
   "cell_type": "markdown",
   "id": "9b1c7b95",
   "metadata": {},
   "source": [
    "#### ✅ Example 1: Daily date range"
   ]
  },
  {
   "cell_type": "code",
   "execution_count": 14,
   "id": "b6338251",
   "metadata": {},
   "outputs": [
    {
     "data": {
      "text/plain": [
       "DatetimeIndex(['2025-07-01', '2025-07-02', '2025-07-03', '2025-07-04',\n",
       "               '2025-07-05'],\n",
       "              dtype='datetime64[ns]', freq='D')"
      ]
     },
     "execution_count": 14,
     "metadata": {},
     "output_type": "execute_result"
    }
   ],
   "source": [
    "pd.date_range(start='2025-07-01', periods=5, freq=\"D\")"
   ]
  },
  {
   "cell_type": "markdown",
   "id": "7d333b29",
   "metadata": {},
   "source": [
    "#### ✅ Example 2: Monthly range between two dates"
   ]
  },
  {
   "cell_type": "code",
   "execution_count": 15,
   "id": "5d1a2bef",
   "metadata": {},
   "outputs": [
    {
     "name": "stderr",
     "output_type": "stream",
     "text": [
      "C:\\Users\\mahes\\AppData\\Local\\Temp\\ipykernel_45296\\3817489839.py:1: FutureWarning: 'M' is deprecated and will be removed in a future version, please use 'ME' instead.\n",
      "  pd.date_range(start='2024-01-01', end='2024-07-10', freq='M')\n"
     ]
    },
    {
     "data": {
      "text/plain": [
       "DatetimeIndex(['2024-01-31', '2024-02-29', '2024-03-31', '2024-04-30',\n",
       "               '2024-05-31', '2024-06-30'],\n",
       "              dtype='datetime64[ns]', freq='ME')"
      ]
     },
     "execution_count": 15,
     "metadata": {},
     "output_type": "execute_result"
    }
   ],
   "source": [
    "pd.date_range(start='2024-01-01', end='2024-07-10', freq='M')"
   ]
  },
  {
   "cell_type": "code",
   "execution_count": 16,
   "id": "dee3642c",
   "metadata": {},
   "outputs": [
    {
     "data": {
      "text/plain": [
       "DatetimeIndex(['2024-01-31', '2024-02-29', '2024-03-31', '2024-04-30',\n",
       "               '2024-05-31', '2024-06-30'],\n",
       "              dtype='datetime64[ns]', freq='ME')"
      ]
     },
     "execution_count": 16,
     "metadata": {},
     "output_type": "execute_result"
    }
   ],
   "source": [
    "pd.date_range(start='2024-01-01', end='2024-07-10', freq='ME')"
   ]
  },
  {
   "cell_type": "markdown",
   "id": "2554d14e",
   "metadata": {},
   "source": [
    "#### ✅ Example 3: Hourly timestamps"
   ]
  },
  {
   "cell_type": "code",
   "execution_count": 17,
   "id": "35b076a5",
   "metadata": {},
   "outputs": [
    {
     "name": "stderr",
     "output_type": "stream",
     "text": [
      "C:\\Users\\mahes\\AppData\\Local\\Temp\\ipykernel_45296\\1035646692.py:1: FutureWarning: 'H' is deprecated and will be removed in a future version, please use 'h' instead.\n",
      "  pd.date_range('2024-07-01 08:00', periods=5, freq='H')\n"
     ]
    },
    {
     "data": {
      "text/plain": [
       "DatetimeIndex(['2024-07-01 08:00:00', '2024-07-01 09:00:00',\n",
       "               '2024-07-01 10:00:00', '2024-07-01 11:00:00',\n",
       "               '2024-07-01 12:00:00'],\n",
       "              dtype='datetime64[ns]', freq='h')"
      ]
     },
     "execution_count": 17,
     "metadata": {},
     "output_type": "execute_result"
    }
   ],
   "source": [
    "pd.date_range('2024-07-01 08:00', periods=5, freq='H')"
   ]
  },
  {
   "cell_type": "code",
   "execution_count": 18,
   "id": "4be5911b",
   "metadata": {},
   "outputs": [
    {
     "data": {
      "text/plain": [
       "DatetimeIndex(['2024-07-01 08:00:00', '2024-07-01 09:00:00',\n",
       "               '2024-07-01 10:00:00', '2024-07-01 11:00:00',\n",
       "               '2024-07-01 12:00:00'],\n",
       "              dtype='datetime64[ns]', freq='h')"
      ]
     },
     "execution_count": 18,
     "metadata": {},
     "output_type": "execute_result"
    }
   ],
   "source": [
    "pd.date_range('2024-07-01 08:00', periods=5, freq='h')"
   ]
  },
  {
   "cell_type": "markdown",
   "id": "fbb95b5e",
   "metadata": {},
   "source": [
    "#### ✅ Example 4: Business days only (`'B'`)"
   ]
  },
  {
   "cell_type": "code",
   "execution_count": 19,
   "id": "dce1388f",
   "metadata": {},
   "outputs": [
    {
     "data": {
      "text/plain": [
       "DatetimeIndex(['2025-07-01', '2025-07-02', '2025-07-03', '2025-07-04',\n",
       "               '2025-07-07', '2025-07-08', '2025-07-09', '2025-07-10',\n",
       "               '2025-07-11', '2025-07-14', '2025-07-15', '2025-07-16',\n",
       "               '2025-07-17', '2025-07-18', '2025-07-21'],\n",
       "              dtype='datetime64[ns]', freq='B')"
      ]
     },
     "execution_count": 19,
     "metadata": {},
     "output_type": "execute_result"
    }
   ],
   "source": [
    "pd.date_range(start='2025-07-01', periods=15, freq='B')"
   ]
  },
  {
   "cell_type": "markdown",
   "id": "efff205c",
   "metadata": {},
   "source": [
    "📤 Skips weekends."
   ]
  },
  {
   "cell_type": "markdown",
   "id": "21ca5853",
   "metadata": {},
   "source": [
    "#### ✅ Example 5: Quarterly period range"
   ]
  },
  {
   "cell_type": "code",
   "execution_count": 20,
   "id": "5a8990d2",
   "metadata": {},
   "outputs": [
    {
     "data": {
      "text/plain": [
       "PeriodIndex(['2025Q1', '2025Q2', '2025Q3', '2025Q4', '2026Q1'], dtype='period[Q-DEC]')"
      ]
     },
     "execution_count": 20,
     "metadata": {},
     "output_type": "execute_result"
    }
   ],
   "source": [
    "pd.period_range(start='2025Q1', periods=5, freq='Q')"
   ]
  },
  {
   "cell_type": "markdown",
   "id": "01b99d61",
   "metadata": {},
   "source": [
    "#### ✅ Example 6: Timedelta generation"
   ]
  },
  {
   "cell_type": "code",
   "execution_count": 22,
   "id": "82fd6f0f",
   "metadata": {},
   "outputs": [
    {
     "data": {
      "text/plain": [
       "TimedeltaIndex(['1 days 00:00:00', '1 days 02:00:00', '1 days 04:00:00',\n",
       "                '1 days 06:00:00', '1 days 08:00:00'],\n",
       "               dtype='timedelta64[ns]', freq='2h')"
      ]
     },
     "execution_count": 22,
     "metadata": {},
     "output_type": "execute_result"
    }
   ],
   "source": [
    "pd.timedelta_range(start='1 day', periods=5, freq='2h')"
   ]
  },
  {
   "cell_type": "markdown",
   "id": "28a2dbde",
   "metadata": {},
   "source": [
    "### ⚠️ 5. Common Pitfalls and Best Practices\n",
    "\n",
    "| Pitfall                                    | What Happens                                            | Best Practice                                                                                                            |\n",
    "| ------------------------------------------ | ------------------------------------------------------- | ------------------------------------------------------------------------------------------------------------------------ |\n",
    "| Missing required args                      | Error if `start`/`end`/`periods` not correctly provided | Must provide at least two: `start`, `end`, or `periods`                                                                  |\n",
    "| Invalid frequency code                     | Raises `ValueError`                                     | Always refer to [pandas frequency aliases](https://pandas.pydata.org/docs/user_guide/timeseries.html#dateoffset-objects) |\n",
    "| Using `'M'` vs `'MS'`                      | `'M'` gives end of month; `'MS'` gives start            | Choose based on what granularity you need                                                                                |\n",
    "| Time zone mismatch                         | Comparisons can fail                                    | Use `tz=` to explicitly set timezone                                                                                     |\n",
    "| `period_range` not suitable for timestamps | Periods are abstract (not specific times)               | Use `date_range` if you need exact timestamps                                                                            |\n"
   ]
  },
  {
   "cell_type": "markdown",
   "id": "5e18a3a3",
   "metadata": {},
   "source": [
    "### 🌍 6. Real World Use Cases\n",
    "\n",
    "| Use Case                       | Description                                                     |\n",
    "| ------------------------------ | --------------------------------------------------------------- |\n",
    "| **Sales forecasting**          | Create a monthly date index to project sales                    |\n",
    "| **Time series padding**        | Fill missing days using `pd.date_range()`                       |\n",
    "| **Sensor readings simulation** | Simulate hourly or 10-minute intervals                          |\n",
    "| **Loan payment schedules**     | Generate monthly billing dates for a year                       |\n",
    "| **Business calendar**          | Use `'B'` to only include weekdays for reporting                |\n",
    "| **Energy consumption**         | Generate intervals every 15 min (`'15T'`) to match smart meters |\n"
   ]
  },
  {
   "cell_type": "markdown",
   "id": "778c4345",
   "metadata": {},
   "source": [
    "## ✅ Summary: Date Ranges and Frequency Generation\n",
    "\n",
    "| Concept                | Summary                                                                  |\n",
    "| ---------------------- | ------------------------------------------------------------------------ |\n",
    "| `pd.date_range()`      | Create sequences of datetime objects at fixed intervals                  |\n",
    "| `pd.period_range()`    | Generate period values for reporting (e.g., quarterly)                   |\n",
    "| `pd.timedelta_range()` | Generate sequences of durations                                          |\n",
    "| `freq` parameter       | Key to controlling intervals (`'D'`, `'H'`, `'M'`, `'B'`, `'15T'`, etc.) |\n",
    "| Useful for             | Time series scaffolds, resampling, simulations, filling gaps             |\n"
   ]
  },
  {
   "cell_type": "markdown",
   "id": "41ef5140",
   "metadata": {},
   "source": [
    "<center><b>Thanks</b></center>"
   ]
  }
 ],
 "metadata": {
  "kernelspec": {
   "display_name": "venv",
   "language": "python",
   "name": "python3"
  },
  "language_info": {
   "codemirror_mode": {
    "name": "ipython",
    "version": 3
   },
   "file_extension": ".py",
   "mimetype": "text/x-python",
   "name": "python",
   "nbconvert_exporter": "python",
   "pygments_lexer": "ipython3",
   "version": "3.10.2"
  }
 },
 "nbformat": 4,
 "nbformat_minor": 5
}
