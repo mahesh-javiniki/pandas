{
 "cells": [
  {
   "cell_type": "markdown",
   "id": "c72cb874",
   "metadata": {},
   "source": [
    "# **8. Working with Date and Time**"
   ]
  },
  {
   "cell_type": "markdown",
   "id": "f7165e3a",
   "metadata": {},
   "source": [
    "## **3. Filtering and Indexing by Dates**"
   ]
  },
  {
   "cell_type": "code",
   "execution_count": 12,
   "id": "6b15ea18",
   "metadata": {},
   "outputs": [],
   "source": [
    "import pandas as pd \n",
    "import numpy as np"
   ]
  },
  {
   "cell_type": "markdown",
   "id": "2fc96956",
   "metadata": {},
   "source": [
    "### ✅ 1. **What it does and when to use it**\n",
    "\n",
    "#### 👉 What it does:\n",
    "\n",
    "Filtering and indexing by dates allows you to **select rows based on specific time periods**, such as a particular date, month, year, or date range. It also includes using **datetime indexes** to slice datasets more efficiently.\n",
    "\n",
    "#### 📌 When to use:\n",
    "\n",
    "* When analyzing **time-bounded subsets** of data (e.g., all records from July 2024).\n",
    "* When preparing **monthly, quarterly, or yearly reports**.\n",
    "* When working with **time-series forecasting**, which often requires cutting timeframes.\n",
    "* When your datetime column is **set as index**, it enables **date slicing** similar to numerical slicing."
   ]
  },
  {
   "cell_type": "markdown",
   "id": "0c566485",
   "metadata": {},
   "source": [
    "### 🧾 2. Syntax and Core Parameters\n",
    "\n",
    "There are **two primary modes**:\n",
    "\n",
    "#### ✅ 1. **Boolean Filtering (with datetime column)**\n",
    "\n",
    "```python\n",
    "df[(df['date'] >= '2024-01-01') & (df['date'] <= '2024-03-31')]\n",
    "```\n",
    "\n",
    "#### ✅ 2. **Datetime Index Filtering** (using `.loc[]`)\n",
    "\n",
    "```python\n",
    "df.loc['2024-01-01']                   # specific date\n",
    "df.loc['2024-01']                      # whole month\n",
    "df.loc['2024']                         # whole year\n",
    "df.loc['2024-01-01':'2024-03-31']      # range\n",
    "```\n",
    "\n",
    "> ✅ Make sure `df.index` is a `DatetimeIndex` for `.loc[]` slicing to work like this.\n"
   ]
  },
  {
   "cell_type": "markdown",
   "id": "8caec5f9",
   "metadata": {},
   "source": [
    "### 🧠 3. Different Methods and Techniques\n",
    "\n",
    "| Technique                        | Description                                                  |\n",
    "| -------------------------------- | ------------------------------------------------------------ |\n",
    "| Boolean masks                    | Filter using comparisons on a datetime column                |\n",
    "| Range filtering                  | Use `&` and comparison operators on datetime                 |\n",
    "| `pd.date_range()`                | Create a list of dates and check if a column is in that list |\n",
    "| `.between()`                     | Filter using chained comparisons                             |\n",
    "| `.isin()` with `pd.date_range()` | Filter for multiple specific dates                           |\n",
    "| `.loc[]` with `DatetimeIndex`    | Fast and readable slicing by date/time strings               |\n"
   ]
  },
  {
   "cell_type": "markdown",
   "id": "8958777d",
   "metadata": {},
   "source": [
    "### 🧪 4. Examples on Real/Pseudo Data"
   ]
  },
  {
   "cell_type": "code",
   "execution_count": 13,
   "id": "f8061150",
   "metadata": {},
   "outputs": [
    {
     "data": {
      "text/html": [
       "<div>\n",
       "<style scoped>\n",
       "    .dataframe tbody tr th:only-of-type {\n",
       "        vertical-align: middle;\n",
       "    }\n",
       "\n",
       "    .dataframe tbody tr th {\n",
       "        vertical-align: top;\n",
       "    }\n",
       "\n",
       "    .dataframe thead th {\n",
       "        text-align: right;\n",
       "    }\n",
       "</style>\n",
       "<table border=\"1\" class=\"dataframe\">\n",
       "  <thead>\n",
       "    <tr style=\"text-align: right;\">\n",
       "      <th></th>\n",
       "      <th>date</th>\n",
       "      <th>sales</th>\n",
       "    </tr>\n",
       "  </thead>\n",
       "  <tbody>\n",
       "    <tr>\n",
       "      <th>0</th>\n",
       "      <td>2024-01-01</td>\n",
       "      <td>100</td>\n",
       "    </tr>\n",
       "    <tr>\n",
       "      <th>1</th>\n",
       "      <td>2024-01-02</td>\n",
       "      <td>200</td>\n",
       "    </tr>\n",
       "    <tr>\n",
       "      <th>2</th>\n",
       "      <td>2024-01-03</td>\n",
       "      <td>150</td>\n",
       "    </tr>\n",
       "    <tr>\n",
       "      <th>3</th>\n",
       "      <td>2024-01-04</td>\n",
       "      <td>120</td>\n",
       "    </tr>\n",
       "    <tr>\n",
       "      <th>4</th>\n",
       "      <td>2024-01-05</td>\n",
       "      <td>180</td>\n",
       "    </tr>\n",
       "    <tr>\n",
       "      <th>5</th>\n",
       "      <td>2024-01-06</td>\n",
       "      <td>250</td>\n",
       "    </tr>\n",
       "    <tr>\n",
       "      <th>6</th>\n",
       "      <td>2024-01-07</td>\n",
       "      <td>90</td>\n",
       "    </tr>\n",
       "    <tr>\n",
       "      <th>7</th>\n",
       "      <td>2024-01-08</td>\n",
       "      <td>300</td>\n",
       "    </tr>\n",
       "    <tr>\n",
       "      <th>8</th>\n",
       "      <td>2024-01-09</td>\n",
       "      <td>160</td>\n",
       "    </tr>\n",
       "    <tr>\n",
       "      <th>9</th>\n",
       "      <td>2024-01-10</td>\n",
       "      <td>220</td>\n",
       "    </tr>\n",
       "  </tbody>\n",
       "</table>\n",
       "</div>"
      ],
      "text/plain": [
       "        date  sales\n",
       "0 2024-01-01    100\n",
       "1 2024-01-02    200\n",
       "2 2024-01-03    150\n",
       "3 2024-01-04    120\n",
       "4 2024-01-05    180\n",
       "5 2024-01-06    250\n",
       "6 2024-01-07     90\n",
       "7 2024-01-08    300\n",
       "8 2024-01-09    160\n",
       "9 2024-01-10    220"
      ]
     },
     "execution_count": 13,
     "metadata": {},
     "output_type": "execute_result"
    }
   ],
   "source": [
    "df = pd.DataFrame({\n",
    "    'date': pd.date_range('2024-01-01', periods=10, freq='D'),\n",
    "    'sales': [100, 200, 150, 120, 180, 250, 90, 300, 160, 220]\n",
    "})\n",
    "\n",
    "df"
   ]
  },
  {
   "cell_type": "markdown",
   "id": "2645c1bc",
   "metadata": {},
   "source": [
    "#### ✅ Example 1: Boolean filtering with `&`"
   ]
  },
  {
   "cell_type": "code",
   "execution_count": 14,
   "id": "8351fe3b",
   "metadata": {},
   "outputs": [
    {
     "data": {
      "text/html": [
       "<div>\n",
       "<style scoped>\n",
       "    .dataframe tbody tr th:only-of-type {\n",
       "        vertical-align: middle;\n",
       "    }\n",
       "\n",
       "    .dataframe tbody tr th {\n",
       "        vertical-align: top;\n",
       "    }\n",
       "\n",
       "    .dataframe thead th {\n",
       "        text-align: right;\n",
       "    }\n",
       "</style>\n",
       "<table border=\"1\" class=\"dataframe\">\n",
       "  <thead>\n",
       "    <tr style=\"text-align: right;\">\n",
       "      <th></th>\n",
       "      <th>date</th>\n",
       "      <th>sales</th>\n",
       "    </tr>\n",
       "  </thead>\n",
       "  <tbody>\n",
       "    <tr>\n",
       "      <th>3</th>\n",
       "      <td>2024-01-04</td>\n",
       "      <td>120</td>\n",
       "    </tr>\n",
       "    <tr>\n",
       "      <th>4</th>\n",
       "      <td>2024-01-05</td>\n",
       "      <td>180</td>\n",
       "    </tr>\n",
       "    <tr>\n",
       "      <th>5</th>\n",
       "      <td>2024-01-06</td>\n",
       "      <td>250</td>\n",
       "    </tr>\n",
       "  </tbody>\n",
       "</table>\n",
       "</div>"
      ],
      "text/plain": [
       "        date  sales\n",
       "3 2024-01-04    120\n",
       "4 2024-01-05    180\n",
       "5 2024-01-06    250"
      ]
     },
     "execution_count": 14,
     "metadata": {},
     "output_type": "execute_result"
    }
   ],
   "source": [
    "mask = (df['date'] > '2024-01-03') & (df['date'] <= '2024-01-06')\n",
    "df[mask]"
   ]
  },
  {
   "cell_type": "markdown",
   "id": "41cd6ae5",
   "metadata": {},
   "source": [
    "#### ✅ Example 2: Filtering using `.between()`"
   ]
  },
  {
   "cell_type": "code",
   "execution_count": 15,
   "id": "20e438e5",
   "metadata": {},
   "outputs": [
    {
     "data": {
      "text/plain": [
       "0    False\n",
       "1    False\n",
       "2    False\n",
       "3     True\n",
       "4     True\n",
       "5     True\n",
       "6     True\n",
       "7     True\n",
       "8    False\n",
       "9    False\n",
       "Name: date, dtype: bool"
      ]
     },
     "execution_count": 15,
     "metadata": {},
     "output_type": "execute_result"
    }
   ],
   "source": [
    "df['date'].between('2024-01-04', '2024-01-08')"
   ]
  },
  {
   "cell_type": "code",
   "execution_count": 16,
   "id": "fef1eb1b",
   "metadata": {},
   "outputs": [
    {
     "data": {
      "text/html": [
       "<div>\n",
       "<style scoped>\n",
       "    .dataframe tbody tr th:only-of-type {\n",
       "        vertical-align: middle;\n",
       "    }\n",
       "\n",
       "    .dataframe tbody tr th {\n",
       "        vertical-align: top;\n",
       "    }\n",
       "\n",
       "    .dataframe thead th {\n",
       "        text-align: right;\n",
       "    }\n",
       "</style>\n",
       "<table border=\"1\" class=\"dataframe\">\n",
       "  <thead>\n",
       "    <tr style=\"text-align: right;\">\n",
       "      <th></th>\n",
       "      <th>date</th>\n",
       "      <th>sales</th>\n",
       "    </tr>\n",
       "  </thead>\n",
       "  <tbody>\n",
       "    <tr>\n",
       "      <th>3</th>\n",
       "      <td>2024-01-04</td>\n",
       "      <td>120</td>\n",
       "    </tr>\n",
       "    <tr>\n",
       "      <th>4</th>\n",
       "      <td>2024-01-05</td>\n",
       "      <td>180</td>\n",
       "    </tr>\n",
       "    <tr>\n",
       "      <th>5</th>\n",
       "      <td>2024-01-06</td>\n",
       "      <td>250</td>\n",
       "    </tr>\n",
       "    <tr>\n",
       "      <th>6</th>\n",
       "      <td>2024-01-07</td>\n",
       "      <td>90</td>\n",
       "    </tr>\n",
       "    <tr>\n",
       "      <th>7</th>\n",
       "      <td>2024-01-08</td>\n",
       "      <td>300</td>\n",
       "    </tr>\n",
       "  </tbody>\n",
       "</table>\n",
       "</div>"
      ],
      "text/plain": [
       "        date  sales\n",
       "3 2024-01-04    120\n",
       "4 2024-01-05    180\n",
       "5 2024-01-06    250\n",
       "6 2024-01-07     90\n",
       "7 2024-01-08    300"
      ]
     },
     "execution_count": 16,
     "metadata": {},
     "output_type": "execute_result"
    }
   ],
   "source": [
    "df[df['date'].between('2024-01-04', '2024-01-08')]"
   ]
  },
  {
   "cell_type": "markdown",
   "id": "b33f1159",
   "metadata": {},
   "source": [
    "#### ✅ Example 3: Filtering with `pd.date_range()` and `.isin()`"
   ]
  },
  {
   "cell_type": "code",
   "execution_count": 17,
   "id": "3acdb472",
   "metadata": {},
   "outputs": [
    {
     "data": {
      "text/plain": [
       "DatetimeIndex(['2024-01-02', '2024-01-03', '2024-01-04'], dtype='datetime64[ns]', freq='D')"
      ]
     },
     "execution_count": 17,
     "metadata": {},
     "output_type": "execute_result"
    }
   ],
   "source": [
    "date_list = pd.date_range('2024-01-02', '2024-01-04')\n",
    "date_list"
   ]
  },
  {
   "cell_type": "code",
   "execution_count": 18,
   "id": "ed8e5562",
   "metadata": {},
   "outputs": [
    {
     "data": {
      "text/html": [
       "<div>\n",
       "<style scoped>\n",
       "    .dataframe tbody tr th:only-of-type {\n",
       "        vertical-align: middle;\n",
       "    }\n",
       "\n",
       "    .dataframe tbody tr th {\n",
       "        vertical-align: top;\n",
       "    }\n",
       "\n",
       "    .dataframe thead th {\n",
       "        text-align: right;\n",
       "    }\n",
       "</style>\n",
       "<table border=\"1\" class=\"dataframe\">\n",
       "  <thead>\n",
       "    <tr style=\"text-align: right;\">\n",
       "      <th></th>\n",
       "      <th>date</th>\n",
       "      <th>sales</th>\n",
       "    </tr>\n",
       "  </thead>\n",
       "  <tbody>\n",
       "    <tr>\n",
       "      <th>1</th>\n",
       "      <td>2024-01-02</td>\n",
       "      <td>200</td>\n",
       "    </tr>\n",
       "    <tr>\n",
       "      <th>2</th>\n",
       "      <td>2024-01-03</td>\n",
       "      <td>150</td>\n",
       "    </tr>\n",
       "    <tr>\n",
       "      <th>3</th>\n",
       "      <td>2024-01-04</td>\n",
       "      <td>120</td>\n",
       "    </tr>\n",
       "  </tbody>\n",
       "</table>\n",
       "</div>"
      ],
      "text/plain": [
       "        date  sales\n",
       "1 2024-01-02    200\n",
       "2 2024-01-03    150\n",
       "3 2024-01-04    120"
      ]
     },
     "execution_count": 18,
     "metadata": {},
     "output_type": "execute_result"
    }
   ],
   "source": [
    "df[df['date'].isin(date_list)]"
   ]
  },
  {
   "cell_type": "markdown",
   "id": "c0c40cb8",
   "metadata": {},
   "source": [
    "#### ✅ Example 4: Set `date` as index and use `.loc[]`"
   ]
  },
  {
   "cell_type": "code",
   "execution_count": 19,
   "id": "10068dd0",
   "metadata": {},
   "outputs": [
    {
     "data": {
      "text/html": [
       "<div>\n",
       "<style scoped>\n",
       "    .dataframe tbody tr th:only-of-type {\n",
       "        vertical-align: middle;\n",
       "    }\n",
       "\n",
       "    .dataframe tbody tr th {\n",
       "        vertical-align: top;\n",
       "    }\n",
       "\n",
       "    .dataframe thead th {\n",
       "        text-align: right;\n",
       "    }\n",
       "</style>\n",
       "<table border=\"1\" class=\"dataframe\">\n",
       "  <thead>\n",
       "    <tr style=\"text-align: right;\">\n",
       "      <th></th>\n",
       "      <th>sales</th>\n",
       "    </tr>\n",
       "    <tr>\n",
       "      <th>date</th>\n",
       "      <th></th>\n",
       "    </tr>\n",
       "  </thead>\n",
       "  <tbody>\n",
       "    <tr>\n",
       "      <th>2024-01-01</th>\n",
       "      <td>100</td>\n",
       "    </tr>\n",
       "    <tr>\n",
       "      <th>2024-01-02</th>\n",
       "      <td>200</td>\n",
       "    </tr>\n",
       "    <tr>\n",
       "      <th>2024-01-03</th>\n",
       "      <td>150</td>\n",
       "    </tr>\n",
       "    <tr>\n",
       "      <th>2024-01-04</th>\n",
       "      <td>120</td>\n",
       "    </tr>\n",
       "    <tr>\n",
       "      <th>2024-01-05</th>\n",
       "      <td>180</td>\n",
       "    </tr>\n",
       "    <tr>\n",
       "      <th>2024-01-06</th>\n",
       "      <td>250</td>\n",
       "    </tr>\n",
       "    <tr>\n",
       "      <th>2024-01-07</th>\n",
       "      <td>90</td>\n",
       "    </tr>\n",
       "    <tr>\n",
       "      <th>2024-01-08</th>\n",
       "      <td>300</td>\n",
       "    </tr>\n",
       "    <tr>\n",
       "      <th>2024-01-09</th>\n",
       "      <td>160</td>\n",
       "    </tr>\n",
       "    <tr>\n",
       "      <th>2024-01-10</th>\n",
       "      <td>220</td>\n",
       "    </tr>\n",
       "  </tbody>\n",
       "</table>\n",
       "</div>"
      ],
      "text/plain": [
       "            sales\n",
       "date             \n",
       "2024-01-01    100\n",
       "2024-01-02    200\n",
       "2024-01-03    150\n",
       "2024-01-04    120\n",
       "2024-01-05    180\n",
       "2024-01-06    250\n",
       "2024-01-07     90\n",
       "2024-01-08    300\n",
       "2024-01-09    160\n",
       "2024-01-10    220"
      ]
     },
     "execution_count": 19,
     "metadata": {},
     "output_type": "execute_result"
    }
   ],
   "source": [
    "df.set_index('date', inplace=True)\n",
    "\n",
    "df"
   ]
  },
  {
   "cell_type": "code",
   "execution_count": null,
   "id": "8843f863",
   "metadata": {},
   "outputs": [
    {
     "data": {
      "text/plain": [
       "sales    180\n",
       "Name: 2024-01-05 00:00:00, dtype: int64"
      ]
     },
     "execution_count": 20,
     "metadata": {},
     "output_type": "execute_result"
    }
   ],
   "source": [
    "df.loc['2024-01-05'] # Specific date"
   ]
  },
  {
   "cell_type": "code",
   "execution_count": 22,
   "id": "1371439e",
   "metadata": {},
   "outputs": [
    {
     "data": {
      "text/html": [
       "<div>\n",
       "<style scoped>\n",
       "    .dataframe tbody tr th:only-of-type {\n",
       "        vertical-align: middle;\n",
       "    }\n",
       "\n",
       "    .dataframe tbody tr th {\n",
       "        vertical-align: top;\n",
       "    }\n",
       "\n",
       "    .dataframe thead th {\n",
       "        text-align: right;\n",
       "    }\n",
       "</style>\n",
       "<table border=\"1\" class=\"dataframe\">\n",
       "  <thead>\n",
       "    <tr style=\"text-align: right;\">\n",
       "      <th></th>\n",
       "      <th>sales</th>\n",
       "    </tr>\n",
       "    <tr>\n",
       "      <th>date</th>\n",
       "      <th></th>\n",
       "    </tr>\n",
       "  </thead>\n",
       "  <tbody>\n",
       "    <tr>\n",
       "      <th>2024-01-01</th>\n",
       "      <td>100</td>\n",
       "    </tr>\n",
       "    <tr>\n",
       "      <th>2024-01-02</th>\n",
       "      <td>200</td>\n",
       "    </tr>\n",
       "    <tr>\n",
       "      <th>2024-01-03</th>\n",
       "      <td>150</td>\n",
       "    </tr>\n",
       "    <tr>\n",
       "      <th>2024-01-04</th>\n",
       "      <td>120</td>\n",
       "    </tr>\n",
       "    <tr>\n",
       "      <th>2024-01-05</th>\n",
       "      <td>180</td>\n",
       "    </tr>\n",
       "    <tr>\n",
       "      <th>2024-01-06</th>\n",
       "      <td>250</td>\n",
       "    </tr>\n",
       "    <tr>\n",
       "      <th>2024-01-07</th>\n",
       "      <td>90</td>\n",
       "    </tr>\n",
       "    <tr>\n",
       "      <th>2024-01-08</th>\n",
       "      <td>300</td>\n",
       "    </tr>\n",
       "    <tr>\n",
       "      <th>2024-01-09</th>\n",
       "      <td>160</td>\n",
       "    </tr>\n",
       "    <tr>\n",
       "      <th>2024-01-10</th>\n",
       "      <td>220</td>\n",
       "    </tr>\n",
       "  </tbody>\n",
       "</table>\n",
       "</div>"
      ],
      "text/plain": [
       "            sales\n",
       "date             \n",
       "2024-01-01    100\n",
       "2024-01-02    200\n",
       "2024-01-03    150\n",
       "2024-01-04    120\n",
       "2024-01-05    180\n",
       "2024-01-06    250\n",
       "2024-01-07     90\n",
       "2024-01-08    300\n",
       "2024-01-09    160\n",
       "2024-01-10    220"
      ]
     },
     "execution_count": 22,
     "metadata": {},
     "output_type": "execute_result"
    }
   ],
   "source": [
    "df.loc['2024-01'] # Slice by month"
   ]
  },
  {
   "cell_type": "code",
   "execution_count": 23,
   "id": "4a043d9a",
   "metadata": {},
   "outputs": [
    {
     "data": {
      "text/html": [
       "<div>\n",
       "<style scoped>\n",
       "    .dataframe tbody tr th:only-of-type {\n",
       "        vertical-align: middle;\n",
       "    }\n",
       "\n",
       "    .dataframe tbody tr th {\n",
       "        vertical-align: top;\n",
       "    }\n",
       "\n",
       "    .dataframe thead th {\n",
       "        text-align: right;\n",
       "    }\n",
       "</style>\n",
       "<table border=\"1\" class=\"dataframe\">\n",
       "  <thead>\n",
       "    <tr style=\"text-align: right;\">\n",
       "      <th></th>\n",
       "      <th>sales</th>\n",
       "    </tr>\n",
       "    <tr>\n",
       "      <th>date</th>\n",
       "      <th></th>\n",
       "    </tr>\n",
       "  </thead>\n",
       "  <tbody>\n",
       "    <tr>\n",
       "      <th>2024-01-03</th>\n",
       "      <td>150</td>\n",
       "    </tr>\n",
       "    <tr>\n",
       "      <th>2024-01-04</th>\n",
       "      <td>120</td>\n",
       "    </tr>\n",
       "    <tr>\n",
       "      <th>2024-01-05</th>\n",
       "      <td>180</td>\n",
       "    </tr>\n",
       "    <tr>\n",
       "      <th>2024-01-06</th>\n",
       "      <td>250</td>\n",
       "    </tr>\n",
       "  </tbody>\n",
       "</table>\n",
       "</div>"
      ],
      "text/plain": [
       "            sales\n",
       "date             \n",
       "2024-01-03    150\n",
       "2024-01-04    120\n",
       "2024-01-05    180\n",
       "2024-01-06    250"
      ]
     },
     "execution_count": 23,
     "metadata": {},
     "output_type": "execute_result"
    }
   ],
   "source": [
    "# Date range\n",
    "\n",
    "df.loc['2024-01-03': '2024-01-06']"
   ]
  },
  {
   "cell_type": "markdown",
   "id": "77dba33d",
   "metadata": {},
   "source": [
    "### ⚠️ 5. Common Pitfalls and Best Practices\n",
    "\n",
    "| Pitfall                   | What Happens                                          | Best Practice                                          |\n",
    "| ------------------------- | ----------------------------------------------------- | ------------------------------------------------------ |\n",
    "| Index is not datetime     | `.loc['2024']` fails or returns wrong results         | Always convert with `pd.to_datetime()` and set index   |\n",
    "| Mixing formats            | `'01/05/2024'` vs `'2024-01-05'` inconsistencies      | Stick to ISO format (`YYYY-MM-DD`)                     |\n",
    "| Chained filtering         | Using `df['col'] >= date` without parentheses         | Always use `()` with multiple conditions               |\n",
    "| Not using `inplace=False` | Overwriting your index without knowing                | Always check `.set_index(..., inplace=True)` intention |\n",
    "| Time not stripped         | Comparing '2024-01-01' to datetime with time may fail | Use `.normalize()` or just date part when needed       |\n"
   ]
  },
  {
   "cell_type": "markdown",
   "id": "03a8eedd",
   "metadata": {},
   "source": [
    "### 🌍 6. Real World Use Cases\n",
    "\n",
    "| Use Case                  | Description                                                |\n",
    "| ------------------------- | ---------------------------------------------------------- |\n",
    "| **Retail sales analysis** | Filter sales by month or holiday seasons to analyze demand |\n",
    "| **Website traffic**       | Analyze logs from specific days or peak weeks              |\n",
    "| **Stock market data**     | Slice stock prices between two dates for trend analysis    |\n",
    "| **Healthcare**            | Filter patient visits in a given date range or flu season  |\n",
    "| **Manufacturing**         | Monitor output or errors over specific time windows        |\n",
    "| **IoT Devices**           | Extract activity over a particular week or shift           |\n"
   ]
  },
  {
   "cell_type": "markdown",
   "id": "b0df5144",
   "metadata": {},
   "source": [
    "## ✅ Summary: Filtering and Indexing by Dates\n",
    "\n",
    "| Concept          | Summary                                                       |\n",
    "| ---------------- | ------------------------------------------------------------- |\n",
    "| Boolean filters  | Work on date columns directly using comparison                |\n",
    "| `.loc[]` slicing | Works when datetime is index (clean & powerful)               |\n",
    "| Useful methods   | `.between()`, `.isin()`, `pd.date_range()`                    |\n",
    "| Must do before   | Ensure `pd.to_datetime()` + set index for `.loc[]`            |\n",
    "| Key for          | Time-bound analysis, reporting, forecasting, and segmentation |\n"
   ]
  },
  {
   "cell_type": "markdown",
   "id": "bf35f584",
   "metadata": {},
   "source": [
    "<center><b>Thanks</b></center>"
   ]
  }
 ],
 "metadata": {
  "kernelspec": {
   "display_name": "venv",
   "language": "python",
   "name": "python3"
  },
  "language_info": {
   "codemirror_mode": {
    "name": "ipython",
    "version": 3
   },
   "file_extension": ".py",
   "mimetype": "text/x-python",
   "name": "python",
   "nbconvert_exporter": "python",
   "pygments_lexer": "ipython3",
   "version": "3.10.2"
  }
 },
 "nbformat": 4,
 "nbformat_minor": 5
}
