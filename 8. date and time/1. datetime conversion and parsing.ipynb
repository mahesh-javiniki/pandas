{
 "cells": [
  {
   "cell_type": "markdown",
   "id": "fd5fce22",
   "metadata": {},
   "source": [
    "# **8. Working with Date and Time**"
   ]
  },
  {
   "cell_type": "markdown",
   "id": "1be11d79",
   "metadata": {
    "vscode": {
     "languageId": "plaintext"
    }
   },
   "source": [
    "## **1. DateTime Conversion and Parsing**"
   ]
  },
  {
   "cell_type": "code",
   "execution_count": 2,
   "id": "7788cfc9",
   "metadata": {},
   "outputs": [],
   "source": [
    "import pandas as pd \n",
    "import numpy as np"
   ]
  },
  {
   "cell_type": "markdown",
   "id": "9c7201da",
   "metadata": {},
   "source": [
    "### ✅ 1. **What** it does and **when** to use it\n",
    "\n",
    "#### 👉 What it does:\n",
    "\n",
    "DateTime Conversion and Parsing is the process of converting string/object data into **datetime objects** so that pandas can understand and operate on them **chronologically**.\n",
    "\n",
    "#### 📌 Why it matters:\n",
    "\n",
    "* Enables **time-based filtering**, resampling, rolling averages, and time arithmetic.\n",
    "* Essential for **time series analysis**, trend evaluation, and indexing by dates.\n",
    "* Many raw datasets (CSV, logs, APIs) store dates as strings, which are not natively usable for analysis unless parsed.\n",
    "\n",
    "#### 🕰️ When to use it:\n",
    "\n",
    "* When reading data from CSVs or JSON with date columns stored as strings.\n",
    "* When you need to filter, resample, or do arithmetic on dates.\n",
    "* Before setting a `DatetimeIndex` or performing `.resample()`, `.rolling()`, or `.shift()`.\n"
   ]
  },
  {
   "cell_type": "markdown",
   "id": "16854c7e",
   "metadata": {},
   "source": [
    "### 🧾 2. Syntax and Core Parameters\n",
    "\n",
    "#### 🧱 Core Function:\n",
    "\n",
    "```python\n",
    "pd.to_datetime(arg, errors='raise', format=None, dayfirst=False, utc=False)\n",
    "```\n",
    "\n",
    "#### 📌 Key Parameters:\n",
    "\n",
    "| Parameter  | Purpose                                                         |\n",
    "| ---------- | --------------------------------------------------------------- |\n",
    "| `arg`      | The input to convert (series, single value, list, etc.)         |\n",
    "| `errors`   | `{‘raise’, ‘coerce’, ‘ignore’}` → how to handle invalid parsing |\n",
    "| `format`   | A specific datetime format string (`\"%Y-%m-%d\"` etc.)           |\n",
    "| `dayfirst` | If True, interprets dates like 01/05/2024 as **May 1st**        |\n",
    "| `utc`      | If True, converts to UTC timezone                               |\n"
   ]
  },
  {
   "cell_type": "markdown",
   "id": "9f5c1cd2",
   "metadata": {},
   "source": [
    "### 🧠 3. Different Methods and Techniques\n",
    "\n",
    "#### ✅ Method 1: Convert a single column to datetime\n",
    "\n",
    "```python\n",
    "df['date'] = pd.to_datetime(df['date'])\n",
    "```\n",
    "\n",
    "#### ✅ Method 2: Specify format for performance\n",
    "\n",
    "```python\n",
    "df['date'] = pd.to_datetime(df['date'], format='%d-%m-%Y')\n",
    "```\n",
    "\n",
    "#### ✅ Method 3: Handle errors gracefully\n",
    "\n",
    "```python\n",
    "df['date'] = pd.to_datetime(df['date'], errors='coerce')  # invalid dates → NaT\n",
    "```\n",
    "\n",
    "#### ✅ Method 4: Convert a scalar or list of strings\n",
    "\n",
    "```python\n",
    "pd.to_datetime('2023-12-25')\n",
    "pd.to_datetime(['2023/01/01', '2023/01/02'])\n",
    "```\n",
    "\n",
    "#### ✅ Method 5: Parse multiple datetime parts (year, month, day)\n",
    "\n",
    "```python\n",
    "df['date'] = pd.to_datetime(df[['year', 'month', 'day']])\n",
    "```\n"
   ]
  },
  {
   "cell_type": "markdown",
   "id": "3d6a3564",
   "metadata": {},
   "source": [
    "### 🧪 4. Examples on Real/Pseudo Data"
   ]
  },
  {
   "cell_type": "code",
   "execution_count": 3,
   "id": "e95a2ad1",
   "metadata": {},
   "outputs": [
    {
     "data": {
      "text/html": [
       "<div>\n",
       "<style scoped>\n",
       "    .dataframe tbody tr th:only-of-type {\n",
       "        vertical-align: middle;\n",
       "    }\n",
       "\n",
       "    .dataframe tbody tr th {\n",
       "        vertical-align: top;\n",
       "    }\n",
       "\n",
       "    .dataframe thead th {\n",
       "        text-align: right;\n",
       "    }\n",
       "</style>\n",
       "<table border=\"1\" class=\"dataframe\">\n",
       "  <thead>\n",
       "    <tr style=\"text-align: right;\">\n",
       "      <th></th>\n",
       "      <th>order_id</th>\n",
       "      <th>order_date</th>\n",
       "    </tr>\n",
       "  </thead>\n",
       "  <tbody>\n",
       "    <tr>\n",
       "      <th>0</th>\n",
       "      <td>1</td>\n",
       "      <td>2023-08-01</td>\n",
       "    </tr>\n",
       "    <tr>\n",
       "      <th>1</th>\n",
       "      <td>2</td>\n",
       "      <td>2023-08-02</td>\n",
       "    </tr>\n",
       "    <tr>\n",
       "      <th>2</th>\n",
       "      <td>3</td>\n",
       "      <td>not_a_date</td>\n",
       "    </tr>\n",
       "  </tbody>\n",
       "</table>\n",
       "</div>"
      ],
      "text/plain": [
       "   order_id  order_date\n",
       "0         1  2023-08-01\n",
       "1         2  2023-08-02\n",
       "2         3  not_a_date"
      ]
     },
     "execution_count": 3,
     "metadata": {},
     "output_type": "execute_result"
    }
   ],
   "source": [
    "data = {\n",
    "    'order_id': [1, 2, 3],\n",
    "    'order_date': ['2023-08-01', '2023-08-02', 'not_a_date'],\n",
    "}\n",
    "df = pd.DataFrame(data)\n",
    "\n",
    "df"
   ]
  },
  {
   "cell_type": "markdown",
   "id": "aff0ac04",
   "metadata": {},
   "source": [
    "#### ✅ Convert string column to datetime:"
   ]
  },
  {
   "cell_type": "code",
   "execution_count": null,
   "id": "eccc280d",
   "metadata": {},
   "outputs": [
    {
     "data": {
      "text/plain": [
       "0   2023-08-01\n",
       "1   2023-08-02\n",
       "2          NaT\n",
       "Name: order_date, dtype: datetime64[ns]"
      ]
     },
     "execution_count": 4,
     "metadata": {},
     "output_type": "execute_result"
    }
   ],
   "source": [
    "pd.to_datetime(df['order_date'], errors='coerce')"
   ]
  },
  {
   "cell_type": "code",
   "execution_count": null,
   "id": "347ad0bc",
   "metadata": {},
   "outputs": [
    {
     "data": {
      "text/plain": [
       "0    2023-08-01\n",
       "1    2023-08-02\n",
       "2    not_a_date\n",
       "Name: order_date, dtype: object"
      ]
     },
     "execution_count": 11,
     "metadata": {},
     "output_type": "execute_result"
    }
   ],
   "source": [
    "convered_dates = df['order_date'].astype('datetime64[as]', errors='ignore')\n",
    "convered_dates\n",
    "\n",
    "# I think due to this one not_a_date all are coming as object."
   ]
  },
  {
   "cell_type": "markdown",
   "id": "2e3405bb",
   "metadata": {},
   "source": [
    "#### ✅ Using format for custom string:"
   ]
  },
  {
   "cell_type": "code",
   "execution_count": null,
   "id": "0d323b40",
   "metadata": {},
   "outputs": [
    {
     "data": {
      "text/plain": [
       "0   2023-08-01\n",
       "1   2023-08-02\n",
       "2          NaT\n",
       "Name: order_date, dtype: datetime64[ns]"
      ]
     },
     "execution_count": 20,
     "metadata": {},
     "output_type": "execute_result"
    }
   ],
   "source": [
    "pd.to_datetime(df['order_date'], format='%Y-%m-%d', errors='coerce')\n",
    "\n",
    "# The format argument should be provided as \n",
    "# the original date format of the string data you are trying to convert."
   ]
  },
  {
   "cell_type": "code",
   "execution_count": 16,
   "id": "eb97148e",
   "metadata": {},
   "outputs": [
    {
     "data": {
      "text/html": [
       "<div>\n",
       "<style scoped>\n",
       "    .dataframe tbody tr th:only-of-type {\n",
       "        vertical-align: middle;\n",
       "    }\n",
       "\n",
       "    .dataframe tbody tr th {\n",
       "        vertical-align: top;\n",
       "    }\n",
       "\n",
       "    .dataframe thead th {\n",
       "        text-align: right;\n",
       "    }\n",
       "</style>\n",
       "<table border=\"1\" class=\"dataframe\">\n",
       "  <thead>\n",
       "    <tr style=\"text-align: right;\">\n",
       "      <th></th>\n",
       "      <th>event_time</th>\n",
       "    </tr>\n",
       "  </thead>\n",
       "  <tbody>\n",
       "    <tr>\n",
       "      <th>0</th>\n",
       "      <td>01-07-2024</td>\n",
       "    </tr>\n",
       "    <tr>\n",
       "      <th>1</th>\n",
       "      <td>05-12-2024</td>\n",
       "    </tr>\n",
       "  </tbody>\n",
       "</table>\n",
       "</div>"
      ],
      "text/plain": [
       "   event_time\n",
       "0  01-07-2024\n",
       "1  05-12-2024"
      ]
     },
     "execution_count": 16,
     "metadata": {},
     "output_type": "execute_result"
    }
   ],
   "source": [
    "df1 = pd.DataFrame({\n",
    "    'event_time': ['01-07-2024', '05-12-2024']\n",
    "})\n",
    "\n",
    "df1"
   ]
  },
  {
   "cell_type": "code",
   "execution_count": 18,
   "id": "5bac974e",
   "metadata": {},
   "outputs": [
    {
     "data": {
      "text/plain": [
       "0   2024-07-01\n",
       "1   2024-12-05\n",
       "Name: event_time, dtype: datetime64[ns]"
      ]
     },
     "execution_count": 18,
     "metadata": {},
     "output_type": "execute_result"
    }
   ],
   "source": [
    "pd.to_datetime(df1['event_time'], format='%d-%m-%Y')"
   ]
  },
  {
   "cell_type": "markdown",
   "id": "75c427da",
   "metadata": {},
   "source": [
    "#### ✅ Parse from multiple columns:"
   ]
  },
  {
   "cell_type": "code",
   "execution_count": 21,
   "id": "50a74ff5",
   "metadata": {},
   "outputs": [
    {
     "data": {
      "text/html": [
       "<div>\n",
       "<style scoped>\n",
       "    .dataframe tbody tr th:only-of-type {\n",
       "        vertical-align: middle;\n",
       "    }\n",
       "\n",
       "    .dataframe tbody tr th {\n",
       "        vertical-align: top;\n",
       "    }\n",
       "\n",
       "    .dataframe thead th {\n",
       "        text-align: right;\n",
       "    }\n",
       "</style>\n",
       "<table border=\"1\" class=\"dataframe\">\n",
       "  <thead>\n",
       "    <tr style=\"text-align: right;\">\n",
       "      <th></th>\n",
       "      <th>year</th>\n",
       "      <th>month</th>\n",
       "      <th>day</th>\n",
       "    </tr>\n",
       "  </thead>\n",
       "  <tbody>\n",
       "    <tr>\n",
       "      <th>0</th>\n",
       "      <td>2024</td>\n",
       "      <td>7</td>\n",
       "      <td>25</td>\n",
       "    </tr>\n",
       "    <tr>\n",
       "      <th>1</th>\n",
       "      <td>2024</td>\n",
       "      <td>8</td>\n",
       "      <td>10</td>\n",
       "    </tr>\n",
       "  </tbody>\n",
       "</table>\n",
       "</div>"
      ],
      "text/plain": [
       "   year  month  day\n",
       "0  2024      7   25\n",
       "1  2024      8   10"
      ]
     },
     "execution_count": 21,
     "metadata": {},
     "output_type": "execute_result"
    }
   ],
   "source": [
    "df = pd.DataFrame({\n",
    "    'year': [2024, 2024],\n",
    "    'month': [7, 8],\n",
    "    'day': [25, 10]\n",
    "})\n",
    "\n",
    "df"
   ]
  },
  {
   "cell_type": "code",
   "execution_count": 22,
   "id": "f3d60839",
   "metadata": {},
   "outputs": [
    {
     "data": {
      "text/plain": [
       "0   2024-07-25\n",
       "1   2024-08-10\n",
       "dtype: datetime64[ns]"
      ]
     },
     "execution_count": 22,
     "metadata": {},
     "output_type": "execute_result"
    }
   ],
   "source": [
    "pd.to_datetime(df[['year', 'month', 'day']])"
   ]
  },
  {
   "cell_type": "markdown",
   "id": "687239e8",
   "metadata": {},
   "source": [
    "### ⚠️ 5. Common Pitfalls and Best Practices\n",
    "\n",
    "| Pitfall              | Description                                                | How to Avoid                                                          |\n",
    "| -------------------- | ---------------------------------------------------------- | --------------------------------------------------------------------- |\n",
    "| **Wrong format**     | Parsing may fail silently or convert incorrectly.          | Use `format=` if you know the format.                                 |\n",
    "| **Mixed formats**    | If data has inconsistent formats, parsing might error.     | Use `errors='coerce'` to safely skip bad entries.                     |\n",
    "| **Ambiguous dates**  | e.g., `01-02-2023` could be Jan 2 or Feb 1.                | Use `dayfirst=True` or consistent formatting.                         |\n",
    "| **NaT vs NaN**       | Invalid datetime results in `NaT` (Not a Time), not `NaN`. | Use `.isna()` or `.notna()` to detect missing dates.                  |\n",
    "| **Time zone issues** | Datetimes may be unaware (`naive`).                        | Localize with `.tz_localize()` or convert with `.tz_convert()` later. |\n"
   ]
  },
  {
   "cell_type": "markdown",
   "id": "3abbcd95",
   "metadata": {},
   "source": [
    "### 🌍 6. Real World Use Cases\n",
    "\n",
    "| Use Case                      | Description                                                                                        |\n",
    "| ----------------------------- | -------------------------------------------------------------------------------------------------- |\n",
    "| **E-commerce orders**         | Convert string order timestamps into datetime to calculate delivery times or filter recent orders. |\n",
    "| **Financial datasets**        | Convert price history to datetime for time series plots, rolling averages, or volatility checks.   |\n",
    "| **IoT sensor logs**           | Parse log timestamps to track anomalies or usage patterns.                                         |\n",
    "| **Marketing campaigns**       | Convert campaign start/end strings to datetime to measure performance over time.                   |\n",
    "| **Flight or booking systems** | Parse booking and travel times to calculate duration, sort schedules, and more.                    |\n"
   ]
  },
  {
   "cell_type": "markdown",
   "id": "5c7eea65",
   "metadata": {},
   "source": [
    "## ✅ Summary for Section A: DateTime Conversion and Parsing\n",
    "\n",
    "| Concept      | Key Takeaway                                                              |\n",
    "| ------------ | ------------------------------------------------------------------------- |\n",
    "| Conversion   | Use `pd.to_datetime()` to convert strings or separate fields to datetime. |\n",
    "| Access       | Enables time-based filtering, indexing, and arithmetic.                   |\n",
    "| Format       | Explicit format speeds parsing and avoids ambiguity.                      |\n",
    "| Safe Parsing | Use `errors='coerce'` to handle bad data gracefully.                      |\n",
    "| Real Use     | Foundation for time series analytics and temporal modeling.               |\n"
   ]
  },
  {
   "cell_type": "markdown",
   "id": "9756753c",
   "metadata": {},
   "source": [
    "<center><b>Thanks</b></center>"
   ]
  }
 ],
 "metadata": {
  "kernelspec": {
   "display_name": "venv",
   "language": "python",
   "name": "python3"
  },
  "language_info": {
   "codemirror_mode": {
    "name": "ipython",
    "version": 3
   },
   "file_extension": ".py",
   "mimetype": "text/x-python",
   "name": "python",
   "nbconvert_exporter": "python",
   "pygments_lexer": "ipython3",
   "version": "3.10.2"
  }
 },
 "nbformat": 4,
 "nbformat_minor": 5
}
