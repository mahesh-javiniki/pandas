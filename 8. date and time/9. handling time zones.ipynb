{
 "cells": [
  {
   "cell_type": "markdown",
   "id": "571f7813",
   "metadata": {},
   "source": [
    "# **8. Working with Date and Time**"
   ]
  },
  {
   "cell_type": "markdown",
   "id": "1809910c",
   "metadata": {},
   "source": [
    "## **🌍 9. Handling Time Zones**"
   ]
  },
  {
   "cell_type": "code",
   "execution_count": 1,
   "id": "499348ef",
   "metadata": {},
   "outputs": [],
   "source": [
    "import pandas as pd \n",
    "import numpy as np"
   ]
  },
  {
   "cell_type": "markdown",
   "id": "5416bc42",
   "metadata": {},
   "source": [
    "### 1. **What It Does and When to Use It**\n",
    "\n",
    "**Handling Time Zones** in pandas involves localizing datetime values to a specific timezone or converting them between timezones.\n",
    "\n",
    "* By default, `datetime` objects in pandas are **timezone-naive** (they don’t carry any timezone info).\n",
    "* You can **localize** these naive datetime objects to a specific timezone (e.g., UTC).\n",
    "* You can also **convert** from one timezone to another (e.g., UTC to US/Eastern).\n",
    "\n",
    "**When to use**:\n",
    "\n",
    "* Working with global data from multiple regions (e.g., logs, financial records, web activity).\n",
    "* Comparing or aggregating data across timezones.\n",
    "* Ensuring consistency in scheduled reports or analytics."
   ]
  },
  {
   "cell_type": "markdown",
   "id": "99faa418",
   "metadata": {},
   "source": [
    "### 2. **Syntax and Core Parameters**\n",
    "\n",
    "#### ✅ **Localize a Naive Datetime**\n",
    "\n",
    "```python\n",
    "df.index = df.index.tz_localize('UTC')\n",
    "```\n",
    "\n",
    "#### ✅ **Convert to Another Timezone**\n",
    "\n",
    "```python\n",
    "df.index = df.index.tz_convert('Asia/Kolkata')\n",
    "```\n",
    "\n",
    "#### ✅ **Create Timezone-Aware Datetime**\n",
    "\n",
    "```python\n",
    "pd.to_datetime(df['timestamp'], utc=True)\n",
    "```\n",
    "\n",
    "#### 🧩 **Common Timezone Strings:**\n",
    "\n",
    "* `'UTC'`, `'Asia/Kolkata'`, `'US/Eastern'`, `'Europe/London'`, `'Australia/Sydney'`, etc.\n",
    "\n",
    "Use `pytz.all_timezones` or `zoneinfo.available_timezones()` (Python 3.9+) for a full list."
   ]
  },
  {
   "cell_type": "markdown",
   "id": "651c1e80",
   "metadata": {},
   "source": [
    "### 3. **Different Methods and Techniques**\n",
    "\n",
    "| Method                                               | Description                                          |\n",
    "| ---------------------------------------------------- | ---------------------------------------------------- |\n",
    "| `tz_localize()`                                      | Adds timezone info to naive datetime                 |\n",
    "| `tz_convert()`                                       | Converts aware datetime from one timezone to another |\n",
    "| `utc=True` in `pd.to_datetime()`                     | Converts to UTC while parsing                        |\n",
    "| `Series.dt.tz_localize()` / `Series.dt.tz_convert()` | Timezone ops on datetime columns, not index          |\n"
   ]
  },
  {
   "cell_type": "markdown",
   "id": "8a8cef53",
   "metadata": {},
   "source": [
    "### 4. **Examples on Real/Pseudo Data**"
   ]
  },
  {
   "cell_type": "markdown",
   "id": "ab8281f8",
   "metadata": {},
   "source": [
    "#### 🧪 Example: Localize and Convert"
   ]
  },
  {
   "cell_type": "code",
   "execution_count": 2,
   "id": "12856fd0",
   "metadata": {},
   "outputs": [
    {
     "data": {
      "text/html": [
       "<div>\n",
       "<style scoped>\n",
       "    .dataframe tbody tr th:only-of-type {\n",
       "        vertical-align: middle;\n",
       "    }\n",
       "\n",
       "    .dataframe tbody tr th {\n",
       "        vertical-align: top;\n",
       "    }\n",
       "\n",
       "    .dataframe thead th {\n",
       "        text-align: right;\n",
       "    }\n",
       "</style>\n",
       "<table border=\"1\" class=\"dataframe\">\n",
       "  <thead>\n",
       "    <tr style=\"text-align: right;\">\n",
       "      <th></th>\n",
       "      <th>timestamp</th>\n",
       "      <th>value</th>\n",
       "    </tr>\n",
       "  </thead>\n",
       "  <tbody>\n",
       "    <tr>\n",
       "      <th>0</th>\n",
       "      <td>2025-07-20 09:00:00</td>\n",
       "      <td>100</td>\n",
       "    </tr>\n",
       "    <tr>\n",
       "      <th>1</th>\n",
       "      <td>2025-07-21 09:00:00</td>\n",
       "      <td>110</td>\n",
       "    </tr>\n",
       "    <tr>\n",
       "      <th>2</th>\n",
       "      <td>2025-07-22 09:00:00</td>\n",
       "      <td>95</td>\n",
       "    </tr>\n",
       "  </tbody>\n",
       "</table>\n",
       "</div>"
      ],
      "text/plain": [
       "            timestamp  value\n",
       "0 2025-07-20 09:00:00    100\n",
       "1 2025-07-21 09:00:00    110\n",
       "2 2025-07-22 09:00:00     95"
      ]
     },
     "execution_count": 2,
     "metadata": {},
     "output_type": "execute_result"
    }
   ],
   "source": [
    "df = pd.DataFrame({\n",
    "    'timestamp': pd.date_range(start='2025-07-20 09:00', periods=3, freq='D'),\n",
    "    'value': [100, 110, 95]\n",
    "})\n",
    "\n",
    "df"
   ]
  },
  {
   "cell_type": "code",
   "execution_count": 3,
   "id": "9bf8a5df",
   "metadata": {},
   "outputs": [
    {
     "data": {
      "text/html": [
       "<div>\n",
       "<style scoped>\n",
       "    .dataframe tbody tr th:only-of-type {\n",
       "        vertical-align: middle;\n",
       "    }\n",
       "\n",
       "    .dataframe tbody tr th {\n",
       "        vertical-align: top;\n",
       "    }\n",
       "\n",
       "    .dataframe thead th {\n",
       "        text-align: right;\n",
       "    }\n",
       "</style>\n",
       "<table border=\"1\" class=\"dataframe\">\n",
       "  <thead>\n",
       "    <tr style=\"text-align: right;\">\n",
       "      <th></th>\n",
       "      <th>value</th>\n",
       "    </tr>\n",
       "    <tr>\n",
       "      <th>timestamp</th>\n",
       "      <th></th>\n",
       "    </tr>\n",
       "  </thead>\n",
       "  <tbody>\n",
       "    <tr>\n",
       "      <th>2025-07-20 09:00:00</th>\n",
       "      <td>100</td>\n",
       "    </tr>\n",
       "    <tr>\n",
       "      <th>2025-07-21 09:00:00</th>\n",
       "      <td>110</td>\n",
       "    </tr>\n",
       "    <tr>\n",
       "      <th>2025-07-22 09:00:00</th>\n",
       "      <td>95</td>\n",
       "    </tr>\n",
       "  </tbody>\n",
       "</table>\n",
       "</div>"
      ],
      "text/plain": [
       "                     value\n",
       "timestamp                 \n",
       "2025-07-20 09:00:00    100\n",
       "2025-07-21 09:00:00    110\n",
       "2025-07-22 09:00:00     95"
      ]
     },
     "execution_count": 3,
     "metadata": {},
     "output_type": "execute_result"
    }
   ],
   "source": [
    "df.set_index('timestamp', inplace=True)\n",
    "df"
   ]
  },
  {
   "cell_type": "code",
   "execution_count": 12,
   "id": "c5e45360",
   "metadata": {},
   "outputs": [
    {
     "data": {
      "text/html": [
       "<div>\n",
       "<style scoped>\n",
       "    .dataframe tbody tr th:only-of-type {\n",
       "        vertical-align: middle;\n",
       "    }\n",
       "\n",
       "    .dataframe tbody tr th {\n",
       "        vertical-align: top;\n",
       "    }\n",
       "\n",
       "    .dataframe thead th {\n",
       "        text-align: right;\n",
       "    }\n",
       "</style>\n",
       "<table border=\"1\" class=\"dataframe\">\n",
       "  <thead>\n",
       "    <tr style=\"text-align: right;\">\n",
       "      <th></th>\n",
       "      <th>value</th>\n",
       "    </tr>\n",
       "    <tr>\n",
       "      <th>timestamp</th>\n",
       "      <th></th>\n",
       "    </tr>\n",
       "  </thead>\n",
       "  <tbody>\n",
       "    <tr>\n",
       "      <th>2025-07-20 09:00:00+00:00</th>\n",
       "      <td>100</td>\n",
       "    </tr>\n",
       "    <tr>\n",
       "      <th>2025-07-21 09:00:00+00:00</th>\n",
       "      <td>110</td>\n",
       "    </tr>\n",
       "    <tr>\n",
       "      <th>2025-07-22 09:00:00+00:00</th>\n",
       "      <td>95</td>\n",
       "    </tr>\n",
       "  </tbody>\n",
       "</table>\n",
       "</div>"
      ],
      "text/plain": [
       "                           value\n",
       "timestamp                       \n",
       "2025-07-20 09:00:00+00:00    100\n",
       "2025-07-21 09:00:00+00:00    110\n",
       "2025-07-22 09:00:00+00:00     95"
      ]
     },
     "execution_count": 12,
     "metadata": {},
     "output_type": "execute_result"
    }
   ],
   "source": [
    "# Localize to UTC (assume data was collected in UTC)\n",
    "df_utc = df.tz_localize('UTC')\n",
    "df_utc"
   ]
  },
  {
   "cell_type": "code",
   "execution_count": 14,
   "id": "2550255e",
   "metadata": {},
   "outputs": [
    {
     "data": {
      "text/html": [
       "<div>\n",
       "<style scoped>\n",
       "    .dataframe tbody tr th:only-of-type {\n",
       "        vertical-align: middle;\n",
       "    }\n",
       "\n",
       "    .dataframe tbody tr th {\n",
       "        vertical-align: top;\n",
       "    }\n",
       "\n",
       "    .dataframe thead th {\n",
       "        text-align: right;\n",
       "    }\n",
       "</style>\n",
       "<table border=\"1\" class=\"dataframe\">\n",
       "  <thead>\n",
       "    <tr style=\"text-align: right;\">\n",
       "      <th></th>\n",
       "      <th>value</th>\n",
       "    </tr>\n",
       "    <tr>\n",
       "      <th>timestamp</th>\n",
       "      <th></th>\n",
       "    </tr>\n",
       "  </thead>\n",
       "  <tbody>\n",
       "    <tr>\n",
       "      <th>2025-07-20 14:30:00+05:30</th>\n",
       "      <td>100</td>\n",
       "    </tr>\n",
       "    <tr>\n",
       "      <th>2025-07-21 14:30:00+05:30</th>\n",
       "      <td>110</td>\n",
       "    </tr>\n",
       "    <tr>\n",
       "      <th>2025-07-22 14:30:00+05:30</th>\n",
       "      <td>95</td>\n",
       "    </tr>\n",
       "  </tbody>\n",
       "</table>\n",
       "</div>"
      ],
      "text/plain": [
       "                           value\n",
       "timestamp                       \n",
       "2025-07-20 14:30:00+05:30    100\n",
       "2025-07-21 14:30:00+05:30    110\n",
       "2025-07-22 14:30:00+05:30     95"
      ]
     },
     "execution_count": 14,
     "metadata": {},
     "output_type": "execute_result"
    }
   ],
   "source": [
    "df_utc.tz_convert('Asia/Kolkata')"
   ]
  },
  {
   "cell_type": "markdown",
   "id": "790ecd01",
   "metadata": {},
   "source": [
    "#### 🕐 Example: Timezone-aware column"
   ]
  },
  {
   "cell_type": "code",
   "execution_count": 15,
   "id": "d02b3e52",
   "metadata": {},
   "outputs": [
    {
     "data": {
      "text/html": [
       "<div>\n",
       "<style scoped>\n",
       "    .dataframe tbody tr th:only-of-type {\n",
       "        vertical-align: middle;\n",
       "    }\n",
       "\n",
       "    .dataframe tbody tr th {\n",
       "        vertical-align: top;\n",
       "    }\n",
       "\n",
       "    .dataframe thead th {\n",
       "        text-align: right;\n",
       "    }\n",
       "</style>\n",
       "<table border=\"1\" class=\"dataframe\">\n",
       "  <thead>\n",
       "    <tr style=\"text-align: right;\">\n",
       "      <th></th>\n",
       "      <th>value</th>\n",
       "    </tr>\n",
       "    <tr>\n",
       "      <th>timestamp</th>\n",
       "      <th></th>\n",
       "    </tr>\n",
       "  </thead>\n",
       "  <tbody>\n",
       "    <tr>\n",
       "      <th>2025-07-20 09:00:00</th>\n",
       "      <td>100</td>\n",
       "    </tr>\n",
       "    <tr>\n",
       "      <th>2025-07-21 09:00:00</th>\n",
       "      <td>110</td>\n",
       "    </tr>\n",
       "    <tr>\n",
       "      <th>2025-07-22 09:00:00</th>\n",
       "      <td>95</td>\n",
       "    </tr>\n",
       "  </tbody>\n",
       "</table>\n",
       "</div>"
      ],
      "text/plain": [
       "                     value\n",
       "timestamp                 \n",
       "2025-07-20 09:00:00    100\n",
       "2025-07-21 09:00:00    110\n",
       "2025-07-22 09:00:00     95"
      ]
     },
     "execution_count": 15,
     "metadata": {},
     "output_type": "execute_result"
    }
   ],
   "source": [
    "# If timestamp column isn't index\n",
    "df"
   ]
  },
  {
   "cell_type": "code",
   "execution_count": 17,
   "id": "e8278daa",
   "metadata": {},
   "outputs": [
    {
     "data": {
      "text/html": [
       "<div>\n",
       "<style scoped>\n",
       "    .dataframe tbody tr th:only-of-type {\n",
       "        vertical-align: middle;\n",
       "    }\n",
       "\n",
       "    .dataframe tbody tr th {\n",
       "        vertical-align: top;\n",
       "    }\n",
       "\n",
       "    .dataframe thead th {\n",
       "        text-align: right;\n",
       "    }\n",
       "</style>\n",
       "<table border=\"1\" class=\"dataframe\">\n",
       "  <thead>\n",
       "    <tr style=\"text-align: right;\">\n",
       "      <th></th>\n",
       "      <th>timestamp</th>\n",
       "      <th>value</th>\n",
       "    </tr>\n",
       "  </thead>\n",
       "  <tbody>\n",
       "    <tr>\n",
       "      <th>0</th>\n",
       "      <td>2025-07-20 09:00:00</td>\n",
       "      <td>100</td>\n",
       "    </tr>\n",
       "    <tr>\n",
       "      <th>1</th>\n",
       "      <td>2025-07-21 09:00:00</td>\n",
       "      <td>110</td>\n",
       "    </tr>\n",
       "    <tr>\n",
       "      <th>2</th>\n",
       "      <td>2025-07-22 09:00:00</td>\n",
       "      <td>95</td>\n",
       "    </tr>\n",
       "  </tbody>\n",
       "</table>\n",
       "</div>"
      ],
      "text/plain": [
       "            timestamp  value\n",
       "0 2025-07-20 09:00:00    100\n",
       "1 2025-07-21 09:00:00    110\n",
       "2 2025-07-22 09:00:00     95"
      ]
     },
     "execution_count": 17,
     "metadata": {},
     "output_type": "execute_result"
    }
   ],
   "source": [
    "df.reset_index(inplace=True)\n",
    "df"
   ]
  },
  {
   "cell_type": "code",
   "execution_count": 22,
   "id": "78d3cc93",
   "metadata": {},
   "outputs": [
    {
     "data": {
      "text/html": [
       "<div>\n",
       "<style scoped>\n",
       "    .dataframe tbody tr th:only-of-type {\n",
       "        vertical-align: middle;\n",
       "    }\n",
       "\n",
       "    .dataframe tbody tr th {\n",
       "        vertical-align: top;\n",
       "    }\n",
       "\n",
       "    .dataframe thead th {\n",
       "        text-align: right;\n",
       "    }\n",
       "</style>\n",
       "<table border=\"1\" class=\"dataframe\">\n",
       "  <thead>\n",
       "    <tr style=\"text-align: right;\">\n",
       "      <th></th>\n",
       "      <th>timestamp</th>\n",
       "      <th>value</th>\n",
       "    </tr>\n",
       "  </thead>\n",
       "  <tbody>\n",
       "    <tr>\n",
       "      <th>0</th>\n",
       "      <td>2025-07-20 09:00:00+00:00</td>\n",
       "      <td>100</td>\n",
       "    </tr>\n",
       "    <tr>\n",
       "      <th>1</th>\n",
       "      <td>2025-07-21 09:00:00+00:00</td>\n",
       "      <td>110</td>\n",
       "    </tr>\n",
       "    <tr>\n",
       "      <th>2</th>\n",
       "      <td>2025-07-22 09:00:00+00:00</td>\n",
       "      <td>95</td>\n",
       "    </tr>\n",
       "  </tbody>\n",
       "</table>\n",
       "</div>"
      ],
      "text/plain": [
       "                  timestamp  value\n",
       "0 2025-07-20 09:00:00+00:00    100\n",
       "1 2025-07-21 09:00:00+00:00    110\n",
       "2 2025-07-22 09:00:00+00:00     95"
      ]
     },
     "execution_count": 22,
     "metadata": {},
     "output_type": "execute_result"
    }
   ],
   "source": [
    "df['timestamp'] = df['timestamp'].dt.tz_localize('UTC')\n",
    "df"
   ]
  },
  {
   "cell_type": "code",
   "execution_count": 24,
   "id": "e15b5a6e",
   "metadata": {},
   "outputs": [
    {
     "data": {
      "text/html": [
       "<div>\n",
       "<style scoped>\n",
       "    .dataframe tbody tr th:only-of-type {\n",
       "        vertical-align: middle;\n",
       "    }\n",
       "\n",
       "    .dataframe tbody tr th {\n",
       "        vertical-align: top;\n",
       "    }\n",
       "\n",
       "    .dataframe thead th {\n",
       "        text-align: right;\n",
       "    }\n",
       "</style>\n",
       "<table border=\"1\" class=\"dataframe\">\n",
       "  <thead>\n",
       "    <tr style=\"text-align: right;\">\n",
       "      <th></th>\n",
       "      <th>timestamp</th>\n",
       "      <th>value</th>\n",
       "    </tr>\n",
       "  </thead>\n",
       "  <tbody>\n",
       "    <tr>\n",
       "      <th>0</th>\n",
       "      <td>2025-07-20 14:30:00+05:30</td>\n",
       "      <td>100</td>\n",
       "    </tr>\n",
       "    <tr>\n",
       "      <th>1</th>\n",
       "      <td>2025-07-21 14:30:00+05:30</td>\n",
       "      <td>110</td>\n",
       "    </tr>\n",
       "    <tr>\n",
       "      <th>2</th>\n",
       "      <td>2025-07-22 14:30:00+05:30</td>\n",
       "      <td>95</td>\n",
       "    </tr>\n",
       "  </tbody>\n",
       "</table>\n",
       "</div>"
      ],
      "text/plain": [
       "                  timestamp  value\n",
       "0 2025-07-20 14:30:00+05:30    100\n",
       "1 2025-07-21 14:30:00+05:30    110\n",
       "2 2025-07-22 14:30:00+05:30     95"
      ]
     },
     "execution_count": 24,
     "metadata": {},
     "output_type": "execute_result"
    }
   ],
   "source": [
    "df['timestamp'] = df['timestamp'].dt.tz_convert('Asia/Kolkata')\n",
    "df"
   ]
  },
  {
   "cell_type": "markdown",
   "id": "0532828e",
   "metadata": {},
   "source": [
    "### 5. **Common Pitfalls and Best Practices**\n",
    "\n",
    "| ❌ Pitfall                                            | ✅ Best Practice                                            |\n",
    "| ---------------------------------------------------- | ---------------------------------------------------------- |\n",
    "| Localizing a datetime that is already timezone-aware | Use `tz_convert()` on timezone-aware datetimes             |\n",
    "| Forgetting to localize before converting             | Always localize naive datetimes first                      |\n",
    "| Comparing naive and aware datetimes                  | Can lead to errors; ensure both are timezone-aware         |\n",
    "| Ignoring DST (Daylight Saving Time)                  | Choose correct timezone (e.g., `'US/Eastern'` handles DST) |\n",
    "| Hardcoding time offsets like `+05:30`                | Use timezone names instead of fixed offsets                |\n"
   ]
  },
  {
   "cell_type": "markdown",
   "id": "e7c849e2",
   "metadata": {},
   "source": [
    "### 6. **Real World Use Cases**\n",
    "\n",
    "#### 🌍 Global Business Operations\n",
    "\n",
    "* Standardizing timestamps in UTC for audit logs, then converting for local reports.\n",
    "\n",
    "#### 📊 Financial Markets\n",
    "\n",
    "* Aligning international trading data from multiple exchanges (e.g., NYSE, NSE).\n",
    "\n",
    "#### 📈 Web & App Analytics\n",
    "\n",
    "* Tracking user activity by their local time to understand peak engagement.\n",
    "\n",
    "#### 📆 Scheduling & Notifications\n",
    "\n",
    "* Sending reminders or alerts at the right local time for each user.\n",
    "\n",
    "#### 🧪 Sensor or IoT Devices\n",
    "\n",
    "* Devices in different regions sending UTC logs, but needing local aggregation.\n"
   ]
  },
  {
   "cell_type": "markdown",
   "id": "61f6d28d",
   "metadata": {},
   "source": [
    "### ✅ Summary\n",
    "\n",
    "Handling timezones ensures **accurate and consistent datetime representation** in global or time-sensitive datasets. Whether you're **localizing**, **converting**, or **comparing**, timezone-awareness is essential in any serious time series or timestamp-based application.\n"
   ]
  },
  {
   "cell_type": "markdown",
   "id": "b878c0e5",
   "metadata": {},
   "source": [
    "<center><b>Thanks</b></center>"
   ]
  }
 ],
 "metadata": {
  "kernelspec": {
   "display_name": "venv",
   "language": "python",
   "name": "python3"
  },
  "language_info": {
   "codemirror_mode": {
    "name": "ipython",
    "version": 3
   },
   "file_extension": ".py",
   "mimetype": "text/x-python",
   "name": "python",
   "nbconvert_exporter": "python",
   "pygments_lexer": "ipython3",
   "version": "3.10.2"
  }
 },
 "nbformat": 4,
 "nbformat_minor": 5
}
