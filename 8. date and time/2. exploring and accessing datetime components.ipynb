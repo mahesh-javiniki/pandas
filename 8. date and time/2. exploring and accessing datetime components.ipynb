{
 "cells": [
  {
   "cell_type": "markdown",
   "id": "9ee59ba7",
   "metadata": {},
   "source": [
    "# **8. Working with Date and Time**"
   ]
  },
  {
   "cell_type": "markdown",
   "id": "914861ef",
   "metadata": {},
   "source": [
    "## 📆 **2. Exploring and Accessing DateTime Components**"
   ]
  },
  {
   "cell_type": "code",
   "execution_count": 1,
   "id": "9b262cb2",
   "metadata": {},
   "outputs": [],
   "source": [
    "import pandas as pd \n",
    "import numpy as np"
   ]
  },
  {
   "cell_type": "markdown",
   "id": "7d2fada0",
   "metadata": {},
   "source": [
    "### ✅ 1. **What** it does and **when** to use it\n",
    "\n",
    "#### 👉 What it does:\n",
    "\n",
    "Once a column is converted to pandas `datetime64` type (using `pd.to_datetime()`), you can **access specific parts of the date/time**, like year, month, day, hour, weekday, etc., using the **`.dt` accessor**.\n",
    "\n",
    "#### 📌 Why it's useful:\n",
    "\n",
    "* Allows for **feature engineering** — extracting year/month/weekday for grouping or modeling.\n",
    "* Supports **filtering** based on individual components (e.g., all rows from July).\n",
    "* Helps in **time-based analysis**, like seasonality, peak hours, or monthly trends.\n",
    "\n",
    "#### 🕰️ When to use:\n",
    "\n",
    "* After converting strings to datetime format.\n",
    "* Before performing **grouping**, **aggregation**, or **visualizations** on date components.\n",
    "* When building **time-aware machine learning features**.\n"
   ]
  },
  {
   "cell_type": "markdown",
   "id": "0d0d9b56",
   "metadata": {},
   "source": [
    "### 🧾 2. Syntax and Core Parameters\n",
    "\n",
    "#### 🧱 General Syntax:\n",
    "\n",
    "```python\n",
    "df['date'].dt.<component>\n",
    "```\n",
    "\n",
    "#### 💡 No external parameters — it's a **property accessor**, not a function.\n"
   ]
  },
  {
   "cell_type": "markdown",
   "id": "63a73271",
   "metadata": {},
   "source": [
    "### 🧠 3. Different Methods and Techniques\n",
    "\n",
    "Here are commonly used datetime component accessors via `.dt`:\n",
    "\n",
    "| Component     | Accessor                         | Description                          |\n",
    "| ------------- | -------------------------------- | ------------------------------------ |\n",
    "| Year          | `.dt.year`                       | Extracts the year (e.g., 2024)       |\n",
    "| Month         | `.dt.month`                      | Extracts the month as number (1-12)  |\n",
    "| Day           | `.dt.day`                        | Extracts day of the month (1-31)     |\n",
    "| Weekday       | `.dt.weekday` or `.dt.dayofweek` | Returns 0 for Monday to 6 for Sunday |\n",
    "| Day Name      | `.dt.day_name()`                 | Returns full day name                |\n",
    "| Month Name    | `.dt.month_name()`               | Returns full month name              |\n",
    "| Hour          | `.dt.hour`                       | Extracts the hour (0-23)             |\n",
    "| Minute        | `.dt.minute`                     | Extracts the minute (0-59)           |\n",
    "| Second        | `.dt.second`                     | Extracts the second (0-59)           |\n",
    "| Quarter       | `.dt.quarter`                    | Returns 1–4 depending on the quarter |\n",
    "| Week/ISO Week | `.dt.isocalendar().week`         | Returns ISO week number (1–52)       |\n",
    "| Date Only     | `.dt.date`                       | Returns `datetime.date` object       |\n",
    "| Time Only     | `.dt.time`                       | Returns `datetime.time` object       |\n"
   ]
  },
  {
   "cell_type": "markdown",
   "id": "f0601e06",
   "metadata": {},
   "source": [
    "### 🧪 4. Examples on Real/Pseudo Data"
   ]
  },
  {
   "cell_type": "code",
   "execution_count": 3,
   "id": "2de42866",
   "metadata": {},
   "outputs": [
    {
     "data": {
      "text/html": [
       "<div>\n",
       "<style scoped>\n",
       "    .dataframe tbody tr th:only-of-type {\n",
       "        vertical-align: middle;\n",
       "    }\n",
       "\n",
       "    .dataframe tbody tr th {\n",
       "        vertical-align: top;\n",
       "    }\n",
       "\n",
       "    .dataframe thead th {\n",
       "        text-align: right;\n",
       "    }\n",
       "</style>\n",
       "<table border=\"1\" class=\"dataframe\">\n",
       "  <thead>\n",
       "    <tr style=\"text-align: right;\">\n",
       "      <th></th>\n",
       "      <th>timestamp</th>\n",
       "    </tr>\n",
       "  </thead>\n",
       "  <tbody>\n",
       "    <tr>\n",
       "      <th>0</th>\n",
       "      <td>2024-07-25 14:35:21</td>\n",
       "    </tr>\n",
       "    <tr>\n",
       "      <th>1</th>\n",
       "      <td>2024-12-01 09:20:00</td>\n",
       "    </tr>\n",
       "    <tr>\n",
       "      <th>2</th>\n",
       "      <td>2025-01-15 23:55:45</td>\n",
       "    </tr>\n",
       "  </tbody>\n",
       "</table>\n",
       "</div>"
      ],
      "text/plain": [
       "            timestamp\n",
       "0 2024-07-25 14:35:21\n",
       "1 2024-12-01 09:20:00\n",
       "2 2025-01-15 23:55:45"
      ]
     },
     "metadata": {},
     "output_type": "display_data"
    },
    {
     "name": "stdout",
     "output_type": "stream",
     "text": [
      "timestamp    datetime64[ns]\n",
      "dtype: object\n"
     ]
    }
   ],
   "source": [
    "# Sample DataFrame with datetime column\n",
    "df = pd.DataFrame({\n",
    "    'timestamp': pd.to_datetime([\n",
    "        '2024-07-25 14:35:21',\n",
    "        '2024-12-01 09:20:00',\n",
    "        '2025-01-15 23:55:45'\n",
    "    ])\n",
    "})\n",
    "\n",
    "display(df)\n",
    "print(df.dtypes)"
   ]
  },
  {
   "cell_type": "markdown",
   "id": "c8a814ca",
   "metadata": {},
   "source": [
    "#### ✅ Extract date parts:"
   ]
  },
  {
   "cell_type": "code",
   "execution_count": 7,
   "id": "8aae235b",
   "metadata": {},
   "outputs": [
    {
     "data": {
      "text/html": [
       "<div>\n",
       "<style scoped>\n",
       "    .dataframe tbody tr th:only-of-type {\n",
       "        vertical-align: middle;\n",
       "    }\n",
       "\n",
       "    .dataframe tbody tr th {\n",
       "        vertical-align: top;\n",
       "    }\n",
       "\n",
       "    .dataframe thead th {\n",
       "        text-align: right;\n",
       "    }\n",
       "</style>\n",
       "<table border=\"1\" class=\"dataframe\">\n",
       "  <thead>\n",
       "    <tr style=\"text-align: right;\">\n",
       "      <th></th>\n",
       "      <th>timestamp</th>\n",
       "      <th>year</th>\n",
       "      <th>month</th>\n",
       "      <th>day</th>\n",
       "    </tr>\n",
       "  </thead>\n",
       "  <tbody>\n",
       "    <tr>\n",
       "      <th>0</th>\n",
       "      <td>2024-07-25 14:35:21</td>\n",
       "      <td>2024</td>\n",
       "      <td>7</td>\n",
       "      <td>25</td>\n",
       "    </tr>\n",
       "    <tr>\n",
       "      <th>1</th>\n",
       "      <td>2024-12-01 09:20:00</td>\n",
       "      <td>2024</td>\n",
       "      <td>12</td>\n",
       "      <td>1</td>\n",
       "    </tr>\n",
       "    <tr>\n",
       "      <th>2</th>\n",
       "      <td>2025-01-15 23:55:45</td>\n",
       "      <td>2025</td>\n",
       "      <td>1</td>\n",
       "      <td>15</td>\n",
       "    </tr>\n",
       "  </tbody>\n",
       "</table>\n",
       "</div>"
      ],
      "text/plain": [
       "            timestamp  year  month  day\n",
       "0 2024-07-25 14:35:21  2024      7   25\n",
       "1 2024-12-01 09:20:00  2024     12    1\n",
       "2 2025-01-15 23:55:45  2025      1   15"
      ]
     },
     "execution_count": 7,
     "metadata": {},
     "output_type": "execute_result"
    }
   ],
   "source": [
    "df['year'] = df['timestamp'].dt.year\n",
    "df['month'] = df['timestamp'].dt.month\n",
    "df['day'] = df['timestamp'].dt.day\n",
    "\n",
    "df"
   ]
  },
  {
   "cell_type": "markdown",
   "id": "4bff63f0",
   "metadata": {},
   "source": [
    "#### ✅ Extract time parts:"
   ]
  },
  {
   "cell_type": "code",
   "execution_count": 8,
   "id": "01aff4c0",
   "metadata": {},
   "outputs": [
    {
     "data": {
      "text/html": [
       "<div>\n",
       "<style scoped>\n",
       "    .dataframe tbody tr th:only-of-type {\n",
       "        vertical-align: middle;\n",
       "    }\n",
       "\n",
       "    .dataframe tbody tr th {\n",
       "        vertical-align: top;\n",
       "    }\n",
       "\n",
       "    .dataframe thead th {\n",
       "        text-align: right;\n",
       "    }\n",
       "</style>\n",
       "<table border=\"1\" class=\"dataframe\">\n",
       "  <thead>\n",
       "    <tr style=\"text-align: right;\">\n",
       "      <th></th>\n",
       "      <th>timestamp</th>\n",
       "      <th>year</th>\n",
       "      <th>month</th>\n",
       "      <th>day</th>\n",
       "      <th>hour</th>\n",
       "      <th>minute</th>\n",
       "      <th>second</th>\n",
       "    </tr>\n",
       "  </thead>\n",
       "  <tbody>\n",
       "    <tr>\n",
       "      <th>0</th>\n",
       "      <td>2024-07-25 14:35:21</td>\n",
       "      <td>2024</td>\n",
       "      <td>7</td>\n",
       "      <td>25</td>\n",
       "      <td>14</td>\n",
       "      <td>35</td>\n",
       "      <td>21</td>\n",
       "    </tr>\n",
       "    <tr>\n",
       "      <th>1</th>\n",
       "      <td>2024-12-01 09:20:00</td>\n",
       "      <td>2024</td>\n",
       "      <td>12</td>\n",
       "      <td>1</td>\n",
       "      <td>9</td>\n",
       "      <td>20</td>\n",
       "      <td>0</td>\n",
       "    </tr>\n",
       "    <tr>\n",
       "      <th>2</th>\n",
       "      <td>2025-01-15 23:55:45</td>\n",
       "      <td>2025</td>\n",
       "      <td>1</td>\n",
       "      <td>15</td>\n",
       "      <td>23</td>\n",
       "      <td>55</td>\n",
       "      <td>45</td>\n",
       "    </tr>\n",
       "  </tbody>\n",
       "</table>\n",
       "</div>"
      ],
      "text/plain": [
       "            timestamp  year  month  day  hour  minute  second\n",
       "0 2024-07-25 14:35:21  2024      7   25    14      35      21\n",
       "1 2024-12-01 09:20:00  2024     12    1     9      20       0\n",
       "2 2025-01-15 23:55:45  2025      1   15    23      55      45"
      ]
     },
     "execution_count": 8,
     "metadata": {},
     "output_type": "execute_result"
    }
   ],
   "source": [
    "df['hour'] = df['timestamp'].dt.hour\n",
    "df['minute'] = df['timestamp'].dt.minute\n",
    "df['second'] = df['timestamp'].dt.second\n",
    "\n",
    "df"
   ]
  },
  {
   "cell_type": "markdown",
   "id": "641a0e0b",
   "metadata": {},
   "source": [
    "#### ✅ Get human-readable names:"
   ]
  },
  {
   "cell_type": "code",
   "execution_count": 11,
   "id": "db94b2e2",
   "metadata": {},
   "outputs": [
    {
     "data": {
      "text/html": [
       "<div>\n",
       "<style scoped>\n",
       "    .dataframe tbody tr th:only-of-type {\n",
       "        vertical-align: middle;\n",
       "    }\n",
       "\n",
       "    .dataframe tbody tr th {\n",
       "        vertical-align: top;\n",
       "    }\n",
       "\n",
       "    .dataframe thead th {\n",
       "        text-align: right;\n",
       "    }\n",
       "</style>\n",
       "<table border=\"1\" class=\"dataframe\">\n",
       "  <thead>\n",
       "    <tr style=\"text-align: right;\">\n",
       "      <th></th>\n",
       "      <th>timestamp</th>\n",
       "      <th>year</th>\n",
       "      <th>month</th>\n",
       "      <th>day</th>\n",
       "      <th>hour</th>\n",
       "      <th>minute</th>\n",
       "      <th>second</th>\n",
       "      <th>day_name</th>\n",
       "      <th>month_name</th>\n",
       "    </tr>\n",
       "  </thead>\n",
       "  <tbody>\n",
       "    <tr>\n",
       "      <th>0</th>\n",
       "      <td>2024-07-25 14:35:21</td>\n",
       "      <td>2024</td>\n",
       "      <td>7</td>\n",
       "      <td>25</td>\n",
       "      <td>14</td>\n",
       "      <td>35</td>\n",
       "      <td>21</td>\n",
       "      <td>Thursday</td>\n",
       "      <td>July</td>\n",
       "    </tr>\n",
       "    <tr>\n",
       "      <th>1</th>\n",
       "      <td>2024-12-01 09:20:00</td>\n",
       "      <td>2024</td>\n",
       "      <td>12</td>\n",
       "      <td>1</td>\n",
       "      <td>9</td>\n",
       "      <td>20</td>\n",
       "      <td>0</td>\n",
       "      <td>Sunday</td>\n",
       "      <td>December</td>\n",
       "    </tr>\n",
       "    <tr>\n",
       "      <th>2</th>\n",
       "      <td>2025-01-15 23:55:45</td>\n",
       "      <td>2025</td>\n",
       "      <td>1</td>\n",
       "      <td>15</td>\n",
       "      <td>23</td>\n",
       "      <td>55</td>\n",
       "      <td>45</td>\n",
       "      <td>Wednesday</td>\n",
       "      <td>January</td>\n",
       "    </tr>\n",
       "  </tbody>\n",
       "</table>\n",
       "</div>"
      ],
      "text/plain": [
       "            timestamp  year  month  day  hour  minute  second   day_name  \\\n",
       "0 2024-07-25 14:35:21  2024      7   25    14      35      21   Thursday   \n",
       "1 2024-12-01 09:20:00  2024     12    1     9      20       0     Sunday   \n",
       "2 2025-01-15 23:55:45  2025      1   15    23      55      45  Wednesday   \n",
       "\n",
       "  month_name  \n",
       "0       July  \n",
       "1   December  \n",
       "2    January  "
      ]
     },
     "execution_count": 11,
     "metadata": {},
     "output_type": "execute_result"
    }
   ],
   "source": [
    "df['day_name'] = df['timestamp'].dt.day_name()\n",
    "df['month_name'] = df['timestamp'].dt.month_name()\n",
    "\n",
    "df"
   ]
  },
  {
   "cell_type": "markdown",
   "id": "0f912c17",
   "metadata": {},
   "source": [
    "#### ✅ Extract week number:"
   ]
  },
  {
   "cell_type": "code",
   "execution_count": 13,
   "id": "020494f1",
   "metadata": {},
   "outputs": [
    {
     "data": {
      "text/html": [
       "<div>\n",
       "<style scoped>\n",
       "    .dataframe tbody tr th:only-of-type {\n",
       "        vertical-align: middle;\n",
       "    }\n",
       "\n",
       "    .dataframe tbody tr th {\n",
       "        vertical-align: top;\n",
       "    }\n",
       "\n",
       "    .dataframe thead th {\n",
       "        text-align: right;\n",
       "    }\n",
       "</style>\n",
       "<table border=\"1\" class=\"dataframe\">\n",
       "  <thead>\n",
       "    <tr style=\"text-align: right;\">\n",
       "      <th></th>\n",
       "      <th>timestamp</th>\n",
       "      <th>year</th>\n",
       "      <th>month</th>\n",
       "      <th>day</th>\n",
       "      <th>hour</th>\n",
       "      <th>minute</th>\n",
       "      <th>second</th>\n",
       "      <th>day_name</th>\n",
       "      <th>month_name</th>\n",
       "      <th>iso_weel</th>\n",
       "    </tr>\n",
       "  </thead>\n",
       "  <tbody>\n",
       "    <tr>\n",
       "      <th>0</th>\n",
       "      <td>2024-07-25 14:35:21</td>\n",
       "      <td>2024</td>\n",
       "      <td>7</td>\n",
       "      <td>25</td>\n",
       "      <td>14</td>\n",
       "      <td>35</td>\n",
       "      <td>21</td>\n",
       "      <td>Thursday</td>\n",
       "      <td>July</td>\n",
       "      <td>30</td>\n",
       "    </tr>\n",
       "    <tr>\n",
       "      <th>1</th>\n",
       "      <td>2024-12-01 09:20:00</td>\n",
       "      <td>2024</td>\n",
       "      <td>12</td>\n",
       "      <td>1</td>\n",
       "      <td>9</td>\n",
       "      <td>20</td>\n",
       "      <td>0</td>\n",
       "      <td>Sunday</td>\n",
       "      <td>December</td>\n",
       "      <td>48</td>\n",
       "    </tr>\n",
       "    <tr>\n",
       "      <th>2</th>\n",
       "      <td>2025-01-15 23:55:45</td>\n",
       "      <td>2025</td>\n",
       "      <td>1</td>\n",
       "      <td>15</td>\n",
       "      <td>23</td>\n",
       "      <td>55</td>\n",
       "      <td>45</td>\n",
       "      <td>Wednesday</td>\n",
       "      <td>January</td>\n",
       "      <td>3</td>\n",
       "    </tr>\n",
       "  </tbody>\n",
       "</table>\n",
       "</div>"
      ],
      "text/plain": [
       "            timestamp  year  month  day  hour  minute  second   day_name  \\\n",
       "0 2024-07-25 14:35:21  2024      7   25    14      35      21   Thursday   \n",
       "1 2024-12-01 09:20:00  2024     12    1     9      20       0     Sunday   \n",
       "2 2025-01-15 23:55:45  2025      1   15    23      55      45  Wednesday   \n",
       "\n",
       "  month_name  iso_weel  \n",
       "0       July        30  \n",
       "1   December        48  \n",
       "2    January         3  "
      ]
     },
     "execution_count": 13,
     "metadata": {},
     "output_type": "execute_result"
    }
   ],
   "source": [
    "df['iso_weel'] = df['timestamp'].dt.isocalendar().week\n",
    "\n",
    "df"
   ]
  },
  {
   "cell_type": "markdown",
   "id": "c72a68af",
   "metadata": {},
   "source": [
    "### ⚠️ 5. Common Pitfalls and Best Practices\n",
    "\n",
    "| Pitfall               | What Happens                           | Best Practice                                |\n",
    "| --------------------- | -------------------------------------- | -------------------------------------------- |\n",
    "| `.dt` on non-datetime | Throws error                           | Always convert with `pd.to_datetime()` first |\n",
    "| Mixed types in column | Fails or gives wrong values            | Ensure the entire column is datetime-typed   |\n",
    "| Ambiguous formats     | `2023-04-05` – is it April 5 or May 4? | Always use `format=` when converting         |\n",
    "| `.dt` on `NaT` values | Returns `NaN` or error in chaining     | Use `.notna()` to filter valid dates         |\n",
    "| `week` deprecation    | `.dt.week` is deprecated               | Use `.dt.isocalendar().week` instead         |\n"
   ]
  },
  {
   "cell_type": "markdown",
   "id": "d744e9bd",
   "metadata": {},
   "source": [
    "### 🌍 6. Real World Use Cases\n",
    "\n",
    "| Use Case                       | Description                                                                         |\n",
    "| ------------------------------ | ----------------------------------------------------------------------------------- |\n",
    "| **E-commerce seasonality**     | Use `.dt.month` to find top-selling months or `.dt.dayofweek` for weekly trends     |\n",
    "| **Customer behavior analysis** | Use `.dt.hour` to detect peak login or purchase times                               |\n",
    "| **Loan or insurance data**     | Extract `.dt.year` for age of application, or `.dt.quarter` for quarterly reporting |\n",
    "| **Healthcare visit data**      | Use `.dt.day_name()` to evaluate appointment loads by weekday                       |\n",
    "| **Airlines**                   | Break down timestamps into `.dt.hour` for traffic management or delay analysis      |\n",
    "| **Retail analytics**           | Analyze sales by `.dt.weekday`, `.dt.month_name()` or `.dt.quarter`                 |\n"
   ]
  },
  {
   "cell_type": "markdown",
   "id": "5d2c5d30",
   "metadata": {},
   "source": [
    "## ✅ Summary for Section B: Exploring and Accessing DateTime Components\n",
    "\n",
    "| Concept          | Summary                                                          |\n",
    "| ---------------- | ---------------------------------------------------------------- |\n",
    "| `.dt` accessor   | Use it to extract parts like year, month, weekday, etc.          |\n",
    "| Powerful for     | Feature engineering, filtering, grouping, seasonal analysis      |\n",
    "| Must do before   | Ensure column is datetime with `pd.to_datetime()`                |\n",
    "| Common accessors | `.dt.year`, `.dt.month`, `.dt.day`, `.dt.hour`, `.dt.day_name()` |\n",
    "| Use case         | Almost any industry involving timestamped data!                  |\n"
   ]
  },
  {
   "cell_type": "markdown",
   "id": "a42df2c2",
   "metadata": {},
   "source": [
    "<center><b>Thanks</b></center>"
   ]
  }
 ],
 "metadata": {
  "kernelspec": {
   "display_name": "venv",
   "language": "python",
   "name": "python3"
  },
  "language_info": {
   "codemirror_mode": {
    "name": "ipython",
    "version": 3
   },
   "file_extension": ".py",
   "mimetype": "text/x-python",
   "name": "python",
   "nbconvert_exporter": "python",
   "pygments_lexer": "ipython3",
   "version": "3.10.2"
  }
 },
 "nbformat": 4,
 "nbformat_minor": 5
}
