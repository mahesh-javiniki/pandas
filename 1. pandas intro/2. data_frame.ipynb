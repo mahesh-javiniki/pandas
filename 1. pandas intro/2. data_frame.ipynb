{
 "cells": [
  {
   "cell_type": "markdown",
   "id": "ea76d96e",
   "metadata": {},
   "source": [
    "# `DataFrame` – Two-dimensional labeled table"
   ]
  },
  {
   "cell_type": "code",
   "execution_count": 19,
   "id": "84be01ab",
   "metadata": {},
   "outputs": [],
   "source": [
    "import pandas as pd\n",
    "import numpy as np"
   ]
  },
  {
   "cell_type": "markdown",
   "id": "ebe25a68",
   "metadata": {},
   "source": [
    "A **DataFrame** is a **2-dimensional labeled data structure** with:\n",
    "\n",
    "* **Rows**: indexed with numbers or labels\n",
    "* **Columns**: each with a label (like a named variable)\n",
    "* Think of it like an **Excel spreadsheet**, **SQL table**, or a collection of **Series** objects sharing the same index."
   ]
  },
  {
   "cell_type": "markdown",
   "id": "0d6c92e0",
   "metadata": {},
   "source": [
    "## Syntax\n",
    "\n",
    "```python\n",
    "import pandas as pd\n",
    "\n",
    "df = pd.DataFrame(data, index=None, columns=None, dtype=None)\n",
    "```\n",
    "\n",
    "* `data`: Can be a dictionary, list of lists, NumPy array, Series, etc.\n",
    "* `index`: Custom row labels\n",
    "* `columns`: Custom column labels\n",
    "* `dtype`: Specify data type\n"
   ]
  },
  {
   "cell_type": "markdown",
   "id": "a3e1455e",
   "metadata": {},
   "source": [
    "## Common Ways to Create a DataFrame"
   ]
  },
  {
   "cell_type": "markdown",
   "id": "26c0c01c",
   "metadata": {},
   "source": [
    "### 1. From a Dictionary of Lists"
   ]
  },
  {
   "cell_type": "code",
   "execution_count": 14,
   "id": "c40e1bde",
   "metadata": {},
   "outputs": [
    {
     "name": "stdout",
     "output_type": "stream",
     "text": [
      "     Name  Age  Salary\n",
      "0  Mahesh   20      40\n",
      "1  Rajesh   35      55\n",
      "2    Ravi   25      50\n"
     ]
    }
   ],
   "source": [
    "data = {\n",
    "    'Name': ['Mahesh', 'Rajesh', 'Ravi'],\n",
    "    'Age': [20, 35, 25],\n",
    "    'Salary': [40, 55, 50]\n",
    "}\n",
    "\n",
    "df = pd.DataFrame(data)\n",
    "print(df)"
   ]
  },
  {
   "cell_type": "markdown",
   "id": "ccec43c5",
   "metadata": {},
   "source": [
    "✅ **Most common** method, especially for structured data."
   ]
  },
  {
   "cell_type": "markdown",
   "id": "ce0cdf6e",
   "metadata": {},
   "source": [
    "### 2. From a List of Dictionaries"
   ]
  },
  {
   "cell_type": "code",
   "execution_count": 15,
   "id": "dbb2802f",
   "metadata": {},
   "outputs": [
    {
     "name": "stdout",
     "output_type": "stream",
     "text": [
      "     Name  Age\n",
      "0  Mahesh   25\n",
      "1  Rajesh   45\n",
      "2  Ramesh   30\n"
     ]
    }
   ],
   "source": [
    "data = [\n",
    "    {'Name': 'Mahesh', 'Age': 25},\n",
    "    {'Name': 'Rajesh', 'Age': 45},\n",
    "    {'Name': 'Ramesh', 'Age': 30},\n",
    "]\n",
    "\n",
    "df = pd.DataFrame(data)\n",
    "print(df)"
   ]
  },
  {
   "cell_type": "code",
   "execution_count": 16,
   "id": "b76441b1",
   "metadata": {},
   "outputs": [
    {
     "name": "stdout",
     "output_type": "stream",
     "text": [
      "     Name  Age\n",
      "0  Mahesh   25\n",
      "1  Rajesh   45\n",
      "2     NaN   30\n"
     ]
    }
   ],
   "source": [
    "data = [\n",
    "    {'Name': 'Mahesh', 'Age': 25},\n",
    "    {'Name': 'Rajesh', 'Age': 45},\n",
    "    {'Age': 30},\n",
    "]\n",
    "\n",
    "df = pd.DataFrame(data)\n",
    "print(df)"
   ]
  },
  {
   "cell_type": "markdown",
   "id": "46c51f79",
   "metadata": {},
   "source": [
    "✅ Great when reading from JSON or APIs."
   ]
  },
  {
   "cell_type": "markdown",
   "id": "5e149e73",
   "metadata": {},
   "source": [
    "### 3. From a Dictionary of Series"
   ]
  },
  {
   "cell_type": "code",
   "execution_count": 17,
   "id": "7fd007c2",
   "metadata": {},
   "outputs": [
    {
     "name": "stdout",
     "output_type": "stream",
     "text": [
      "        Marks Grade\n",
      "Mahesh     85    B+\n",
      "Manju      90     A\n",
      "Malli      95    A+\n"
     ]
    }
   ],
   "source": [
    "data = {\n",
    "    'Marks': pd.Series([85, 90, 95], index=['Mahesh', 'Manju', \"Malli\"]),\n",
    "    'Grade': pd.Series(['B+', 'A', 'A+'], index=['Mahesh', 'Manju', \"Malli\"])\n",
    "}\n",
    "\n",
    "df = pd.DataFrame(data)\n",
    "print(df)"
   ]
  },
  {
   "cell_type": "markdown",
   "id": "c39dd2e6",
   "metadata": {},
   "source": [
    "✅ Useful for labeled data or timeseries."
   ]
  },
  {
   "cell_type": "markdown",
   "id": "198135a6",
   "metadata": {},
   "source": [
    "### 4. From a List of Lists / Tuples (with column names)"
   ]
  },
  {
   "cell_type": "code",
   "execution_count": 18,
   "id": "c01a5322",
   "metadata": {},
   "outputs": [
    {
     "name": "stdout",
     "output_type": "stream",
     "text": [
      "     Name  Age\n",
      "0  Mahesh   20\n",
      "1   Malli   25\n",
      "2   Suraj   30\n"
     ]
    }
   ],
   "source": [
    "data = [\n",
    "    ['Mahesh', 20],\n",
    "    ['Malli', 25],\n",
    "    ['Suraj', 30]\n",
    "]\n",
    "\n",
    "df = pd.DataFrame(data, columns=['Name', 'Age'])\n",
    "print(df)"
   ]
  },
  {
   "cell_type": "markdown",
   "id": "bfd8ec4a",
   "metadata": {},
   "source": [
    "✅ Often used after loading CSV or tabular data manually."
   ]
  },
  {
   "cell_type": "markdown",
   "id": "3bf89787",
   "metadata": {},
   "source": [
    "### 5. From a NumPy Array"
   ]
  },
  {
   "cell_type": "code",
   "execution_count": 20,
   "id": "da2dfa24",
   "metadata": {},
   "outputs": [
    {
     "name": "stdout",
     "output_type": "stream",
     "text": [
      "    A   B\n",
      "0  10  20\n",
      "1  30  40\n"
     ]
    }
   ],
   "source": [
    "arr = np.array([[10, 20], [30, 40]])\n",
    "\n",
    "df = pd.DataFrame(arr, columns=['A', 'B'])\n",
    "print(df)"
   ]
  },
  {
   "cell_type": "markdown",
   "id": "2b4138af",
   "metadata": {},
   "source": [
    "✅ Good for numeric or matrix data."
   ]
  },
  {
   "cell_type": "markdown",
   "id": "646b2575",
   "metadata": {},
   "source": [
    "### 6. From a Series (Single Column)"
   ]
  },
  {
   "cell_type": "code",
   "execution_count": 23,
   "id": "9f74793a",
   "metadata": {},
   "outputs": [
    {
     "name": "stdout",
     "output_type": "stream",
     "text": [
      "    0\n",
      "a  10\n",
      "b  20\n",
      "c  30\n",
      "<class 'pandas.core.frame.DataFrame'>\n"
     ]
    }
   ],
   "source": [
    "df = pd.DataFrame([10, 20, 30], index=['a', 'b', 'c'])\n",
    "print(df)\n",
    "print(type(df))"
   ]
  },
  {
   "cell_type": "markdown",
   "id": "068e0d73",
   "metadata": {},
   "source": [
    "✅ Converts a Series into a DataFrame."
   ]
  },
  {
   "cell_type": "markdown",
   "id": "22105812",
   "metadata": {},
   "source": [
    "### 7. From a Scalar (Same value for all rows)"
   ]
  },
  {
   "cell_type": "code",
   "execution_count": 26,
   "id": "9a983f2a",
   "metadata": {},
   "outputs": [
    {
     "name": "stdout",
     "output_type": "stream",
     "text": [
      "    X   Y\n",
      "a  10  10\n",
      "b  10  10\n",
      "c  10  10\n"
     ]
    }
   ],
   "source": [
    "df = pd.DataFrame(10, index=['a', 'b', 'c'], columns=['X', 'Y'])\n",
    "print(df)"
   ]
  },
  {
   "cell_type": "markdown",
   "id": "a302997b",
   "metadata": {},
   "source": [
    "✅ Useful for testing or initializing default values."
   ]
  },
  {
   "cell_type": "markdown",
   "id": "45176dfe",
   "metadata": {},
   "source": [
    "### 8. From CSV / Excel / SQL (Real-world)"
   ]
  },
  {
   "cell_type": "markdown",
   "id": "24f4e6d6",
   "metadata": {},
   "source": [
    "```python\n",
    "# From CSV\n",
    "df = pd.read_csv('data.csv')\n",
    "\n",
    "# From Excel\n",
    "df = pd.read_excel('data.xlsx')\n",
    "\n",
    "# From SQL\n",
    "import sqlite3\n",
    "conn = sqlite3.connect('db.sqlite')\n",
    "df = pd.read_sql_query(\"SELECT * FROM customers\", conn)\n",
    "```\n",
    "\n",
    "✅ Very common in data science projects."
   ]
  },
  {
   "cell_type": "markdown",
   "id": "5341e7bd",
   "metadata": {},
   "source": [
    "### 9. From Zipped/Compressed/Remote CSVs"
   ]
  },
  {
   "cell_type": "markdown",
   "id": "d1afad53",
   "metadata": {},
   "source": [
    "```python\n",
    "df = pd.read_csv(\"https://example.com/data.csv\", compression='gzip')\n",
    "```\n",
    "\n",
    "✅ Works directly with web or zipped data."
   ]
  },
  {
   "cell_type": "markdown",
   "id": "63c1d5a5",
   "metadata": {},
   "source": [
    "### 10. Creating an Empty DataFrame"
   ]
  },
  {
   "cell_type": "code",
   "execution_count": null,
   "id": "55db7b06",
   "metadata": {},
   "outputs": [
    {
     "name": "stdout",
     "output_type": "stream",
     "text": [
      "Empty DataFrame\n",
      "Columns: []\n",
      "Index: []\n"
     ]
    }
   ],
   "source": [
    "df = pd.DataFrame()\n",
    "print(df)"
   ]
  },
  {
   "cell_type": "markdown",
   "id": "dfd89045",
   "metadata": {},
   "source": [
    "✅ Useful as a starting point to append rows later."
   ]
  },
  {
   "cell_type": "markdown",
   "id": "3f835943",
   "metadata": {},
   "source": [
    "### 11. With Custom Index and Columns"
   ]
  },
  {
   "cell_type": "code",
   "execution_count": 32,
   "id": "75e03d0f",
   "metadata": {},
   "outputs": [
    {
     "name": "stdout",
     "output_type": "stream",
     "text": [
      "      A  B\n",
      "row1  1  2\n",
      "row2  3  4\n"
     ]
    }
   ],
   "source": [
    "data = [[1, 2], [3, 4]]\n",
    "df = pd.DataFrame(data, index=['row1', 'row2'], columns=['A', 'B'])\n",
    "print(df)"
   ]
  },
  {
   "cell_type": "markdown",
   "id": "55feae0d",
   "metadata": {},
   "source": [
    "✅ Used for labeled datasets."
   ]
  },
  {
   "cell_type": "markdown",
   "id": "61d22644",
   "metadata": {},
   "source": [
    "## 12. Creating Time-Based DataFrame"
   ]
  },
  {
   "cell_type": "code",
   "execution_count": 33,
   "id": "517f3b4f",
   "metadata": {},
   "outputs": [
    {
     "name": "stdout",
     "output_type": "stream",
     "text": [
      "            Values\n",
      "2025-06-11      10\n",
      "2025-06-12      20\n",
      "2025-06-13      30\n",
      "2025-06-14      40\n",
      "2025-06-15      50\n"
     ]
    }
   ],
   "source": [
    "dates = pd.date_range(start='2025-06-11', periods=5)\n",
    "df = pd.DataFrame({'Values': [10, 20, 30, 40, 50]}, index=dates)\n",
    "print(df)"
   ]
  },
  {
   "cell_type": "markdown",
   "id": "ce47dc08",
   "metadata": {},
   "source": [
    "✅ Useful in time series forecasting and analysis."
   ]
  },
  {
   "cell_type": "markdown",
   "id": "6b30dc48",
   "metadata": {},
   "source": [
    "# 🧠 Recap of Possible Data Inputs\n",
    "\n",
    "| Input Type     | Description                          | Example                        |\n",
    "| -------------- | ------------------------------------ | ------------------------------ |\n",
    "| dict of lists  | Most common structured data          | `{'A': [1, 2]}`                |\n",
    "| list of dicts  | For API or JSON-like data            | `[{'A': 1}, {'A': 2}]`         |\n",
    "| dict of Series | For labeled/multi-indexed data       | `{'A': pd.Series(...), ...}`   |\n",
    "| list of lists  | Matrix-like data                     | `[[1, 2], [3, 4]]`             |\n",
    "| NumPy array    | For numeric datasets                 | `np.array(...)`                |\n",
    "| Series         | Single column wrapped into DataFrame | `pd.DataFrame(pd.Series(...))` |\n",
    "| CSV/Excel/SQL  | Real-world external data             | `pd.read_csv(...)`             |\n",
    "| Scalar         | Same value in all cells              | `pd.DataFrame(0, ...)`         |\n",
    "| Time index     | For time-series datasets             | `pd.date_range(...)`           |"
   ]
  },
  {
   "cell_type": "markdown",
   "id": "d4e9808c",
   "metadata": {},
   "source": [
    "### 🔍 Core Concepts of DataFrame\n",
    "\n",
    "| Concept               | Example                          | Explanation                             |\n",
    "| --------------------- | -------------------------------- | --------------------------------------- |\n",
    "| Rows & Columns        | `df.shape`                       | Dimensions of data                      |\n",
    "| Index (row labels)    | `df.index`                       | Row identifiers                         |\n",
    "| Columns (labels)      | `df.columns`                     | Column names                            |\n",
    "| Data types            | `df.dtypes`                      | Type of each column                     |\n",
    "| Summary statistics    | `df.describe()`                  | Mean, std, min, max, etc.               |\n",
    "| Column access         | `df['Age']` or `df.Age`          | Access specific column (returns Series) |\n",
    "| Row access            | `df.loc[0]`, `df.iloc[0]`        | Get rows by index label or position     |\n",
    "| Boolean filtering     | `df[df['Age'] > 30]`             | Filter rows based on condition          |\n",
    "| Adding columns        | `df['Tax'] = df['Salary'] * 0.1` | Feature engineering                     |\n",
    "| Dropping columns      | `df.drop('Age', axis=1)`         | Data cleaning                           |\n",
    "| Sorting data          | `df.sort_values('Salary')`       | Sorting rows                            |\n",
    "| Handling missing data | `df.dropna()`, `df.fillna()`     | Data imputation                         |\n",
    "\n",
    "---\n",
    "\n",
    "### ✅ Indexing Types\n",
    "\n",
    "| Access Method | Description                | Example                    |\n",
    "| ------------- | -------------------------- | -------------------------- |\n",
    "| `df.loc[]`    | Access by label            | `df.loc[0]`, `df.loc['a']` |\n",
    "| `df.iloc[]`   | Access by integer position | `df.iloc[0:2]`             |\n"
   ]
  },
  {
   "cell_type": "markdown",
   "id": "55eb5849",
   "metadata": {},
   "source": [
    "**Will cover all data frame operation in later sections**"
   ]
  },
  {
   "cell_type": "markdown",
   "id": "b7076f35",
   "metadata": {},
   "source": [
    "<center><b>Thanks</b></center>"
   ]
  }
 ],
 "metadata": {
  "kernelspec": {
   "display_name": "Python 3",
   "language": "python",
   "name": "python3"
  },
  "language_info": {
   "codemirror_mode": {
    "name": "ipython",
    "version": 3
   },
   "file_extension": ".py",
   "mimetype": "text/x-python",
   "name": "python",
   "nbconvert_exporter": "python",
   "pygments_lexer": "ipython3",
   "version": "3.10.2"
  }
 },
 "nbformat": 4,
 "nbformat_minor": 5
}
