{
 "cells": [
  {
   "cell_type": "markdown",
   "id": "57115bea",
   "metadata": {},
   "source": [
    "## `Series` – One-dimensional labeled array"
   ]
  },
  {
   "cell_type": "code",
   "execution_count": 1,
   "id": "8af025ab",
   "metadata": {},
   "outputs": [],
   "source": [
    "import numpy as np\n",
    "import pandas as pd"
   ]
  },
  {
   "cell_type": "markdown",
   "id": "b66adce5",
   "metadata": {},
   "source": [
    "**What is it?**\n",
    "\n",
    "A `Series` is like a column in Excel or a single column from a DataFrame.\n",
    "\n",
    "**Components:**\n",
    "\n",
    "* **Values**: The actual data.\n",
    "* **Index**: Labels for each value (like row numbers, but can be custom)."
   ]
  },
  {
   "cell_type": "markdown",
   "id": "0e139637",
   "metadata": {},
   "source": [
    "**Basic syntax:**\n",
    "\n",
    "```python\n",
    "pd.Series(data, index=None, dtype=None, name=None)\n",
    "```\n",
    "\n",
    "* `data`: Array-like (list, NumPy array, dict, scalar).\n",
    "* `index`: Optional. Custom labels for each element.\n",
    "* `dtype`: Optional. Specify data type (e.g., int, float, str).\n",
    "* `name`: Optional. Name of the Series."
   ]
  },
  {
   "cell_type": "markdown",
   "id": "9ab31176",
   "metadata": {},
   "source": [
    "### Pandas Series Creation"
   ]
  },
  {
   "cell_type": "markdown",
   "id": "f8c56471",
   "metadata": {},
   "source": [
    "Does series is internally a numpy array ?"
   ]
  },
  {
   "cell_type": "markdown",
   "id": "46924850",
   "metadata": {},
   "source": [
    "#### From a List"
   ]
  },
  {
   "cell_type": "code",
   "execution_count": 2,
   "id": "04dc3272",
   "metadata": {},
   "outputs": [
    {
     "name": "stdout",
     "output_type": "stream",
     "text": [
      "0    10\n",
      "1    20\n",
      "2    30\n",
      "3    40\n",
      "dtype: int64\n"
     ]
    }
   ],
   "source": [
    "s = pd.Series([10, 20 ,30 ,40])\n",
    "print(s)"
   ]
  },
  {
   "cell_type": "code",
   "execution_count": 3,
   "id": "8500e82e",
   "metadata": {
    "scrolled": false
   },
   "outputs": [
    {
     "name": "stdout",
     "output_type": "stream",
     "text": [
      "<class 'pandas.core.series.Series'>\n",
      "RangeIndex(start=0, stop=4, step=1)\n",
      "int64\n",
      "None\n",
      "(4,)\n",
      "1\n"
     ]
    }
   ],
   "source": [
    "print(type(s))\n",
    "print(s.index)\n",
    "print(s.dtype)\n",
    "print(s.name)\n",
    "print(s.shape)\n",
    "print(s.ndim)"
   ]
  },
  {
   "cell_type": "markdown",
   "id": "fa83407b",
   "metadata": {},
   "source": [
    "#### From a list with custom index"
   ]
  },
  {
   "cell_type": "code",
   "execution_count": 4,
   "id": "de4417d9",
   "metadata": {},
   "outputs": [
    {
     "name": "stdout",
     "output_type": "stream",
     "text": [
      "a    10\n",
      "b    20\n",
      "c    30\n",
      "d    40\n",
      "dtype: int64\n"
     ]
    }
   ],
   "source": [
    "s1 = pd.Series([10, 20, 30, 40], index=['a', 'b', 'c', 'd'])\n",
    "print(s1)"
   ]
  },
  {
   "cell_type": "code",
   "execution_count": 5,
   "id": "16968235",
   "metadata": {},
   "outputs": [
    {
     "name": "stdout",
     "output_type": "stream",
     "text": [
      "<class 'pandas.core.series.Series'>\n",
      "Index(['a', 'b', 'c', 'd'], dtype='object')\n",
      "int64\n",
      "None\n"
     ]
    }
   ],
   "source": [
    "print(type(s1))\n",
    "print(s1.index)\n",
    "print(s1.dtype)\n",
    "print(s1.name)"
   ]
  },
  {
   "cell_type": "code",
   "execution_count": null,
   "id": "456d6c40",
   "metadata": {},
   "outputs": [],
   "source": []
  },
  {
   "cell_type": "code",
   "execution_count": 6,
   "id": "ba702af8",
   "metadata": {
    "scrolled": true
   },
   "outputs": [
    {
     "name": "stdout",
     "output_type": "stream",
     "text": [
      "a    10\n",
      "b    20\n",
      "c    30\n",
      "d    40\n",
      "Name: Days, dtype: int8\n"
     ]
    }
   ],
   "source": [
    "s2 = pd.Series([10, 20, 30, 40], index=['a', 'b', 'c', 'd'], dtype=np.int8, name='Days')\n",
    "print(s2)"
   ]
  },
  {
   "cell_type": "code",
   "execution_count": 7,
   "id": "51aa5781",
   "metadata": {
    "scrolled": true
   },
   "outputs": [
    {
     "name": "stdout",
     "output_type": "stream",
     "text": [
      "<class 'pandas.core.series.Series'>\n",
      "Index(['a', 'b', 'c', 'd'], dtype='object')\n",
      "int8\n",
      "Days\n"
     ]
    }
   ],
   "source": [
    "print(type(s2))\n",
    "print(s2.index)\n",
    "print(s2.dtype)\n",
    "print(s2.name)"
   ]
  },
  {
   "cell_type": "markdown",
   "id": "57ec20ea",
   "metadata": {},
   "source": [
    "#### From a Dictionary (keys become index)"
   ]
  },
  {
   "cell_type": "code",
   "execution_count": 8,
   "id": "19ed69e7",
   "metadata": {},
   "outputs": [
    {
     "name": "stdout",
     "output_type": "stream",
     "text": [
      "x    100\n",
      "y    200\n",
      "z    300\n",
      "Name: XYZ, dtype: int16\n"
     ]
    }
   ],
   "source": [
    "xyz = pd.Series({'x': 100, 'y': 200, 'z': 300}, name=\"XYZ\", dtype=np.int16)\n",
    "print(xyz)"
   ]
  },
  {
   "cell_type": "markdown",
   "id": "f9c15e4e",
   "metadata": {},
   "source": [
    "#### From a Scalar (repeated value)"
   ]
  },
  {
   "cell_type": "code",
   "execution_count": 9,
   "id": "f1d8840a",
   "metadata": {},
   "outputs": [
    {
     "name": "stdout",
     "output_type": "stream",
     "text": [
      "a    5\n",
      "b    5\n",
      "c    5\n",
      "dtype: int64\n"
     ]
    }
   ],
   "source": [
    "abc = pd.Series(5, index=['a', 'b', 'c'])\n",
    "print(abc)"
   ]
  },
  {
   "cell_type": "markdown",
   "id": "073b540e",
   "metadata": {},
   "source": [
    "#### With Specified Data Type"
   ]
  },
  {
   "cell_type": "code",
   "execution_count": 10,
   "id": "55108d5e",
   "metadata": {},
   "outputs": [
    {
     "data": {
      "text/plain": [
       "0    10.0\n",
       "1    20.0\n",
       "2    30.0\n",
       "dtype: float16"
      ]
     },
     "execution_count": 10,
     "metadata": {},
     "output_type": "execute_result"
    }
   ],
   "source": [
    "pd.Series([10, 20, 30], dtype=np.float16)"
   ]
  },
  {
   "cell_type": "markdown",
   "id": "fd2752df",
   "metadata": {},
   "source": [
    "#### With a Name"
   ]
  },
  {
   "cell_type": "code",
   "execution_count": 11,
   "id": "abb9e2d4",
   "metadata": {},
   "outputs": [
    {
     "data": {
      "text/plain": [
       "0    100\n",
       "1    200\n",
       "Name: Scores, dtype: int64"
      ]
     },
     "execution_count": 11,
     "metadata": {},
     "output_type": "execute_result"
    }
   ],
   "source": [
    "pd.Series([100, 200], name='Scores')"
   ]
  },
  {
   "cell_type": "markdown",
   "id": "090a4d83",
   "metadata": {},
   "source": [
    "### Operations to perform on pandas Series"
   ]
  },
  {
   "cell_type": "markdown",
   "id": "fbafbd8c",
   "metadata": {},
   "source": [
    "#### 1. Creation"
   ]
  },
  {
   "cell_type": "code",
   "execution_count": 12,
   "id": "2df31bcb",
   "metadata": {},
   "outputs": [
    {
     "name": "stdout",
     "output_type": "stream",
     "text": [
      "a    10\n",
      "b    20\n",
      "c    30\n",
      "d    40\n",
      "Name: Numbers, dtype: int8\n"
     ]
    }
   ],
   "source": [
    "s = pd.Series([10, 20 ,30, 40], index=['a', 'b', 'c', 'd'], name=\"Numbers\", dtype=np.int8)\n",
    "print(s)"
   ]
  },
  {
   "cell_type": "markdown",
   "id": "229a2e15",
   "metadata": {},
   "source": [
    "#### 2. Accessing Elements"
   ]
  },
  {
   "cell_type": "markdown",
   "id": "c840c8e7",
   "metadata": {},
   "source": [
    "#### By label"
   ]
  },
  {
   "cell_type": "code",
   "execution_count": 13,
   "id": "858a134c",
   "metadata": {},
   "outputs": [
    {
     "data": {
      "text/plain": [
       "20"
      ]
     },
     "execution_count": 13,
     "metadata": {},
     "output_type": "execute_result"
    }
   ],
   "source": [
    "s['b']"
   ]
  },
  {
   "cell_type": "code",
   "execution_count": 14,
   "id": "68dcf1d3",
   "metadata": {},
   "outputs": [
    {
     "data": {
      "text/plain": [
       "20"
      ]
     },
     "execution_count": 14,
     "metadata": {},
     "output_type": "execute_result"
    }
   ],
   "source": [
    "s.loc['b']"
   ]
  },
  {
   "cell_type": "markdown",
   "id": "e9c57e58",
   "metadata": {},
   "source": [
    "#### By position"
   ]
  },
  {
   "cell_type": "code",
   "execution_count": 15,
   "id": "9053e6ed",
   "metadata": {},
   "outputs": [
    {
     "name": "stderr",
     "output_type": "stream",
     "text": [
      "C:\\Users\\mahes\\AppData\\Local\\Temp\\ipykernel_10696\\878419959.py:1: FutureWarning: Series.__getitem__ treating keys as positions is deprecated. In a future version, integer keys will always be treated as labels (consistent with DataFrame behavior). To access a value by position, use `ser.iloc[pos]`\n",
      "  s[1]\n"
     ]
    },
    {
     "data": {
      "text/plain": [
       "20"
      ]
     },
     "execution_count": 15,
     "metadata": {},
     "output_type": "execute_result"
    }
   ],
   "source": [
    "s[1]"
   ]
  },
  {
   "cell_type": "code",
   "execution_count": 16,
   "id": "497f61f5",
   "metadata": {},
   "outputs": [
    {
     "data": {
      "text/plain": [
       "20"
      ]
     },
     "execution_count": 16,
     "metadata": {},
     "output_type": "execute_result"
    }
   ],
   "source": [
    "s.iloc[1]"
   ]
  },
  {
   "cell_type": "markdown",
   "id": "1ccfad21",
   "metadata": {},
   "source": [
    "#### Multiple Elements"
   ]
  },
  {
   "cell_type": "code",
   "execution_count": 17,
   "id": "039f7704",
   "metadata": {},
   "outputs": [
    {
     "data": {
      "text/plain": [
       "b    20\n",
       "a    10\n",
       "Name: Numbers, dtype: int8"
      ]
     },
     "execution_count": 17,
     "metadata": {},
     "output_type": "execute_result"
    }
   ],
   "source": [
    "s[['b', 'a']]"
   ]
  },
  {
   "cell_type": "markdown",
   "id": "836b1f47",
   "metadata": {},
   "source": [
    "Can't we access multiple elements using loc[] and iloc[] ?"
   ]
  },
  {
   "cell_type": "markdown",
   "id": "b18e27e5",
   "metadata": {},
   "source": [
    "### 3. Vectorized Operations (Element-wise)"
   ]
  },
  {
   "cell_type": "code",
   "execution_count": 18,
   "id": "7e3579e6",
   "metadata": {},
   "outputs": [
    {
     "name": "stdout",
     "output_type": "stream",
     "text": [
      "a    10\n",
      "b    20\n",
      "c    30\n",
      "d    40\n",
      "Name: Numbers, dtype: int8\n"
     ]
    }
   ],
   "source": [
    "print(s)"
   ]
  },
  {
   "cell_type": "code",
   "execution_count": 19,
   "id": "f18cebe8",
   "metadata": {},
   "outputs": [
    {
     "name": "stdout",
     "output_type": "stream",
     "text": [
      "a    20\n",
      "b    30\n",
      "c    40\n",
      "d    50\n",
      "Name: Numbers, dtype: int8\n",
      "a    20\n",
      "b    40\n",
      "c    60\n",
      "d    80\n",
      "Name: Numbers, dtype: int8\n",
      "a    False\n",
      "b    False\n",
      "c     True\n",
      "d     True\n",
      "Name: Numbers, dtype: bool\n"
     ]
    }
   ],
   "source": [
    "print(s + 10)\n",
    "print(s * 2)\n",
    "\n",
    "print(s > 20)"
   ]
  },
  {
   "cell_type": "markdown",
   "id": "83ae15b6",
   "metadata": {},
   "source": [
    "### 4. Slicing & Filtering"
   ]
  },
  {
   "cell_type": "markdown",
   "id": "8531ebae",
   "metadata": {},
   "source": [
    "#### Slice by position"
   ]
  },
  {
   "cell_type": "code",
   "execution_count": 20,
   "id": "a618179c",
   "metadata": {},
   "outputs": [
    {
     "data": {
      "text/plain": [
       "b    20\n",
       "c    30\n",
       "Name: Numbers, dtype: int8"
      ]
     },
     "execution_count": 20,
     "metadata": {},
     "output_type": "execute_result"
    }
   ],
   "source": [
    "s[1:3]"
   ]
  },
  {
   "cell_type": "code",
   "execution_count": 21,
   "id": "adf73844",
   "metadata": {},
   "outputs": [
    {
     "data": {
      "text/plain": [
       "b    20\n",
       "c    30\n",
       "Name: Numbers, dtype: int8"
      ]
     },
     "execution_count": 21,
     "metadata": {},
     "output_type": "execute_result"
    }
   ],
   "source": [
    "s.iloc[1:3]"
   ]
  },
  {
   "cell_type": "code",
   "execution_count": 22,
   "id": "c0354747",
   "metadata": {},
   "outputs": [
    {
     "data": {
      "text/plain": [
       "a    10\n",
       "b    20\n",
       "c    30\n",
       "Name: Numbers, dtype: int8"
      ]
     },
     "execution_count": 22,
     "metadata": {},
     "output_type": "execute_result"
    }
   ],
   "source": [
    "s.loc['a':'c']"
   ]
  },
  {
   "cell_type": "markdown",
   "id": "6795a951",
   "metadata": {},
   "source": [
    "#### Filter by condition"
   ]
  },
  {
   "cell_type": "code",
   "execution_count": 23,
   "id": "91e5b9b5",
   "metadata": {},
   "outputs": [
    {
     "data": {
      "text/plain": [
       "a    False\n",
       "b    False\n",
       "c     True\n",
       "d     True\n",
       "Name: Numbers, dtype: bool"
      ]
     },
     "execution_count": 23,
     "metadata": {},
     "output_type": "execute_result"
    }
   ],
   "source": [
    "s > 20"
   ]
  },
  {
   "cell_type": "code",
   "execution_count": 24,
   "id": "59b2e9b9",
   "metadata": {},
   "outputs": [
    {
     "data": {
      "text/plain": [
       "c    30\n",
       "d    40\n",
       "Name: Numbers, dtype: int8"
      ]
     },
     "execution_count": 24,
     "metadata": {},
     "output_type": "execute_result"
    }
   ],
   "source": [
    "s[s > 20]"
   ]
  },
  {
   "cell_type": "markdown",
   "id": "f8e5f957",
   "metadata": {},
   "source": [
    "#### Renaming index"
   ]
  },
  {
   "cell_type": "code",
   "execution_count": 25,
   "id": "52333c8a",
   "metadata": {},
   "outputs": [
    {
     "data": {
      "text/plain": [
       "Index(['a', 'b', 'c', 'd'], dtype='object')"
      ]
     },
     "execution_count": 25,
     "metadata": {},
     "output_type": "execute_result"
    }
   ],
   "source": [
    "s.index"
   ]
  },
  {
   "cell_type": "code",
   "execution_count": 26,
   "id": "c3141be7",
   "metadata": {},
   "outputs": [],
   "source": [
    "s.index = ['w', 'x', 'y', 'x']"
   ]
  },
  {
   "cell_type": "code",
   "execution_count": 27,
   "id": "9865d516",
   "metadata": {},
   "outputs": [
    {
     "data": {
      "text/plain": [
       "Index(['w', 'x', 'y', 'x'], dtype='object')"
      ]
     },
     "execution_count": 27,
     "metadata": {},
     "output_type": "execute_result"
    }
   ],
   "source": [
    "s.index"
   ]
  },
  {
   "cell_type": "markdown",
   "id": "be5bbde5",
   "metadata": {},
   "source": [
    "#### 5. Mathematical and Statistical Operations"
   ]
  },
  {
   "cell_type": "code",
   "execution_count": 114,
   "id": "2c7eed22",
   "metadata": {},
   "outputs": [
    {
     "name": "stdout",
     "output_type": "stream",
     "text": [
      "Sum: 150\n",
      "Mean: 30.0\n",
      "Min: 10\n",
      "describe: \n",
      "count     5.000000\n",
      "mean     30.000000\n",
      "std      15.811388\n",
      "min      10.000000\n",
      "25%      20.000000\n",
      "50%      30.000000\n",
      "75%      40.000000\n",
      "max      50.000000\n",
      "dtype: float64\n"
     ]
    }
   ],
   "source": [
    "print(f\"Sum: {s.sum()}\")\n",
    "print(f\"Mean: {s.mean()}\")\n",
    "print(f\"Min: {s.min()}\")\n",
    "print(f\"describe: \\n{s.describe()}\")"
   ]
  },
  {
   "cell_type": "markdown",
   "id": "22b8bfcb",
   "metadata": {},
   "source": [
    "#### 6. Handling Missing Data\n",
    "- isnull()\n",
    "- not_null()\n",
    "- dropna()\n",
    "- fillna()\n",
    "- ffill() - forward fill\n",
    "- bfill() - backward fill"
   ]
  },
  {
   "cell_type": "code",
   "execution_count": 29,
   "id": "bdcf779a",
   "metadata": {},
   "outputs": [
    {
     "name": "stdout",
     "output_type": "stream",
     "text": [
      "0    10.0\n",
      "1     NaN\n",
      "2    30.0\n",
      "3     NaN\n",
      "4    50.0\n",
      "dtype: float64\n"
     ]
    }
   ],
   "source": [
    "s = pd.Series([10, None, 30, None, 50])\n",
    "print(s)"
   ]
  },
  {
   "cell_type": "code",
   "execution_count": 30,
   "id": "dac30972",
   "metadata": {},
   "outputs": [
    {
     "data": {
      "text/plain": [
       "0    False\n",
       "1     True\n",
       "2    False\n",
       "3     True\n",
       "4    False\n",
       "dtype: bool"
      ]
     },
     "execution_count": 30,
     "metadata": {},
     "output_type": "execute_result"
    }
   ],
   "source": [
    "s.isnull() # Detect missing values"
   ]
  },
  {
   "cell_type": "code",
   "execution_count": 31,
   "id": "6e8d4d8d",
   "metadata": {},
   "outputs": [
    {
     "data": {
      "text/plain": [
       "0     True\n",
       "1    False\n",
       "2     True\n",
       "3    False\n",
       "4     True\n",
       "dtype: bool"
      ]
     },
     "execution_count": 31,
     "metadata": {},
     "output_type": "execute_result"
    }
   ],
   "source": [
    "s.notnull() # Detect non-missing values"
   ]
  },
  {
   "cell_type": "code",
   "execution_count": 32,
   "id": "24f40056",
   "metadata": {},
   "outputs": [
    {
     "data": {
      "text/plain": [
       "0    10.0\n",
       "2    30.0\n",
       "4    50.0\n",
       "dtype: float64"
      ]
     },
     "execution_count": 32,
     "metadata": {},
     "output_type": "execute_result"
    }
   ],
   "source": [
    "s.dropna()"
   ]
  },
  {
   "cell_type": "code",
   "execution_count": 33,
   "id": "735c2e24",
   "metadata": {},
   "outputs": [
    {
     "data": {
      "text/plain": [
       "0    10.0\n",
       "1     NaN\n",
       "2    30.0\n",
       "3     NaN\n",
       "4    50.0\n",
       "dtype: float64"
      ]
     },
     "execution_count": 33,
     "metadata": {},
     "output_type": "execute_result"
    }
   ],
   "source": [
    "s"
   ]
  },
  {
   "cell_type": "code",
   "execution_count": 34,
   "id": "7dec71fc",
   "metadata": {},
   "outputs": [],
   "source": [
    "s.dropna(inplace=True) # Drop missing values"
   ]
  },
  {
   "cell_type": "code",
   "execution_count": 35,
   "id": "95f8761d",
   "metadata": {},
   "outputs": [
    {
     "data": {
      "text/plain": [
       "0    10.0\n",
       "2    30.0\n",
       "4    50.0\n",
       "dtype: float64"
      ]
     },
     "execution_count": 35,
     "metadata": {},
     "output_type": "execute_result"
    }
   ],
   "source": [
    "s"
   ]
  },
  {
   "cell_type": "code",
   "execution_count": 36,
   "id": "dfc8be71",
   "metadata": {},
   "outputs": [
    {
     "name": "stdout",
     "output_type": "stream",
     "text": [
      "0    10.0\n",
      "1     NaN\n",
      "2    30.0\n",
      "3     NaN\n",
      "4    50.0\n",
      "dtype: float64\n"
     ]
    }
   ],
   "source": [
    "s1 = pd.Series([10, None, 30, None, 50])\n",
    "print(s1)"
   ]
  },
  {
   "cell_type": "code",
   "execution_count": 37,
   "id": "951a5d3d",
   "metadata": {},
   "outputs": [
    {
     "data": {
      "text/plain": [
       "0     10.0\n",
       "1    100.0\n",
       "2     30.0\n",
       "3    100.0\n",
       "4     50.0\n",
       "dtype: float64"
      ]
     },
     "execution_count": 37,
     "metadata": {},
     "output_type": "execute_result"
    }
   ],
   "source": [
    "s1.fillna(100) # Fill with 100"
   ]
  },
  {
   "cell_type": "code",
   "execution_count": 38,
   "id": "2c805816",
   "metadata": {},
   "outputs": [
    {
     "data": {
      "text/plain": [
       "0    10.0\n",
       "1     NaN\n",
       "2    30.0\n",
       "3     NaN\n",
       "4    50.0\n",
       "dtype: float64"
      ]
     },
     "execution_count": 38,
     "metadata": {},
     "output_type": "execute_result"
    }
   ],
   "source": [
    "s1"
   ]
  },
  {
   "cell_type": "code",
   "execution_count": 39,
   "id": "2a73935f",
   "metadata": {},
   "outputs": [],
   "source": [
    "s1.fillna(100, inplace=True)"
   ]
  },
  {
   "cell_type": "code",
   "execution_count": 40,
   "id": "a35217ae",
   "metadata": {},
   "outputs": [
    {
     "data": {
      "text/plain": [
       "0     10.0\n",
       "1    100.0\n",
       "2     30.0\n",
       "3    100.0\n",
       "4     50.0\n",
       "dtype: float64"
      ]
     },
     "execution_count": 40,
     "metadata": {},
     "output_type": "execute_result"
    }
   ],
   "source": [
    "s1"
   ]
  },
  {
   "cell_type": "code",
   "execution_count": 116,
   "id": "106221ac",
   "metadata": {},
   "outputs": [
    {
     "name": "stdout",
     "output_type": "stream",
     "text": [
      "0    10.0\n",
      "1     NaN\n",
      "2    30.0\n",
      "3     NaN\n",
      "4    50.0\n",
      "dtype: float64\n"
     ]
    }
   ],
   "source": [
    "s1 = pd.Series([10, None, 30, None, 50])\n",
    "print(s1)"
   ]
  },
  {
   "cell_type": "code",
   "execution_count": 44,
   "id": "9b1eb90f",
   "metadata": {},
   "outputs": [
    {
     "name": "stderr",
     "output_type": "stream",
     "text": [
      "C:\\Users\\mahes\\AppData\\Local\\Temp\\ipykernel_10696\\4200420625.py:1: FutureWarning: Series.fillna with 'method' is deprecated and will raise in a future version. Use obj.ffill() or obj.bfill() instead.\n",
      "  s1.fillna(method='ffill') # Forward fill\n"
     ]
    },
    {
     "data": {
      "text/plain": [
       "0    10.0\n",
       "1    10.0\n",
       "2    30.0\n",
       "3    30.0\n",
       "4    50.0\n",
       "dtype: float64"
      ]
     },
     "execution_count": 44,
     "metadata": {},
     "output_type": "execute_result"
    }
   ],
   "source": [
    "s1.fillna(method='ffill') # Forward fill"
   ]
  },
  {
   "cell_type": "code",
   "execution_count": 47,
   "id": "eea2bca5",
   "metadata": {},
   "outputs": [
    {
     "data": {
      "text/plain": [
       "0    10.0\n",
       "1    10.0\n",
       "2    30.0\n",
       "3    30.0\n",
       "4    50.0\n",
       "dtype: float64"
      ]
     },
     "execution_count": 47,
     "metadata": {},
     "output_type": "execute_result"
    }
   ],
   "source": [
    "s1.ffill()"
   ]
  },
  {
   "cell_type": "code",
   "execution_count": 118,
   "id": "835e0d25",
   "metadata": {},
   "outputs": [
    {
     "data": {
      "text/plain": [
       "0    10.0\n",
       "1    30.0\n",
       "2    30.0\n",
       "3    50.0\n",
       "4    50.0\n",
       "dtype: float64"
      ]
     },
     "execution_count": 118,
     "metadata": {},
     "output_type": "execute_result"
    }
   ],
   "source": [
    "s1.bfill()"
   ]
  },
  {
   "cell_type": "markdown",
   "id": "bb23b594",
   "metadata": {},
   "source": [
    "### 7. String Operations\n",
    "- Applicable only if the Series contains strings.\n",
    "- Useful in text preprocessing, NLP, formatting\n",
    "\n",
    "\n",
    "- .str.lower()\n",
    "- .str.len()\n",
    "- .str.contains()\n",
    "- .str.replace()"
   ]
  },
  {
   "cell_type": "code",
   "execution_count": 63,
   "id": "ede77a17",
   "metadata": {},
   "outputs": [
    {
     "data": {
      "text/plain": [
       "0      alice\n",
       "1        Bob\n",
       "2    CHARLIE\n",
       "dtype: object"
      ]
     },
     "execution_count": 63,
     "metadata": {},
     "output_type": "execute_result"
    }
   ],
   "source": [
    "names = pd.Series(['alice', 'Bob', 'CHARLIE'])\n",
    "names"
   ]
  },
  {
   "cell_type": "code",
   "execution_count": 67,
   "id": "0e1d7e74",
   "metadata": {},
   "outputs": [
    {
     "data": {
      "text/plain": [
       "0      alice\n",
       "1        Bob\n",
       "2    CHARLIE\n",
       "dtype: object"
      ]
     },
     "execution_count": 67,
     "metadata": {},
     "output_type": "execute_result"
    }
   ],
   "source": [
    "names = pd.Series(['alice', 'Bob', 'CHARLIE'], dtype='unicode_')\n",
    "names"
   ]
  },
  {
   "cell_type": "code",
   "execution_count": 66,
   "id": "b188db47",
   "metadata": {},
   "outputs": [
    {
     "data": {
      "text/plain": [
       "0      b'alice'\n",
       "1        b'Bob'\n",
       "2    b'CHARLIE'\n",
       "dtype: bytes56"
      ]
     },
     "execution_count": 66,
     "metadata": {},
     "output_type": "execute_result"
    }
   ],
   "source": [
    "names1 = pd.Series(['alice', 'Bob', 'CHARLIE'], dtype='string_')\n",
    "names1"
   ]
  },
  {
   "cell_type": "code",
   "execution_count": 69,
   "id": "c648d30b",
   "metadata": {},
   "outputs": [
    {
     "data": {
      "text/plain": [
       "0      alice\n",
       "1        bob\n",
       "2    charlie\n",
       "dtype: object"
      ]
     },
     "execution_count": 69,
     "metadata": {},
     "output_type": "execute_result"
    }
   ],
   "source": [
    "names.str.lower()"
   ]
  },
  {
   "cell_type": "code",
   "execution_count": 73,
   "id": "87327c12",
   "metadata": {},
   "outputs": [
    {
     "name": "stdout",
     "output_type": "stream",
     "text": [
      "Cannot use .str.lower with values of inferred dtype 'bytes'.\n"
     ]
    }
   ],
   "source": [
    "try:\n",
    "    print(names1.str.lower())\n",
    "except Exception as e:\n",
    "    print(e)"
   ]
  },
  {
   "cell_type": "code",
   "execution_count": 74,
   "id": "d945eb7e",
   "metadata": {},
   "outputs": [
    {
     "data": {
      "text/plain": [
       "0    5\n",
       "1    3\n",
       "2    7\n",
       "dtype: int64"
      ]
     },
     "execution_count": 74,
     "metadata": {},
     "output_type": "execute_result"
    }
   ],
   "source": [
    "names.str.len()"
   ]
  },
  {
   "cell_type": "code",
   "execution_count": 75,
   "id": "374903ff",
   "metadata": {},
   "outputs": [
    {
     "data": {
      "text/plain": [
       "0     True\n",
       "1    False\n",
       "2    False\n",
       "dtype: bool"
      ]
     },
     "execution_count": 75,
     "metadata": {},
     "output_type": "execute_result"
    }
   ],
   "source": [
    "names.str.contains('a')"
   ]
  },
  {
   "cell_type": "code",
   "execution_count": 76,
   "id": "03007109",
   "metadata": {},
   "outputs": [
    {
     "data": {
      "text/plain": [
       "0      @lice\n",
       "1        Bob\n",
       "2    CHARLIE\n",
       "dtype: object"
      ]
     },
     "execution_count": 76,
     "metadata": {},
     "output_type": "execute_result"
    }
   ],
   "source": [
    "names.str.replace('a', '@')"
   ]
  },
  {
   "cell_type": "markdown",
   "id": "147e66cc",
   "metadata": {},
   "source": [
    "### 8. Value Counts and Uniqueness\n",
    "- value_counts()\n",
    "- unique()\n",
    "- nunique()"
   ]
  },
  {
   "cell_type": "code",
   "execution_count": 79,
   "id": "23488fc4",
   "metadata": {},
   "outputs": [
    {
     "data": {
      "text/plain": [
       "A    3\n",
       "B    2\n",
       "C    1\n",
       "Name: count, dtype: int64"
      ]
     },
     "execution_count": 79,
     "metadata": {},
     "output_type": "execute_result"
    }
   ],
   "source": [
    "s = pd.Series(['A', 'B', 'A', 'C', 'B', 'A'])\n",
    "\n",
    "s1 = s.value_counts()\n",
    "s1"
   ]
  },
  {
   "cell_type": "code",
   "execution_count": null,
   "id": "af745970",
   "metadata": {},
   "outputs": [],
   "source": [
    "# A B C acts as index \n",
    "# 3 2 1 acts as original data in series"
   ]
  },
  {
   "cell_type": "code",
   "execution_count": 83,
   "id": "1c7907d3",
   "metadata": {},
   "outputs": [
    {
     "name": "stdout",
     "output_type": "stream",
     "text": [
      "<class 'pandas.core.series.Series'>\n",
      "int64\n",
      "Index(['A', 'B', 'C'], dtype='object')\n",
      "[3 2 1]\n"
     ]
    }
   ],
   "source": [
    "print(type(s1))\n",
    "print(s1.dtype)\n",
    "print(s1.index)\n",
    "print(s1.values)"
   ]
  },
  {
   "cell_type": "code",
   "execution_count": 86,
   "id": "174a81bb",
   "metadata": {},
   "outputs": [
    {
     "name": "stdout",
     "output_type": "stream",
     "text": [
      "['A' 'B' 'C']\n",
      "3\n"
     ]
    }
   ],
   "source": [
    "print(s.unique())\n",
    "print(s1.nunique())"
   ]
  },
  {
   "cell_type": "markdown",
   "id": "35662ef4",
   "metadata": {},
   "source": [
    "### 9. Sorting Series\n",
    "- sort_values() - By values\n",
    "- sort_index()  - By index"
   ]
  },
  {
   "cell_type": "code",
   "execution_count": 88,
   "id": "5f748f74",
   "metadata": {},
   "outputs": [
    {
     "name": "stdout",
     "output_type": "stream",
     "text": [
      "0    A\n",
      "1    B\n",
      "2    A\n",
      "3    C\n",
      "4    B\n",
      "5    A\n",
      "dtype: object\n"
     ]
    }
   ],
   "source": [
    "print(s)"
   ]
  },
  {
   "cell_type": "code",
   "execution_count": 92,
   "id": "a61362b6",
   "metadata": {},
   "outputs": [
    {
     "name": "stdout",
     "output_type": "stream",
     "text": [
      "0    A\n",
      "2    A\n",
      "5    A\n",
      "1    B\n",
      "4    B\n",
      "3    C\n",
      "dtype: object\n",
      "3    C\n",
      "1    B\n",
      "4    B\n",
      "0    A\n",
      "2    A\n",
      "5    A\n",
      "dtype: object\n",
      "0    A\n",
      "1    B\n",
      "2    A\n",
      "3    C\n",
      "4    B\n",
      "5    A\n",
      "dtype: object\n",
      "5    A\n",
      "4    B\n",
      "3    C\n",
      "2    A\n",
      "1    B\n",
      "0    A\n",
      "dtype: object\n"
     ]
    }
   ],
   "source": [
    "print(s.sort_values())\n",
    "print(s.sort_values(ascending=False))\n",
    "print(s.sort_index())\n",
    "print(s.sort_index(ascending=False))"
   ]
  },
  {
   "cell_type": "markdown",
   "id": "a812bca3",
   "metadata": {},
   "source": [
    "### 10. Mapping and Applying Functions\n",
    "- map()\n",
    "- apply()"
   ]
  },
  {
   "cell_type": "code",
   "execution_count": 94,
   "id": "a943a66b",
   "metadata": {},
   "outputs": [
    {
     "data": {
      "text/plain": [
       "0    1\n",
       "1    4\n",
       "2    9\n",
       "dtype: int64"
      ]
     },
     "execution_count": 94,
     "metadata": {},
     "output_type": "execute_result"
    }
   ],
   "source": [
    "s = pd.Series([1, 2, 3])\n",
    "s.map(lambda x: x**2)"
   ]
  },
  {
   "cell_type": "code",
   "execution_count": 95,
   "id": "8100137e",
   "metadata": {},
   "outputs": [
    {
     "data": {
      "text/plain": [
       "0    11\n",
       "1    12\n",
       "2    13\n",
       "dtype: int64"
      ]
     },
     "execution_count": 95,
     "metadata": {},
     "output_type": "execute_result"
    }
   ],
   "source": [
    "s.apply(lambda x: x + 10)"
   ]
  },
  {
   "cell_type": "markdown",
   "id": "7b82b5e3",
   "metadata": {},
   "source": [
    "### 11. Combining and Appending Series\n",
    "Append (old way, deprecated in future versions):\n",
    "\n",
    "- concat()"
   ]
  },
  {
   "cell_type": "code",
   "execution_count": 101,
   "id": "55a63b0c",
   "metadata": {},
   "outputs": [
    {
     "name": "stdout",
     "output_type": "stream",
     "text": [
      "0    10\n",
      "1    20\n",
      "0    30\n",
      "1    40\n",
      "dtype: int64\n",
      "0    30\n",
      "1    40\n",
      "0    10\n",
      "1    20\n",
      "dtype: int64\n"
     ]
    }
   ],
   "source": [
    "s1 = pd.Series([10, 20])\n",
    "s2 = pd.Series([30, 40])\n",
    "\n",
    "print(pd.concat([s1, s2]))\n",
    "print(pd.concat([s2, s1]))"
   ]
  },
  {
   "cell_type": "markdown",
   "id": "d6d4b61c",
   "metadata": {},
   "source": [
    "### 12. 🧰 Other Useful Operations\n",
    "\n",
    "| Operation         | Syntax                       | Description            |\n",
    "| ----------------- | ---------------------------- | ---------------------- |\n",
    "| Rename Series     | `s.rename(\"New Name\")`       | Assign a name          |\n",
    "| Convert to list   | `s.tolist()`                 | Convert to Python list |\n",
    "| Check dtype       | `s.dtype`                    | Data type              |\n",
    "| Convert dtype     | `s.astype(float)`            | Change type            |\n",
    "| Clip values       | `s.clip(lower=20, upper=40)` | Truncate values        |\n",
    "| Between condition | `s[s.between(20, 30)]`       | Range filtering        |\n",
    "| Rank              | `s.rank()`                   | Rank values            |\n",
    "| Cumulative sum    | `s.cumsum()`                 | Running total          |"
   ]
  },
  {
   "cell_type": "code",
   "execution_count": 106,
   "id": "d3fc0fff",
   "metadata": {},
   "outputs": [
    {
     "data": {
      "text/plain": [
       "0    20\n",
       "1    20\n",
       "2    30\n",
       "3    40\n",
       "4    40\n",
       "dtype: int64"
      ]
     },
     "execution_count": 106,
     "metadata": {},
     "output_type": "execute_result"
    }
   ],
   "source": [
    "s = pd.Series([10, 20, 30, 40, 50])\n",
    "s.clip(lower=20, upper=40)"
   ]
  },
  {
   "cell_type": "code",
   "execution_count": 107,
   "id": "ea42ac7d",
   "metadata": {},
   "outputs": [
    {
     "data": {
      "text/plain": [
       "0    False\n",
       "1     True\n",
       "2     True\n",
       "3     True\n",
       "4    False\n",
       "dtype: bool"
      ]
     },
     "execution_count": 107,
     "metadata": {},
     "output_type": "execute_result"
    }
   ],
   "source": [
    "s.between(20, 40)"
   ]
  },
  {
   "cell_type": "code",
   "execution_count": 108,
   "id": "88f82cc2",
   "metadata": {},
   "outputs": [
    {
     "data": {
      "text/plain": [
       "1    20\n",
       "2    30\n",
       "3    40\n",
       "dtype: int64"
      ]
     },
     "execution_count": 108,
     "metadata": {},
     "output_type": "execute_result"
    }
   ],
   "source": [
    "s[s.between(20, 40)]"
   ]
  },
  {
   "cell_type": "code",
   "execution_count": 109,
   "id": "06fa937b",
   "metadata": {},
   "outputs": [
    {
     "data": {
      "text/plain": [
       "0    1.0\n",
       "1    2.0\n",
       "2    3.0\n",
       "3    4.0\n",
       "4    5.0\n",
       "dtype: float64"
      ]
     },
     "execution_count": 109,
     "metadata": {},
     "output_type": "execute_result"
    }
   ],
   "source": [
    "s.rank()"
   ]
  },
  {
   "cell_type": "code",
   "execution_count": 110,
   "id": "50415533",
   "metadata": {},
   "outputs": [
    {
     "data": {
      "text/plain": [
       "0     10\n",
       "1     30\n",
       "2     60\n",
       "3    100\n",
       "4    150\n",
       "dtype: int64"
      ]
     },
     "execution_count": 110,
     "metadata": {},
     "output_type": "execute_result"
    }
   ],
   "source": [
    "s.cumsum()"
   ]
  },
  {
   "cell_type": "markdown",
   "id": "09385a02",
   "metadata": {},
   "source": [
    "### Summary Table\n",
    "\n",
    "| Category        | Examples                                 |\n",
    "| --------------- | ---------------------------------------- |\n",
    "| Access          | `s[0]`, `s['a']`, `s[1:3]`               |\n",
    "| Filter          | `s[s > 10]`, `s[s.isnull()]`             |\n",
    "| Math/Stats      | `mean()`, `std()`, `sum()`, `describe()` |\n",
    "| Missing data    | `isnull()`, `dropna()`, `fillna()`       |\n",
    "| Strings         | `str.lower()`, `str.contains()`          |\n",
    "| Unique values   | `unique()`, `value_counts()`             |\n",
    "| Sort and rank   | `sort_values()`, `rank()`                |\n",
    "| Apply functions | `map()`, `apply()`                       |\n",
    "| Combine         | `s1 + s2`, `concat()`                    |\n"
   ]
  },
  {
   "cell_type": "markdown",
   "id": "f3842145",
   "metadata": {},
   "source": [
    "<center><b>Thanks</b></center>"
   ]
  }
 ],
 "metadata": {
  "kernelspec": {
   "display_name": "Python 3",
   "language": "python",
   "name": "python3"
  },
  "language_info": {
   "codemirror_mode": {
    "name": "ipython",
    "version": 3
   },
   "file_extension": ".py",
   "mimetype": "text/x-python",
   "name": "python",
   "nbconvert_exporter": "python",
   "pygments_lexer": "ipython3",
   "version": "3.10.2"
  }
 },
 "nbformat": 4,
 "nbformat_minor": 5
}
