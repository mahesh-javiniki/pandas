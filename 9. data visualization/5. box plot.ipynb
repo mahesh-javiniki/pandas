{
 "cells": [
  {
   "cell_type": "markdown",
   "id": "81f66adc",
   "metadata": {},
   "source": [
    "# **9. Data Visualization (with Pandas)**"
   ]
  },
  {
   "cell_type": "markdown",
   "id": "316eb6a9",
   "metadata": {},
   "source": [
    "## **🟦 5. Box Plot (Box-and-Whisker)**"
   ]
  },
  {
   "cell_type": "code",
   "execution_count": 1,
   "id": "8d5b2328",
   "metadata": {},
   "outputs": [],
   "source": [
    "import pandas as pd \n",
    "import numpy as np \n",
    "import matplotlib.pyplot as plt"
   ]
  },
  {
   "cell_type": "markdown",
   "id": "5f9156ad",
   "metadata": {},
   "source": [
    "## ✅ 1. What It Does and When to Use\n",
    "\n",
    "### 📌 What:\n",
    "\n",
    "A **Box Plot** (or **Box-and-Whisker Plot**) summarizes the distribution of a numerical dataset using **five-number summary statistics**:\n",
    "\n",
    "* **Minimum**\n",
    "* **First Quartile (Q1)**\n",
    "* **Median (Q2)**\n",
    "* **Third Quartile (Q3)**\n",
    "* **Maximum**\n",
    "\n",
    "It also helps detect **outliers**.\n",
    "\n",
    "### 🕒 When to Use:\n",
    "\n",
    "* To **compare distributions** across different groups\n",
    "* To **identify skewness**, central tendency, and spread\n",
    "* To detect **outliers or unusual observations**\n",
    "* In **exploratory data analysis (EDA)** for numerical columns"
   ]
  },
  {
   "cell_type": "markdown",
   "id": "51d040c1",
   "metadata": {},
   "source": [
    "## ✅ 2. Syntax and Core Parameters\n",
    "\n",
    "```python\n",
    "df.plot(kind='box', **kwargs)\n",
    "```\n",
    "\n",
    "### 🔑 Core Parameters:\n",
    "\n",
    "| Parameter      | Description                                              |\n",
    "| -------------- | -------------------------------------------------------- |\n",
    "| `column`       | List of columns to plot                                  |\n",
    "| `by`           | Group data by a specific column                          |\n",
    "| `figsize`      | Tuple to specify figure size                             |\n",
    "| `grid`         | Show gridlines or not (default = True)                   |\n",
    "| `vert`         | Vertical boxes if True (default = True)                  |\n",
    "| `patch_artist` | Fill the box with color (default = False)                |\n",
    "| `return_type`  | What kind of object to return (`'axes'`, `'dict'`, etc.) |\n",
    "| `fontsize`     | Font size of tick labels                                 |\n"
   ]
  },
  {
   "cell_type": "markdown",
   "id": "5f003cef",
   "metadata": {},
   "source": [
    "## ✅ 3. Techniques and Variations\n",
    "\n",
    "| Technique                  | Description                                     |\n",
    "| -------------------------- | ----------------------------------------------- |\n",
    "| 📦 Basic Box Plot          | Plotting all numerical columns                  |\n",
    "| 🔁 Grouped Box Plot        | Use `by` to group by a categorical column       |\n",
    "| 🎨 Colored Box Plot        | Use `patch_artist=True` to color boxes          |\n",
    "| 📐 Horizontal Box Plot     | Set `vert=False`                                |\n",
    "| 📊 Select Specific Columns | Use `column=[...]` to include only some columns |\n"
   ]
  },
  {
   "cell_type": "markdown",
   "id": "c3a0599b",
   "metadata": {},
   "source": [
    "## ✅ 4. Examples with Data"
   ]
  },
  {
   "cell_type": "code",
   "execution_count": 2,
   "id": "f715c1df",
   "metadata": {},
   "outputs": [
    {
     "data": {
      "text/html": [
       "<div>\n",
       "<style scoped>\n",
       "    .dataframe tbody tr th:only-of-type {\n",
       "        vertical-align: middle;\n",
       "    }\n",
       "\n",
       "    .dataframe tbody tr th {\n",
       "        vertical-align: top;\n",
       "    }\n",
       "\n",
       "    .dataframe thead th {\n",
       "        text-align: right;\n",
       "    }\n",
       "</style>\n",
       "<table border=\"1\" class=\"dataframe\">\n",
       "  <thead>\n",
       "    <tr style=\"text-align: right;\">\n",
       "      <th></th>\n",
       "      <th>Math</th>\n",
       "      <th>Science</th>\n",
       "      <th>English</th>\n",
       "      <th>Class</th>\n",
       "    </tr>\n",
       "  </thead>\n",
       "  <tbody>\n",
       "    <tr>\n",
       "      <th>0</th>\n",
       "      <td>92.640523</td>\n",
       "      <td>98.247260</td>\n",
       "      <td>60.569818</td>\n",
       "      <td>A</td>\n",
       "    </tr>\n",
       "    <tr>\n",
       "      <th>1</th>\n",
       "      <td>79.001572</td>\n",
       "      <td>49.783614</td>\n",
       "      <td>62.127450</td>\n",
       "      <td>A</td>\n",
       "    </tr>\n",
       "    <tr>\n",
       "      <th>2</th>\n",
       "      <td>84.787380</td>\n",
       "      <td>50.942725</td>\n",
       "      <td>78.195915</td>\n",
       "      <td>B</td>\n",
       "    </tr>\n",
       "    <tr>\n",
       "      <th>3</th>\n",
       "      <td>97.408932</td>\n",
       "      <td>84.540951</td>\n",
       "      <td>72.863165</td>\n",
       "      <td>B</td>\n",
       "    </tr>\n",
       "    <tr>\n",
       "      <th>4</th>\n",
       "      <td>93.675580</td>\n",
       "      <td>52.403149</td>\n",
       "      <td>72.681578</td>\n",
       "      <td>A</td>\n",
       "    </tr>\n",
       "    <tr>\n",
       "      <th>...</th>\n",
       "      <td>...</td>\n",
       "      <td>...</td>\n",
       "      <td>...</td>\n",
       "      <td>...</td>\n",
       "    </tr>\n",
       "    <tr>\n",
       "      <th>95</th>\n",
       "      <td>82.065732</td>\n",
       "      <td>67.426805</td>\n",
       "      <td>78.642696</td>\n",
       "      <td>A</td>\n",
       "    </tr>\n",
       "    <tr>\n",
       "      <th>96</th>\n",
       "      <td>75.105000</td>\n",
       "      <td>81.576858</td>\n",
       "      <td>66.172700</td>\n",
       "      <td>B</td>\n",
       "    </tr>\n",
       "    <tr>\n",
       "      <th>97</th>\n",
       "      <td>92.858705</td>\n",
       "      <td>82.352562</td>\n",
       "      <td>71.995444</td>\n",
       "      <td>B</td>\n",
       "    </tr>\n",
       "    <tr>\n",
       "      <th>98</th>\n",
       "      <td>76.269121</td>\n",
       "      <td>102.448539</td>\n",
       "      <td>60.206612</td>\n",
       "      <td>B</td>\n",
       "    </tr>\n",
       "    <tr>\n",
       "      <th>99</th>\n",
       "      <td>79.019894</td>\n",
       "      <td>90.047919</td>\n",
       "      <td>69.440671</td>\n",
       "      <td>B</td>\n",
       "    </tr>\n",
       "  </tbody>\n",
       "</table>\n",
       "<p>100 rows × 4 columns</p>\n",
       "</div>"
      ],
      "text/plain": [
       "         Math     Science    English Class\n",
       "0   92.640523   98.247260  60.569818     A\n",
       "1   79.001572   49.783614  62.127450     A\n",
       "2   84.787380   50.942725  78.195915     B\n",
       "3   97.408932   84.540951  72.863165     B\n",
       "4   93.675580   52.403149  72.681578     A\n",
       "..        ...         ...        ...   ...\n",
       "95  82.065732   67.426805  78.642696     A\n",
       "96  75.105000   81.576858  66.172700     B\n",
       "97  92.858705   82.352562  71.995444     B\n",
       "98  76.269121  102.448539  60.206612     B\n",
       "99  79.019894   90.047919  69.440671     B\n",
       "\n",
       "[100 rows x 4 columns]"
      ]
     },
     "execution_count": 2,
     "metadata": {},
     "output_type": "execute_result"
    }
   ],
   "source": [
    "np.random.seed(0)\n",
    "df = pd.DataFrame({\n",
    "    'Math': np.random.normal(75, 10, 100),\n",
    "    'Science': np.random.normal(70, 15, 100),\n",
    "    'English': np.random.normal(65, 12, 100),\n",
    "    'Class': np.random.choice(['A', 'B'], size=100)\n",
    "})\n",
    "\n",
    "df"
   ]
  },
  {
   "cell_type": "markdown",
   "id": "9b8e30bd",
   "metadata": {},
   "source": [
    "### 📦 Basic Box Plot (All Numerical Columns)"
   ]
  },
  {
   "cell_type": "code",
   "execution_count": 3,
   "id": "80de6761",
   "metadata": {},
   "outputs": [
    {
     "data": {
      "image/png": "[encoded data removed]",
      "text/plain": [
       "<Figure size 800x600 with 1 Axes>"
      ]
     },
     "metadata": {},
     "output_type": "display_data"
    }
   ],
   "source": [
    "df.plot(kind='box', figsize=(8, 6), grid=True)\n",
    "plt.title(\"Basic Box Plot for All Subjects\")\n",
    "plt.show()"
   ]
  },
  {
   "cell_type": "markdown",
   "id": "fcc70ce0",
   "metadata": {},
   "source": [
    "✅ Useful to compare distributions and detect outliers across columns."
   ]
  },
  {
   "cell_type": "markdown",
   "id": "dee65219",
   "metadata": {},
   "source": [
    "### 🔁 Grouped Box Plot by a Categorical Column"
   ]
  },
  {
   "cell_type": "code",
   "execution_count": 4,
   "id": "556b965d",
   "metadata": {},
   "outputs": [
    {
     "data": {
      "image/png": "[encoded data removed]",
      "text/plain": [
       "<Figure size 1000x600 with 4 Axes>"
      ]
     },
     "metadata": {},
     "output_type": "display_data"
    }
   ],
   "source": [
    "df.boxplot(column=['Math', 'Science', 'English'], by='Class', figsize=(10, 6))\n",
    "plt.suptitle(\"\")  # Removes automatic title\n",
    "plt.title(\"Subject Scores by Class\")\n",
    "plt.xlabel(\"Class\")\n",
    "plt.ylabel(\"Scores\")\n",
    "plt.show()"
   ]
  },
  {
   "cell_type": "markdown",
   "id": "441c2e9e",
   "metadata": {},
   "source": [
    "✅ Helps compare distributions of subjects between **Class A and B**."
   ]
  },
  {
   "cell_type": "markdown",
   "id": "f278d642",
   "metadata": {},
   "source": [
    "### 📐 Horizontal Box Plot"
   ]
  },
  {
   "cell_type": "code",
   "execution_count": 5,
   "id": "c05c4792",
   "metadata": {},
   "outputs": [
    {
     "data": {
      "image/png": "[encoded data removed]",
      "text/plain": [
       "<Figure size 800x600 with 1 Axes>"
      ]
     },
     "metadata": {},
     "output_type": "display_data"
    }
   ],
   "source": [
    "df.plot(kind='box', vert=False, figsize=(8, 6))\n",
    "plt.title(\"Horizontal Box Plot\")\n",
    "plt.show()"
   ]
  },
  {
   "cell_type": "markdown",
   "id": "6347a2eb",
   "metadata": {},
   "source": [
    "✅ Useful when you have long column names or want a different view."
   ]
  },
  {
   "cell_type": "markdown",
   "id": "380b9880",
   "metadata": {},
   "source": [
    "### 🎨 Colored Box Plot (Patch Artist)"
   ]
  },
  {
   "cell_type": "code",
   "execution_count": 6,
   "id": "5efc673e",
   "metadata": {},
   "outputs": [
    {
     "data": {
      "image/png": "[encoded data removed]",
      "text/plain": [
       "<Figure size 800x600 with 1 Axes>"
      ]
     },
     "metadata": {},
     "output_type": "display_data"
    }
   ],
   "source": [
    "box = df.plot(kind='box', patch_artist=True, figsize=(8, 6))\n",
    "colors = ['#FF9999', '#99FF99', '#9999FF']\n",
    "for patch, color in zip(box.artists, colors):\n",
    "    patch.set_facecolor(color)\n",
    "plt.title(\"Colored Box Plot\")\n",
    "plt.show()"
   ]
  },
  {
   "cell_type": "markdown",
   "id": "c4fbece6",
   "metadata": {},
   "source": [
    "✅ Makes the visualization more appealing and distinguishable."
   ]
  },
  {
   "cell_type": "markdown",
   "id": "1d116c76",
   "metadata": {},
   "source": [
    "## ✅ 5. Common Pitfalls\n",
    "\n",
    "| Pitfall                          | Tip                                               |\n",
    "| -------------------------------- | ------------------------------------------------- |\n",
    "| 🧪 Including non-numeric columns | Will raise error or be ignored                    |\n",
    "| 📉 Misinterpreting outliers      | Outliers are not always bad — investigate context |\n",
    "| 📊 Not using `by` for groups     | You'll miss comparison insights                   |\n",
    "| 🎯 Too many columns              | Plot becomes cluttered — filter relevant ones     |\n",
    "| 🔄 Forgetting `plt.suptitle(\"\")` | Can lead to redundant titles in grouped plots     |\n"
   ]
  },
  {
   "cell_type": "markdown",
   "id": "3db97689",
   "metadata": {},
   "source": [
    "## ✅ 6. Real-World Examples and Use Cases\n",
    "\n",
    "| Use Case                   | Description                                                  |\n",
    "| -------------------------- | ------------------------------------------------------------ |\n",
    "| 🎓 **Student Performance** | Compare test score distributions by subject or classroom     |\n",
    "| 🏥 **Medical Research**    | Compare cholesterol levels between smokers and non-smokers   |\n",
    "| 🏢 **HR Analytics**        | Compare salary distributions across departments              |\n",
    "| 🏦 **Finance**             | Compare quarterly returns of different investment portfolios |\n",
    "| 🧪 **Manufacturing**       | Compare defect rates across different factories or machines  |\n",
    "\n",
    "### ✅ Example: HR Salary Distribution by Department"
   ]
  },
  {
   "cell_type": "code",
   "execution_count": 7,
   "id": "d4716bdf",
   "metadata": {},
   "outputs": [
    {
     "data": {
      "text/html": [
       "<div>\n",
       "<style scoped>\n",
       "    .dataframe tbody tr th:only-of-type {\n",
       "        vertical-align: middle;\n",
       "    }\n",
       "\n",
       "    .dataframe tbody tr th {\n",
       "        vertical-align: top;\n",
       "    }\n",
       "\n",
       "    .dataframe thead th {\n",
       "        text-align: right;\n",
       "    }\n",
       "</style>\n",
       "<table border=\"1\" class=\"dataframe\">\n",
       "  <thead>\n",
       "    <tr style=\"text-align: right;\">\n",
       "      <th></th>\n",
       "      <th>Salary</th>\n",
       "      <th>Department</th>\n",
       "    </tr>\n",
       "  </thead>\n",
       "  <tbody>\n",
       "    <tr>\n",
       "      <th>0</th>\n",
       "      <td>54527.912818</td>\n",
       "      <td>IT</td>\n",
       "    </tr>\n",
       "    <tr>\n",
       "      <th>1</th>\n",
       "      <td>73276.406370</td>\n",
       "      <td>HR</td>\n",
       "    </tr>\n",
       "    <tr>\n",
       "      <th>2</th>\n",
       "      <td>68548.075195</td>\n",
       "      <td>IT</td>\n",
       "    </tr>\n",
       "    <tr>\n",
       "      <th>3</th>\n",
       "      <td>56372.913569</td>\n",
       "      <td>HR</td>\n",
       "    </tr>\n",
       "    <tr>\n",
       "      <th>4</th>\n",
       "      <td>54497.299112</td>\n",
       "      <td>HR</td>\n",
       "    </tr>\n",
       "    <tr>\n",
       "      <th>...</th>\n",
       "      <td>...</td>\n",
       "      <td>...</td>\n",
       "    </tr>\n",
       "    <tr>\n",
       "      <th>295</th>\n",
       "      <td>57038.060474</td>\n",
       "      <td>IT</td>\n",
       "    </tr>\n",
       "    <tr>\n",
       "      <th>296</th>\n",
       "      <td>56369.567672</td>\n",
       "      <td>IT</td>\n",
       "    </tr>\n",
       "    <tr>\n",
       "      <th>297</th>\n",
       "      <td>63226.116321</td>\n",
       "      <td>HR</td>\n",
       "    </tr>\n",
       "    <tr>\n",
       "      <th>298</th>\n",
       "      <td>52655.961841</td>\n",
       "      <td>HR</td>\n",
       "    </tr>\n",
       "    <tr>\n",
       "      <th>299</th>\n",
       "      <td>62019.973017</td>\n",
       "      <td>IT</td>\n",
       "    </tr>\n",
       "  </tbody>\n",
       "</table>\n",
       "<p>300 rows × 2 columns</p>\n",
       "</div>"
      ],
      "text/plain": [
       "           Salary Department\n",
       "0    54527.912818         IT\n",
       "1    73276.406370         HR\n",
       "2    68548.075195         IT\n",
       "3    56372.913569         HR\n",
       "4    54497.299112         HR\n",
       "..            ...        ...\n",
       "295  57038.060474         IT\n",
       "296  56369.567672         IT\n",
       "297  63226.116321         HR\n",
       "298  52655.961841         HR\n",
       "299  62019.973017         IT\n",
       "\n",
       "[300 rows x 2 columns]"
      ]
     },
     "execution_count": 7,
     "metadata": {},
     "output_type": "execute_result"
    }
   ],
   "source": [
    "df_hr = pd.DataFrame({\n",
    "    'Salary': np.random.normal(60000, 8000, 300),\n",
    "    'Department': np.random.choice(['IT', 'HR', 'Sales'], size=300)\n",
    "})\n",
    "\n",
    "df_hr"
   ]
  },
  {
   "cell_type": "code",
   "execution_count": 8,
   "id": "62dc2343",
   "metadata": {},
   "outputs": [
    {
     "data": {
      "image/png": "[encoded data removed]",
      "text/plain": [
       "<Figure size 800x600 with 1 Axes>"
      ]
     },
     "metadata": {},
     "output_type": "display_data"
    }
   ],
   "source": [
    "df_hr.boxplot(column='Salary', by='Department', figsize=(8,6))\n",
    "plt.title(\"Salary Distribution by Department\")\n",
    "plt.suptitle(\"\")\n",
    "plt.xlabel(\"Department\")\n",
    "plt.ylabel(\"Salary\")\n",
    "plt.show()"
   ]
  },
  {
   "cell_type": "markdown",
   "id": "fc3d3f8e",
   "metadata": {},
   "source": [
    "## ✅ Summary\n",
    "\n",
    "| ✅ You Learned                           | ✅ Example                     |\n",
    "| --------------------------------------- | ----------------------------- |\n",
    "| Plotting distributions with boxplots    | `df.plot(kind='box')`         |\n",
    "| Comparing by category using `by`        | `df.boxplot(by='Class')`      |\n",
    "| Coloring boxes with `patch_artist`      | For better visuals            |\n",
    "| Reading insights: IQR, median, outliers | Analyze data quality & spread |\n"
   ]
  },
  {
   "cell_type": "markdown",
   "id": "64a11b7f",
   "metadata": {},
   "source": [
    "<center><b>Thanks</b></center>"
   ]
  }
 ],
 "metadata": {
  "kernelspec": {
   "display_name": "venv",
   "language": "python",
   "name": "python3"
  },
  "language_info": {
   "codemirror_mode": {
    "name": "ipython",
    "version": 3
   },
   "file_extension": ".py",
   "mimetype": "text/x-python",
   "name": "python",
   "nbconvert_exporter": "python",
   "pygments_lexer": "ipython3",
   "version": "3.10.2"
  }
 },
 "nbformat": 4,
 "nbformat_minor": 5
}
